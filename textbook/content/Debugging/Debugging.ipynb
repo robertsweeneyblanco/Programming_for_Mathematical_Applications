{
 "cells": [
  {
   "cell_type": "markdown",
   "metadata": {},
   "source": [
    "# Debugging: Finding and Fixing Errors"
   ]
  },
  {
   "cell_type": "markdown",
   "metadata": {},
   "source": [
    "A crucial skill you've hopefully started developing is **debugging**. Simply put, it's the process of finding and fixing errors until your code works as expected. In practice, debugging can sometimes feel like you're a detective in a crime movie where you are also the one who caused the problem.\n",
    "\n",
    "There are three main types of errors you'll encounter:\n",
    "\n",
    "* **Syntax Errors:** The code violates the rules of the language (e.g., a typo or a missing parenthesis).\n",
    "* **Runtime Errors:** The code is syntactically correct but fails during execution (e.g., trying to divide by zero or accessing an out-of-bounds array index).\n",
    "* **Semantic Errors:** The code runs without crashing but produces the wrong result. These are often the trickiest, as the computer doesn't know your code isn't doing what you *intended*.\n",
    " \n",
    "Let's explore each of these with some examples."
   ]
  },
  {
   "cell_type": "markdown",
   "metadata": {},
   "source": [
    "## Syntax Errors\n",
    "Syntax errors are fundamental mistakes that prevent the Julia interpreter from understanding your code. Think of them as grammatical errors in a sentence; if the grammar is wrong, the meaning is lost.\n",
    "\n",
    "They are often caused by simple typos and are usually the easiest to fix. As you gain more experience, you'll make fewer of them, but they never disappear entirely! A good practice to minimize and isolate these errors is **modular programming**. In this course, that means writing small, focused functions that each accomplish a single task, often in separate notebook cells. This makes it much easier to pinpoint where an error is coming from.\n",
    "\n",
    "Let's look at a few common syntax errors."
   ]
  },
  {
   "cell_type": "code",
   "execution_count": 1,
   "metadata": {},
   "outputs": [
    {
     "ename": "LoadError",
     "evalue": "UndefVarError: `fnction` not defined in `Main`\nSuggestion: check for spelling errors or missing imports.",
     "output_type": "error",
     "traceback": [
      "UndefVarError: `fnction` not defined in `Main`\nSuggestion: check for spelling errors or missing imports.",
      ""
     ]
    }
   ],
   "source": [
    "# This function is intended to find the square root of a number,\n",
    "# but the keyword `function` is misspelled.\n",
    "fnction mySqrt(a)\n",
    "    return sqrt(a)\n",
    "end"
   ]
  },
  {
   "cell_type": "markdown",
   "metadata": {},
   "source": [
    "The error message tells us that Julia didn't recognize `fnction` as a keyword. This is a strong clue that the keyword `function` was misspelled."
   ]
  },
  {
   "cell_type": "code",
   "execution_count": 2,
   "metadata": {},
   "outputs": [
    {
     "ename": "LoadError",
     "evalue": "ParseError:\n\u001b[90m# Error @ \u001b[0;0m\u001b]8;;file:///home/persson/Programming_for_Mathematical_Applications/textbook/content/Debugging/In[2]#7:5\u001b\\\u001b[90mIn[2]:7:5\u001b[0;0m\u001b]8;;\u001b\\\n        var += sqrt(2*pi*i)*(((i-1)+(i+2))/((n+5)*(5*i))\n    \u001b[48;2;120;70;70m\u001b[0;0mend\n\u001b[90m#   └ ── \u001b[0;0m\u001b[91mExpected `)`\u001b[0;0m",
     "output_type": "error",
     "traceback": [
      "ParseError:\n\u001b[90m# Error @ \u001b[0;0m\u001b]8;;file:///home/persson/Programming_for_Mathematical_Applications/textbook/content/Debugging/In[2]#7:5\u001b\\\u001b[90mIn[2]:7:5\u001b[0;0m\u001b]8;;\u001b\\\n        var += sqrt(2*pi*i)*(((i-1)+(i+2))/((n+5)*(5*i))\n    \u001b[48;2;120;70;70m\u001b[0;0mend\n\u001b[90m#   └ ── \u001b[0;0m\u001b[91mExpected `)`\u001b[0;0m",
      "",
      "Stacktrace:",
      " [1] top-level scope",
      "\u001b[90m   @\u001b[39m \u001b[90m\u001b[4mIn[2]:7\u001b[24m\u001b[39m"
     ]
    }
   ],
   "source": [
    "# This function performs a calculation inside a loop.\n",
    "# Notice the complex mathematical expression on line 4.\n",
    "function lots_of_math(n)\n",
    "    var = 0\n",
    "    for i = 1:n\n",
    "        var += sqrt(2*pi*i)*(((i-1)+(i+2))/((n+5)*(5*i))\n",
    "    end\n",
    "    return var\n",
    "end"
   ]
  },
  {
   "cell_type": "markdown",
   "metadata": {},
   "source": [
    "Mismatched parentheses are another very common syntax error, especially in complex mathematical formulas. The **stacktrace** points to line 7 (`In[2]:7`), but the actual mistake is in the long expression on line 6.\n",
    "\n",
    "Here's a handy trick for finding the missing parenthesis. Scan the expression from left to right, keeping a running count. Start at 0, add 1 for every `(`, and subtract 1 for every `)`. The final count should be 0.\n",
    "\n",
    "```julia\n",
    "# Expression: sqrt(2*pi*i)*(((i-1)+(i+2))/((n+5)*(5*i))\n",
    "# Count:          1      0 123   2 3   21 23   2 3   21\n",
    "```\n",
    "The count ends at 1, which confirms we're missing a closing parenthesis. The right position to put this `)` is in the numerator to bring the count back to 0 before the division `/`."
   ]
  },
  {
   "cell_type": "code",
   "execution_count": 3,
   "metadata": {},
   "outputs": [
    {
     "ename": "LoadError",
     "evalue": "ParseError:\n\u001b[90m# Error @ \u001b[0;0m\u001b]8;;file:///home/persson/Programming_for_Mathematical_Applications/textbook/content/Debugging/In[3]#6:5\u001b\\\u001b[90mIn[3]:6:5\u001b[0;0m\u001b]8;;\u001b\\\n    var1\n    \u001b[48;2;120;70;70m=\u001b[0;0m sqrt(2*pi*i)*(((i-1)+(i+2))/((i+5)*(5*i)))\n\u001b[90m#   ╙ ── \u001b[0;0m\u001b[91munexpected `=`\u001b[0;0m",
     "output_type": "error",
     "traceback": [
      "ParseError:\n\u001b[90m# Error @ \u001b[0;0m\u001b]8;;file:///home/persson/Programming_for_Mathematical_Applications/textbook/content/Debugging/In[3]#6:5\u001b\\\u001b[90mIn[3]:6:5\u001b[0;0m\u001b]8;;\u001b\\\n    var1\n    \u001b[48;2;120;70;70m=\u001b[0;0m sqrt(2*pi*i)*(((i-1)+(i+2))/((i+5)*(5*i)))\n\u001b[90m#   ╙ ── \u001b[0;0m\u001b[91munexpected `=`\u001b[0;0m",
      "",
      "Stacktrace:",
      " [1] top-level scope",
      "\u001b[90m   @\u001b[39m \u001b[90m\u001b[4mIn[3]:6\u001b[24m\u001b[39m"
     ]
    }
   ],
   "source": [
    "# This function demonstrates valid and invalid ways to break long lines of code.\n",
    "function more_math()\n",
    "    i = 10\n",
    "    # This assignment is split across two lines incorrectly.\n",
    "    var1\n",
    "    = sqrt(2*pi*i)*(((i-1)+(i+2))/((i+5)*(5*i)))\n",
    "    println(var1)\n",
    "    \n",
    "    i = 20\n",
    "    # This is the correct way to break a line after an operator.\n",
    "    var2 = \n",
    "    sqrt(2*pi*i)*(((i-1)+(i+2))/\n",
    "        ((i+5)*(5*i)))\n",
    "    println(var2)\n",
    "end"
   ]
  },
  {
   "cell_type": "markdown",
   "metadata": {},
   "source": [
    "Julia doesn't expect a line of code to start with an equals sign `=` in this context, so it throws an error. The fix is to combine lines 3 and 4. However, notice that Julia *does* allow you to break a line right after an operator like `=`, as shown correctly in the `var2` assignment.\n",
    "\n",
    "**Tip:** When debugging, it's incredibly helpful to see line numbers. In Jupyter, you can enable them by selecting **View -> Toggle Line Numbers** from the menu."
   ]
  },
  {
   "cell_type": "code",
   "execution_count": 4,
   "metadata": {},
   "outputs": [
    {
     "ename": "LoadError",
     "evalue": "ParseError:\n\u001b[90m# Error @ \u001b[0;0m\u001b]8;;file:///home/persson/Programming_for_Mathematical_Applications/textbook/content/Debugging/In[4]#4:29\u001b\\\u001b[90mIn[4]:4:29\u001b[0;0m\u001b]8;;\u001b\\\n    array = Array{Float64,2}(undef, n, n)\n\u001b[90m#                           ┌\u001b[0;0m\n    for i = 1:size(array,1):\u001b[48;2;120;70;70m\u001b[0;0m\n\u001b[48;2;120;70;70m        \u001b[0;0mfor j = 1:size(array,2)\n\u001b[90m#──────┘ ── \u001b[0;0m\u001b[91mline break after `:` in range expression\u001b[0;0m",
     "output_type": "error",
     "traceback": [
      "ParseError:\n\u001b[90m# Error @ \u001b[0;0m\u001b]8;;file:///home/persson/Programming_for_Mathematical_Applications/textbook/content/Debugging/In[4]#4:29\u001b\\\u001b[90mIn[4]:4:29\u001b[0;0m\u001b]8;;\u001b\\\n    array = Array{Float64,2}(undef, n, n)\n\u001b[90m#                           ┌\u001b[0;0m\n    for i = 1:size(array,1):\u001b[48;2;120;70;70m\u001b[0;0m\n\u001b[48;2;120;70;70m        \u001b[0;0mfor j = 1:size(array,2)\n\u001b[90m#──────┘ ── \u001b[0;0m\u001b[91mline break after `:` in range expression\u001b[0;0m",
      "",
      "Stacktrace:",
      " [1] top-level scope",
      "\u001b[90m   @\u001b[39m \u001b[90m\u001b[4mIn[4]:4\u001b[24m\u001b[39m"
     ]
    }
   ],
   "source": [
    "# This function initializes a 2D array, but contains a small typo\n",
    "function array_init(n)\n",
    "    array = Array{Float64,2}(undef, n, n)\n",
    "    for i = 1:size(array,1):\n",
    "        for j = 1:size(array,2)\n",
    "            array[i,j] = i*j\n",
    "        end\n",
    "    end\n",
    "end"
   ]
  },
  {
   "cell_type": "markdown",
   "metadata": {},
   "source": [
    "One final syntax error example. The stack trace reports a `line break after \":\" in range expression` on line 4, which makes it easy to find the error."
   ]
  },
  {
   "cell_type": "markdown",
   "metadata": {},
   "source": [
    "--- \n",
    "## Runtime Errors\n",
    "\n",
    "Runtime errors occur while your program is executing. The code is syntactically valid, but something goes wrong during the process.\n",
    "\n",
    "These can be more complex than syntax errors. **Always read the full error message!** It contains valuable clues. If you encounter an error you don't understand, copy and paste the exact message into a search engine. You are almost certainly not the first person to see it, and you'll often find solutions on sites like **Stack Overflow** or the official **Julia Discourse** forum.\n",
    "\n",
    "Again, modular programming is your best friend here. If you've tested individual components of your program, you can be confident they work correctly, which helps you narrow your search for the bug."
   ]
  },
  {
   "cell_type": "code",
   "execution_count": 5,
   "metadata": {},
   "outputs": [
    {
     "ename": "LoadError",
     "evalue": "OverflowError: 21 is too large to look up in the table; consider using `factorial(big(21))` instead",
     "output_type": "error",
     "traceback": [
      "OverflowError: 21 is too large to look up in the table; consider using `factorial(big(21))` instead",
      "",
      "Stacktrace:",
      " [1] \u001b[0m\u001b[1mfactorial_lookup\u001b[22m",
      "\u001b[90m   @\u001b[39m \u001b[90m./\u001b[39m\u001b[90m\u001b[4mcombinatorics.jl:19\u001b[24m\u001b[39m\u001b[90m [inlined]\u001b[39m",
      " [2] \u001b[0m\u001b[1mfactorial\u001b[22m",
      "\u001b[90m   @\u001b[39m \u001b[90m./\u001b[39m\u001b[90m\u001b[4mcombinatorics.jl:27\u001b[24m\u001b[39m\u001b[90m [inlined]\u001b[39m",
      " [3] \u001b[0m\u001b[1mtaylorExpansion\u001b[22m\u001b[0m\u001b[1m(\u001b[22m\u001b[90mx\u001b[39m::\u001b[0mFloat64, \u001b[90mn\u001b[39m::\u001b[0mInt64\u001b[0m\u001b[1m)\u001b[22m",
      "\u001b[90m   @\u001b[39m \u001b[35mMain\u001b[39m \u001b[90m./\u001b[39m\u001b[90m\u001b[4mIn[5]:6\u001b[24m\u001b[39m",
      " [4] top-level scope",
      "\u001b[90m   @\u001b[39m \u001b[90m\u001b[4mIn[5]:12\u001b[24m\u001b[39m"
     ]
    }
   ],
   "source": [
    "# Compute the first n terms of the Taylor expansion of e^x centered at x=0.\n",
    "# The formula is sum_{i=0 to n-1} (x^i / i!)\n",
    "function taylorExpansion(x, n)\n",
    "    s = 0.0 # It's good practice to initialize sums as floats\n",
    "    for i = 0:n-1\n",
    "        s += x^i / factorial(i)\n",
    "    end\n",
    "    return s\n",
    "end\n",
    "\n",
    "# This will fail because factorial(21) is too large for a standard integer.\n",
    "taylorExpansion(0.5, 25)"
   ]
  },
  {
   "cell_type": "markdown",
   "metadata": {},
   "source": [
    "Here, Julia reports an `OverflowError`. The stack trace shows that our `taylorExpansion` function called the built-in `factorial` function, which failed. Why? Because $21!$ is a huge number, too large to be stored in a standard 64-bit integer. \n",
    "\n",
    "Even with the correct logic, the approach is flawed. We are calculating two very large numbers, $x^i$ and $i!$, only to divide them. A much more stable and efficient approach, which avoids large intermediate numbers, is to compute each term from the previous one. This was explored in the section on For-Loops."
   ]
  },
  {
   "cell_type": "code",
   "execution_count": 6,
   "metadata": {},
   "outputs": [
    {
     "ename": "LoadError",
     "evalue": "MethodError: objects of type Float64 are not callable\nThe object of type `Float64` exists, but no method is defined for this combination of argument types when trying to treat it as a callable object.\nMaybe you forgot to use an operator such as \u001b[36m*, ^, %, / etc. \u001b[39m?",
     "output_type": "error",
     "traceback": [
      "MethodError: objects of type Float64 are not callable\nThe object of type `Float64` exists, but no method is defined for this combination of argument types when trying to treat it as a callable object.\nMaybe you forgot to use an operator such as \u001b[36m*, ^, %, / etc. \u001b[39m?",
      "",
      "Stacktrace:",
      " [1] \u001b[0m\u001b[1mlots_of_math2\u001b[22m\u001b[0m\u001b[1m(\u001b[22m\u001b[90mn\u001b[39m::\u001b[0mInt64\u001b[0m\u001b[1m)\u001b[22m",
      "\u001b[90m   @\u001b[39m \u001b[35mMain\u001b[39m \u001b[90m./\u001b[39m\u001b[90m\u001b[4mIn[6]:6\u001b[24m\u001b[39m",
      " [2] top-level scope",
      "\u001b[90m   @\u001b[39m \u001b[90m\u001b[4mIn[6]:11\u001b[24m\u001b[39m"
     ]
    }
   ],
   "source": [
    "# This is the same mathematical expression from before, but now with a missing operator.\n",
    "function lots_of_math2(n)\n",
    "    var = 0\n",
    "    for i = 1:n\n",
    "        # The '*' operator is missing between sqrt(...) and (...) \n",
    "        var += sqrt(2*pi*i)(((i-1)+(i+2))/((n+5)*(5*i)))\n",
    "    end\n",
    "    return var\n",
    "end\n",
    "\n",
    "lots_of_math2(5)"
   ]
  },
  {
   "cell_type": "markdown",
   "metadata": {},
   "source": [
    "Julia's error message here is excellent. It reports a `MethodError: objects of type Float64 are not callable` and even suggests the most likely cause: `Maybe you forgot to use an operator such as *, ^, %, / etc. ?`. This is exactly right, we're missing a `*` for multiplication.\n",
    "\n",
    "Why is it a `MethodError`? Because without the `*`, Julia interprets the expression `A(B)` as a function call. It evaluates the part in the `sqrt(...)`, gets a `Float64` number, and then tries to *call* that number as a function with the second parenthesized expression as the argument. Since you can't \"call\" a number, it throws an error. It's trying to do this:\n",
    "```julia\n",
    "var1 = sqrt(2*pi*i)                # This results in a number\n",
    "var2 = ((i-1)+(i+2))/((n+5)*(5*i)) # This is also a number\n",
    "var += var1(var2)                  # ERROR: You can't call var1 like a function!\n",
    "```"
   ]
  },
  {
   "cell_type": "code",
   "execution_count": 7,
   "metadata": {},
   "outputs": [
    {
     "ename": "LoadError",
     "evalue": "UndefVarError: `relation` not defined in local scope\nSuggestion: check for an assignment to a local variable that shadows a global of the same name.",
     "output_type": "error",
     "traceback": [
      "UndefVarError: `relation` not defined in local scope\nSuggestion: check for an assignment to a local variable that shadows a global of the same name.",
      "",
      "Stacktrace:",
      " [1] \u001b[0m\u001b[1mcompare\u001b[22m\u001b[0m\u001b[1m(\u001b[22m\u001b[90mx\u001b[39m::\u001b[0mInt64, \u001b[90my\u001b[39m::\u001b[0mInt64\u001b[0m\u001b[1m)\u001b[22m",
      "\u001b[90m   @\u001b[39m \u001b[35mMain\u001b[39m \u001b[90m./\u001b[39m\u001b[90m\u001b[4mIn[7]:9\u001b[24m\u001b[39m",
      " [2] top-level scope",
      "\u001b[90m   @\u001b[39m \u001b[90m\u001b[4mIn[7]:12\u001b[24m\u001b[39m"
     ]
    }
   ],
   "source": [
    "# This function compares two numbers, x and y.\n",
    "function compare(x,y)\n",
    "    if x < y\n",
    "        relation = \"less than\"\n",
    "    elseif x > y\n",
    "        relation = \"greater than\"\n",
    "    end\n",
    "    # This line will fail if x is equal to y.\n",
    "    println(x, \" is \", relation, \" \", y)\n",
    "end\n",
    "\n",
    "compare(5,5)"
   ]
  },
  {
   "cell_type": "markdown",
   "metadata": {},
   "source": [
    "We get an `UndefVarError`, telling us the variable `relation` is not defined. But wait, don't we define it on lines 4 or 6? \n",
    "\n",
    "The key is to trace the program's execution path. When we call `compare(5,5)`, the condition `x < y` is false, and the condition `x > y` is also false. Neither `if` block is executed, so the variable `relation` is never created. When the code reaches line 9, it doesn't know what `relation` is. The fix is to add a case to handle when `x == y`, for example, by adding an `else` block that sets `relation = \"equal to\"`."
   ]
  },
  {
   "cell_type": "code",
   "execution_count": 8,
   "metadata": {},
   "outputs": [
    {
     "ename": "LoadError",
     "evalue": "BoundsError: attempt to access 5×4 Matrix{Float64} at index [1, 5]",
     "output_type": "error",
     "traceback": [
      "BoundsError: attempt to access 5×4 Matrix{Float64} at index [1, 5]",
      "",
      "Stacktrace:",
      " [1] \u001b[0m\u001b[1mthrow_boundserror\u001b[22m\u001b[0m\u001b[1m(\u001b[22m\u001b[90mA\u001b[39m::\u001b[0mMatrix\u001b[90m{Float64}\u001b[39m, \u001b[90mI\u001b[39m::\u001b[0mTuple\u001b[90m{Int64, Int64}\u001b[39m\u001b[0m\u001b[1m)\u001b[22m",
      "\u001b[90m   @\u001b[39m \u001b[90mBase\u001b[39m \u001b[90m./\u001b[39m\u001b[90m\u001b[4messentials.jl:14\u001b[24m\u001b[39m",
      " [2] \u001b[0m\u001b[1mcheckbounds\u001b[22m",
      "\u001b[90m   @\u001b[39m \u001b[90m./\u001b[39m\u001b[90m\u001b[4mabstractarray.jl:699\u001b[24m\u001b[39m\u001b[90m [inlined]\u001b[39m",
      " [3] \u001b[0m\u001b[1msetindex!\u001b[22m",
      "\u001b[90m   @\u001b[39m \u001b[90m./\u001b[39m\u001b[90m\u001b[4marray.jl:993\u001b[24m\u001b[39m\u001b[90m [inlined]\u001b[39m",
      " [4] \u001b[0m\u001b[1marray_init2\u001b[22m\u001b[0m\u001b[1m(\u001b[22m\u001b[90mm\u001b[39m::\u001b[0mInt64, \u001b[90mn\u001b[39m::\u001b[0mInt64\u001b[0m\u001b[1m)\u001b[22m",
      "\u001b[90m   @\u001b[39m \u001b[35mMain\u001b[39m \u001b[90m./\u001b[39m\u001b[90m\u001b[4mIn[8]:10\u001b[24m\u001b[39m",
      " [5] top-level scope",
      "\u001b[90m   @\u001b[39m \u001b[90m\u001b[4mIn[8]:17\u001b[24m\u001b[39m"
     ]
    }
   ],
   "source": [
    "# This function should initialize an m x n matrix where matrix[i,j] = i*j.\n",
    "# There's a common mix-up between rows and columns.\n",
    "function array_init2(m, n)\n",
    "    # In Julia, Matrix(m, n) creates a matrix with m rows and n columns.\n",
    "    array = Matrix{Float64}(undef, m, n)\n",
    "    for i = 1:n # Loop over rows\n",
    "        for j = 1:m # Loop over columns\n",
    "            # Let's see... what happens if we mix up the loop bounds?\n",
    "            # Here we loop `i` to `n` and `j` to `m`, which is the reverse of the array dimensions.\n",
    "            array[i, j] = i*j\n",
    "        end\n",
    "    end\n",
    "    return array\n",
    "end\n",
    "\n",
    "# We're creating a 5x4 matrix (5 rows, 4 columns).\n",
    "array_init2(5, 4)"
   ]
  },
  {
   "cell_type": "markdown",
   "metadata": {},
   "source": [
    "A classic `BoundsError`! This is one of the most common errors you'll encounter when working with arrays. \n",
    "\n",
    "Let's dissect the problem. We call `array_init2(5, 4)`, which creates a matrix with `m=5` rows and `n=4` columns. The valid row indices are 1 through 5, and the valid column indices are 1 through 4.\n",
    "\n",
    "However, our loops are `for i = 1:n` (i.e., `i` goes from 1 to 4) and `for j = 1:m` (i.e., `j` goes from 1 to 5). The line `array[i, j] = i*j` tries to access the element at row `i` and column `j`. Eventually, the inner loop will try to access `array[1, 5]`, attempting to access the 5th column. But our matrix only has 4 columns, which causes the `BoundsError`. \n",
    "\n",
    "The fix is to ensure the loop bounds match the array dimensions:\n",
    "```julia\n",
    "for i = 1:m # Loop for rows from 1 to m\n",
    "    for j = 1:n # Loop for columns from 1 to n\n",
    "        array[i, j] = i*j\n",
    "    end\n",
    "end\n",
    "```"
   ]
  },
  {
   "cell_type": "markdown",
   "metadata": {},
   "source": [
    "Let's look at one final type of runtime error that highlights a key feature of Julia."
   ]
  },
  {
   "cell_type": "code",
   "execution_count": 9,
   "metadata": {},
   "outputs": [
    {
     "ename": "LoadError",
     "evalue": "MethodError: no method matching /(::String, ::Int64)\nThe function `/` exists, but no method is defined for this combination of argument types.\n\n\u001b[0mClosest candidates are:\n\u001b[0m  /(\u001b[91m::Missing\u001b[39m, ::Number)\n\u001b[0m\u001b[90m   @\u001b[39m \u001b[90mBase\u001b[39m \u001b[90m\u001b[4mmissing.jl:123\u001b[24m\u001b[39m\n\u001b[0m  /(\u001b[91m::BigInt\u001b[39m, ::Union{Int16, Int32, Int64, Int8, UInt16, UInt32, UInt64, UInt8})\n\u001b[0m\u001b[90m   @\u001b[39m \u001b[90mBase\u001b[39m \u001b[90m\u001b[4mgmp.jl:560\u001b[24m\u001b[39m\n\u001b[0m  /(\u001b[91m::BigFloat\u001b[39m, ::Union{Int16, Int32, Int64, Int8})\n\u001b[0m\u001b[90m   @\u001b[39m \u001b[90mBase\u001b[39m \u001b[90m\u001b[4mmpfr.jl:553\u001b[24m\u001b[39m\n\u001b[0m  ...\n",
     "output_type": "error",
     "traceback": [
      "MethodError: no method matching /(::String, ::Int64)\nThe function `/` exists, but no method is defined for this combination of argument types.\n\n\u001b[0mClosest candidates are:\n\u001b[0m  /(\u001b[91m::Missing\u001b[39m, ::Number)\n\u001b[0m\u001b[90m   @\u001b[39m \u001b[90mBase\u001b[39m \u001b[90m\u001b[4mmissing.jl:123\u001b[24m\u001b[39m\n\u001b[0m  /(\u001b[91m::BigInt\u001b[39m, ::Union{Int16, Int32, Int64, Int8, UInt16, UInt32, UInt64, UInt8})\n\u001b[0m\u001b[90m   @\u001b[39m \u001b[90mBase\u001b[39m \u001b[90m\u001b[4mgmp.jl:560\u001b[24m\u001b[39m\n\u001b[0m  /(\u001b[91m::BigFloat\u001b[39m, ::Union{Int16, Int32, Int64, Int8})\n\u001b[0m\u001b[90m   @\u001b[39m \u001b[90mBase\u001b[39m \u001b[90m\u001b[4mmpfr.jl:553\u001b[24m\u001b[39m\n\u001b[0m  ...\n",
      "",
      "Stacktrace:",
      " [1] \u001b[0m\u001b[1mdivide_by_zero\u001b[22m\u001b[0m\u001b[1m(\u001b[22m\u001b[90minput\u001b[39m::\u001b[0mString\u001b[0m\u001b[1m)\u001b[22m",
      "\u001b[90m   @\u001b[39m \u001b[35mMain\u001b[39m \u001b[90m./\u001b[39m\u001b[90m\u001b[4mIn[9]:3\u001b[24m\u001b[39m",
      " [2] top-level scope",
      "\u001b[90m   @\u001b[39m \u001b[90m\u001b[4mIn[9]:7\u001b[24m\u001b[39m"
     ]
    }
   ],
   "source": [
    "# This function is too general; it doesn't specify the type of its input.\n",
    "function divide_by_zero(input)\n",
    "    return input/0\n",
    "end\n",
    "\n",
    "# What happens if we pass a string?\n",
    "divide_by_zero(\"string\")"
   ]
  },
  {
   "cell_type": "markdown",
   "metadata": {},
   "source": [
    "This `MethodError` is unique to languages like Julia that use **multiple dispatch**. Many other languages would flag this as a syntax error, but Julia allows you to define generic functions that can potentially operate on any type. The error only occurs at runtime when you actually try to call the function with an unsupported type.\n",
    "\n",
    "The error message `no method matching /(::String, ::Int64)` is very explicit: Julia doesn't know how to perform the `/` operation between a `String` and an `Int64`. \n",
    "\n",
    "We could fix this by either not passing a string, or by being more specific in our function definition to prevent such calls in the first place. We can enforce this by adding a type annotation to the function argument:"
   ]
  },
  {
   "cell_type": "code",
   "execution_count": 10,
   "metadata": {},
   "outputs": [
    {
     "ename": "LoadError",
     "evalue": "MethodError: no method matching divide_by_zero_v2(::String)\nThe function `divide_by_zero_v2` exists, but no method is defined for this combination of argument types.\n\n\u001b[0mClosest candidates are:\n\u001b[0m  divide_by_zero_v2(\u001b[91m::Number\u001b[39m)\n\u001b[0m\u001b[90m   @\u001b[39m \u001b[35mMain\u001b[39m \u001b[90m\u001b[4mIn[10]:3\u001b[24m\u001b[39m\n",
     "output_type": "error",
     "traceback": [
      "MethodError: no method matching divide_by_zero_v2(::String)\nThe function `divide_by_zero_v2` exists, but no method is defined for this combination of argument types.\n\n\u001b[0mClosest candidates are:\n\u001b[0m  divide_by_zero_v2(\u001b[91m::Number\u001b[39m)\n\u001b[0m\u001b[90m   @\u001b[39m \u001b[35mMain\u001b[39m \u001b[90m\u001b[4mIn[10]:3\u001b[24m\u001b[39m\n",
      "",
      "Stacktrace:",
      " [1] top-level scope",
      "\u001b[90m   @\u001b[39m \u001b[90m\u001b[4mIn[10]:8\u001b[24m\u001b[39m"
     ]
    }
   ],
   "source": [
    "# This is a more robust version of the function.\n",
    "# By specifying `input::Number`, we ensure only numbers can be passed as arguments.\n",
    "function divide_by_zero_v2(input::Number) \n",
    "    return input/0\n",
    "end\n",
    "\n",
    "# Now, Julia won't even find a matching function to call.\n",
    "divide_by_zero_v2(\"string\")"
   ]
  },
  {
   "cell_type": "markdown",
   "metadata": {},
   "source": [
    "Now the error message is even clearer: `no method matching divide_by_zero_v2(::String)`. This confirms that our program has no version of the `divide_by_zero` function that accepts a `String` as an argument, which is exactly what we intended.\n",
    "\n",
    "**Note:** In a Jupyter notebook, Julia remembers the previous definition of `divide_by_zero`. This is why we had to rename it `divide_by_zero_v2` to see this error message."
   ]
  },
  {
   "cell_type": "markdown",
   "metadata": {},
   "source": [
    "--- \n",
    "## Semantic Errors\n",
    "\n",
    "Semantic errors are the sneakiest bugs. Your code runs perfectly without any error messages, but it produces the wrong output. The program is doing exactly what you told it to do, but what you told it to do was incorrect.\n",
    "\n",
    "A classic example is an infinite loop. The program doesn't crash, but it also never finishes, which is rarely the intended behavior.\n",
    "\n",
    "Debugging semantic errors will likely consume the majority of your programming time. The key to success is to develop good habits:\n",
    "* **Test early and often.** Start with small, simple test cases where you know the correct answer. This helps you verify your logic step-by-step.\n",
    "* **Embrace modularity.** If you've tested your smaller functions, you can trust them and focus your debugging efforts on the new code that's causing the problem.\n",
    "* **Inspect your variables.** Never assume a variable contains the value you think it does. Use `println()` statements liberally to print out the values of variables at different stages of your program to see what's *really* going on. While professional debuggers are more powerful, `println()` is a simple and effective tool, especially in Jupyter."
   ]
  },
  {
   "cell_type": "code",
   "execution_count": 11,
   "metadata": {},
   "outputs": [
    {
     "data": {
      "text/plain": [
       "array_sum (generic function with 1 method)"
      ]
     },
     "execution_count": 11,
     "metadata": {},
     "output_type": "execute_result"
    }
   ],
   "source": [
    "# This function is supposed to return the sum of the integers from 1 to n.\n",
    "# It contains a subtle semantic error.\n",
    "function array_sum(n)\n",
    "    # Step 1: Initialize a vector to hold the numbers 1 through n.\n",
    "    array = Vector{Float64}(undef, n)\n",
    "    for i = 1:n-1\n",
    "        array[i] = i\n",
    "    end\n",
    "    \n",
    "    # Step 2: Sum the elements of the vector.\n",
    "    s = 0.0\n",
    "    for i = 1:n\n",
    "        s += array[i]\n",
    "    end\n",
    "    return s\n",
    "end"
   ]
  },
  {
   "cell_type": "markdown",
   "metadata": {},
   "source": [
    "Take a moment and try to debug the `array_sum` function yourself. What tests would you run? Start with a small input like `n=3`. What variables would you print to see what's happening inside? Can you think of a way to break this function into smaller, more testable parts?"
   ]
  },
  {
   "cell_type": "code",
   "execution_count": 12,
   "metadata": {},
   "outputs": [],
   "source": [
    "# Your testing cell for array_sum()\n",
    "# Try calling array_sum with small numbers and see if you get the expected result.\n",
    "# For example, array_sum(3) should be 1 + 2 + 3 = 6. What does it actually return?"
   ]
  },
  {
   "cell_type": "markdown",
   "metadata": {},
   "source": [
    "Personally, this is how I would add `println` statements to investigate:"
   ]
  },
  {
   "cell_type": "code",
   "execution_count": 13,
   "metadata": {},
   "outputs": [
    {
     "name": "stdout",
     "output_type": "stream",
     "text": [
      "For n=1, the initialized array is: [6.1549569638067e-310]\n",
      "The final sum is: 6.1549569638067e-310\n",
      "\n",
      "For n=3, the initialized array is: [1.0, 2.0, 0.0]\n",
      "The final sum is: 3.0\n",
      "\n",
      "For n=5, the initialized array is: [1.0, 2.0, 3.0, 4.0, 6.13260320144e-312]\n",
      "The final sum is: 10.0\n",
      "\n"
     ]
    }
   ],
   "source": [
    "# This version of the function includes print statements for debugging.\n",
    "function array_sum_debug(n)\n",
    "    # Initialization\n",
    "    array = Vector{Float64}(undef, n)\n",
    "    for i = 1:n-1\n",
    "        array[i] = i\n",
    "    end\n",
    "    # Let's inspect the array right after it's initialized.\n",
    "    println(\"For n=$n, the initialized array is: \", array)\n",
    "    \n",
    "    # Summation\n",
    "    s = 0.0\n",
    "    for i = 1:n\n",
    "        s += array[i]\n",
    "    end\n",
    "    println(\"The final sum is: \", s, \"\\n\") # Add a newline for readability\n",
    "    return s\n",
    "end\n",
    "\n",
    "# Run a few test cases.\n",
    "array_sum_debug(1);\n",
    "array_sum_debug(3);\n",
    "array_sum_debug(5);"
   ]
  },
  {
   "cell_type": "markdown",
   "metadata": {},
   "source": [
    "With this debugging output, the problem becomes much clearer! When we initialize the array, the first loop runs from `1:n-1`. This is an **off-by-one error**. It fills every element *except the last one*. The last element of the array remains an uninitialized, random-looking \"garbage\" value. \n",
    "\n",
    "This insight leads us directly to the fix: the initialization loop should run from `1:n`. Once we make that change and re-run our tests, we'll get the correct answers. We can then confidently remove the `println` statements, knowing our algorithm is correct."
   ]
  }
 ],
 "metadata": {
  "kernelspec": {
   "display_name": "Julia 1.11.5",
   "language": "julia",
   "name": "julia-1.11"
  },
  "language_info": {
   "file_extension": ".jl",
   "mimetype": "application/julia",
   "name": "julia",
   "version": "1.11.5"
  }
 },
 "nbformat": 4,
 "nbformat_minor": 4
}
