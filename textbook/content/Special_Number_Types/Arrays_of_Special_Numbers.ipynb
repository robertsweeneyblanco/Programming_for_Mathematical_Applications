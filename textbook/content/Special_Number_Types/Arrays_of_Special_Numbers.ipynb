{
 "cells": [
  {
   "cell_type": "markdown",
   "metadata": {
    "slideshow": {
     "slide_type": "slide"
    }
   },
   "source": [
    "# Arrays of Special Numbers\n",
    "\n",
    "So far we have worked with arrays of integers and floats. Arrays of complex and rational types can be defined easily, and the array functions work as expected:"
   ]
  },
  {
   "cell_type": "code",
   "execution_count": 1,
   "metadata": {
    "scrolled": true,
    "slideshow": {
     "slide_type": "fragment"
    }
   },
   "outputs": [
    {
     "data": {
      "text/plain": [
       "11-element Vector{ComplexF64}:\n",
       "                  1.0 + 0.0im\n",
       "   0.8090169943749475 + 0.5877852522924731im\n",
       "  0.30901699437494745 + 0.9510565162951535im\n",
       " -0.30901699437494734 + 0.9510565162951536im\n",
       "  -0.8090169943749473 + 0.5877852522924732im\n",
       "                 -1.0 + 1.2246467991473532e-16im\n",
       "  -0.8090169943749475 - 0.587785252292473im\n",
       " -0.30901699437494756 - 0.9510565162951535im\n",
       "  0.30901699437494723 - 0.9510565162951536im\n",
       "   0.8090169943749473 - 0.5877852522924734im\n",
       "                  1.0 - 2.4492935982947064e-16im"
      ]
     },
     "execution_count": 1,
     "metadata": {},
     "output_type": "execute_result"
    }
   ],
   "source": [
    "x = [ complex(cos(θ),sin(θ)) for θ in 2π*(0:10)/10 ]"
   ]
  },
  {
   "cell_type": "code",
   "execution_count": 2,
   "metadata": {
    "slideshow": {
     "slide_type": "fragment"
    }
   },
   "outputs": [
    {
     "data": {
      "text/plain": [
       "0.9999999999999996 - 6.008810221214569e-16im"
      ]
     },
     "execution_count": 2,
     "metadata": {},
     "output_type": "execute_result"
    }
   ],
   "source": [
    "sum(x.^2)"
   ]
  },
  {
   "cell_type": "code",
   "execution_count": 3,
   "metadata": {
    "slideshow": {
     "slide_type": "subslide"
    }
   },
   "outputs": [
    {
     "data": {
      "text/plain": [
       "10-element Vector{Rational{Int64}}:\n",
       "  1//2\n",
       "  2//3\n",
       "  3//4\n",
       "  4//5\n",
       "  5//6\n",
       "  6//7\n",
       "  7//8\n",
       "  8//9\n",
       "  9//10\n",
       " 10//11"
      ]
     },
     "execution_count": 3,
     "metadata": {},
     "output_type": "execute_result"
    }
   ],
   "source": [
    "y = [ a//(a+1) for a = 1:10 ]"
   ]
  },
  {
   "cell_type": "code",
   "execution_count": 4,
   "metadata": {
    "scrolled": true,
    "slideshow": {
     "slide_type": "fragment"
    }
   },
   "outputs": [
    {
     "data": {
      "text/plain": [
       "1//121"
      ]
     },
     "execution_count": 4,
     "metadata": {},
     "output_type": "execute_result"
    }
   ],
   "source": [
    "prod(y.^2)"
   ]
  },
  {
   "cell_type": "markdown",
   "metadata": {},
   "source": [
    "## Conversion"
   ]
  },
  {
   "cell_type": "markdown",
   "metadata": {},
   "source": [
    "If you wish to change the data type of your array, use Julia's `convert` function. For example, suppose you wish that elements of `y` were floats instead of rationals. "
   ]
  },
  {
   "cell_type": "code",
   "execution_count": 5,
   "metadata": {},
   "outputs": [
    {
     "data": {
      "text/plain": [
       "10-element Vector{Float64}:\n",
       " 0.5\n",
       " 0.6666666666666666\n",
       " 0.75\n",
       " 0.8\n",
       " 0.8333333333333334\n",
       " 0.8571428571428571\n",
       " 0.875\n",
       " 0.8888888888888888\n",
       " 0.9\n",
       " 0.9090909090909091"
      ]
     },
     "execution_count": 5,
     "metadata": {},
     "output_type": "execute_result"
    }
   ],
   "source": [
    "convert(Array{Float64}, y)"
   ]
  },
  {
   "cell_type": "markdown",
   "metadata": {},
   "source": [
    "Alternatively, you can apply the conversion elementwise using the dot-syntax:"
   ]
  },
  {
   "cell_type": "code",
   "execution_count": 6,
   "metadata": {},
   "outputs": [
    {
     "data": {
      "text/plain": [
       "10-element Vector{Float64}:\n",
       " 0.5\n",
       " 0.6666666666666666\n",
       " 0.75\n",
       " 0.8\n",
       " 0.8333333333333334\n",
       " 0.8571428571428571\n",
       " 0.875\n",
       " 0.8888888888888888\n",
       " 0.9\n",
       " 0.9090909090909091"
      ]
     },
     "execution_count": 6,
     "metadata": {},
     "output_type": "execute_result"
    }
   ],
   "source": [
    "Float64.(y)"
   ]
  },
  {
   "cell_type": "code",
   "execution_count": null,
   "metadata": {},
   "outputs": [],
   "source": []
  }
 ],
 "metadata": {
  "kernelspec": {
   "display_name": "Julia 1.11.5",
   "language": "julia",
   "name": "julia-1.11"
  },
  "language_info": {
   "file_extension": ".jl",
   "mimetype": "application/julia",
   "name": "julia",
   "version": "1.11.5"
  }
 },
 "nbformat": 4,
 "nbformat_minor": 4
}
