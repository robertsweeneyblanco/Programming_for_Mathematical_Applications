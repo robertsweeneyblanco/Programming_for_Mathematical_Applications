{
 "cells": [
  {
   "cell_type": "markdown",
   "metadata": {
    "slideshow": {
     "slide_type": "slide"
    }
   },
   "source": [
    "# Rational numbers\n",
    "\n",
    "Rational numbers (ratios of integers) can be represented exactly in Julia using the `//` operator:"
   ]
  },
  {
   "cell_type": "code",
   "execution_count": 1,
   "metadata": {
    "slideshow": {
     "slide_type": "fragment"
    }
   },
   "outputs": [
    {
     "data": {
      "text/plain": [
       "355//113"
      ]
     },
     "execution_count": 1,
     "metadata": {},
     "output_type": "execute_result"
    }
   ],
   "source": [
    "a = 355 // 113"
   ]
  },
  {
   "cell_type": "markdown",
   "metadata": {
    "slideshow": {
     "slide_type": "fragment"
    }
   },
   "source": [
    "Rational numbers can be converted to floating point numbers if needed:"
   ]
  },
  {
   "cell_type": "code",
   "execution_count": 2,
   "metadata": {
    "slideshow": {
     "slide_type": "fragment"
    }
   },
   "outputs": [
    {
     "data": {
      "text/plain": [
       "3.1415929203539825"
      ]
     },
     "execution_count": 2,
     "metadata": {},
     "output_type": "execute_result"
    }
   ],
   "source": [
    "Float64(a)"
   ]
  },
  {
   "cell_type": "markdown",
   "metadata": {
    "slideshow": {
     "slide_type": "subslide"
    }
   },
   "source": [
    "However, this is often not needed since many standard operations and comparison operators are defined directly using the rational number type: (from the Julia documentation)\n",
    "```julia\n",
    "julia> 2//3 == 6//9\n",
    "true\n",
    "\n",
    "julia> 2//3 == 9//27\n",
    "false\n",
    "\n",
    "julia> 3//7 < 1//2\n",
    "true\n",
    "\n",
    "julia> 3//4 > 2//3\n",
    "true\n",
    "\n",
    "julia> 2//4 + 1//6\n",
    "2//3\n",
    "\n",
    "julia> 5//12 - 1//4\n",
    "1//6\n",
    "\n",
    "julia> 5//8 * 3//12\n",
    "5//32\n",
    "\n",
    "julia> 6//5 / 10//7\n",
    "21//25\n",
    "```"
   ]
  },
  {
   "cell_type": "markdown",
   "metadata": {
    "slideshow": {
     "slide_type": "slide"
    }
   },
   "source": [
    "Note that if the numerator and the denominator have common factors, they are reduced to the lowest terms such that the denominator is positive: (from Julia documentation)\n",
    "```julia\n",
    "julia> 6//9\n",
    "2//3\n",
    "\n",
    "julia> -4//8\n",
    "-1//2\n",
    "\n",
    "julia> 5//-15\n",
    "-1//3\n",
    "\n",
    "julia> -4//-12\n",
    "1//3\n",
    "```"
   ]
  },
  {
   "cell_type": "markdown",
   "metadata": {
    "slideshow": {
     "slide_type": "slide"
    }
   },
   "source": [
    "When combined with other numeric types, the rational numbers will be promoted to give the expected result: (from the Julia documentation)\n",
    "```julia\n",
    "julia> 3//5 + 1\n",
    "8//5\n",
    "\n",
    "julia> 3//5 - 0.5\n",
    "0.09999999999999998\n",
    "\n",
    "julia> 2//7 * (1 + 2im)\n",
    "2//7 + 4//7*im\n",
    "\n",
    "julia> 2//7 * (1.5 + 2im)\n",
    "0.42857142857142855 + 0.5714285714285714im\n",
    "\n",
    "julia> 3//2 / (1 + 2im)\n",
    "3//10 - 3//5*im\n",
    "\n",
    "julia> 1//2 + 2im\n",
    "1//2 + 2//1*im\n",
    "\n",
    "julia> 1 + 2//3im\n",
    "1//1 - 2//3*im\n",
    "\n",
    "julia> 0.5 == 1//2\n",
    "true\n",
    "\n",
    "julia> 0.33 == 1//3\n",
    "false\n",
    "\n",
    "julia> 0.33 < 1//3\n",
    "true\n",
    "\n",
    "julia> 1//3 - 0.33\n",
    "0.0033333333333332993\n",
    "```"
   ]
  }
 ],
 "metadata": {
  "kernelspec": {
   "display_name": "Julia 1.9.2",
   "language": "julia",
   "name": "julia-1.9"
  },
  "language_info": {
   "file_extension": ".jl",
   "mimetype": "application/julia",
   "name": "julia",
   "version": "1.9.2"
  }
 },
 "nbformat": 4,
 "nbformat_minor": 2
}
