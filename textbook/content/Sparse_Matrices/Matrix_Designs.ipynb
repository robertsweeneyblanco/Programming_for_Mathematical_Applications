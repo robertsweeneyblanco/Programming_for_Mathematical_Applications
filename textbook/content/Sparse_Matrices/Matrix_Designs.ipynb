{
 "cells": [
  {
   "cell_type": "markdown",
   "metadata": {
    "slideshow": {
     "slide_type": "slide"
    }
   },
   "source": [
    "# Matrix Storage and Design"
   ]
  },
  {
   "cell_type": "markdown",
   "metadata": {},
   "source": [
    "## Sparse, Structured, and Dense Matrices\n",
    "\n",
    "In numerical computation, we often encounter matrices that have special properties. We can broadly classify them into three types:\n",
    "\n",
    "- A **sparse matrix** is a matrix with enough zero-valued entries that it is computationally efficient to store and manipulate the matrix by taking advantage of these zeros. [Wilkinson]\n",
    "\n",
    "$$\n",
    "\\begin{bmatrix}\n",
    "\\bullet & & \\bullet & \\bullet & \\bullet \\\\\n",
    " & \\bullet & & & \\\\\n",
    " \\bullet & & \\bullet & & \\\\\n",
    " \\bullet & & & \\bullet & \\\\\n",
    " \\bullet & & & & \\bullet\n",
    "\\end{bmatrix}\n",
    "$$\n",
    "\n",
    "- A **structured matrix** has entries that follow a predictable mathematical pattern, which can be exploited for storage and computation (e.g., Toeplitz, Circulant, or Diagonal matrices).\n",
    "\n",
    "$$\n",
    "\\begin{bmatrix}\n",
    "a & b & c & d & e \\\\\n",
    "b & a & b & c & d \\\\\n",
    "c & b & a & b & c \\\\\n",
    "d & c & b & a & b \\\\\n",
    "e & d & c & b & a\n",
    "\\end{bmatrix}\n",
    "$$\n",
    "\n",
    "- A **dense matrix** is neither sparse nor structured, meaning most of its entries are non-zero and do not follow a simple pattern. These are stored as standard 2D arrays.\n",
    "\n",
    "$$\n",
    "\\begin{bmatrix}\n",
    "\\bullet & \\bullet & \\bullet & \\bullet & \\bullet \\\\\n",
    "\\bullet & \\bullet & \\bullet & \\bullet & \\bullet \\\\\n",
    "\\bullet & \\bullet & \\bullet & \\bullet & \\bullet \\\\\n",
    "\\bullet & \\bullet & \\bullet & \\bullet & \\bullet \\\\\n",
    "\\bullet & \\bullet & \\bullet & \\bullet & \\bullet \\\\\n",
    "\\end{bmatrix}\n",
    "$$\n",
    "\n"
   ]
  },
  {
   "cell_type": "markdown",
   "metadata": {},
   "source": [
    "## Design Goals for Sparse Matrices\n",
    "\n",
    "When designing sparse matrix formats and libraries, we have several (sometimes conflicting) goals:\n",
    "\n",
    "- **Usability:** Most operations (`*`, `\\`, `+`, etc.) should give the same results for sparse and dense matrices. The type should propagate automatically (e.g., sparse + dense = dense).\n",
    "- **Simplicity & Robustness:** The interface should be easy to use and handle edge cases (like all-zero matrices) gracefully.\n",
    "- **Storage Cost:** The memory required should be proportional to the number of non-zeros, $\\text{nnz}$. We write this as $O(\\text{nnz})$.\n",
    "- **Performance:** The time for sparse operations (like matrix-vector multiply) should be proportional to the number of non-zeros, $O(\\text{nnz})$, not the dense size, $O(n^2)$."
   ]
  },
  {
   "cell_type": "markdown",
   "metadata": {},
   "source": [
    "## Common Data Structures for Sparse Matrices\n",
    "\n",
    "When we move from a dense `Array` to a sparse format, we must decide *how* to store only the non-zero values. As a running example, let's consider how to store the following 5x5 matrix, which has 10 non-zero entries (nnz=10).\n",
    "\n",
    "$$\n",
    "\\begin{bmatrix}\n",
    "5 & 0 & -3 & -2 & 7 \\\\\n",
    "0 & 5 & 0 & 0 & 0 \\\\\n",
    " -2 & 0 & -1 & 0 & 0 \\\\\n",
    " -4 & 0 & 0 & -10 & 0 \\\\\n",
    " 0 & 0 & 0 & 0 & 9\n",
    "\\end{bmatrix}\n",
    "$$"
   ]
  },
  {
   "cell_type": "markdown",
   "metadata": {},
   "source": [
    "### 1. Full (Dense) Storage\n",
    "\n",
    "- Used in the standard `Array` type.\n",
    "- Stores all matrix entries, including the zeros.\n",
    "- **Memory Usage:** $O(m \\cdot n)$ for an $m \\times n$ matrix."
   ]
  },
  {
   "cell_type": "markdown",
   "metadata": {},
   "source": [
    "### 2. List of Lists (LIL)\n",
    "\n",
    "- Store only the non-zero values, organized by row or by column.\n",
    "- This example shows a **column-oriented** LIL:\n",
    "\n",
    "```\n",
    "  Column 1 -> Rows [1,3,4], Values [5,-2,-4]\n",
    "  Column 2 -> Rows [2], Values [5]\n",
    "  Column 3 -> Rows [1,3], Values [-3,-1]\n",
    "  Column 4 -> Rows [1,4], Values [-2,-10]\n",
    "  Column 5 -> Rows [1,5], Values [7,9]\n",
    "```\n",
    "\n",
    "- **Pro:** Very easy to insert new elements (good for *incremental* matrix construction).\n",
    "- **Pro:** This is essentially the adjacency list format for the graph represented by the matrix.\n",
    "- **Con:** Can be inefficient for matrix-vector products compared to other formats, as it involves many small, separate lists.\n",
    "- **Memory Usage:** $O(\\text{nnz} + n)$ for a column-oriented format with $n$ columns (one list per column, plus storage for the non-zeros)."
   ]
  },
  {
   "cell_type": "markdown",
   "metadata": {},
   "source": [
    "### 3. Coordinate List (COO)\n",
    "\n",
    "- Store three lists of length $\\text{nnz}$: one for row indices (`I`), one for column indices (`J`), and one for the values (`V`).\n",
    "\n",
    "```\n",
    "  (Row, Col, Val)\n",
    "  [1, 1, 5]\n",
    "  [3, 1, -2]\n",
    "  [4, 1, -4]\n",
    "  [2, 2, 5]\n",
    "  [1, 3, -3]\n",
    "  [3, 3, -1]\n",
    "  [1, 4, -2]\n",
    "  [4, 4, -10]\n",
    "  [1, 5, 7]\n",
    "  [5, 5, 9]\n",
    "```\n",
    "\n",
    "- **Pro:** Also very simple and easy to construct incrementally (just append to the three lists).\n",
    "- **Con:** Must be sorted or converted to another format (like CSC) for efficient arithmetic or look-ups. Operations on unsorted COO are very slow.\n",
    "- **Memory Usage:** $O(\\text{nnz})$ (specifically, $3 \\times \\text{nnz}$ storage)."
   ]
  },
  {
   "cell_type": "markdown",
   "metadata": {},
   "source": [
    "### 4. Compressed Sparse Column (CSC)\n",
    "\n",
    "This is the most common format for high-performance computing. It is essentially the COO format, but with the column indices *compressed*.\n",
    "\n",
    "Instead of storing the column index for every non-zero, we store three arrays:\n",
    "- `nzval`: A list of all non-zero values, ordered **column by column**.\n",
    "- `rowval`: A list of the *row indices* for each corresponding value in `nzval`.\n",
    "- `colptr`: An array of $n+1$ *pointers* (indices) that tell us where each column *starts* in the `nzval` and `rowval` arrays.\n",
    "\n",
    "```\n",
    "  nzval  = [5,-2,-4, 5, -3,-1, -2,-10, 7, 9]   # Non-zero values\n",
    "  rowval = [1, 3, 4, 2,  1, 3,  1,  4, 1, 5]   # Row indices for each value\n",
    "  colptr = [1, 4, 5, 7, 9, 11]                # Pointers to the start of each column\n",
    "```\n",
    "\n",
    "- The `colptr` array contains $n+1$ entries. The non-zeros for column `k` are stored in `nzval` and `rowval` from index `colptr[k]` up to `colptr[k+1]-1`.\n",
    "- This design means `colptr[1]` is always `1`, and `colptr[n+1]` is always `nnz+1`. The number of elements in column `k` is simply `colptr[k+1] - colptr[k]`. \n",
    "  \n",
    "- **Pro:** Highly efficient for arithmetic operations, column slicing, and matrix-vector products.\n",
    "- **Con:** Very inefficient for incremental construction (inserting a new non-zero requires rebuilding large parts of the arrays).\n",
    "- **Con:** Element look-up $A[i,j]$ is relatively slow, $O(\\log(\\text{nnz}_j))$ (where $\\text{nnz}_j$ is the number of non-zeros in column $j$), as you must search the column.\n",
    "\n",
    "- **Memory Usage:** $O(\\text{nnz} + n)$.\n",
    "- **Note:** This is the format used by Julia's `SparseMatrixCSC` type and many other libraries (e.g., in Python's `scipy.sparse`). A similar **Compressed Sparse Row (CSR)** format is also common."
   ]
  }
 ],
 "metadata": {
  "kernelspec": {
   "display_name": "Julia 1.11.5",
   "language": "julia",
   "name": "julia-1.11"
  },
  "language_info": {
   "file_extension": ".jl",
   "mimetype": "application/julia",
   "name": "julia",
   "version": "1.11.5"
  }
 },
 "nbformat": 4,
 "nbformat_minor": 4
}
