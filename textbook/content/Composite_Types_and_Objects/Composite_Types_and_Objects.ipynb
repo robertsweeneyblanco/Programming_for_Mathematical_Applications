{
 "cells": [
  {
   "cell_type": "markdown",
   "metadata": {
    "slideshow": {
     "slide_type": "slide"
    }
   },
   "source": [
    "# Composite Types and Objects\n",
    "\n",
    "So far, we've worked with Julia's built-in types like `Int64`, `Float64`, and `Array`. Now, let's explore how to create our own custom types. This allows us to bundle related data together into a logical unit, a concept closely related to *object-oriented programming* in other languages.\n",
    "\n",
    "## Composite Types with `struct`\n",
    "\n",
    "We use the `struct` keyword to define a new **composite type**. Think of it as a blueprint for a new kind of data container. We give the type a name and define a list of **fields** (also called attributes), which are the variables that will hold the data for any object created from this blueprint.\n",
    "\n",
    "Let's create a type named `MyPoly` to represent a polynomial. It will have two fields:\n",
    "* `c`: A vector to store the polynomial's coefficients.\n",
    "* `var`: A character to name the independent variable (like 'x' or 't').\n",
    "\n",
    "You can also enforce the type of a field using the `::` operator. This is a great way to catch bugs early by ensuring your `struct` is always created with the correct data types. Here, we'll specify that `c` must be a `Vector` and `var` must be a `Char`."
   ]
  },
  {
   "cell_type": "code",
   "execution_count": 1,
   "metadata": {
    "slideshow": {
     "slide_type": "fragment"
    }
   },
   "outputs": [],
   "source": [
    "# Define a new composite type (struct) for polynomials.\n",
    "struct MyPoly\n",
    "    # Field to store coefficients as a vector.\n",
    "    c::Vector\n",
    "    # Field for the variable name, e.g., 'x'.\n",
    "    var::Char\n",
    "end"
   ]
  },
  {
   "cell_type": "markdown",
   "metadata": {
    "slideshow": {
     "slide_type": "subslide"
    }
   },
   "source": [
    "We'll represent the polynomial in the standard monomial form, with the coefficients in the vector `c` ordered from the highest degree term to the lowest. \n",
    "\n",
    "For example, a polynomial $p(x) = c_d x^d + c_{d-1} x^{d-1} + \\cdots + c_1 x + c_0$ would be stored with the coefficient vector `c` as `[c_d, c_{d-1}, ..., c_0]`.\n",
    "\n",
    "The degree $d$ of the polynomial is simply `length(c) - 1`. This representation is convenient for many polynomial algorithms."
   ]
  },
  {
   "cell_type": "markdown",
   "metadata": {
    "slideshow": {
     "slide_type": "fragment"
    }
   },
   "source": [
    "With our `MyPoly` blueprint defined, we can now create an **instance**, or an **object**, of this type. We do this by calling the type's name like a function and providing values for each field.\n",
    "\n",
    "For example, to represent the polynomial $p(x) = 3x^2 - 5x + 2$, we would create an instance like this:"
   ]
  },
  {
   "cell_type": "code",
   "execution_count": 2,
   "metadata": {
    "slideshow": {
     "slide_type": "fragment"
    }
   },
   "outputs": [
    {
     "data": {
      "text/plain": [
       "MyPoly([3, -5, 2], 'x')"
      ]
     },
     "execution_count": 2,
     "metadata": {},
     "output_type": "execute_result"
    }
   ],
   "source": [
    "# Create an instance of MyPoly.\n",
    "# This represents 3x^2 - 5x + 2.\n",
    "p = MyPoly([3, -5, 2], 'x')"
   ]
  },
  {
   "cell_type": "markdown",
   "metadata": {
    "slideshow": {
     "slide_type": "slide"
    }
   },
   "source": [
    "By default, Julia just prints the type name and its field values. We'll learn how to create a prettier, custom display later!\n",
    "\n",
    "### Creating Custom Constructors\n",
    "\n",
    "Sometimes, you want more flexible ways to create objects. A **constructor** is a special function that initializes an object. Julia provides a default constructor, but you can add your own.\n",
    "\n",
    "Let's say we want to create a `MyPoly` object by only providing the coefficients, assuming the variable is 'x' by default. We can define an **outer constructor** to handle this:"
   ]
  },
  {
   "cell_type": "code",
   "execution_count": 3,
   "metadata": {
    "slideshow": {
     "slide_type": "fragment"
    }
   },
   "outputs": [
    {
     "data": {
      "text/plain": [
       "MyPoly"
      ]
     },
     "execution_count": 3,
     "metadata": {},
     "output_type": "execute_result"
    }
   ],
   "source": [
    "# This outer constructor provides a default value for the `var` field.\n",
    "# It calls the original, inner constructor with 'x' as the second argument.\n",
    "MyPoly(c) = MyPoly(c, 'x')"
   ]
  },
  {
   "cell_type": "markdown",
   "metadata": {
    "slideshow": {
     "slide_type": "slide"
    }
   },
   "source": [
    "Right now, our `p` object just holds data. You can access the data in its fields using dot notation (`.`):"
   ]
  },
  {
   "cell_type": "code",
   "execution_count": 4,
   "metadata": {
    "slideshow": {
     "slide_type": "fragment"
    }
   },
   "outputs": [
    {
     "data": {
      "text/plain": [
       "3-element Vector{Int64}:\n",
       "  3\n",
       " -5\n",
       "  2"
      ]
     },
     "execution_count": 4,
     "metadata": {},
     "output_type": "execute_result"
    }
   ],
   "source": [
    "# Access the coefficient vector 'c'.\n",
    "p.c"
   ]
  },
  {
   "cell_type": "code",
   "execution_count": 5,
   "metadata": {
    "slideshow": {
     "slide_type": "fragment"
    }
   },
   "outputs": [
    {
     "data": {
      "text/plain": [
       "'x': ASCII/Unicode U+0078 (category Ll: Letter, lowercase)"
      ]
     },
     "execution_count": 5,
     "metadata": {},
     "output_type": "execute_result"
    }
   ],
   "source": [
    "# Access the variable character 'var'.\n",
    "p.var"
   ]
  },
  {
   "cell_type": "markdown",
   "metadata": {
    "slideshow": {
     "slide_type": "subslide"
    }
   },
   "source": [
    "### Immutability\n",
    "\n",
    "By default, `struct`s in Julia are **immutable**, which means their field values cannot be changed after the object is created. This design choice can make code more predictable and safer. If you need to modify fields, you can define your type using `mutable struct` instead.\n",
    "\n",
    "However, there's a crucial exception: if a field contains a **mutable** object (like our `Vector` `c`), you *can* change the *contents* of that object. You just can't make the field point to a completely different object.\n",
    "\n",
    "For example, to change our polynomial to $p(x) = -x^3 + 3x^2 - 5x + 2$, you **cannot** reassign the `c` field directly:\n",
    "\n",
    "```julia\n",
    "# This will cause an error because MyPoly is immutable.\n",
    "p.c = [-1, 3, -5, 2] \n",
    "```\n",
    "\n",
    "But you **can** modify the contents of the *existing* vector `p.c`:"
   ]
  },
  {
   "cell_type": "code",
   "execution_count": 6,
   "metadata": {
    "slideshow": {
     "slide_type": "fragment"
    }
   },
   "outputs": [
    {
     "data": {
      "text/plain": [
       "MyPoly([-1, 3, -5, 2], 'x')"
      ]
     },
     "execution_count": 6,
     "metadata": {},
     "output_type": "execute_result"
    }
   ],
   "source": [
    "# First, resize the existing vector to make space for the new coefficients.\n",
    "resize!(p.c, 4)\n",
    "# Then, modify the contents of the vector in place.\n",
    "p.c[1:4] = [-1, 3, -5, 2]\n",
    "p"
   ]
  },
  {
   "cell_type": "markdown",
   "metadata": {
    "slideshow": {
     "slide_type": "subslide"
    }
   },
   "source": [
    "Of course, a more common and often clearer approach in Julia is to simply create a new `MyPoly` instance with the updated values:"
   ]
  },
  {
   "cell_type": "code",
   "execution_count": 7,
   "metadata": {
    "slideshow": {
     "slide_type": "fragment"
    }
   },
   "outputs": [
    {
     "data": {
      "text/plain": [
       "MyPoly([-1, 3, -5, 2], 'x')"
      ]
     },
     "execution_count": 7,
     "metadata": {},
     "output_type": "execute_result"
    }
   ],
   "source": [
    "# Create a new polynomial object and re-bind the variable 'p' to it.\n",
    "p = MyPoly([-1, 3, -5, 2], p.var)"
   ]
  },
  {
   "cell_type": "markdown",
   "metadata": {
    "slideshow": {
     "slide_type": "slide"
    }
   },
   "source": [
    "## Defining Behavior: Methods for Custom Types\n",
    "\n",
    "We can define functions that operate on our new types. In Julia, a function that is specialized for a certain combination of argument types is called a **method**. This is a powerful feature that lets us define how generic operations (like `+` or `plot`) should behave for our specific type.\n",
    "\n",
    "For example, let's define a function that multiplies a polynomial by its variable (e.g., turning $p(x)$ into $x \\cdot p(x)$). This is equivalent to adding a zero coefficient at the end of our vector `c`."
   ]
  },
  {
   "cell_type": "code",
   "execution_count": 8,
   "metadata": {
    "slideshow": {
     "slide_type": "fragment"
    }
   },
   "outputs": [
    {
     "data": {
      "text/plain": [
       "MyPoly([-1, 3, -5, 2, 0], 'x')"
      ]
     },
     "execution_count": 8,
     "metadata": {},
     "output_type": "execute_result"
    }
   ],
   "source": [
    "# This function takes a polynomial and returns a new one.\n",
    "function times_x(p)\n",
    "    # vcat horizontally concatenates the vector p.c with a 0.\n",
    "    return MyPoly(vcat(p.c, 0), p.var)\n",
    "end\n",
    "\n",
    "times_x(p)"
   ]
  },
  {
   "cell_type": "markdown",
   "metadata": {
    "slideshow": {
     "slide_type": "subslide"
    }
   },
   "source": [
    "### Type-Specific Methods\n",
    "\n",
    "The `times_x` function above would work, but it's not very robust; it would fail if we passed it anything other than a `MyPoly`. A better practice is to specify the types of the arguments a function expects using the `::` operator. This creates a **method** that will only be called for arguments of that specific type.\n",
    "\n",
    "Let's create a `degree` function that works specifically for `MyPoly` objects. The logic is to find the first non-zero coefficient (the leading coefficient) and calculate the degree from its position. We'll define the degree of the zero polynomial to be -1."
   ]
  },
  {
   "cell_type": "code",
   "execution_count": 9,
   "metadata": {
    "slideshow": {
     "slide_type": "fragment"
    }
   },
   "outputs": [
    {
     "data": {
      "text/plain": [
       "degree (generic function with 1 method)"
      ]
     },
     "execution_count": 9,
     "metadata": {},
     "output_type": "execute_result"
    }
   ],
   "source": [
    "# This method of 'degree' is specialized for MyPoly objects.\n",
    "function degree(p::MyPoly)\n",
    "    # Find the index of the first non-zero coefficient.\n",
    "    ix1 = findfirst(p.c .!= 0)\n",
    "    if ix1 === nothing  # Check if all coefficients are zero.\n",
    "        return -1\n",
    "    else\n",
    "        # The degree is the length of the vector minus the index of the leading term.\n",
    "        return length(p.c) - ix1\n",
    "    end\n",
    "end"
   ]
  },
  {
   "cell_type": "code",
   "execution_count": 10,
   "metadata": {
    "slideshow": {
     "slide_type": "subslide"
    }
   },
   "outputs": [
    {
     "name": "stdout",
     "output_type": "stream",
     "text": [
      "-1\n",
      "0\n",
      "1\n",
      "4\n"
     ]
    }
   ],
   "source": [
    "# Test cases for our degree function.\n",
    "println(degree(MyPoly([0, 0, 0, 0, 0]))) # Zero polynomial\n",
    "println(degree(MyPoly([0, 0, 0, 0, 1]))) # Degree 0\n",
    "println(degree(MyPoly([0, 0, 0, 1, 0]))) # Degree 1\n",
    "println(degree(MyPoly([1, 0, 0, 0, 0]))) # Degree 4"
   ]
  },
  {
   "cell_type": "markdown",
   "metadata": {
    "slideshow": {
     "slide_type": "subslide"
    }
   },
   "source": [
    "### Method Overloading\n",
    "\n",
    "By specializing functions, we can define multiple methods for the same function name. This is called **method overloading**. Julia's *multiple dispatch* system automatically chooses the correct method to call based on the types of the arguments provided. This makes code highly readable and extensible. 🕺"
   ]
  },
  {
   "cell_type": "code",
   "execution_count": 11,
   "metadata": {
    "slideshow": {
     "slide_type": "fragment"
    }
   },
   "outputs": [
    {
     "name": "stdout",
     "output_type": "stream",
     "text": [
      "degree function called with a different argument type.\n",
      "degree function called with a different argument type.\n",
      "degree function called with an Int argument.\n"
     ]
    },
    {
     "data": {
      "text/plain": [
       "2"
      ]
     },
     "execution_count": 11,
     "metadata": {},
     "output_type": "execute_result"
    }
   ],
   "source": [
    "# A new method for the 'degree' function that accepts an Int.\n",
    "function degree(p::Int)\n",
    "    println(\"degree function called with an Int argument.\")\n",
    "end\n",
    "\n",
    "# A generic fallback method for any other type.\n",
    "function degree(p)\n",
    "    println(\"degree function called with a different argument type.\")\n",
    "end\n",
    "\n",
    "# Julia's dispatch system will pick the correct method at runtime!\n",
    "degree(1.234)             # Calls the generic method\n",
    "degree([1, 2])            # Calls the generic method\n",
    "degree(-123)              # Calls the Int-specific method\n",
    "degree(MyPoly([1, 2, 3])) # Calls the MyPoly-specific method"
   ]
  },
  {
   "cell_type": "markdown",
   "metadata": {
    "slideshow": {
     "slide_type": "slide"
    }
   },
   "source": [
    "## Customized Printing\n",
    "\n",
    "Julia uses a generic function called `show` to control how objects are printed to the screen (or any other I/O stream). By overloading `Base.show` for our `MyPoly` type, we can create a much more user-friendly, mathematical representation.\n",
    "\n",
    "The implementation below handles various special cases to format the polynomial correctly. The key takeaway is not the specific logic inside, but the concept that we are *extending* a function from Julia's `Base` library to teach it how to handle our new type."
   ]
  },
  {
   "cell_type": "code",
   "execution_count": 12,
   "metadata": {
    "slideshow": {
     "slide_type": "subslide"
    }
   },
   "outputs": [],
   "source": [
    "# Extend the Base.show function to provide a custom display for MyPoly objects.\n",
    "function Base.show(io::IO, p::MyPoly)\n",
    "    d = degree(p)\n",
    "    print(io, \"MyPoly: \")\n",
    "    if d < 0\n",
    "        print(io, \"0\")\n",
    "        return\n",
    "    end\n",
    "    for k = d:-1:0\n",
    "        coeff = p.c[end-k]\n",
    "        if coeff == 0 && d > 0\n",
    "            continue\n",
    "        end\n",
    "        if k < d\n",
    "            if isa(coeff, Real)\n",
    "                if coeff > 0\n",
    "                    print(io, \" + \")\n",
    "                else\n",
    "                    print(io, \" - \")\n",
    "                end\n",
    "                coeff = abs(coeff)\n",
    "            else\n",
    "                print(io, \" + \")\n",
    "            end\n",
    "        end\n",
    "        if isa(coeff, Real)\n",
    "            print(io, coeff)\n",
    "        else\n",
    "            print(io, \"($coeff)\")\n",
    "        end\n",
    "        if k == 0\n",
    "            continue\n",
    "        end\n",
    "        print(io, \"⋅\", p.var)\n",
    "        if k > 1\n",
    "            print(io, \"^\", k)\n",
    "        end\n",
    "    end\n",
    "end"
   ]
  },
  {
   "cell_type": "code",
   "execution_count": 13,
   "metadata": {
    "slideshow": {
     "slide_type": "subslide"
    }
   },
   "outputs": [
    {
     "data": {
      "text/plain": [
       "MyPoly: -1⋅x^3 + 3⋅x^2 - 5⋅x + 2"
      ]
     },
     "execution_count": 13,
     "metadata": {},
     "output_type": "execute_result"
    }
   ],
   "source": [
    "# Now when we display 'p', our custom 'show' method is called!\n",
    "p"
   ]
  },
  {
   "cell_type": "code",
   "execution_count": 14,
   "metadata": {
    "scrolled": true,
    "slideshow": {
     "slide_type": "fragment"
    }
   },
   "outputs": [
    {
     "data": {
      "text/plain": [
       "MyPoly: -1.234⋅s^4 + 4.321"
      ]
     },
     "execution_count": 14,
     "metadata": {},
     "output_type": "execute_result"
    }
   ],
   "source": [
    "MyPoly([-1.234, 0, 0, 0, 4.321], 's')"
   ]
  },
  {
   "cell_type": "markdown",
   "metadata": {},
   "source": [
    "## Making Objects Behave Like Functions\n",
    "\n",
    "A fundamental polynomial operation is evaluation: computing $p(x)$ for a given value $x$. We can implement this using the efficient **Horner's method**:\n",
    "\n",
    "$$ p(x) = c_d x^d + c_{d-1} x^{d-1} + \\cdots + c_0 = (\\dots((c_d x + c_{d-1})x + c_{d-2})x + \\cdots)x + c_0 $$\n",
    "\n",
    "Instead of creating a new function like `evaluate(p, x)`, Julia allows us to make our `MyPoly` objects *callable*. This means we can treat an object `p` as if it were a function, using the syntax `p(x)` to evaluate it. This is achieved by defining a method with the special signature `function (::MyPoly)(...)`."
   ]
  },
  {
   "cell_type": "code",
   "execution_count": 15,
   "metadata": {
    "slideshow": {
     "slide_type": "fragment"
    }
   },
   "outputs": [],
   "source": [
    "# This method makes MyPoly objects callable.\n",
    "function (p::MyPoly)(x)\n",
    "    # Start with the leading coefficient.\n",
    "    val = p.c[1]\n",
    "    # Apply Horner's method.\n",
    "    for i in 2:length(p.c)\n",
    "        val = val * x + p.c[i]\n",
    "    end\n",
    "    return val\n",
    "end"
   ]
  },
  {
   "cell_type": "code",
   "execution_count": 16,
   "metadata": {
    "slideshow": {
     "slide_type": "subslide"
    }
   },
   "outputs": [
    {
     "name": "stdout",
     "output_type": "stream",
     "text": [
      "-1\n",
      "-1.4808129039999995\n"
     ]
    },
    {
     "data": {
      "text/plain": [
       "3-element Vector{Float64}:\n",
       " -1.0\n",
       " 32.0\n",
       " -1.6270000000000002"
      ]
     },
     "execution_count": 16,
     "metadata": {},
     "output_type": "execute_result"
    }
   ],
   "source": [
    "# Now we can call our polynomial object like a function!\n",
    "println(p(1))\n",
    "println(p(1.234))\n",
    "\n",
    "# Broadcasting works automatically for callable objects!\n",
    "p.([1, -2, 1.3])"
   ]
  },
  {
   "cell_type": "markdown",
   "metadata": {
    "slideshow": {
     "slide_type": "slide"
    }
   },
   "source": [
    "## Visualizing Polynomials: Extending `Plots.jl`\n",
    "\n",
    "Thanks to our callable object, plotting a polynomial is now straightforward. We can extend the `plot` and `plot!` functions from the `Plots` package to work directly with `MyPoly` objects. This is another example of Julia's powerful composability. 📈"
   ]
  },
  {
   "cell_type": "code",
   "execution_count": 17,
   "metadata": {
    "slideshow": {
     "slide_type": "fragment"
    }
   },
   "outputs": [],
   "source": [
    "using Plots\n",
    "\n",
    "# Extend Plots.plot! to add a MyPoly to an existing plot.\n",
    "function Plots.plot!(p::MyPoly; xlim=[-2, 2])\n",
    "    # Generate a range of x-values for a smooth curve.\n",
    "    xx = range(xlim[1], xlim[2], length=100)\n",
    "    # Use broadcasting p.(xx) to evaluate the polynomial at all points.\n",
    "    plot!(xx, p.(xx), legend=false, grid=true, xlim=xlim)\n",
    "    xlabel!(string(p.var))\n",
    "end\n",
    "\n",
    "# Extend Plots.plot to create a new plot for a MyPoly.\n",
    "function Plots.plot(p::MyPoly; xlim=[-2, 2])\n",
    "    # Create a new, empty plot.\n",
    "    plot()\n",
    "    # Call our new plot! method to add the polynomial.\n",
    "    plot!(p; xlim=xlim)\n",
    "end"
   ]
  },
  {
   "cell_type": "code",
   "execution_count": 18,
   "metadata": {
    "slideshow": {
     "slide_type": "subslide"
    }
   },
   "outputs": [
    {
     "data": {
      "text/plain": [
       "MyPoly: 1⋅x^5 + 1⋅x^4 - 5⋅x^3 - 5⋅x^2 + 4⋅x + 4"
      ]
     },
     "metadata": {},
     "output_type": "display_data"
    },
    {
     "data": {
      "image/png": "[encoded data removed]",
      "image/svg+xml": [
       "<?xml version=\"1.0\" encoding=\"utf-8\"?>\n",
       "<svg xmlns=\"http://www.w3.org/2000/svg\" xmlns:xlink=\"http://www.w3.org/1999/xlink\" width=\"600\" height=\"400\" viewBox=\"0 0 2400 1600\">\n",
       "<defs>\n",
       "  <clipPath id=\"clip410\">\n",
       "    <rect x=\"0\" y=\"0\" width=\"2400\" height=\"1600\"/>\n",
       "  </clipPath>\n",
       "</defs>\n",
       "<path clip-path=\"url(#clip410)\" d=\"M0 1600 L2400 1600 L2400 0 L0 0  Z\" fill=\"#ffffff\" fill-rule=\"evenodd\" fill-opacity=\"1\"/>\n",
       "<defs>\n",
       "  <clipPath id=\"clip411\">\n",
       "    <rect x=\"480\" y=\"0\" width=\"1681\" height=\"1600\"/>\n",
       "  </clipPath>\n",
       "</defs>\n",
       "<path clip-path=\"url(#clip410)\" d=\"M193.936 1423.18 L2352.76 1423.18 L2352.76 47.2441 L193.936 47.2441  Z\" fill=\"#ffffff\" fill-rule=\"evenodd\" fill-opacity=\"1\"/>\n",
       "<defs>\n",
       "  <clipPath id=\"clip412\">\n",
       "    <rect x=\"193\" y=\"47\" width=\"2160\" height=\"1377\"/>\n",
       "  </clipPath>\n",
       "</defs>\n",
       "<polyline clip-path=\"url(#clip412)\" style=\"stroke:#000000; stroke-linecap:round; stroke-linejoin:round; stroke-width:2; stroke-opacity:0.1; fill:none\" points=\"255.035,1423.18 255.035,47.2441 \"/>\n",
       "<polyline clip-path=\"url(#clip412)\" style=\"stroke:#000000; stroke-linecap:round; stroke-linejoin:round; stroke-width:2; stroke-opacity:0.1; fill:none\" points=\"764.19,1423.18 764.19,47.2441 \"/>\n",
       "<polyline clip-path=\"url(#clip412)\" style=\"stroke:#000000; stroke-linecap:round; stroke-linejoin:round; stroke-width:2; stroke-opacity:0.1; fill:none\" points=\"1273.35,1423.18 1273.35,47.2441 \"/>\n",
       "<polyline clip-path=\"url(#clip412)\" style=\"stroke:#000000; stroke-linecap:round; stroke-linejoin:round; stroke-width:2; stroke-opacity:0.1; fill:none\" points=\"1782.5,1423.18 1782.5,47.2441 \"/>\n",
       "<polyline clip-path=\"url(#clip412)\" style=\"stroke:#000000; stroke-linecap:round; stroke-linejoin:round; stroke-width:2; stroke-opacity:0.1; fill:none\" points=\"2291.66,1423.18 2291.66,47.2441 \"/>\n",
       "<polyline clip-path=\"url(#clip412)\" style=\"stroke:#000000; stroke-linecap:round; stroke-linejoin:round; stroke-width:2; stroke-opacity:0.1; fill:none\" points=\"193.936,1279.07 2352.76,1279.07 \"/>\n",
       "<polyline clip-path=\"url(#clip412)\" style=\"stroke:#000000; stroke-linecap:round; stroke-linejoin:round; stroke-width:2; stroke-opacity:0.1; fill:none\" points=\"193.936,969.222 2352.76,969.222 \"/>\n",
       "<polyline clip-path=\"url(#clip412)\" style=\"stroke:#000000; stroke-linecap:round; stroke-linejoin:round; stroke-width:2; stroke-opacity:0.1; fill:none\" points=\"193.936,659.378 2352.76,659.378 \"/>\n",
       "<polyline clip-path=\"url(#clip412)\" style=\"stroke:#000000; stroke-linecap:round; stroke-linejoin:round; stroke-width:2; stroke-opacity:0.1; fill:none\" points=\"193.936,349.534 2352.76,349.534 \"/>\n",
       "<polyline clip-path=\"url(#clip410)\" style=\"stroke:#000000; stroke-linecap:round; stroke-linejoin:round; stroke-width:4; stroke-opacity:1; fill:none\" points=\"193.936,1423.18 2352.76,1423.18 \"/>\n",
       "<polyline clip-path=\"url(#clip410)\" style=\"stroke:#000000; stroke-linecap:round; stroke-linejoin:round; stroke-width:4; stroke-opacity:1; fill:none\" points=\"255.035,1423.18 255.035,1404.28 \"/>\n",
       "<polyline clip-path=\"url(#clip410)\" style=\"stroke:#000000; stroke-linecap:round; stroke-linejoin:round; stroke-width:4; stroke-opacity:1; fill:none\" points=\"764.19,1423.18 764.19,1404.28 \"/>\n",
       "<polyline clip-path=\"url(#clip410)\" style=\"stroke:#000000; stroke-linecap:round; stroke-linejoin:round; stroke-width:4; stroke-opacity:1; fill:none\" points=\"1273.35,1423.18 1273.35,1404.28 \"/>\n",
       "<polyline clip-path=\"url(#clip410)\" style=\"stroke:#000000; stroke-linecap:round; stroke-linejoin:round; stroke-width:4; stroke-opacity:1; fill:none\" points=\"1782.5,1423.18 1782.5,1404.28 \"/>\n",
       "<polyline clip-path=\"url(#clip410)\" style=\"stroke:#000000; stroke-linecap:round; stroke-linejoin:round; stroke-width:4; stroke-opacity:1; fill:none\" points=\"2291.66,1423.18 2291.66,1404.28 \"/>\n",
       "<path clip-path=\"url(#clip410)\" d=\"M224.977 1468.75 L254.653 1468.75 L254.653 1472.69 L224.977 1472.69 L224.977 1468.75 Z\" fill=\"#000000\" fill-rule=\"nonzero\" fill-opacity=\"1\" /><path clip-path=\"url(#clip410)\" d=\"M268.773 1481.64 L285.092 1481.64 L285.092 1485.58 L263.148 1485.58 L263.148 1481.64 Q265.81 1478.89 270.393 1474.26 Q275 1469.61 276.18 1468.27 Q278.426 1465.74 279.305 1464.01 Q280.208 1462.25 280.208 1460.56 Q280.208 1457.8 278.264 1456.07 Q276.342 1454.33 273.241 1454.33 Q271.042 1454.33 268.588 1455.09 Q266.157 1455.86 263.38 1457.41 L263.38 1452.69 Q266.204 1451.55 268.657 1450.97 Q271.111 1450.39 273.148 1450.39 Q278.518 1450.39 281.713 1453.08 Q284.907 1455.77 284.907 1460.26 Q284.907 1462.39 284.097 1464.31 Q283.31 1466.2 281.204 1468.8 Q280.625 1469.47 277.523 1472.69 Q274.421 1475.88 268.773 1481.64 Z\" fill=\"#000000\" fill-rule=\"nonzero\" fill-opacity=\"1\" /><path clip-path=\"url(#clip410)\" d=\"M733.947 1468.75 L763.623 1468.75 L763.623 1472.69 L733.947 1472.69 L733.947 1468.75 Z\" fill=\"#000000\" fill-rule=\"nonzero\" fill-opacity=\"1\" /><path clip-path=\"url(#clip410)\" d=\"M774.526 1481.64 L782.165 1481.64 L782.165 1455.28 L773.855 1456.95 L773.855 1452.69 L782.118 1451.02 L786.794 1451.02 L786.794 1481.64 L794.433 1481.64 L794.433 1485.58 L774.526 1485.58 L774.526 1481.64 Z\" fill=\"#000000\" fill-rule=\"nonzero\" fill-opacity=\"1\" /><path clip-path=\"url(#clip410)\" d=\"M1273.35 1454.1 Q1269.73 1454.1 1267.91 1457.66 Q1266.1 1461.2 1266.1 1468.33 Q1266.1 1475.44 1267.91 1479.01 Q1269.73 1482.55 1273.35 1482.55 Q1276.98 1482.55 1278.79 1479.01 Q1280.61 1475.44 1280.61 1468.33 Q1280.61 1461.2 1278.79 1457.66 Q1276.98 1454.1 1273.35 1454.1 M1273.35 1450.39 Q1279.16 1450.39 1282.21 1455 Q1285.29 1459.58 1285.29 1468.33 Q1285.29 1477.06 1282.21 1481.67 Q1279.16 1486.25 1273.35 1486.25 Q1267.54 1486.25 1264.46 1481.67 Q1261.4 1477.06 1261.4 1468.33 Q1261.4 1459.58 1264.46 1455 Q1267.54 1450.39 1273.35 1450.39 Z\" fill=\"#000000\" fill-rule=\"nonzero\" fill-opacity=\"1\" /><path clip-path=\"url(#clip410)\" d=\"M1772.88 1481.64 L1780.52 1481.64 L1780.52 1455.28 L1772.21 1456.95 L1772.21 1452.69 L1780.48 1451.02 L1785.15 1451.02 L1785.15 1481.64 L1792.79 1481.64 L1792.79 1485.58 L1772.88 1485.58 L1772.88 1481.64 Z\" fill=\"#000000\" fill-rule=\"nonzero\" fill-opacity=\"1\" /><path clip-path=\"url(#clip410)\" d=\"M2286.31 1481.64 L2302.63 1481.64 L2302.63 1485.58 L2280.69 1485.58 L2280.69 1481.64 Q2283.35 1478.89 2287.93 1474.26 Q2292.54 1469.61 2293.72 1468.27 Q2295.96 1465.74 2296.84 1464.01 Q2297.75 1462.25 2297.75 1460.56 Q2297.75 1457.8 2295.8 1456.07 Q2293.88 1454.33 2290.78 1454.33 Q2288.58 1454.33 2286.12 1455.09 Q2283.69 1455.86 2280.92 1457.41 L2280.92 1452.69 Q2283.74 1451.55 2286.19 1450.97 Q2288.65 1450.39 2290.69 1450.39 Q2296.06 1450.39 2299.25 1453.08 Q2302.44 1455.77 2302.44 1460.26 Q2302.44 1462.39 2301.63 1464.31 Q2300.85 1466.2 2298.74 1468.8 Q2298.16 1469.47 2295.06 1472.69 Q2291.96 1475.88 2286.31 1481.64 Z\" fill=\"#000000\" fill-rule=\"nonzero\" fill-opacity=\"1\" /><path clip-path=\"url(#clip410)\" d=\"M1289.96 1532.4 L1277.07 1549.74 L1290.63 1568.04 L1283.72 1568.04 L1273.35 1554.04 L1262.97 1568.04 L1256.06 1568.04 L1269.91 1549.39 L1257.24 1532.4 L1264.15 1532.4 L1273.6 1545.1 L1283.05 1532.4 L1289.96 1532.4 Z\" fill=\"#000000\" fill-rule=\"nonzero\" fill-opacity=\"1\" /><polyline clip-path=\"url(#clip410)\" style=\"stroke:#000000; stroke-linecap:round; stroke-linejoin:round; stroke-width:4; stroke-opacity:1; fill:none\" points=\"193.936,1423.18 193.936,47.2441 \"/>\n",
       "<polyline clip-path=\"url(#clip410)\" style=\"stroke:#000000; stroke-linecap:round; stroke-linejoin:round; stroke-width:4; stroke-opacity:1; fill:none\" points=\"193.936,1279.07 212.834,1279.07 \"/>\n",
       "<polyline clip-path=\"url(#clip410)\" style=\"stroke:#000000; stroke-linecap:round; stroke-linejoin:round; stroke-width:4; stroke-opacity:1; fill:none\" points=\"193.936,969.222 212.834,969.222 \"/>\n",
       "<polyline clip-path=\"url(#clip410)\" style=\"stroke:#000000; stroke-linecap:round; stroke-linejoin:round; stroke-width:4; stroke-opacity:1; fill:none\" points=\"193.936,659.378 212.834,659.378 \"/>\n",
       "<polyline clip-path=\"url(#clip410)\" style=\"stroke:#000000; stroke-linecap:round; stroke-linejoin:round; stroke-width:4; stroke-opacity:1; fill:none\" points=\"193.936,349.534 212.834,349.534 \"/>\n",
       "<path clip-path=\"url(#clip410)\" d=\"M50.9921 1279.52 L80.6679 1279.52 L80.6679 1283.45 L50.9921 1283.45 L50.9921 1279.52 Z\" fill=\"#000000\" fill-rule=\"nonzero\" fill-opacity=\"1\" /><path clip-path=\"url(#clip410)\" d=\"M90.8067 1261.79 L109.163 1261.79 L109.163 1265.72 L95.0891 1265.72 L95.0891 1274.19 Q96.1076 1273.85 97.1261 1273.68 Q98.1447 1273.5 99.1632 1273.5 Q104.95 1273.5 108.33 1276.67 Q111.709 1279.84 111.709 1285.26 Q111.709 1290.84 108.237 1293.94 Q104.765 1297.02 98.4456 1297.02 Q96.2697 1297.02 94.0012 1296.65 Q91.7558 1296.28 89.3484 1295.54 L89.3484 1290.84 Q91.4317 1291.97 93.6539 1292.53 Q95.8761 1293.08 98.353 1293.08 Q102.358 1293.08 104.696 1290.98 Q107.033 1288.87 107.033 1285.26 Q107.033 1281.65 104.696 1279.54 Q102.358 1277.43 98.353 1277.43 Q96.478 1277.43 94.603 1277.85 Q92.7512 1278.27 90.8067 1279.15 L90.8067 1261.79 Z\" fill=\"#000000\" fill-rule=\"nonzero\" fill-opacity=\"1\" /><path clip-path=\"url(#clip410)\" d=\"M120.922 1290.47 L125.807 1290.47 L125.807 1296.35 L120.922 1296.35 L120.922 1290.47 Z\" fill=\"#000000\" fill-rule=\"nonzero\" fill-opacity=\"1\" /><path clip-path=\"url(#clip410)\" d=\"M145.992 1264.87 Q142.381 1264.87 140.552 1268.43 Q138.746 1271.97 138.746 1279.1 Q138.746 1286.21 140.552 1289.77 Q142.381 1293.31 145.992 1293.31 Q149.626 1293.31 151.431 1289.77 Q153.26 1286.21 153.26 1279.1 Q153.26 1271.97 151.431 1268.43 Q149.626 1264.87 145.992 1264.87 M145.992 1261.16 Q151.802 1261.16 154.857 1265.77 Q157.936 1270.35 157.936 1279.1 Q157.936 1287.83 154.857 1292.43 Q151.802 1297.02 145.992 1297.02 Q140.181 1297.02 137.103 1292.43 Q134.047 1287.83 134.047 1279.1 Q134.047 1270.35 137.103 1265.77 Q140.181 1261.16 145.992 1261.16 Z\" fill=\"#000000\" fill-rule=\"nonzero\" fill-opacity=\"1\" /><path clip-path=\"url(#clip410)\" d=\"M51.9875 969.674 L81.6633 969.674 L81.6633 973.609 L51.9875 973.609 L51.9875 969.674 Z\" fill=\"#000000\" fill-rule=\"nonzero\" fill-opacity=\"1\" /><path clip-path=\"url(#clip410)\" d=\"M95.7836 982.567 L112.103 982.567 L112.103 986.502 L90.1586 986.502 L90.1586 982.567 Q92.8206 979.813 97.4039 975.183 Q102.01 970.53 103.191 969.188 Q105.436 966.665 106.316 964.928 Q107.219 963.169 107.219 961.479 Q107.219 958.725 105.274 956.989 Q103.353 955.253 100.251 955.253 Q98.0521 955.253 95.5984 956.016 Q93.1678 956.78 90.3901 958.331 L90.3901 953.609 Q93.2141 952.475 95.6678 951.896 Q98.1215 951.317 100.159 951.317 Q105.529 951.317 108.723 954.003 Q111.918 956.688 111.918 961.179 Q111.918 963.308 111.108 965.229 Q110.321 967.128 108.214 969.72 Q107.635 970.391 104.534 973.609 Q101.432 976.803 95.7836 982.567 Z\" fill=\"#000000\" fill-rule=\"nonzero\" fill-opacity=\"1\" /><path clip-path=\"url(#clip410)\" d=\"M121.918 980.623 L126.802 980.623 L126.802 986.502 L121.918 986.502 L121.918 980.623 Z\" fill=\"#000000\" fill-rule=\"nonzero\" fill-opacity=\"1\" /><path clip-path=\"url(#clip410)\" d=\"M137.033 951.942 L155.39 951.942 L155.39 955.878 L141.316 955.878 L141.316 964.35 Q142.334 964.003 143.353 963.841 Q144.371 963.655 145.39 963.655 Q151.177 963.655 154.556 966.827 Q157.936 969.998 157.936 975.415 Q157.936 980.993 154.464 984.095 Q150.992 987.174 144.672 987.174 Q142.496 987.174 140.228 986.803 Q137.982 986.433 135.575 985.692 L135.575 980.993 Q137.658 982.127 139.881 982.683 Q142.103 983.239 144.58 983.239 Q148.584 983.239 150.922 981.132 Q153.26 979.026 153.26 975.415 Q153.26 971.803 150.922 969.697 Q148.584 967.591 144.58 967.591 Q142.705 967.591 140.83 968.007 Q138.978 968.424 137.033 969.303 L137.033 951.942 Z\" fill=\"#000000\" fill-rule=\"nonzero\" fill-opacity=\"1\" /><path clip-path=\"url(#clip410)\" d=\"M100.76 645.177 Q97.1493 645.177 95.3206 648.741 Q93.515 652.283 93.515 659.413 Q93.515 666.519 95.3206 670.084 Q97.1493 673.626 100.76 673.626 Q104.395 673.626 106.2 670.084 Q108.029 666.519 108.029 659.413 Q108.029 652.283 106.2 648.741 Q104.395 645.177 100.76 645.177 M100.76 641.473 Q106.571 641.473 109.626 646.079 Q112.705 650.663 112.705 659.413 Q112.705 668.14 109.626 672.746 Q106.571 677.329 100.76 677.329 Q94.9502 677.329 91.8715 672.746 Q88.816 668.14 88.816 659.413 Q88.816 650.663 91.8715 646.079 Q94.9502 641.473 100.76 641.473 Z\" fill=\"#000000\" fill-rule=\"nonzero\" fill-opacity=\"1\" /><path clip-path=\"url(#clip410)\" d=\"M120.922 670.778 L125.807 670.778 L125.807 676.658 L120.922 676.658 L120.922 670.778 Z\" fill=\"#000000\" fill-rule=\"nonzero\" fill-opacity=\"1\" /><path clip-path=\"url(#clip410)\" d=\"M145.992 645.177 Q142.381 645.177 140.552 648.741 Q138.746 652.283 138.746 659.413 Q138.746 666.519 140.552 670.084 Q142.381 673.626 145.992 673.626 Q149.626 673.626 151.431 670.084 Q153.26 666.519 153.26 659.413 Q153.26 652.283 151.431 648.741 Q149.626 645.177 145.992 645.177 M145.992 641.473 Q151.802 641.473 154.857 646.079 Q157.936 650.663 157.936 659.413 Q157.936 668.14 154.857 672.746 Q151.802 677.329 145.992 677.329 Q140.181 677.329 137.103 672.746 Q134.047 668.14 134.047 659.413 Q134.047 650.663 137.103 646.079 Q140.181 641.473 145.992 641.473 Z\" fill=\"#000000\" fill-rule=\"nonzero\" fill-opacity=\"1\" /><path clip-path=\"url(#clip410)\" d=\"M95.7836 362.878 L112.103 362.878 L112.103 366.814 L90.1586 366.814 L90.1586 362.878 Q92.8206 360.124 97.4039 355.494 Q102.01 350.841 103.191 349.499 Q105.436 346.976 106.316 345.24 Q107.219 343.48 107.219 341.791 Q107.219 339.036 105.274 337.3 Q103.353 335.564 100.251 335.564 Q98.0521 335.564 95.5984 336.328 Q93.1678 337.091 90.3901 338.642 L90.3901 333.92 Q93.2141 332.786 95.6678 332.207 Q98.1215 331.629 100.159 331.629 Q105.529 331.629 108.723 334.314 Q111.918 336.999 111.918 341.49 Q111.918 343.619 111.108 345.541 Q110.321 347.439 108.214 350.031 Q107.635 350.703 104.534 353.92 Q101.432 357.115 95.7836 362.878 Z\" fill=\"#000000\" fill-rule=\"nonzero\" fill-opacity=\"1\" /><path clip-path=\"url(#clip410)\" d=\"M121.918 360.934 L126.802 360.934 L126.802 366.814 L121.918 366.814 L121.918 360.934 Z\" fill=\"#000000\" fill-rule=\"nonzero\" fill-opacity=\"1\" /><path clip-path=\"url(#clip410)\" d=\"M137.033 332.254 L155.39 332.254 L155.39 336.189 L141.316 336.189 L141.316 344.661 Q142.334 344.314 143.353 344.152 Q144.371 343.966 145.39 343.966 Q151.177 343.966 154.556 347.138 Q157.936 350.309 157.936 355.726 Q157.936 361.304 154.464 364.406 Q150.992 367.485 144.672 367.485 Q142.496 367.485 140.228 367.114 Q137.982 366.744 135.575 366.003 L135.575 361.304 Q137.658 362.439 139.881 362.994 Q142.103 363.55 144.58 363.55 Q148.584 363.55 150.922 361.443 Q153.26 359.337 153.26 355.726 Q153.26 352.115 150.922 350.008 Q148.584 347.902 144.58 347.902 Q142.705 347.902 140.83 348.318 Q138.978 348.735 137.033 349.615 L137.033 332.254 Z\" fill=\"#000000\" fill-rule=\"nonzero\" fill-opacity=\"1\" /><polyline clip-path=\"url(#clip412)\" style=\"stroke:#009af9; stroke-linecap:round; stroke-linejoin:round; stroke-width:4; stroke-opacity:1; fill:none\" points=\"255.035,659.378 275.607,605.341 296.179,562.566 316.751,529.832 337.322,505.989 357.894,489.952 378.466,480.702 399.038,477.281 419.61,478.796 440.182,484.412 460.754,493.352 481.326,504.899 501.898,518.388 522.47,533.209 543.042,548.805 563.614,564.668 584.186,580.34 604.758,595.409 625.33,609.511 645.902,622.324 666.474,633.569 687.046,643.009 707.617,650.445 728.189,655.717 748.761,658.699 769.333,659.302 789.905,657.468 810.477,653.172 831.049,646.417 851.621,637.236 872.193,625.686 892.765,611.851 913.337,595.837 933.909,577.773 954.481,557.807 975.053,536.106 995.625,512.855 1016.2,488.251 1036.77,462.507 1057.34,435.85 1077.91,408.513 1098.48,380.742 1119.06,352.787 1139.63,324.906 1160.2,297.36 1180.77,270.414 1201.34,244.331 1221.92,219.375 1242.49,195.809 1263.06,173.89 1283.63,153.87 1304.2,135.994 1324.78,120.498 1345.35,107.609 1365.92,97.5405 1386.49,90.4929 1407.06,86.6518 1427.64,86.1857 1448.21,89.245 1468.78,95.96 1489.35,106.44 1509.92,120.77 1530.5,139.011 1551.07,161.198 1571.64,187.338 1592.21,217.407 1612.78,251.352 1633.35,289.086 1653.93,330.488 1674.5,375.401 1695.07,423.629 1715.64,474.94 1736.21,529.058 1756.79,585.668 1777.36,644.407 1797.93,704.87 1818.5,766.603 1839.07,829.103 1859.65,891.819 1880.22,954.144 1900.79,1015.42 1921.36,1074.94 1941.93,1131.92 1962.51,1185.55 1983.08,1234.92 2003.65,1279.1 2024.22,1317.07 2044.79,1347.74 2065.37,1369.98 2085.94,1382.57 2106.51,1384.24 2127.08,1373.62 2147.65,1349.29 2168.23,1309.76 2188.8,1253.44 2209.37,1178.68 2229.94,1083.75 2250.51,966.837 2271.09,826.038 2291.66,659.378 \"/>\n",
       "</svg>\n"
      ],
      "text/html": [
       "<img src=\"data:image/png;base64,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\" />"
      ]
     },
     "execution_count": 18,
     "metadata": {},
     "output_type": "execute_result"
    }
   ],
   "source": [
    "# Create a new polynomial for our plotting example.\n",
    "p = MyPoly([1, 1, -5, -5, 4, 4])\n",
    "display(p)\n",
    "\n",
    "# It's now trivial to plot our object!\n",
    "plot(p, xlim=[-2,2])"
   ]
  },
  {
   "cell_type": "markdown",
   "metadata": {
    "slideshow": {
     "slide_type": "slide"
    }
   },
   "source": [
    "## Operator Overloading\n",
    "\n",
    "Standard operators like `+`, `-`, and `*` are just functions in Julia. This means we can overload them for our `MyPoly` type, allowing us to write intuitive, mathematical expressions.\n",
    "\n",
    "These fundamental operators belong to the `Base` module. When we extend a function from a module, we must qualify it with the module name, like `Base.:+`. (The colon `:` is needed because `+` is an operator).\n",
    "\n",
    "To add two polynomials, we simply add their coefficients. The only trick is to first pad the shorter coefficient vector with zeros to make them the same length."
   ]
  },
  {
   "cell_type": "code",
   "execution_count": 19,
   "metadata": {
    "slideshow": {
     "slide_type": "fragment"
    }
   },
   "outputs": [],
   "source": [
    "# Overload the addition operator for two MyPoly objects.\n",
    "function Base.:+(p1::MyPoly, p2::MyPoly)\n",
    "    # Ensure we're not adding polynomials of different variables.\n",
    "    if p1.var != p2.var\n",
    "        error(\"Cannot add polynomials with different independent variables.\")\n",
    "    end\n",
    "\n",
    "    n1 = length(p1.c)\n",
    "    n2 = length(p2.c)\n",
    "    n = max(n1, n2)\n",
    "\n",
    "    # Pad the shorter coefficient vector with leading zeros.\n",
    "    c1_padded = [zeros(eltype(p1.c), n - n1); p1.c]\n",
    "    c2_padded = [zeros(eltype(p2.c), n - n2); p2.c]\n",
    "\n",
    "    return MyPoly(c1_padded + c2_padded, p1.var)\n",
    "end"
   ]
  },
  {
   "cell_type": "code",
   "execution_count": 20,
   "metadata": {
    "slideshow": {
     "slide_type": "subslide"
    }
   },
   "outputs": [
    {
     "name": "stdout",
     "output_type": "stream",
     "text": [
      "MyPoly: 1⋅x^5 + 1⋅x^4 - 5⋅x^3 - 5⋅x^2 + 4⋅x + 4\n",
      "MyPoly: 2⋅x^5 + 2⋅x^4 - 10⋅x^3 - 10⋅x^2 + 8⋅x + 8\n",
      "MyPoly: 1.0⋅x^5 + 1.0⋅x^4 - 5.0⋅x^3 - 5.0⋅x^2 + 5.1⋅x + 6.2\n"
     ]
    }
   ],
   "source": [
    "println(p)\n",
    "println(p + p)\n",
    "println(p + MyPoly([1.1, 2.2]))\n",
    "\n",
    "# The following line will trigger our custom error message.\n",
    "# println(p + MyPoly([1], 's'))"
   ]
  },
  {
   "cell_type": "markdown",
   "metadata": {
    "slideshow": {
     "slide_type": "subslide"
    }
   },
   "source": [
    "With addition defined, subtraction is easy! We can simply reuse our `+` operator."
   ]
  },
  {
   "cell_type": "code",
   "execution_count": 21,
   "metadata": {
    "slideshow": {
     "slide_type": "fragment"
    }
   },
   "outputs": [],
   "source": [
    "# Overload the subtraction operator.\n",
    "function Base.:-(p1::MyPoly, p2::MyPoly)\n",
    "    # Subtraction is the same as adding the negation.\n",
    "    return p1 + MyPoly(-p2.c, p2.var)\n",
    "end"
   ]
  },
  {
   "cell_type": "markdown",
   "metadata": {
    "slideshow": {
     "slide_type": "subslide"
    }
   },
   "source": [
    "Scalar multiplication is similar. We can overload `*` to handle multiplying a polynomial by a number. Note that we don't specify the type of the scalar `a`, so it can be any kind of number. We also define multiplication in the reverse order to be commutative, simply by reusing the first method."
   ]
  },
  {
   "cell_type": "code",
   "execution_count": 22,
   "metadata": {
    "slideshow": {
     "slide_type": "fragment"
    }
   },
   "outputs": [],
   "source": [
    "# Define scalar multiplication: number * polynomial.\n",
    "function Base.:*(a, p::MyPoly)\n",
    "    # Broadcasting the scalar multiplication across the coefficients.\n",
    "    newc = a * p.c\n",
    "    return MyPoly(newc, p.var)\n",
    "end\n",
    "\n",
    "# Define the reverse order: polynomial * number.\n",
    "function Base.:*(p::MyPoly, a)\n",
    "    # Reuse the method we just defined.\n",
    "    return a * p\n",
    "end"
   ]
  },
  {
   "cell_type": "markdown",
   "metadata": {
    "slideshow": {
     "slide_type": "slide"
    }
   },
   "source": [
    "With our overloaded `+`, `-`, and `*` operators, we can now write clean, intuitive code to manipulate polynomials:"
   ]
  },
  {
   "cell_type": "code",
   "execution_count": 23,
   "metadata": {
    "slideshow": {
     "slide_type": "fragment"
    }
   },
   "outputs": [
    {
     "data": {
      "image/png": "[encoded data removed]",
      "image/svg+xml": [
       "<?xml version=\"1.0\" encoding=\"utf-8\"?>\n",
       "<svg xmlns=\"http://www.w3.org/2000/svg\" xmlns:xlink=\"http://www.w3.org/1999/xlink\" width=\"600\" height=\"400\" viewBox=\"0 0 2400 1600\">\n",
       "<defs>\n",
       "  <clipPath id=\"clip470\">\n",
       "    <rect x=\"0\" y=\"0\" width=\"2400\" height=\"1600\"/>\n",
       "  </clipPath>\n",
       "</defs>\n",
       "<path clip-path=\"url(#clip470)\" d=\"M0 1600 L2400 1600 L2400 0 L0 0  Z\" fill=\"#ffffff\" fill-rule=\"evenodd\" fill-opacity=\"1\"/>\n",
       "<defs>\n",
       "  <clipPath id=\"clip471\">\n",
       "    <rect x=\"480\" y=\"0\" width=\"1681\" height=\"1600\"/>\n",
       "  </clipPath>\n",
       "</defs>\n",
       "<path clip-path=\"url(#clip470)\" d=\"M149.191 1423.18 L2352.76 1423.18 L2352.76 47.2441 L149.191 47.2441  Z\" fill=\"#ffffff\" fill-rule=\"evenodd\" fill-opacity=\"1\"/>\n",
       "<defs>\n",
       "  <clipPath id=\"clip472\">\n",
       "    <rect x=\"149\" y=\"47\" width=\"2205\" height=\"1377\"/>\n",
       "  </clipPath>\n",
       "</defs>\n",
       "<polyline clip-path=\"url(#clip472)\" style=\"stroke:#000000; stroke-linecap:round; stroke-linejoin:round; stroke-width:2; stroke-opacity:0.1; fill:none\" points=\"211.556,1423.18 211.556,47.2441 \"/>\n",
       "<polyline clip-path=\"url(#clip472)\" style=\"stroke:#000000; stroke-linecap:round; stroke-linejoin:round; stroke-width:2; stroke-opacity:0.1; fill:none\" points=\"731.265,1423.18 731.265,47.2441 \"/>\n",
       "<polyline clip-path=\"url(#clip472)\" style=\"stroke:#000000; stroke-linecap:round; stroke-linejoin:round; stroke-width:2; stroke-opacity:0.1; fill:none\" points=\"1250.97,1423.18 1250.97,47.2441 \"/>\n",
       "<polyline clip-path=\"url(#clip472)\" style=\"stroke:#000000; stroke-linecap:round; stroke-linejoin:round; stroke-width:2; stroke-opacity:0.1; fill:none\" points=\"1770.68,1423.18 1770.68,47.2441 \"/>\n",
       "<polyline clip-path=\"url(#clip472)\" style=\"stroke:#000000; stroke-linecap:round; stroke-linejoin:round; stroke-width:2; stroke-opacity:0.1; fill:none\" points=\"2290.39,1423.18 2290.39,47.2441 \"/>\n",
       "<polyline clip-path=\"url(#clip472)\" style=\"stroke:#000000; stroke-linecap:round; stroke-linejoin:round; stroke-width:2; stroke-opacity:0.1; fill:none\" points=\"149.191,1324.73 2352.76,1324.73 \"/>\n",
       "<polyline clip-path=\"url(#clip472)\" style=\"stroke:#000000; stroke-linecap:round; stroke-linejoin:round; stroke-width:2; stroke-opacity:0.1; fill:none\" points=\"149.191,976.37 2352.76,976.37 \"/>\n",
       "<polyline clip-path=\"url(#clip472)\" style=\"stroke:#000000; stroke-linecap:round; stroke-linejoin:round; stroke-width:2; stroke-opacity:0.1; fill:none\" points=\"149.191,628.01 2352.76,628.01 \"/>\n",
       "<polyline clip-path=\"url(#clip472)\" style=\"stroke:#000000; stroke-linecap:round; stroke-linejoin:round; stroke-width:2; stroke-opacity:0.1; fill:none\" points=\"149.191,279.65 2352.76,279.65 \"/>\n",
       "<polyline clip-path=\"url(#clip470)\" style=\"stroke:#000000; stroke-linecap:round; stroke-linejoin:round; stroke-width:4; stroke-opacity:1; fill:none\" points=\"149.191,1423.18 2352.76,1423.18 \"/>\n",
       "<polyline clip-path=\"url(#clip470)\" style=\"stroke:#000000; stroke-linecap:round; stroke-linejoin:round; stroke-width:4; stroke-opacity:1; fill:none\" points=\"211.556,1423.18 211.556,1404.28 \"/>\n",
       "<polyline clip-path=\"url(#clip470)\" style=\"stroke:#000000; stroke-linecap:round; stroke-linejoin:round; stroke-width:4; stroke-opacity:1; fill:none\" points=\"731.265,1423.18 731.265,1404.28 \"/>\n",
       "<polyline clip-path=\"url(#clip470)\" style=\"stroke:#000000; stroke-linecap:round; stroke-linejoin:round; stroke-width:4; stroke-opacity:1; fill:none\" points=\"1250.97,1423.18 1250.97,1404.28 \"/>\n",
       "<polyline clip-path=\"url(#clip470)\" style=\"stroke:#000000; stroke-linecap:round; stroke-linejoin:round; stroke-width:4; stroke-opacity:1; fill:none\" points=\"1770.68,1423.18 1770.68,1404.28 \"/>\n",
       "<polyline clip-path=\"url(#clip470)\" style=\"stroke:#000000; stroke-linecap:round; stroke-linejoin:round; stroke-width:4; stroke-opacity:1; fill:none\" points=\"2290.39,1423.18 2290.39,1404.28 \"/>\n",
       "<path clip-path=\"url(#clip470)\" d=\"M181.498 1468.75 L211.174 1468.75 L211.174 1472.69 L181.498 1472.69 L181.498 1468.75 Z\" fill=\"#000000\" fill-rule=\"nonzero\" fill-opacity=\"1\" /><path clip-path=\"url(#clip470)\" d=\"M225.294 1481.64 L241.614 1481.64 L241.614 1485.58 L219.669 1485.58 L219.669 1481.64 Q222.331 1478.89 226.915 1474.26 Q231.521 1469.61 232.702 1468.27 Q234.947 1465.74 235.827 1464.01 Q236.729 1462.25 236.729 1460.56 Q236.729 1457.8 234.785 1456.07 Q232.864 1454.33 229.762 1454.33 Q227.563 1454.33 225.109 1455.09 Q222.679 1455.86 219.901 1457.41 L219.901 1452.69 Q222.725 1451.55 225.179 1450.97 Q227.632 1450.39 229.669 1450.39 Q235.04 1450.39 238.234 1453.08 Q241.428 1455.77 241.428 1460.26 Q241.428 1462.39 240.618 1464.31 Q239.831 1466.2 237.725 1468.8 Q237.146 1469.47 234.044 1472.69 Q230.942 1475.88 225.294 1481.64 Z\" fill=\"#000000\" fill-rule=\"nonzero\" fill-opacity=\"1\" /><path clip-path=\"url(#clip470)\" d=\"M701.022 1468.75 L730.698 1468.75 L730.698 1472.69 L701.022 1472.69 L701.022 1468.75 Z\" fill=\"#000000\" fill-rule=\"nonzero\" fill-opacity=\"1\" /><path clip-path=\"url(#clip470)\" d=\"M741.6 1481.64 L749.239 1481.64 L749.239 1455.28 L740.929 1456.95 L740.929 1452.69 L749.193 1451.02 L753.869 1451.02 L753.869 1481.64 L761.508 1481.64 L761.508 1485.58 L741.6 1485.58 L741.6 1481.64 Z\" fill=\"#000000\" fill-rule=\"nonzero\" fill-opacity=\"1\" /><path clip-path=\"url(#clip470)\" d=\"M1250.97 1454.1 Q1247.36 1454.1 1245.53 1457.66 Q1243.73 1461.2 1243.73 1468.33 Q1243.73 1475.44 1245.53 1479.01 Q1247.36 1482.55 1250.97 1482.55 Q1254.61 1482.55 1256.41 1479.01 Q1258.24 1475.44 1258.24 1468.33 Q1258.24 1461.2 1256.41 1457.66 Q1254.61 1454.1 1250.97 1454.1 M1250.97 1450.39 Q1256.78 1450.39 1259.84 1455 Q1262.92 1459.58 1262.92 1468.33 Q1262.92 1477.06 1259.84 1481.67 Q1256.78 1486.25 1250.97 1486.25 Q1245.16 1486.25 1242.08 1481.67 Q1239.03 1477.06 1239.03 1468.33 Q1239.03 1459.58 1242.08 1455 Q1245.16 1450.39 1250.97 1450.39 Z\" fill=\"#000000\" fill-rule=\"nonzero\" fill-opacity=\"1\" /><path clip-path=\"url(#clip470)\" d=\"M1761.06 1481.64 L1768.7 1481.64 L1768.7 1455.28 L1760.39 1456.95 L1760.39 1452.69 L1768.66 1451.02 L1773.33 1451.02 L1773.33 1481.64 L1780.97 1481.64 L1780.97 1485.58 L1761.06 1485.58 L1761.06 1481.64 Z\" fill=\"#000000\" fill-rule=\"nonzero\" fill-opacity=\"1\" /><path clip-path=\"url(#clip470)\" d=\"M2285.04 1481.64 L2301.36 1481.64 L2301.36 1485.58 L2279.42 1485.58 L2279.42 1481.64 Q2282.08 1478.89 2286.66 1474.26 Q2291.27 1469.61 2292.45 1468.27 Q2294.7 1465.74 2295.58 1464.01 Q2296.48 1462.25 2296.48 1460.56 Q2296.48 1457.8 2294.53 1456.07 Q2292.61 1454.33 2289.51 1454.33 Q2287.31 1454.33 2284.86 1455.09 Q2282.43 1455.86 2279.65 1457.41 L2279.65 1452.69 Q2282.47 1451.55 2284.93 1450.97 Q2287.38 1450.39 2289.42 1450.39 Q2294.79 1450.39 2297.98 1453.08 Q2301.18 1455.77 2301.18 1460.26 Q2301.18 1462.39 2300.37 1464.31 Q2299.58 1466.2 2297.47 1468.8 Q2296.9 1469.47 2293.79 1472.69 Q2290.69 1475.88 2285.04 1481.64 Z\" fill=\"#000000\" fill-rule=\"nonzero\" fill-opacity=\"1\" /><path clip-path=\"url(#clip470)\" d=\"M1267.59 1532.4 L1254.7 1549.74 L1268.26 1568.04 L1261.35 1568.04 L1250.97 1554.04 L1240.6 1568.04 L1233.69 1568.04 L1247.54 1549.39 L1234.87 1532.4 L1241.77 1532.4 L1251.23 1545.1 L1260.68 1532.4 L1267.59 1532.4 Z\" fill=\"#000000\" fill-rule=\"nonzero\" fill-opacity=\"1\" /><polyline clip-path=\"url(#clip470)\" style=\"stroke:#000000; stroke-linecap:round; stroke-linejoin:round; stroke-width:4; stroke-opacity:1; fill:none\" points=\"149.191,1423.18 149.191,47.2441 \"/>\n",
       "<polyline clip-path=\"url(#clip470)\" style=\"stroke:#000000; stroke-linecap:round; stroke-linejoin:round; stroke-width:4; stroke-opacity:1; fill:none\" points=\"149.191,1324.73 168.089,1324.73 \"/>\n",
       "<polyline clip-path=\"url(#clip470)\" style=\"stroke:#000000; stroke-linecap:round; stroke-linejoin:round; stroke-width:4; stroke-opacity:1; fill:none\" points=\"149.191,976.37 168.089,976.37 \"/>\n",
       "<polyline clip-path=\"url(#clip470)\" style=\"stroke:#000000; stroke-linecap:round; stroke-linejoin:round; stroke-width:4; stroke-opacity:1; fill:none\" points=\"149.191,628.01 168.089,628.01 \"/>\n",
       "<polyline clip-path=\"url(#clip470)\" style=\"stroke:#000000; stroke-linecap:round; stroke-linejoin:round; stroke-width:4; stroke-opacity:1; fill:none\" points=\"149.191,279.65 168.089,279.65 \"/>\n",
       "<path clip-path=\"url(#clip470)\" d=\"M50.9921 1325.18 L80.6679 1325.18 L80.6679 1329.12 L50.9921 1329.12 L50.9921 1325.18 Z\" fill=\"#000000\" fill-rule=\"nonzero\" fill-opacity=\"1\" /><path clip-path=\"url(#clip470)\" d=\"M103.608 1311.52 L91.8021 1329.97 L103.608 1329.97 L103.608 1311.52 M102.381 1307.45 L108.26 1307.45 L108.26 1329.97 L113.191 1329.97 L113.191 1333.86 L108.26 1333.86 L108.26 1342.01 L103.608 1342.01 L103.608 1333.86 L88.0058 1333.86 L88.0058 1329.35 L102.381 1307.45 Z\" fill=\"#000000\" fill-rule=\"nonzero\" fill-opacity=\"1\" /><path clip-path=\"url(#clip470)\" d=\"M53.0754 976.822 L82.7512 976.822 L82.7512 980.757 L53.0754 980.757 L53.0754 976.822 Z\" fill=\"#000000\" fill-rule=\"nonzero\" fill-opacity=\"1\" /><path clip-path=\"url(#clip470)\" d=\"M96.8715 989.715 L113.191 989.715 L113.191 993.65 L91.2465 993.65 L91.2465 989.715 Q93.9086 986.961 98.4919 982.331 Q103.098 977.678 104.279 976.336 Q106.524 973.812 107.404 972.076 Q108.307 970.317 108.307 968.627 Q108.307 965.873 106.362 964.137 Q104.441 962.4 101.339 962.4 Q99.14 962.4 96.6863 963.164 Q94.2558 963.928 91.478 965.479 L91.478 960.757 Q94.3021 959.623 96.7558 959.044 Q99.2095 958.465 101.246 958.465 Q106.617 958.465 109.811 961.15 Q113.006 963.836 113.006 968.326 Q113.006 970.456 112.196 972.377 Q111.408 974.275 109.302 976.868 Q108.723 977.539 105.621 980.757 Q102.52 983.951 96.8715 989.715 Z\" fill=\"#000000\" fill-rule=\"nonzero\" fill-opacity=\"1\" /><path clip-path=\"url(#clip470)\" d=\"M101.246 613.809 Q97.6354 613.809 95.8067 617.374 Q94.0012 620.915 94.0012 628.045 Q94.0012 635.151 95.8067 638.716 Q97.6354 642.258 101.246 642.258 Q104.881 642.258 106.686 638.716 Q108.515 635.151 108.515 628.045 Q108.515 620.915 106.686 617.374 Q104.881 613.809 101.246 613.809 M101.246 610.105 Q107.057 610.105 110.112 614.712 Q113.191 619.295 113.191 628.045 Q113.191 636.772 110.112 641.378 Q107.057 645.962 101.246 645.962 Q95.4363 645.962 92.3576 641.378 Q89.3021 636.772 89.3021 628.045 Q89.3021 619.295 92.3576 614.712 Q95.4363 610.105 101.246 610.105 Z\" fill=\"#000000\" fill-rule=\"nonzero\" fill-opacity=\"1\" /><path clip-path=\"url(#clip470)\" d=\"M96.8715 292.995 L113.191 292.995 L113.191 296.93 L91.2465 296.93 L91.2465 292.995 Q93.9086 290.24 98.4919 285.611 Q103.098 280.958 104.279 279.616 Q106.524 277.092 107.404 275.356 Q108.307 273.597 108.307 271.907 Q108.307 269.153 106.362 267.417 Q104.441 265.68 101.339 265.68 Q99.14 265.68 96.6863 266.444 Q94.2558 267.208 91.478 268.759 L91.478 264.037 Q94.3021 262.903 96.7558 262.324 Q99.2095 261.745 101.246 261.745 Q106.617 261.745 109.811 264.43 Q113.006 267.116 113.006 271.606 Q113.006 273.736 112.196 275.657 Q111.408 277.555 109.302 280.148 Q108.723 280.819 105.621 284.037 Q102.52 287.231 96.8715 292.995 Z\" fill=\"#000000\" fill-rule=\"nonzero\" fill-opacity=\"1\" /><polyline clip-path=\"url(#clip472)\" style=\"stroke:#009af9; stroke-linecap:round; stroke-linejoin:round; stroke-width:4; stroke-opacity:1; fill:none\" points=\"211.556,628.01 232.554,597.633 253.553,573.587 274.551,555.186 295.549,541.782 316.548,532.767 337.546,527.567 358.544,525.644 379.543,526.496 400.541,529.652 421.539,534.679 442.538,541.17 463.536,548.752 484.534,557.084 505.533,565.851 526.531,574.769 547.529,583.579 568.528,592.05 589.526,599.977 610.524,607.18 631.523,613.502 652.521,618.808 673.519,622.989 694.518,625.952 715.516,627.629 736.514,627.968 757.513,626.937 778.511,624.522 799.509,620.724 820.508,615.563 841.506,609.07 862.504,601.293 883.503,592.29 904.501,582.136 925.499,570.912 946.498,558.713 967.496,545.642 988.494,531.81 1009.49,517.339 1030.49,502.353 1051.49,486.986 1072.49,471.374 1093.49,455.659 1114.48,439.986 1135.48,424.501 1156.48,409.353 1177.48,394.69 1198.48,380.661 1219.48,367.414 1240.47,355.092 1261.47,343.837 1282.47,333.788 1303.47,325.077 1324.47,317.832 1345.47,312.172 1366.46,308.21 1387.46,306.05 1408.46,305.788 1429.46,307.508 1450.46,311.283 1471.46,317.174 1492.45,325.23 1513.45,335.484 1534.45,347.957 1555.45,362.651 1576.45,379.555 1597.45,398.637 1618.44,419.85 1639.44,443.124 1660.44,468.371 1681.44,495.483 1702.44,524.328 1723.44,554.751 1744.43,586.574 1765.43,619.594 1786.43,653.584 1807.43,688.287 1828.43,723.422 1849.43,758.677 1870.42,793.714 1891.42,828.162 1912.42,861.619 1933.42,893.653 1954.42,923.798 1975.42,951.555 1996.41,976.389 2017.41,997.731 2038.41,1014.98 2059.41,1027.48 2080.41,1034.56 2101.41,1035.49 2122.4,1029.52 2143.4,1015.85 2164.4,993.624 2185.4,961.964 2206.4,919.939 2227.4,866.574 2248.39,800.849 2269.39,721.699 2290.39,628.01 \"/>\n",
       "<polyline clip-path=\"url(#clip472)\" style=\"stroke:#e26f46; stroke-linecap:round; stroke-linejoin:round; stroke-width:4; stroke-opacity:1; fill:none\" points=\"211.556,157.724 232.554,146.178 253.553,140.621 274.551,140.369 295.549,144.772 316.548,153.223 337.546,165.148 358.544,180.008 379.543,197.302 400.541,216.56 421.539,237.346 442.538,259.256 463.536,281.916 484.534,304.984 505.533,328.147 526.531,351.118 547.529,373.64 568.528,395.483 589.526,416.44 610.524,436.332 631.523,455.002 652.521,472.315 673.519,488.16 694.518,502.448 715.516,515.107 736.514,526.088 757.513,535.358 778.511,542.902 799.509,548.723 820.508,552.838 841.506,555.281 862.504,556.097 883.503,555.348 904.501,553.106 925.499,549.453 946.498,544.483 967.496,538.3 988.494,531.016 1009.49,522.75 1030.49,513.629 1051.49,503.785 1072.49,493.356 1093.49,482.482 1114.48,471.308 1135.48,459.982 1156.48,448.651 1177.48,437.465 1198.48,426.571 1219.48,416.117 1240.47,406.247 1261.47,397.104 1282.47,388.825 1303.47,381.543 1324.47,375.385 1345.47,370.472 1366.46,366.915 1387.46,364.82 1408.46,364.28 1429.46,365.382 1450.46,368.197 1471.46,372.787 1492.45,379.201 1513.45,387.472 1534.45,397.62 1555.45,409.649 1576.45,423.545 1597.45,439.279 1618.44,456.802 1639.44,476.046 1660.44,496.922 1681.44,519.32 1702.44,543.111 1723.44,568.138 1744.43,594.224 1765.43,621.167 1786.43,648.737 1807.43,676.68 1828.43,704.714 1849.43,732.526 1870.42,759.779 1891.42,786.101 1912.42,811.092 1933.42,834.319 1954.42,855.315 1975.42,873.582 1996.41,888.585 2017.41,899.754 2038.41,906.485 2059.41,908.132 2080.41,904.015 2101.41,893.414 2122.4,875.566 2143.4,849.671 2164.4,814.886 2185.4,770.324 2206.4,715.055 2227.4,648.105 2248.39,568.454 2269.39,475.037 2290.39,366.74 \"/>\n",
       "<polyline clip-path=\"url(#clip472)\" style=\"stroke:#3da44d; stroke-linecap:round; stroke-linejoin:round; stroke-width:4; stroke-opacity:1; fill:none\" points=\"211.556,1098.3 232.554,1033.9 253.553,979.341 274.551,933.59 295.549,895.678 316.548,864.689 337.546,839.764 358.544,820.096 379.543,804.931 400.541,793.566 421.539,785.345 442.538,779.663 463.536,775.96 484.534,773.721 505.533,772.477 526.531,771.799 547.529,771.301 568.528,770.637 589.526,769.498 610.524,767.613 631.523,764.747 652.521,760.701 673.519,755.306 694.518,748.427 715.516,739.959 736.514,729.826 757.513,717.979 778.511,704.397 799.509,689.083 820.508,672.064 841.506,653.389 862.504,633.129 883.503,611.372 904.501,588.228 925.499,563.822 946.498,538.294 967.496,511.799 988.494,484.505 1009.49,456.592 1030.49,428.249 1051.49,399.674 1072.49,371.074 1093.49,342.661 1114.48,314.651 1135.48,287.265 1156.48,260.725 1177.48,235.255 1198.48,211.077 1219.48,188.412 1240.47,167.477 1261.47,148.484 1282.47,131.64 1303.47,117.145 1324.47,105.189 1345.47,95.9523 1366.46,89.6044 1387.46,86.3015 1408.46,86.1857 1429.46,89.3838 1450.46,96.0058 1471.46,106.144 1492.45,119.869 1513.45,137.234 1534.45,158.267 1555.45,182.975 1576.45,211.337 1597.45,243.309 1618.44,278.817 1639.44,317.759 1660.44,360.002 1681.44,405.383 1702.44,453.704 1723.44,504.733 1744.43,558.205 1765.43,613.813 1786.43,671.217 1807.43,730.032 1828.43,789.836 1849.43,850.162 1870.42,910.501 1891.42,970.297 1912.42,1028.95 1933.42,1085.81 1954.42,1140.18 1975.42,1191.3 1996.41,1238.38 2017.41,1280.57 2038.41,1316.95 2059.41,1346.56 2080.41,1368.37 2101.41,1381.31 2122.4,1384.24 2143.4,1375.95 2164.4,1355.17 2185.4,1320.58 2206.4,1270.79 2227.4,1204.32 2248.39,1119.66 2269.39,1015.21 2290.39,889.28 \"/>\n",
       "</svg>\n"
      ],
      "text/html": [
       "<img src=\"data:image/png;base64,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\" />"
      ]
     },
     "execution_count": 23,
     "metadata": {},
     "output_type": "execute_result"
    }
   ],
   "source": [
    "# Let's perform some arithmetic.\n",
    "p1 = 0.4 * p\n",
    "p2 = p1 - 0.3 * MyPoly([-2, 1, 1])\n",
    "p3 = -1*p2 + p\n",
    "\n",
    "# And plot the results!\n",
    "plot()\n",
    "plot!.([p1, p2, p3], xlim=[-2,2])\n",
    "plot!()"
   ]
  },
  {
   "cell_type": "markdown",
   "metadata": {
    "slideshow": {
     "slide_type": "slide"
    }
   },
   "source": [
    "## The Power of Generic Programming\n",
    "\n",
    "Notice that in our `MyPoly` definition, we specified `c::Vector` but not `Vector{Float64}` or `Vector{Int}`. We left the *element type* of the vector generic. Because of this, all the functions we've written will automatically work for any numeric type that supports the basic operations (`+`, `*`, etc.).\n",
    "\n",
    "This is a core design philosophy in Julia called **generic programming**. By not over-specifying types, we write flexible, reusable code that works for a wide range of inputs, including types we might not have even thought of.\n",
    "\n",
    "For example, all our code works seamlessly with rational coefficients:"
   ]
  },
  {
   "cell_type": "code",
   "execution_count": 24,
   "metadata": {
    "slideshow": {
     "slide_type": "fragment"
    }
   },
   "outputs": [
    {
     "data": {
      "text/plain": [
       "MyPoly: 1//1⋅x^2 - 2//3⋅x + 6//7"
      ]
     },
     "execution_count": 24,
     "metadata": {},
     "output_type": "execute_result"
    }
   ],
   "source": [
    "# Create a polynomial with rational coefficients.\n",
    "p_rational = MyPoly([1, -2//3, 6//7])"
   ]
  },
  {
   "cell_type": "code",
   "execution_count": 25,
   "metadata": {
    "slideshow": {
     "slide_type": "fragment"
    }
   },
   "outputs": [
    {
     "data": {
      "text/plain": [
       "2-element Vector{Rational{Int64}}:\n",
       "   25//21\n",
       " 1297//84"
      ]
     },
     "execution_count": 25,
     "metadata": {},
     "output_type": "execute_result"
    }
   ],
   "source": [
    "# Our callable object method works perfectly.\n",
    "p_rational.([1, -7//2])"
   ]
  },
  {
   "cell_type": "markdown",
   "metadata": {
    "slideshow": {
     "slide_type": "subslide"
    }
   },
   "source": [
    "...and with complex numbers: ℂ"
   ]
  },
  {
   "cell_type": "code",
   "execution_count": 26,
   "metadata": {
    "slideshow": {
     "slide_type": "fragment"
    }
   },
   "outputs": [
    {
     "data": {
      "text/plain": [
       "MyPoly: (1 + 0im)⋅x^4 + (0 + 1im)⋅x^3 + (-1 + 0im)⋅x^2 + (0 - 1im)⋅x + (1 + 0im)"
      ]
     },
     "execution_count": 26,
     "metadata": {},
     "output_type": "execute_result"
    }
   ],
   "source": [
    "# A polynomial with complex coefficients.\n",
    "p_complex = MyPoly([1, im, -1, -im, 1])"
   ]
  },
  {
   "cell_type": "code",
   "execution_count": 27,
   "metadata": {
    "slideshow": {
     "slide_type": "fragment"
    }
   },
   "outputs": [
    {
     "data": {
      "text/plain": [
       "3-element Vector{Complex{Int64}}:\n",
       "  1 + 0im\n",
       "  5 + 0im\n",
       " -2 + 1im"
      ]
     },
     "execution_count": 27,
     "metadata": {},
     "output_type": "execute_result"
    }
   ],
   "source": [
    "# Evaluating it at complex points requires no code changes.\n",
    "p_complex.([0, im, -1 - im])"
   ]
  },
  {
   "cell_type": "markdown",
   "metadata": {
    "slideshow": {
     "slide_type": "subslide"
    }
   },
   "source": [
    "...and even with arbitrary-precision floats (`BigFloat`): 🔢"
   ]
  },
  {
   "cell_type": "code",
   "execution_count": 28,
   "metadata": {
    "slideshow": {
     "slide_type": "fragment"
    }
   },
   "outputs": [
    {
     "data": {
      "text/plain": [
       "MyPoly: -1.5⋅x^5 - 0.5⋅x^4 + 0.5⋅x^3 + 1.5⋅x^2 + 2.5⋅x + 3.5"
      ]
     },
     "execution_count": 28,
     "metadata": {},
     "output_type": "execute_result"
    }
   ],
   "source": [
    "# Create a polynomial with standard Float64 coefficients.\n",
    "p_float = MyPoly(-1.5:3.5)"
   ]
  },
  {
   "cell_type": "code",
   "execution_count": 29,
   "metadata": {
    "slideshow": {
     "slide_type": "fragment"
    }
   },
   "outputs": [
    {
     "data": {
      "text/plain": [
       "405.2722682884305251107738095974542912801020079018409933037640550322547603287204"
      ]
     },
     "execution_count": 29,
     "metadata": {},
     "output_type": "execute_result"
    }
   ],
   "source": [
    "# We can evaluate it with a BigFloat argument to get a high-precision result.\n",
    "p_float(BigFloat(-π))"
   ]
  }
 ],
 "metadata": {
  "kernelspec": {
   "display_name": "Julia 1.11.5",
   "language": "julia",
   "name": "julia-1.11"
  },
  "language_info": {
   "file_extension": ".jl",
   "mimetype": "application/julia",
   "name": "julia",
   "version": "1.11.5"
  }
 },
 "nbformat": 4,
 "nbformat_minor": 4
}
