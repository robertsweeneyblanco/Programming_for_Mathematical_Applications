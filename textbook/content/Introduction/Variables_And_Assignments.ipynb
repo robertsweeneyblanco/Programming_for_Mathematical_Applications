{
 "cells": [
  {
   "cell_type": "markdown",
   "metadata": {
    "slideshow": {
     "slide_type": "slide"
    }
   },
   "source": [
    "# Variables and Assignments\n",
    "\n",
    "A **variable** is a name used to store a value. Think of it as a labeled box where you can keep a piece of information.\n",
    "\n",
    "### Variable Naming Rules\n",
    "* **Characters:** Variable names can contain most Unicode characters, but they cannot begin with a number.\n",
    "* **Case-Sensitivity:** Names are case-sensitive, so `mass` and `Mass` are treated as two different variables.\n",
    "* **Style:** Good variable names are descriptive and clearly state what the variable represents (e.g., `user_age` is better than `x`).\n",
    "\n",
    "An **assignment statement** uses the `=` operator to create a variable and assign it a value. It has the form `variable_name = expression`."
   ]
  },
  {
   "cell_type": "code",
   "execution_count": 1,
   "metadata": {
    "slideshow": {
     "slide_type": "subslide"
    }
   },
   "outputs": [
    {
     "data": {
      "text/plain": [
       "1.2"
      ]
     },
     "execution_count": 1,
     "metadata": {},
     "output_type": "execute_result"
    }
   ],
   "source": [
    "my_number = 1.2    # Assigns the value 1.2 to the variable `my_number`."
   ]
  },
  {
   "cell_type": "code",
   "execution_count": 2,
   "metadata": {
    "slideshow": {
     "slide_type": "fragment"
    }
   },
   "outputs": [
    {
     "data": {
      "text/plain": [
       "π = 3.1415926535897..."
      ]
     },
     "execution_count": 2,
     "metadata": {},
     "output_type": "execute_result"
    }
   ],
   "source": [
    "pi                 # Julia has many pre-defined variables, like π."
   ]
  },
  {
   "cell_type": "code",
   "execution_count": 3,
   "metadata": {
    "scrolled": true,
    "slideshow": {
     "slide_type": "fragment"
    }
   },
   "outputs": [
    {
     "ename": "LoadError",
     "evalue": "UndefVarError: `My_number` not defined in `Main`\nSuggestion: check for spelling errors or missing imports.",
     "output_type": "error",
     "traceback": [
      "UndefVarError: `My_number` not defined in `Main`\nSuggestion: check for spelling errors or missing imports.",
      ""
     ]
    }
   ],
   "source": [
    "My_number          # This will cause an error because `My_number` is not the same as `my_number`."
   ]
  },
  {
   "cell_type": "code",
   "execution_count": 4,
   "metadata": {
    "slideshow": {
     "slide_type": "fragment"
    }
   },
   "outputs": [
    {
     "data": {
      "text/plain": [
       "0.001"
      ]
     },
     "execution_count": 4,
     "metadata": {},
     "output_type": "execute_result"
    }
   ],
   "source": [
    "δ = 0.001          # Unicode characters are valid (type \\delta then press Tab)."
   ]
  },
  {
   "cell_type": "code",
   "execution_count": 5,
   "metadata": {
    "slideshow": {
     "slide_type": "fragment"
    }
   },
   "outputs": [
    {
     "data": {
      "text/plain": [
       "0.0022"
      ]
     },
     "execution_count": 5,
     "metadata": {},
     "output_type": "execute_result"
    }
   ],
   "source": [
    "my_number_2 = (my_number + 1) * δ     # You can use existing variables in expressions."
   ]
  },
  {
   "cell_type": "markdown",
   "metadata": {
    "slideshow": {
     "slide_type": "slide"
    }
   },
   "source": [
    "## Updating Operators\n",
    "\n",
    "It's common to perform an operation on a variable and assign the result back to itself (e.g., `x = x + 1`). Julia provides convenient **updating operators** as a shortcut for this:\n",
    "\n",
    "| Operator | Example | Equivalent To |\n",
    "|:--- |:--- |:--- |\n",
    "| `+=` | `x += 1` | `x = x + 1` |\n",
    "| `-=` | `x -= 1` | `x = x - 1` |\n",
    "| `*=` | `x *= 2` | `x = x * 2` |\n",
    "| `/=` | `x /= 2` | `x = x / 2` |\n",
    "| `^=` | `x ^= 3` | `x = x ^ 3` |\n",
    "| `%=` | `x %= 2` | `x = x % 2` |"
   ]
  },
  {
   "cell_type": "code",
   "execution_count": 6,
   "metadata": {
    "slideshow": {
     "slide_type": "fragment"
    }
   },
   "outputs": [
    {
     "data": {
      "text/plain": [
       "1"
      ]
     },
     "execution_count": 6,
     "metadata": {},
     "output_type": "execute_result"
    }
   ],
   "source": [
    "counter = 1"
   ]
  },
  {
   "cell_type": "code",
   "execution_count": 7,
   "metadata": {
    "slideshow": {
     "slide_type": "fragment"
    }
   },
   "outputs": [
    {
     "data": {
      "text/plain": [
       "2"
      ]
     },
     "execution_count": 7,
     "metadata": {},
     "output_type": "execute_result"
    }
   ],
   "source": [
    "counter += 1              # Increment the counter by 1."
   ]
  },
  {
   "cell_type": "code",
   "execution_count": 8,
   "metadata": {
    "slideshow": {
     "slide_type": "fragment"
    }
   },
   "outputs": [
    {
     "data": {
      "text/plain": [
       "16"
      ]
     },
     "execution_count": 8,
     "metadata": {},
     "output_type": "execute_result"
    }
   ],
   "source": [
    "counter ^= 4              # Raise the counter to the power of 4."
   ]
  },
  {
   "cell_type": "code",
   "execution_count": 9,
   "metadata": {
    "slideshow": {
     "slide_type": "fragment"
    }
   },
   "outputs": [
    {
     "data": {
      "text/plain": [
       "60"
      ]
     },
     "execution_count": 9,
     "metadata": {},
     "output_type": "execute_result"
    }
   ],
   "source": [
    "angle_degrees = 60"
   ]
  },
  {
   "cell_type": "code",
   "execution_count": 10,
   "metadata": {
    "slideshow": {
     "slide_type": "fragment"
    }
   },
   "outputs": [
    {
     "data": {
      "text/plain": [
       "1.0471975511965976"
      ]
     },
     "execution_count": 10,
     "metadata": {},
     "output_type": "execute_result"
    }
   ],
   "source": [
    "angle_degrees *= π / 180  # Convert the angle to radians."
   ]
  },
  {
   "cell_type": "markdown",
   "metadata": {
    "slideshow": {
     "slide_type": "slide"
    }
   },
   "source": [
    "## Numerical Literal Coefficients\n",
    "\n",
    "In Julia, you can place a numeric literal directly before a variable to imply multiplication. This feature makes code look more like standard mathematical notation, which can improve readability."
   ]
  },
  {
   "cell_type": "code",
   "execution_count": 11,
   "metadata": {
    "slideshow": {
     "slide_type": "fragment"
    }
   },
   "outputs": [
    {
     "name": "stdout",
     "output_type": "stream",
     "text": [
      "10\n",
      "13.0\n",
      "3\n"
     ]
    }
   ],
   "source": [
    "x = 3\n",
    "println(2x^2 - 3x + 1)       # Equivalent to 2*x^2 - 3*x + 1\n",
    "println(1.5x^2 - 0.5x + 1)   # Works with floating-point numbers too\n",
    "println(2(x-1)^2 - 3(x-1) + 1) # Also works with parenthesized expressions"
   ]
  },
  {
   "cell_type": "markdown",
   "metadata": {
    "slideshow": {
     "slide_type": "fragment"
    }
   },
   "source": [
    "This notation has higher precedence than other multiplication and division operators, which can sometimes lead to surprising results:"
   ]
  },
  {
   "cell_type": "code",
   "execution_count": 12,
   "metadata": {
    "slideshow": {
     "slide_type": "fragment"
    }
   },
   "outputs": [
    {
     "name": "stdout",
     "output_type": "stream",
     "text": [
      "565.4866776461628\n",
      "57.29577951308232\n"
     ]
    }
   ],
   "source": [
    "println(360 / 2*π)  # Evaluates as (360 / 2) * π = 180π\n",
    "println(360 / 2π)   # Evaluates as 360 / (2 * π) = 180/π"
   ]
  },
  {
   "cell_type": "markdown",
   "metadata": {},
   "source": [
    "When used with exponentiation (`^`), numeric literal coefficients behave like unary operators:"
   ]
  },
  {
   "cell_type": "code",
   "execution_count": 13,
   "metadata": {},
   "outputs": [
    {
     "name": "stdout",
     "output_type": "stream",
     "text": [
      "64\n",
      "18\n"
     ]
    }
   ],
   "source": [
    "println(2^2x)       # Interpreted as 2^(2*x), not (2^2)*x\n",
    "println(2x^2)       # Interpreted as 2*(x^2), not (2*x)^2"
   ]
  },
  {
   "cell_type": "markdown",
   "metadata": {
    "slideshow": {
     "slide_type": "slide"
    }
   },
   "source": [
    "## Comments\n",
    "\n",
    "Good code is well-commented code. Comments are notes for human readers that are ignored by the computer.\n",
    "\n",
    "* **Single-line comments** start with `#`. Everything from the `#` to the end of the line is ignored.\n",
    "* **Multi-line comments** are enclosed between `#=` and `=#`.\n",
    "\n",
    "Comments should be descriptive without stating the obvious. Use them to:\n",
    "* Provide a high-level description of a script or program.\n",
    "* Explain the purpose of important variables and constants.\n",
    "* Clarify the goal of a complex block of code."
   ]
  },
  {
   "cell_type": "markdown",
   "metadata": {
    "slideshow": {
     "slide_type": "subslide"
    }
   },
   "source": [
    "### Example of Good Commenting\n",
    "\n",
    "The comments in the following code make its purpose clear and easy to understand."
   ]
  },
  {
   "cell_type": "code",
   "execution_count": 14,
   "metadata": {
    "slideshow": {
     "slide_type": "fragment"
    }
   },
   "outputs": [
    {
     "data": {
      "text/plain": [
       "3.665191429188092e6"
      ]
     },
     "execution_count": 14,
     "metadata": {},
     "output_type": "execute_result"
    }
   ],
   "source": [
    "#=\n",
    "  This script calculates the volume of a hollow sphere\n",
    "  by subtracting the volume of an inner sphere from an outer one.\n",
    "=#\n",
    "\n",
    "radius_outer = 100     # Radius of the outer sphere (in cm)\n",
    "radius_inner = 50      # Radius of the inner sphere (in cm)\n",
    "\n",
    "# Calculate the volume of each sphere using V = (4/3)πr³\n",
    "vol_outer = 4/3 * π * radius_outer^3\n",
    "vol_inner = 4/3 * π * radius_inner^3\n",
    "\n",
    "# The final volume is the difference between the two\n",
    "vol_hollow = vol_outer - vol_inner"
   ]
  }
 ],
 "metadata": {
  "kernelspec": {
   "display_name": "Julia 1.11.5",
   "language": "julia",
   "name": "julia-1.11"
  },
  "language_info": {
   "file_extension": ".jl",
   "mimetype": "application/julia",
   "name": "julia",
   "version": "1.11.5"
  }
 },
 "nbformat": 4,
 "nbformat_minor": 4
}
