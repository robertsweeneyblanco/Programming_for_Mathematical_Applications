{
 "cells": [
  {
   "cell_type": "markdown",
   "metadata": {
    "slideshow": {
     "slide_type": "slide"
    }
   },
   "source": [
    "# Functions\n",
    "\n",
    "A **function** is a named block of reusable code that performs a specific task. To use a function, you **call** it by its name, followed by parentheses. You can pass values into the function by placing them inside the parentheses; these values are called **arguments**.\n",
    "\n",
    "For example, we've already used `println(x)`, a built-in function that prints the value of `x` to the console.\n",
    "\n",
    "Julia provides a rich library of standard mathematical functions. Here are a few common ones:\n",
    "\n",
    "| Function | Description |\n",
    "|:--- |:--- |\n",
    "| `abs(x)` | The absolute value of `x` |\n",
    "| `sign(x)` | The sign of `x` (-1, 0, or 1) |\n",
    "| `sqrt(x)` or `√x` | The square root of `x` |\n",
    "| `cbrt(x)` or `∛x` | The cube root of `x` |\n",
    "| `exp(x)` | The natural exponential $e^x$ |\n",
    "| `log(x)` | The natural logarithm of `x` |\n",
    "| `log(b,x)` | The base-`b` logarithm of `x` |\n",
    "| `log2(x)` | The base-2 logarithm of `x` |\n",
    "| `log10(x)` | The base-10 logarithm of `x` |"
   ]
  },
  {
   "cell_type": "markdown",
   "metadata": {
    "slideshow": {
     "slide_type": "slide"
    }
   },
   "source": [
    "## Trigonometric and Hyperbolic Functions\n",
    "\n",
    "All standard trigonometric and hyperbolic functions are built-in. The default trigonometric functions expect angles in **radians**.\n",
    "\n",
    "```\n",
    "sin    cos    tan    cot    sec    csc\n",
    "sinh   cosh   tanh   coth   sech   csch\n",
    "asin   acos   atan   acot   asec   acsc\n",
    "asinh  acosh  atanh  acoth  asech  acsch\n",
    "sinc   cosc\n",
    "```\n",
    "\n",
    "For convenience, Julia also provides versions that work with angles in **degrees**:\n",
    "\n",
    "```\n",
    "sind   cosd   tand   cotd   secd   cscd\n",
    "asind  acosd  atand  acotd  asecd  acscd\n",
    "```"
   ]
  },
  {
   "cell_type": "markdown",
   "metadata": {
    "slideshow": {
     "slide_type": "slide"
    }
   },
   "source": [
    "## Example: Ramanujan's Constant\n",
    "\n",
    "Let's evaluate the expression $e^\\pi - \\pi$. While not an integer, it is famously close to 20."
   ]
  },
  {
   "cell_type": "code",
   "execution_count": 1,
   "metadata": {
    "slideshow": {
     "slide_type": "fragment"
    }
   },
   "outputs": [
    {
     "data": {
      "text/plain": [
       "19.999099979189474"
      ]
     },
     "execution_count": 1,
     "metadata": {},
     "output_type": "execute_result"
    }
   ],
   "source": [
    "exp(π) - π"
   ]
  },
  {
   "cell_type": "markdown",
   "metadata": {
    "slideshow": {
     "slide_type": "slide"
    }
   },
   "source": [
    "## Example: Real Roots of a Quadratic\n",
    "\n",
    "We can use the quadratic formula to find the roots of the equation $x^2 + 5x + 6 = 0$.\n",
    "$$ r = \\frac{-b \\pm \\sqrt{b^2 - 4ac}}{2a} $$\n",
    "For now, we will assume the roots are real; we'll cover complex numbers in a later chapter."
   ]
  },
  {
   "cell_type": "code",
   "execution_count": 2,
   "metadata": {
    "slideshow": {
     "slide_type": "fragment"
    }
   },
   "outputs": [
    {
     "name": "stdout",
     "output_type": "stream",
     "text": [
      "The roots are -3.0 and -2.0.\n"
     ]
    }
   ],
   "source": [
    "# Solve x² + 5x + 6 = 0 using the quadratic formula.\n",
    "\n",
    "# Coefficients for ax² + bx + c = 0\n",
    "a = 1\n",
    "b = 5\n",
    "c = 6\n",
    "\n",
    "# Apply the quadratic formula\n",
    "discriminant = sqrt(b^2 - 4a*c)\n",
    "root1 = (-b - discriminant) / (2a)\n",
    "root2 = (-b + discriminant) / (2a)\n",
    "\n",
    "println(\"The roots are \", root1, \" and \", root2, \".\")"
   ]
  },
  {
   "cell_type": "markdown",
   "metadata": {
    "slideshow": {
     "slide_type": "slide"
    }
   },
   "source": [
    "## User-Defined Functions\n",
    "\n",
    "You can define your own functions to make your code more organized and reusable. Here’s a simple function named `my_func` that takes two arguments, `x` and `y`."
   ]
  },
  {
   "cell_type": "code",
   "execution_count": 3,
   "metadata": {
    "slideshow": {
     "slide_type": "fragment"
    }
   },
   "outputs": [
    {
     "data": {
      "text/plain": [
       "my_func (generic function with 1 method)"
      ]
     },
     "execution_count": 3,
     "metadata": {},
     "output_type": "execute_result"
    }
   ],
   "source": [
    "function my_func(x, y)\n",
    "    x + y\n",
    "end"
   ]
  },
  {
   "cell_type": "markdown",
   "metadata": {
    "slideshow": {
     "slide_type": "fragment"
    }
   },
   "source": [
    "* The values passed to the function are assigned to its **parameters**, `x` and `y`.\n",
    "* By default, a function **returns** the value of the last expression evaluated inside it (in this case, `x + y`). You can also use the `return` keyword for explicit returns.\n",
    "* Once defined, you can call the function using the standard parentheses syntax:"
   ]
  },
  {
   "cell_type": "code",
   "execution_count": 4,
   "metadata": {
    "slideshow": {
     "slide_type": "fragment"
    }
   },
   "outputs": [
    {
     "data": {
      "text/plain": [
       "3"
      ]
     },
     "execution_count": 4,
     "metadata": {},
     "output_type": "execute_result"
    }
   ],
   "source": [
    "my_func(1, 2)"
   ]
  },
  {
   "cell_type": "markdown",
   "metadata": {
    "slideshow": {
     "slide_type": "slide"
    }
   },
   "source": [
    "#### Compact Assignment Form\n",
    "\n",
    "For functions that contain only a single expression, Julia offers a more concise syntax:"
   ]
  },
  {
   "cell_type": "code",
   "execution_count": 5,
   "metadata": {
    "slideshow": {
     "slide_type": "fragment"
    }
   },
   "outputs": [
    {
     "data": {
      "text/plain": [
       "13"
      ]
     },
     "execution_count": 5,
     "metadata": {},
     "output_type": "execute_result"
    }
   ],
   "source": [
    "my_func2(x, y) = x + 2y\n",
    "\n",
    "my_func2(3, 5)"
   ]
  },
  {
   "cell_type": "markdown",
   "metadata": {},
   "source": [
    "#### Anonymous Functions\n",
    "\n",
    "You can also create **anonymous functions**—functions without a name. This is useful for short, one-off operations."
   ]
  },
  {
   "cell_type": "code",
   "execution_count": 6,
   "metadata": {},
   "outputs": [
    {
     "name": "stdout",
     "output_type": "stream",
     "text": [
      "18\n",
      "18\n"
     ]
    }
   ],
   "source": [
    "# Define an anonymous function and assign it to a variable\n",
    "my_func3 = (x, y) -> x + 3y\n",
    "println(my_func3(3, 5))\n",
    "\n",
    "# Define and call an anonymous function in a single line\n",
    "println(((x, y) -> x + 3y)(3, 5))"
   ]
  },
  {
   "cell_type": "markdown",
   "metadata": {
    "slideshow": {
     "slide_type": "slide"
    }
   },
   "source": [
    "#### Multiple Return Values\n",
    "\n",
    "Functions can also return multiple values. Simply list them at the end of the function, separated by commas."
   ]
  },
  {
   "cell_type": "code",
   "execution_count": 7,
   "metadata": {
    "slideshow": {
     "slide_type": "fragment"
    }
   },
   "outputs": [
    {
     "data": {
      "text/plain": [
       "my_new_func (generic function with 1 method)"
      ]
     },
     "execution_count": 7,
     "metadata": {},
     "output_type": "execute_result"
    }
   ],
   "source": [
    "function my_new_func(x, y)\n",
    "    out1 = x + y\n",
    "    out2 = out1 * (2x + y)\n",
    "    return out1, out2\n",
    "end"
   ]
  },
  {
   "cell_type": "code",
   "execution_count": 8,
   "metadata": {
    "slideshow": {
     "slide_type": "fragment"
    }
   },
   "outputs": [
    {
     "data": {
      "text/plain": [
       "(3, 15)"
      ]
     },
     "execution_count": 8,
     "metadata": {},
     "output_type": "execute_result"
    }
   ],
   "source": [
    "y1, y2 = my_new_func(2, 1)"
   ]
  },
  {
   "cell_type": "markdown",
   "metadata": {},
   "source": [
    "When a function returns multiple values, it technically returns a single object called a **tuple**. A tuple is an ordered, immutable collection of elements.\n",
    "\n",
    "You can create your own tuples using parentheses:"
   ]
  },
  {
   "cell_type": "code",
   "execution_count": 9,
   "metadata": {},
   "outputs": [
    {
     "data": {
      "text/plain": [
       "(123, 234, \"hello\")"
      ]
     },
     "execution_count": 9,
     "metadata": {},
     "output_type": "execute_result"
    }
   ],
   "source": [
    "my_tuple = (123, 234, \"hello\")"
   ]
  },
  {
   "cell_type": "markdown",
   "metadata": {},
   "source": [
    "Access elements of a tuple using square brackets (Julia is 1-indexed):"
   ]
  },
  {
   "cell_type": "code",
   "execution_count": 10,
   "metadata": {},
   "outputs": [
    {
     "data": {
      "text/plain": [
       "234"
      ]
     },
     "execution_count": 10,
     "metadata": {},
     "output_type": "execute_result"
    }
   ],
   "source": [
    "my_tuple[2]   # Access the second element"
   ]
  },
  {
   "cell_type": "markdown",
   "metadata": {},
   "source": [
    "You can **unpack** a tuple by assigning it to a comma-separated list of variables. This is exactly what we did with the return values of `my_new_func`."
   ]
  },
  {
   "cell_type": "code",
   "execution_count": 11,
   "metadata": {},
   "outputs": [
    {
     "name": "stdout",
     "output_type": "stream",
     "text": [
      "hello, you have numbers 123 and 234.\n"
     ]
    }
   ],
   "source": [
    "num1, num2, greeting = my_tuple\n",
    "\n",
    "println(greeting, \", you have numbers \", num1, \" and \", num2, \".\")"
   ]
  },
  {
   "cell_type": "markdown",
   "metadata": {
    "slideshow": {
     "slide_type": "slide"
    }
   },
   "source": [
    "## Example: Quadratic Roots Function\n",
    "\n",
    "Let's revisit the quadratic roots problem, this time encapsulating the logic in a function."
   ]
  },
  {
   "cell_type": "code",
   "execution_count": 12,
   "metadata": {
    "slideshow": {
     "slide_type": "fragment"
    }
   },
   "outputs": [
    {
     "data": {
      "text/plain": [
       "real_roots_of_quadratic (generic function with 1 method)"
      ]
     },
     "execution_count": 12,
     "metadata": {},
     "output_type": "execute_result"
    }
   ],
   "source": [
    "function real_roots_of_quadratic(a, b, c)\n",
    "    # Computes the real roots of the quadratic equation ax² + bx + c = 0.\n",
    "    discriminant = sqrt(b^2 - 4a*c)\n",
    "    r1 = (-b - discriminant) / (2a)\n",
    "    r2 = (-b + discriminant) / (2a)\n",
    "    return r1, r2\n",
    "end"
   ]
  },
  {
   "cell_type": "code",
   "execution_count": 13,
   "metadata": {
    "slideshow": {
     "slide_type": "fragment"
    }
   },
   "outputs": [
    {
     "data": {
      "text/plain": [
       "(-3.0, -2.0)"
      ]
     },
     "execution_count": 13,
     "metadata": {},
     "output_type": "execute_result"
    }
   ],
   "source": [
    "real_roots_of_quadratic(1, 5, 6)"
   ]
  },
  {
   "cell_type": "code",
   "execution_count": 14,
   "metadata": {
    "slideshow": {
     "slide_type": "fragment"
    }
   },
   "outputs": [
    {
     "data": {
      "text/plain": [
       "(6.0, -1.0)"
      ]
     },
     "execution_count": 14,
     "metadata": {},
     "output_type": "execute_result"
    }
   ],
   "source": [
    "real_roots_of_quadratic(-1, 5, 6)"
   ]
  },
  {
   "cell_type": "markdown",
   "metadata": {},
   "source": [
    "## Optional and Keyword Arguments\n",
    "\n",
    "Functions can be made more flexible by using **optional** and **keyword** arguments. This allows you to write functions that are easier to call in different situations."
   ]
  },
  {
   "cell_type": "markdown",
   "metadata": {
    "slideshow": {
     "slide_type": "slide"
    }
   },
   "source": [
    "### Optional Arguments\n",
    "\n",
    "You can make function arguments optional by providing them with a **default value**. If a caller doesn't provide a value for that argument, the default is used automatically.\n",
    "\n",
    "Let's consider solving the equation $2x = \\tan x$ using the fixed-point iteration $x_{n+1} = \\tan^{-1}(2x_n)$. Our function could take two arguments:\n",
    "* A termination tolerance `δ`.\n",
    "* A starting value `x0`.\n",
    "\n",
    "By setting default values, we can make both of these optional."
   ]
  },
  {
   "cell_type": "code",
   "execution_count": 15,
   "metadata": {},
   "outputs": [
    {
     "data": {
      "text/plain": [
       "solve_fixed_point (generic function with 3 methods)"
      ]
     },
     "execution_count": 15,
     "metadata": {},
     "output_type": "execute_result"
    }
   ],
   "source": [
    "function solve_fixed_point(δ=1e-3, x0=1.0)\n",
    "    x = x0\n",
    "    iter = 0\n",
    "    \n",
    "    while true\n",
    "        iter += 1\n",
    "        x_prev = x\n",
    "        x = atan(2 * x_prev)\n",
    "        \n",
    "        println(\"Iteration \", iter, \": x = \", x)\n",
    "        \n",
    "        if abs(x - x_prev) ≤ δ\n",
    "            println(\"\\nConverged after \", iter, \" iterations.\")\n",
    "            return x\n",
    "        end\n",
    "    end\n",
    "end"
   ]
  },
  {
   "cell_type": "markdown",
   "metadata": {
    "slideshow": {
     "slide_type": "subslide"
    }
   },
   "source": [
    "Now we can call the function in several ways:"
   ]
  },
  {
   "cell_type": "code",
   "execution_count": 16,
   "metadata": {
    "slideshow": {
     "slide_type": "fragment"
    }
   },
   "outputs": [
    {
     "name": "stdout",
     "output_type": "stream",
     "text": [
      "Iteration 1: x = 1.1071487177940904\n",
      "Iteration 2: x = 1.1466039045135867\n",
      "Iteration 3: x = 1.1595864584933437\n",
      "Iteration 4: x = 1.1636959143671342\n",
      "Iteration 5: x = 1.1649805955397385\n",
      "Iteration 6: x = 1.165380637446075\n",
      "\n",
      "Converged after 6 iterations.\n"
     ]
    },
    {
     "data": {
      "text/plain": [
       "1.165380637446075"
      ]
     },
     "execution_count": 16,
     "metadata": {},
     "output_type": "execute_result"
    }
   ],
   "source": [
    "# 1. No arguments: use both default values.\n",
    "solve_fixed_point()"
   ]
  },
  {
   "cell_type": "code",
   "execution_count": 17,
   "metadata": {
    "slideshow": {
     "slide_type": "fragment"
    }
   },
   "outputs": [
    {
     "name": "stdout",
     "output_type": "stream",
     "text": [
      "Iteration 1: x = 1.1071487177940904\n",
      "Iteration 2: x = 1.1466039045135867\n",
      "Iteration 3: x = 1.1595864584933437\n",
      "Iteration 4: x = 1.1636959143671342\n",
      "Iteration 5: x = 1.1649805955397385\n",
      "Iteration 6: x = 1.165380637446075\n",
      "Iteration 7: x = 1.1655050559893403\n",
      "Iteration 8: x = 1.1655437371644453\n",
      "Iteration 9: x = 1.1655557615495353\n",
      "Iteration 10: x = 1.165559499298558\n",
      "\n",
      "Converged after 10 iterations.\n"
     ]
    },
    {
     "data": {
      "text/plain": [
       "1.165559499298558"
      ]
     },
     "execution_count": 17,
     "metadata": {},
     "output_type": "execute_result"
    }
   ],
   "source": [
    "# 2. One argument: overrides the first default value (δ).\n",
    "solve_fixed_point(1e-5)"
   ]
  },
  {
   "cell_type": "code",
   "execution_count": 18,
   "metadata": {
    "slideshow": {
     "slide_type": "fragment"
    }
   },
   "outputs": [
    {
     "name": "stdout",
     "output_type": "stream",
     "text": [
      "Iteration 1: x = 0.7853981633974483\n",
      "Iteration 2: x = 1.0038848218538872\n",
      "Iteration 3: x = 1.108697830869966\n",
      "Iteration 4: x = 1.147128141357208\n",
      "Iteration 5: x = 1.1597539140293118\n",
      "Iteration 6: x = 1.1637484136986498\n",
      "Iteration 7: x = 1.1649969581251391\n",
      "Iteration 8: x = 1.1653857278508495\n",
      "Iteration 9: x = 1.1655066387105377\n",
      "Iteration 10: x = 1.1655442291805418\n",
      "Iteration 11: x = 1.165555914492745\n",
      "Iteration 12: x = 1.1655595468401398\n",
      "\n",
      "Converged after 12 iterations.\n"
     ]
    },
    {
     "data": {
      "text/plain": [
       "1.1655595468401398"
      ]
     },
     "execution_count": 18,
     "metadata": {},
     "output_type": "execute_result"
    }
   ],
   "source": [
    "# 3. Two arguments: overrides both default values.\n",
    "solve_fixed_point(1e-5, 0.5)"
   ]
  },
  {
   "cell_type": "markdown",
   "metadata": {
    "slideshow": {
     "slide_type": "slide"
    }
   },
   "source": [
    "### Keyword Arguments\n",
    "\n",
    "When a function has many arguments, it can be hard to remember their correct order. **Keyword arguments** solve this problem by allowing you to specify arguments by their name.\n",
    "\n",
    "To define keyword arguments, use a semicolon `;` in the function signature:\n",
    "\n",
    "```julia\n",
    "function my_func(arg1, arg2; keyword1=val1, keyword2=val2)\n",
    "    # ...\n",
    "end\n",
    "```\n",
    "\n",
    "When calling the function, you also use the names to pass values, and their order doesn't matter."
   ]
  },
  {
   "cell_type": "markdown",
   "metadata": {
    "slideshow": {
     "slide_type": "subslide"
    }
   },
   "source": [
    "Let's add a `maxiter` keyword argument to our solver to prevent it from running forever."
   ]
  },
  {
   "cell_type": "code",
   "execution_count": 19,
   "metadata": {},
   "outputs": [
    {
     "data": {
      "text/plain": [
       "solve_fixed_point_v2 (generic function with 3 methods)"
      ]
     },
     "execution_count": 19,
     "metadata": {},
     "output_type": "execute_result"
    }
   ],
   "source": [
    "function solve_fixed_point_v2(δ=1e-3, x0=1.0; maxiter=20)\n",
    "    x = x0\n",
    "    \n",
    "    for iter = 1:maxiter\n",
    "        x_prev = x\n",
    "        x = atan(2 * x_prev)\n",
    "        \n",
    "        println(\"Iteration \", iter, \": x = \", x)\n",
    "        \n",
    "        if abs(x - x_prev) ≤ δ\n",
    "            println(\"\\nConverged after \", iter, \" iterations.\")\n",
    "            return x\n",
    "        end\n",
    "    end\n",
    "    \n",
    "    println(\"\\nDid not converge within \", maxiter, \" iterations.\")\n",
    "    return x\n",
    "end"
   ]
  },
  {
   "cell_type": "markdown",
   "metadata": {},
   "source": [
    "Now we can provide the optional positional arguments (`δ`, `x0`) and the keyword argument (`maxiter`) in a clear and flexible way."
   ]
  },
  {
   "cell_type": "code",
   "execution_count": 20,
   "metadata": {},
   "outputs": [
    {
     "name": "stdout",
     "output_type": "stream",
     "text": [
      "Iteration 1: x = 1.1071487177940904\n",
      "Iteration 2: x = 1.1466039045135867\n",
      "Iteration 3: x = 1.1595864584933437\n",
      "Iteration 4: x = 1.1636959143671342\n",
      "Iteration 5: x = 1.1649805955397385\n",
      "\n",
      "Did not converge within 5 iterations.\n"
     ]
    },
    {
     "data": {
      "text/plain": [
       "1.1649805955397385"
      ]
     },
     "execution_count": 20,
     "metadata": {},
     "output_type": "execute_result"
    }
   ],
   "source": [
    "# Use default values for δ and x0, but specify maxiter.\n",
    "solve_fixed_point_v2(maxiter=5)"
   ]
  },
  {
   "cell_type": "code",
   "execution_count": 21,
   "metadata": {},
   "outputs": [
    {
     "name": "stdout",
     "output_type": "stream",
     "text": [
      "Iteration 1: x = 1.1071487177940904\n",
      "Iteration 2: x = 1.1466039045135867\n",
      "Iteration 3: x = 1.1595864584933437\n",
      "Iteration 4: x = 1.1636959143671342\n",
      "Iteration 5: x = 1.1649805955397385\n",
      "Iteration 6: x = 1.165380637446075\n",
      "Iteration 7: x = 1.1655050559893403\n",
      "Iteration 8: x = 1.1655437371644453\n",
      "Iteration 9: x = 1.1655557615495353\n",
      "Iteration 10: x = 1.165559499298558\n",
      "Iteration 11: x = 1.1655606611549096\n",
      "Iteration 12: x = 1.1655610223095458\n",
      "Iteration 13: x = 1.1655611345717263\n",
      "Iteration 14: x = 1.165561169467562\n",
      "\n",
      "Converged after 14 iterations.\n"
     ]
    },
    {
     "data": {
      "text/plain": [
       "1.165561169467562"
      ]
     },
     "execution_count": 21,
     "metadata": {},
     "output_type": "execute_result"
    }
   ],
   "source": [
    "# Specify δ and maxiter, but use the default x0.\n",
    "# Note that the keyword argument can be placed anywhere after the semicolon.\n",
    "solve_fixed_point_v2(1e-7; maxiter=15)"
   ]
  }
 ],
 "metadata": {
  "kernelspec": {
   "display_name": "Julia 1.11.5",
   "language": "julia",
   "name": "julia-1.11"
  },
  "language_info": {
   "file_extension": ".jl",
   "mimetype": "application/julia",
   "name": "julia",
   "version": "1.11.5"
  }
 },
 "nbformat": 4,
 "nbformat_minor": 4
}
