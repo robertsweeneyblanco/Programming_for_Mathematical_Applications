{
 "cells": [
  {
   "cell_type": "markdown",
   "metadata": {
    "slideshow": {
     "slide_type": "slide"
    }
   },
   "source": [
    "# Constructing Arrays"
   ]
  },
  {
   "cell_type": "markdown",
   "metadata": {
    "slideshow": {
     "slide_type": "slide"
    }
   },
   "source": [
    "## Array Comprehensions: A Mathematical Approach\n",
    "\n",
    "Beyond creating arrays of zeros or random numbers, we often need to construct arrays based on a specific mathematical rule. Julia's **comprehension syntax** is a powerful and concise way to do this, closely mirroring mathematical set-builder notation. It's an elegant alternative to writing a `for` loop to populate an array.\n",
    "\n",
    "The general form is:\n",
    "\n",
    "```julia\n",
    "A = [ expression for variable1 in range1, variable2 in range2, ... ]\n",
    "```\n",
    "\n",
    "Here, the `expression` is evaluated for each combination of values from the given ranges (or any iterable). The results are then collected into a new array whose dimensions are determined by the lengths of the ranges."
   ]
  },
  {
   "cell_type": "code",
   "execution_count": 1,
   "metadata": {
    "slideshow": {
     "slide_type": "fragment"
    }
   },
   "outputs": [
    {
     "data": {
      "text/plain": [
       "5-element Vector{Int64}:\n",
       "  1\n",
       "  4\n",
       "  9\n",
       " 16\n",
       " 25"
      ]
     },
     "execution_count": 1,
     "metadata": {},
     "output_type": "execute_result"
    }
   ],
   "source": [
    "# Create a vector containing the first 5 perfect squares.\n",
    "# The expression `x^2` is evaluated for each `x` in the range `1:5`.\n",
    "squares = [ x^2 for x in 1:5 ]"
   ]
  },
  {
   "cell_type": "code",
   "execution_count": 2,
   "metadata": {
    "slideshow": {
     "slide_type": "subslide"
    }
   },
   "outputs": [
    {
     "data": {
      "text/plain": [
       "3×5 Matrix{Int64}:\n",
       " 2  3  4  5  6\n",
       " 3  4  5  6  7\n",
       " 4  5  6  7  8"
      ]
     },
     "execution_count": 2,
     "metadata": {},
     "output_type": "execute_result"
    }
   ],
   "source": [
    "# Using two variables creates a 2D array (a Matrix).\n",
    "# This builds a 3x5 matrix where the entry A[i,j] = i + j.\n",
    "A = [ i+j for i in 1:3, j in 1:5 ]"
   ]
  },
  {
   "cell_type": "code",
   "execution_count": 3,
   "metadata": {
    "slideshow": {
     "slide_type": "fragment"
    }
   },
   "outputs": [
    {
     "data": {
      "text/plain": [
       "3×5 Matrix{Int64}:\n",
       " 1  1   1   1    1\n",
       " 2  4   8  16   32\n",
       " 3  9  27  81  243"
      ]
     },
     "execution_count": 3,
     "metadata": {},
     "output_type": "execute_result"
    }
   ],
   "source": [
    "# Another example: a 3x5 matrix where B[i,j] = i^j.\n",
    "B = [ i^j for i in 1:3, j in 1:5 ]"
   ]
  },
  {
   "cell_type": "markdown",
   "metadata": {
    "slideshow": {
     "slide_type": "subslide"
    }
   },
   "source": [
    "### Filtering with `if`\n",
    "\n",
    "You can add an `if` statement at the end of a comprehension to filter the values. The expression is only evaluated and included in the final array if the condition is `true`."
   ]
  },
  {
   "cell_type": "code",
   "execution_count": 4,
   "metadata": {
    "slideshow": {
     "slide_type": "fragment"
    }
   },
   "outputs": [
    {
     "data": {
      "text/plain": [
       "3-element Vector{Int64}:\n",
       "  9\n",
       " 36\n",
       " 81"
      ]
     },
     "execution_count": 4,
     "metadata": {},
     "output_type": "execute_result"
    }
   ],
   "source": [
    "# Create a vector of squares for numbers from 1 to 10,\n",
    "# but only include the square if the number `x` is a multiple of 3.\n",
    "multiples_of_3_squared = [ x^2 for x in 1:10 if x % 3 == 0 ]"
   ]
  },
  {
   "cell_type": "markdown",
   "metadata": {
    "slideshow": {
     "slide_type": "fragment"
    }
   },
   "source": [
    "### Specifying the Element Type\n",
    "\n",
    "Julia automatically infers the element type of the array from the expression. However, you can explicitly set the type by prefixing the comprehension with the desired type. This is useful for ensuring type stability or controlling memory usage."
   ]
  },
  {
   "cell_type": "code",
   "execution_count": 5,
   "metadata": {
    "slideshow": {
     "slide_type": "fragment"
    }
   },
   "outputs": [
    {
     "data": {
      "text/plain": [
       "2×10 Matrix{Float64}:\n",
       " -5.0   1.0  1.0  -1.0  -1.0   3.0  2.0  4.0   1.0  3.0\n",
       " -3.0  -5.0  2.0   1.0  -4.0  -2.0  4.0  2.0  -2.0  4.0"
      ]
     },
     "execution_count": 5,
     "metadata": {},
     "output_type": "execute_result"
    }
   ],
   "source": [
    "# Create a 2x10 matrix of random integers.\n",
    "# Even though `rand` produces integers here, we explicitly specify\n",
    "# that the matrix should store them as `Float64` values.\n",
    "y = Float64[ rand(-5:5) for i in 1:2, j in 1:10 ]"
   ]
  },
  {
   "cell_type": "markdown",
   "metadata": {
    "slideshow": {
     "slide_type": "slide"
    }
   },
   "source": [
    "## Generator Expressions for Efficiency\n",
    "\n",
    "What if you need to perform a calculation on a sequence of values, but you don't actually need to store all the values in memory at once? This is common when you want to sum a series or find a maximum value.\n",
    "\n",
    "By simply removing the square brackets `[]` from a comprehension, you create a **generator expression**. Instead of building an array, this creates a special *generator* object that produces the values on demand. This is often called \"lazy\" evaluation and can be incredibly memory-efficient."
   ]
  },
  {
   "cell_type": "code",
   "execution_count": 6,
   "metadata": {
    "slideshow": {
     "slide_type": "fragment"
    }
   },
   "outputs": [
    {
     "data": {
      "text/plain": [
       "Base.Generator{UnitRange{Int64}, var\"#11#12\"}(var\"#11#12\"(), 1:10)"
      ]
     },
     "execution_count": 6,
     "metadata": {},
     "output_type": "execute_result"
    }
   ],
   "source": [
    "# This doesn't compute all 10 values and store them.\n",
    "# Instead, `gen` is an object that knows how to produce the values when asked.\n",
    "gen = (i*(i-1) for i in 1:10)"
   ]
  },
  {
   "cell_type": "code",
   "execution_count": 7,
   "metadata": {
    "slideshow": {
     "slide_type": "fragment"
    }
   },
   "outputs": [
    {
     "name": "stdout",
     "output_type": "stream",
     "text": [
      "0 2 6 12 20 30 42 56 72 90 "
     ]
    }
   ],
   "source": [
    "# We can iterate over the generator just like an array.\n",
    "# The values are computed one by one as the loop progresses.\n",
    "for x in gen\n",
    "    print(x, \" \")\n",
    "end"
   ]
  },
  {
   "cell_type": "markdown",
   "metadata": {
    "slideshow": {
     "slide_type": "slide"
    }
   },
   "source": [
    "## Other Powerful Array Creation Techniques"
   ]
  },
  {
   "cell_type": "markdown",
   "metadata": {},
   "source": [
    "### `reshape`\n",
    "\n",
    "The `reshape` function is a versatile tool that takes an existing collection of elements and pours them into an array of new dimensions without changing the underlying data."
   ]
  },
  {
   "cell_type": "code",
   "execution_count": 8,
   "metadata": {
    "slideshow": {
     "slide_type": "fragment"
    }
   },
   "outputs": [
    {
     "data": {
      "text/plain": [
       "3×5 reshape(::UnitRange{Int64}, 3, 5) with eltype Int64:\n",
       " 1  4  7  10  13\n",
       " 2  5  8  11  14\n",
       " 3  6  9  12  15"
      ]
     },
     "execution_count": 8,
     "metadata": {},
     "output_type": "execute_result"
    }
   ],
   "source": [
    "# Take the numbers 1 through 15 and arrange them into a 3x5 matrix.\n",
    "# Note that Julia is \"column-major,\" meaning it fills the first column completely,\n",
    "# then the second column, and so on.\n",
    "reshape(1:15, 3, 5)"
   ]
  },
  {
   "cell_type": "markdown",
   "metadata": {
    "slideshow": {
     "slide_type": "subslide"
    }
   },
   "source": [
    "### `permutedims`\n",
    "\n",
    "Since `reshape` fills arrays column-by-column, how can we achieve row-by-row filling? A common trick is to `reshape` into the *transposed* dimensions and then use `permutedims` to swap the dimensions.\n",
    "\n",
    "For a 2D matrix, `permutedims(A)` is equivalent to the transpose `A'`."
   ]
  },
  {
   "cell_type": "code",
   "execution_count": 9,
   "metadata": {
    "slideshow": {
     "slide_type": "fragment"
    }
   },
   "outputs": [
    {
     "data": {
      "text/plain": [
       "3×5 Matrix{Int64}:\n",
       "  1   2   3   4   5\n",
       "  6   7   8   9  10\n",
       " 11  12  13  14  15"
      ]
     },
     "execution_count": 9,
     "metadata": {},
     "output_type": "execute_result"
    }
   ],
   "source": [
    "# To get a 3x5 matrix filled row-by-row, we first create a 5x3 matrix.\n",
    "# Then, permuting its dimensions gives us the desired 3x5 layout.\n",
    "permutedims(reshape(1:15, 5, 3))"
   ]
  },
  {
   "cell_type": "markdown",
   "metadata": {
    "slideshow": {
     "slide_type": "subslide"
    }
   },
   "source": [
    "### `repeat`\n",
    "\n",
    "The `repeat` function constructs a larger array by tiling it with copies of a smaller one. You can specify how many times to repeat along each dimension."
   ]
  },
  {
   "cell_type": "code",
   "execution_count": 10,
   "metadata": {
    "slideshow": {
     "slide_type": "fragment"
    }
   },
   "outputs": [
    {
     "data": {
      "text/plain": [
       "6-element Vector{Int64}:\n",
       " 1\n",
       " 2\n",
       " 1\n",
       " 2\n",
       " 1\n",
       " 2"
      ]
     },
     "execution_count": 10,
     "metadata": {},
     "output_type": "execute_result"
    }
   ],
   "source": [
    "# Repeat the elements of the vector `1:2` three times.\n",
    "repeat(1:2, 3)"
   ]
  },
  {
   "cell_type": "code",
   "execution_count": 11,
   "metadata": {
    "slideshow": {
     "slide_type": "subslide"
    }
   },
   "outputs": [
    {
     "data": {
      "text/plain": [
       "6×4 Matrix{Int64}:\n",
       " 1  1  1  1\n",
       " 2  2  2  2\n",
       " 1  1  1  1\n",
       " 2  2  2  2\n",
       " 1  1  1  1\n",
       " 2  2  2  2"
      ]
     },
     "execution_count": 11,
     "metadata": {},
     "output_type": "execute_result"
    }
   ],
   "source": [
    "# For multiple dimensions, you can specify inner and outer repetitions.\n",
    "# Here, we repeat `1:2` 3 times down (inner) and 4 times across (outer).\n",
    "repeat(1:2, 3, 4)"
   ]
  },
  {
   "cell_type": "code",
   "execution_count": 12,
   "metadata": {
    "slideshow": {
     "slide_type": "fragment"
    }
   },
   "outputs": [
    {
     "data": {
      "text/plain": [
       "2×4 Matrix{Int64}:\n",
       " 1  2  1  2\n",
       " 3  4  3  4"
      ]
     },
     "execution_count": 12,
     "metadata": {},
     "output_type": "execute_result"
    }
   ],
   "source": [
    "# You can also repeat an entire matrix.\n",
    "# `repeat(A, m, n)` will create a larger matrix by tiling A `m` times\n",
    "# vertically and `n` times horizontally.\n",
    "A = [1 2; 3 4]\n",
    "repeat(A, 1, 2) # Repeat 1 time along dimension 1, 2 times along dimension 2."
   ]
  }
 ],
 "metadata": {
  "kernelspec": {
   "display_name": "Julia 1.11.5",
   "language": "julia",
   "name": "julia-1.11"
  },
  "language_info": {
   "file_extension": ".jl",
   "mimetype": "application/julia",
   "name": "julia",
   "version": "1.11.5"
  }
 },
 "nbformat": 4,
 "nbformat_minor": 4
}
