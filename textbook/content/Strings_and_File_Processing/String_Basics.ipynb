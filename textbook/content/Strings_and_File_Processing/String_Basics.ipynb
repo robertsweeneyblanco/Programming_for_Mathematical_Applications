{
 "cells": [
  {
   "cell_type": "markdown",
   "metadata": {
    "slideshow": {
     "slide_type": "slide"
    }
   },
   "source": [
    "# String Basics"
   ]
  },
  {
   "cell_type": "markdown",
   "metadata": {
    "slideshow": {
     "slide_type": "slide"
    }
   },
   "source": [
    "Strings are sequences of characters used to represent text, one of the most fundamental types of data. Julia has powerful, first-class support for working with strings.\n",
    "\n",
    "A key feature of Julia is its excellent handling of **Unicode** characters, which allows it to represent text from virtually any language in the world (e.g., `\"Hello, Γειά σου, नमस्ते, こんにちは, Привіт\"`). For simplicity in this introduction, we will focus on the **ASCII** character set, which covers English letters, numbers, and common symbols."
   ]
  },
  {
   "cell_type": "markdown",
   "metadata": {
    "slideshow": {
     "slide_type": "slide"
    }
   },
   "source": [
    "## Characters\n",
    "\n",
    "A string is a sequence of individual **characters**. The simplest character set is ASCII (American Standard Code for Information Interchange), a 7-bit code that maps 128 integers to characters. This set includes numbers, upper and lower case English letters, and punctuation.\n",
    "\n",
    "Codes 0-31 are non-printable *control characters* (like newline or tab). Codes 32-126 are the standard printable characters you see below (code 32 is the space character):\n",
    "\n",
    "```\n",
    " !\"#$%&'()*+,-./0123456789:;<=>?@ABCDEFGHIJKLMNOPQRSTUVWXYZ[\\]^_`abcdefghijklmnopqrstuvwxyz{|}~\n",
    "```"
   ]
  },
  {
   "cell_type": "markdown",
   "metadata": {
    "slideshow": {
     "slide_type": "subslide"
    }
   },
   "source": [
    "In Julia, individual characters have the type `Char` and are created using **single quotes**."
   ]
  },
  {
   "cell_type": "code",
   "execution_count": 1,
   "metadata": {
    "slideshow": {
     "slide_type": "fragment"
    }
   },
   "outputs": [
    {
     "data": {
      "text/plain": [
       "'Q': ASCII/Unicode U+0051 (category Lu: Letter, uppercase)"
      ]
     },
     "execution_count": 1,
     "metadata": {},
     "output_type": "execute_result"
    }
   ],
   "source": [
    "# Single quotes denote a single character, not a string.\n",
    "c = 'Q'"
   ]
  },
  {
   "cell_type": "markdown",
   "metadata": {
    "slideshow": {
     "slide_type": "fragment"
    }
   },
   "source": [
    "You can also create a `Char` from its underlying ASCII integer code."
   ]
  },
  {
   "cell_type": "code",
   "execution_count": 2,
   "metadata": {
    "slideshow": {
     "slide_type": "fragment"
    }
   },
   "outputs": [
    {
     "data": {
      "text/plain": [
       "'&': ASCII/Unicode U+0026 (category Po: Punctuation, other)"
      ]
     },
     "execution_count": 2,
     "metadata": {},
     "output_type": "execute_result"
    }
   ],
   "source": [
    "# The ASCII code for the ampersand '&' is 38.\n",
    "c_and = Char(38)"
   ]
  },
  {
   "cell_type": "markdown",
   "metadata": {
    "slideshow": {
     "slide_type": "subslide"
    }
   },
   "source": [
    "Conversely, you can get the integer code for a `Char` by converting it to an `Int`."
   ]
  },
  {
   "cell_type": "code",
   "execution_count": 3,
   "metadata": {
    "slideshow": {
     "slide_type": "fragment"
    }
   },
   "outputs": [
    {
     "data": {
      "text/plain": [
       "64"
      ]
     },
     "execution_count": 3,
     "metadata": {},
     "output_type": "execute_result"
    }
   ],
   "source": [
    "# The '@' symbol corresponds to ASCII code 64.\n",
    "c_at = Int('@')"
   ]
  },
  {
   "cell_type": "markdown",
   "metadata": {
    "slideshow": {
     "slide_type": "fragment"
    }
   },
   "source": [
    "Special control characters can be created using a backslash, known as an *escape sequence*. The most common is `\\n`, the newline character."
   ]
  },
  {
   "cell_type": "code",
   "execution_count": 4,
   "metadata": {
    "slideshow": {
     "slide_type": "fragment"
    }
   },
   "outputs": [
    {
     "data": {
      "text/plain": [
       "'\\n': ASCII/Unicode U+000A (category Cc: Other, control)"
      ]
     },
     "execution_count": 4,
     "metadata": {},
     "output_type": "execute_result"
    }
   ],
   "source": [
    "# `\\n` represents a single newline character.\n",
    "c_newline = '\\n'"
   ]
  },
  {
   "cell_type": "markdown",
   "metadata": {
    "slideshow": {
     "slide_type": "subslide"
    }
   },
   "source": [
    "Because characters are backed by integers, you can perform comparisons and simple arithmetic on them. These operations work on the characters' underlying integer codes.\n",
    "\n",
    "```julia\n",
    "# 'A' (65) is less than 'a' (97)\n",
    "julia> 'A' < 'a'\n",
    "true\n",
    "\n",
    "# This checks if 'a' is between 'A' and 'Z'. It isn't.\n",
    "julia> 'A' <= 'a' <= 'Z'\n",
    "false\n",
    "\n",
    "# This checks if 'X' is between 'A' and 'Z'. It is.\n",
    "julia> 'A' <= 'X' <= 'Z'\n",
    "true\n",
    "\n",
    "# This calculates the distance between 'x' and 'a' in the alphabet.\n",
    "# Int('x') - Int('a') = 120 - 97 = 23\n",
    "julia> 'x' - 'a'\n",
    "23\n",
    "```"
   ]
  },
  {
   "cell_type": "markdown",
   "metadata": {
    "slideshow": {
     "slide_type": "slide"
    }
   },
   "source": [
    "## Creating Strings\n",
    "\n",
    "Strings are created from a sequence of characters using **double quotes**."
   ]
  },
  {
   "cell_type": "code",
   "execution_count": 5,
   "metadata": {
    "slideshow": {
     "slide_type": "fragment"
    }
   },
   "outputs": [
    {
     "data": {
      "text/plain": [
       "\"Hello world!\\nJulia is fun\\n\""
      ]
     },
     "execution_count": 5,
     "metadata": {},
     "output_type": "execute_result"
    }
   ],
   "source": [
    "# A string containing two lines, separated by the newline character `\\n`.\n",
    "str1 = \"Hello world!\\nJulia is fun\\n\""
   ]
  },
  {
   "cell_type": "markdown",
   "metadata": {
    "slideshow": {
     "slide_type": "fragment"
    }
   },
   "source": [
    "When you display a string variable, Julia shows its literal representation, including escape sequences like `\\n`. However, functions like `print()` and `println()` will interpret these sequences to produce formatted output."
   ]
  },
  {
   "cell_type": "code",
   "execution_count": 6,
   "metadata": {
    "slideshow": {
     "slide_type": "fragment"
    }
   },
   "outputs": [
    {
     "name": "stdout",
     "output_type": "stream",
     "text": [
      "Hello world!\n",
      "Julia is fun\n"
     ]
    }
   ],
   "source": [
    "# The `\\n` characters are interpreted as line breaks.\n",
    "print(str1)"
   ]
  },
  {
   "cell_type": "markdown",
   "metadata": {
    "slideshow": {
     "slide_type": "subslide"
    }
   },
   "source": [
    "Because `\"`, `\\`, and `$` have special meanings, you must escape them with a preceding backslash to include them as literal characters in a string."
   ]
  },
  {
   "cell_type": "code",
   "execution_count": 7,
   "metadata": {
    "slideshow": {
     "slide_type": "fragment"
    }
   },
   "outputs": [
    {
     "name": "stdout",
     "output_type": "stream",
     "text": [
      "I \"have\" $50, and the path is C:\\temp\n"
     ]
    }
   ],
   "source": [
    "# Use \\\" for a double quote, \\\\ for a backslash, and \\$ for a dollar sign.\n",
    "str2 = \"I \\\"have\\\" \\$50, and the path is C:\\\\temp\\n\"\n",
    "print(str2)"
   ]
  },
  {
   "cell_type": "markdown",
   "metadata": {
    "slideshow": {
     "slide_type": "subslide"
    }
   },
   "source": [
    "For multi-line text, **triple quotes** (`\"\"\"...\"\"\"`) are very convenient. Within a triple-quoted string, you don't need to escape double quotes, and newlines are preserved automatically."
   ]
  },
  {
   "cell_type": "code",
   "execution_count": 8,
   "metadata": {
    "slideshow": {
     "slide_type": "fragment"
    }
   },
   "outputs": [
    {
     "name": "stdout",
     "output_type": "stream",
     "text": [
      "    This is some multi-line text.\n",
      "    Newlines are automatically inserted.\n",
      "    Double quotes can be used freely: \"See?\"\n",
      "    But you still need to escape backslashes and dollar signs: \\ and $\n",
      "    The indentation of the final triple-quote determines how much leading\n",
      "    whitespace is removed from each line.\n"
     ]
    }
   ],
   "source": [
    "str3 = \"\"\"\n",
    "    This is some multi-line text.\n",
    "    Newlines are automatically inserted.\n",
    "    Double quotes can be used freely: \"See?\"\n",
    "    But you still need to escape backslashes and dollar signs: \\\\ and \\$\n",
    "    The indentation of the final triple-quote determines how much leading\n",
    "    whitespace is removed from each line.\n",
    "\"\"\"\n",
    "print(str3)"
   ]
  },
  {
   "cell_type": "markdown",
   "metadata": {
    "slideshow": {
     "slide_type": "slide"
    }
   },
   "source": [
    "## Combining and Repeating Strings\n",
    "\n",
    "You can combine (or *concatenate*) strings using the `string` function or, more commonly, the `*` operator."
   ]
  },
  {
   "cell_type": "code",
   "execution_count": 9,
   "metadata": {
    "slideshow": {
     "slide_type": "fragment"
    }
   },
   "outputs": [
    {
     "name": "stdout",
     "output_type": "stream",
     "text": [
      "Hello World!\n",
      "Hello World!\n"
     ]
    }
   ],
   "source": [
    "str_a = \"Hello\"\n",
    "str_b = \"World\"\n",
    "\n",
    "# Method 1: The `string` function can join any number of arguments.\n",
    "str_c = string(str_a, \" \", str_b, \"!\\n\")\n",
    "\n",
    "# Method 2: The `*` operator provides a more concise syntax.\n",
    "str_d = str_a * \" \" * str_b * \"!\\n\"\n",
    "\n",
    "print(str_c)\n",
    "print(str_d)"
   ]
  },
  {
   "cell_type": "markdown",
   "metadata": {
    "slideshow": {
     "slide_type": "subslide"
    }
   },
   "source": [
    "### String Interpolation\n",
    "\n",
    "The most idiomatic and powerful way to build strings is **interpolation**, which embeds the value of a variable or expression directly into a string literal using the `$` symbol. This is often the clearest and most convenient syntax."
   ]
  },
  {
   "cell_type": "code",
   "execution_count": 10,
   "metadata": {
    "slideshow": {
     "slide_type": "fragment"
    }
   },
   "outputs": [
    {
     "name": "stdout",
     "output_type": "stream",
     "text": [
      "Hello World\n"
     ]
    }
   ],
   "source": [
    "# Julia automatically inserts the values of `str_a` and `str_b`.\n",
    "interpolated_str = \"$str_a $str_b\\n\"\n",
    "print(interpolated_str)"
   ]
  },
  {
   "cell_type": "markdown",
   "metadata": {
    "slideshow": {
     "slide_type": "fragment"
    }
   },
   "source": [
    "For more complex expressions, wrap the code in parentheses `$(...)`."
   ]
  },
  {
   "cell_type": "code",
   "execution_count": 11,
   "metadata": {
    "slideshow": {
     "slide_type": "fragment"
    }
   },
   "outputs": [
    {
     "name": "stdout",
     "output_type": "stream",
     "text": [
      "A random vector: [0.04279953052982588, 0.8772905022364308, 0.7360836181754195]\n",
      "The sine of 45 degrees is 0.7071067811865476.\n"
     ]
    }
   ],
   "source": [
    "vec = rand(3)\n",
    "println(\"A random vector: $vec\")\n",
    "\n",
    "# The expression inside the parentheses is evaluated first.\n",
    "println(\"The sine of 45 degrees is $(sind(45)).\")"
   ]
  },
  {
   "cell_type": "markdown",
   "metadata": {
    "slideshow": {
     "slide_type": "subslide"
    }
   },
   "source": [
    "You can also repeat a string multiple times using the power `^` operator."
   ]
  },
  {
   "cell_type": "code",
   "execution_count": 12,
   "metadata": {
    "slideshow": {
     "slide_type": "fragment"
    }
   },
   "outputs": [
    {
     "data": {
      "text/plain": [
       "\"Na Na Na Na Na Na Na Na Batman!\""
      ]
     },
     "execution_count": 12,
     "metadata": {},
     "output_type": "execute_result"
    }
   ],
   "source": [
    "# Repeats the string 5 times.\n",
    "\"Na \"^8 * \"Batman!\""
   ]
  },
  {
   "cell_type": "markdown",
   "metadata": {
    "slideshow": {
     "slide_type": "slide"
    }
   },
   "source": [
    "## String Comparison\n",
    "\n",
    "You can compare strings lexicographically (i.e., in dictionary order) using the standard comparison operators.\n",
    "\n",
    "```julia\n",
    "julia> \"apple\" < \"banana\" # 'a' comes before 'b'\n",
    "true\n",
    "\n",
    "julia> \"Zebra\" < \"apple\" # Uppercase 'Z' comes before lowercase 'a' in ASCII\n",
    "true\n",
    "\n",
    "julia> \"Hello\" == \"Hello\" # Checks for exact equality\n",
    "true\n",
    "\n",
    "julia> \"1 + 2 = 3\" == \"1 + 2 = $(1 + 2)\" # Interpolation happens before comparison\n",
    "true\n",
    "```"
   ]
  },
  {
   "cell_type": "markdown",
   "metadata": {
    "slideshow": {
     "slide_type": "slide"
    }
   },
   "source": [
    "## String Indexing and Slicing\n",
    "\n",
    "You can access parts of a string using array-like indexing. For ASCII strings, this is straightforward.\n",
    "\n",
    "**(Note:** For Unicode strings containing characters that use multiple bytes, indices may not be consecutive. This is a more advanced topic, but it's good to be aware of!)\n",
    "\n",
    "To get a single character, use an integer index:"
   ]
  },
  {
   "cell_type": "code",
   "execution_count": 13,
   "metadata": {
    "slideshow": {
     "slide_type": "fragment"
    }
   },
   "outputs": [
    {
     "name": "stdout",
     "output_type": "stream",
     "text": [
      "The character is 'g' and its type is Char.\n"
     ]
    }
   ],
   "source": [
    "str = \"abcdefghij\"\n",
    "\n",
    "# Get the character at the 7th position.\n",
    "c = str[7]\n",
    "println(\"The character is '$c' and its type is $(typeof(c)).\")"
   ]
  },
  {
   "cell_type": "markdown",
   "metadata": {
    "slideshow": {
     "slide_type": "subslide"
    }
   },
   "source": [
    "To extract a new string (a *substring*), use a range of indices:"
   ]
  },
  {
   "cell_type": "code",
   "execution_count": 14,
   "metadata": {
    "slideshow": {
     "slide_type": "fragment"
    }
   },
   "outputs": [
    {
     "name": "stdout",
     "output_type": "stream",
     "text": [
      "The substring is \"ghij\" and its type is String.\n"
     ]
    }
   ],
   "source": [
    "# Get the substring from the 7th position to the end.\n",
    "s = str[7:end]\n",
    "println(\"The substring is \\\"$s\\\" and its type is $(typeof(s)).\")"
   ]
  },
  {
   "cell_type": "markdown",
   "metadata": {
    "slideshow": {
     "slide_type": "fragment"
    }
   },
   "source": [
    "Notice the key difference: indexing with an integer returns a `Char`, while indexing with a range returns a `String`."
   ]
  },
  {
   "cell_type": "code",
   "execution_count": 15,
   "metadata": {
    "slideshow": {
     "slide_type": "fragment"
    }
   },
   "outputs": [
    {
     "data": {
      "text/plain": [
       "\"g\""
      ]
     },
     "execution_count": 15,
     "metadata": {},
     "output_type": "execute_result"
    }
   ],
   "source": [
    "# A range of length one (7:7) produces a string containing one character.\n",
    "str[7:7]"
   ]
  },
  {
   "cell_type": "markdown",
   "metadata": {
    "slideshow": {
     "slide_type": "subslide"
    }
   },
   "source": [
    "For performance-critical code where you want to avoid creating a new copy of the string data, you can create a `SubString`, which is a *view* into the original string."
   ]
  },
  {
   "cell_type": "code",
   "execution_count": 16,
   "metadata": {
    "slideshow": {
     "slide_type": "fragment"
    }
   },
   "outputs": [
    {
     "data": {
      "text/plain": [
       "\"ghij\""
      ]
     },
     "execution_count": 16,
     "metadata": {},
     "output_type": "execute_result"
    }
   ],
   "source": [
    "# This creates a view into `str` from index 7 to 10 without allocating a new string.\n",
    "sub = SubString(str, 7, 10)"
   ]
  },
  {
   "cell_type": "markdown",
   "metadata": {
    "slideshow": {
     "slide_type": "subslide"
    }
   },
   "source": [
    "You can find the number of characters in a string with the `length` function."
   ]
  },
  {
   "cell_type": "code",
   "execution_count": 17,
   "metadata": {
    "slideshow": {
     "slide_type": "fragment"
    }
   },
   "outputs": [
    {
     "name": "stdout",
     "output_type": "stream",
     "text": [
      "Character #1 is 'a'\n",
      "Character #2 is 'b'\n",
      "Character #3 is 'c'\n",
      "Character #4 is 'd'\n",
      "Character #5 is 'e'\n",
      "Character #6 is 'f'\n",
      "Character #7 is 'g'\n",
      "Character #8 is 'h'\n",
      "Character #9 is 'i'\n",
      "Character #10 is 'j'\n"
     ]
    }
   ],
   "source": [
    "for i in 1:length(str)\n",
    "    println(\"Character #$i is '$(str[i])'\")\n",
    "end"
   ]
  },
  {
   "cell_type": "markdown",
   "metadata": {
    "slideshow": {
     "slide_type": "subslide"
    }
   },
   "source": [
    "### Strings are Immutable\n",
    "\n",
    "An important property of Julia strings is that they are **immutable**. This means you cannot change a string after it has been created. If you need to modify a string, you must create a new one."
   ]
  },
  {
   "cell_type": "code",
   "execution_count": 18,
   "metadata": {
    "slideshow": {
     "slide_type": "fragment"
    }
   },
   "outputs": [
    {
     "ename": "LoadError",
     "evalue": "MethodError: no method matching setindex!(::String, ::Char, ::Int64)\nThe function `setindex!` exists, but no method is defined for this combination of argument types.",
     "output_type": "error",
     "traceback": [
      "MethodError: no method matching setindex!(::String, ::Char, ::Int64)\nThe function `setindex!` exists, but no method is defined for this combination of argument types.",
      "",
      "Stacktrace:",
      " [1] top-level scope",
      "\u001b[90m   @\u001b[39m \u001b[90m\u001b[4mIn[18]:1\u001b[24m\u001b[39m"
     ]
    }
   ],
   "source": [
    "str[4] = 'A'"
   ]
  },
  {
   "cell_type": "markdown",
   "metadata": {
    "slideshow": {
     "slide_type": "slide"
    }
   },
   "source": [
    "## Example: Palindrome Checker\n",
    "\n",
    "A palindrome is a word or phrase that reads the same forwards and backwards, like \"racecar\" or \"madam\".\n",
    "\n",
    "Thanks to Julia's powerful slicing syntax, writing a function to check for palindromes is remarkably simple."
   ]
  },
  {
   "cell_type": "code",
   "execution_count": 19,
   "metadata": {
    "slideshow": {
     "slide_type": "fragment"
    }
   },
   "outputs": [
    {
     "name": "stdout",
     "output_type": "stream",
     "text": [
      "Is \"racecar\" a palindrome? true\n",
      "Is \"hello\" a palindrome? false\n",
      "Is \"sitonapotatopanotis\" a palindrome? true\n",
      "Is \"(())\" a palindrome? false\n",
      "Is \")(()\" a palindrome? true\n"
     ]
    }
   ],
   "source": [
    "function is_palindrome(str)\n",
    "    # `str[end:-1:1]` creates a reversed copy of the string.\n",
    "    # We then simply check if the reversed string is equal to the original.\n",
    "    return str == str[end:-1:1]\n",
    "end\n",
    "\n",
    "strings = [\"racecar\", \"hello\", \"sitonapotatopanotis\", \"(())\", \")(()\"]\n",
    "for str in strings\n",
    "    println(\"Is \\\"$str\\\" a palindrome? $(is_palindrome(str))\")\n",
    "end"
   ]
  },
  {
   "cell_type": "markdown",
   "metadata": {
    "slideshow": {
     "slide_type": "subslide"
    }
   },
   "source": [
    "This is also a great opportunity to practice recursion. A recursive palindrome checker works by this logic:\n",
    "1.  **Base Case:** Any string with 0 or 1 characters is a palindrome.\n",
    "2.  **Recursive Step:** A longer string is a palindrome if its first and last characters match, *and* the substring between them is also a palindrome."
   ]
  },
  {
   "cell_type": "code",
   "execution_count": 20,
   "metadata": {
    "slideshow": {
     "slide_type": "fragment"
    }
   },
   "outputs": [
    {
     "name": "stdout",
     "output_type": "stream",
     "text": [
      "Is \"racecar\" a palindrome? (recursive check): true\n",
      "Is \"hello\" a palindrome? (recursive check): false\n",
      "Is \"sitonapotatopanotis\" a palindrome? (recursive check): true\n",
      "Is \"(())\" a palindrome? (recursive check): false\n",
      "Is \")(()\" a palindrome? (recursive check): true\n"
     ]
    }
   ],
   "source": [
    "function is_palindrome_recursive(str)\n",
    "    # Base case: empty or single-character strings are palindromes.\n",
    "    if length(str) <= 1\n",
    "        return true\n",
    "    # Recursive step: check if outer characters match and inner string is a palindrome.\n",
    "    elseif str[1] == str[end]\n",
    "        return is_palindrome_recursive(str[2:end-1])\n",
    "    # If outer characters don't match, it's not a palindrome.\n",
    "    else\n",
    "        return false\n",
    "    end\n",
    "end\n",
    "\n",
    "for str in strings\n",
    "    println(\"Is \\\"$str\\\" a palindrome? (recursive check): $(is_palindrome_recursive(str))\")\n",
    "end"
   ]
  }
 ],
 "metadata": {
  "kernelspec": {
   "display_name": "Julia 1.11.5",
   "language": "julia",
   "name": "julia-1.11"
  },
  "language_info": {
   "file_extension": ".jl",
   "mimetype": "application/julia",
   "name": "julia",
   "version": "1.11.5"
  }
 },
 "nbformat": 4,
 "nbformat_minor": 4
}
