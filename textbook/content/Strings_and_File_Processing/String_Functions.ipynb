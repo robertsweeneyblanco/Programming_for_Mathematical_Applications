{
 "cells": [
  {
   "cell_type": "markdown",
   "metadata": {
    "slideshow": {
     "slide_type": "slide"
    }
   },
   "source": [
    "# String Functions\n",
    "\n",
    "Julia's standard library provides a rich set of functions for manipulating strings. Let's explore some of the most common ones.\n",
    "\n",
    "### Case Conversion\n",
    "\n",
    "You can easily convert the case of a string using `uppercase`, `lowercase`, and `titlecase`. These functions create and return a new string, leaving the original unchanged."
   ]
  },
  {
   "cell_type": "code",
   "execution_count": 1,
   "metadata": {
    "slideshow": {
     "slide_type": "fragment"
    }
   },
   "outputs": [
    {
     "name": "stdout",
     "output_type": "stream",
     "text": [
      "JULIA123 python\n"
     ]
    }
   ],
   "source": [
    "# Note that non-letter characters are unaffected.\n",
    "s1 = uppercase(\"julia123 \")\n",
    "s2 = lowercase(\"PYTHON\")\n",
    "println(s1 * s2)"
   ]
  },
  {
   "cell_type": "markdown",
   "metadata": {
    "slideshow": {
     "slide_type": "fragment"
    }
   },
   "source": [
    "The `titlecase` function capitalizes the first character of each word."
   ]
  },
  {
   "cell_type": "code",
   "execution_count": 2,
   "metadata": {
    "slideshow": {
     "slide_type": "fragment"
    }
   },
   "outputs": [
    {
     "data": {
      "text/plain": [
       "\"The Quick Brown Fox Jumps Over The Lazy Dog\""
      ]
     },
     "execution_count": 2,
     "metadata": {},
     "output_type": "execute_result"
    }
   ],
   "source": [
    "str_title = \"the quick brown fox jumps over the lazy dog\"\n",
    "titlecase(str_title)"
   ]
  },
  {
   "cell_type": "markdown",
   "metadata": {
    "slideshow": {
     "slide_type": "slide"
    }
   },
   "source": [
    "## Searching Within Strings"
   ]
  },
  {
   "cell_type": "markdown",
   "metadata": {
    "slideshow": {
     "slide_type": "fragment"
    }
   },
   "source": [
    "To quickly check if a character is present in a string, you can use the `∈` operator (typed as `\\in` followed by Tab)."
   ]
  },
  {
   "cell_type": "code",
   "execution_count": 3,
   "metadata": {
    "slideshow": {
     "slide_type": "fragment"
    }
   },
   "outputs": [
    {
     "data": {
      "text/plain": [
       "true"
      ]
     },
     "execution_count": 3,
     "metadata": {},
     "output_type": "execute_result"
    }
   ],
   "source": [
    "# Let's check for a character in our title-cased string.\n",
    "'T' ∈ titlecase(str_title)"
   ]
  },
  {
   "cell_type": "markdown",
   "metadata": {
    "slideshow": {
     "slide_type": "subslide"
    }
   },
   "source": [
    "To find the position of a pattern, use `findfirst(pattern, string)`. It returns a **range** of indices where the pattern was found, or `nothing` if it wasn't found."
   ]
  },
  {
   "cell_type": "code",
   "execution_count": 4,
   "metadata": {
    "slideshow": {
     "slide_type": "fragment"
    }
   },
   "outputs": [
    {
     "data": {
      "text/plain": [
       "8:10"
      ]
     },
     "execution_count": 4,
     "metadata": {},
     "output_type": "execute_result"
    }
   ],
   "source": [
    "str = \"Hello, World! These are my words.\"\n",
    "pattern = \"wor\"\n",
    "\n",
    "# It's common to convert the string to lowercase for a case-insensitive search.\n",
    "idx1 = findfirst(pattern, lowercase(str))"
   ]
  },
  {
   "cell_type": "markdown",
   "metadata": {
    "slideshow": {
     "slide_type": "fragment"
    }
   },
   "source": [
    "The function `findnext(pattern, string, start_pos)` finds the next occurrence of the pattern, beginning its search from the index `start_pos`."
   ]
  },
  {
   "cell_type": "code",
   "execution_count": 5,
   "metadata": {
    "slideshow": {
     "slide_type": "fragment"
    }
   },
   "outputs": [
    {
     "data": {
      "text/plain": [
       "28:30"
      ]
     },
     "execution_count": 5,
     "metadata": {},
     "output_type": "execute_result"
    }
   ],
   "source": [
    "# To find the *next* match, we start searching right after the end of the previous one.\n",
    "idx2 = findnext(pattern, lowercase(str), idx1[end] + 1)"
   ]
  },
  {
   "cell_type": "markdown",
   "metadata": {
    "slideshow": {
     "slide_type": "fragment"
    }
   },
   "source": [
    "Similarly, `findlast` and `findprev` are available to search backwards from the end of the string."
   ]
  },
  {
   "cell_type": "markdown",
   "metadata": {
    "slideshow": {
     "slide_type": "slide"
    }
   },
   "source": [
    "## Finding and Replacing Substrings\n",
    "\n",
    "Since strings are immutable, we can't change them in place. Instead, the `replace` function creates a **new string** with the desired substitutions.\n",
    "\n",
    "The syntax uses a `Pair`, like `pattern => replacement`."
   ]
  },
  {
   "cell_type": "code",
   "execution_count": 6,
   "metadata": {
    "slideshow": {
     "slide_type": "fragment"
    }
   },
   "outputs": [
    {
     "name": "stdout",
     "output_type": "stream",
     "text": [
      "Original: Hello, World! These are my words.\n",
      "Replaced: Hello there! These are my words.\n"
     ]
    }
   ],
   "source": [
    "# The original string `str` is not modified.\n",
    "println(\"Original: \", str)\n",
    "\n",
    "# A new string is returned with the replacement.\n",
    "new_str = replace(str, \", World\" => \" there\")\n",
    "println(\"Replaced: \", new_str)"
   ]
  },
  {
   "cell_type": "markdown",
   "metadata": {},
   "source": [
    "## Parsing Strings to Numbers\n",
    "\n",
    "A very common task in data processing is converting text into numbers. The `parse(Type, string)` function is essential for this. It attempts to interpret a string as a value of the specified numeric type."
   ]
  },
  {
   "cell_type": "code",
   "execution_count": 7,
   "metadata": {},
   "outputs": [
    {
     "name": "stdout",
     "output_type": "stream",
     "text": [
      "1234 is of type Int64\n"
     ]
    }
   ],
   "source": [
    "# Parse a string into a 64-bit integer.\n",
    "num = parse(Int, \"1234\")\n",
    "println(\"$num is of type $(typeof(num))\")"
   ]
  },
  {
   "cell_type": "code",
   "execution_count": 8,
   "metadata": {},
   "outputs": [
    {
     "data": {
      "text/plain": [
       "22"
      ]
     },
     "execution_count": 8,
     "metadata": {},
     "output_type": "execute_result"
    }
   ],
   "source": [
    "# You can specify a different base for number systems like binary (base 2).\n",
    "parse(Int, \"10110\", base=2)"
   ]
  },
  {
   "cell_type": "code",
   "execution_count": 9,
   "metadata": {},
   "outputs": [
    {
     "data": {
      "text/plain": [
       "0.0012"
      ]
     },
     "execution_count": 9,
     "metadata": {},
     "output_type": "execute_result"
    }
   ],
   "source": [
    "# This also works for floating-point numbers, including scientific notation.\n",
    "parse(Float64, \"1.2e-3\")"
   ]
  },
  {
   "cell_type": "markdown",
   "metadata": {},
   "source": [
    "This function is especially powerful when you need to read numerical data from a file, which often gives you an array of strings."
   ]
  },
  {
   "cell_type": "code",
   "execution_count": 10,
   "metadata": {},
   "outputs": [
    {
     "data": {
      "text/plain": [
       "3-element Vector{Float64}:\n",
       "  123.4\n",
       " 4590.12\n",
       "    0.456"
      ]
     },
     "execution_count": 10,
     "metadata": {},
     "output_type": "execute_result"
    }
   ],
   "source": [
    "# An array of strings containing numbers.\n",
    "string_numbers = [\"123.4\", \"4590.12\", \"0.456\"]\n",
    "\n",
    "# The dot syntax `parse.(...)` broadcasts the function over the entire array,\n",
    "# converting each string to a Float64 and returning a new array of numbers.\n",
    "parse.(Float64, string_numbers)"
   ]
  }
 ],
 "metadata": {
  "kernelspec": {
   "display_name": "Julia 1.11.5",
   "language": "julia",
   "name": "julia-1.11"
  },
  "language_info": {
   "file_extension": ".jl",
   "mimetype": "application/julia",
   "name": "julia",
   "version": "1.11.5"
  }
 },
 "nbformat": 4,
 "nbformat_minor": 4
}
