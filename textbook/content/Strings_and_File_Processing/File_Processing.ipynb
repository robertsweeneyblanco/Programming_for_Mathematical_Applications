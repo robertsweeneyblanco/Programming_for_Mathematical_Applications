{
 "cells": [
  {
   "cell_type": "markdown",
   "metadata": {
    "slideshow": {
     "slide_type": "slide"
    }
   },
   "source": [
    "# File Processing\n",
    "\n",
    "A crucial part of many programs is interacting with the file system. This is often called **I/O** (Input/Output). Your program might need to read input data from a file, or write its results to a file for later use.\n",
    "\n",
    "Julia provides a straightforward and powerful set of tools for file I/O. Let's cover the essentials."
   ]
  },
  {
   "cell_type": "markdown",
   "metadata": {
    "slideshow": {
     "slide_type": "subslide"
    }
   },
   "source": [
    "## Reading Text Files\n",
    "\n",
    "Let's assume we have a simple text file named `test_file.txt` in the same directory as this notebook. Reading its contents is a fundamental task.\n",
    "\n",
    "### The `open`/`close` Pattern\n",
    "\n",
    "The basic process for interacting with a file involves three steps:\n",
    "1.  **`open`** the file to get a *stream* object, which is like a connection to the file's content.\n",
    "2.  **Read from** (or write to) the stream.\n",
    "3.  **`close`** the file to release it back to the operating system. **This is a critical step!** Forgetting to close a file can lead to data corruption or resource leaks.\n",
    "\n",
    "Here is the low-level way to read a file line by line:"
   ]
  },
  {
   "cell_type": "code",
   "execution_count": 1,
   "metadata": {
    "slideshow": {
     "slide_type": "subslide"
    }
   },
   "outputs": [
    {
     "name": "stdout",
     "output_type": "stream",
     "text": [
      "Read line: This is a test file\n",
      "Read line: ===================\n",
      "Read line: \n",
      "Read line: This is line #4\n",
      "Read line: Here are some comma-separated numbers:\n",
      "Read line: \n",
      "Read line: 1,2,3,4,5\n",
      "Read line: 5,-4,3e3,2.0,1\n"
     ]
    }
   ],
   "source": [
    "# 1. Open the file for reading.\n",
    "f = open(\"test_file.txt\")\n",
    "\n",
    "# 2. Loop until we reach the end-of-file (eof).\n",
    "while !eof(f)\n",
    "    # Read the next line from the stream.\n",
    "    str = readline(f)\n",
    "    println(\"Read line: \", str)\n",
    "end\n",
    "\n",
    "# 3. CRITICAL: Always close the file when you are done.\n",
    "close(f)"
   ]
  },
  {
   "cell_type": "markdown",
   "metadata": {
    "slideshow": {
     "slide_type": "subslide"
    }
   },
   "source": [
    "### Easier and Safer Methods\n",
    "\n",
    "Because it's easy to forget `close(f)`, Julia provides more convenient and safer ways to work with files that handle closing automatically. You should **always prefer these methods**.\n",
    "\n",
    "The `eachline` function is the most common way to iterate through a file's lines. It takes care of opening and closing the file for you."
   ]
  },
  {
   "cell_type": "code",
   "execution_count": 2,
   "metadata": {
    "slideshow": {
     "slide_type": "fragment"
    }
   },
   "outputs": [
    {
     "name": "stdout",
     "output_type": "stream",
     "text": [
      "Read line: This is a test file\n",
      "Read line: ===================\n",
      "Read line: \n",
      "Read line: This is line #4\n",
      "Read line: Here are some comma-separated numbers:\n",
      "Read line: \n",
      "Read line: 1,2,3,4,5\n",
      "Read line: 5,-4,3e3,2.0,1\n"
     ]
    }
   ],
   "source": [
    "# This loop does the same thing as the code above, but is more concise and safer.\n",
    "for line in eachline(\"test_file.txt\")\n",
    "    println(\"Read line: \", line)\n",
    "end"
   ]
  },
  {
   "cell_type": "markdown",
   "metadata": {
    "slideshow": {
     "slide_type": "subslide"
    }
   },
   "source": [
    "If you need to read the entire file into a single string, use `read`."
   ]
  },
  {
   "cell_type": "code",
   "execution_count": 3,
   "metadata": {
    "slideshow": {
     "slide_type": "fragment"
    }
   },
   "outputs": [
    {
     "data": {
      "text/plain": [
       "\"This is a test file\\n===================\\n\\nThis is line #4\\nHere are some comma-separated numbers:\\n\\n1,2,3,4,5\\n5,-4,3e3,2.0,1\""
      ]
     },
     "execution_count": 3,
     "metadata": {},
     "output_type": "execute_result"
    }
   ],
   "source": [
    "# This \"slurps\" the whole file content, including newline characters, into one variable.\n",
    "# Best for smaller files to avoid using too much memory.\n",
    "full_content = read(\"test_file.txt\", String)"
   ]
  },
  {
   "cell_type": "markdown",
   "metadata": {
    "slideshow": {
     "slide_type": "fragment"
    }
   },
   "source": [
    "Alternatively, you can read the entire file into an array of strings, where each element is one line, using `readlines`."
   ]
  },
  {
   "cell_type": "code",
   "execution_count": 4,
   "metadata": {
    "slideshow": {
     "slide_type": "fragment"
    }
   },
   "outputs": [
    {
     "data": {
      "text/plain": [
       "8-element Vector{String}:\n",
       " \"This is a test file\"\n",
       " \"===================\"\n",
       " \"\"\n",
       " \"This is line #4\"\n",
       " \"Here are some comma-separated numbers:\"\n",
       " \"\"\n",
       " \"1,2,3,4,5\"\n",
       " \"5,-4,3e3,2.0,1\""
      ]
     },
     "execution_count": 4,
     "metadata": {},
     "output_type": "execute_result"
    }
   ],
   "source": [
    "# This also loads the entire file into memory.\n",
    "lines = readlines(\"test_file.txt\")"
   ]
  },
  {
   "cell_type": "markdown",
   "metadata": {
    "slideshow": {
     "slide_type": "subslide"
    }
   },
   "source": [
    "Once you have the lines in an array, you can process them using standard array operations."
   ]
  },
  {
   "cell_type": "code",
   "execution_count": 5,
   "metadata": {
    "slideshow": {
     "slide_type": "fragment"
    }
   },
   "outputs": [
    {
     "name": "stdout",
     "output_type": "stream",
     "text": [
      "Line #2 says: ===================\n",
      "\n",
      "Here are all the lines with 1 to 18 characters:\n",
      "\n",
      "This is line #4\n",
      "1,2,3,4,5\n",
      "5,-4,3e3,2.0,1\n"
     ]
    }
   ],
   "source": [
    "println(\"Line #2 says: \", lines[2])\n",
    "println()\n",
    "println(\"Here are all the lines with 1 to 18 characters:\\n\")\n",
    "for line in lines\n",
    "    if 1 ≤ length(line) ≤ 18\n",
    "        println(line)\n",
    "    end\n",
    "end"
   ]
  },
  {
   "cell_type": "markdown",
   "metadata": {
    "slideshow": {
     "slide_type": "slide"
    }
   },
   "source": [
    "## Writing to Text Files\n",
    "\n",
    "Writing to files follows a similar `open`/`close` pattern. When opening a file for writing, you must specify a mode. The most common are:\n",
    "- `\"w\"`: **write mode**. Creates a new file or **overwrites** an existing file.\n",
    "- `\"a\"`: **append mode**. Adds new content to the end of an existing file."
   ]
  },
  {
   "cell_type": "code",
   "execution_count": 6,
   "metadata": {
    "slideshow": {
     "slide_type": "fragment"
    }
   },
   "outputs": [],
   "source": [
    "# Open a file in write mode (\"w\"). If it exists, it will be erased!\n",
    "f = open(\"created_data.txt\", \"w\")\n",
    "\n",
    "# `write` sends a string to the file stream.\n",
    "write(f, \"Here are some random strings:\\n\")\n",
    "for i in 1:5\n",
    "    str = String(rand('a':'z', 20)) # Create a random string\n",
    "    write(f, str * \"\\n\")\n",
    "end\n",
    "\n",
    "# `print` and `println` also work with file streams.\n",
    "println(f, \"\\nHere are some Fibonacci numbers:\")\n",
    "x, y = 1, 1\n",
    "print(f, \"$x $y\")\n",
    "for i in 1:10\n",
    "    x, y = y, x + y\n",
    "    print(f, \" $y\")\n",
    "end\n",
    "println(f) # Add a final newline\n",
    "\n",
    "# CRITICAL: Always close a file you've written to save the changes.\n",
    "close(f)"
   ]
  },
  {
   "cell_type": "code",
   "execution_count": 7,
   "metadata": {
    "slideshow": {
     "slide_type": "subslide"
    }
   },
   "outputs": [
    {
     "name": "stdout",
     "output_type": "stream",
     "text": [
      "Here are some random strings:\n",
      "xnluhsxogmyjyhvcekmq\n",
      "zjggxsoxqixzsuczrnkg\n",
      "byehkvyyrkbntouthzjf\n",
      "vgsxpukrbapxioymgywm\n",
      "yhjxvfdozcvolpwliwkk\n",
      "\n",
      "Here are some Fibonacci numbers:\n",
      "1 1 2 3 5 8 13 21 34 55 89 144\n"
     ]
    }
   ],
   "source": [
    "# Let's read the file we just created to verify its contents.\n",
    "for line in eachline(\"created_data.txt\")\n",
    "    println(line)\n",
    "end"
   ]
  },
  {
   "cell_type": "markdown",
   "metadata": {
    "slideshow": {
     "slide_type": "slide"
    }
   },
   "source": [
    "## Working with Delimited Files (like CSVs)\n",
    "\n",
    "A very common data format is a **delimited file**, where data is arranged in a grid and columns are separated by a special character (a *delimiter*), such as a comma `,`, a tab `\\t`, or a space `' '`.\n",
    "\n",
    "The standard `DelimitedFiles` package provides two handy functions for this:\n",
    "- `writedlm(filename, A, delim)`: Writes an array `A` to a file, separating elements with `delim`.\n",
    "- `readdlm(filename, delim)`: Reads data with delimiter `delim` from a file into an array."
   ]
  },
  {
   "cell_type": "code",
   "execution_count": 8,
   "metadata": {
    "slideshow": {
     "slide_type": "fragment"
    }
   },
   "outputs": [
    {
     "name": "stdout",
     "output_type": "stream",
     "text": [
      "--- File Content ---\n",
      "-73,15,90\n",
      "-30,100,-89\n",
      "-72,74,-25\n",
      "75,-66,-75\n",
      "34,-25,85\n",
      "-27,33,54\n",
      "-8,-41,-65\n",
      "14,1,79\n",
      "--------------------\n",
      "\n"
     ]
    },
    {
     "data": {
      "text/plain": [
       "true"
      ]
     },
     "execution_count": 8,
     "metadata": {},
     "output_type": "execute_result"
    }
   ],
   "source": [
    "using DelimitedFiles\n",
    "\n",
    "# 1. Create some sample matrix data.\n",
    "A = rand(-100:100, 8, 3)\n",
    "\n",
    "# 2. Write the matrix to a file, using a comma as the delimiter.\n",
    "writedlm(\"created_data.csv\", A, ',')\n",
    "\n",
    "# 3. Let's look at the raw file content.\n",
    "println(\"--- File Content ---\")\n",
    "for line in eachline(\"created_data.csv\")\n",
    "    println(line)\n",
    "end\n",
    "println(\"--------------------\\n\")\n",
    "\n",
    "# 4. Read the data back from the file into a new array.\n",
    "B = readdlm(\"created_data.csv\", ',')\n",
    "\n",
    "# 5. Check if the original and read-back data are identical.\n",
    "isequal(A, B)"
   ]
  },
  {
   "cell_type": "markdown",
   "metadata": {
    "slideshow": {
     "slide_type": "slide"
    }
   },
   "source": [
    "## Example: Coded Triangle Numbers\n",
    "\n",
    "Let's solve Problem 42 from Project Euler, which combines file processing and string manipulation.\n",
    "\n",
    "> The n<sup>th</sup> term of the sequence of triangle numbers is given by, $t_n = n(n+1)/2$; so the first\n",
    "> ten triangle numbers are:\n",
    "> \n",
    ">     1, 3, 6, 10, 15, 21, 28, 36, 45, 55, ...\n",
    ">\n",
    "> By converting each letter in a word to a number corresponding to its alphabetical position and adding\n",
    "> these values we form a word value. For example, the word value for SKY is $19 + 11 + 25 = 55 = t_{10}$. If\n",
    "> the word value is a triangle number then we shall call the word a triangle word.\n",
    ">\n",
    "> Using `p042_words.txt` (right click and 'Save Link/Target As...'), a 16K text file containing nearly\n",
    "> two-thousand common English words, how many are triangle words?\n",
    "\n",
    "First, you'll need to download the [p042_words.txt](https://projecteuler.net/project/resources/p042_words.txt) file and place it in the same directory as this notebook."
   ]
  },
  {
   "cell_type": "code",
   "execution_count": 9,
   "metadata": {
    "slideshow": {
     "slide_type": "subslide"
    }
   },
   "outputs": [
    {
     "data": {
      "text/plain": [
       "55"
      ]
     },
     "execution_count": 9,
     "metadata": {},
     "output_type": "execute_result"
    }
   ],
   "source": [
    "# This function calculates the value of a word.\n",
    "function word_value(word)\n",
    "    # `collect(word)` creates a vector of Chars.\n",
    "    # `.- 'A'` uses broadcasting to subtract the integer value of 'A' from each.\n",
    "    # `.+ 1` converts from a 0-based index (A=0) to a 1-based index (A=1).\n",
    "    # `sum` adds them all up.\n",
    "    return sum(collect(word) .- 'A' .+ 1)\n",
    "end\n",
    "\n",
    "word_value(\"SKY\")"
   ]
  },
  {
   "cell_type": "code",
   "execution_count": 10,
   "metadata": {
    "slideshow": {
     "slide_type": "fragment"
    }
   },
   "outputs": [
    {
     "name": "stdout",
     "output_type": "stream",
     "text": [
      "There are 162 triangle words in the list.\n"
     ]
    }
   ],
   "source": [
    "# 1. Generate a list of triangle numbers to check against.\n",
    "trinums = Set([n*(n+1)÷2 for n in 1:50]) # A Set provides fast lookups.\n",
    "\n",
    "# 2. Read the comma-delimited file of words into an array.\n",
    "words = readdlm(\"p042_words.txt\", ',', String)\n",
    "\n",
    "# 3. Use a comprehension to check each word, then count the `true` results.\n",
    "is_triangle_word = [word_value(word) ∈ trinums for word in words]\n",
    "num_triangle_words = count(is_triangle_word)\n",
    "\n",
    "println(\"There are $num_triangle_words triangle words in the list.\")"
   ]
  },
  {
   "cell_type": "markdown",
   "metadata": {},
   "source": [
    "## Advanced Parsing with Regular Expressions (Regex)\n",
    "\n",
    "Sometimes data in files isn't neatly delimited. For complex or irregular text patterns, you need a more powerful tool: **Regular Expressions**, or **Regex**.\n",
    "\n",
    "Think of a regex as a mini-language for creating sophisticated search patterns. The syntax is used across nearly all programming languages, so it's a valuable skill to learn. A great interactive tutorial can be found at [RegexOne](https://regexone.com/).\n",
    "\n",
    "In Julia, you create a regex using the `r\"...\"` string macro. The `match` function then searches for the first occurrence of that pattern in a string."
   ]
  },
  {
   "cell_type": "code",
   "execution_count": 11,
   "metadata": {},
   "outputs": [
    {
     "data": {
      "text/plain": [
       "8-element Vector{Vector{Int64}}:\n",
       " [-73, 15, 90]\n",
       " [-30, 100, -89]\n",
       " [-72, 74, -25]\n",
       " [75, -66, -75]\n",
       " [34, -25, 85]\n",
       " [-27, 33, 54]\n",
       " [-8, -41, -65]\n",
       " [14, 1, 79]"
      ]
     },
     "execution_count": 11,
     "metadata": {},
     "output_type": "execute_result"
    }
   ],
   "source": [
    "# This function parses a file where each line has three comma-separated integers.\n",
    "function interpret_3digit_file(filename)\n",
    "    # Store the results in a vector of vectors\n",
    "    array = Vector{Int64}[]\n",
    "    \n",
    "    for line in eachline(filename)\n",
    "        # Define the regex pattern.\n",
    "        # `(-?\\d+)` is a capture group:\n",
    "        #   - `-?` matches an optional minus sign.\n",
    "        #   - `\\d+` matches one or more digits.\n",
    "        pattern = r\"(-?\\d+),(-?\\d+),(-?\\d+)\"\n",
    "        \n",
    "        # Find the first match in the current line.\n",
    "        m = match(pattern, line)\n",
    "        \n",
    "        # If a match was found, parse the captured strings into integers.\n",
    "        if m !== nothing\n",
    "            push!(array, parse.(Int, m.captures))\n",
    "        end\n",
    "    end\n",
    "    return array\n",
    "end\n",
    "\n",
    "# We can run this on the CSV file we created earlier.\n",
    "interpret_3digit_file(\"created_data.csv\")"
   ]
  },
  {
   "cell_type": "markdown",
   "metadata": {},
   "source": [
    "The `eachmatch` function is similar to `match`, but it returns an iterator that finds *all* non-overlapping matches in a string, not just the first one."
   ]
  },
  {
   "cell_type": "code",
   "execution_count": 12,
   "metadata": {},
   "outputs": [
    {
     "data": {
      "text/plain": [
       "5-element Vector{Vector{String}}:\n",
       " [\"This\", \"is\", \"a\", \"test\", \"file\"]\n",
       " [\"This\", \"is\", \"line\", \"4\"]\n",
       " [\"Here\", \"are\", \"some\", \"comma\", \"separated\", \"numbers\"]\n",
       " [\"1\", \"2\", \"3\", \"4\", \"5\"]\n",
       " [\"5\", \"4\", \"3e3\", \"2\", \"0\", \"1\"]"
      ]
     },
     "execution_count": 12,
     "metadata": {},
     "output_type": "execute_result"
    }
   ],
   "source": [
    "# This function parses a file, extracting all words from each line.\n",
    "function interpret_words_file(filename)\n",
    "    sentences = Vector{String}[]\n",
    "    \n",
    "    for line in eachline(filename)\n",
    "        # Define the regex pattern.\n",
    "        # `(\\w+)` is a capture group that matches one or more \"word\" characters\n",
    "        # (letters, numbers, and underscore).\n",
    "        pattern = r\"(\\w+)\"\n",
    "        \n",
    "        # Find all matches in the line.\n",
    "        matches_iterator = eachmatch(pattern, line)\n",
    "        \n",
    "        # Use a comprehension to extract the matched string from each match object.\n",
    "        sentence = [m.match for m in matches_iterator]\n",
    "        \n",
    "        # Add the array of words to our list of sentences.\n",
    "        if !isempty(sentence)\n",
    "            push!(sentences, sentence)\n",
    "        end\n",
    "    end\n",
    "    return sentences\n",
    "end\n",
    "\n",
    "interpret_words_file(\"test_file.txt\")"
   ]
  }
 ],
 "metadata": {
  "kernelspec": {
   "display_name": "Julia 1.11.5",
   "language": "julia",
   "name": "julia-1.11"
  },
  "language_info": {
   "file_extension": ".jl",
   "mimetype": "application/julia",
   "name": "julia",
   "version": "1.11.5"
  }
 },
 "nbformat": 4,
 "nbformat_minor": 4
}
