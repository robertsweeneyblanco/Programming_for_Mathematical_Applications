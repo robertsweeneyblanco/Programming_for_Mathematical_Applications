{
 "cells": [
  {
   "cell_type": "markdown",
   "metadata": {
    "slideshow": {
     "slide_type": "slide"
    }
   },
   "source": [
    "# Logical Indexing"
   ]
  },
  {
   "cell_type": "markdown",
   "metadata": {
    "slideshow": {
     "slide_type": "subslide"
    }
   },
   "source": [
    "## Boolean Masks\n",
    "\n",
    "We've seen how to index an array with integers or ranges, like `x[3]` or `x[2:5]`. **Logical indexing** (also called boolean indexing) offers a different, often more intuitive, way to select elements. Instead of specifying *which indices* you want, you specify a *condition* that elements must satisfy.\n",
    "\n",
    "The syntax is `x[mask]`, where `mask` is an array of booleans (`true` or `false`) with the same length as `x`. The operation returns a new array containing only the elements of `x` where the corresponding value in `mask` is `true`.\n",
    "\n",
    "This is equivalent to `x[findall(mask)]`, but it's more direct, readable, and generally more performant."
   ]
  },
  {
   "cell_type": "code",
   "execution_count": 1,
   "metadata": {
    "slideshow": {
     "slide_type": "fragment"
    }
   },
   "outputs": [
    {
     "data": {
      "text/plain": [
       "11-element Vector{Int64}:\n",
       " -11\n",
       " -10\n",
       "  -6\n",
       "  -5\n",
       "  -4\n",
       "   1\n",
       "   2\n",
       "   3\n",
       "   7\n",
       "   8\n",
       "   9"
      ]
     },
     "execution_count": 1,
     "metadata": {},
     "output_type": "execute_result"
    }
   ],
   "source": [
    "# Let's find the integers x where sin(x) is positive.\n",
    "x = -11:11\n",
    "y = sin.(x)\n",
    "\n",
    "# 1. Create a boolean mask: `y .> 0` will be an array of true/false values.\n",
    "is_positive = y .> 0\n",
    "\n",
    "# 2. Use the mask to select elements from the original array `x`.\n",
    "x_where_sin_is_positive = x[is_positive]\n"
   ]
  },
  {
   "cell_type": "markdown",
   "metadata": {},
   "source": [
    "This technique is especially powerful for multi-dimensional arrays, allowing you to select entire rows or columns based on a condition."
   ]
  },
  {
   "cell_type": "code",
   "execution_count": 2,
   "metadata": {
    "slideshow": {
     "slide_type": "subslide"
    }
   },
   "outputs": [
    {
     "data": {
      "text/plain": [
       "3×10 Matrix{Int64}:\n",
       " -4  -6   7   8  -1  -4   5  -4   9   3\n",
       " 10   0  -6  -8   2  -6  -8   7  -5  -9\n",
       " -5   7   1   5  -5   5  -3  10  -6  -9"
      ]
     },
     "execution_count": 2,
     "metadata": {},
     "output_type": "execute_result"
    }
   ],
   "source": [
    "# Example: Select columns of a matrix whose sum is non-negative.\n",
    "A = rand(-10:10, 3, 10)"
   ]
  },
  {
   "cell_type": "code",
   "execution_count": 3,
   "metadata": {
    "slideshow": {
     "slide_type": "fragment"
    }
   },
   "outputs": [
    {
     "data": {
      "text/plain": [
       "1×10 BitMatrix:\n",
       " 1  1  1  1  0  0  0  1  0  0"
      ]
     },
     "execution_count": 3,
     "metadata": {},
     "output_type": "execute_result"
    }
   ],
   "source": [
    "# 1. Calculate the sum of each column and check if it's >= 0.\n",
    "# This creates a 1x10 boolean matrix (a \"row mask\").\n",
    "column_mask = sum(A, dims=1) .≥ 0"
   ]
  },
  {
   "cell_type": "code",
   "execution_count": 4,
   "metadata": {
    "slideshow": {
     "slide_type": "fragment"
    }
   },
   "outputs": [
    {
     "data": {
      "text/plain": [
       "3×5 Matrix{Int64}:\n",
       " -4  -6   7   8  -4\n",
       " 10   0  -6  -8   7\n",
       " -5   7   1   5  10"
      ]
     },
     "execution_count": 4,
     "metadata": {},
     "output_type": "execute_result"
    }
   ],
   "source": [
    "# 2. Use the mask to select columns.\n",
    "# We use `:` to select all rows.\n",
    "# We use `column_mask[:]` to flatten the 1x10 mask into a 1D vector,\n",
    "# which is what Julia expects for indexing a single dimension.\n",
    "B = A[:, column_mask[:]]"
   ]
  },
  {
   "cell_type": "markdown",
   "metadata": {
    "slideshow": {
     "slide_type": "slide"
    }
   },
   "source": [
    "## Refactoring Previous Code: The Sieve of Eratosthenes\n",
    "\n",
    "Vectorized tools like logical indexing allow us to simplify code we've written previously. In our Sieve function, we used a `for` loop to collect the prime numbers from our boolean array:\n",
    "\n",
    "**Before (with a `for` loop):**\n",
    "```julia\n",
    "primes = Int64[]\n",
    "for i = 2:n\n",
    "    if is_prime[i]\n",
    "        push!(primes, i)\n",
    "    end\n",
    "end\n",
    "```\n",
    "This is perfectly fine, but we can now express the same idea more concisely.\n",
    "\n",
    "**After (with array comprehensions):**\n",
    "Using array comprehensions, we can replace the entire part of the code by a single line:\n",
    "```julia\n",
    "primes = [ i for i = 2:n if prime[i] ]\n",
    "```\n",
    "\n",
    "**After (with `findall`):**\n",
    "Alternatively, since the prime numbers are just the *indices* of the `true` values in our `is_prime` array, we can use `findall` for another direct, one-line solution:\n",
    "```julia\n",
    "primes = findall(is_prime)\n",
    "```"
   ]
  },
  {
   "cell_type": "markdown",
   "metadata": {
    "slideshow": {
     "slide_type": "slide"
    }
   },
   "source": [
    "## Refactoring Previous Code: Monte Carlo PI Calculation\n",
    "\n",
    "Similarly, our dart-throwing simulation for $\\pi$ used a loop to count the number of \"hits\" inside the unit circle.\n",
    "\n",
    "**Before (with a `for` loop):**\n",
    "```julia\n",
    "hits = 0\n",
    "for i = 1:n\n",
    "    if x[i]^2 + y[i]^2 ≤ 1\n",
    "        hits += 1\n",
    "    end\n",
    "end\n",
    "```\n",
    "\n",
    "**After (with `count`):**\n",
    "The `count` function is tailor-made for this. We can generate a boolean mask on the fly and count how many `true` values it contains.\n",
    "```julia\n",
    "hits = count(@. x^2 + y^2 ≤ 1) \n",
    "```"
   ]
  },
  {
   "cell_type": "markdown",
   "metadata": {
    "slideshow": {
     "slide_type": "slide"
    }
   },
   "source": [
    "## Refactoring Previous Code: Checking for a Flush\n",
    "\n",
    "Our poker simulation used a loop with a flag variable and a `break` statement to check if all cards in a hand had the same suit.\n",
    "\n",
    "**Before (with a `for` loop and a flag):**\n",
    "```julia\n",
    "same_suit = true\n",
    "for i = 2:5\n",
    "    if suits[i] ≠ suits[1]\n",
    "        same_suit = false\n",
    "        break\n",
    "    end\n",
    "end\n",
    "```\n",
    "\n",
    "**After (with `all`):**\n",
    "This entire pattern can be replaced with the `all` function, which checks if every element in a boolean array is `true`. This version is not just shorter—it more clearly states the code's intent.\n",
    "```julia\n",
    "same_suit = all(suits .== suits[1])\n",
    "```"
   ]
  }
 ],
 "metadata": {
  "kernelspec": {
   "display_name": "Julia 1.11.5",
   "language": "julia",
   "name": "julia-1.11"
  },
  "language_info": {
   "file_extension": ".jl",
   "mimetype": "application/julia",
   "name": "julia",
   "version": "1.11.5"
  }
 },
 "nbformat": 4,
 "nbformat_minor": 4
}