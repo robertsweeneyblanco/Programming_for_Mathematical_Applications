{
 "cells": [
  {
   "cell_type": "markdown",
   "metadata": {
    "slideshow": {
     "slide_type": "slide"
    }
   },
   "source": [
    "# Multi-dimensional Arrays\n",
    "\n",
    "So far, we've only seen one-dimensional arrays, or vectors. But arrays can have multiple dimensions. A 2D array is a natural way to represent a **matrix**.\n",
    "\n",
    "To create a matrix manually, you can use a syntax similar to vectors. Use **spaces** to separate elements within a row (columns) and **semicolons** to separate the rows themselves."
   ]
  },
  {
   "cell_type": "code",
   "execution_count": 1,
   "metadata": {
    "slideshow": {
     "slide_type": "fragment"
    }
   },
   "outputs": [
    {
     "data": {
      "text/plain": [
       "2×3 Matrix{Int64}:\n",
       "  1   2   3\n",
       " -4  -5  -6"
      ]
     },
     "execution_count": 1,
     "metadata": {},
     "output_type": "execute_result"
    }
   ],
   "source": [
    "# Create a 2x3 matrix. Spaces separate columns, and a semicolon starts a new row.\n",
    "A = [1 2 3; -4 -5 -6]"
   ]
  },
  {
   "cell_type": "code",
   "execution_count": 2,
   "metadata": {},
   "outputs": [
    {
     "data": {
      "text/plain": [
       "Matrix{Int64}\u001b[90m (alias for \u001b[39m\u001b[90mArray{Int64, 2}\u001b[39m\u001b[90m)\u001b[39m"
      ]
     },
     "execution_count": 2,
     "metadata": {},
     "output_type": "execute_result"
    }
   ],
   "source": [
    "# Let's check the type of our new variable A.\n",
    "typeof(A)"
   ]
  },
  {
   "cell_type": "markdown",
   "metadata": {
    "slideshow": {
     "slide_type": "fragment"
    }
   },
   "source": [
    "Notice the type: `Matrix{Int64}`. This is just an alias for `Array{Int64, 2}`, which tells us it's a 2-dimensional array of 64-bit integers.\n",
    "\n",
    "To access elements in a multi-dimensional array, you provide each index separated by a comma, typically as `[row, column]`."
   ]
  },
  {
   "cell_type": "code",
   "execution_count": 3,
   "metadata": {
    "slideshow": {
     "slide_type": "fragment"
    }
   },
   "outputs": [
    {
     "data": {
      "text/plain": [
       "-6"
      ]
     },
     "execution_count": 3,
     "metadata": {},
     "output_type": "execute_result"
    }
   ],
   "source": [
    "# Access the element in the 2nd row, 3rd column.\n",
    "A[2, 3]"
   ]
  },
  {
   "cell_type": "markdown",
   "metadata": {
    "slideshow": {
     "slide_type": "slide"
    }
   },
   "source": [
    "## Querying Array Dimensions\n",
    "\n",
    "You can inspect the dimensions of multi-dimensional arrays using familiar functions. For instance, `length` returns the *total* number of elements in the array (i.e., rows × columns for a matrix)."
   ]
  },
  {
   "cell_type": "code",
   "execution_count": 4,
   "metadata": {
    "slideshow": {
     "slide_type": "fragment"
    }
   },
   "outputs": [
    {
     "data": {
      "text/plain": [
       "6"
      ]
     },
     "execution_count": 4,
     "metadata": {},
     "output_type": "execute_result"
    }
   ],
   "source": [
    "# Get the total number of elements in the matrix (2 * 3 = 6).\n",
    "length(A)"
   ]
  },
  {
   "cell_type": "markdown",
   "metadata": {
    "slideshow": {
     "slide_type": "fragment"
    }
   },
   "source": [
    "The `size` function is more specific. You can use it to get the size of the array along a particular dimension."
   ]
  },
  {
   "cell_type": "code",
   "execution_count": 5,
   "metadata": {
    "slideshow": {
     "slide_type": "fragment"
    }
   },
   "outputs": [
    {
     "data": {
      "text/plain": [
       "2"
      ]
     },
     "execution_count": 5,
     "metadata": {},
     "output_type": "execute_result"
    }
   ],
   "source": [
    "# Get the size of the first dimension (number of rows).\n",
    "size(A, 1)"
   ]
  },
  {
   "cell_type": "code",
   "execution_count": 6,
   "metadata": {
    "slideshow": {
     "slide_type": "fragment"
    }
   },
   "outputs": [
    {
     "data": {
      "text/plain": [
       "3"
      ]
     },
     "execution_count": 6,
     "metadata": {},
     "output_type": "execute_result"
    }
   ],
   "source": [
    "# Get the size of the second dimension (number of columns).\n",
    "size(A, 2)"
   ]
  },
  {
   "cell_type": "markdown",
   "metadata": {
    "slideshow": {
     "slide_type": "subslide"
    }
   },
   "source": [
    "## Iterating Over Matrices\n",
    "\n",
    "We can use the `size` function to construct loops that traverse every element in a matrix. A common pattern for this is a **nested for-loop**."
   ]
  },
  {
   "cell_type": "code",
   "execution_count": 7,
   "metadata": {
    "slideshow": {
     "slide_type": "fragment"
    }
   },
   "outputs": [
    {
     "name": "stdout",
     "output_type": "stream",
     "text": [
      "Sum of the elements in A = -9\n"
     ]
    }
   ],
   "source": [
    "sumA = 0\n",
    "\n",
    "for i = 1:size(A, 1)\n",
    "    for j = 1:size(A, 2)\n",
    "        sumA += A[i, j]\n",
    "    end\n",
    "end\n",
    "\n",
    "println(\"Sum of the elements in A = \", sumA)"
   ]
  },
  {
   "cell_type": "markdown",
   "metadata": {
    "slideshow": {
     "slide_type": "fragment"
    }
   },
   "source": [
    "For each iteration of the **outer loop** (controlled by `i`), the **inner loop** (controlled by `j`) completes its entire cycle. For our 2x3 matrix `A`, the loop produces index pairs `(i, j)` in the following order:\n",
    "\n",
    "`(1,1)`, `(1,2)`, `(1,3)`, then `(2,1)`, `(2,2)`, `(2,3)`."
   ]
  },
  {
   "cell_type": "markdown",
   "metadata": {
    "slideshow": {
     "slide_type": "subslide"
    }
   },
   "source": [
    "### Compact Nested Loops\n",
    "\n",
    "Julia provides a more compact syntax for nested for-loops by placing the loop variables on the same line, separated by a comma. This is functionally identical to the code above."
   ]
  },
  {
   "cell_type": "code",
   "execution_count": 8,
   "metadata": {
    "slideshow": {
     "slide_type": "fragment"
    }
   },
   "outputs": [
    {
     "name": "stdout",
     "output_type": "stream",
     "text": [
      "Sum of the elements in A = -9\n"
     ]
    }
   ],
   "source": [
    "sumA = 0\n",
    "\n",
    "# This compact syntax is equivalent to the nested loop above.\n",
    "for i = 1:size(A, 1), j = 1:size(A, 2)\n",
    "    sumA += A[i, j]\n",
    "end\n",
    "\n",
    "println(\"Sum of the elements in A = \", sumA)"
   ]
  },
  {
   "cell_type": "markdown",
   "metadata": {
    "slideshow": {
     "slide_type": "subslide"
    }
   },
   "source": [
    "### Iterating Over Elements Directly\n",
    "\n",
    "If you don't need the indices `i` and `j` and just want to access each element, you can use the simpler `in` syntax, just like with 1D arrays."
   ]
  },
  {
   "cell_type": "code",
   "execution_count": 9,
   "metadata": {
    "slideshow": {
     "slide_type": "fragment"
    }
   },
   "outputs": [
    {
     "name": "stdout",
     "output_type": "stream",
     "text": [
      "Sum of the squares of the elements in A = 91"
     ]
    }
   ],
   "source": [
    "sumAsquared = 0\n",
    "\n",
    "# Here, 'a' will take on the value of each element in A, one by one.\n",
    "for a in A\n",
    "    sumAsquared += a^2\n",
    "end\n",
    "\n",
    "print(\"Sum of the squares of the elements in A = \", sumAsquared)"
   ]
  },
  {
   "cell_type": "markdown",
   "metadata": {
    "slideshow": {
     "slide_type": "slide"
    }
   },
   "source": [
    "## Creating Multi-dimensional Arrays\n",
    "\n",
    "The built-in functions for creating arrays can be extended to any number of dimensions by providing a tuple of the desired dimensions instead of a single length. 📏\n",
    "\n",
    "| Function | Description |\n",
    "|:---|:---|\n",
    "| `zeros(T, dims)` | An array of size `dims` filled with zeros of type `T`. |\n",
    "| `ones(T, dims)` | An array of size `dims` filled with ones of type `T`. |\n",
    "| `trues(dims)` | A boolean array of size `dims` with all values `true`. |\n",
    "| `falses(dims)` | A boolean array of size `dims` with all values `false`. |\n",
    "| `fill(value, dims)` | An array of size `dims` filled with the specified `value`. |\n",
    "\n",
    "Here, `dims` is a tuple of integers specifying the size of each dimension, like `(rows, columns)`. For `zeros` and `ones`, the type `T` is optional and defaults to `Float64`."
   ]
  },
  {
   "cell_type": "code",
   "execution_count": 10,
   "metadata": {
    "slideshow": {
     "slide_type": "fragment"
    }
   },
   "outputs": [
    {
     "data": {
      "text/plain": [
       "5×3 Matrix{Float64}:\n",
       " 1.0  1.0  1.0\n",
       " 1.0  1.0  1.0\n",
       " 1.0  1.0  1.0\n",
       " 1.0  1.0  1.0\n",
       " 1.0  1.0  1.0"
      ]
     },
     "execution_count": 10,
     "metadata": {},
     "output_type": "execute_result"
    }
   ],
   "source": [
    "# Create a 5x3 matrix of Float64s, initialized to 1.0. \n",
    "# Note: If the type is omitted, it defaults to Float64.\n",
    "C = ones(5, 3)"
   ]
  },
  {
   "cell_type": "markdown",
   "metadata": {
    "slideshow": {
     "slide_type": "subslide"
    }
   },
   "source": [
    "### Vectors vs. Matrices: An Important Distinction\n",
    "\n",
    "It's crucial to understand that Julia distinguishes between a 1D array (`Vector`) and a 2D array (`Matrix`) that happens to have only one column or one row. This is different from other languages like MATLAB, which treats all arrays as 2D.\n"
   ]
  },
  {
   "cell_type": "code",
   "execution_count": 11,
   "metadata": {
    "slideshow": {
     "slide_type": "fragment"
    }
   },
   "outputs": [
    {
     "data": {
      "text/plain": [
       "5-element Vector{Float64}:\n",
       " 1.0\n",
       " 1.0\n",
       " 1.0\n",
       " 1.0\n",
       " 1.0"
      ]
     },
     "execution_count": 11,
     "metadata": {},
     "output_type": "execute_result"
    }
   ],
   "source": [
    "# A 5-element, 1-dimensional array (a true Vector).\n",
    "ones(5)"
   ]
  },
  {
   "cell_type": "code",
   "execution_count": 12,
   "metadata": {
    "slideshow": {
     "slide_type": "subslide"
    }
   },
   "outputs": [
    {
     "data": {
      "text/plain": [
       "5×1 Matrix{Float64}:\n",
       " 1.0\n",
       " 1.0\n",
       " 1.0\n",
       " 1.0\n",
       " 1.0"
      ]
     },
     "execution_count": 12,
     "metadata": {},
     "output_type": "execute_result"
    }
   ],
   "source": [
    "# A 5x1, 2-dimensional array (a Matrix), also known as a column vector.\n",
    "ones(5, 1)"
   ]
  },
  {
   "cell_type": "code",
   "execution_count": 13,
   "metadata": {
    "slideshow": {
     "slide_type": "fragment"
    }
   },
   "outputs": [
    {
     "data": {
      "text/plain": [
       "1×5 Matrix{Float64}:\n",
       " 1.0  1.0  1.0  1.0  1.0"
      ]
     },
     "execution_count": 13,
     "metadata": {},
     "output_type": "execute_result"
    }
   ],
   "source": [
    "# A 1x5, 2-dimensional array (a Matrix), also known as a row vector.\n",
    "ones(1, 5)"
   ]
  },
  {
   "cell_type": "markdown",
   "metadata": {
    "slideshow": {
     "slide_type": "subslide"
    }
   },
   "source": [
    "## Concatenating Arrays\n",
    "\n",
    "You can build new matrices by concatenating or \"stacking\" existing arrays. The square bracket syntax `[]` is used for this, just as with creation.\n",
    "\n",
    "- **Semicolons (`;`)** stack arrays **vertically**.\n",
    "- **Spaces** concatenate arrays **horizontally**."
   ]
  },
  {
   "cell_type": "code",
   "execution_count": 14,
   "metadata": {
    "slideshow": {
     "slide_type": "fragment"
    }
   },
   "outputs": [
    {
     "data": {
      "text/plain": [
       "3×5 Matrix{Float64}:\n",
       "  1.0   2.0   3.0  1.0  1.0\n",
       " -4.0  -5.0  -6.0  1.0  1.0\n",
       "  0.0   0.0   0.0  0.0  0.0"
      ]
     },
     "execution_count": 14,
     "metadata": {},
     "output_type": "execute_result"
    }
   ],
   "source": [
    "# Vertical concatenation: Arrays must have the same number of columns.\n",
    "D = [A; ones(1, 3)]\n",
    "\n",
    "# Horizontal concatenation: Arrays must have the same number of rows.\n",
    "E = [zeros(2) A]\n",
    "\n",
    "# General concatenation: Dimensions of blocks must be consistent.\n",
    "F = [A ones(2, 2); zeros(1, 5)]"
   ]
  },
  {
   "cell_type": "markdown",
   "metadata": {
    "slideshow": {
     "slide_type": "subslide"
    }
   },
   "source": [
    "When you include ranges in horizontal concatenation, Julia automatically expands them into column vectors."
   ]
  },
  {
   "cell_type": "code",
   "execution_count": 15,
   "metadata": {
    "slideshow": {
     "slide_type": "fragment"
    }
   },
   "outputs": [
    {
     "data": {
      "text/plain": [
       "5×3 Matrix{Int64}:\n",
       " 1  1  101\n",
       " 2  1  102\n",
       " 3  1  103\n",
       " 4  1  104\n",
       " 5  1  105"
      ]
     },
     "execution_count": 15,
     "metadata": {},
     "output_type": "execute_result"
    }
   ],
   "source": [
    "# The ranges 1:5 and 101:105 are each treated as a 5x1 column vector here.\n",
    "G = [1:5 ones(Int64, 5) 101:105]"
   ]
  },
  {
   "cell_type": "markdown",
   "metadata": {
    "slideshow": {
     "slide_type": "slide"
    }
   },
   "source": [
    "## Element-wise Operations and Slicing\n",
    "\n",
    "The dot-syntax for element-wise operations and the colon (`:`) for slicing work just as powerfully on multi-dimensional arrays."
   ]
  },
  {
   "cell_type": "code",
   "execution_count": 16,
   "metadata": {
    "slideshow": {
     "slide_type": "fragment"
    }
   },
   "outputs": [
    {
     "data": {
      "text/plain": [
       "2×3 Matrix{Int64}:\n",
       " -2  -2   0\n",
       " 28  40  54"
      ]
     },
     "execution_count": 16,
     "metadata": {},
     "output_type": "execute_result"
    }
   ],
   "source": [
    "# The dot-syntax applies operations element-by-element.\n",
    "B = A.^2 .- 3A"
   ]
  },
  {
   "cell_type": "code",
   "execution_count": 17,
   "metadata": {
    "slideshow": {
     "slide_type": "fragment"
    }
   },
   "outputs": [
    {
     "data": {
      "text/plain": [
       "2×3 Matrix{Int64}:\n",
       " -2  -2   0\n",
       " 28  40  54"
      ]
     },
     "execution_count": 17,
     "metadata": {},
     "output_type": "execute_result"
    }
   ],
   "source": [
    "# The @. macro is a convenient shortcut to apply the dot to every operation in an expression.\n",
    "B = @. A^2 - 3A"
   ]
  },
  {
   "cell_type": "markdown",
   "metadata": {
    "slideshow": {
     "slide_type": "subslide"
    }
   },
   "source": [
    "### Slicing Matrices\n",
    "\n",
    "Slicing works as before, but now you can specify ranges for each dimension to extract sub-matrices, rows, or columns."
   ]
  },
  {
   "cell_type": "code",
   "execution_count": 18,
   "metadata": {
    "slideshow": {
     "slide_type": "fragment"
    }
   },
   "outputs": [
    {
     "data": {
      "text/plain": [
       "3-element Vector{Int64}:\n",
       " 1\n",
       " 2\n",
       " 3"
      ]
     },
     "execution_count": 18,
     "metadata": {},
     "output_type": "execute_result"
    }
   ],
   "source": [
    "# Select all columns (:) from the first row. The result is a 1D Vector.\n",
    "A[1, :]"
   ]
  },
  {
   "cell_type": "code",
   "execution_count": 19,
   "metadata": {
    "slideshow": {
     "slide_type": "fragment"
    }
   },
   "outputs": [
    {
     "data": {
      "text/plain": [
       "2-element Vector{Int64}:\n",
       "  1\n",
       " -4"
      ]
     },
     "execution_count": 19,
     "metadata": {},
     "output_type": "execute_result"
    }
   ],
   "source": [
    "# Select all rows (:) from the first column.\n",
    "A[:, 1]"
   ]
  },
  {
   "cell_type": "code",
   "execution_count": 20,
   "metadata": {
    "slideshow": {
     "slide_type": "fragment"
    }
   },
   "outputs": [
    {
     "data": {
      "text/plain": [
       "2×2 Matrix{Int64}:\n",
       "  2   3\n",
       " -5  -6"
      ]
     },
     "execution_count": 20,
     "metadata": {},
     "output_type": "execute_result"
    }
   ],
   "source": [
    "# Select all rows from columns 2 through 3. The result is a new 2x2 Matrix.\n",
    "A[:, 2:3]"
   ]
  },
  {
   "cell_type": "markdown",
   "metadata": {
    "slideshow": {
     "slide_type": "subslide"
    }
   },
   "source": [
    "### Modifying with Slices\n",
    "\n",
    "You can also use slicing on the left side of an assignment to modify parts of an array in-place."
   ]
  },
  {
   "cell_type": "code",
   "execution_count": 21,
   "metadata": {
    "slideshow": {
     "slide_type": "fragment"
    }
   },
   "outputs": [
    {
     "data": {
      "text/plain": [
       "2×3 Matrix{Int64}:\n",
       " 0   2  0\n",
       " 0  -5  0"
      ]
     },
     "execution_count": 21,
     "metadata": {},
     "output_type": "execute_result"
    }
   ],
   "source": [
    "# The . in `.=` is important! It broadcasts the assignment, setting every element \n",
    "# in the selected columns (1 and 3) to 0.\n",
    "A[:, [1, 3]] .= 0\n",
    "A"
   ]
  },
  {
   "cell_type": "code",
   "execution_count": 22,
   "metadata": {
    "slideshow": {
     "slide_type": "fragment"
    }
   },
   "outputs": [
    {
     "data": {
      "text/plain": [
       "2×3 Matrix{Int64}:\n",
       " 0  0    4\n",
       " 0  0  -10"
      ]
     },
     "execution_count": 22,
     "metadata": {},
     "output_type": "execute_result"
    }
   ],
   "source": [
    "# Assign a new matrix slice to another. The dimensions on both sides must match.\n",
    "# Here, we set columns 2 & 3 to be twice the values of columns 1 & 2.\n",
    "A[:, 2:3] = 2 * A[:, 1:2]\n",
    "A"
   ]
  }
 ],
 "metadata": {
  "kernelspec": {
   "display_name": "Julia 1.11.5",
   "language": "julia",
   "name": "julia-1.11"
  },
  "language_info": {
   "file_extension": ".jl",
   "mimetype": "application/julia",
   "name": "julia",
   "version": "1.11.5"
  }
 },
 "nbformat": 4,
 "nbformat_minor": 4
}