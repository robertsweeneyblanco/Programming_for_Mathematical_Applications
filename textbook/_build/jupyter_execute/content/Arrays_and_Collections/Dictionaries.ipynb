{
 "cells": [
  {
   "cell_type": "markdown",
   "metadata": {},
   "source": [
    "# Dictionaries\n",
    "\n",
    "The last collection type we will cover is the **dictionary**. While an array is an ordered list of values indexed by integers, a dictionary stores an **unordered** collection of **key-value pairs**. \n",
    "\n",
    "Think of it like a real-world dictionary: you look up a word (the **key**) to find its definition (the **value**). This allows you to store and retrieve data using meaningful keys instead of integer positions, which is incredibly useful for organizing complex data."
   ]
  },
  {
   "cell_type": "markdown",
   "metadata": {},
   "source": [
    "## Creating a Dictionary\n",
    "\n",
    "You can create a dictionary using the `Dict()` constructor. Inside, you provide a comma-separated list of `key => value` pairs.\n",
    "\n",
    "If you know your dictionary will need to hold values of different types (like integers and floats), you can specify a more general value type at creation. Here, we'll specify that the values will all be of type `Number`, which allows for both `Int64` and `Float64`."
   ]
  },
  {
   "cell_type": "code",
   "execution_count": 1,
   "metadata": {},
   "outputs": [
    {
     "data": {
      "text/plain": [
       "Dict{String, Number} with 3 entries:\n",
       "  \"Hydrogen\" => 1\n",
       "  \"Helium\"   => 2\n",
       "  \"Lithium\"  => 3"
      ]
     },
     "execution_count": 1,
     "metadata": {},
     "output_type": "execute_result"
    }
   ],
   "source": [
    "# Let's map chemical elements (keys) to their atomic numbers (values).\n",
    "# We specify the types `String` for keys and `Number` for values.\n",
    "atomic_info = Dict{String, Number}(\"Hydrogen\" => 1, \"Helium\" => 2, \"Lithium\" => 3)"
   ]
  },
  {
   "cell_type": "markdown",
   "metadata": {},
   "source": [
    "The output `Dict{String, Number}` tells us that this dictionary maps `String` keys to values of any numeric type."
   ]
  },
  {
   "cell_type": "markdown",
   "metadata": {},
   "source": [
    "## Accessing, Adding, and Modifying Entries\n",
    "\n",
    "Working with dictionary entries is similar to indexing an array, but you use the key instead of an integer index."
   ]
  },
  {
   "cell_type": "code",
   "execution_count": 2,
   "metadata": {},
   "outputs": [
    {
     "data": {
      "text/plain": [
       "2"
      ]
     },
     "execution_count": 2,
     "metadata": {},
     "output_type": "execute_result"
    }
   ],
   "source": [
    "# Access the value associated with the key \"Helium\".\n",
    "atomic_info[\"Helium\"]"
   ]
  },
  {
   "cell_type": "markdown",
   "metadata": {},
   "source": [
    "Because we created the dictionary to hold any `Number`, we can now change the value for Hydrogen from an integer (its atomic number) to a float (its atomic mass) without causing an error."
   ]
  },
  {
   "cell_type": "code",
   "execution_count": 3,
   "metadata": {},
   "outputs": [
    {
     "data": {
      "text/plain": [
       "Dict{String, Number} with 4 entries:\n",
       "  \"Hydrogen\"  => 1.008\n",
       "  \"Beryllium\" => 4\n",
       "  \"Helium\"    => 2\n",
       "  \"Lithium\"   => 3"
      ]
     },
     "execution_count": 3,
     "metadata": {},
     "output_type": "execute_result"
    }
   ],
   "source": [
    "# Add a new element to the dictionary.\n",
    "atomic_info[\"Beryllium\"] = 4\n",
    "\n",
    "# Modify Hydrogen's value from an Int to a Float64. This is allowed!\n",
    "atomic_info[\"Hydrogen\"] = 1.008\n",
    "\n",
    "atomic_info"
   ]
  },
  {
   "cell_type": "markdown",
   "metadata": {},
   "source": [
    "## Removing Entries\n",
    "\n",
    "To remove a key-value pair from a dictionary, you can use the mutating function `delete!`."
   ]
  },
  {
   "cell_type": "code",
   "execution_count": 4,
   "metadata": {},
   "outputs": [
    {
     "data": {
      "text/plain": [
       "Dict{String, Number} with 3 entries:\n",
       "  \"Hydrogen\"  => 1.008\n",
       "  \"Beryllium\" => 4\n",
       "  \"Helium\"    => 2"
      ]
     },
     "execution_count": 4,
     "metadata": {},
     "output_type": "execute_result"
    }
   ],
   "source": [
    "# Remove the entry for \"Lithium\".\n",
    "delete!(atomic_info, \"Lithium\")\n",
    "\n",
    "atomic_info"
   ]
  },
  {
   "cell_type": "markdown",
   "metadata": {},
   "source": [
    "## Useful Dictionary Functions\n",
    "\n",
    "Several functions are essential for working with dictionaries."
   ]
  },
  {
   "cell_type": "code",
   "execution_count": 5,
   "metadata": {},
   "outputs": [
    {
     "name": "stdout",
     "output_type": "stream",
     "text": [
      "Does the dictionary have Helium? true\n",
      "Does the dictionary have Carbon? false\n"
     ]
    }
   ],
   "source": [
    "# `haskey()` checks if a key exists in the dictionary.\n",
    "println(\"Does the dictionary have Helium? \", haskey(atomic_info, \"Helium\"))\n",
    "println(\"Does the dictionary have Carbon? \", haskey(atomic_info, \"Carbon\"))"
   ]
  },
  {
   "cell_type": "code",
   "execution_count": 6,
   "metadata": {},
   "outputs": [
    {
     "name": "stdout",
     "output_type": "stream",
     "text": [
      "\n",
      "All keys:\n",
      "Hydrogen\n",
      "Beryllium\n",
      "Helium\n"
     ]
    }
   ],
   "source": [
    "# `keys()` returns an iterator over all the keys.\n",
    "println(\"\\nAll keys:\")\n",
    "for k in keys(atomic_info)\n",
    "    println(k)\n",
    "end"
   ]
  },
  {
   "cell_type": "code",
   "execution_count": 7,
   "metadata": {},
   "outputs": [
    {
     "name": "stdout",
     "output_type": "stream",
     "text": [
      "\n",
      "All values:\n",
      "1.008\n",
      "4\n",
      "2\n"
     ]
    }
   ],
   "source": [
    "# `values()` returns an iterator over all the values.\n",
    "println(\"\\nAll values:\")\n",
    "for v in values(atomic_info)\n",
    "    println(v)\n",
    "end"
   ]
  },
  {
   "cell_type": "markdown",
   "metadata": {},
   "source": [
    "You can also iterate directly over the dictionary itself, which gives you access to the `key => value` pairs."
   ]
  },
  {
   "cell_type": "code",
   "execution_count": 8,
   "metadata": {},
   "outputs": [
    {
     "name": "stdout",
     "output_type": "stream",
     "text": [
      "\n",
      "All key-value pairs:\n",
      "Hydrogen has value 1.008\n",
      "Beryllium has value 4\n",
      "Helium has value 2\n"
     ]
    }
   ],
   "source": [
    "println(\"\\nAll key-value pairs:\")\n",
    "for (key, value) in atomic_info\n",
    "    println(key, \" has value \", value)\n",
    "end"
   ]
  }
 ],
 "metadata": {
  "kernelspec": {
   "display_name": "Julia 1.11.5",
   "language": "julia",
   "name": "julia-1.11"
  },
  "language_info": {
   "file_extension": ".jl",
   "mimetype": "application/julia",
   "name": "julia",
   "version": "1.11.5"
  }
 },
 "nbformat": 4,
 "nbformat_minor": 4
}