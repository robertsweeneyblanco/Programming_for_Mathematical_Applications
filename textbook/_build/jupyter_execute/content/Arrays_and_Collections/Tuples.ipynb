{
 "cells": [
  {
   "cell_type": "markdown",
   "metadata": {},
   "source": [
    "# Tuples\n",
    "\n",
    "A **tuple** is an ordered, immutable collection of elements. We have already encountered them as the return type for functions that give back multiple values.\n",
    "\n",
    "Like arrays, they can hold a sequence of values, but with one key difference: once a tuple is created, it **cannot be changed**. This property makes them useful for representing fixed collections of data."
   ]
  },
  {
   "cell_type": "markdown",
   "metadata": {},
   "source": [
    "## Creating Tuples\n",
    "\n",
    "You can create a tuple by enclosing a comma-separated list of values in parentheses `()`."
   ]
  },
  {
   "cell_type": "code",
   "execution_count": 1,
   "metadata": {},
   "outputs": [
    {
     "data": {
      "text/plain": [
       "(1, 3.14, \"hello\")"
      ]
     },
     "execution_count": 1,
     "metadata": {},
     "output_type": "execute_result"
    }
   ],
   "source": [
    "my_tuple = (1, 3.14, \"hello\")"
   ]
  },
  {
   "cell_type": "markdown",
   "metadata": {},
   "source": [
    "In many contexts, such as simple assignments, the parentheses are optional."
   ]
  },
  {
   "cell_type": "code",
   "execution_count": 2,
   "metadata": {},
   "outputs": [
    {
     "data": {
      "text/plain": [
       "(1, 3.14, \"hello\")"
      ]
     },
     "execution_count": 2,
     "metadata": {},
     "output_type": "execute_result"
    }
   ],
   "source": [
    "# This creates the exact same tuple as above.\n",
    "another_tuple = 1, 3.14, \"hello\""
   ]
  },
  {
   "cell_type": "markdown",
   "metadata": {},
   "source": [
    "## Accessing Elements\n",
    "\n",
    "You can access the elements of a tuple using indexing, just like with an array. Remember that Julia is 1-indexed."
   ]
  },
  {
   "cell_type": "code",
   "execution_count": 3,
   "metadata": {},
   "outputs": [
    {
     "data": {
      "text/plain": [
       "\"hello\""
      ]
     },
     "execution_count": 3,
     "metadata": {},
     "output_type": "execute_result"
    }
   ],
   "source": [
    "# Access the third element.\n",
    "my_tuple[3]"
   ]
  },
  {
   "cell_type": "markdown",
   "metadata": {},
   "source": [
    "You can also **unpack** a tuple by assigning it to a comma-separated list of variables. This is a common way to work with the results from a function that returns multiple values."
   ]
  },
  {
   "cell_type": "code",
   "execution_count": 4,
   "metadata": {},
   "outputs": [
    {
     "name": "stdout",
     "output_type": "stream",
     "text": [
      "The value of b is: 3.14\n"
     ]
    }
   ],
   "source": [
    "a, b, c = my_tuple\n",
    "\n",
    "println(\"The value of b is: \", b)"
   ]
  },
  {
   "cell_type": "markdown",
   "metadata": {},
   "source": [
    "## Tuples vs. Arrays: Key Differences\n",
    "\n",
    "The most important difference is **mutability**.\n",
    "\n",
    "* **Arrays are mutable**: You can change their size and content (e.g., using `push!` or `my_array[i] = new_value`).\n",
    "* **Tuples are immutable**: Once created, you cannot change a tuple in any way.\n"
   ]
  },
  {
   "cell_type": "code",
   "execution_count": 5,
   "metadata": {},
   "outputs": [
    {
     "ename": "LoadError",
     "evalue": "MethodError: no method matching setindex!(::Tuple{Int64, Float64, String}, ::Int64, ::Int64)\nThe function `setindex!` exists, but no method is defined for this combination of argument types.",
     "output_type": "error",
     "traceback": [
      "MethodError: no method matching setindex!(::Tuple{Int64, Float64, String}, ::Int64, ::Int64)\nThe function `setindex!` exists, but no method is defined for this combination of argument types.",
      "",
      "Stacktrace:",
      " [1] top-level scope",
      "\u001b[90m   @\u001b[39m \u001b[90m\u001b[4mIn[5]:2\u001b[24m\u001b[39m"
     ]
    }
   ],
   "source": [
    "# Trying to modify a tuple will result in an error.\n",
    "my_tuple[1] = 99"
   ]
  },
  {
   "cell_type": "markdown",
   "metadata": {},
   "source": [
    "### When to Use Which?\n",
    "\n",
    "* **Use an Array when:** Your collection of data needs to change. This is the case for most numerical work, where you might be adding results, filtering values, or modifying elements.\n",
    "\n",
    "* **Use a Tuple when:** You have a fixed collection of values that should not be modified. They are perfect for returning multiple values from a function or for situations where you want to guarantee that the data remains constant. Tuples can also be more efficient than arrays for small, fixed-size collections."
   ]
  }
 ],
 "metadata": {
  "kernelspec": {
   "display_name": "Julia 1.11.5",
   "language": "julia",
   "name": "julia-1.11"
  },
  "language_info": {
   "file_extension": ".jl",
   "mimetype": "application/julia",
   "name": "julia",
   "version": "1.11.5"
  }
 },
 "nbformat": 4,
 "nbformat_minor": 4
}