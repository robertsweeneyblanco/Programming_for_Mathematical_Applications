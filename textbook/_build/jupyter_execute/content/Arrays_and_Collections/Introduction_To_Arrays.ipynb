{
 "cells": [
  {
   "cell_type": "markdown",
   "metadata": {
    "slideshow": {
     "slide_type": "slide"
    }
   },
   "source": [
    "# Introduction to Arrays\n",
    "\n",
    "An **array** in Julia is an ordered collection of elements. These elements can be of any type, though arrays of numbers (like integers or floating-point numbers) are very common for representing **vectors**, **matrices**, and **tensors**. The individual values in an array are called its elements.\n",
    "\n",
    "Julia's array implementation is highly optimized and serves as a fundamental data structure for scientific and technical computing. Unlike some other languages, Julia does not require a \"vectorized\" style for performance; its compiler generates highly efficient code even for standard scalar indexing loops."
   ]
  },
  {
   "cell_type": "markdown",
   "metadata": {},
   "source": [
    "## Creating 1-D Arrays (Vectors)\n",
    "\n",
    "The simplest way to create a 1D array (or a **vector**) is to enclose a comma-separated list of its elements in square brackets `[]`:"
   ]
  },
  {
   "cell_type": "code",
   "execution_count": 1,
   "metadata": {
    "slideshow": {
     "slide_type": "fragment"
    }
   },
   "outputs": [
    {
     "data": {
      "text/plain": [
       "4-element Vector{Int64}:\n",
       "  1\n",
       "  2\n",
       "  4\n",
       " -3"
      ]
     },
     "execution_count": 1,
     "metadata": {},
     "output_type": "execute_result"
    }
   ],
   "source": [
    "x = [1, 2, 4, -3]"
   ]
  },
  {
   "cell_type": "code",
   "execution_count": 2,
   "metadata": {},
   "outputs": [
    {
     "data": {
      "text/plain": [
       "Vector{Int64}\u001b[90m (alias for \u001b[39m\u001b[90mArray{Int64, 1}\u001b[39m\u001b[90m)\u001b[39m"
      ]
     },
     "execution_count": 2,
     "metadata": {},
     "output_type": "execute_result"
    }
   ],
   "source": [
    "typeof(x)"
   ]
  },
  {
   "cell_type": "markdown",
   "metadata": {},
   "source": [
    "The output shows that `x` has the type `Vector{Int64}`. As `typeof` reveals, `Vector` is a convenient alias for a 1-dimensional `Array`. Julia automatically inferred that the elements are integers and used the default type, `Int64`."
   ]
  },
  {
   "cell_type": "code",
   "execution_count": 3,
   "metadata": {
    "slideshow": {
     "slide_type": "subslide"
    }
   },
   "outputs": [
    {
     "data": {
      "text/plain": [
       "4-element Vector{Float64}:\n",
       "  1.1\n",
       "  3.141592653589793\n",
       " -1.3333333333333333\n",
       "  0.1"
      ]
     },
     "execution_count": 3,
     "metadata": {},
     "output_type": "execute_result"
    }
   ],
   "source": [
    "# If the elements are mixed numeric types, Julia promotes them to a common type.\n",
    "y = [1.1, π, -4/3, 1e-1]"
   ]
  },
  {
   "cell_type": "markdown",
   "metadata": {
    "slideshow": {
     "slide_type": "fragment"
    }
   },
   "source": [
    "Here, `y` is also a vector, but since its elements include floating-point numbers, Julia promotes all elements to the default floating-point type, `Float64`.\n",
    "\n",
    "You can also explicitly specify the element type when creating an array:"
   ]
  },
  {
   "cell_type": "code",
   "execution_count": 4,
   "metadata": {
    "slideshow": {
     "slide_type": "fragment"
    }
   },
   "outputs": [
    {
     "data": {
      "text/plain": [
       "4-element Vector{Float64}:\n",
       "  1.0\n",
       "  2.0\n",
       "  4.0\n",
       " -3.0"
      ]
     },
     "execution_count": 4,
     "metadata": {},
     "output_type": "execute_result"
    }
   ],
   "source": [
    "# Create a vector of Float64s from a list of integers.\n",
    "z = Float64[1, 2, 4, -3]"
   ]
  },
  {
   "cell_type": "markdown",
   "metadata": {
    "slideshow": {
     "slide_type": "slide"
    }
   },
   "source": [
    "### Creating Arrays with Functions\n",
    "\n",
    "Arrays can also be created using built-in functions. The most common ones are:\n",
    "\n",
    "| Function | Description |\n",
    "|:--- |:--- |\n",
    "| `zeros(T, n)` | Creates a vector of length `n` filled with zeros of type `T`. |\n",
    "| `ones(T, n)` | Creates a vector of length `n` filled with ones of type `T`. |\n",
    "| `trues(n)` | Creates a boolean vector of length `n` with all values `true`. |\n",
    "| `falses(n)` | Creates a boolean vector of length `n` with all values `false`. |\n",
    "| `fill(value, n)`| Creates a vector of length `n` with every element set to `value`. |\n",
    "\n",
    "For `zeros` and `ones`, the type `T` is optional and defaults to `Float64`.\n",
    "\n",
    "> **Note:** The `fill` function is very general and can reproduce the behavior of the others. For example, `zeros(Int32, 5)` is equivalent to `fill(Int32(0), 5)`, and `trues(3)` is the same as `fill(true, 3)`."
   ]
  },
  {
   "cell_type": "markdown",
   "metadata": {
    "slideshow": {
     "slide_type": "slide"
    }
   },
   "source": [
    "### Adding Elements to an Array\n",
    "\n",
    "You can also add new elements to an array (changing the size). For example, `push!` adds a new element to the end of an array."
   ]
  },
  {
   "cell_type": "code",
   "execution_count": 5,
   "metadata": {
    "slideshow": {
     "slide_type": "fragment"
    }
   },
   "outputs": [
    {
     "data": {
      "text/plain": [
       "5-element Vector{Float64}:\n",
       "  1.0\n",
       "  2.0\n",
       "  4.0\n",
       " -3.0\n",
       " 10.0"
      ]
     },
     "execution_count": 5,
     "metadata": {},
     "output_type": "execute_result"
    }
   ],
   "source": [
    "push!(z, 10)"
   ]
  },
  {
   "cell_type": "markdown",
   "metadata": {
    "slideshow": {
     "slide_type": "subslide"
    }
   },
   "source": [
    "> **Convention:** The exclamation mark `!` at the end of a function's name indicates that the function **modifies** one or more of its arguments. Here, `push!` modifies the array `z`.\n",
    "\n",
    "Similarly, the `append!` function adds the elements from a second array to the end of the first:"
   ]
  },
  {
   "cell_type": "code",
   "execution_count": 6,
   "metadata": {
    "slideshow": {
     "slide_type": "fragment"
    }
   },
   "outputs": [
    {
     "data": {
      "text/plain": [
       "9-element Vector{Float64}:\n",
       "  1.0\n",
       "  2.0\n",
       "  4.0\n",
       " -3.0\n",
       " 10.0\n",
       "  1.1\n",
       "  3.141592653589793\n",
       " -1.3333333333333333\n",
       "  0.1"
      ]
     },
     "execution_count": 6,
     "metadata": {},
     "output_type": "execute_result"
    }
   ],
   "source": [
    "append!(z, y)"
   ]
  },
  {
   "cell_type": "markdown",
   "metadata": {},
   "source": [
    "## Accessing and Modifying Elements\n",
    "\n",
    "You can access an element in an array using its **index** inside square brackets `[]`. A key feature of Julia is that its arrays are **1-indexed**, meaning the first element is at index `1`."
   ]
  },
  {
   "cell_type": "code",
   "execution_count": 7,
   "metadata": {},
   "outputs": [
    {
     "data": {
      "text/plain": [
       "-1.3333333333333333"
      ]
     },
     "execution_count": 7,
     "metadata": {},
     "output_type": "execute_result"
    }
   ],
   "source": [
    "# Access the 3rd element in the array y.\n",
    "y[3]"
   ]
  },
  {
   "cell_type": "markdown",
   "metadata": {},
   "source": [
    "The keyword `end` can be used as a convenient shorthand for the last index of an array."
   ]
  },
  {
   "cell_type": "code",
   "execution_count": 8,
   "metadata": {},
   "outputs": [
    {
     "name": "stdout",
     "output_type": "stream",
     "text": [
      "Last element: 0.1\n",
      "Second-to-last element: -1.3333333333333333\n"
     ]
    }
   ],
   "source": [
    "# Access the last and second-to-last elements of z.\n",
    "println(\"Last element: \", z[end])\n",
    "println(\"Second-to-last element: \", z[end-1])"
   ]
  },
  {
   "cell_type": "markdown",
   "metadata": {},
   "source": [
    "Arrays are **mutable**, so you can also use indexing to modify elements. Simply assign a new value to an indexed position."
   ]
  },
  {
   "cell_type": "code",
   "execution_count": 9,
   "metadata": {},
   "outputs": [
    {
     "data": {
      "text/plain": [
       "9-element Vector{Float64}:\n",
       " -0.13333333333333333\n",
       "  2.0\n",
       "  4.0\n",
       " -3.0\n",
       " 10.0\n",
       "  1.1\n",
       "  3.141592653589793\n",
       " -1.3333333333333333\n",
       "  0.1"
      ]
     },
     "execution_count": 9,
     "metadata": {},
     "output_type": "execute_result"
    }
   ],
   "source": [
    "# Set the 1st element of z to the product of the last two elements.\n",
    "z[1] = z[end] * z[end-1]\n",
    "\n",
    "# Display the modified array.\n",
    "z"
   ]
  },
  {
   "cell_type": "markdown",
   "metadata": {},
   "source": [
    "## Traversing an Array\n",
    "\n",
    "A common and essential operation is to **traverse** an array, meaning to access each of its elements in sequence. A `for`-loop is the perfect tool for this, and Julia offers a couple of convenient ways to write one."
   ]
  },
  {
   "cell_type": "markdown",
   "metadata": {},
   "source": [
    "### Looping by Index\n",
    "\n",
    "If you need both the index and the value of each element, you can loop from `1` to the `length` of the array."
   ]
  },
  {
   "cell_type": "code",
   "execution_count": 10,
   "metadata": {},
   "outputs": [
    {
     "name": "stdout",
     "output_type": "stream",
     "text": [
      "Element at index 1 has the value 1\n",
      "Element at index 2 has the value 2\n",
      "Element at index 3 has the value 4\n",
      "Element at index 4 has the value -3\n"
     ]
    }
   ],
   "source": [
    "for i in 1:length(x)\n",
    "    println(\"Element at index \", i, \" has the value \", x[i])\n",
    "end"
   ]
  },
  {
   "cell_type": "markdown",
   "metadata": {},
   "source": [
    "### Looping Over Elements Directly\n",
    "\n",
    "If you only need the value of each element, you can use the `in` keyword for a more direct and often more readable syntax. The loop variable will be assigned each element of the array in order."
   ]
  },
  {
   "cell_type": "code",
   "execution_count": 11,
   "metadata": {},
   "outputs": [
    {
     "name": "stdout",
     "output_type": "stream",
     "text": [
      "The next element's value is 1\n",
      "The next element's value is 2\n",
      "The next element's value is 4\n",
      "The next element's value is -3\n"
     ]
    }
   ],
   "source": [
    "for element in x\n",
    "    println(\"The next element's value is \", element)\n",
    "end"
   ]
  },
  {
   "cell_type": "markdown",
   "metadata": {
    "slideshow": {
     "slide_type": "slide"
    }
   },
   "source": [
    "## Example: The Sieve of Eratosthenes\n",
    "\n",
    "Arrays are perfect for implementing classic algorithms. The **Sieve of Eratosthenes** is an ancient and efficient method for finding all prime numbers up to a given limit, $n$. According to Wikipedia, the algorithm is as follows:\n",
    "\n",
    "1. Create a list of consecutive integers from $2$ through $n$: $(2, 3, 4, ..., n)$.\n",
    "2. Initially, let $p$ equal $2$, the smallest prime number.\n",
    "3. Enumerate the multiples of $p$ by counting in increments of $p$ from $2p$ to $n$, and mark them in the list (these will be $2p$, $3p$, $4p$, ...; the $p$ itself should not be marked).\n",
    "4. Find the first number greater than $p$ in the list that is not marked. If there was no such number, stop. Otherwise, let $p$ now equal this new number (which is the next prime), and repeat from step 3.\n",
    "5. When the algorithm terminates, the numbers remaining not marked in the list are all the primes below $n$.\n",
    "\n",
    "A key refinement is that in step 3, we only need to start marking multiples from $p^2$. Any smaller multiple, like $2p$, would have already been marked when we processed the smaller prime factor (in this case, 2). This also means we can stop the main loop (step 4) when $p^2$ exceeds $n$."
   ]
  },
  {
   "cell_type": "markdown",
   "metadata": {
    "slideshow": {
     "slide_type": "subslide"
    }
   },
   "source": [
    "Wikipedia also provides an animation to illustrate the method:\n",
    "\n",
    "![Wikipedia Sieve of Eratosthenes animation](sieve_of_eratosthenes.gif \"Sieve of Eratosthenes\")"
   ]
  },
  {
   "cell_type": "markdown",
   "metadata": {
    "slideshow": {
     "slide_type": "subslide"
    }
   },
   "source": [
    "Our implementation will use a boolean array where `is_prime[k]` keeps track of whether the number `k` is considered prime. To determine the upper bound for our main loop ($p^2 \\le n$), we can use the `isqrt(n)` function, which efficiently calculates the integer part of $\\sqrt{n}$."
   ]
  },
  {
   "cell_type": "code",
   "execution_count": 12,
   "metadata": {
    "slideshow": {
     "slide_type": "fragment"
    }
   },
   "outputs": [
    {
     "data": {
      "text/plain": [
       "SieveOfEratosthenes (generic function with 1 method)"
      ]
     },
     "execution_count": 12,
     "metadata": {},
     "output_type": "execute_result"
    }
   ],
   "source": [
    "function SieveOfEratosthenes(n)\n",
    "    # Create a boolean array, initially assuming all numbers are prime.\n",
    "    is_prime = trues(n)\n",
    "    is_prime[1] = false # 1 is not a prime number.\n",
    "    \n",
    "    # Iterate from p=2 up to sqrt(n).\n",
    "    for p in 2:isqrt(n)\n",
    "        # If p is still marked as prime...\n",
    "        if is_prime[p]\n",
    "            # ...then mark all of its multiples (starting from p^2) as not prime.\n",
    "            for i in p^2:p:n\n",
    "                is_prime[i] = false\n",
    "            end\n",
    "        end\n",
    "    end\n",
    "    \n",
    "    # Collect all numbers that are still marked as prime.\n",
    "    primes = Int64[]\n",
    "    for i in 2:n\n",
    "        if is_prime[i]\n",
    "            push!(primes, i)\n",
    "        end\n",
    "    end\n",
    "    \n",
    "    return primes\n",
    "end"
   ]
  },
  {
   "cell_type": "code",
   "execution_count": 13,
   "metadata": {
    "slideshow": {
     "slide_type": "subslide"
    }
   },
   "outputs": [
    {
     "data": {
      "text/plain": [
       "25-element Vector{Int64}:\n",
       "  2\n",
       "  3\n",
       "  5\n",
       "  7\n",
       " 11\n",
       " 13\n",
       " 17\n",
       " 19\n",
       " 23\n",
       " 29\n",
       " 31\n",
       " 37\n",
       " 41\n",
       " 43\n",
       " 47\n",
       " 53\n",
       " 59\n",
       " 61\n",
       " 67\n",
       " 71\n",
       " 73\n",
       " 79\n",
       " 83\n",
       " 89\n",
       " 97"
      ]
     },
     "execution_count": 13,
     "metadata": {},
     "output_type": "execute_result"
    }
   ],
   "source": [
    "# Find all prime numbers up to 100.\n",
    "SieveOfEratosthenes(100)"
   ]
  },
  {
   "cell_type": "code",
   "execution_count": 14,
   "metadata": {
    "slideshow": {
     "slide_type": "fragment"
    }
   },
   "outputs": [
    {
     "data": {
      "text/plain": [
       "999983"
      ]
     },
     "execution_count": 14,
     "metadata": {},
     "output_type": "execute_result"
    }
   ],
   "source": [
    "# Find the largest prime number less than 1,000,000.\n",
    "SieveOfEratosthenes(1000000)[end]"
   ]
  },
  {
   "cell_type": "markdown",
   "metadata": {},
   "source": [
    "## Element-wise Operations (Dot Syntax)\n",
    "\n",
    "A powerful feature in Julia is the **dot syntax** for vectorization. By placing a dot `.` before an operator or after a function name, you can apply that operation to *every element* of an array. This is often called **broadcasting**.\n",
    "\n",
    "This avoids writing explicit loops and results in code that is more concise, readable, and often much faster."
   ]
  },
  {
   "cell_type": "code",
   "execution_count": 15,
   "metadata": {},
   "outputs": [
    {
     "data": {
      "text/plain": [
       "3-element Vector{Float64}:\n",
       "  0.2\n",
       " 12.0\n",
       " 15.5"
      ]
     },
     "execution_count": 15,
     "metadata": {},
     "output_type": "execute_result"
    }
   ],
   "source": [
    "x = [1, 3, 5]\n",
    "y = [0.2, 4.0 , 3.1]\n",
    "\n",
    "# Element-wise multiplication: computes [1*0.2, 3*4.0, 5*3.1]\n",
    "z = x .* y"
   ]
  },
  {
   "cell_type": "code",
   "execution_count": 16,
   "metadata": {},
   "outputs": [
    {
     "data": {
      "text/plain": [
       "3-element Vector{Float64}:\n",
       " 1.0\n",
       " 1.7320508075688772\n",
       " 2.23606797749979"
      ]
     },
     "execution_count": 16,
     "metadata": {},
     "output_type": "execute_result"
    }
   ],
   "source": [
    "# Apply the sqrt function to each element of x.\n",
    "sqrt.(x)"
   ]
  },
  {
   "cell_type": "markdown",
   "metadata": {},
   "source": [
    "The dot syntax can be combined to form complex element-wise expressions:"
   ]
  },
  {
   "cell_type": "code",
   "execution_count": 17,
   "metadata": {},
   "outputs": [
    {
     "data": {
      "text/plain": [
       "3-element Vector{Float64}:\n",
       "  1.4472135954999579\n",
       " 11.0\n",
       " 21.920151004054308"
      ]
     },
     "execution_count": 17,
     "metadata": {},
     "output_type": "execute_result"
    }
   ],
   "source": [
    "# For each element i, this computes x[i] + sqrt(y[i] ^ x[i])\n",
    "w = x .+ sqrt.(y .^ x)"
   ]
  },
  {
   "cell_type": "markdown",
   "metadata": {},
   "source": [
    "For expressions with many operations, Julia provides the `@.` macro as a convenient shorthand. It automatically adds a dot to every operator and function call in the expression."
   ]
  },
  {
   "cell_type": "code",
   "execution_count": 18,
   "metadata": {},
   "outputs": [
    {
     "data": {
      "text/plain": [
       "3-element Vector{Float64}:\n",
       "  1.4472135954999579\n",
       " 11.0\n",
       " 21.920151004054308"
      ]
     },
     "execution_count": 18,
     "metadata": {},
     "output_type": "execute_result"
    }
   ],
   "source": [
    "# The @. macro makes the previous expression cleaner.\n",
    "@. x + sqrt(y^x)"
   ]
  },
  {
   "cell_type": "markdown",
   "metadata": {},
   "source": [
    "### Broadcasting Rules\n",
    "\n",
    "For element-wise operations between two arrays, their dimensions must be compatible. For 1D arrays, this generally means they must have the same length."
   ]
  },
  {
   "cell_type": "code",
   "execution_count": 19,
   "metadata": {},
   "outputs": [
    {
     "ename": "LoadError",
     "evalue": "DimensionMismatch: arrays could not be broadcast to a common size: a has axes Base.OneTo(3) and b has axes Base.OneTo(4)",
     "output_type": "error",
     "traceback": [
      "DimensionMismatch: arrays could not be broadcast to a common size: a has axes Base.OneTo(3) and b has axes Base.OneTo(4)",
      "",
      "Stacktrace:",
      " [1] \u001b[0m\u001b[1m_bcs1\u001b[22m",
      "\u001b[90m   @\u001b[39m \u001b[90m./\u001b[39m\u001b[90m\u001b[4mbroadcast.jl:528\u001b[24m\u001b[39m\u001b[90m [inlined]\u001b[39m",
      " [2] \u001b[0m\u001b[1m_bcs\u001b[22m",
      "\u001b[90m   @\u001b[39m \u001b[90m./\u001b[39m\u001b[90m\u001b[4mbroadcast.jl:522\u001b[24m\u001b[39m\u001b[90m [inlined]\u001b[39m",
      " [3] \u001b[0m\u001b[1mbroadcast_shape\u001b[22m",
      "\u001b[90m   @\u001b[39m \u001b[90m./\u001b[39m\u001b[90m\u001b[4mbroadcast.jl:516\u001b[24m\u001b[39m\u001b[90m [inlined]\u001b[39m",
      " [4] \u001b[0m\u001b[1mcombine_axes\u001b[22m",
      "\u001b[90m   @\u001b[39m \u001b[90m./\u001b[39m\u001b[90m\u001b[4mbroadcast.jl:497\u001b[24m\u001b[39m\u001b[90m [inlined]\u001b[39m",
      " [5] \u001b[0m\u001b[1minstantiate\u001b[22m",
      "\u001b[90m   @\u001b[39m \u001b[90m./\u001b[39m\u001b[90m\u001b[4mbroadcast.jl:307\u001b[24m\u001b[39m\u001b[90m [inlined]\u001b[39m",
      " [6] \u001b[0m\u001b[1mmaterialize\u001b[22m\u001b[0m\u001b[1m(\u001b[22m\u001b[90mbc\u001b[39m::\u001b[0mBase.Broadcast.Broadcasted\u001b[90m{Base.Broadcast.DefaultArrayStyle{1}, Nothing, typeof(+), Tuple{Vector{Int64}, Vector{Int64}}}\u001b[39m\u001b[0m\u001b[1m)\u001b[22m",
      "\u001b[90m   @\u001b[39m \u001b[90mBase.Broadcast\u001b[39m \u001b[90m./\u001b[39m\u001b[90m\u001b[4mbroadcast.jl:872\u001b[24m\u001b[39m",
      " [7] top-level scope",
      "\u001b[90m   @\u001b[39m \u001b[90m\u001b[4mIn[19]:5\u001b[24m\u001b[39m"
     ]
    }
   ],
   "source": [
    "a = [1, 2, 3]\n",
    "b = [4, 5, 6, 7] # b has a different length than a\n",
    "\n",
    "# This will cause a DimensionMismatch error.\n",
    "a .+ b"
   ]
  },
  {
   "cell_type": "markdown",
   "metadata": {},
   "source": [
    "An important exception is when one of the arguments is a **scalar** (a single number). In this case, the scalar is automatically \"broadcast\" across all the elements of the array."
   ]
  },
  {
   "cell_type": "code",
   "execution_count": 20,
   "metadata": {},
   "outputs": [
    {
     "data": {
      "text/plain": [
       "3-element Vector{Int64}:\n",
       " -2\n",
       "  0\n",
       "  2"
      ]
     },
     "execution_count": 20,
     "metadata": {},
     "output_type": "execute_result"
    }
   ],
   "source": [
    "# Subtracts 3 from every element of x.\n",
    "x .- 3"
   ]
  },
  {
   "cell_type": "markdown",
   "metadata": {},
   "source": [
    "Finally, the dot syntax works automatically for any function you define, with no extra effort required."
   ]
  },
  {
   "cell_type": "code",
   "execution_count": 21,
   "metadata": {},
   "outputs": [
    {
     "data": {
      "text/plain": [
       "pick_largest (generic function with 1 method)"
      ]
     },
     "execution_count": 21,
     "metadata": {},
     "output_type": "execute_result"
    }
   ],
   "source": [
    "function pick_largest(a, b)\n",
    "    if a > b\n",
    "        return a\n",
    "    else\n",
    "        return b\n",
    "    end\n",
    "end"
   ]
  },
  {
   "cell_type": "code",
   "execution_count": 22,
   "metadata": {},
   "outputs": [
    {
     "data": {
      "text/plain": [
       "3-element Vector{Float64}:\n",
       "  1.4472135954999579\n",
       " 12.0\n",
       " 21.920151004054308"
      ]
     },
     "execution_count": 22,
     "metadata": {},
     "output_type": "execute_result"
    }
   ],
   "source": [
    "# Compare z and w element-by-element and pick the larger value from each pair.\n",
    "pick_largest.(z, w)"
   ]
  },
  {
   "cell_type": "markdown",
   "metadata": {},
   "source": [
    "## Array Slicing\n",
    "\n",
    "**Slicing** is the process of extracting a subset of an array. You can create a slice using a **range** of indices (like `1:3`) or by providing a vector of the specific integer indices you want to extract."
   ]
  },
  {
   "cell_type": "code",
   "execution_count": 23,
   "metadata": {},
   "outputs": [
    {
     "name": "stdout",
     "output_type": "stream",
     "text": [
      "First 3 elements:    [0.2, 4.0, 3.1]\n",
      "Odd-indexed elements:  [0.2, 3.1]\n",
      "Elements 2 to end, reversed: [7.0, 3.1, 4.0]\n",
      "A copy of all elements:      [0.2, 4.0, 3.1, 7.0]\n",
      "A custom selection:    [7.0, 4.0, 7.0, 3.1, 3.1]\n"
     ]
    }
   ],
   "source": [
    "y = [0.2, 4.0, 3.1, 7.0]\n",
    "\n",
    "# A range `start:stop` extracts all elements from `start` to `stop`.\n",
    "println(\"First 3 elements:    \", y[1:3])\n",
    "\n",
    "# A range `start:step:stop` includes a step size.\n",
    "println(\"Odd-indexed elements:  \", y[1:2:end])\n",
    "\n",
    "# A negative step reverses the order.\n",
    "println(\"Elements 2 to end, reversed: \", y[end:-1:2])\n",
    "\n",
    "# A single colon `:` is a shorthand to select all elements.\n",
    "println(\"A copy of all elements:      \", y[:])\n",
    "\n",
    "# You can also index with a vector of integers.\n",
    "println(\"A custom selection:    \", y[[4,2,4,3,3]])"
   ]
  },
  {
   "cell_type": "markdown",
   "metadata": {},
   "source": [
    "### Creating Arrays from Ranges\n",
    "\n",
    "As you've seen, the `start:stop` syntax creates a `Range` object, which is a very memory-efficient way to represent a sequence of numbers. While you can often use a `Range` just like an array, you can explicitly convert it into a regular array using the `collect` function if needed."
   ]
  },
  {
   "cell_type": "code",
   "execution_count": 24,
   "metadata": {},
   "outputs": [
    {
     "data": {
      "text/plain": [
       "UnitRange{Int64}"
      ]
     },
     "execution_count": 24,
     "metadata": {},
     "output_type": "execute_result"
    }
   ],
   "source": [
    "# `1:3` is a Range object.\n",
    "typeof(1:3)"
   ]
  },
  {
   "cell_type": "code",
   "execution_count": 25,
   "metadata": {},
   "outputs": [
    {
     "name": "stdout",
     "output_type": "stream",
     "text": [
      "Vector{Int64}\n"
     ]
    }
   ],
   "source": [
    "# `collect` turns the Range into a Vector.\n",
    "x1 = collect(1:3)\n",
    "println(typeof(x1))"
   ]
  },
  {
   "cell_type": "code",
   "execution_count": 26,
   "metadata": {},
   "outputs": [
    {
     "data": {
      "text/plain": [
       "6-element Vector{Float64}:\n",
       " 10.0\n",
       "  7.5\n",
       "  5.0\n",
       "  2.5\n",
       "  0.0\n",
       " -2.5"
      ]
     },
     "execution_count": 26,
     "metadata": {},
     "output_type": "execute_result"
    }
   ],
   "source": [
    "# This works for any kind of range.\n",
    "x2 = collect(10:-2.5:-3)"
   ]
  },
  {
   "cell_type": "markdown",
   "metadata": {},
   "source": [
    "## Shared References: How Arrays Behave\n",
    "\n",
    "When you assign an existing array to a new variable or pass it to a function, you are not creating a copy. Instead, both variables now **refer** to the exact same array in memory. Think of it like giving two people different keys to the same house—a change made by one person will be seen by the other.\n",
    "\n",
    "This behavior is crucial for performance (as copying large arrays would be slow), but it's important to be aware of."
   ]
  },
  {
   "cell_type": "code",
   "execution_count": 27,
   "metadata": {},
   "outputs": [
    {
     "name": "stdout",
     "output_type": "stream",
     "text": [
      "y = [1, 123, 3]\n",
      "x = [1, 123, 3]\n"
     ]
    }
   ],
   "source": [
    "x = [1, -2, 3]\n",
    "\n",
    "# `y` is not a new array; it's just another name for `x`.\n",
    "y = x\n",
    "\n",
    "# Modify the array through `y`.\n",
    "y[2] = 123\n",
    "\n",
    "println(\"y = \", y)\n",
    "println(\"x = \", x) # Note that `x` has also changed!"
   ]
  },
  {
   "cell_type": "markdown",
   "metadata": {},
   "source": [
    "Since `x` and `y` both point to the same underlying data, modifying an element through `y` also changes what `x` sees.\n",
    "\n",
    "If you truly want a new, independent copy of an array, use the `copy()` function:"
   ]
  },
  {
   "cell_type": "code",
   "execution_count": 28,
   "metadata": {},
   "outputs": [
    {
     "name": "stdout",
     "output_type": "stream",
     "text": [
      "z = [1, 123, -53]\n",
      "x = [1, 123, 3]\n"
     ]
    }
   ],
   "source": [
    "# `z` is now a completely separate copy of `x`.\n",
    "z = copy(x)\n",
    "\n",
    "# Modifying `z` will not affect `x`.\n",
    "z[3] = -53\n",
    "\n",
    "println(\"z = \", z)\n",
    "println(\"x = \", x)"
   ]
  },
  {
   "cell_type": "markdown",
   "metadata": {},
   "source": [
    "### Behavior in Functions\n",
    "\n",
    "This same distinction applies when passing arguments to functions. Simple types like numbers are passed by **value** (the function gets a copy), while arrays are passed as a **shared reference** (the function can modify the original)."
   ]
  },
  {
   "cell_type": "code",
   "execution_count": 29,
   "metadata": {},
   "outputs": [
    {
     "name": "stdout",
     "output_type": "stream",
     "text": [
      "Scalar 'num' is still: 0\n",
      "Vector 'vec' is now:  [111.0, 111.0, 111.0, 111.0, 111.0]\n"
     ]
    }
   ],
   "source": [
    "function modify_scalar(s)      # `s` is a copy of the original number.\n",
    "    s = 111\n",
    "    return nothing\n",
    "end\n",
    "\n",
    "function modify_vector!(v)    # `v` is a reference to the original array.\n",
    "    v[:] .= 111\n",
    "    return nothing\n",
    "end\n",
    "\n",
    "# --- Test the scalar function ---\n",
    "num = 0\n",
    "modify_scalar(num)\n",
    "println(\"Scalar 'num' is still: \", num) # Unchanged\n",
    "\n",
    "# --- Test the vector function ---\n",
    "vec = zeros(5)\n",
    "modify_vector!(vec)\n",
    "println(\"Vector 'vec' is now:  \", vec)  # Changed!"
   ]
  }
 ],
 "metadata": {
  "kernelspec": {
   "display_name": "Julia 1.11.5",
   "language": "julia",
   "name": "julia-1.11"
  },
  "language_info": {
   "file_extension": ".jl",
   "mimetype": "application/julia",
   "name": "julia",
   "version": "1.11.5"
  }
 },
 "nbformat": 4,
 "nbformat_minor": 4
}