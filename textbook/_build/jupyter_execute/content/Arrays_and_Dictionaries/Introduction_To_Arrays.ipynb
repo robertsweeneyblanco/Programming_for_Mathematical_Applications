{
 "cells": [
  {
   "cell_type": "markdown",
   "metadata": {
    "slideshow": {
     "slide_type": "slide"
    }
   },
   "source": [
    "# Introduction to Arrays\n",
    "\n",
    "An array is a *sequence of values* or *objects*. The values can be of any type, but it is very common with arrays of numbers (integers or floating point numbers), in which case the array can be used to present vectors, matrices, and tensors. The values in an array are often referred to as *elements*.\n",
    "\n",
    "One way to create a so-called 1-d array (or a vector) is to list the elements, separated by commas, inside square brackets (`[ ]`):"
   ]
  },
  {
   "cell_type": "code",
   "execution_count": 1,
   "metadata": {
    "slideshow": {
     "slide_type": "fragment"
    }
   },
   "outputs": [
    {
     "data": {
      "text/plain": [
       "4-element Vector{Int64}:\n",
       "  1\n",
       "  2\n",
       "  4\n",
       " -3"
      ]
     },
     "execution_count": 1,
     "metadata": {},
     "output_type": "execute_result"
    }
   ],
   "source": [
    "x = [1, 2, 4, -3]"
   ]
  },
  {
   "cell_type": "code",
   "execution_count": 2,
   "metadata": {},
   "outputs": [
    {
     "data": {
      "text/plain": [
       "Vector{Int64}\u001b[90m (alias for \u001b[39m\u001b[90mArray{Int64, 1}\u001b[39m\u001b[90m)\u001b[39m"
      ]
     },
     "execution_count": 2,
     "metadata": {},
     "output_type": "execute_result"
    }
   ],
   "source": [
    "typeof(x)"
   ]
  },
  {
   "cell_type": "markdown",
   "metadata": {},
   "source": [
    "In the output we can see that the `x` variable has the type `Vector{Int64}`, and the `typeof` command reveals that this is actually just an alternative name for the more general array type `Array{Int64,1}`. Julia identified based on the elements that this appears to be an array of integers, and uses the default integer type `Int64`. The `1` in the `Array` form refers to the fact that this is a 1-d array (that is, a vector)."
   ]
  },
  {
   "cell_type": "code",
   "execution_count": 3,
   "metadata": {
    "slideshow": {
     "slide_type": "subslide"
    }
   },
   "outputs": [
    {
     "data": {
      "text/plain": [
       "4-element Vector{Float64}:\n",
       "  1.1\n",
       "  3.141592653589793\n",
       " -1.3333333333333333\n",
       "  0.1"
      ]
     },
     "execution_count": 3,
     "metadata": {},
     "output_type": "execute_result"
    }
   ],
   "source": [
    "y = [1.1, π, -4/3, 1e-1]"
   ]
  },
  {
   "cell_type": "markdown",
   "metadata": {
    "slideshow": {
     "slide_type": "fragment"
    }
   },
   "source": [
    "The `y` variable is also a vector, but since it contains floating point numbers Julia uses the default type `Float64` for all of the elements.\n",
    "\n",
    "You can also create an array with elements of a specified type using the following syntax:"
   ]
  },
  {
   "cell_type": "code",
   "execution_count": 4,
   "metadata": {
    "slideshow": {
     "slide_type": "fragment"
    }
   },
   "outputs": [
    {
     "data": {
      "text/plain": [
       "4-element Vector{Float64}:\n",
       "  1.0\n",
       "  2.0\n",
       "  4.0\n",
       " -3.0"
      ]
     },
     "execution_count": 4,
     "metadata": {},
     "output_type": "execute_result"
    }
   ],
   "source": [
    "z = Float64[1, 2, 4, -3]    # Without the `Float64`, Julia would make this an integer array"
   ]
  },
  {
   "cell_type": "markdown",
   "metadata": {
    "slideshow": {
     "slide_type": "slide"
    }
   },
   "source": [
    "Arrays can also be created using built-in functions, such as the ones below where `T` indicates the type of the elements and defaults to `Float64` if omitted:\n",
    "\n",
    "| Function                             | Description                                                    |\n",
    "|:------------------------------------ |:-------------------------------------------------------------- |\n",
    "| `zeros(T, n)`                        | a vector of all zeros                                          |\n",
    "| `ones(T, n)`                         | a vector of all ones                                           |\n",
    "| `trues(n)`                           | a `BitArray` with all values `true`                            |\n",
    "| `falses(n)`                          | a `BitArray` with all values `false`                           |  \n",
    "| `range(start, stop=stop, length=n)`  | range of `n` linearly spaced elements from `start` to `stop`   |"
   ]
  },
  {
   "cell_type": "markdown",
   "metadata": {
    "slideshow": {
     "slide_type": "slide"
    }
   },
   "source": [
    "Some other useful functions include the `push!` function, which adds a new element to the end of an array:"
   ]
  },
  {
   "cell_type": "code",
   "execution_count": 5,
   "metadata": {
    "slideshow": {
     "slide_type": "fragment"
    }
   },
   "outputs": [
    {
     "data": {
      "text/plain": [
       "5-element Vector{Float64}:\n",
       "  1.0\n",
       "  2.0\n",
       "  4.0\n",
       " -3.0\n",
       " 10.0"
      ]
     },
     "execution_count": 5,
     "metadata": {},
     "output_type": "execute_result"
    }
   ],
   "source": [
    "push!(z, 10)"
   ]
  },
  {
   "cell_type": "markdown",
   "metadata": {
    "slideshow": {
     "slide_type": "subslide"
    }
   },
   "source": [
    "Note the exclamation mark `!` at the end of the function name, it indicates that this function *modifies some of its arguments* (in this case the array `z`).\n",
    "\n",
    "Similarly, the `append!` function adds the elements of the second array to the end of the first:"
   ]
  },
  {
   "cell_type": "code",
   "execution_count": 6,
   "metadata": {
    "slideshow": {
     "slide_type": "fragment"
    }
   },
   "outputs": [
    {
     "data": {
      "text/plain": [
       "9-element Vector{Float64}:\n",
       "  1.0\n",
       "  2.0\n",
       "  4.0\n",
       " -3.0\n",
       " 10.0\n",
       "  1.1\n",
       "  3.141592653589793\n",
       " -1.3333333333333333\n",
       "  0.1"
      ]
     },
     "execution_count": 6,
     "metadata": {},
     "output_type": "execute_result"
    }
   ],
   "source": [
    "append!(z, y)"
   ]
  },
  {
   "cell_type": "markdown",
   "metadata": {
    "slideshow": {
     "slide_type": "slide"
    }
   },
   "source": [
    "## Accessing the elements of an array\n",
    "\n",
    "We can access an element in an array using an *index* inside square brackets. Julia arrays are *1-based*, meaning that the indices start at `1`. The keyword `end` can be used to refer to the last element of the array, and the function `length(x)` returns the number of elements in the array `x`."
   ]
  },
  {
   "cell_type": "code",
   "execution_count": 7,
   "metadata": {
    "slideshow": {
     "slide_type": "fragment"
    }
   },
   "outputs": [
    {
     "data": {
      "text/plain": [
       "-1.3333333333333333"
      ]
     },
     "execution_count": 7,
     "metadata": {},
     "output_type": "execute_result"
    }
   ],
   "source": [
    "y[3]   # Access the 3rd element in the array y"
   ]
  },
  {
   "cell_type": "code",
   "execution_count": 8,
   "metadata": {
    "slideshow": {
     "slide_type": "fragment"
    }
   },
   "outputs": [
    {
     "data": {
      "text/plain": [
       "9-element Vector{Float64}:\n",
       " -0.13333333333333333\n",
       "  2.0\n",
       "  4.0\n",
       " -3.0\n",
       " 10.0\n",
       "  1.1\n",
       "  3.141592653589793\n",
       " -1.3333333333333333\n",
       "  0.1"
      ]
     },
     "execution_count": 8,
     "metadata": {},
     "output_type": "execute_result"
    }
   ],
   "source": [
    "z[1] = z[end] * z[end-1]      # Set the 1st element in z to the product of the last two elements\n",
    "z                             # To print the entire array"
   ]
  },
  {
   "cell_type": "markdown",
   "metadata": {
    "slideshow": {
     "slide_type": "slide"
    }
   },
   "source": [
    "## Traversing an array\n",
    "\n",
    "A common operation is to traverse the elements of an array. This can be done using a `for`-loop with an index variable:"
   ]
  },
  {
   "cell_type": "code",
   "execution_count": 9,
   "metadata": {
    "slideshow": {
     "slide_type": "fragment"
    }
   },
   "outputs": [
    {
     "name": "stdout",
     "output_type": "stream",
     "text": [
      "Element 1 of the array x has the value 1\n",
      "Element 2 of the array x has the value 2\n",
      "Element 3 of the array x has the value 4\n",
      "Element 4 of the array x has the value -3\n"
     ]
    }
   ],
   "source": [
    "for i = 1:length(x)\n",
    "    println(\"Element \", i, \" of the array x has the value \", x[i])\n",
    "end"
   ]
  },
  {
   "cell_type": "markdown",
   "metadata": {
    "slideshow": {
     "slide_type": "subslide"
    }
   },
   "source": [
    "An alternative syntax uses the `in` keyword, and does not need an index variable:"
   ]
  },
  {
   "cell_type": "code",
   "execution_count": 10,
   "metadata": {
    "slideshow": {
     "slide_type": "fragment"
    }
   },
   "outputs": [
    {
     "name": "stdout",
     "output_type": "stream",
     "text": [
      "This element of x has the value 1\n",
      "This element of x has the value 2\n",
      "This element of x has the value 4\n",
      "This element of x has the value -3\n"
     ]
    }
   ],
   "source": [
    "for element in x\n",
    "    println(\"This element of x has the value \", element)\n",
    "end"
   ]
  },
  {
   "cell_type": "markdown",
   "metadata": {
    "slideshow": {
     "slide_type": "slide"
    }
   },
   "source": [
    "## Example: Sieve of Eratosthenes\n",
    "\n",
    "The sieve of Eratosthenes is a simple, ancient algorithm for finding all prime numbers up to any given limit $n$. From Wikipedia:\n",
    "\n",
    "1. Create a list of consecutive integers from $2$ through $n$: $(2, 3, 4, ..., n)$.\n",
    "2. Initially, let $p$ equal $2$, the smallest prime number.\n",
    "3. Enumerate the multiples of $p$ by counting in increments of $p$ from $2p$ to $n$, and mark them in the list (these will be $2p$, $3p$, $4p$, ...; the $p$ itself should not be marked).\n",
    "4. Find the first number greater than $p$ in the list that is not marked. If there was no such number, stop. Otherwise, let $p$ now equal this new number (which is the next prime), and repeat from step 3.\n",
    "5. When the algorithm terminates, the numbers remaining not marked in the list are all the primes below $n$.\n",
    "\n",
    "As a refinement, it is sufficient to mark the numbers in step 3 starting from $p^2$, as all the smaller multiples of $p$ will have already been marked at that point. This means that the algorithm is allowed to terminate in step 4 when $p^2$ is greater than $n$."
   ]
  },
  {
   "cell_type": "markdown",
   "metadata": {
    "slideshow": {
     "slide_type": "subslide"
    }
   },
   "source": [
    "Wikipedia also provides an animation to illustrate the method:\n",
    "\n",
    "![Wikipedia Sieve of Eratosthenes animation](sieve_of_eratosthenes.gif \"Sieve of Eratosthenes\")"
   ]
  },
  {
   "cell_type": "markdown",
   "metadata": {
    "slideshow": {
     "slide_type": "subslide"
    }
   },
   "source": [
    "An implementation of the algorithm is shown below. The only remaining new function we need for this is the `floor` function, to find the largest integer such that $p^2\\le n$. This can be found using `isqrt(n)`, which returns the largest integer less than or equal to $\\sqrt{n}$."
   ]
  },
  {
   "cell_type": "code",
   "execution_count": 11,
   "metadata": {
    "slideshow": {
     "slide_type": "fragment"
    }
   },
   "outputs": [
    {
     "data": {
      "text/plain": [
       "SieveOfEratosthenes (generic function with 1 method)"
      ]
     },
     "execution_count": 11,
     "metadata": {},
     "output_type": "execute_result"
    }
   ],
   "source": [
    "function SieveOfEratosthenes(n)\n",
    "    # Create a boolean array of length n, initialize all entries to as true\n",
    "    # After the algorithm finishes, prime[i] will be true is i≥2 is a prime\n",
    "    prime = trues(n)\n",
    "    \n",
    "    for p = 2:isqrt(n)\n",
    "        if prime[p]\n",
    "            for i = p^2:p:n\n",
    "                prime[i] = false\n",
    "            end\n",
    "        end\n",
    "    end\n",
    "    \n",
    "    # Return an array with all prime numbers\n",
    "    primes = Int64[]\n",
    "    for i = 2:n\n",
    "        if prime[i]\n",
    "            push!(primes, i)\n",
    "        end\n",
    "    end\n",
    "    primes\n",
    "end"
   ]
  },
  {
   "cell_type": "code",
   "execution_count": 12,
   "metadata": {
    "slideshow": {
     "slide_type": "subslide"
    }
   },
   "outputs": [
    {
     "name": "stdout",
     "output_type": "stream",
     "text": [
      "[2, 3, 5, 7, 11, 13, 17, 19, 23, 29, 31, 37, 41, 43, 47, 53, 59, 61, 67, 71, 73, 79, 83, 89, 97]\n"
     ]
    }
   ],
   "source": [
    "println(SieveOfEratosthenes(100))            # All prime numbers up to 100"
   ]
  },
  {
   "cell_type": "code",
   "execution_count": 13,
   "metadata": {
    "slideshow": {
     "slide_type": "fragment"
    }
   },
   "outputs": [
    {
     "name": "stdout",
     "output_type": "stream",
     "text": [
      "999983\n"
     ]
    }
   ],
   "source": [
    "println(SieveOfEratosthenes(1000000)[end])   # The largest prime number less than 1,000,000"
   ]
  },
  {
   "cell_type": "markdown",
   "metadata": {
    "slideshow": {
     "slide_type": "slide"
    }
   },
   "source": [
    "## The dot-syntax: Vectorized operators and functions\n",
    "\n",
    "Julia provides a convenient dot-syntax to perform *element-by-element operations* on an array.\n",
    "\n",
    "- For every binary operator, e.g. `*`, there is a corresponding *dot operator* `.*` which is automatically defined to perform the `*` operation element-by-element.\n",
    "\n",
    "- Any function `f` can be applied elementwise to an array by using the automatically defined function `f.`\n",
    "\n",
    "These dot-operators are illustrated in the examples below."
   ]
  },
  {
   "cell_type": "code",
   "execution_count": 14,
   "metadata": {
    "slideshow": {
     "slide_type": "fragment"
    }
   },
   "outputs": [
    {
     "data": {
      "text/plain": [
       "3-element Vector{Float64}:\n",
       "  0.2\n",
       " 12.0\n",
       " 15.5"
      ]
     },
     "execution_count": 14,
     "metadata": {},
     "output_type": "execute_result"
    }
   ],
   "source": [
    "x = [1, 3, 5]\n",
    "y = [0.2, 4.0 , 3.1]\n",
    "z = x .* y   # Element-by-element multiplication"
   ]
  },
  {
   "cell_type": "code",
   "execution_count": 15,
   "metadata": {
    "slideshow": {
     "slide_type": "subslide"
    }
   },
   "outputs": [
    {
     "data": {
      "text/plain": [
       "3-element Vector{Float64}:\n",
       " 1.0\n",
       " 1.7320508075688772\n",
       " 2.23606797749979"
      ]
     },
     "execution_count": 15,
     "metadata": {},
     "output_type": "execute_result"
    }
   ],
   "source": [
    "sqrt.(x)     # Element-by-element square roots"
   ]
  },
  {
   "cell_type": "code",
   "execution_count": 16,
   "metadata": {
    "slideshow": {
     "slide_type": "fragment"
    }
   },
   "outputs": [
    {
     "data": {
      "text/plain": [
       "3-element Vector{Float64}:\n",
       "  1.4472135954999579\n",
       " 11.0\n",
       " 21.920151004054308"
      ]
     },
     "execution_count": 16,
     "metadata": {},
     "output_type": "execute_result"
    }
   ],
   "source": [
    "w = x .+ sqrt.(y .^ x)      # More complex mathematical expression, element-by-element"
   ]
  },
  {
   "cell_type": "markdown",
   "metadata": {
    "slideshow": {
     "slide_type": "subslide"
    }
   },
   "source": [
    "For elementwise complex expressions such as in the last example, Julia provides a `@.` syntax that makes all operators in the expression be applied elementwise:"
   ]
  },
  {
   "cell_type": "code",
   "execution_count": 17,
   "metadata": {
    "slideshow": {
     "slide_type": "fragment"
    }
   },
   "outputs": [
    {
     "data": {
      "text/plain": [
       "3-element Vector{Float64}:\n",
       "  1.4472135954999579\n",
       " 11.0\n",
       " 21.920151004054308"
      ]
     },
     "execution_count": 17,
     "metadata": {},
     "output_type": "execute_result"
    }
   ],
   "source": [
    "@. x + sqrt(y^x)       # Same as before"
   ]
  },
  {
   "cell_type": "markdown",
   "metadata": {
    "slideshow": {
     "slide_type": "subslide"
    }
   },
   "source": [
    "When using the dot-operator on binary operations, the two arrays much have the same number of elements:"
   ]
  },
  {
   "cell_type": "code",
   "execution_count": 18,
   "metadata": {
    "slideshow": {
     "slide_type": "fragment"
    }
   },
   "outputs": [
    {
     "ename": "LoadError",
     "evalue": "DimensionMismatch: arrays could not be broadcast to a common size; got a dimension with lengths 3 and 4",
     "output_type": "error",
     "traceback": [
      "DimensionMismatch: arrays could not be broadcast to a common size; got a dimension with lengths 3 and 4",
      "",
      "Stacktrace:",
      " [1] _bcs1",
      "   @ ./broadcast.jl:529 [inlined]",
      " [2] _bcs",
      "   @ ./broadcast.jl:523 [inlined]",
      " [3] broadcast_shape",
      "   @ ./broadcast.jl:517 [inlined]",
      " [4] combine_axes",
      "   @ ./broadcast.jl:512 [inlined]",
      " [5] instantiate",
      "   @ ./broadcast.jl:294 [inlined]",
      " [6] materialize(bc::Base.Broadcast.Broadcasted{Base.Broadcast.DefaultArrayStyle{1}, Nothing, typeof(*), Tuple{Vector{Int64}, Vector{Float64}}})",
      "   @ Base.Broadcast ./broadcast.jl:873",
      " [7] top-level scope",
      "   @ In[18]:2"
     ]
    }
   ],
   "source": [
    "push!(y, 7)\n",
    "x .* y      # Error: arrays must have same number of elements"
   ]
  },
  {
   "cell_type": "markdown",
   "metadata": {
    "slideshow": {
     "slide_type": "subslide"
    }
   },
   "source": [
    "However, if one of the arguments to the operator is a scalar, it is interpreted as a constant vector of the correct size:"
   ]
  },
  {
   "cell_type": "code",
   "execution_count": 19,
   "metadata": {
    "slideshow": {
     "slide_type": "fragment"
    }
   },
   "outputs": [
    {
     "data": {
      "text/plain": [
       "3-element Vector{Int64}:\n",
       "  -3\n",
       "  -9\n",
       " -15"
      ]
     },
     "execution_count": 19,
     "metadata": {},
     "output_type": "execute_result"
    }
   ],
   "source": [
    "x .* -3"
   ]
  },
  {
   "cell_type": "markdown",
   "metadata": {
    "slideshow": {
     "slide_type": "fragment"
    }
   },
   "source": [
    "The dot-syntax also works as expected for numerical literal coefficients:"
   ]
  },
  {
   "cell_type": "code",
   "execution_count": 20,
   "metadata": {
    "slideshow": {
     "slide_type": "fragment"
    }
   },
   "outputs": [
    {
     "data": {
      "text/plain": [
       "3-element Vector{Int64}:\n",
       "  -3\n",
       "  -9\n",
       " -15"
      ]
     },
     "execution_count": 20,
     "metadata": {},
     "output_type": "execute_result"
    }
   ],
   "source": [
    "-3x"
   ]
  },
  {
   "cell_type": "markdown",
   "metadata": {
    "slideshow": {
     "slide_type": "subslide"
    }
   },
   "source": [
    "Note that the dot-syntax is automatically defined even for new functions:"
   ]
  },
  {
   "cell_type": "code",
   "execution_count": 21,
   "metadata": {
    "slideshow": {
     "slide_type": "fragment"
    }
   },
   "outputs": [
    {
     "data": {
      "text/plain": [
       "pick_largest (generic function with 1 method)"
      ]
     },
     "execution_count": 21,
     "metadata": {},
     "output_type": "execute_result"
    }
   ],
   "source": [
    "function pick_largest(x, y)\n",
    "    if x > y\n",
    "        return x\n",
    "    else\n",
    "        return y\n",
    "    end\n",
    "end"
   ]
  },
  {
   "cell_type": "code",
   "execution_count": 22,
   "metadata": {
    "slideshow": {
     "slide_type": "fragment"
    }
   },
   "outputs": [
    {
     "name": "stdout",
     "output_type": "stream",
     "text": [
      "z = [0.2, 12.0, 15.5]\n",
      "w = [1.4472135954999579, 11.0, 21.920151004054308]\n",
      "elementwise largest = [1.4472135954999579, 12.0, 21.920151004054308]\n"
     ]
    }
   ],
   "source": [
    "println(\"z = \", z)\n",
    "println(\"w = \", w)\n",
    "println(\"elementwise largest = \", pick_largest.(z,w))"
   ]
  },
  {
   "cell_type": "markdown",
   "metadata": {
    "slideshow": {
     "slide_type": "slide"
    }
   },
   "source": [
    "## Array slices\n",
    "\n",
    "An array can be *sliced*, which means extracting a subset of the original array. This subset can be expressed as a range of indices, similar to the for-loop syntax, or more generally it can be any vector of integer indices."
   ]
  },
  {
   "cell_type": "code",
   "execution_count": 23,
   "metadata": {
    "slideshow": {
     "slide_type": "fragment"
    }
   },
   "outputs": [
    {
     "name": "stdout",
     "output_type": "stream",
     "text": [
      "[0.2, 4.0, 3.1, 7.0]\n",
      "[0.2, 4.0, 3.1]\n",
      "[0.2, 3.1]\n",
      "[7.0, 3.1, 4.0]\n",
      "Float64[]\n",
      "[0.2, 4.0, 3.1, 7.0]\n",
      "[7.0, 4.0, 7.0, 3.1, 3.1]\n"
     ]
    }
   ],
   "source": [
    "println(y)               # Original vector\n",
    "println(y[1:3])          # First 3 elements\n",
    "println(y[1:2:4])        # All odd-numbered elements\n",
    "println(y[end:-1:2])     # From end back to second element in reverse\n",
    "println(y[4:3])          # Empty subset\n",
    "println(y[:])            # All elements (same as original vector)\n",
    "println(y[[4,2,4,3,3]])  # Index by vector - pick elements 4,2,4,3,3"
   ]
  },
  {
   "cell_type": "markdown",
   "metadata": {
    "slideshow": {
     "slide_type": "subslide"
    }
   },
   "source": [
    "These so-called *ranges* can also be used to define the array itself. For example:\n",
    "```julia\n",
    "    x = 1:8\n",
    "```\n",
    "will define an object that can be used as an array. If needed, the matrix can be explicitly created using the `collect` function:"
   ]
  },
  {
   "cell_type": "code",
   "execution_count": 24,
   "metadata": {
    "slideshow": {
     "slide_type": "fragment"
    }
   },
   "outputs": [
    {
     "data": {
      "text/plain": [
       "3-element Vector{Int64}:\n",
       " 1\n",
       " 2\n",
       " 3"
      ]
     },
     "execution_count": 24,
     "metadata": {},
     "output_type": "execute_result"
    }
   ],
   "source": [
    "x1 = collect(1:3)"
   ]
  },
  {
   "cell_type": "code",
   "execution_count": 25,
   "metadata": {
    "slideshow": {
     "slide_type": "fragment"
    }
   },
   "outputs": [
    {
     "data": {
      "text/plain": [
       "6-element Vector{Float64}:\n",
       " 10.0\n",
       "  7.5\n",
       "  5.0\n",
       "  2.5\n",
       "  0.0\n",
       " -2.5"
      ]
     },
     "execution_count": 25,
     "metadata": {},
     "output_type": "execute_result"
    }
   ],
   "source": [
    "x2 = collect(10:-2.5:-3)"
   ]
  },
  {
   "cell_type": "markdown",
   "metadata": {
    "slideshow": {
     "slide_type": "slide"
    }
   },
   "source": [
    "## Arrays are passed by sharing\n",
    "\n",
    "When assigning arrays to new variables or passing them to functions, they still refer to the same array. This behavior is natural for performance reasons (or Julia would have to make a copy), but can be confusing for people used to e.g. MATLAB."
   ]
  },
  {
   "cell_type": "code",
   "execution_count": 26,
   "metadata": {
    "slideshow": {
     "slide_type": "fragment"
    }
   },
   "outputs": [
    {
     "name": "stdout",
     "output_type": "stream",
     "text": [
      "y = [1, 123, 3]\n",
      "x = [1, 123, 3]\n"
     ]
    }
   ],
   "source": [
    "x = [1, -2, 3]\n",
    "y = x\n",
    "y[2] = 123\n",
    "println(\"y = \", y)\n",
    "println(\"x = \", x)"
   ]
  },
  {
   "cell_type": "markdown",
   "metadata": {
    "slideshow": {
     "slide_type": "subslide"
    }
   },
   "source": [
    "Note how the original array `x` also changed when an entry of `y` was modified. This is because the statement `y = x` only created a *shared reference* to the same array. If you really want a new copy which is independent of the original array, use the `copy` function:"
   ]
  },
  {
   "cell_type": "code",
   "execution_count": 27,
   "metadata": {
    "slideshow": {
     "slide_type": "fragment"
    }
   },
   "outputs": [
    {
     "name": "stdout",
     "output_type": "stream",
     "text": [
      "z = [1, 123, -53]\n",
      "x = [1, 123, 3]\n"
     ]
    }
   ],
   "source": [
    "z = copy(x)\n",
    "z[3] = -53\n",
    "println(\"z = \", z)\n",
    "println(\"x = \", x)"
   ]
  },
  {
   "cell_type": "markdown",
   "metadata": {
    "slideshow": {
     "slide_type": "subslide"
    }
   },
   "source": [
    "The situation is the same when passing arrays to functions. For example:"
   ]
  },
  {
   "cell_type": "code",
   "execution_count": 28,
   "metadata": {
    "slideshow": {
     "slide_type": "fragment"
    }
   },
   "outputs": [
    {
     "name": "stdout",
     "output_type": "stream",
     "text": [
      "x = 0\n",
      "x = [111.0 111.0 111.0 111.0 111.0]\n"
     ]
    }
   ],
   "source": [
    "function modify_scalar(x)\n",
    "    x = 111\n",
    "    return nothing\n",
    "end\n",
    "\n",
    "function modify_vector!(x)\n",
    "    x[:] .= 111\n",
    "    return nothing\n",
    "end\n",
    "\n",
    "x = 0\n",
    "modify_scalar(x)\n",
    "println(\"x = \", x)    # Still 0 - function does not modify a scalar\n",
    "\n",
    "x = zeros(1,5)\n",
    "modify_vector!(x)\n",
    "println(\"x = \", x)    # Function modifies the original vector"
   ]
  },
  {
   "cell_type": "markdown",
   "metadata": {
    "slideshow": {
     "slide_type": "fragment"
    }
   },
   "source": [
    "Because of this behavior, Julia recommends using an exclamation mark at the end of functions that might modify any of its arguments as an alert (but it is not enforced)."
   ]
  },
  {
   "cell_type": "code",
   "execution_count": null,
   "metadata": {},
   "outputs": [],
   "source": []
  }
 ],
 "metadata": {
  "kernelspec": {
   "display_name": "Julia 1.9.2",
   "language": "julia",
   "name": "julia-1.9"
  },
  "language_info": {
   "file_extension": ".jl",
   "mimetype": "application/julia",
   "name": "julia",
   "version": "1.9.2"
  }
 },
 "nbformat": 4,
 "nbformat_minor": 2
}