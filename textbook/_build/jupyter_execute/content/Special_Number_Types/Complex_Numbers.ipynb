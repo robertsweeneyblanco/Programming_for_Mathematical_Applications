{
 "cells": [
  {
   "cell_type": "markdown",
   "metadata": {
    "slideshow": {
     "slide_type": "slide"
    }
   },
   "source": [
    "# Complex numbers\n",
    "\n",
    "Complex numbers can be created using the global constant `im` for the imaginary unit $\\sqrt{-1}$:"
   ]
  },
  {
   "cell_type": "code",
   "execution_count": 1,
   "metadata": {
    "slideshow": {
     "slide_type": "fragment"
    }
   },
   "outputs": [
    {
     "data": {
      "text/plain": [
       "5 - 3im"
      ]
     },
     "execution_count": 1,
     "metadata": {},
     "output_type": "execute_result"
    }
   ],
   "source": [
    "a = 5 - 3im"
   ]
  },
  {
   "cell_type": "markdown",
   "metadata": {
    "slideshow": {
     "slide_type": "fragment"
    }
   },
   "source": [
    "or alternatively using the syntax `complex(real,imag)`:"
   ]
  },
  {
   "cell_type": "code",
   "execution_count": 2,
   "metadata": {
    "slideshow": {
     "slide_type": "fragment"
    }
   },
   "outputs": [
    {
     "data": {
      "text/plain": [
       "5 + 3im"
      ]
     },
     "execution_count": 2,
     "metadata": {},
     "output_type": "execute_result"
    }
   ],
   "source": [
    "b = complex(5,3)"
   ]
  },
  {
   "cell_type": "code",
   "execution_count": 3,
   "metadata": {
    "slideshow": {
     "slide_type": "fragment"
    }
   },
   "outputs": [
    {
     "data": {
      "text/plain": [
       "5.0 + 0.75im"
      ]
     },
     "execution_count": 3,
     "metadata": {},
     "output_type": "execute_result"
    }
   ],
   "source": [
    "c = 5 + (3/4)im      # Parentheses needed since 3/4im == 3/(4im) "
   ]
  },
  {
   "cell_type": "markdown",
   "metadata": {
    "slideshow": {
     "slide_type": "slide"
    }
   },
   "source": [
    "The standard operations work as expected for complex arguments:"
   ]
  },
  {
   "cell_type": "code",
   "execution_count": 4,
   "metadata": {
    "slideshow": {
     "slide_type": "fragment"
    }
   },
   "outputs": [
    {
     "data": {
      "text/plain": [
       "34 + 0im"
      ]
     },
     "execution_count": 4,
     "metadata": {},
     "output_type": "execute_result"
    }
   ],
   "source": [
    "a * b"
   ]
  },
  {
   "cell_type": "code",
   "execution_count": 5,
   "metadata": {
    "slideshow": {
     "slide_type": "fragment"
    }
   },
   "outputs": [
    {
     "data": {
      "text/plain": [
       "0.4705882352941177 - 0.8823529411764706im"
      ]
     },
     "execution_count": 5,
     "metadata": {},
     "output_type": "execute_result"
    }
   ],
   "source": [
    "a / b"
   ]
  },
  {
   "cell_type": "code",
   "execution_count": 6,
   "metadata": {
    "slideshow": {
     "slide_type": "fragment"
    }
   },
   "outputs": [
    {
     "data": {
      "text/plain": [
       "0 + 2im"
      ]
     },
     "execution_count": 6,
     "metadata": {},
     "output_type": "execute_result"
    }
   ],
   "source": [
    "(1 + im)^2"
   ]
  },
  {
   "cell_type": "markdown",
   "metadata": {
    "slideshow": {
     "slide_type": "slide"
    }
   },
   "source": [
    "Several functions are provided for manipulation of complex numbers (from the Julia documentation):\n",
    "```julia\n",
    "julia> z = 1 + 2im\n",
    "1 + 2im\n",
    "\n",
    "julia> real(1 + 2im) # real part of z\n",
    "1\n",
    "\n",
    "julia> imag(1 + 2im) # imaginary part of z\n",
    "2\n",
    "\n",
    "julia> conj(1 + 2im) # complex conjugate of z\n",
    "1 - 2im\n",
    "\n",
    "julia> abs(1 + 2im) # absolute value of z\n",
    "2.23606797749979\n",
    "\n",
    "julia> abs2(1 + 2im) # squared absolute value\n",
    "5\n",
    "\n",
    "julia> angle(1 + 2im) # phase angle in radians\n",
    "1.1071487177940904\n",
    "```"
   ]
  },
  {
   "cell_type": "markdown",
   "metadata": {
    "slideshow": {
     "slide_type": "slide"
    }
   },
   "source": [
    "Also most elementary functions are defined for complex arguments (from the Julia documentation):\n",
    "```julia\n",
    "julia> sqrt(1im)\n",
    "0.7071067811865476 + 0.7071067811865475im\n",
    "\n",
    "julia> sqrt(1 + 2im)\n",
    "1.272019649514069 + 0.7861513777574233im\n",
    "\n",
    "julia> cos(1 + 2im)\n",
    "2.0327230070196656 - 3.0518977991518im\n",
    "\n",
    "julia> exp(1 + 2im)\n",
    "-1.1312043837568135 + 2.4717266720048188im\n",
    "\n",
    "julia> sinh(1 + 2im)\n",
    "-0.4890562590412937 + 1.4031192506220405im\n",
    "```"
   ]
  },
  {
   "cell_type": "markdown",
   "metadata": {
    "slideshow": {
     "slide_type": "slide"
    }
   },
   "source": [
    "Note that these functions typically return real values when applied to real numbers and complex values when applied to complex numbers:"
   ]
  },
  {
   "cell_type": "code",
   "execution_count": 7,
   "metadata": {
    "slideshow": {
     "slide_type": "fragment"
    }
   },
   "outputs": [
    {
     "data": {
      "text/plain": [
       "0.0 + 1.0im"
      ]
     },
     "execution_count": 7,
     "metadata": {},
     "output_type": "execute_result"
    }
   ],
   "source": [
    "sqrt(-1.0 + 0im)  # OK, complex input gives complex output"
   ]
  },
  {
   "cell_type": "code",
   "execution_count": 8,
   "metadata": {
    "slideshow": {
     "slide_type": "fragment"
    }
   },
   "outputs": [
    {
     "ename": "LoadError",
     "evalue": "DomainError with -1.0:\nsqrt will only return a complex result if called with a complex argument. Try sqrt(Complex(x)).",
     "output_type": "error",
     "traceback": [
      "DomainError with -1.0:\nsqrt will only return a complex result if called with a complex argument. Try sqrt(Complex(x)).",
      "",
      "Stacktrace:",
      " [1] throw_complex_domainerror(f::Symbol, x::Float64)",
      "   @ Base.Math ./math.jl:33",
      " [2] sqrt(x::Float64)",
      "   @ Base.Math ./math.jl:677",
      " [3] top-level scope",
      "   @ In[8]:1"
     ]
    }
   ],
   "source": [
    "sqrt(-1.0)        # Error - real input but needs complex output"
   ]
  },
  {
   "cell_type": "markdown",
   "metadata": {
    "slideshow": {
     "slide_type": "slide"
    }
   },
   "source": [
    "## Example: Roots of quadratic function\n",
    "\n",
    "We can now update our previous example of the quadratic formula to handle all cases, including complex roots. We make sure that the argument to the `sqrt` function is complex:"
   ]
  },
  {
   "cell_type": "code",
   "execution_count": 9,
   "metadata": {
    "slideshow": {
     "slide_type": "fragment"
    }
   },
   "outputs": [
    {
     "data": {
      "text/plain": [
       "roots_of_quadratic (generic function with 1 method)"
      ]
     },
     "execution_count": 9,
     "metadata": {},
     "output_type": "execute_result"
    }
   ],
   "source": [
    "function roots_of_quadratic(a,b,c)\n",
    "    # Compute the roots of the quadratic ax^2 + bx + c = 0\n",
    "    d = sqrt(complex(b^2 - 4*a*c))\n",
    "    r1 = (-b - d) / 2a\n",
    "    r2 = (-b + d) / 2a\n",
    "    r1, r2\n",
    "end"
   ]
  },
  {
   "cell_type": "code",
   "execution_count": 10,
   "metadata": {
    "slideshow": {
     "slide_type": "fragment"
    }
   },
   "outputs": [
    {
     "data": {
      "text/plain": [
       "(0.0 - 1.0im, 0.0 + 1.0im)"
      ]
     },
     "execution_count": 10,
     "metadata": {},
     "output_type": "execute_result"
    }
   ],
   "source": [
    "roots_of_quadratic(1,0,1)"
   ]
  },
  {
   "cell_type": "code",
   "execution_count": 11,
   "metadata": {
    "slideshow": {
     "slide_type": "fragment"
    }
   },
   "outputs": [
    {
     "data": {
      "text/plain": [
       "(-2.0 - 3.0im, -2.0 + 3.0im)"
      ]
     },
     "execution_count": 11,
     "metadata": {},
     "output_type": "execute_result"
    }
   ],
   "source": [
    "roots_of_quadratic(1,4,13)"
   ]
  },
  {
   "cell_type": "markdown",
   "metadata": {
    "slideshow": {
     "slide_type": "subslide"
    }
   },
   "source": [
    "Note that this implementation will return complex numbers even if the roots are real:"
   ]
  },
  {
   "cell_type": "code",
   "execution_count": 12,
   "metadata": {
    "slideshow": {
     "slide_type": "fragment"
    }
   },
   "outputs": [
    {
     "data": {
      "text/plain": [
       "(6.0 + 0.0im, -1.0 - 0.0im)"
      ]
     },
     "execution_count": 12,
     "metadata": {},
     "output_type": "execute_result"
    }
   ],
   "source": [
    "roots_of_quadratic(-1,5,6)"
   ]
  },
  {
   "cell_type": "markdown",
   "metadata": {
    "slideshow": {
     "slide_type": "fragment"
    }
   },
   "source": [
    "If desired, one could easily write the function such that it returns real numbers for these cases."
   ]
  }
 ],
 "metadata": {
  "kernelspec": {
   "display_name": "Julia 1.9.2",
   "language": "julia",
   "name": "julia-1.9"
  },
  "language_info": {
   "file_extension": ".jl",
   "mimetype": "application/julia",
   "name": "julia",
   "version": "1.9.2"
  }
 },
 "nbformat": 4,
 "nbformat_minor": 2
}