{
 "cells": [
  {
   "cell_type": "markdown",
   "metadata": {},
   "source": [
    "# Special Matrices"
   ]
  },
  {
   "cell_type": "code",
   "execution_count": 1,
   "metadata": {},
   "outputs": [],
   "source": [
    "using LinearAlgebra"
   ]
  },
  {
   "cell_type": "markdown",
   "metadata": {
    "slideshow": {
     "slide_type": "slide"
    }
   },
   "source": [
    "So far, we have used general-purpose 2D arrays that can represent any arbitrary matrix. However, many applications involve matrices with special structures (e.g., symmetric, diagonal, triangular). \n",
    "\n",
    "Julia provides a rich set of specialized matrix types to handle these cases. Using them has two major benefits:\n",
    "1.  **Performance**: Operations can be orders of magnitude faster and use significantly less memory.\n",
    "2.  **Correctness**: Enforcing a structure (like symmetry) can help ensure your algorithms are correct.\n",
    "\n",
    "| Type                | Description                                                                                  |\n",
    "|:--------------------|:---------------------------------------------------------------------------------------------|\n",
    "| `Symmetric`         | [Symmetric matrix](https://en.wikipedia.org/wiki/Symmetric_matrix)                           |\n",
    "| `Hermitian`         | [Hermitian matrix](https://en.wikipedia.org/wiki/Hermitian_matrix)                           |\n",
    "| `UpperTriangular`   | Upper [triangular matrix](https://en.wikipedia.org/wiki/Triangular_matrix)                   |\n",
    "| `UnitUpperTriangular` | Upper [triangular matrix](https://en.wikipedia.org/wiki/Triangular_matrix) with unit diagonal  |\n",
    "| `LowerTriangular`   | Lower [triangular matrix](https://en.wikipedia.org/wiki/Triangular_matrix)                   |\n",
    "| `UnitLowerTriangular` | Lower [triangular matrix](https://en.wikipedia.org/wiki/Triangular_matrix) with unit diagonal  |\n",
    "| `Tridiagonal`       | [Tridiagonal matrix](https://en.wikipedia.org/wiki/Tridiagonal_matrix)                       |\n",
    "| `SymTridiagonal`    | Symmetric tridiagonal matrix                                                                 |\n",
    "| `Bidiagonal`        | Upper/lower [bidiagonal matrix](https://en.wikipedia.org/wiki/Bidiagonal_matrix)             |\n",
    "| `Diagonal`          | [Diagonal matrix](https://en.wikipedia.org/wiki/Diagonal_matrix)                             |\n",
    "| `UniformScaling`    | A uniform scaling operator, `α*I`                                                            |"
   ]
  },
  {
   "cell_type": "markdown",
   "metadata": {
    "slideshow": {
     "slide_type": "slide"
    }
   },
   "source": [
    "For example, if you know that your matrix is both symmetric and tridiagonal, you can use the `SymTridiagonal` type. The example below shows how to construct the 1D discrete Laplacian, a matrix that appears frequently when solving differential equations."
   ]
  },
  {
   "cell_type": "code",
   "execution_count": 2,
   "metadata": {
    "slideshow": {
     "slide_type": "fragment"
    }
   },
   "outputs": [
    {
     "data": {
      "text/plain": [
       "5×5 SymTridiagonal{Float64, Vector{Float64}}:\n",
       "  2.0  -1.0    ⋅     ⋅     ⋅ \n",
       " -1.0   2.0  -1.0    ⋅     ⋅ \n",
       "   ⋅   -1.0   2.0  -1.0    ⋅ \n",
       "   ⋅     ⋅   -1.0   2.0  -1.0\n",
       "   ⋅     ⋅     ⋅   -1.0   2.0"
      ]
     },
     "execution_count": 2,
     "metadata": {},
     "output_type": "execute_result"
    }
   ],
   "source": [
    "T = SymTridiagonal(2ones(5), -ones(4))"
   ]
  },
  {
   "cell_type": "markdown",
   "metadata": {
    "slideshow": {
     "slide_type": "subslide"
    }
   },
   "source": [
    "The standard matrix operations will work just as before on these specialized types, but Julia will dispatch to highly efficient, specialized algorithms."
   ]
  },
  {
   "cell_type": "code",
   "execution_count": 3,
   "metadata": {
    "slideshow": {
     "slide_type": "fragment"
    }
   },
   "outputs": [
    {
     "data": {
      "text/plain": [
       "5×5 Matrix{Float64}:\n",
       "  14.0  -14.0    6.0   -1.0    0.0\n",
       " -14.0   20.0  -15.0    6.0   -1.0\n",
       "   6.0  -15.0   20.0  -15.0    6.0\n",
       "  -1.0    6.0  -15.0   20.0  -14.0\n",
       "   0.0   -1.0    6.0  -14.0   14.0"
      ]
     },
     "execution_count": 3,
     "metadata": {},
     "output_type": "execute_result"
    }
   ],
   "source": [
    "T * randn(5) # Matrix-vector multiplication\n",
    "T^3          # Matrix cube"
   ]
  },
  {
   "cell_type": "markdown",
   "metadata": {},
   "source": [
    "### Example: Dramatic Improvement in Scaling Performance\n",
    "\n",
    "The real power of these specialized types becomes obvious when working with large matrices. Let's consider a `1,000,000 x 1,000,000` tridiagonal matrix.\n",
    "\n",
    "If we were to store this as a standard `Matrix{Float64}`, it would require `1,000,000 * 1,000,000 * 8` bytes of memory, which is **8 terabytes**! That's far more RAM than any standard computer has.\n",
    "\n",
    "By using `SymTridiagonal`, we only store the diagonal and off-diagonal elements, making the problem tractable. Furthermore, Julia's `eigvals` function uses specialized, highly efficient algorithms for these matrix types."
   ]
  },
  {
   "cell_type": "code",
   "execution_count": 4,
   "metadata": {},
   "outputs": [
    {
     "name": "stdout",
     "output_type": "stream",
     "text": [
      "  1.692150 seconds (982.77 k allocations: 234.523 MiB, 0.40% gc time, 9.49% compilation time)\n",
      "The 5 smallest eigenvalues are:\n"
     ]
    },
    {
     "data": {
      "text/plain": [
       "5-element Vector{Float64}:\n",
       " 9.869691735229404e-12\n",
       " 3.9478444686844015e-11\n",
       " 8.882637160787986e-11\n",
       " 1.579134638370591e-10\n",
       " 2.4673972355866816e-10"
      ]
     },
     "metadata": {},
     "output_type": "display_data"
    }
   ],
   "source": [
    "n = 1_000_000\n",
    "T_large = SymTridiagonal(2 * ones(n), -ones(n - 1))\n",
    "\n",
    "# This computation is only feasible because of the special matrix type.\n",
    "# It uses a fast algorithm and minimal memory to find the 5 smallest eigenvalues.\n",
    "@time lambda = eigvals(T_large, 1:5);\n",
    "\n",
    "println(\"The 5 smallest eigenvalues are:\")\n",
    "display(lambda)"
   ]
  },
  {
   "cell_type": "markdown",
   "metadata": {},
   "source": [
    "As you can see, the calculation is incredibly fast and memory-efficient. This task would be completely impossible with a standard dense matrix, demonstrating the critical importance of using the right data structure for your problem."
   ]
  },
  {
   "cell_type": "markdown",
   "metadata": {
    "slideshow": {
     "slide_type": "slide"
    }
   },
   "source": [
    "## The Identity Matrix\n",
    "\n",
    "The identity matrix $I$ is so common that it has a special representation, `I`, which is a `UniformScaling` operator. This object acts like an identity matrix of any required size without ever allocating memory for it."
   ]
  },
  {
   "cell_type": "code",
   "execution_count": 5,
   "metadata": {
    "slideshow": {
     "slide_type": "fragment"
    }
   },
   "outputs": [
    {
     "data": {
      "text/plain": [
       "5×5 SymTridiagonal{Float64, Vector{Float64}}:\n",
       "  4.0  -1.0    ⋅     ⋅     ⋅ \n",
       " -1.0   4.0  -1.0    ⋅     ⋅ \n",
       "   ⋅   -1.0   4.0  -1.0    ⋅ \n",
       "   ⋅     ⋅   -1.0   4.0  -1.0\n",
       "   ⋅     ⋅     ⋅   -1.0   4.0"
      ]
     },
     "execution_count": 5,
     "metadata": {},
     "output_type": "execute_result"
    }
   ],
   "source": [
    "# Julia infers that I should be a 5x5 identity matrix to match the size of T.\n",
    "T + 2I"
   ]
  },
  {
   "cell_type": "markdown",
   "metadata": {
    "slideshow": {
     "slide_type": "subslide"
    }
   },
   "source": [
    "If you need to create an explicit, dense identity matrix, you can do so, but this is often unnecessary."
   ]
  },
  {
   "cell_type": "code",
   "execution_count": 6,
   "metadata": {
    "slideshow": {
     "slide_type": "fragment"
    }
   },
   "outputs": [
    {
     "data": {
      "text/plain": [
       "4×4 Matrix{Float64}:\n",
       " 1.0  0.0  0.0  0.0\n",
       " 0.0  1.0  0.0  0.0\n",
       " 0.0  0.0  1.0  0.0\n",
       " 0.0  0.0  0.0  1.0"
      ]
     },
     "execution_count": 6,
     "metadata": {},
     "output_type": "execute_result"
    }
   ],
   "source": [
    "# This creates a standard 4x4 Matrix{Float64}.\n",
    "I4 = Matrix{Float64}(I, 4, 4)"
   ]
  },
  {
   "cell_type": "markdown",
   "metadata": {
    "slideshow": {
     "slide_type": "fragment"
    }
   },
   "source": [
    "In most cases, you can just use the `I` operator directly in your expressions, and Julia will handle the dimensions and calculations efficiently."
   ]
  }
 ],
 "metadata": {
  "kernelspec": {
   "display_name": "Julia 1.11.5",
   "language": "julia",
   "name": "julia-1.11"
  },
  "language_info": {
   "file_extension": ".jl",
   "mimetype": "application/julia",
   "name": "julia",
   "version": "1.11.5"
  }
 },
 "nbformat": 4,
 "nbformat_minor": 4
}