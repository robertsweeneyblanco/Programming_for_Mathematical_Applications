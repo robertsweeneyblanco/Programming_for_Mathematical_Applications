{
 "cells": [
  {
   "cell_type": "markdown",
   "metadata": {
    "slideshow": {
     "slide_type": "slide"
    }
   },
   "source": [
    "# Julia as a Calculator\n",
    "\n",
    "## Arithmetic\n",
    "\n",
    "At its most basic level, you can use Julia as a powerful calculator. Let's start by evaluating some simple arithmetic expressions."
   ]
  },
  {
   "cell_type": "code",
   "execution_count": 1,
   "metadata": {
    "slideshow": {
     "slide_type": "fragment"
    }
   },
   "outputs": [
    {
     "data": {
      "text/plain": [
       "357.9"
      ]
     },
     "execution_count": 1,
     "metadata": {},
     "output_type": "execute_result"
    }
   ],
   "source": [
    "123.4 + 234.5     # The '#' character starts a comment, which is ignored by Julia."
   ]
  },
  {
   "cell_type": "code",
   "execution_count": 2,
   "metadata": {
    "slideshow": {
     "slide_type": "fragment"
    }
   },
   "outputs": [
    {
     "data": {
      "text/plain": [
       "2.3333333333333335"
      ]
     },
     "execution_count": 2,
     "metadata": {},
     "output_type": "execute_result"
    }
   ],
   "source": [
    "7 / 3             # Standard division with `/` always returns a floating-point number."
   ]
  },
  {
   "cell_type": "code",
   "execution_count": 3,
   "metadata": {
    "slideshow": {
     "slide_type": "fragment"
    }
   },
   "outputs": [
    {
     "data": {
      "text/plain": [
       "2"
      ]
     },
     "execution_count": 3,
     "metadata": {},
     "output_type": "execute_result"
    }
   ],
   "source": [
    "7 ÷ 3             # For truncated integer division, use the `÷` operator (type \\div then press Tab)."
   ]
  },
  {
   "cell_type": "code",
   "execution_count": 4,
   "metadata": {
    "slideshow": {
     "slide_type": "fragment"
    }
   },
   "outputs": [
    {
     "data": {
      "text/plain": [
       "1"
      ]
     },
     "execution_count": 4,
     "metadata": {},
     "output_type": "execute_result"
    }
   ],
   "source": [
    "7 % 3             # The `%` operator calculates the remainder of a division."
   ]
  },
  {
   "cell_type": "code",
   "execution_count": 5,
   "metadata": {
    "slideshow": {
     "slide_type": "fragment"
    }
   },
   "outputs": [
    {
     "data": {
      "text/plain": [
       "124"
      ]
     },
     "execution_count": 5,
     "metadata": {},
     "output_type": "execute_result"
    }
   ],
   "source": [
    "2^7 - 4           # An expression involving only integers returns an integer."
   ]
  },
  {
   "cell_type": "code",
   "execution_count": 6,
   "metadata": {
    "slideshow": {
     "slide_type": "subslide"
    }
   },
   "outputs": [
    {
     "data": {
      "text/plain": [
       "-16.499999999999996"
      ]
     },
     "execution_count": 6,
     "metadata": {},
     "output_type": "execute_result"
    }
   ],
   "source": [
    "3 * (4.2 - 9.7)   # Use parentheses to control the order of operations."
   ]
  },
  {
   "cell_type": "code",
   "execution_count": 7,
   "metadata": {
    "slideshow": {
     "slide_type": "fragment"
    }
   },
   "outputs": [],
   "source": [
    "# We'll explore why the previous result isn't exact in a later chapter on floating-point numbers."
   ]
  },
  {
   "cell_type": "code",
   "execution_count": 8,
   "metadata": {
    "slideshow": {
     "slide_type": "fragment"
    }
   },
   "outputs": [
    {
     "data": {
      "text/plain": [
       "5.954136718963118"
      ]
     },
     "execution_count": 8,
     "metadata": {},
     "output_type": "execute_result"
    }
   ],
   "source": [
    "5.6e7 ^ 0.1       # Julia supports scientific notation: `5.6e7` means 5.6 × 10⁷."
   ]
  },
  {
   "cell_type": "markdown",
   "metadata": {
    "slideshow": {
     "slide_type": "subslide"
    }
   },
   "source": [
    "## Multiple Lines in a Cell\n",
    "\n",
    "A Jupyter cell with multiple lines of code will only display the output of the final line."
   ]
  },
  {
   "cell_type": "code",
   "execution_count": 9,
   "metadata": {
    "slideshow": {
     "slide_type": "fragment"
    }
   },
   "outputs": [
    {
     "data": {
      "text/plain": [
       "11.333333333333334"
      ]
     },
     "execution_count": 9,
     "metadata": {},
     "output_type": "execute_result"
    }
   ],
   "source": [
    "1 + 2\n",
    "34 / 3"
   ]
  },
  {
   "cell_type": "markdown",
   "metadata": {
    "slideshow": {
     "slide_type": "fragment"
    }
   },
   "source": [
    "You can suppress the output of any line by ending it with a semicolon (`;`). To display multiple outputs or add descriptive text, use the `println()` function."
   ]
  },
  {
   "cell_type": "code",
   "execution_count": 10,
   "metadata": {
    "slideshow": {
     "slide_type": "fragment"
    }
   },
   "outputs": [
    {
     "name": "stdout",
     "output_type": "stream",
     "text": [
      "3.1\n",
      "The result is -0.000123\n"
     ]
    }
   ],
   "source": [
    "println(1 + 2.1)\n",
    "println(\"The result is \", -123 / 1000000)\n",
    "34 / 3; # This output is suppressed by the semicolon."
   ]
  },
  {
   "cell_type": "markdown",
   "metadata": {
    "slideshow": {
     "slide_type": "slide"
    }
   },
   "source": [
    "## Primitive Numeric Data Types\n",
    "\n",
    "As we've seen, Julia automatically chooses an appropriate data type (like an integer or a floating-point number) for your values. However, it's often useful to understand which types are being used and how to specify them manually.\n",
    "\n",
    "The `typeof()` function reveals the data type of any value:"
   ]
  },
  {
   "cell_type": "code",
   "execution_count": 11,
   "metadata": {
    "slideshow": {
     "slide_type": "fragment"
    }
   },
   "outputs": [
    {
     "data": {
      "text/plain": [
       "Float64"
      ]
     },
     "execution_count": 11,
     "metadata": {},
     "output_type": "execute_result"
    }
   ],
   "source": [
    "typeof(1.23)"
   ]
  },
  {
   "cell_type": "code",
   "execution_count": 12,
   "metadata": {
    "slideshow": {
     "slide_type": "fragment"
    }
   },
   "outputs": [
    {
     "data": {
      "text/plain": [
       "Int64"
      ]
     },
     "execution_count": 12,
     "metadata": {},
     "output_type": "execute_result"
    }
   ],
   "source": [
    "typeof(-745)"
   ]
  },
  {
   "cell_type": "code",
   "execution_count": 13,
   "metadata": {
    "slideshow": {
     "slide_type": "fragment"
    }
   },
   "outputs": [
    {
     "data": {
      "text/plain": [
       "Float64"
      ]
     },
     "execution_count": 13,
     "metadata": {},
     "output_type": "execute_result"
    }
   ],
   "source": [
    "typeof(1e20)"
   ]
  },
  {
   "cell_type": "markdown",
   "metadata": {
    "slideshow": {
     "slide_type": "subslide"
    }
   },
   "source": [
    "#### Integer Types\n",
    "\n",
    "Julia provides a range of *primitive* integer types, which differ in the number of bits they use for storage and whether they can store negative values (signed vs. unsigned).\n",
    "\n",
    "| Type | Signed? | Number of bits | Smallest value | Largest value |\n",
    "|:--- |:--- |:--- |:--- |:--- |\n",
    "| `Int8` | ✓ | 8 | -2^7 | 2^7 - 1 |\n",
    "| `UInt8` | | 8 | 0 | 2^8 - 1 |\n",
    "| `Int16` | ✓ | 16 | -2^15 | 2^15 - 1 |\n",
    "| `UInt16` | | 16 | 0 | 2^16 - 1 |\n",
    "| `Int32` | ✓ | 32 | -2^31 | 2^31 - 1 |\n",
    "| `UInt32` | | 32 | 0 | 2^32 - 1 |\n",
    "| `Int64` | ✓ | 64 | -2^63 | 2^63 - 1 |\n",
    "| `UInt64` | | 64 | 0 | 2^64 - 1 |\n",
    "| `Int128` | ✓ | 128 | -2^127 | 2^127 - 1 |\n",
    "| `UInt128` | | 128 | 0 | 2^128 - 1 |\n",
    "| `Bool` | N/A | 8 | `false` (0) | `true` (1) |"
   ]
  },
  {
   "cell_type": "markdown",
   "metadata": {
    "slideshow": {
     "slide_type": "subslide"
    }
   },
   "source": [
    "The `typemin()` and `typemax()` functions show the range of values a numeric type can represent:"
   ]
  },
  {
   "cell_type": "code",
   "execution_count": 14,
   "metadata": {
    "slideshow": {
     "slide_type": "fragment"
    }
   },
   "outputs": [
    {
     "name": "stdout",
     "output_type": "stream",
     "text": [
      "-9223372036854775808\n",
      "9223372036854775807\n",
      "-170141183460469231731687303715884105728\n",
      "170141183460469231731687303715884105727\n"
     ]
    }
   ],
   "source": [
    "println(typemin(Int64))  # Smallest 64-bit signed integer\n",
    "println(typemax(Int64))  # Largest 64-bit signed integer\n",
    "println(typemin(Int128)) # Smallest 128-bit signed integer\n",
    "println(typemax(Int128)) # Largest 128-bit signed integer"
   ]
  },
  {
   "cell_type": "markdown",
   "metadata": {
    "slideshow": {
     "slide_type": "subslide"
    }
   },
   "source": [
    "On a 64-bit system, Julia's default integer type is `Int64`. If a calculation exceeds the maximum value this type can hold, it results in an **overflow** error, where the number 'wraps around', leading to an incorrect answer. For example, consider the computation of $1000^7$:"
   ]
  },
  {
   "cell_type": "code",
   "execution_count": 15,
   "metadata": {
    "slideshow": {
     "slide_type": "fragment"
    }
   },
   "outputs": [
    {
     "data": {
      "text/plain": [
       "3875820019684212736"
      ]
     },
     "execution_count": 15,
     "metadata": {},
     "output_type": "execute_result"
    }
   ],
   "source": [
    "1000^7 # This calculation overflows, producing an incorrect result."
   ]
  },
  {
   "cell_type": "markdown",
   "metadata": {
    "slideshow": {
     "slide_type": "fragment"
    }
   },
   "source": [
    "This result is clearly wrong. To handle such large numbers, we can explicitly use a larger integer type like `Int128`."
   ]
  },
  {
   "cell_type": "code",
   "execution_count": 16,
   "metadata": {
    "slideshow": {
     "slide_type": "fragment"
    }
   },
   "outputs": [
    {
     "data": {
      "text/plain": [
       "1000000000000000000000"
      ]
     },
     "execution_count": 16,
     "metadata": {},
     "output_type": "execute_result"
    }
   ],
   "source": [
    "Int128(1000)^7 # By converting 1000 to Int128 first, the calculation is correct."
   ]
  },
  {
   "cell_type": "markdown",
   "metadata": {},
   "source": [
    "Choosing the right data type is crucial. For calculations requiring a very high number of digits (limited only by memory and time), Julia provides an **arbitrary-precision** integer type called `BigInt`. You can create one using the `big\"...\"` string macro:"
   ]
  },
  {
   "cell_type": "code",
   "execution_count": 17,
   "metadata": {},
   "outputs": [
    {
     "data": {
      "text/plain": [
       "1000000000000000000000"
      ]
     },
     "execution_count": 17,
     "metadata": {},
     "output_type": "execute_result"
    }
   ],
   "source": [
    "big\"1000\"^7"
   ]
  },
  {
   "cell_type": "code",
   "execution_count": 18,
   "metadata": {},
   "outputs": [
    {
     "data": {
      "text/plain": [
       "1417417260103558770214252423976142668502309843289216833019048237594757708238986182489372231899746980921982728329402793285767462862882464121635860400730716254039942351084846547018518131114125220170734365519774681825663555080960088448187700306662591033835497547065849829393393851336850513516716654954594842407071059129565467264692831108320130483612672587797723547589358874240495338978427064891700798459028240889817739929243620390292500203679620864971533914260827834601579209314189120626901904458486936727622905582367388818325467159626747054599568953786703562122799941680845141148189896305104641344839457223830507901762718528867396981775965176554700698356765830690713630912519126290583362303892345035739308972274807594103376959348593678587147932967060392101430789829817061010598621196674073173467189374435975660010000000000000000000000000000000000000000000000000000000000000000000000000000000000000000000000000000"
      ]
     },
     "execution_count": 18,
     "metadata": {},
     "output_type": "execute_result"
    }
   ],
   "source": [
    "big\"1234567890\"^100 # This calculation is exact, thanks to BigInt."
   ]
  },
  {
   "cell_type": "markdown",
   "metadata": {},
   "source": [
    "Note that when an expression involves a `BigInt` and a standard integer (like the exponents above), Julia automatically **promotes** the entire calculation to use `BigInt` to maintain precision.\n",
    "\n",
    "We'll dive deeper into these special number types in a later chapter."
   ]
  },
  {
   "cell_type": "markdown",
   "metadata": {
    "slideshow": {
     "slide_type": "subslide"
    }
   },
   "source": [
    "#### Floating-Point Types\n",
    "\n",
    "Julia also has primitive floating-point types for representing real numbers:\n",
    "\n",
    "| Type | Precision | Number of bits |\n",
    "|:--- |:--- |:--- |\n",
    "| `Float16` | half | 16 |\n",
    "| `Float32` | single | 32 |\n",
    "| `Float64` | double | 64 |"
   ]
  },
  {
   "cell_type": "markdown",
   "metadata": {
    "slideshow": {
     "slide_type": "fragment"
    }
   },
   "source": [
    "We will discuss **precision** in detail later, but for now, here are the key takeaways:\n",
    "\n",
    "- The default type for decimal numbers is `Float64`, also known as *double precision*.\n",
    "- It can represent a number with about **16 decimal digits** of accuracy.\n",
    "- Its range is approximately from $10^{-308}$ to $10^{308}$."
   ]
  },
  {
   "cell_type": "code",
   "execution_count": 19,
   "metadata": {},
   "outputs": [
    {
     "data": {
      "text/plain": [
       "3.3333333333333335"
      ]
     },
     "execution_count": 19,
     "metadata": {},
     "output_type": "execute_result"
    }
   ],
   "source": [
    "10 / 3"
   ]
  },
  {
   "cell_type": "code",
   "execution_count": 20,
   "metadata": {},
   "outputs": [
    {
     "data": {
      "text/plain": [
       "9.453246228910832e307"
      ]
     },
     "execution_count": 20,
     "metadata": {},
     "output_type": "execute_result"
    }
   ],
   "source": [
    "(10 / 3) ^ 589   # This is OK (just barely within the Float64 range)."
   ]
  },
  {
   "cell_type": "code",
   "execution_count": 21,
   "metadata": {},
   "outputs": [
    {
     "data": {
      "text/plain": [
       "Inf"
      ]
     },
     "execution_count": 21,
     "metadata": {},
     "output_type": "execute_result"
    }
   ],
   "source": [
    "(10 / 3) ^ 590   # This calculation exceeds the Float64 range, resulting in `Inf` (infinity)."
   ]
  },
  {
   "cell_type": "markdown",
   "metadata": {},
   "source": [
    "Similar to `BigInt`, Julia provides `BigFloat` for arbitrary-precision floating-point arithmetic. This is useful when you need more precision than the standard `Float64` can offer. You can create a `BigFloat` using the `big\"...\"` string macro:"
   ]
  },
  {
   "cell_type": "code",
   "execution_count": 22,
   "metadata": {},
   "outputs": [
    {
     "data": {
      "text/plain": [
       "3.333333333333333333333333333333333333333333333333333333333333333333333333333322"
      ]
     },
     "execution_count": 22,
     "metadata": {},
     "output_type": "execute_result"
    }
   ],
   "source": [
    "big\"10\" / 3 # Note the increased number of digits compared to the standard 10 / 3."
   ]
  },
  {
   "cell_type": "code",
   "execution_count": 23,
   "metadata": {},
   "outputs": [
    {
     "data": {
      "text/plain": [
       "5.562632099157128865882114862625068529147801916401519743970961486254075585953082e+522878"
      ]
     },
     "execution_count": 23,
     "metadata": {},
     "output_type": "execute_result"
    }
   ],
   "source": [
    "(big\"10\" / 3) ^ 1000000    # This works perfectly, avoiding the overflow error seen with Float64."
   ]
  },
  {
   "cell_type": "markdown",
   "metadata": {},
   "source": [
    "As with integers, Julia automatically promotes the other numbers in the expression (like `3` and `1000000`) to the most general type, ensuring that the entire calculation is performed using `BigFloat`'s high precision."
   ]
  },
  {
   "cell_type": "markdown",
   "metadata": {
    "slideshow": {
     "slide_type": "slide"
    }
   },
   "source": [
    "## Arithmetic Operators and Order of Operations\n",
    "\n",
    "| Expression | Name | Description |\n",
    "|:--- |:--- |:--- |\n",
    "| `+x` | unary plus | The identity operation |\n",
    "| `-x` | unary minus | Maps a value to its additive inverse |\n",
    "| `x + y` | binary plus | Performs addition |\n",
    "| `x - y` | binary minus | Performs subtraction |\n",
    "| `x * y` | times | Performs multiplication |\n",
    "| `x / y` | divide | Performs division |\n",
    "| `x ÷ y` | integer divide | `x / y`, truncated to an integer |\n",
    "| `x \\ y` | inverse divide | Equivalent to `y / x` |\n",
    "| `x ^ y` | power | Raises `x` to the `y`-th power |\n",
    "| `x % y` | remainder | Equivalent to `rem(x,y)` |"
   ]
  },
  {
   "cell_type": "markdown",
   "metadata": {
    "slideshow": {
     "slide_type": "fragment"
    }
   },
   "source": [
    "Julia follows the standard mathematical order of operations:\n",
    "  * Parentheses `()`\n",
    "  * Exponentiation `^`\n",
    "  * Multiplication `*` and Division `/`\n",
    "  * Addition `+` and Subtraction `-`\n",
    "\n",
    "Operators with the same precedence are evaluated from left to right (except for `^`, which is right-associative).\n",
    "\n",
    "For example, `360 / 2 * pi` evaluates to `(360 / 2) * pi`, which is `180 * pi`. Always use parentheses to clarify the order when in doubt, e.g., `360 / (2 * pi)`."
   ]
  }
 ],
 "metadata": {
  "kernelspec": {
   "display_name": "Julia 1.11.5",
   "language": "julia",
   "name": "julia-1.11"
  },
  "language_info": {
   "file_extension": ".jl",
   "mimetype": "application/julia",
   "name": "julia",
   "version": "1.11.5"
  }
 },
 "nbformat": 4,
 "nbformat_minor": 4
}