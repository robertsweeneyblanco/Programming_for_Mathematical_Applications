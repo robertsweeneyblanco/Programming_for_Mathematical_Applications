{
 "cells": [
  {
   "cell_type": "markdown",
   "metadata": {
    "slideshow": {
     "slide_type": "slide"
    }
   },
   "source": [
    "# Conditionals\n",
    "\n",
    "A **conditional statement** allows a block of code to be executed only if a certain condition is met. To build these statements, we first need to understand how to express logical conditions."
   ]
  },
  {
   "cell_type": "markdown",
   "metadata": {
    "slideshow": {
     "slide_type": "fragment"
    }
   },
   "source": [
    "## Boolean Expressions\n",
    "\n",
    "A **boolean expression** is an expression that evaluates to either `true` or `false`. For example, the operator `==` compares two values and returns `true` if they are equal and `false` otherwise."
   ]
  },
  {
   "cell_type": "code",
   "execution_count": 1,
   "metadata": {
    "slideshow": {
     "slide_type": "fragment"
    }
   },
   "outputs": [
    {
     "data": {
      "text/plain": [
       "true"
      ]
     },
     "execution_count": 1,
     "metadata": {},
     "output_type": "execute_result"
    }
   ],
   "source": [
    "123 == 123"
   ]
  },
  {
   "cell_type": "code",
   "execution_count": 2,
   "metadata": {
    "slideshow": {
     "slide_type": "fragment"
    }
   },
   "outputs": [
    {
     "data": {
      "text/plain": [
       "false"
      ]
     },
     "execution_count": 2,
     "metadata": {},
     "output_type": "execute_result"
    }
   ],
   "source": [
    "123 == 124"
   ]
  },
  {
   "cell_type": "code",
   "execution_count": 3,
   "metadata": {
    "slideshow": {
     "slide_type": "fragment"
    }
   },
   "outputs": [
    {
     "data": {
      "text/plain": [
       "Bool"
      ]
     },
     "execution_count": 3,
     "metadata": {},
     "output_type": "execute_result"
    }
   ],
   "source": [
    "typeof(true)"
   ]
  },
  {
   "cell_type": "markdown",
   "metadata": {
    "slideshow": {
     "slide_type": "subslide"
    }
   },
   "source": [
    "### Relational Operators\n",
    "\n",
    "These operators compare two values and produce a boolean result.\n",
    "\n",
    "| Operator | Description |\n",
    "|:--- |:--- |\n",
    "| `x == y` | Is `x` equal to `y`? |\n",
    "| `x != y` or `x ≠ y` | Is `x` not equal to `y`? |\n",
    "| `x > y` | Is `x` greater than `y`? |\n",
    "| `x < y` | Is `x` less than `y`? |\n",
    "| `x >= y` or `x ≥ y` | Is `x` greater than or equal to `y`? |\n",
    "| `x <= y` or `x ≤ y` | Is `x` less than or equal to `y`? |\n",
    "\n",
    "*Note: To type the special Unicode characters like `≠`, `≥`, and `≤`, type their LaTeX command (e.g., `\\ne`, `\\ge`, `\\le`) and press the `<Tab>` key.*"
   ]
  },
  {
   "cell_type": "markdown",
   "metadata": {
    "slideshow": {
     "slide_type": "subslide"
    }
   },
   "source": [
    "### Logical Operators\n",
    "\n",
    "These operators are used to combine boolean expressions.\n",
    "\n",
    "| Operator | Description | Result |\n",
    "|:--- |:--- |:--- |\n",
    "| `!a` | NOT `a` | `true` if `a` is `false` |\n",
    "| `a && b` | `a` AND `b` | `true` if both `a` and `b` are `true` |\n",
    "| <code>a \\|\\| b</code> | `a` OR `b` | `true` if either `a` or `b` (or both) are `true` |"
   ]
  },
  {
   "cell_type": "code",
   "execution_count": 4,
   "metadata": {
    "slideshow": {
     "slide_type": "fragment"
    }
   },
   "outputs": [
    {
     "data": {
      "text/plain": [
       "true"
      ]
     },
     "execution_count": 4,
     "metadata": {},
     "output_type": "execute_result"
    }
   ],
   "source": [
    "x = 10\n",
    "(x < 20) && (x > 5)  # Is x (strictly) between 5 and 20?"
   ]
  },
  {
   "cell_type": "code",
   "execution_count": 5,
   "metadata": {
    "slideshow": {
     "slide_type": "fragment"
    }
   },
   "outputs": [
    {
     "data": {
      "text/plain": [
       "false"
      ]
     },
     "execution_count": 5,
     "metadata": {},
     "output_type": "execute_result"
    }
   ],
   "source": [
    "(x < 20) && (x > 15) # Is x (strictly) between 15 and 20?"
   ]
  },
  {
   "cell_type": "code",
   "execution_count": 6,
   "metadata": {
    "slideshow": {
     "slide_type": "fragment"
    }
   },
   "outputs": [
    {
     "data": {
      "text/plain": [
       "false"
      ]
     },
     "execution_count": 6,
     "metadata": {},
     "output_type": "execute_result"
    }
   ],
   "source": [
    "!(x > 5)             # Is it false that x is greater than 5?"
   ]
  },
  {
   "cell_type": "markdown",
   "metadata": {
    "slideshow": {
     "slide_type": "subslide"
    }
   },
   "source": [
    "## Chained Comparisons\n",
    "\n",
    "Unlike many other languages, Julia allows you to chain comparison operators for a more natural, mathematical syntax. The chained expression is evaluated from left to right as a series of `&&` (AND) operations."
   ]
  },
  {
   "cell_type": "code",
   "execution_count": 7,
   "metadata": {
    "slideshow": {
     "slide_type": "fragment"
    }
   },
   "outputs": [
    {
     "data": {
      "text/plain": [
       "true"
      ]
     },
     "execution_count": 7,
     "metadata": {},
     "output_type": "execute_result"
    }
   ],
   "source": [
    "# This is equivalent to (1 < 2) && (2 <= 2) && (2 < 3) && ...\n",
    "1 < 2 <= 2 < 3 == 3 > 2 >= 1 == 1 < 3 != 5"
   ]
  },
  {
   "cell_type": "markdown",
   "metadata": {
    "slideshow": {
     "slide_type": "fragment"
    }
   },
   "source": [
    "This syntax makes checking if a variable falls within a certain range incredibly concise and readable."
   ]
  },
  {
   "cell_type": "code",
   "execution_count": 8,
   "metadata": {
    "slideshow": {
     "slide_type": "fragment"
    }
   },
   "outputs": [
    {
     "data": {
      "text/plain": [
       "true"
      ]
     },
     "execution_count": 8,
     "metadata": {},
     "output_type": "execute_result"
    }
   ],
   "source": [
    "x = -2.3\n",
    "\n",
    "# A clean way to check if x is in the closed interval [-3, 4].\n",
    "# (Type \\le or \\ge and press Tab for ≤ and ≥).\n",
    "-3 ≤ x ≤ 4"
   ]
  },
  {
   "cell_type": "markdown",
   "metadata": {
    "slideshow": {
     "slide_type": "slide"
    }
   },
   "source": [
    "## The `if` Statement\n",
    "\n",
    "An `if` statement uses a boolean expression to decide which block of code to execute. The syntax is:\n",
    "```julia\n",
    "if condition\n",
    "    # Code to run if condition is true\n",
    "end\n",
    "```\n",
    "If the `condition` is `true`, the code inside the block is executed. If it's `false`, the code is skipped."
   ]
  },
  {
   "cell_type": "code",
   "execution_count": 9,
   "metadata": {
    "slideshow": {
     "slide_type": "subslide"
    }
   },
   "outputs": [
    {
     "data": {
      "text/plain": [
       "print_positivity (generic function with 1 method)"
      ]
     },
     "execution_count": 9,
     "metadata": {},
     "output_type": "execute_result"
    }
   ],
   "source": [
    "function print_positivity(x)\n",
    "    if x > 0\n",
    "        println(\"The number is positive.\")\n",
    "    end\n",
    "end"
   ]
  },
  {
   "cell_type": "code",
   "execution_count": 10,
   "metadata": {
    "slideshow": {
     "slide_type": "fragment"
    }
   },
   "outputs": [
    {
     "name": "stdout",
     "output_type": "stream",
     "text": [
      "The number is positive.\n"
     ]
    }
   ],
   "source": [
    "print_positivity(10)"
   ]
  },
  {
   "cell_type": "code",
   "execution_count": 11,
   "metadata": {
    "slideshow": {
     "slide_type": "fragment"
    }
   },
   "outputs": [],
   "source": [
    "# Nothing is printed because the condition x > 0 is false.\n",
    "print_positivity(-10)"
   ]
  },
  {
   "cell_type": "markdown",
   "metadata": {
    "slideshow": {
     "slide_type": "slide"
    }
   },
   "source": [
    "## The `if-else` Statement\n",
    "\n",
    "You can add an `else` block to provide an alternative path for when the `if` condition is `false`.\n",
    "\n",
    "```julia\n",
    "if condition\n",
    "    # Code to run if condition is true\n",
    "else\n",
    "    # Code to run if condition is false\n",
    "end\n",
    "```"
   ]
  },
  {
   "cell_type": "code",
   "execution_count": 12,
   "metadata": {
    "slideshow": {
     "slide_type": "subslide"
    }
   },
   "outputs": [
    {
     "data": {
      "text/plain": [
       "print_parity (generic function with 1 method)"
      ]
     },
     "execution_count": 12,
     "metadata": {},
     "output_type": "execute_result"
    }
   ],
   "source": [
    "function print_parity(x)\n",
    "    if x % 2 == 0\n",
    "        println(x, \" is even.\")\n",
    "    else\n",
    "        println(x, \" is odd.\")\n",
    "    end\n",
    "end"
   ]
  },
  {
   "cell_type": "code",
   "execution_count": 13,
   "metadata": {
    "slideshow": {
     "slide_type": "fragment"
    }
   },
   "outputs": [
    {
     "name": "stdout",
     "output_type": "stream",
     "text": [
      "10 is even.\n"
     ]
    }
   ],
   "source": [
    "print_parity(10)"
   ]
  },
  {
   "cell_type": "code",
   "execution_count": 14,
   "metadata": {
    "slideshow": {
     "slide_type": "fragment"
    }
   },
   "outputs": [
    {
     "name": "stdout",
     "output_type": "stream",
     "text": [
      "9 is odd.\n"
     ]
    }
   ],
   "source": [
    "print_parity(9)"
   ]
  },
  {
   "cell_type": "markdown",
   "metadata": {
    "slideshow": {
     "slide_type": "slide"
    }
   },
   "source": [
    "## Chained Conditionals with `elseif`\n",
    "\n",
    "To handle more than two possibilities, you can chain conditions using `elseif`.\n",
    "\n",
    "```julia\n",
    "if condition1\n",
    "    # Code for condition1\n",
    "elseif condition2\n",
    "    # Code for condition2\n",
    "else\n",
    "    # Code if no conditions are met\n",
    "end\n",
    "```\n",
    "Julia checks the conditions in order. As soon as one is found to be `true`, its corresponding code block is executed, and the rest of the chain is skipped."
   ]
  },
  {
   "cell_type": "code",
   "execution_count": 15,
   "metadata": {
    "slideshow": {
     "slide_type": "subslide"
    }
   },
   "outputs": [
    {
     "data": {
      "text/plain": [
       "compare (generic function with 1 method)"
      ]
     },
     "execution_count": 15,
     "metadata": {},
     "output_type": "execute_result"
    }
   ],
   "source": [
    "function compare(x, y)\n",
    "    if x < y\n",
    "        println(x, \" is less than \", y)\n",
    "    elseif x > y\n",
    "        println(x, \" is greater than \", y)\n",
    "    else\n",
    "        println(x, \" is equal to \", y)\n",
    "    end\n",
    "end"
   ]
  },
  {
   "cell_type": "code",
   "execution_count": 16,
   "metadata": {
    "slideshow": {
     "slide_type": "fragment"
    }
   },
   "outputs": [
    {
     "name": "stdout",
     "output_type": "stream",
     "text": [
      "3 is less than 5\n"
     ]
    }
   ],
   "source": [
    "compare(3, 5)"
   ]
  },
  {
   "cell_type": "code",
   "execution_count": 17,
   "metadata": {
    "slideshow": {
     "slide_type": "fragment"
    }
   },
   "outputs": [
    {
     "name": "stdout",
     "output_type": "stream",
     "text": [
      "5 is greater than 3\n"
     ]
    }
   ],
   "source": [
    "compare(5, 3)"
   ]
  },
  {
   "cell_type": "code",
   "execution_count": 18,
   "metadata": {
    "slideshow": {
     "slide_type": "fragment"
    }
   },
   "outputs": [
    {
     "name": "stdout",
     "output_type": "stream",
     "text": [
      "5 is equal to 5\n"
     ]
    }
   ],
   "source": [
    "compare(5, 5)"
   ]
  },
  {
   "cell_type": "markdown",
   "metadata": {
    "slideshow": {
     "slide_type": "slide"
    }
   },
   "source": [
    "## Example: The Fibonacci Sequence\n",
    "\n",
    "A common use for `if` statements is to handle special cases or initial conditions before starting a more general computation. The Fibonacci sequence is a perfect example.\n",
    "\n",
    "The sequence is defined by its first two terms, $F_0 = 0$ and $F_1 = 1$, and the recurrence relation:\n",
    "$$ F_{k} = F_{k-1} + F_{k-2} \\qquad \\text{for } k \\ge 2 $$\n",
    "\n",
    "In our implementation, we'll first check for the special cases of $n=0$ and $n=1$. For any other value of $n$, we'll use the recurrence relation."
   ]
  },
  {
   "cell_type": "code",
   "execution_count": 19,
   "metadata": {
    "slideshow": {
     "slide_type": "fragment"
    }
   },
   "outputs": [
    {
     "data": {
      "text/plain": [
       "fibonacci (generic function with 1 method)"
      ]
     },
     "execution_count": 19,
     "metadata": {},
     "output_type": "execute_result"
    }
   ],
   "source": [
    "function fibonacci(n)\n",
    "    # Handle the base cases first.\n",
    "    if n == 0\n",
    "        return 0\n",
    "    elseif n == 1\n",
    "        return 1\n",
    "    end\n",
    "    \n",
    "    # General case (n ≥ 2): initialize and iterate.\n",
    "    f_k_minus_2 = 0  # Represents F_{k-2}, starts at F₀\n",
    "    f_k_minus_1 = 1  # Represents F_{k-1}, starts at F₁\n",
    "    f_k = 0          # Will hold the current Fₖ\n",
    "    \n",
    "    for k = 2:n\n",
    "        # Calculate the next Fibonacci number.\n",
    "        f_k = f_k_minus_1 + f_k_minus_2\n",
    "        \n",
    "        # Update the previous two values for the next iteration.\n",
    "        f_k_minus_2 = f_k_minus_1\n",
    "        f_k_minus_1 = f_k\n",
    "    end\n",
    "    \n",
    "    return f_k\n",
    "end"
   ]
  },
  {
   "cell_type": "code",
   "execution_count": 20,
   "metadata": {
    "slideshow": {
     "slide_type": "subslide"
    }
   },
   "outputs": [
    {
     "data": {
      "text/plain": [
       "55"
      ]
     },
     "execution_count": 20,
     "metadata": {},
     "output_type": "execute_result"
    }
   ],
   "source": [
    "fibonacci(10)"
   ]
  },
  {
   "cell_type": "code",
   "execution_count": 21,
   "metadata": {
    "slideshow": {
     "slide_type": "fragment"
    }
   },
   "outputs": [
    {
     "data": {
      "text/plain": [
       "3736710778780434371"
      ]
     },
     "execution_count": 21,
     "metadata": {},
     "output_type": "execute_result"
    }
   ],
   "source": [
    "# The result for n=100 fits within an Int64.\n",
    "fibonacci(100)"
   ]
  },
  {
   "cell_type": "code",
   "execution_count": 22,
   "metadata": {
    "slideshow": {
     "slide_type": "fragment"
    }
   },
   "outputs": [
    {
     "data": {
      "text/plain": [
       "-4433243247116178887"
      ]
     },
     "execution_count": 22,
     "metadata": {},
     "output_type": "execute_result"
    }
   ],
   "source": [
    "# However, n=110 causes an overflow. For larger numbers, you would need\n",
    "# to modify the function to use BigInt instead of Int64.\n",
    "fibonacci(110)"
   ]
  },
  {
   "cell_type": "markdown",
   "metadata": {
    "slideshow": {
     "slide_type": "slide"
    }
   },
   "source": [
    "## Example: Project Euler Problem 1\n",
    "\n",
    "Let's solve the following computational number theory problem using loops and conditionals.\n",
    "\n",
    "> *If we list all the natural numbers below 10 that are multiples of 3 or 5, we get 3, 5, 6 and 9. The sum of these multiples is 23.*\n",
    ">\n",
    "> *Find the sum of all the multiples of 3 or 5 below 1000.*\n",
    "\n",
    "We need to loop through numbers from 1 to 999 and check if each number is divisible by 3 OR 5. If it is, we add it to a running total."
   ]
  },
  {
   "cell_type": "code",
   "execution_count": 23,
   "metadata": {
    "slideshow": {
     "slide_type": "subslide"
    }
   },
   "outputs": [
    {
     "data": {
      "text/plain": [
       "solve_euler1 (generic function with 1 method)"
      ]
     },
     "execution_count": 23,
     "metadata": {},
     "output_type": "execute_result"
    }
   ],
   "source": [
    "function solve_euler1(N)\n",
    "    # Initialize the sum\n",
    "    s = 0\n",
    "    \n",
    "    # Loop through all numbers from 1 to N-1\n",
    "    for i = 1:(N-1)\n",
    "        # Check if i is a multiple of 3 or 5\n",
    "        if (i % 3 == 0) || (i % 5 == 0)\n",
    "            s += i\n",
    "        end\n",
    "    end\n",
    "    \n",
    "    return s\n",
    "end"
   ]
  },
  {
   "cell_type": "markdown",
   "metadata": {
    "slideshow": {
     "slide_type": "subslide"
    }
   },
   "source": [
    "First, let's confirm that our function gives the right answer for the simple example provided in the problem description:"
   ]
  },
  {
   "cell_type": "code",
   "execution_count": 24,
   "metadata": {
    "slideshow": {
     "slide_type": "fragment"
    }
   },
   "outputs": [
    {
     "data": {
      "text/plain": [
       "23"
      ]
     },
     "execution_count": 24,
     "metadata": {},
     "output_type": "execute_result"
    }
   ],
   "source": [
    "solve_euler1(10) # Should be 23"
   ]
  },
  {
   "cell_type": "markdown",
   "metadata": {
    "slideshow": {
     "slide_type": "fragment"
    }
   },
   "source": [
    "Now we can solve the main problem for numbers below 1000:"
   ]
  },
  {
   "cell_type": "code",
   "execution_count": 25,
   "metadata": {
    "slideshow": {
     "slide_type": "fragment"
    }
   },
   "outputs": [
    {
     "data": {
      "text/plain": [
       "233168"
      ]
     },
     "execution_count": 25,
     "metadata": {},
     "output_type": "execute_result"
    }
   ],
   "source": [
    "solve_euler1(1000)"
   ]
  }
 ],
 "metadata": {
  "kernelspec": {
   "display_name": "Julia 1.11.5",
   "language": "julia",
   "name": "julia-1.11"
  },
  "language_info": {
   "file_extension": ".jl",
   "mimetype": "application/julia",
   "name": "julia",
   "version": "1.11.5"
  }
 },
 "nbformat": 4,
 "nbformat_minor": 4
}