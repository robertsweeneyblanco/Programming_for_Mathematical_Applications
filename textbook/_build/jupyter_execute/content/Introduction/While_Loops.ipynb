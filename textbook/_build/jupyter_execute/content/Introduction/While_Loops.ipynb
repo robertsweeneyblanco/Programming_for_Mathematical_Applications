{
 "cells": [
  {
   "cell_type": "markdown",
   "metadata": {
    "slideshow": {
     "slide_type": "slide"
    }
   },
   "source": [
    "# Repeated evaluation: while-loops\n",
    "\n",
    "We have seen above that for-loops are good for looping *when you know the number of iterations*, e.g to compute the finite sum $s_n = \\sum_{i=1}^n \\frac{1}{i}$ for some given integer $n\\ge 1$. However, suppose the problem statement makes it difficult to predict the number of iterations. For example, if we had to compute the terms in $s_n$ until a term is smaller than a given number $\\delta$.\n",
    "\n",
    "For problems like this, when you don't know the total number of iterations, you can use a `while` loop. It has the following syntax:\n",
    "\n",
    "```julia\n",
    "while #condition\n",
    "    # Code repeated until the condition above becomes false\n",
    "end\n",
    "```"
   ]
  },
  {
   "cell_type": "markdown",
   "metadata": {
    "slideshow": {
     "slide_type": "subslide"
    }
   },
   "source": [
    "Note that:\n",
    "\n",
    "- The condition (`#condition`) might be `false` at the first time, which means the code inside the `while` loop will never be executed\n",
    "\n",
    "- The condition might never be `false`, which creates an *infinite loop* which never stops\n",
    "\n",
    "- You typically need some variable to determine the condition, which has to be *initialized* before the loop, and updated inside the loop"
   ]
  },
  {
   "cell_type": "markdown",
   "metadata": {
    "slideshow": {
     "slide_type": "subslide"
    }
   },
   "source": [
    "Here is an example of a code to solve the problem from above: compute $s_n$, stopping when a term is smaller than $\\delta$:"
   ]
  },
  {
   "cell_type": "code",
   "execution_count": 1,
   "metadata": {
    "slideshow": {
     "slide_type": "fragment"
    }
   },
   "outputs": [
    {
     "data": {
      "text/plain": [
       "compute_s_delta (generic function with 1 method)"
      ]
     },
     "execution_count": 1,
     "metadata": {},
     "output_type": "execute_result"
    }
   ],
   "source": [
    "function compute_s_delta(δ)\n",
    "    sn = 0\n",
    "    term = 1\n",
    "    i = 1\n",
    "    while term ≥ δ\n",
    "        sn += term\n",
    "        i += 1\n",
    "        term = 1 / i\n",
    "    end\n",
    "    sn\n",
    "end"
   ]
  },
  {
   "cell_type": "code",
   "execution_count": 2,
   "metadata": {
    "slideshow": {
     "slide_type": "fragment"
    }
   },
   "outputs": [
    {
     "data": {
      "text/plain": [
       "2.9289682539682538"
      ]
     },
     "execution_count": 2,
     "metadata": {},
     "output_type": "execute_result"
    }
   ],
   "source": [
    "compute_s_delta(0.1)"
   ]
  },
  {
   "cell_type": "code",
   "execution_count": 3,
   "metadata": {
    "slideshow": {
     "slide_type": "fragment"
    }
   },
   "outputs": [
    {
     "data": {
      "text/plain": [
       "18.997896413852555"
      ]
     },
     "execution_count": 3,
     "metadata": {},
     "output_type": "execute_result"
    }
   ],
   "source": [
    "compute_s_delta(1e-8)"
   ]
  },
  {
   "cell_type": "markdown",
   "metadata": {
    "slideshow": {
     "slide_type": "slide"
    }
   },
   "source": [
    "## The break statement\n",
    "\n",
    "Sometimes it is convenient to determine somewhere inside the `while` loop that the loop should finish. This can be done with the `break` statement:\n",
    "\n",
    "\n",
    "```julia\n",
    "while #condition\n",
    "    # Code 1 to be repeated...\n",
    "    if #termination_condition\n",
    "        break\n",
    "    end\n",
    "    # Code 2 to be repeated...\n",
    "end\n",
    "```\n",
    "\n",
    "This will repeat like before, that is, until `#condition` becomes `false`. However, if `#termination_condition` becomes `false`, it will immediately finish the loop.\n",
    "\n",
    "This way of writing while loops is common because you can check the condition anywhere in the loop (not just at the top). Another common usage of this is to set `#condition` to `true`, in which case the termination is completely controlled by `#termination_condition`."
   ]
  },
  {
   "cell_type": "markdown",
   "metadata": {
    "slideshow": {
     "slide_type": "subslide"
    }
   },
   "source": [
    "## The continue statement\n",
    "\n",
    "The `continue` statement is similar to the `break` statement, in that it can appear anywhere inside the loop. However, when a `continue` statement is encounted, the code will immediately go the next iteration and start at the beginning of the loop. This can be convenient to quickly skip an iteration without terminating the repetitions."
   ]
  },
  {
   "cell_type": "markdown",
   "metadata": {
    "slideshow": {
     "slide_type": "slide"
    }
   },
   "source": [
    "## Example: Square-root\n",
    "\n",
    "A famous way for computing square-roots is to evaluate the following sequence (essentially Newton's method for $x^2=a$):\n",
    "\n",
    "$$\n",
    "x_{n+1} = \\frac12 \\left( x_n + \\frac{a}{x_n} \\right)\n",
    "$$\n",
    "\n",
    "for some *initial guess* $x_0$, for example $x_0 = 1$.\n",
    "\n",
    "One way to decide when to terminate the iterations (and accept $x_n$ as a good approximation to $\\sqrt{a}$) is to loop as long as the last update $|x_{n+1} - x_n|$ is greater than some tolerance $\\varepsilon$:"
   ]
  },
  {
   "cell_type": "code",
   "execution_count": 4,
   "metadata": {
    "slideshow": {
     "slide_type": "subslide"
    }
   },
   "outputs": [
    {
     "data": {
      "text/plain": [
       "my_sqrt (generic function with 1 method)"
      ]
     },
     "execution_count": 4,
     "metadata": {},
     "output_type": "execute_result"
    }
   ],
   "source": [
    "function my_sqrt(a, ε)\n",
    "    x = 1    # Initial guess\n",
    "    Δx = 1   # Need to initialize to get started\n",
    "    while Δx ≥ ε\n",
    "        xnew = (x + a/x) / 2\n",
    "        Δx = abs(xnew - x)\n",
    "        x = xnew\n",
    "        println(\"x = \", x)\n",
    "    end\n",
    "    x\n",
    "end"
   ]
  },
  {
   "cell_type": "code",
   "execution_count": 5,
   "metadata": {
    "scrolled": true,
    "slideshow": {
     "slide_type": "fragment"
    }
   },
   "outputs": [
    {
     "name": "stdout",
     "output_type": "stream",
     "text": [
      "x = 128.5\n",
      "x = 65.24610894941634\n",
      "x = 34.58485728656987\n",
      "x = 20.993470372021676\n",
      "x = 16.59386909154118\n",
      "x = 16.010626831390027\n",
      "x = 16.00000352670594\n",
      "x = 16.00000000000039\n",
      "x = 16.0\n",
      "x = 16.0\n"
     ]
    },
    {
     "data": {
      "text/plain": [
       "16.0"
      ]
     },
     "execution_count": 5,
     "metadata": {},
     "output_type": "execute_result"
    }
   ],
   "source": [
    "my_sqrt(256, 1e-15)"
   ]
  }
 ],
 "metadata": {
  "kernelspec": {
   "display_name": "Julia 1.9.2",
   "language": "julia",
   "name": "julia-1.9"
  },
  "language_info": {
   "file_extension": ".jl",
   "mimetype": "application/julia",
   "name": "julia",
   "version": "1.9.2"
  }
 },
 "nbformat": 4,
 "nbformat_minor": 2
}