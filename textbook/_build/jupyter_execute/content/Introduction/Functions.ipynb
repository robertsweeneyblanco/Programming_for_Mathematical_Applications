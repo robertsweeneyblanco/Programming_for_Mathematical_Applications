{
 "cells": [
  {
   "cell_type": "markdown",
   "metadata": {
    "slideshow": {
     "slide_type": "slide"
    }
   },
   "source": [
    "# Functions\n",
    "\n",
    "A **function** is a named block of reusable code that performs a specific task. To use a function, you **call** it by its name, followed by parentheses. You can pass values into the function by placing them inside the parentheses; these values are called **arguments**.\n",
    "\n",
    "For example, we've already used `println(x)`, a built-in function that prints the value of `x` to the console.\n",
    "\n",
    "Julia provides a rich library of standard mathematical functions. Here are a few common ones:\n",
    "\n",
    "| Function | Description |\n",
    "|:--- |:--- |\n",
    "| `abs(x)` | The absolute value of `x` |\n",
    "| `sign(x)` | The sign of `x` (-1, 0, or 1) |\n",
    "| `sqrt(x)` or `√x` | The square root of `x` |\n",
    "| `cbrt(x)` or `∛x` | The cube root of `x` |\n",
    "| `exp(x)` | The natural exponential $e^x$ |\n",
    "| `log(x)` | The natural logarithm of `x` |\n",
    "| `log(b,x)` | The base-`b` logarithm of `x` |\n",
    "| `log2(x)` | The base-2 logarithm of `x` |\n",
    "| `log10(x)` | The base-10 logarithm of `x` |"
   ]
  },
  {
   "cell_type": "markdown",
   "metadata": {
    "slideshow": {
     "slide_type": "slide"
    }
   },
   "source": [
    "## Trigonometric and Hyperbolic Functions\n",
    "\n",
    "All standard trigonometric and hyperbolic functions are built-in. The default trigonometric functions expect angles in **radians**.\n",
    "\n",
    "```\n",
    "sin    cos    tan    cot    sec    csc\n",
    "sinh   cosh   tanh   coth   sech   csch\n",
    "asin   acos   atan   acot   asec   acsc\n",
    "asinh  acosh  atanh  acoth  asech  acsch\n",
    "sinc   cosc\n",
    "```\n",
    "\n",
    "For convenience, Julia also provides versions that work with angles in **degrees**:\n",
    "\n",
    "```\n",
    "sind   cosd   tand   cotd   secd   cscd\n",
    "asind  acosd  atand  acotd  asecd  acscd\n",
    "```"
   ]
  },
  {
   "cell_type": "markdown",
   "metadata": {
    "slideshow": {
     "slide_type": "slide"
    }
   },
   "source": [
    "## Numerical Curiosities: Almost Integers\n",
    "\n",
    "Mathematics is full of fascinating coincidences! A famous example is **Ramanujan's constant**, $e^{\\pi\\sqrt{163}}$, which is amazingly close to being a perfect integer. Let's try to calculate it and see just how close it is."
   ]
  },
  {
   "cell_type": "markdown",
   "metadata": {},
   "source": [
    "### Attempt 1: Standard Floating-Point Arithmetic\n",
    "\n",
    "Let's start with the most direct approach. We'll use Julia's standard numeric types to calculate the value. As we'll see, this approach can sometimes be misleading."
   ]
  },
  {
   "cell_type": "code",
   "execution_count": 1,
   "metadata": {},
   "outputs": [
    {
     "data": {
      "text/plain": [
       "2.6253741264076826e17"
      ]
     },
     "execution_count": 1,
     "metadata": {},
     "output_type": "execute_result"
    }
   ],
   "source": [
    "# This calculation uses the default `Float64` precision.\n",
    "# Notice the result! It looks like a perfect integer.\n",
    "# This is due to floating-point rounding; the actual value is so close to an integer\n",
    "# that at this precision, the tiny fractional part is completely lost.\n",
    "exp(π * sqrt(163))"
   ]
  },
  {
   "cell_type": "markdown",
   "metadata": {},
   "source": [
    "### Attempt 2: Using High-Precision Arithmetic\n",
    "\n",
    "To get around the rounding issue, we need more precision. We can tell Julia to perform the calculation using `BigFloat`, a type that allows for an arbitrarily high number of digits."
   ]
  },
  {
   "cell_type": "code",
   "execution_count": 2,
   "metadata": {},
   "outputs": [
    {
     "data": {
      "text/plain": [
       "2.62537412640768743999999999999250072597198185688879353856337336990862707537278e+17"
      ]
     },
     "execution_count": 2,
     "metadata": {},
     "output_type": "execute_result"
    }
   ],
   "source": [
    "# By wrapping numbers with `big()`, we convert them to high-precision types.\n",
    "# The calculation is now accurate, but Julia's default output for `BigFloat`\n",
    "# uses scientific notation, which makes it hard to see the 'almost integer' property.\n",
    "ramanujan_constant = exp(big(π) * sqrt(big(163)))"
   ]
  },
  {
   "cell_type": "markdown",
   "metadata": {},
   "source": [
    "### Attempt 3: Formatting the Output for Clarity\n",
    "\n",
    "We have the correct value stored, but we need to display it differently. A helpful package called `Printf` gives us fine-grained control over how numbers are printed."
   ]
  },
  {
   "cell_type": "code",
   "execution_count": 3,
   "metadata": {},
   "outputs": [
    {
     "name": "stdout",
     "output_type": "stream",
     "text": [
      "262537412640768743.999999999999250072597198185689"
     ]
    }
   ],
   "source": [
    "# First, we load the package.\n",
    "using Printf\n",
    "\n",
    "# The `@printf` macro lets us specify a format string.\n",
    "# \"%.30f\" means 'print a floating-point number with 30 digits after the decimal.'\n",
    "# Now we can clearly see the long string of nines!\n",
    "@printf \"%.30f\" ramanujan_constant"
   ]
  },
  {
   "cell_type": "markdown",
   "metadata": {
    "slideshow": {
     "slide_type": "slide"
    }
   },
   "source": [
    "### Another Near-Integer: $e^\\pi - \\pi$\n",
    "\n",
    "Another well-known mathematical curiosity is the expression $e^\\pi - \\pi$. While not as close to an integer as Ramanujan's constant, it's famously near the number 20. In this case, regular `Float64` calculations are sufficient and the number will be printed without exponents by default."
   ]
  },
  {
   "cell_type": "code",
   "execution_count": 4,
   "metadata": {
    "slideshow": {
     "slide_type": "fragment"
    }
   },
   "outputs": [
    {
     "data": {
      "text/plain": [
       "19.999099979189474"
      ]
     },
     "execution_count": 4,
     "metadata": {},
     "output_type": "execute_result"
    }
   ],
   "source": [
    "# Let's evaluate this second expression.\n",
    "# It's a fun example of how fundamental constants can combine in unexpected ways.\n",
    "exp(π) - π"
   ]
  },
  {
   "cell_type": "markdown",
   "metadata": {
    "slideshow": {
     "slide_type": "slide"
    }
   },
   "source": [
    "## Example: Real Roots of a Quadratic\n",
    "\n",
    "We can use the quadratic formula to find the roots of the equation $x^2 + 5x + 6 = 0$.\n",
    "$$ r = \\frac{-b \\pm \\sqrt{b^2 - 4ac}}{2a} $$\n",
    "For now, we will assume the roots are real; we'll cover complex numbers in a later chapter."
   ]
  },
  {
   "cell_type": "code",
   "execution_count": 5,
   "metadata": {
    "slideshow": {
     "slide_type": "fragment"
    }
   },
   "outputs": [
    {
     "name": "stdout",
     "output_type": "stream",
     "text": [
      "The roots are -3.0 and -2.0.\n"
     ]
    }
   ],
   "source": [
    "# Solve x² + 5x + 6 = 0 using the quadratic formula.\n",
    "\n",
    "# Coefficients for ax² + bx + c = 0\n",
    "a = 1\n",
    "b = 5\n",
    "c = 6\n",
    "\n",
    "# Apply the quadratic formula\n",
    "discriminant = sqrt(b^2 - 4a*c)\n",
    "root1 = (-b - discriminant) / (2a)\n",
    "root2 = (-b + discriminant) / (2a)\n",
    "\n",
    "println(\"The roots are \", root1, \" and \", root2, \".\")"
   ]
  },
  {
   "cell_type": "markdown",
   "metadata": {
    "slideshow": {
     "slide_type": "slide"
    }
   },
   "source": [
    "## User-Defined Functions\n",
    "\n",
    "You can define your own functions to make your code more organized and reusable. Here’s a simple function named `my_func` that takes two arguments, `x` and `y`."
   ]
  },
  {
   "cell_type": "code",
   "execution_count": 6,
   "metadata": {
    "slideshow": {
     "slide_type": "fragment"
    }
   },
   "outputs": [
    {
     "data": {
      "text/plain": [
       "my_func (generic function with 1 method)"
      ]
     },
     "execution_count": 6,
     "metadata": {},
     "output_type": "execute_result"
    }
   ],
   "source": [
    "function my_func(x, y)\n",
    "    x + y\n",
    "end"
   ]
  },
  {
   "cell_type": "markdown",
   "metadata": {
    "slideshow": {
     "slide_type": "fragment"
    }
   },
   "source": [
    "* The values passed to the function are assigned to its **parameters**, `x` and `y`.\n",
    "* By default, a function **returns** the value of the last expression evaluated inside it (in this case, `x + y`). You can also use the `return` keyword for explicit returns.\n",
    "* Once defined, you can call the function using the standard parentheses syntax:"
   ]
  },
  {
   "cell_type": "code",
   "execution_count": 7,
   "metadata": {
    "slideshow": {
     "slide_type": "fragment"
    }
   },
   "outputs": [
    {
     "data": {
      "text/plain": [
       "3"
      ]
     },
     "execution_count": 7,
     "metadata": {},
     "output_type": "execute_result"
    }
   ],
   "source": [
    "my_func(1, 2)"
   ]
  },
  {
   "cell_type": "markdown",
   "metadata": {
    "slideshow": {
     "slide_type": "slide"
    }
   },
   "source": [
    "#### Compact Assignment Form\n",
    "\n",
    "For functions that contain only a single expression, Julia offers a more concise syntax:"
   ]
  },
  {
   "cell_type": "code",
   "execution_count": 8,
   "metadata": {
    "slideshow": {
     "slide_type": "fragment"
    }
   },
   "outputs": [
    {
     "data": {
      "text/plain": [
       "13"
      ]
     },
     "execution_count": 8,
     "metadata": {},
     "output_type": "execute_result"
    }
   ],
   "source": [
    "my_func2(x, y) = x + 2y\n",
    "\n",
    "my_func2(3, 5)"
   ]
  },
  {
   "cell_type": "markdown",
   "metadata": {},
   "source": [
    "#### Anonymous Functions\n",
    "\n",
    "You can also create **anonymous functions**—functions without a name. This is useful for short, one-off operations."
   ]
  },
  {
   "cell_type": "code",
   "execution_count": 9,
   "metadata": {},
   "outputs": [
    {
     "name": "stdout",
     "output_type": "stream",
     "text": [
      "18\n",
      "18\n"
     ]
    }
   ],
   "source": [
    "# Define an anonymous function and assign it to a variable\n",
    "my_func3 = (x, y) -> x + 3y\n",
    "println(my_func3(3, 5))\n",
    "\n",
    "# Define and call an anonymous function in a single line\n",
    "println(((x, y) -> x + 3y)(3, 5))"
   ]
  },
  {
   "cell_type": "markdown",
   "metadata": {
    "slideshow": {
     "slide_type": "slide"
    }
   },
   "source": [
    "#### Multiple Return Values\n",
    "\n",
    "Functions can also return multiple values. Simply list them at the end of the function, separated by commas."
   ]
  },
  {
   "cell_type": "code",
   "execution_count": 10,
   "metadata": {
    "slideshow": {
     "slide_type": "fragment"
    }
   },
   "outputs": [
    {
     "data": {
      "text/plain": [
       "my_new_func (generic function with 1 method)"
      ]
     },
     "execution_count": 10,
     "metadata": {},
     "output_type": "execute_result"
    }
   ],
   "source": [
    "function my_new_func(x, y)\n",
    "    out1 = x + y\n",
    "    out2 = out1 * (2x + y)\n",
    "    return out1, out2\n",
    "end"
   ]
  },
  {
   "cell_type": "code",
   "execution_count": 11,
   "metadata": {
    "slideshow": {
     "slide_type": "fragment"
    }
   },
   "outputs": [
    {
     "data": {
      "text/plain": [
       "(3, 15)"
      ]
     },
     "execution_count": 11,
     "metadata": {},
     "output_type": "execute_result"
    }
   ],
   "source": [
    "y1, y2 = my_new_func(2, 1)"
   ]
  },
  {
   "cell_type": "markdown",
   "metadata": {},
   "source": [
    "When a function returns multiple values, it technically returns a single object called a **tuple**. A tuple is an ordered, immutable collection of elements.\n",
    "\n",
    "You can create your own tuples with a comma-separated list of values. Parentheses `()` can be used for clarity and are required in contexts where the comma might be ambiguous (like inside a function call). In many situations, such as simple assignments, the parentheses can be omitted."
   ]
  },
  {
   "cell_type": "code",
   "execution_count": 12,
   "metadata": {},
   "outputs": [
    {
     "data": {
      "text/plain": [
       "(123, 234, \"hello\")"
      ]
     },
     "execution_count": 12,
     "metadata": {},
     "output_type": "execute_result"
    }
   ],
   "source": [
    "my_tuple = (123, 234, \"hello\")"
   ]
  },
  {
   "cell_type": "markdown",
   "metadata": {},
   "source": [
    "Access elements of a tuple using square brackets (Julia is 1-indexed):"
   ]
  },
  {
   "cell_type": "code",
   "execution_count": 13,
   "metadata": {},
   "outputs": [
    {
     "data": {
      "text/plain": [
       "234"
      ]
     },
     "execution_count": 13,
     "metadata": {},
     "output_type": "execute_result"
    }
   ],
   "source": [
    "my_tuple[2]   # Access the second element"
   ]
  },
  {
   "cell_type": "markdown",
   "metadata": {},
   "source": [
    "You can **unpack** a tuple by assigning it to a comma-separated list of variables. This is exactly what we did with the return values of `my_new_func`."
   ]
  },
  {
   "cell_type": "code",
   "execution_count": 14,
   "metadata": {},
   "outputs": [
    {
     "name": "stdout",
     "output_type": "stream",
     "text": [
      "hello, you have numbers 123 and 234.\n"
     ]
    }
   ],
   "source": [
    "num1, num2, greeting = my_tuple\n",
    "\n",
    "println(greeting, \", you have numbers \", num1, \" and \", num2, \".\")"
   ]
  },
  {
   "cell_type": "markdown",
   "metadata": {},
   "source": [
    "This is also a convenient way to assign values to multiple variables using only a single line of code:"
   ]
  },
  {
   "cell_type": "code",
   "execution_count": 15,
   "metadata": {},
   "outputs": [
    {
     "data": {
      "text/plain": [
       "(0.5, 0.3333333333333333, 0.25)"
      ]
     },
     "execution_count": 15,
     "metadata": {},
     "output_type": "execute_result"
    }
   ],
   "source": [
    "α, β, γ = 1/2, 1/3, 1/4"
   ]
  },
  {
   "cell_type": "markdown",
   "metadata": {
    "slideshow": {
     "slide_type": "slide"
    }
   },
   "source": [
    "## Example: Quadratic Roots Function\n",
    "\n",
    "Let's revisit the quadratic roots problem, this time encapsulating the logic in a function."
   ]
  },
  {
   "cell_type": "code",
   "execution_count": 16,
   "metadata": {
    "slideshow": {
     "slide_type": "fragment"
    }
   },
   "outputs": [
    {
     "data": {
      "text/plain": [
       "real_roots_of_quadratic (generic function with 1 method)"
      ]
     },
     "execution_count": 16,
     "metadata": {},
     "output_type": "execute_result"
    }
   ],
   "source": [
    "function real_roots_of_quadratic(a, b, c)\n",
    "    # Computes the real roots of the quadratic equation ax² + bx + c = 0.\n",
    "    discriminant = sqrt(b^2 - 4a*c)\n",
    "    r1 = (-b - discriminant) / (2a)\n",
    "    r2 = (-b + discriminant) / (2a)\n",
    "    return r1, r2\n",
    "end"
   ]
  },
  {
   "cell_type": "code",
   "execution_count": 17,
   "metadata": {
    "slideshow": {
     "slide_type": "fragment"
    }
   },
   "outputs": [
    {
     "data": {
      "text/plain": [
       "(-3.0, -2.0)"
      ]
     },
     "execution_count": 17,
     "metadata": {},
     "output_type": "execute_result"
    }
   ],
   "source": [
    "real_roots_of_quadratic(1, 5, 6)"
   ]
  },
  {
   "cell_type": "code",
   "execution_count": 18,
   "metadata": {
    "slideshow": {
     "slide_type": "fragment"
    }
   },
   "outputs": [
    {
     "data": {
      "text/plain": [
       "(6.0, -1.0)"
      ]
     },
     "execution_count": 18,
     "metadata": {},
     "output_type": "execute_result"
    }
   ],
   "source": [
    "real_roots_of_quadratic(-1, 5, 6)"
   ]
  },
  {
   "cell_type": "markdown",
   "metadata": {},
   "source": [
    "## Optional and Keyword Arguments\n",
    "\n",
    "Functions can be made more flexible by using **optional** and **keyword** arguments. This allows you to write functions that are easier to call in different situations."
   ]
  },
  {
   "cell_type": "markdown",
   "metadata": {
    "slideshow": {
     "slide_type": "slide"
    }
   },
   "source": [
    "### Optional Arguments\n",
    "\n",
    "You can make function arguments optional by providing them with a **default value**. If a caller doesn't provide a value for that argument, the default is used automatically.\n",
    "\n",
    "Let's model the vertical motion of an object under gravity using the formula $y(t) = y_0 + v_0 t - \\frac{1}{2} g t^2$. Our function will take three arguments:\n",
    "* The time `t` (required).\n",
    "* The initial height `y0` (optional).\n",
    "* The initial velocity `v0` (optional).\n",
    "\n",
    "By setting default values for `y0` and `v0`, we can easily model an object starting from the ground at rest."
   ]
  },
  {
   "cell_type": "code",
   "execution_count": 19,
   "metadata": {},
   "outputs": [
    {
     "data": {
      "text/plain": [
       "calculate_height_v1 (generic function with 3 methods)"
      ]
     },
     "execution_count": 19,
     "metadata": {},
     "output_type": "execute_result"
    }
   ],
   "source": [
    "function calculate_height_v1(t, y0=0.0, v0=0.0)\n",
    "    # In this version, gravity 'g' is hard-coded to Earth's value.\n",
    "    g = 9.81\n",
    "    return y0 + v0*t - 0.5*g*t^2\n",
    "end"
   ]
  },
  {
   "cell_type": "markdown",
   "metadata": {
    "slideshow": {
     "slide_type": "subslide"
    }
   },
   "source": [
    "Now we can call the function in several ways:"
   ]
  },
  {
   "cell_type": "code",
   "execution_count": 20,
   "metadata": {
    "slideshow": {
     "slide_type": "fragment"
    }
   },
   "outputs": [
    {
     "data": {
      "text/plain": [
       "-44.145"
      ]
     },
     "execution_count": 20,
     "metadata": {},
     "output_type": "execute_result"
    }
   ],
   "source": [
    "# 1. One argument: uses default values for y0 and v0.\n",
    "# This calculates the height of an object dropped from the ground after 3 seconds.\n",
    "calculate_height_v1(3)"
   ]
  },
  {
   "cell_type": "code",
   "execution_count": 21,
   "metadata": {
    "slideshow": {
     "slide_type": "fragment"
    }
   },
   "outputs": [
    {
     "data": {
      "text/plain": [
       "55.855"
      ]
     },
     "execution_count": 21,
     "metadata": {},
     "output_type": "execute_result"
    }
   ],
   "source": [
    "# 2. Two arguments: overrides y0, but uses the default for v0.\n",
    "# This calculates the height of an object dropped from a 100m cliff after 3 seconds.\n",
    "calculate_height_v1(3, 100.0)"
   ]
  },
  {
   "cell_type": "code",
   "execution_count": 22,
   "metadata": {
    "slideshow": {
     "slide_type": "fragment"
    }
   },
   "outputs": [
    {
     "data": {
      "text/plain": [
       "115.85499999999999"
      ]
     },
     "execution_count": 22,
     "metadata": {},
     "output_type": "execute_result"
    }
   ],
   "source": [
    "# 3. Three arguments: overrides both default values.\n",
    "# An object THROWN UPWARDS at 20 m/s from a 100m cliff. Height after 3 seconds.\n",
    "calculate_height_v1(3, 100.0, 20.0)"
   ]
  },
  {
   "cell_type": "markdown",
   "metadata": {
    "slideshow": {
     "slide_type": "slide"
    }
   },
   "source": [
    "### Keyword Arguments\n",
    "\n",
    "When a function has many arguments, it can be hard to remember their correct order. **Keyword arguments** solve this problem by allowing you to specify arguments by their name.\n",
    "\n",
    "To define keyword arguments, use a semicolon `;` in the function signature:\n",
    "\n",
    "```julia\n",
    "function my_func(arg1, arg2; keyword1=val1, keyword2=val2)\n",
    "    # ...\n",
    "end\n",
    "```\n",
    "\n",
    "When calling the function, you also use the names to pass values, and their order doesn't matter."
   ]
  },
  {
   "cell_type": "markdown",
   "metadata": {
    "slideshow": {
     "slide_type": "subslide"
    }
   },
   "source": [
    "Let's improve our function by making the acceleration due to gravity, `g`, a keyword argument. This makes it easy to model the same scenario on different planets without changing the positional arguments."
   ]
  },
  {
   "cell_type": "code",
   "execution_count": 23,
   "metadata": {},
   "outputs": [
    {
     "data": {
      "text/plain": [
       "calculate_height (generic function with 3 methods)"
      ]
     },
     "execution_count": 23,
     "metadata": {},
     "output_type": "execute_result"
    }
   ],
   "source": [
    "function calculate_height(t, y0=0.0, v0=0.0; g=9.81)\n",
    "    return y0 + v0*t - 0.5*g*t^2\n",
    "end"
   ]
  },
  {
   "cell_type": "markdown",
   "metadata": {},
   "source": [
    "Now we can provide the optional positional arguments (`y0`, `v0`) and the keyword argument (`g`) in a clear and flexible way."
   ]
  },
  {
   "cell_type": "code",
   "execution_count": 24,
   "metadata": {},
   "outputs": [
    {
     "data": {
      "text/plain": [
       "-7.290000000000001"
      ]
     },
     "execution_count": 24,
     "metadata": {},
     "output_type": "execute_result"
    }
   ],
   "source": [
    "# Use default values for y0 and v0, but specify 'g' for the Moon.\n",
    "# Height of an object dropped on the Moon (g ≈ 1.62) after 3 seconds.\n",
    "calculate_height(3; g=1.62)"
   ]
  },
  {
   "cell_type": "code",
   "execution_count": 25,
   "metadata": {},
   "outputs": [
    {
     "data": {
      "text/plain": [
       "83.305"
      ]
     },
     "execution_count": 25,
     "metadata": {},
     "output_type": "execute_result"
    }
   ],
   "source": [
    "# Specify y0 and g, but use the default v0.\n",
    "# Height of an object dropped from 100m on Mars (g ≈ 3.71) after 3 seconds.\n",
    "calculate_height(3, 100.0; g=3.71)"
   ]
  }
 ],
 "metadata": {
  "kernelspec": {
   "display_name": "Julia 1.11.5",
   "language": "julia",
   "name": "julia-1.11"
  },
  "language_info": {
   "file_extension": ".jl",
   "mimetype": "application/julia",
   "name": "julia",
   "version": "1.11.5"
  }
 },
 "nbformat": 4,
 "nbformat_minor": 4
}