{
 "cells": [
  {
   "cell_type": "markdown",
   "metadata": {
    "slideshow": {
     "slide_type": "slide"
    }
   },
   "source": [
    "(for-loops)=\n",
    "# Repeated evaluation: for-loops\n",
    "\n",
    "Suppose we want to compute the finite sum $s_n = \\sum_{i=1}^n \\frac{1}{i}$ for some integer $n\\ge 1$. To do this in a computer code, we need a *loop*, which runs a block of code repeatedly for a given number of times.\n",
    "\n",
    "The simplest form of a *for-loop* has the syntax\n",
    "\n",
    "```julia\n",
    "for i = 1:n\n",
    "    # This code will be repeated n times, for i = 1,2,...,n\n",
    "end\n",
    "```"
   ]
  },
  {
   "cell_type": "markdown",
   "metadata": {
    "slideshow": {
     "slide_type": "subslide"
    }
   },
   "source": [
    "Using for-loops, we can write a function to compute $s_n$:"
   ]
  },
  {
   "cell_type": "code",
   "execution_count": 1,
   "metadata": {
    "slideshow": {
     "slide_type": "fragment"
    }
   },
   "outputs": [
    {
     "data": {
      "text/plain": [
       "compute_s (generic function with 1 method)"
      ]
     },
     "execution_count": 1,
     "metadata": {},
     "output_type": "execute_result"
    }
   ],
   "source": [
    "function compute_s(n)\n",
    "    sn = 0\n",
    "    for i = 1:n\n",
    "        sn += 1/i\n",
    "    end\n",
    "    sn\n",
    "end"
   ]
  },
  {
   "cell_type": "markdown",
   "metadata": {
    "slideshow": {
     "slide_type": "fragment"
    }
   },
   "source": [
    "and use it to, e.g., compute $s_{100}$:"
   ]
  },
  {
   "cell_type": "code",
   "execution_count": 2,
   "metadata": {
    "slideshow": {
     "slide_type": "fragment"
    }
   },
   "outputs": [
    {
     "data": {
      "text/plain": [
       "5.187377517639621"
      ]
     },
     "execution_count": 2,
     "metadata": {},
     "output_type": "execute_result"
    }
   ],
   "source": [
    "compute_s(100)"
   ]
  },
  {
   "cell_type": "markdown",
   "metadata": {
    "slideshow": {
     "slide_type": "subslide"
    }
   },
   "source": [
    "More generally, a for-loop can have the syntax\n",
    "\n",
    "```julia\n",
    "for x = start:step:stop\n",
    "    # Code to be repeated\n",
    "end\n",
    "```\n",
    "\n",
    "This will repeat the code inside the for-loop, with `x` beginning at the value `start`, increasing by `step` for each repetition, and end at or before `x` reaches the value `stop`."
   ]
  },
  {
   "cell_type": "code",
   "execution_count": 3,
   "metadata": {
    "slideshow": {
     "slide_type": "subslide"
    }
   },
   "outputs": [
    {
     "name": "stdout",
     "output_type": "stream",
     "text": [
      "1 3 5 7 9 11 13 15 17 19 "
     ]
    }
   ],
   "source": [
    "for x = 1:2:20      # Steps of 2 - only odd values x\n",
    "    print(x, \" \")\n",
    "end"
   ]
  },
  {
   "cell_type": "code",
   "execution_count": 4,
   "metadata": {
    "slideshow": {
     "slide_type": "fragment"
    }
   },
   "outputs": [
    {
     "name": "stdout",
     "output_type": "stream",
     "text": [
      "1.0 1.2 1.4 1.6 1.8 2.0 2.2 2.4 2.6 2.8 3.0 3.2 3.4 3.6 3.8 4.0 4.2 4.4 4.6 4.8 5.0 "
     ]
    }
   ],
   "source": [
    "for x = 1:0.2:5     # Non-integers are ok\n",
    "    print(x, \" \")\n",
    "end"
   ]
  },
  {
   "cell_type": "code",
   "execution_count": 5,
   "metadata": {
    "slideshow": {
     "slide_type": "fragment"
    }
   },
   "outputs": [
    {
     "name": "stdout",
     "output_type": "stream",
     "text": [
      "10 9 8 7 6 5 4 3 2 1 0 -1 -2 -3 -4 -5 "
     ]
    }
   ],
   "source": [
    "for x = 10:-1:-5    # Use a negative step to count down\n",
    "    print(x, \" \")\n",
    "end"
   ]
  },
  {
   "cell_type": "code",
   "execution_count": 6,
   "metadata": {
    "slideshow": {
     "slide_type": "fragment"
    }
   },
   "outputs": [],
   "source": [
    "for x = 10:2:5      # No repetitions since start > stop and step is positive\n",
    "    print(x, \" \")\n",
    "end"
   ]
  },
  {
   "cell_type": "markdown",
   "metadata": {
    "slideshow": {
     "slide_type": "subslide"
    }
   },
   "source": [
    "## Example: The factorial function"
   ]
  },
  {
   "cell_type": "code",
   "execution_count": 7,
   "metadata": {
    "slideshow": {
     "slide_type": "fragment"
    }
   },
   "outputs": [
    {
     "data": {
      "text/plain": [
       "my_factorial (generic function with 1 method)"
      ]
     },
     "execution_count": 7,
     "metadata": {},
     "output_type": "execute_result"
    }
   ],
   "source": [
    "function my_factorial(n)\n",
    "    y = 1\n",
    "    for i = 2:n\n",
    "        y *= i\n",
    "    end\n",
    "    y\n",
    "end"
   ]
  },
  {
   "cell_type": "code",
   "execution_count": 8,
   "metadata": {
    "slideshow": {
     "slide_type": "fragment"
    }
   },
   "outputs": [
    {
     "data": {
      "text/plain": [
       "120"
      ]
     },
     "execution_count": 8,
     "metadata": {},
     "output_type": "execute_result"
    }
   ],
   "source": [
    "my_factorial(5)"
   ]
  },
  {
   "cell_type": "markdown",
   "metadata": {
    "slideshow": {
     "slide_type": "subslide"
    }
   },
   "source": [
    "Note that the factorial function grows very fast with increasing inputs, and its value will quickly exceed the maximum value of the default `Int64` type:"
   ]
  },
  {
   "cell_type": "code",
   "execution_count": 9,
   "metadata": {
    "slideshow": {
     "slide_type": "fragment"
    }
   },
   "outputs": [
    {
     "data": {
      "text/plain": [
       "2432902008176640000"
      ]
     },
     "execution_count": 9,
     "metadata": {},
     "output_type": "execute_result"
    }
   ],
   "source": [
    "my_factorial(20)     # This is OK"
   ]
  },
  {
   "cell_type": "code",
   "execution_count": 10,
   "metadata": {
    "slideshow": {
     "slide_type": "fragment"
    }
   },
   "outputs": [
    {
     "data": {
      "text/plain": [
       "-8764578968847253504"
      ]
     },
     "execution_count": 10,
     "metadata": {},
     "output_type": "execute_result"
    }
   ],
   "source": [
    "my_factorial(30)     # Too large - overflow"
   ]
  },
  {
   "cell_type": "markdown",
   "metadata": {
    "slideshow": {
     "slide_type": "fragment"
    }
   },
   "source": [
    "This particular value can still be computed by passing an `Int128` to the function (which will automatically force all computations inside the function to use `Int128`):"
   ]
  },
  {
   "cell_type": "code",
   "execution_count": 11,
   "metadata": {
    "slideshow": {
     "slide_type": "fragment"
    }
   },
   "outputs": [
    {
     "data": {
      "text/plain": [
       "265252859812191058636308480000000"
      ]
     },
     "execution_count": 11,
     "metadata": {},
     "output_type": "execute_result"
    }
   ],
   "source": [
    "my_factorial(Int128(30))"
   ]
  },
  {
   "cell_type": "markdown",
   "metadata": {
    "slideshow": {
     "slide_type": "subslide"
    }
   },
   "source": [
    "However, this technique will eventually fail as well, and in general this is a good illustration that it is important to know what types are used internally (even if Julia is *weakly typed*, that is, it chooses the types for you) and what their limitations are.\n",
    "\n",
    "Note that Julia has a built-in function for factorials, which gives an error if the return value is too large:"
   ]
  },
  {
   "cell_type": "code",
   "execution_count": 12,
   "metadata": {
    "slideshow": {
     "slide_type": "fragment"
    }
   },
   "outputs": [
    {
     "ename": "LoadError",
     "evalue": "OverflowError: 30 is too large to look up in the table; consider using `factorial(big(30))` instead",
     "output_type": "error",
     "traceback": [
      "OverflowError: 30 is too large to look up in the table; consider using `factorial(big(30))` instead",
      "",
      "Stacktrace:",
      " [1] factorial_lookup",
      "   @ ./combinatorics.jl:19 [inlined]",
      " [2] factorial(n::Int64)",
      "   @ Base ./combinatorics.jl:27",
      " [3] top-level scope",
      "   @ In[12]:1"
     ]
    }
   ],
   "source": [
    "factorial(30)"
   ]
  },
  {
   "cell_type": "markdown",
   "metadata": {
    "slideshow": {
     "slide_type": "slide"
    }
   },
   "source": [
    "## Example: Taylor polynomial\n",
    "\n",
    "Consider the Taylor polynomial of degree $2n$ for $\\cos x$:\n",
    "\n",
    "$$\n",
    "\\cos x \\approx \\sum_{k=0}^n \\frac{(-1)^k}{(2k)!}x^{2k}\n",
    "$$\n",
    "\n",
    "\n"
   ]
  },
  {
   "cell_type": "markdown",
   "metadata": {
    "slideshow": {
     "slide_type": "fragment"
    }
   },
   "source": [
    "A first version of a function to evaluate this could look like this:"
   ]
  },
  {
   "cell_type": "code",
   "execution_count": 13,
   "metadata": {
    "slideshow": {
     "slide_type": "fragment"
    }
   },
   "outputs": [
    {
     "data": {
      "text/plain": [
       "taylor_cos_bad (generic function with 1 method)"
      ]
     },
     "execution_count": 13,
     "metadata": {},
     "output_type": "execute_result"
    }
   ],
   "source": [
    "function taylor_cos_bad(x,n)\n",
    "    y = 0\n",
    "    for k = 0:n\n",
    "        y += (-1)^k / factorial(2k) * x^2k\n",
    "    end\n",
    "    y\n",
    "end"
   ]
  },
  {
   "cell_type": "markdown",
   "metadata": {
    "slideshow": {
     "slide_type": "subslide"
    }
   },
   "source": [
    "This function works as expected:"
   ]
  },
  {
   "cell_type": "code",
   "execution_count": 14,
   "metadata": {
    "slideshow": {
     "slide_type": "fragment"
    }
   },
   "outputs": [
    {
     "name": "stdout",
     "output_type": "stream",
     "text": [
      "0.9689127604166666\n",
      "0.9689124217106447\n"
     ]
    }
   ],
   "source": [
    "# x = 0.25, excellent approximation of degree 4\n",
    "println(taylor_cos_bad(0.25, 2))  # Taylor approximation\n",
    "println(cos(0.25))                # true value"
   ]
  },
  {
   "cell_type": "code",
   "execution_count": 15,
   "metadata": {
    "slideshow": {
     "slide_type": "fragment"
    }
   },
   "outputs": [
    {
     "name": "stdout",
     "output_type": "stream",
     "text": [
      "367.66666666666663\n",
      "-0.8390715290764524\n"
     ]
    }
   ],
   "source": [
    "# x = 10, very poor approximation of degree 4\n",
    "println(taylor_cos_bad(10, 2))  # Taylor approximation\n",
    "println(cos(10))                # true value"
   ]
  },
  {
   "cell_type": "markdown",
   "metadata": {
    "slideshow": {
     "slide_type": "subslide"
    }
   },
   "source": [
    "But note that if you try to increase $n$, eventually you will run into the same problem as before with the `factorial` function:"
   ]
  },
  {
   "cell_type": "code",
   "execution_count": 16,
   "metadata": {
    "slideshow": {
     "slide_type": "fragment"
    }
   },
   "outputs": [
    {
     "ename": "LoadError",
     "evalue": "OverflowError: 22 is too large to look up in the table; consider using `factorial(big(22))` instead",
     "output_type": "error",
     "traceback": [
      "OverflowError: 22 is too large to look up in the table; consider using `factorial(big(22))` instead",
      "",
      "Stacktrace:",
      " [1] factorial_lookup",
      "   @ ./combinatorics.jl:19 [inlined]",
      " [2] factorial",
      "   @ ./combinatorics.jl:27 [inlined]",
      " [3] taylor_cos_bad(x::Int64, n::Int64)",
      "   @ Main ./In[13]:4",
      " [4] top-level scope",
      "   @ In[16]:2"
     ]
    }
   ],
   "source": [
    "# x = 10, try approximation of degree 30\n",
    "println(taylor_cos_bad(10, 15)) # Taylor approximation\n",
    "println(cos(10))                # true value"
   ]
  },
  {
   "cell_type": "markdown",
   "metadata": {
    "slideshow": {
     "slide_type": "subslide"
    }
   },
   "source": [
    "This problem is associated with something more fundamental, namely that the Taylor polynomial for large $x$ and $n$ divides very large numbers to produce small numbers. A better way to compute this is to note that both the factorial and the power of $x$ can be implemented *incrementally*, that is, each term can easily be obtained from the previous one. This is true for the $(-1)^k$ factor as well, it simply says that the terms have alternating signs. These observations can be implemented in this better code:"
   ]
  },
  {
   "cell_type": "code",
   "execution_count": 17,
   "metadata": {
    "slideshow": {
     "slide_type": "fragment"
    }
   },
   "outputs": [
    {
     "data": {
      "text/plain": [
       "taylor_cos (generic function with 1 method)"
      ]
     },
     "execution_count": 17,
     "metadata": {},
     "output_type": "execute_result"
    }
   ],
   "source": [
    "function taylor_cos(x,n)\n",
    "    term = 1\n",
    "    y = 1\n",
    "    for k = 1:n\n",
    "        term *= -x^2 / ((2k-1) * 2k)\n",
    "        y += term\n",
    "    end\n",
    "    y\n",
    "end"
   ]
  },
  {
   "cell_type": "markdown",
   "metadata": {
    "slideshow": {
     "slide_type": "subslide"
    }
   },
   "source": [
    "This version easily computes with degree 30:"
   ]
  },
  {
   "cell_type": "code",
   "execution_count": 18,
   "metadata": {
    "slideshow": {
     "slide_type": "fragment"
    }
   },
   "outputs": [
    {
     "name": "stdout",
     "output_type": "stream",
     "text": [
      "-0.839420205180993\n",
      "-0.8390715290764524\n"
     ]
    }
   ],
   "source": [
    "# x = 10, try approximation of degree 30\n",
    "println(taylor_cos(10, 15)) # Taylor approximation\n",
    "println(cos(10))            # true value"
   ]
  },
  {
   "cell_type": "markdown",
   "metadata": {
    "slideshow": {
     "slide_type": "fragment"
    }
   },
   "source": [
    "and even higher:"
   ]
  },
  {
   "cell_type": "code",
   "execution_count": 19,
   "metadata": {
    "scrolled": true,
    "slideshow": {
     "slide_type": "fragment"
    }
   },
   "outputs": [
    {
     "name": "stdout",
     "output_type": "stream",
     "text": [
      "-0.8390715290766048\n",
      "-0.8390715290764524\n"
     ]
    }
   ],
   "source": [
    "# x = 10, try approximation of degree 100\n",
    "println(taylor_cos(10, 50)) # Taylor approximation\n",
    "println(cos(10))            # true value"
   ]
  },
  {
   "cell_type": "markdown",
   "metadata": {},
   "source": [
    "## Scope of Variables\n",
    "\n",
    "The *scope* of a variable is the region of code within which a variable is visible. A new *local scope* is introduced by most code blocks. A local scope inherits all the variables from a parent local scope, both for reading and writing, unless the variable is specifically marked with the keyword `local`. This is illustrated in the example below."
   ]
  },
  {
   "cell_type": "code",
   "execution_count": 20,
   "metadata": {},
   "outputs": [
    {
     "name": "stdout",
     "output_type": "stream",
     "text": [
      "5\n",
      "10\n"
     ]
    },
    {
     "ename": "LoadError",
     "evalue": "UndefVarError: `z` not defined",
     "output_type": "error",
     "traceback": [
      "UndefVarError: `z` not defined",
      "",
      "Stacktrace:",
      " [1] top-level scope",
      "   @ In[20]:12"
     ]
    }
   ],
   "source": [
    "x = 10\n",
    "y = 10\n",
    "\n",
    "for i = 1:5\n",
    "    z = i        # Local scope, only visible inside for-loop\n",
    "    x = z        # Using x from parent scope\n",
    "    local y = z  # Local scope, only visible inside for-loop (not using y from parent scope)\n",
    "end\n",
    "\n",
    "println(x)    #  = 5, since for loop modifies parent variable x\n",
    "println(y)    #  = 10, since for loop uses local variable y\n",
    "println(z)    # Error: z only defined in the local scope of the for-loop"
   ]
  },
  {
   "cell_type": "markdown",
   "metadata": {},
   "source": [
    "This can be convenient in for example *nested functions*, where the variables defined in the top function can be used in the inner function without having to pass it as a parameter."
   ]
  }
 ],
 "metadata": {
  "kernelspec": {
   "display_name": "Julia 1.9.2",
   "language": "julia",
   "name": "julia-1.9"
  },
  "language_info": {
   "file_extension": ".jl",
   "mimetype": "application/julia",
   "name": "julia",
   "version": "1.9.2"
  }
 },
 "nbformat": 4,
 "nbformat_minor": 2
}