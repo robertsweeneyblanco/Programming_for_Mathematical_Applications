{
 "cells": [
  {
   "cell_type": "markdown",
   "metadata": {
    "slideshow": {
     "slide_type": "slide"
    }
   },
   "source": [
    "# Arbitrary precision floating-point numbers\n",
    "\n",
    "Similarly, the `BigFloat` data type can create floating-point numbers with higher precision than the regular `Float64` type. It can also be created from an existing `Float64` number:"
   ]
  },
  {
   "cell_type": "code",
   "execution_count": 1,
   "metadata": {
    "slideshow": {
     "slide_type": "fragment"
    }
   },
   "outputs": [
    {
     "data": {
      "text/plain": [
       "1.75"
      ]
     },
     "execution_count": 1,
     "metadata": {},
     "output_type": "execute_result"
    }
   ],
   "source": [
    "BigFloat(1.75)              # Accidentally OK, since 1.75 is exactly represented by Float64"
   ]
  },
  {
   "cell_type": "markdown",
   "metadata": {
    "slideshow": {
     "slide_type": "fragment"
    }
   },
   "source": [
    "But again this might give unintended results, since the number is first converted to `Float64` with only about 16 decimal digits of accuracy:"
   ]
  },
  {
   "cell_type": "code",
   "execution_count": 2,
   "metadata": {
    "slideshow": {
     "slide_type": "fragment"
    }
   },
   "outputs": [
    {
     "data": {
      "text/plain": [
       "2.100000000000000088817841970012523233890533447265625"
      ]
     },
     "execution_count": 2,
     "metadata": {},
     "output_type": "execute_result"
    }
   ],
   "source": [
    "BigFloat(2.1)               # First rounded to Float64, low precision"
   ]
  },
  {
   "cell_type": "markdown",
   "metadata": {
    "slideshow": {
     "slide_type": "subslide"
    }
   },
   "source": [
    "Again this can be solved using the string syntax:"
   ]
  },
  {
   "cell_type": "code",
   "execution_count": 3,
   "metadata": {
    "slideshow": {
     "slide_type": "fragment"
    }
   },
   "outputs": [
    {
     "data": {
      "text/plain": [
       "2.099999999999999999999999999999999999999999999999999999999999999999999999999986"
      ]
     },
     "execution_count": 3,
     "metadata": {},
     "output_type": "execute_result"
    }
   ],
   "source": [
    "parse(BigFloat, \"2.1\")      # High precision"
   ]
  },
  {
   "cell_type": "markdown",
   "metadata": {
    "slideshow": {
     "slide_type": "slide"
    }
   },
   "source": [
    "The precision, or the number of bits used to store the number, can be controlled with the `setprecision` function. It will set the precision for all later operations, unless used in a `do` block as shown below when it will only apply to that block of code."
   ]
  },
  {
   "cell_type": "code",
   "execution_count": 4,
   "metadata": {
    "slideshow": {
     "slide_type": "fragment"
    }
   },
   "outputs": [
    {
     "data": {
      "text/plain": [
       "0.333333333333333333333333333333333333333333333333333333333333333333333333333333333333333333333333333333333333333333333333333333333333333333333333333333333346"
      ]
     },
     "execution_count": 4,
     "metadata": {},
     "output_type": "execute_result"
    }
   ],
   "source": [
    "setprecision(512) do\n",
    "    BigFloat(1) / BigFloat(3)\n",
    "end"
   ]
  },
  {
   "cell_type": "markdown",
   "metadata": {
    "slideshow": {
     "slide_type": "subslide"
    }
   },
   "source": [
    "Julia's built-in functions support the higher precision:"
   ]
  },
  {
   "cell_type": "code",
   "execution_count": 5,
   "metadata": {
    "slideshow": {
     "slide_type": "fragment"
    }
   },
   "outputs": [
    {
     "data": {
      "text/plain": [
       "3.141592653589793238462643383279502884197169399375105820974944592307816406286198"
      ]
     },
     "metadata": {},
     "output_type": "display_data"
    },
    {
     "data": {
      "text/plain": [
       "1.096917440979352076742130626395698021050758236508687951179005716992142688513354e-77"
      ]
     },
     "metadata": {},
     "output_type": "display_data"
    }
   ],
   "source": [
    "display(BigFloat(pi))\n",
    "display(sin(BigFloat(pi)))"
   ]
  },
  {
   "cell_type": "markdown",
   "metadata": {
    "slideshow": {
     "slide_type": "slide"
    }
   },
   "source": [
    "## Example: Cubic convergence\n",
    "\n",
    "*Halley's method* is an extension of Newton's method for solving $f(x)=0$, which involves the second derivative but gives cubic convergence:\n",
    "\n",
    "$$\n",
    "x_{n+1} = x_n - \\frac{2f(x_n) f'(x_n)}{2[f'(x_n)]^2 - f(x_n)f''(x_n)}\n",
    "$$\n",
    "\n",
    "This cubic convergence is sometimes hard to observe, since the machine precision is achieved very quickly. But with arbitrary precision we can confirm the \"tripling of the accurate digits\" in each iteration. For example, consider computing $x=\\sqrt[3]{a}$ by solving the equation $f(x) = x^3 - a$:"
   ]
  },
  {
   "cell_type": "code",
   "execution_count": 6,
   "metadata": {
    "slideshow": {
     "slide_type": "subslide"
    }
   },
   "outputs": [
    {
     "data": {
      "text/plain": [
       "halley_cuberoot (generic function with 1 method)"
      ]
     },
     "execution_count": 6,
     "metadata": {},
     "output_type": "execute_result"
    }
   ],
   "source": [
    "function halley_cuberoot(a, ε)\n",
    "    x = 1    # Initial guess\n",
    "    Δx = 1   # Need to initialize to get started\n",
    "    while Δx ≥ ε\n",
    "        xnew = x - 2(x^3 - a)*3x^2 / (2(3x^2)^2 - (x^3 - a)*(6x))\n",
    "        Δx = abs(xnew - x)\n",
    "        x = xnew\n",
    "        println(\"Error = \", abs(x - cbrt(a)))\n",
    "    end\n",
    "    x\n",
    "end"
   ]
  },
  {
   "cell_type": "code",
   "execution_count": 7,
   "metadata": {
    "slideshow": {
     "slide_type": "subslide"
    }
   },
   "outputs": [
    {
     "name": "stdout",
     "output_type": "stream",
     "text": [
      "Error = 0.009921049894873164767210607278228350570251464701507980081975112155299676513956221\n",
      "Error = 4.149742382441322899723575934299353308297808730594470544772346647558790369568435e-07\n",
      "Error = 3.001136168965729242876474785354871654493618340778791794290950778604895701742477e-20\n",
      "Error = 1.135217767765559947507625958119369715609728496052297379270293469389407869634748e-59\n",
      "Error = 0.0\n",
      "Error = 0.0\n"
     ]
    },
    {
     "data": {
      "text/plain": [
       "1.259921049894873164767210607278228350570251464701507980081975112155299676513956"
      ]
     },
     "execution_count": 7,
     "metadata": {},
     "output_type": "execute_result"
    }
   ],
   "source": [
    "halley_cuberoot(BigFloat(2), 1e-60)"
   ]
  }
 ],
 "metadata": {
  "kernelspec": {
   "display_name": "Julia 1.9.2",
   "language": "julia",
   "name": "julia-1.9"
  },
  "language_info": {
   "file_extension": ".jl",
   "mimetype": "application/julia",
   "name": "julia",
   "version": "1.9.2"
  }
 },
 "nbformat": 4,
 "nbformat_minor": 2
}
