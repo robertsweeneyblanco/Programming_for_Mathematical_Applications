{
 "cells": [
  {
   "cell_type": "markdown",
   "metadata": {},
   "source": [
    "# Sparse Matrices in Julia\n",
    "\n",
    "Julia supports sparse matrices in the `SparseMatrixCSC` type. It uses\n",
    "the CSC format, and the datatype `Tv` for the non-zeros and all indices `Ti`\n",
    "can optionally be specified, `SparseMatrixCSC{Tv,Ti}`.\n",
    "\n",
    "Some special sparse matrices can be created using the following functions (together with\n",
    "their dense equivalents):\n",
    "\n",
    "| Sparse             | Dense           | Description                                    |\n",
    "|:------------------ |:--------------- |:---------------------------------------------- |\n",
    "| `spzeros(m,n)`     | `zeros(m,n)`    | m-by-n matrix of zeros                         |\n",
    "| `sparse(I, n, n)`  | `Matrix(I,n,n)` | n-by-n identity matrix                         |\n",
    "| `Array(S)`         | `sparse(A)`     | Interconverts between dense and sparse formats |\n",
    "| `sprand(m,n,d)`    | `rand(m,n)`     | m-by-n random matrix (uniform) of density d    |\n",
    "| `sprandn(m,n,d)`   | `randn(m,n)`    | m-by-n random matrix (normal) of density d     |\n",
    "\n",
    "More general sparse matrices can be created with the syntax `A = sparse(rows,cols,vals)` which\n",
    "takes a vector `rows` of row indices, a vector `cols` of column indices,\n",
    "and a vector `vals` of stored values (essentially the COO format).\n",
    "\n",
    "The inverse of this syntax is `rows,cols,vals = findnz(A)`.\n",
    "\n",
    "The number of non-zeros of a matrix `A` are returned by the `nnz(A)` function."
   ]
  },
  {
   "cell_type": "markdown",
   "metadata": {},
   "source": [
    "## Example\n",
    "\n",
    "For the matrix considered above, the easiest approach is to start from the COO format\n",
    "and use `sparse(rows, cols, vals)`. The size of the matrix is determined from the\n",
    "indices, if needed it can also be specified as `sparse(rows, cols, vals, m, n)`."
   ]
  },
  {
   "cell_type": "code",
   "execution_count": 1,
   "metadata": {},
   "outputs": [],
   "source": [
    "using PyPlot, SparseArrays, LinearAlgebra # Packages used"
   ]
  },
  {
   "cell_type": "code",
   "execution_count": 2,
   "metadata": {},
   "outputs": [
    {
     "data": {
      "text/plain": [
       "5×5 SparseMatrixCSC{Int64, Int64} with 10 stored entries:\n",
       "  5  ⋅  -3   -2  7\n",
       "  ⋅  5   ⋅    ⋅  ⋅\n",
       " -2  ⋅  -1    ⋅  ⋅\n",
       " -4  ⋅   ⋅  -10  ⋅\n",
       "  ⋅  ⋅   ⋅    ⋅  9"
      ]
     },
     "execution_count": 2,
     "metadata": {},
     "output_type": "execute_result"
    }
   ],
   "source": [
    "rows = [1,3,4,2,1,3,1,4,1,5]\n",
    "cols = [1,1,1,2,3,3,4,4,5,5]\n",
    "vals = [5,-2,-4,5,-3,-1,-2,-10,7,9]\n",
    "\n",
    "A = sparse(rows, cols, vals, 5, 5)"
   ]
  },
  {
   "cell_type": "markdown",
   "metadata": {},
   "source": [
    "We note that Julia only displays the non-zeros in the matrix. If needed, it can be converted\n",
    "to a dense matrix:"
   ]
  },
  {
   "cell_type": "code",
   "execution_count": 3,
   "metadata": {},
   "outputs": [
    {
     "data": {
      "text/plain": [
       "5×5 Matrix{Int64}:\n",
       "  5  0  -3   -2  7\n",
       "  0  5   0    0  0\n",
       " -2  0  -1    0  0\n",
       " -4  0   0  -10  0\n",
       "  0  0   0    0  9"
      ]
     },
     "execution_count": 3,
     "metadata": {},
     "output_type": "execute_result"
    }
   ],
   "source": [
    "Array(A)"
   ]
  },
  {
   "cell_type": "markdown",
   "metadata": {},
   "source": [
    "But in many cases, it is enough to only show the *sparsity pattern* of the matrix\n",
    "(not the actual values). PyPlot can visualize this using a so-called spy plot:"
   ]
  },
  {
   "cell_type": "code",
   "execution_count": 4,
   "metadata": {},
   "outputs": [
    {
     "data": {
      "image/png": "[encoded data removed]",
      "text/plain": [
       "Figure(PyObject <Figure size 640x480 with 1 Axes>)"
      ]
     },
     "metadata": {},
     "output_type": "display_data"
    }
   ],
   "source": [
    "spy(A, marker=\".\", markersize=24);   ## Note - 0-based row and columns"
   ]
  },
  {
   "cell_type": "markdown",
   "metadata": {},
   "source": [
    "## Operations on sparse matrices\n",
    "\n",
    "Many operations work exactly the same for sparse matrices as for dense matrices,\n",
    "including arithmetic operations, indexing, assignment, and concatenation:"
   ]
  },
  {
   "cell_type": "code",
   "execution_count": 5,
   "metadata": {},
   "outputs": [
    {
     "data": {
      "text/plain": [
       "5×10 Matrix{Float64}:\n",
       " -16.5    0.0  9.9  -1.1  -23.1  87.0   0.0  -7.0    0.0  63.0\n",
       "   0.0  -16.5  0.0  -1.1    0.0   0.0  25.0   0.0    0.0   0.0\n",
       "   6.6    0.0  3.3  -1.1    0.0  -7.0   0.0   5.0    8.0   0.0\n",
       "  13.2    0.0  0.0  -1.1    0.0   0.0   0.0   8.0  116.0   0.0\n",
       "   0.0    0.0  0.0  -1.1  -29.7  63.0   0.0   0.0    0.0  81.0"
      ]
     },
     "execution_count": 5,
     "metadata": {},
     "output_type": "execute_result"
    }
   ],
   "source": [
    "B = A  - 4.3A   # Will automatically convert datatype of values to Float64\n",
    "B[:,4] .= -1.1  # OK since B now has Float64 values (otherwise use Float64.(A) to convert)\n",
    "C = A * A'      # Matrix multiplication (note: typically increases nnz)\n",
    "Matrix([B C])   # Concatenation, again automatic conversion (of C)"
   ]
  },
  {
   "cell_type": "markdown",
   "metadata": {},
   "source": [
    "However, note that some standard operations can make the matrix more dense, and it might\n",
    "not make sense to use a sparse storage format for the result. Also, inserting new elements\n",
    "is expensive (for example the operation on the 4th column of `B` in the example above)."
   ]
  },
  {
   "cell_type": "markdown",
   "metadata": {},
   "source": [
    "## Incremental matrix construction\n",
    "\n",
    "Since Julia uses the CSC format for sparse matrices, it is inefficient to create\n",
    "matrices incrementally (that is, to insert new non-zeros into the matrix).\n",
    "As an example, consider building a matrix using a for-loop. We start with an empty\n",
    "sparse matrix of given size $N$-by-$N$, and insert a total of $10N$ new random entries\n",
    "at random positions."
   ]
  },
  {
   "cell_type": "code",
   "execution_count": 6,
   "metadata": {},
   "outputs": [
    {
     "data": {
      "text/plain": [
       "incremental_test_1"
      ]
     },
     "execution_count": 6,
     "metadata": {},
     "output_type": "execute_result"
    }
   ],
   "source": [
    "\"\"\"\n",
    "Incremental matrix construction using the sparse-format\n",
    "Not recommended: Insertion into existing matrix very slow\n",
    "\"\"\"\n",
    "function incremental_test_1(N)\n",
    "    A = spzeros(N,N)\n",
    "    for k = 1:10N\n",
    "        i,j = rand(1:N, 2)\n",
    "        A[i,j] = rand()\n",
    "    end\n",
    "    return A\n",
    "end"
   ]
  },
  {
   "cell_type": "markdown",
   "metadata": {},
   "source": [
    "We time the function for increasing values of $N$:"
   ]
  },
  {
   "cell_type": "code",
   "execution_count": 7,
   "metadata": {},
   "outputs": [
    {
     "name": "stdout",
     "output_type": "stream",
     "text": [
      "  0.000124 seconds (1.01 k allocations: 122.719 KiB)\n",
      "  0.005774 seconds (10.02 k allocations: 1.409 MiB)\n",
      "  0.771326 seconds (100.02 k allocations: 11.361 MiB)\n"
     ]
    }
   ],
   "source": [
    "incremental_test_1(10);   # Force compile before timing\n",
    "for N in [100,1000,10000]\n",
    "  @time incremental_test_1(N);\n",
    "end"
   ]
  },
  {
   "cell_type": "markdown",
   "metadata": {},
   "source": [
    "We can observe the approximately *quadratic* dependency on $N$, even though the\n",
    "number of non-zeros is only proportional to $N$. This is because of the inefficiencies\n",
    "with element insertion into a sparse matrix.\n",
    "\n",
    "Instead, we can build the same matrix using the COO format (row, column, and value indices)\n",
    "and only call `sparse` once:"
   ]
  },
  {
   "cell_type": "code",
   "execution_count": 8,
   "metadata": {},
   "outputs": [
    {
     "data": {
      "text/plain": [
       "incremental_test_2"
      ]
     },
     "execution_count": 8,
     "metadata": {},
     "output_type": "execute_result"
    }
   ],
   "source": [
    "\"\"\"\n",
    "Incremental matrix construction using COO and a single call to sparse\n",
    "Fast approach, avoids incremental insertion into existing array\n",
    "\"\"\"\n",
    "function incremental_test_2(N)\n",
    "    rows = Int64[]\n",
    "    cols = Int64[]\n",
    "    vals = Float64[]\n",
    "    for i = 1:10N\n",
    "        push!(rows, rand(1:N))\n",
    "        push!(cols, rand(1:N))\n",
    "        push!(vals, rand())\n",
    "    end\n",
    "    return sparse(rows, cols, vals, N, N)\n",
    "end"
   ]
  },
  {
   "cell_type": "code",
   "execution_count": 9,
   "metadata": {},
   "outputs": [
    {
     "name": "stdout",
     "output_type": "stream",
     "text": [
      "  0.000042 seconds (28 allocations: 99.500 KiB)\n",
      "  0.000494 seconds (41 allocations: 1.285 MiB)\n",
      "  0.017001 seconds (50 allocations: 8.764 MiB, 55.91% gc time)\n",
      "  0.115986 seconds (59 allocations: 62.151 MiB, 4.34% gc time)\n",
      "  2.404683 seconds (71 allocations: 476.117 MiB, 0.28% gc time)\n"
     ]
    }
   ],
   "source": [
    "incremental_test_2(10);   # Force compile before timing\n",
    "for N in [100,1000,10000,100000,1000000]\n",
    "  @time incremental_test_2(N);\n",
    "end"
   ]
  },
  {
   "cell_type": "markdown",
   "metadata": {},
   "source": [
    "This version is magnitudes faster than the previous one, although it does not quite achieve\n",
    "linear dependency on $N$ (possibly because of the sorting inside `sparse`)."
   ]
  }
 ],
 "metadata": {
  "kernelspec": {
   "display_name": "Julia 1.9.2",
   "language": "julia",
   "name": "julia-1.9"
  },
  "language_info": {
   "file_extension": ".jl",
   "mimetype": "application/julia",
   "name": "julia",
   "version": "1.9.2"
  }
 },
 "nbformat": 4,
 "nbformat_minor": 2
}
