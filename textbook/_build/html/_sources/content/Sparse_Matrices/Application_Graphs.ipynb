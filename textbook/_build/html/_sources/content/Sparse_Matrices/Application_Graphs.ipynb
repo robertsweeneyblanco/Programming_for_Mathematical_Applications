{
 "cells": [
  {
   "attachments": {},
   "cell_type": "markdown",
   "metadata": {},
   "source": [
    "# Application: Graphs using sparse matrices\n",
    "\n",
    "While we used adjacency lists to store our graphs previously, it is also possible to\n",
    "use *adjancency matrices*. For an unweighted graph with vertices $V,E$, the adjancency\n",
    "matrix $A$ is of size $|V|$-by-$|V|$, and entries $A_{ij}=1$ if the graph has an edge\n",
    "from vertex $i$ to vertex $j$, otherwise zero.\n",
    "\n",
    "These can be stored conveniently using Julia's sparse matrices. Note that the actual\n",
    "implementation using the CSC format is quite similar to the adjancency list. However,\n",
    "insertion of new edges (and vertices) is still very expensive.\n",
    "\n",
    "As an example, we create the same graph as used in the section on graph algorithms.\n",
    "Since the CSC format stores non-zeros column-by-column, we use the transpose $A^T$\n",
    "instead of $A$ itself. This makes it faster to find all the neighbors of a vertex,\n",
    "by finding the non-zeros in a column (instead of a row).\n",
    "\n",
    "![graph1.png](graph1.png \"Example graph\")"
   ]
  },
  {
   "cell_type": "code",
   "execution_count": 1,
   "metadata": {},
   "outputs": [],
   "source": [
    "using PyPlot, SparseArrays, LinearAlgebra # Packages used"
   ]
  },
  {
   "cell_type": "code",
   "execution_count": 2,
   "metadata": {},
   "outputs": [
    {
     "data": {
      "image/png": "[encoded data removed]",
      "text/plain": [
       "Figure(PyObject <Figure size 640x480 with 1 Axes>)"
      ]
     },
     "metadata": {},
     "output_type": "display_data"
    }
   ],
   "source": [
    "rows = [1,1,1,2,2,2,3,3,4,4,4,4,5,6,6,7,9,10,10,11,11,11]\n",
    "cols = [2,10,6,3,1,11,1,2,5,3,2,7,6,7,5,6,10,1,9,1,4,9]\n",
    "AT = sparse(cols, rows, 1, 11, 11)   # Use transpose, better for finding neighbors\n",
    "spy(AT, marker=\".\", markersize=20);"
   ]
  },
  {
   "cell_type": "markdown",
   "metadata": {},
   "source": [
    "To illustrate how to use this adjacency matrix, we repeat the DFS algorithm.\n",
    "The main operation is the loop over all neighbors of `ivertex`, which are given\n",
    "by the locations of the non-zeros in a column: `findall(AT[:,ivertex])`."
   ]
  },
  {
   "cell_type": "code",
   "execution_count": 3,
   "metadata": {},
   "outputs": [
    {
     "data": {
      "text/plain": [
       "sparse_dfs (generic function with 1 method)"
      ]
     },
     "execution_count": 3,
     "metadata": {},
     "output_type": "execute_result"
    }
   ],
   "source": [
    "function sparse_dfs(AT, start)\n",
    "    visited = falses(size(AT,1))\n",
    "    function visit(ivertex)\n",
    "        visited[ivertex] = true\n",
    "        println(\"Visiting vertex #$ivertex\")\n",
    "        for nb in findall(AT[:,ivertex] .!= 0)\n",
    "            if !visited[nb]\n",
    "                visit(nb)\n",
    "            end\n",
    "        end\n",
    "    end\n",
    "    visit(start)\n",
    "    return nothing\n",
    "end"
   ]
  },
  {
   "cell_type": "code",
   "execution_count": 4,
   "metadata": {},
   "outputs": [
    {
     "name": "stdout",
     "output_type": "stream",
     "text": [
      "Visiting vertex #1\n",
      "Visiting vertex #2\n",
      "Visiting vertex #3\n",
      "Visiting vertex #11\n",
      "Visiting vertex #4\n",
      "Visiting vertex #5\n",
      "Visiting vertex #6\n",
      "Visiting vertex #7\n",
      "Visiting vertex #9\n",
      "Visiting vertex #10\n"
     ]
    }
   ],
   "source": [
    "sparse_dfs(AT, 1)"
   ]
  }
 ],
 "metadata": {
  "kernelspec": {
   "display_name": "Julia 1.9.2",
   "language": "julia",
   "name": "julia-1.9"
  },
  "language_info": {
   "file_extension": ".jl",
   "mimetype": "application/julia",
   "name": "julia",
   "version": "1.9.2"
  }
 },
 "nbformat": 4,
 "nbformat_minor": 2
}
