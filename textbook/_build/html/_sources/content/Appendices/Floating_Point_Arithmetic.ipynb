{
 "cells": [
  {
   "cell_type": "markdown",
   "metadata": {},
   "source": [
    "# Floating Point Arithmetic"
   ]
  },
  {
   "cell_type": "markdown",
   "metadata": {},
   "source": [
    "## Binary numbers\n",
    "\n",
    "Integers in a computer are stored as *binary numbers*, that is, using base-2. For example, the binary number $1011001_2$ corresponds to the decimal number\n",
    "\n",
    "$$\n",
    "\\begin{align*}\n",
    "1011001_2 &= 1\\times 2^6 + 0\\times 2^5 + 1\\times 2^4 + 1\\times 2^3 + 0\\times 2^2 + 0\\times 2^1 + 1 \\times 2^0 \\\\\n",
    "          &= 2^6 + 2^4 + 2^3 + 2^0 = 89_{10}\n",
    "\\end{align*}\n",
    "$$\n",
    "\n",
    "or, in Julia:"
   ]
  },
  {
   "cell_type": "code",
   "execution_count": 1,
   "metadata": {},
   "outputs": [
    {
     "data": {
      "text/plain": [
       "89"
      ]
     },
     "execution_count": 1,
     "metadata": {},
     "output_type": "execute_result"
    }
   ],
   "source": [
    "Int(0b1011001)"
   ]
  },
  {
   "cell_type": "markdown",
   "metadata": {},
   "source": [
    "Unsigned integers can be represented in Julia using the types `UInt8`, `UInt16`, etc. The actual binary representation in the computer can be seen as a bitstring:"
   ]
  },
  {
   "cell_type": "code",
   "execution_count": 2,
   "metadata": {},
   "outputs": [
    {
     "data": {
      "text/plain": [
       "\"01011001\""
      ]
     },
     "execution_count": 2,
     "metadata": {},
     "output_type": "execute_result"
    }
   ],
   "source": [
    "bitstring(UInt8(89))"
   ]
  },
  {
   "cell_type": "markdown",
   "metadata": {},
   "source": [
    "So, for example the `UInt64` type can represent numbers between $0$ and $1111\\ldots 1111_2 = 2^{63} + 2^{62} + \\cdots + 2^1 + 2^0 = 2^{64} - 1$"
   ]
  },
  {
   "cell_type": "markdown",
   "metadata": {},
   "source": [
    "### Signed numbers\n",
    "\n",
    "There are various ways of representing negative numbers, for example by using one of the bits as a \"sign bit\" (0 meaning positive, 1 meaning negative). However, the so-called *two's complement* format is widely used to store signed integers. When the most significant bit (representing the highest power) is equal to 1, the number is negative. For $n$ bits, the two's complement is defined by the sum of the number and its two's complement equals $2^n$. For example, with 8 bits, the two's complement of $01011001_2$ is $10100111_2$, since\n",
    "\n",
    "$$\n",
    "01011001_2 + 10100111_2 = 100000000_2 = 2^8 = 256_{10}\n",
    "$$\n",
    "\n",
    "This means that with signed integers, the number $10100111_2$ represents the negative of $01011001_2$, that is, $-89_{10}$.\n",
    "\n",
    "In Julia, signed integers are represented using the types `Int8`, `Int16`, etc:"
   ]
  },
  {
   "cell_type": "code",
   "execution_count": 3,
   "metadata": {},
   "outputs": [
    {
     "data": {
      "text/plain": [
       "\"01011001\""
      ]
     },
     "execution_count": 3,
     "metadata": {},
     "output_type": "execute_result"
    }
   ],
   "source": [
    "bitstring(Int8(89))"
   ]
  },
  {
   "cell_type": "code",
   "execution_count": 4,
   "metadata": {},
   "outputs": [
    {
     "data": {
      "text/plain": [
       "\"10100111\""
      ]
     },
     "execution_count": 4,
     "metadata": {},
     "output_type": "execute_result"
    }
   ],
   "source": [
    "bitstring(Int8(-89))"
   ]
  },
  {
   "cell_type": "markdown",
   "metadata": {},
   "source": [
    "Using this format, the type `Int64` can for example represent numbers between $11111\\ldots1111_2 = -2^{63}$ and $01111\\ldots1111_2 = 2^{63} - 1$."
   ]
  },
  {
   "cell_type": "code",
   "execution_count": 5,
   "metadata": {},
   "outputs": [
    {
     "data": {
      "text/plain": [
       "2×2 Matrix{Int64}:\n",
       " -9223372036854775808  9223372036854775807\n",
       " -9223372036854775808  9223372036854775807"
      ]
     },
     "execution_count": 5,
     "metadata": {},
     "output_type": "execute_result"
    }
   ],
   "source": [
    "[typemin(Int64) typemax(Int64); -2^63 2^63-1]"
   ]
  },
  {
   "cell_type": "markdown",
   "metadata": {},
   "source": [
    "### Fixed point numbers\n",
    "\n",
    "One way to represent fractional numbers is as *fixed-points*. For example,\n",
    "\n",
    "$$\n",
    "101.1011_2 = 2^2 + 2^0 + 2^{-1} + 2^{-3} + 2^{-4} = 5.6875_{10}\n",
    "$$\n",
    "\n",
    "This could be useful for applications that need a fixed number of binary digits. But since most scientific applications need numbers with wide ranges of magnitudes, computers use floating point instead of fixed point to represent fractional numbers."
   ]
  },
  {
   "cell_type": "markdown",
   "metadata": {},
   "source": [
    "## Floating point numbers"
   ]
  },
  {
   "cell_type": "markdown",
   "metadata": {},
   "source": [
    "### Scientific notation\n",
    "\n",
    "Recall how a (decimal) number is written using *scientific notation*:\n",
    "\n",
    "$$\n",
    "{\\LARGE\n",
    "\\begin{align*}\n",
    "\\underbrace{-}_{\\large \\text{sign}}\n",
    "\\underbrace{1.602\\rule[-2pt]{0pt}{0pt}}_{\\large \\text{significand}}\n",
    "\\times\n",
    "\\underbrace{10\\rule[-2pt]{0pt}{0pt}}_{\\large \\text{base}}\n",
    "\\underbrace{\\,^{-19}\\rule[-2pt]{0pt}{0pt}}_{\\large \\text{exponent}}\n",
    "\\end{align*}\n",
    "}\n",
    "$$\n",
    "\n",
    "Floating point numbers are represented in a similar way, as\n",
    "\n",
    "$$\n",
    "\\begin{align*}\n",
    "\\pm \\left( d_0 + d_1\\beta^{-1} + \\ldots + d_{p-1} \\beta^{-(p-1)} \\right)\n",
    " \\beta^e,\\quad 0\\le d_i<\\beta\n",
    "\\end{align*}\n",
    "$$\n",
    "\n",
    "with *base* $\\beta$ and *precision* $p$. The number is *normalized*\n",
    "if $d_0\\ne0$ (use a special case to represent $0$).\n",
    "\n",
    "\n"
   ]
  },
  {
   "cell_type": "markdown",
   "metadata": {},
   "source": [
    "### Properties of floating point numbers\n",
    "\n",
    "- The gaps between adjacent numbers scale with the size of the numbers\n",
    "- For all $x$, there exists a floating point $x'$ such that $|x-x'| \\le \\epsilon_\\mathrm{machine} |x|$\n",
    "- Example: $\\beta=2, p=3, e_\\mathrm{min}=-1, e_\\mathrm{max}=2$\n",
    "\n",
    "![floating_point_number_line](floating_point_number_line.png \"Floating Point Number Line\")\n"
   ]
  },
  {
   "cell_type": "markdown",
   "metadata": {},
   "source": [
    "### Special quantities\n",
    "\n",
    "- $\\pm\\infty$ is returned when an operation overflows\n",
    "- $x/\\pm\\infty=0$ for any number $x$, $x/0=\\pm\\infty$ for any nonzero number $x$\n",
    "- Operations with infinity are defined as limits, e.g.\n",
    "$\n",
    "4-\\infty = \\lim_{x\\rightarrow\\infty} 4-x = -\\infty\n",
    "$\n",
    "- NaN (Not a Number) is returned when the an operation has no well-defined finite or infinite result\n",
    "- Examples: $\\infty-\\infty$, $\\infty/\\infty$, $0/0$, $\\sqrt{-1}$, $\\mathrm{NaN}\\odot x$\n"
   ]
  },
  {
   "cell_type": "markdown",
   "metadata": {},
   "source": [
    "### IEEE Single Precision\n",
    "\n",
    "- 1 sign bit, 8 exponent bits, 23 significand bits:\n",
    "\n",
    "$$\n",
    "\\begin{array}{c|c|c}\n",
    "\\text{x} & \\text{xxxxxxxx} & \\text{xxxxxxxxxxxxxxxxxxxxxxx} \\\\ \\hline\n",
    "S &      E      &                      C                      \n",
    "\\end{array}\n",
    "$$\n",
    "\n",
    "- Represented number:\n",
    "\n",
    "$$\n",
    "{\\LARGE\n",
    "\\begin{align*}\n",
    "(-1)^S \\times 1.M \\times 2^{E-127}\n",
    "\\end{align*}\n",
    "}\n",
    "$$\n",
    "\n",
    "- Special cases:\n",
    "\n",
    "$$\n",
    "\\begin{array}{c|c|c|c}\n",
    "      & E=0 & 0<E<255 & E=255 \\\\ \\hline\n",
    "    M=0 & \\pm0 & \\text{Powers of 2} & \\pm\\infty \\\\ \\hline\n",
    "    M\\ne0 & \\text{Denormalized} & \\text{Ordinary numbers} & \\text{NaN}\n",
    "\\end{array}\n",
    "$$\n",
    "\n",
    "- Examples:\n",
    "\n",
    "$$\n",
    "\\begin{array}{c|c|c|l}\n",
    "    S &    E     &              M    & \\text{Quantity} \\\\ \\hline\n",
    "0 & 11111111 & 00000100000000000000000 & \\text{NaN} \\\\ \\hline\n",
    "1 & 11111111 & 00100010001001010101010 & \\text{NaN} \\\\ \\hline\n",
    "0 & 11111111 & 00000000000000000000000 & \\infty \\\\ \\hline\n",
    "0 & 10000001 & 10100000000000000000000 & +1 \\cdot 2^{129-127} \\cdot 1.101 = 6.5 \\\\ \\hline\n",
    "0 & 10000000 & 00000000000000000000000 & +1 \\cdot 2^{128-127} \\cdot 1.0 = 2 \\\\ \\hline\n",
    "0 & 00000001 & 00000000000000000000000 & +1 \\cdot 2^{1-127} \\cdot 1.0 = 2^{-126} \\\\ \\hline\n",
    "0 & 00000000 & 10000000000000000000000 & +1 \\cdot 2^{-126} \\cdot 0.1 = 2^{-127} \\\\ \\hline\n",
    "0 & 00000000 & 00000000000000000000001 & +1 \\cdot 2^{-126} \\cdot 2^{-23} = 2^{-149} \\\\ \\hline\n",
    "0 & 00000000 & 00000000000000000000000 & 0 \\\\ \\hline\n",
    "1 & 00000000 & 00000000000000000000000 & -0  \\\\ \\hline\n",
    "1 & 10000001 & 10100000000000000000000 & -1 \\cdot 2^{129-127} \\cdot 1.101 = -6.5 \\\\ \\hline\n",
    "1 & 11111111 & 00000000000000000000000 & -\\infty\n",
    "\\end{array}\n",
    "$$\n",
    "\n",
    "### IEEE Floating Point Data Types\n",
    "\n",
    "$$\n",
    "\\begin{array}{l|l|l}\n",
    " & \\text{Single precision} & \\text{Double precision} \\\\ \\hline\n",
    "\\text{Significand size} (p) & \\text{24 bits} & \\text{53 bits} \\\\ \\hline\n",
    "\\text{Exponent size} & \\text{8 bits} & \\text{11 bits} \\\\ \\hline\n",
    "\\text{Total size} & \\text{32 bits} & \\text{64 bits} \\\\ \\hline \n",
    "e_\\mathrm{max} & +127 & +1023 \\\\ \\hline\n",
    "e_\\mathrm{min} & -126 & -1022 \\\\ \\hline\n",
    "\\text{Smallest normalized} &  2^{-126}\\approx 10^{-38} & 2^{-1022}\\approx 10^{-308} \\\\ \\hline\n",
    "\\text{Largest normalized} &  2^{127}\\approx 10^{38} & 2^{1023}\\approx 10^{308} \\\\ \\hline\n",
    "\\epsilon_\\mathrm{machine} & 2^{-24}\\approx 6\\cdots 10^{-8} &\n",
    "  2^{-53} \\approx 10^{-16}\n",
    "\\end{array}\n",
    "$$\n"
   ]
  },
  {
   "cell_type": "markdown",
   "metadata": {},
   "source": [
    "## IEEE Floating point demo"
   ]
  },
  {
   "cell_type": "markdown",
   "metadata": {},
   "source": [
    "### Comparing floating point numbers approximately"
   ]
  },
  {
   "cell_type": "markdown",
   "metadata": {},
   "source": [
    "Always expect small relative errors in floating point computations:"
   ]
  },
  {
   "cell_type": "code",
   "execution_count": 6,
   "metadata": {},
   "outputs": [
    {
     "data": {
      "text/plain": [
       "false"
      ]
     },
     "execution_count": 6,
     "metadata": {},
     "output_type": "execute_result"
    }
   ],
   "source": [
    "x = (1 - 2/3) * 5     # Approximately 5/3\n",
    "x == 5/3              # Not exactly 5/3"
   ]
  },
  {
   "cell_type": "markdown",
   "metadata": {},
   "source": [
    "To check for equality, instead compute the error and check that it is small:"
   ]
  },
  {
   "cell_type": "code",
   "execution_count": 7,
   "metadata": {},
   "outputs": [
    {
     "data": {
      "text/plain": [
       "2.220446049250313e-16"
      ]
     },
     "execution_count": 7,
     "metadata": {},
     "output_type": "execute_result"
    }
   ],
   "source": [
    "abs(x - 5/3)"
   ]
  },
  {
   "cell_type": "markdown",
   "metadata": {},
   "source": [
    "Alternatively, use the julia `isapprox` or `≈` method, which uses a combination of an appropriate relative and absolute tolerance:"
   ]
  },
  {
   "cell_type": "code",
   "execution_count": 8,
   "metadata": {},
   "outputs": [
    {
     "data": {
      "text/plain": [
       "true"
      ]
     },
     "execution_count": 8,
     "metadata": {},
     "output_type": "execute_result"
    }
   ],
   "source": [
    "x ≈ 5/3"
   ]
  },
  {
   "cell_type": "markdown",
   "metadata": {},
   "source": [
    "### Overflow/underflow"
   ]
  },
  {
   "cell_type": "code",
   "execution_count": 9,
   "metadata": {
    "scrolled": true
   },
   "outputs": [
    {
     "data": {
      "text/plain": [
       "1.0"
      ]
     },
     "execution_count": 9,
     "metadata": {},
     "output_type": "execute_result"
    }
   ],
   "source": [
    "1.0"
   ]
  },
  {
   "cell_type": "code",
   "execution_count": 10,
   "metadata": {
    "scrolled": true
   },
   "outputs": [
    {
     "data": {
      "text/plain": [
       "-1.0"
      ]
     },
     "execution_count": 10,
     "metadata": {},
     "output_type": "execute_result"
    }
   ],
   "source": [
    "-1.0"
   ]
  },
  {
   "cell_type": "code",
   "execution_count": 11,
   "metadata": {},
   "outputs": [
    {
     "data": {
      "text/plain": [
       "1.0e100"
      ]
     },
     "execution_count": 11,
     "metadata": {},
     "output_type": "execute_result"
    }
   ],
   "source": [
    "1e100"
   ]
  },
  {
   "cell_type": "code",
   "execution_count": 12,
   "metadata": {},
   "outputs": [
    {
     "data": {
      "text/plain": [
       "1.0e-100"
      ]
     },
     "execution_count": 12,
     "metadata": {},
     "output_type": "execute_result"
    }
   ],
   "source": [
    "1e-100"
   ]
  },
  {
   "cell_type": "code",
   "execution_count": 13,
   "metadata": {},
   "outputs": [
    {
     "data": {
      "text/plain": [
       "1.0e308"
      ]
     },
     "execution_count": 13,
     "metadata": {},
     "output_type": "execute_result"
    }
   ],
   "source": [
    "1e308"
   ]
  },
  {
   "cell_type": "code",
   "execution_count": 14,
   "metadata": {},
   "outputs": [
    {
     "data": {
      "text/plain": [
       "Inf"
      ]
     },
     "execution_count": 14,
     "metadata": {},
     "output_type": "execute_result"
    }
   ],
   "source": [
    "1e308 * 2"
   ]
  },
  {
   "cell_type": "code",
   "execution_count": 15,
   "metadata": {},
   "outputs": [
    {
     "data": {
      "text/plain": [
       "1.0e-308"
      ]
     },
     "execution_count": 15,
     "metadata": {},
     "output_type": "execute_result"
    }
   ],
   "source": [
    "1e-308"
   ]
  },
  {
   "cell_type": "code",
   "execution_count": 16,
   "metadata": {},
   "outputs": [
    {
     "data": {
      "text/plain": [
       "5.0e-324"
      ]
     },
     "execution_count": 16,
     "metadata": {},
     "output_type": "execute_result"
    }
   ],
   "source": [
    "1e-308 / 2^51"
   ]
  },
  {
   "cell_type": "code",
   "execution_count": 17,
   "metadata": {},
   "outputs": [
    {
     "data": {
      "text/plain": [
       "0.0"
      ]
     },
     "execution_count": 17,
     "metadata": {},
     "output_type": "execute_result"
    }
   ],
   "source": [
    "1e-308 / 2^52"
   ]
  },
  {
   "cell_type": "markdown",
   "metadata": {},
   "source": [
    "### Cancellation"
   ]
  },
  {
   "cell_type": "code",
   "execution_count": 18,
   "metadata": {},
   "outputs": [
    {
     "data": {
      "text/plain": [
       "0.2504304619588281"
      ]
     },
     "execution_count": 18,
     "metadata": {},
     "output_type": "execute_result"
    }
   ],
   "source": [
    "x = rand()\n",
    "y = rand()\n",
    "z = x - y"
   ]
  },
  {
   "cell_type": "code",
   "execution_count": 19,
   "metadata": {},
   "outputs": [
    {
     "data": {
      "text/plain": [
       "0.2504310607910156"
      ]
     },
     "execution_count": 19,
     "metadata": {},
     "output_type": "execute_result"
    }
   ],
   "source": [
    "x1 = x + 1e10\n",
    "y1 = y + 1e10\n",
    "z1 = x1 - y1"
   ]
  },
  {
   "cell_type": "code",
   "execution_count": 20,
   "metadata": {},
   "outputs": [
    {
     "data": {
      "text/plain": [
       "5.988321875038949e-7"
      ]
     },
     "execution_count": 20,
     "metadata": {},
     "output_type": "execute_result"
    }
   ],
   "source": [
    "z1 - z"
   ]
  },
  {
   "cell_type": "markdown",
   "metadata": {},
   "source": [
    "### Epsilon"
   ]
  },
  {
   "cell_type": "code",
   "execution_count": 21,
   "metadata": {},
   "outputs": [
    {
     "data": {
      "text/plain": [
       "1.0"
      ]
     },
     "execution_count": 21,
     "metadata": {},
     "output_type": "execute_result"
    }
   ],
   "source": [
    "1 + 1e-20"
   ]
  },
  {
   "cell_type": "code",
   "execution_count": 22,
   "metadata": {},
   "outputs": [
    {
     "data": {
      "text/plain": [
       "0.0"
      ]
     },
     "execution_count": 22,
     "metadata": {},
     "output_type": "execute_result"
    }
   ],
   "source": [
    "(1 + 1e-20) - 1"
   ]
  },
  {
   "cell_type": "code",
   "execution_count": 23,
   "metadata": {},
   "outputs": [
    {
     "data": {
      "text/plain": [
       "1.0"
      ]
     },
     "execution_count": 23,
     "metadata": {},
     "output_type": "execute_result"
    }
   ],
   "source": [
    "1 + 1e-16"
   ]
  },
  {
   "cell_type": "code",
   "execution_count": 24,
   "metadata": {},
   "outputs": [
    {
     "data": {
      "text/plain": [
       "1.0000000000000002"
      ]
     },
     "execution_count": 24,
     "metadata": {},
     "output_type": "execute_result"
    }
   ],
   "source": [
    "1 + 2e-16"
   ]
  },
  {
   "cell_type": "code",
   "execution_count": 25,
   "metadata": {},
   "outputs": [
    {
     "data": {
      "text/plain": [
       "2.220446049250313e-16"
      ]
     },
     "execution_count": 25,
     "metadata": {},
     "output_type": "execute_result"
    }
   ],
   "source": [
    "(1 + 2e-16) - 1"
   ]
  },
  {
   "cell_type": "code",
   "execution_count": 26,
   "metadata": {},
   "outputs": [
    {
     "name": "stdout",
     "output_type": "stream",
     "text": [
      "0.5\n",
      "0.25\n",
      "0.125\n",
      "0.0625\n",
      "0.03125\n",
      "0.015625\n",
      "0.0078125\n",
      "0.00390625\n",
      "0.001953125\n",
      "0.0009765625\n",
      "0.00048828125\n",
      "0.000244140625\n",
      "0.0001220703125\n",
      "6.103515625e-5\n",
      "3.0517578125e-5\n",
      "1.52587890625e-5\n",
      "7.62939453125e-6\n",
      "3.814697265625e-6\n",
      "1.9073486328125e-6\n",
      "9.5367431640625e-7\n",
      "4.76837158203125e-7\n",
      "2.384185791015625e-7\n",
      "1.1920928955078125e-7\n",
      "5.960464477539063e-8\n",
      "2.9802322387695312e-8\n",
      "1.4901161193847656e-8\n",
      "7.450580596923828e-9\n",
      "3.725290298461914e-9\n",
      "1.862645149230957e-9\n",
      "9.313225746154785e-10\n",
      "4.656612873077393e-10\n",
      "2.3283064365386963e-10\n",
      "1.1641532182693481e-10\n",
      "5.820766091346741e-11\n",
      "2.9103830456733704e-11\n",
      "1.4551915228366852e-11\n",
      "7.275957614183426e-12\n",
      "3.637978807091713e-12\n",
      "1.8189894035458565e-12\n",
      "9.094947017729282e-13\n",
      "4.547473508864641e-13\n",
      "2.2737367544323206e-13\n",
      "1.1368683772161603e-13\n",
      "5.684341886080802e-14\n",
      "2.842170943040401e-14\n",
      "1.4210854715202004e-14\n",
      "7.105427357601002e-15\n",
      "3.552713678800501e-15\n",
      "1.7763568394002505e-15\n",
      "8.881784197001252e-16\n",
      "4.440892098500626e-16\n",
      "2.220446049250313e-16\n",
      "1.1102230246251565e-16\n"
     ]
    }
   ],
   "source": [
    "e = 1.0\n",
    "while 1 + e > 1\n",
    "    e = e/2\n",
    "    println(e)\n",
    "end"
   ]
  },
  {
   "cell_type": "code",
   "execution_count": 27,
   "metadata": {},
   "outputs": [
    {
     "data": {
      "text/plain": [
       "2.220446049250313e-16"
      ]
     },
     "execution_count": 27,
     "metadata": {},
     "output_type": "execute_result"
    }
   ],
   "source": [
    "eps()"
   ]
  },
  {
   "cell_type": "code",
   "execution_count": 28,
   "metadata": {},
   "outputs": [
    {
     "data": {
      "text/plain": [
       "1.2676506002282294e30"
      ]
     },
     "execution_count": 28,
     "metadata": {},
     "output_type": "execute_result"
    }
   ],
   "source": [
    "b = 2.0^100"
   ]
  },
  {
   "cell_type": "code",
   "execution_count": 29,
   "metadata": {},
   "outputs": [
    {
     "data": {
      "text/plain": [
       "2.81474976710656e14"
      ]
     },
     "execution_count": 29,
     "metadata": {},
     "output_type": "execute_result"
    }
   ],
   "source": [
    "(b + eps()*b) - b"
   ]
  },
  {
   "cell_type": "code",
   "execution_count": 30,
   "metadata": {},
   "outputs": [
    {
     "data": {
      "text/plain": [
       "0.0"
      ]
     },
     "execution_count": 30,
     "metadata": {},
     "output_type": "execute_result"
    }
   ],
   "source": [
    "(b + eps()/2*b) - b"
   ]
  },
  {
   "cell_type": "markdown",
   "metadata": {},
   "source": [
    "### Signed zeros"
   ]
  },
  {
   "cell_type": "code",
   "execution_count": 31,
   "metadata": {},
   "outputs": [
    {
     "data": {
      "text/plain": [
       "0.0"
      ]
     },
     "execution_count": 31,
     "metadata": {},
     "output_type": "execute_result"
    }
   ],
   "source": [
    "0.0"
   ]
  },
  {
   "cell_type": "code",
   "execution_count": 32,
   "metadata": {},
   "outputs": [
    {
     "data": {
      "text/plain": [
       "0.0"
      ]
     },
     "execution_count": 32,
     "metadata": {},
     "output_type": "execute_result"
    }
   ],
   "source": [
    "+0.0"
   ]
  },
  {
   "cell_type": "code",
   "execution_count": 33,
   "metadata": {},
   "outputs": [
    {
     "data": {
      "text/plain": [
       "-0.0"
      ]
     },
     "execution_count": 33,
     "metadata": {},
     "output_type": "execute_result"
    }
   ],
   "source": [
    "-0.0"
   ]
  },
  {
   "cell_type": "markdown",
   "metadata": {},
   "source": [
    "### Infinity"
   ]
  },
  {
   "cell_type": "code",
   "execution_count": 34,
   "metadata": {},
   "outputs": [
    {
     "data": {
      "text/plain": [
       "Inf"
      ]
     },
     "execution_count": 34,
     "metadata": {},
     "output_type": "execute_result"
    }
   ],
   "source": [
    "1.0/0.0"
   ]
  },
  {
   "cell_type": "code",
   "execution_count": 35,
   "metadata": {},
   "outputs": [
    {
     "data": {
      "text/plain": [
       "-Inf"
      ]
     },
     "execution_count": 35,
     "metadata": {},
     "output_type": "execute_result"
    }
   ],
   "source": [
    "-1.0/0.0"
   ]
  },
  {
   "cell_type": "code",
   "execution_count": 36,
   "metadata": {},
   "outputs": [
    {
     "data": {
      "text/plain": [
       "NaN"
      ]
     },
     "execution_count": 36,
     "metadata": {},
     "output_type": "execute_result"
    }
   ],
   "source": [
    "0.0/0.0"
   ]
  },
  {
   "cell_type": "code",
   "execution_count": 37,
   "metadata": {},
   "outputs": [
    {
     "data": {
      "text/plain": [
       "Inf"
      ]
     },
     "execution_count": 37,
     "metadata": {},
     "output_type": "execute_result"
    }
   ],
   "source": [
    "Inf"
   ]
  },
  {
   "cell_type": "code",
   "execution_count": 38,
   "metadata": {},
   "outputs": [
    {
     "data": {
      "text/plain": [
       "0.0"
      ]
     },
     "execution_count": 38,
     "metadata": {},
     "output_type": "execute_result"
    }
   ],
   "source": [
    "1/Inf"
   ]
  },
  {
   "cell_type": "code",
   "execution_count": 39,
   "metadata": {},
   "outputs": [
    {
     "data": {
      "text/plain": [
       "-0.0"
      ]
     },
     "execution_count": 39,
     "metadata": {},
     "output_type": "execute_result"
    }
   ],
   "source": [
    "-1/Inf"
   ]
  },
  {
   "cell_type": "code",
   "execution_count": 40,
   "metadata": {},
   "outputs": [
    {
     "data": {
      "text/plain": [
       "0.0"
      ]
     },
     "execution_count": 40,
     "metadata": {},
     "output_type": "execute_result"
    }
   ],
   "source": [
    "-1/-Inf"
   ]
  },
  {
   "cell_type": "code",
   "execution_count": 41,
   "metadata": {},
   "outputs": [
    {
     "data": {
      "text/plain": [
       "Inf"
      ]
     },
     "execution_count": 41,
     "metadata": {},
     "output_type": "execute_result"
    }
   ],
   "source": [
    "2*Inf"
   ]
  },
  {
   "cell_type": "code",
   "execution_count": 42,
   "metadata": {},
   "outputs": [
    {
     "data": {
      "text/plain": [
       "Inf"
      ]
     },
     "execution_count": 42,
     "metadata": {},
     "output_type": "execute_result"
    }
   ],
   "source": [
    "Inf + Inf"
   ]
  },
  {
   "cell_type": "code",
   "execution_count": 43,
   "metadata": {},
   "outputs": [
    {
     "data": {
      "text/plain": [
       "Inf"
      ]
     },
     "execution_count": 43,
     "metadata": {},
     "output_type": "execute_result"
    }
   ],
   "source": [
    "Inf^Inf"
   ]
  },
  {
   "cell_type": "markdown",
   "metadata": {},
   "source": [
    "### NaN (Not-a-Number)"
   ]
  },
  {
   "cell_type": "code",
   "execution_count": 44,
   "metadata": {},
   "outputs": [
    {
     "data": {
      "text/plain": [
       "NaN"
      ]
     },
     "execution_count": 44,
     "metadata": {},
     "output_type": "execute_result"
    }
   ],
   "source": [
    "Inf-Inf"
   ]
  },
  {
   "cell_type": "code",
   "execution_count": 45,
   "metadata": {},
   "outputs": [
    {
     "data": {
      "text/plain": [
       "NaN"
      ]
     },
     "execution_count": 45,
     "metadata": {},
     "output_type": "execute_result"
    }
   ],
   "source": [
    "Inf/Inf"
   ]
  },
  {
   "cell_type": "code",
   "execution_count": 46,
   "metadata": {},
   "outputs": [
    {
     "data": {
      "text/plain": [
       "NaN"
      ]
     },
     "execution_count": 46,
     "metadata": {},
     "output_type": "execute_result"
    }
   ],
   "source": [
    "0.0/0.0"
   ]
  },
  {
   "cell_type": "code",
   "execution_count": 47,
   "metadata": {},
   "outputs": [
    {
     "data": {
      "text/plain": [
       "NaN"
      ]
     },
     "execution_count": 47,
     "metadata": {},
     "output_type": "execute_result"
    }
   ],
   "source": [
    "NaN + 123"
   ]
  },
  {
   "cell_type": "markdown",
   "metadata": {},
   "source": [
    "### Check for NaN"
   ]
  },
  {
   "cell_type": "code",
   "execution_count": 48,
   "metadata": {},
   "outputs": [
    {
     "data": {
      "text/plain": [
       "false"
      ]
     },
     "execution_count": 48,
     "metadata": {},
     "output_type": "execute_result"
    }
   ],
   "source": [
    "x = NaN\n",
    "x == NaN"
   ]
  },
  {
   "cell_type": "code",
   "execution_count": 49,
   "metadata": {},
   "outputs": [
    {
     "data": {
      "text/plain": [
       "false"
      ]
     },
     "execution_count": 49,
     "metadata": {},
     "output_type": "execute_result"
    }
   ],
   "source": [
    "x == x"
   ]
  },
  {
   "cell_type": "code",
   "execution_count": 50,
   "metadata": {},
   "outputs": [
    {
     "data": {
      "text/plain": [
       "5-element BitVector:\n",
       " 0\n",
       " 0\n",
       " 0\n",
       " 1\n",
       " 0"
      ]
     },
     "execution_count": 50,
     "metadata": {},
     "output_type": "execute_result"
    }
   ],
   "source": [
    "isnan.([1, 2, 3, NaN, Inf])"
   ]
  },
  {
   "cell_type": "code",
   "execution_count": 51,
   "metadata": {},
   "outputs": [
    {
     "data": {
      "text/plain": [
       "5-element BitVector:\n",
       " 0\n",
       " 0\n",
       " 0\n",
       " 0\n",
       " 1"
      ]
     },
     "execution_count": 51,
     "metadata": {},
     "output_type": "execute_result"
    }
   ],
   "source": [
    "isinf.([1, 2, 3, NaN, Inf])"
   ]
  },
  {
   "cell_type": "markdown",
   "metadata": {},
   "source": [
    "### Round to even"
   ]
  },
  {
   "cell_type": "code",
   "execution_count": 52,
   "metadata": {},
   "outputs": [
    {
     "data": {
      "text/plain": [
       "1.0"
      ]
     },
     "execution_count": 52,
     "metadata": {},
     "output_type": "execute_result"
    }
   ],
   "source": [
    "e = eps()/2\n",
    "1 + e"
   ]
  },
  {
   "cell_type": "code",
   "execution_count": 53,
   "metadata": {},
   "outputs": [
    {
     "data": {
      "text/plain": [
       "1.0000000000000002"
      ]
     },
     "execution_count": 53,
     "metadata": {},
     "output_type": "execute_result"
    }
   ],
   "source": [
    "1 + 2*e"
   ]
  },
  {
   "cell_type": "code",
   "execution_count": 54,
   "metadata": {},
   "outputs": [
    {
     "data": {
      "text/plain": [
       "2.0"
      ]
     },
     "execution_count": 54,
     "metadata": {},
     "output_type": "execute_result"
    }
   ],
   "source": [
    "((1 + 2*e)-1) / e"
   ]
  },
  {
   "cell_type": "code",
   "execution_count": 55,
   "metadata": {},
   "outputs": [
    {
     "data": {
      "text/plain": [
       "4.0"
      ]
     },
     "execution_count": 55,
     "metadata": {},
     "output_type": "execute_result"
    }
   ],
   "source": [
    "((1 + 3*e)-1) / e"
   ]
  },
  {
   "cell_type": "code",
   "execution_count": 56,
   "metadata": {},
   "outputs": [
    {
     "data": {
      "text/plain": [
       "4.0"
      ]
     },
     "execution_count": 56,
     "metadata": {},
     "output_type": "execute_result"
    }
   ],
   "source": [
    "((1 + 4*e)-1) / e"
   ]
  },
  {
   "cell_type": "code",
   "execution_count": 57,
   "metadata": {},
   "outputs": [
    {
     "name": "stdout",
     "output_type": "stream",
     "text": [
      "[0.0, 0.0]\n",
      "[1.0, 0.0]\n",
      "[2.0, 2.0]\n",
      "[3.0, 4.0]\n",
      "[4.0, 4.0]\n",
      "[5.0, 4.0]\n",
      "[6.0, 6.0]\n",
      "[7.0, 8.0]\n",
      "[8.0, 8.0]\n",
      "[9.0, 8.0]\n",
      "[10.0, 10.0]\n",
      "[11.0, 12.0]\n",
      "[12.0, 12.0]\n",
      "[13.0, 12.0]\n",
      "[14.0, 14.0]\n",
      "[15.0, 16.0]\n",
      "[16.0, 16.0]\n"
     ]
    }
   ],
   "source": [
    "for mul = 0:16\n",
    "    println([mul, ((1 + mul*e) - 1) / e])\n",
    "end"
   ]
  },
  {
   "cell_type": "markdown",
   "metadata": {},
   "source": [
    "### View hex/bin representations"
   ]
  },
  {
   "cell_type": "code",
   "execution_count": 58,
   "metadata": {},
   "outputs": [
    {
     "name": "stdout",
     "output_type": "stream",
     "text": [
      "         0  =  0 00000000 00000000000000000000000\n",
      "         0  =  0 00000000 00000000000000000000000\n",
      "       Inf  =  0 11111111 00000000000000000000000\n",
      "      -Inf  =  1 11111111 00000000000000000000000\n",
      "       NaN  =  0 11111111 10000000000000000000000\n",
      "       NaN  =  1 11111111 10000000000000000000000\n",
      "         1  =  0 01111111 00000000000000000000000\n",
      "         2  =  0 10000000 00000000000000000000000\n",
      "         3  =  0 10000000 10000000000000000000000\n",
      "         4  =  0 10000001 00000000000000000000000\n",
      "         5  =  0 10000001 01000000000000000000000\n",
      "         6  =  0 10000001 10000000000000000000000\n",
      "         7  =  0 10000001 11000000000000000000000\n",
      "         8  =  0 10000010 00000000000000000000000\n",
      "         9  =  0 10000010 00100000000000000000000\n",
      "        10  =  0 10000010 01000000000000000000000\n",
      "         1  =  0 01111111 00000000000000000000000\n",
      " 1.0000001  =  0 01111111 00000000000000000000001\n",
      " 1.0000002  =  0 01111111 00000000000000000000010\n",
      " 1.0000004  =  0 01111111 00000000000000000000011\n",
      " 1.0000005  =  0 01111111 00000000000000000000100\n",
      " 1.0000006  =  0 01111111 00000000000000000000101\n",
      " 1.0000007  =  0 01111111 00000000000000000000110\n",
      " 1.0000008  =  0 01111111 00000000000000000000111\n",
      "  1.000001  =  0 01111111 00000000000000000001000\n",
      " 1.0000011  =  0 01111111 00000000000000000001001\n",
      " 1.0000012  =  0 01111111 00000000000000000001010\n",
      " 1.9999988  =  0 01111111 11111111111111111110110\n",
      " 1.9999989  =  0 01111111 11111111111111111110111\n",
      "  1.999999  =  0 01111111 11111111111111111111000\n",
      " 1.9999992  =  0 01111111 11111111111111111111001\n",
      " 1.9999993  =  0 01111111 11111111111111111111010\n",
      " 1.9999994  =  0 01111111 11111111111111111111011\n",
      " 1.9999995  =  0 01111111 11111111111111111111100\n",
      " 1.9999996  =  0 01111111 11111111111111111111101\n",
      " 1.9999998  =  0 01111111 11111111111111111111110\n",
      " 1.9999999  =  0 01111111 11111111111111111111111\n",
      "         2  =  0 10000000 00000000000000000000000\n"
     ]
    }
   ],
   "source": [
    "using Printf\n",
    "split32(s) = s[1] * \" \" * s[2:9] * \" \" * s[10:32]\n",
    "showbits(x) = @printf(\"%10.8g  =  %s\\n\", x, split32(bitstring(Float32(x))))\n",
    "\n",
    "showbits.([0, -0, Inf, -Inf, NaN, -NaN]);\n",
    "showbits.(1:10);\n",
    "showbits.(1 .+ (0:10).*2^-23);\n",
    "showbits.(2 .- (10:-1:0).*2^-23);"
   ]
  },
  {
   "cell_type": "code",
   "execution_count": null,
   "metadata": {},
   "outputs": [],
   "source": []
  }
 ],
 "metadata": {
  "kernelspec": {
   "display_name": "Julia 1.9.2",
   "language": "julia",
   "name": "julia-1.9"
  },
  "language_info": {
   "file_extension": ".jl",
   "mimetype": "application/julia",
   "name": "julia",
   "version": "1.9.2"
  }
 },
 "nbformat": 4,
 "nbformat_minor": 4
}
