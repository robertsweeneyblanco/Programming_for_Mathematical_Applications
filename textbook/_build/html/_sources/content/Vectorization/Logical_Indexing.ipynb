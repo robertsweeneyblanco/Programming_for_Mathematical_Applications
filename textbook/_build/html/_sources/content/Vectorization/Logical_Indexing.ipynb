{
 "cells": [
  {
   "cell_type": "markdown",
   "metadata": {
    "slideshow": {
     "slide_type": "slide"
    }
   },
   "source": [
    "# Logical Indexing "
   ]
  },
  {
   "cell_type": "markdown",
   "metadata": {
    "slideshow": {
     "slide_type": "subslide"
    }
   },
   "source": [
    "## Introduction to Logical indexing\n",
    "\n",
    "As an alternative to indexing an array by `x[idx]` where `idx` is an array of integers, *logical indexing* allows for the syntax `x[choose]` where `choose` is an array of booleans. The size of `choose` must be the length of the array (or more generally, the dimension it indexes into). Note that the result is identical to `x[findall(choose)]`, but shorter to write and likely more efficient. "
   ]
  },
  {
   "cell_type": "code",
   "execution_count": 1,
   "metadata": {
    "slideshow": {
     "slide_type": "fragment"
    }
   },
   "outputs": [
    {
     "data": {
      "text/plain": [
       "11-element Vector{Int64}:\n",
       " -11\n",
       " -10\n",
       "  -6\n",
       "  -5\n",
       "  -4\n",
       "   1\n",
       "   2\n",
       "   3\n",
       "   7\n",
       "   8\n",
       "   9"
      ]
     },
     "execution_count": 1,
     "metadata": {},
     "output_type": "execute_result"
    }
   ],
   "source": [
    "x = -11:11\n",
    "y = sin.(x)\n",
    "x = x[y .> 0]          # Only keep values of x where y=sin x is positive"
   ]
  },
  {
   "cell_type": "code",
   "execution_count": 2,
   "metadata": {
    "slideshow": {
     "slide_type": "subslide"
    }
   },
   "outputs": [
    {
     "data": {
      "text/plain": [
       "3×10 Matrix{Int64}:\n",
       " 2  -3  10   7   3   3  2  -8   9    7\n",
       " 0  -4   3  -6   3   9  4   2   5   -6\n",
       " 5  10   2  -9  -3  -8  5   8  -8  -10"
      ]
     },
     "execution_count": 2,
     "metadata": {},
     "output_type": "execute_result"
    }
   ],
   "source": [
    "# Example: Consider the matrix\n",
    "A = rand(-10:10, 3, 10)"
   ]
  },
  {
   "cell_type": "code",
   "execution_count": 3,
   "metadata": {
    "slideshow": {
     "slide_type": "fragment"
    }
   },
   "outputs": [
    {
     "data": {
      "text/plain": [
       "1×10 BitMatrix:\n",
       " 1  1  1  0  1  1  1  1  1  0"
      ]
     },
     "execution_count": 3,
     "metadata": {},
     "output_type": "execute_result"
    }
   ],
   "source": [
    "# Compute a boolean array with `true` if the column sums are >=0\n",
    "pick = sum(A, dims=1) .≥ 0"
   ]
  },
  {
   "cell_type": "code",
   "execution_count": 4,
   "metadata": {
    "slideshow": {
     "slide_type": "fragment"
    }
   },
   "outputs": [
    {
     "data": {
      "text/plain": [
       "3×8 Matrix{Int64}:\n",
       " 2  -3  10   3   3  2  -8   9\n",
       " 0  -4   3   3   9  4   2   5\n",
       " 5  10   2  -3  -8  5   8  -8"
      ]
     },
     "execution_count": 4,
     "metadata": {},
     "output_type": "execute_result"
    }
   ],
   "source": [
    "# Create a new vector with only the columns of A given by the `pick` variable\n",
    "# Note that since `pick` is a 2D vector (row vector), we use [:] before indexing\n",
    "B = A[:, pick[:]]"
   ]
  },
  {
   "cell_type": "markdown",
   "metadata": {
    "slideshow": {
     "slide_type": "slide"
    }
   },
   "source": [
    "## Examples: Simplifying the Sieve of Eratosthenes function\n",
    "\n",
    "In our previous implementation, we used the code below to collect all the prime numbers:\n",
    "```julia\n",
    "    ...\n",
    "    # Return an array with all prime numbers\n",
    "    primes = Int64[]\n",
    "    for i = 2:n\n",
    "        if prime[i]\n",
    "            push!(primes, i)\n",
    "        end\n",
    "    end\n",
    "    primes\n",
    "    ...\n",
    "```\n",
    "Using array comprehensions, we can replace this entire part of the code by a single line:\n",
    "```julia\n",
    "    primes = [ i for i = 2:n if prime[i] ]\n",
    "```\n",
    "or even simpler, since the list of primes is simply the indices of the `true` values in the array `prime`, we can use the `findall` function. However in our original implementation, `prime[1]` was set to `true` (since it was not used) so we have to first make sure the number 1 is not considered a prime. Then the code can be written as:\n",
    "```julia\n",
    "    prime[1] = false\n",
    "    primes = findall(prime)\n",
    "```"
   ]
  },
  {
   "cell_type": "markdown",
   "metadata": {
    "slideshow": {
     "slide_type": "slide"
    }
   },
   "source": [
    "## Example: Simplifying the dart-throwing function\n",
    "\n",
    "We previously used the following code to count the number of \"hits\", that is, how many points in the vectors `x`,`y` are inside the unit circle:\n",
    "```julia\n",
    "# Determine if points are inside the circle (a \"hit\")\n",
    "hits = 0\n",
    "for i = 1:n\n",
    "    if x[i]^2 + y[i]^2 ≤ 1\n",
    "        hits += 1\n",
    "    end\n",
    "end\n",
    "```\n",
    "Using the `count` function, this can be written as a single line of code:\n",
    "```julia\n",
    "hits = count(@. x^2 + y^2 ≤ 1)\n",
    "```"
   ]
  },
  {
   "cell_type": "markdown",
   "metadata": {
    "slideshow": {
     "slide_type": "slide"
    }
   },
   "source": [
    "## Example: Simplifying the poker hand flush code\n",
    "\n",
    "When simulating the poker hands, we used the following code to determine if all cards were of the same suit:\n",
    "```julia\n",
    "    same_suit = true\n",
    "    for i = 2:5\n",
    "        if suits[i] ≠ suits[1]\n",
    "            same_suit = false\n",
    "            break\n",
    "        end\n",
    "    end\n",
    "```\n",
    "Using the `all` function, this can be simplified to a single line of code:\n",
    "```julia\n",
    "    same_suit = all(suits[2:5] .== suits[1])\n",
    "```"
   ]
  }
 ],
 "metadata": {
  "kernelspec": {
   "display_name": "Julia 1.9.2",
   "language": "julia",
   "name": "julia-1.9"
  },
  "language_info": {
   "file_extension": ".jl",
   "mimetype": "application/julia",
   "name": "julia",
   "version": "1.9.2"
  }
 },
 "nbformat": 4,
 "nbformat_minor": 2
}
