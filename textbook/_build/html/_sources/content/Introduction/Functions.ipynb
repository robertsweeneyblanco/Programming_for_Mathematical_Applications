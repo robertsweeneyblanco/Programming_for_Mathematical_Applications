{
 "cells": [
  {
   "cell_type": "markdown",
   "metadata": {
    "slideshow": {
     "slide_type": "slide"
    }
   },
   "source": [
    "# Functions\n",
    "\n",
    "- A *function* is a named sequence of statements that performs a computation\n",
    "\n",
    "- You can *call* the function by its name followed by parentheses, optionally passing comma-separated expressions inside the parentheses as *arguments*\n",
    "\n",
    "- For example, we already used the `println(x)` function, which prints `x` and returns nothing\n",
    "\n",
    "- Julia defines a number of standard mathematical functions, e.g.\n",
    "\n",
    "\n",
    "| Function        | Description                                                |\n",
    "|:--------------- |:---------------------------------------------------------- |\n",
    "| `abs(x)`        | a positive value with the magnitude of `x`                 |\n",
    "| `sign(x)`       | indicates the sign of `x`, returning -1, 0, or +1          |\n",
    "| `sqrt(x)`, `√x` | square root of `x`                                         |\n",
    "| `cbrt(x)`, `∛x` | cube root of `x`                                           |\n",
    "| `exp(x)`        | natural exponential function at `x`                        |\n",
    "| `log(x)`        | natural logarithm of `x`                                   |\n",
    "| `log(b,x)`      | base `b` logarithm of `x`                                  |\n",
    "| `log2(x)`       | base 2 logarithm of `x`                                    |\n",
    "| `log10(x)`      | base 10 logarithm of `x`                                   |"
   ]
  },
  {
   "cell_type": "markdown",
   "metadata": {
    "slideshow": {
     "slide_type": "slide"
    }
   },
   "source": [
    "## Trigonometric and hyperbolic functions\n",
    "\n",
    "- All the standard trigonometric and hyperbolic functions are also defined:\n",
    "\n",
    "```\n",
    "sin    cos    tan    cot    sec    csc\n",
    "sinh   cosh   tanh   coth   sech   csch\n",
    "asin   acos   atan   acot   asec   acsc\n",
    "asinh  acosh  atanh  acoth  asech  acsch\n",
    "sinc   cosc\n",
    "```\n",
    "\n",
    "- The following trigonometric functions use degrees instead of radians:\n",
    "\n",
    "```\n",
    "sind   cosd   tand   cotd   secd   cscd\n",
    "asind  acosd  atand  acotd  asecd  acscd\n",
    "```"
   ]
  },
  {
   "cell_type": "markdown",
   "metadata": {
    "slideshow": {
     "slide_type": "slide"
    }
   },
   "source": [
    "## Example: e to the pi Minus pi\n",
    "\n",
    "Evaluate $e^\\pi - \\pi$, see if it equals 20 (it should not, but it is remarkably close):"
   ]
  },
  {
   "cell_type": "code",
   "execution_count": 1,
   "metadata": {
    "slideshow": {
     "slide_type": "fragment"
    }
   },
   "outputs": [
    {
     "data": {
      "text/plain": [
       "19.999099979189474"
      ]
     },
     "execution_count": 1,
     "metadata": {},
     "output_type": "execute_result"
    }
   ],
   "source": [
    "exp(π) - π"
   ]
  },
  {
   "cell_type": "markdown",
   "metadata": {
    "slideshow": {
     "slide_type": "fragment"
    }
   },
   "source": [
    "![xkcd217_e_to_the_pi_minus_pi](e_to_the_pi_minus_pi.png \"Relevant xkcd comic\")\n",
    "\n",
    "(from <https://xkcd.com/217>)"
   ]
  },
  {
   "cell_type": "markdown",
   "metadata": {
    "slideshow": {
     "slide_type": "slide"
    }
   },
   "source": [
    "## Example: Real roots of quadratic \n",
    "\n",
    "- Use the quadratic formula\n",
    "\n",
    "$$\n",
    "r = \\frac{-b \\pm \\sqrt{b^2 - 4ac}}{2a}\n",
    "$$\n",
    "\n",
    "to solve the equation $x^2 + 5x + 6 = 0$ (assuming the roots are real, more about complex numbers later)"
   ]
  },
  {
   "cell_type": "code",
   "execution_count": 2,
   "metadata": {
    "slideshow": {
     "slide_type": "fragment"
    }
   },
   "outputs": [
    {
     "name": "stdout",
     "output_type": "stream",
     "text": [
      "The roots are -3.0 and -2.0\n"
     ]
    }
   ],
   "source": [
    "# Solve x^2 + 5x + 6 = 0 using the quadratic formula (real arithmetics)\n",
    "\n",
    "# Coefficients a,b,c in ax^2 + bx + c = 0\n",
    "a = 1\n",
    "b = 5\n",
    "c = 6\n",
    "\n",
    "# The quadratic formula\n",
    "d = sqrt(b^2 - 4*a*c)\n",
    "r1 = (-b - d) / 2a\n",
    "r2 = (-b + d) / 2a\n",
    "println(\"The roots are \", r1, \" and \", r2)"
   ]
  },
  {
   "cell_type": "markdown",
   "metadata": {
    "slideshow": {
     "slide_type": "slide"
    }
   },
   "source": [
    "## User-defined functions\n",
    "\n",
    "You can also define your own functions. This can help make your program easier to read, and eliminate repetitive code. For example, consider the following function named `myfunc`:"
   ]
  },
  {
   "cell_type": "code",
   "execution_count": 3,
   "metadata": {
    "slideshow": {
     "slide_type": "fragment"
    }
   },
   "outputs": [
    {
     "data": {
      "text/plain": [
       "myfunc (generic function with 1 method)"
      ]
     },
     "execution_count": 3,
     "metadata": {},
     "output_type": "execute_result"
    }
   ],
   "source": [
    "function myfunc(x,y)\n",
    "    x + y\n",
    "end"
   ]
  },
  {
   "cell_type": "markdown",
   "metadata": {
    "slideshow": {
     "slide_type": "fragment"
    }
   },
   "source": [
    "- This function takes two *arguments*, and assigns them to *parameters* named `x` and `y`.\n",
    "- The function evaluates the sum of `x` and `y`\n",
    "- The function returns (by default) the last expression evaluated, which in this case is the sum (use the `return` keyword to change this behavior)\n",
    "- The function can be called using the standard parentheses syntax"
   ]
  },
  {
   "cell_type": "code",
   "execution_count": 4,
   "metadata": {
    "slideshow": {
     "slide_type": "fragment"
    }
   },
   "outputs": [
    {
     "data": {
      "text/plain": [
       "3"
      ]
     },
     "execution_count": 4,
     "metadata": {},
     "output_type": "execute_result"
    }
   ],
   "source": [
    "myfunc(1,2)"
   ]
  },
  {
   "cell_type": "markdown",
   "metadata": {
    "slideshow": {
     "slide_type": "slide"
    }
   },
   "source": [
    "#### Compact \"assignment\" form\n",
    "\n",
    "- Functions that consist of a single expression can also be defined using the following syntax:"
   ]
  },
  {
   "cell_type": "code",
   "execution_count": 5,
   "metadata": {
    "slideshow": {
     "slide_type": "fragment"
    }
   },
   "outputs": [
    {
     "data": {
      "text/plain": [
       "13"
      ]
     },
     "execution_count": 5,
     "metadata": {},
     "output_type": "execute_result"
    }
   ],
   "source": [
    "myfunc2(x,y) = x + 2y\n",
    "myfunc2(3,5)"
   ]
  },
  {
   "cell_type": "markdown",
   "metadata": {},
   "source": [
    "#### Anonymous functions\n",
    "\n",
    "- Yet another way to define a function, which has the benefit that it does not need to be given a name which can be convenient e.g. if it is only used temporarily:"
   ]
  },
  {
   "cell_type": "code",
   "execution_count": 6,
   "metadata": {},
   "outputs": [
    {
     "data": {
      "text/plain": [
       "18"
      ]
     },
     "execution_count": 6,
     "metadata": {},
     "output_type": "execute_result"
    }
   ],
   "source": [
    "myfunc3 = (x,y) -> x + 3y\n",
    "myfunc3(3,5)\n",
    "\n",
    "# Same thing without giving the function a name:\n",
    "((x,y) -> x + 3y)(3,5)"
   ]
  },
  {
   "cell_type": "markdown",
   "metadata": {
    "slideshow": {
     "slide_type": "slide"
    }
   },
   "source": [
    "#### Multiple return values\n",
    "\n",
    "- A function can return multiple values, separated by commas:"
   ]
  },
  {
   "cell_type": "code",
   "execution_count": 7,
   "metadata": {
    "slideshow": {
     "slide_type": "fragment"
    }
   },
   "outputs": [
    {
     "data": {
      "text/plain": [
       "mynewfunc (generic function with 1 method)"
      ]
     },
     "execution_count": 7,
     "metadata": {},
     "output_type": "execute_result"
    }
   ],
   "source": [
    "function mynewfunc(x,y)\n",
    "    out1 = x + y\n",
    "    out2 = out1 * (2x + y)\n",
    "    out1, out2\n",
    "end"
   ]
  },
  {
   "cell_type": "code",
   "execution_count": 8,
   "metadata": {
    "slideshow": {
     "slide_type": "fragment"
    }
   },
   "outputs": [
    {
     "data": {
      "text/plain": [
       "(3, 15)"
      ]
     },
     "execution_count": 8,
     "metadata": {},
     "output_type": "execute_result"
    }
   ],
   "source": [
    "y1, y2 = mynewfunc(2,1)"
   ]
  },
  {
   "cell_type": "markdown",
   "metadata": {
    "slideshow": {
     "slide_type": "slide"
    }
   },
   "source": [
    "## Example: Real roots of quadratic function\n",
    "\n",
    "Solve the same problem as before with a user-defined function:"
   ]
  },
  {
   "cell_type": "code",
   "execution_count": 9,
   "metadata": {
    "slideshow": {
     "slide_type": "fragment"
    }
   },
   "outputs": [
    {
     "data": {
      "text/plain": [
       "real_roots_of_quadratic (generic function with 1 method)"
      ]
     },
     "execution_count": 9,
     "metadata": {},
     "output_type": "execute_result"
    }
   ],
   "source": [
    "function real_roots_of_quadratic(a,b,c)\n",
    "    # Compute the real roots of the quadratic ax^2 + bx + c = 0\n",
    "    d = sqrt(b^2 - 4*a*c)\n",
    "    r1 = (-b - d) / 2a\n",
    "    r2 = (-b + d) / 2a\n",
    "    r1, r2\n",
    "end"
   ]
  },
  {
   "cell_type": "code",
   "execution_count": 10,
   "metadata": {
    "slideshow": {
     "slide_type": "fragment"
    }
   },
   "outputs": [
    {
     "data": {
      "text/plain": [
       "(-3.0, -2.0)"
      ]
     },
     "execution_count": 10,
     "metadata": {},
     "output_type": "execute_result"
    }
   ],
   "source": [
    "real_roots_of_quadratic(1, 5, 6)"
   ]
  },
  {
   "cell_type": "code",
   "execution_count": 11,
   "metadata": {
    "slideshow": {
     "slide_type": "fragment"
    }
   },
   "outputs": [
    {
     "data": {
      "text/plain": [
       "(6.0, -1.0)"
      ]
     },
     "execution_count": 11,
     "metadata": {},
     "output_type": "execute_result"
    }
   ],
   "source": [
    "real_roots_of_quadratic(-1, 5, 6)"
   ]
  }
 ],
 "metadata": {
  "kernelspec": {
   "display_name": "Julia 1.9.2",
   "language": "julia",
   "name": "julia-1.9"
  },
  "language_info": {
   "file_extension": ".jl",
   "mimetype": "application/julia",
   "name": "julia",
   "version": "1.9.2"
  }
 },
 "nbformat": 4,
 "nbformat_minor": 2
}
