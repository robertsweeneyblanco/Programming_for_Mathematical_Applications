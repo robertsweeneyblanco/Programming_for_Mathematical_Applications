{
 "cells": [
  {
   "cell_type": "markdown",
   "metadata": {
    "slideshow": {
     "slide_type": "slide"
    }
   },
   "source": [
    "# Variables and assignments\n",
    "\n",
    "- A *variable* is a name that refers to a value\n",
    "\n",
    "- Variable names:\n",
    "  * Can contain most unicode characters, but cannot begin\n",
    "    with a number\n",
    "  * Are case sensitive (e.g. `Tau` is different from `tau`)\n",
    "  * Should ideally be a good description of what\n",
    "    the variable represents\n",
    "    \n",
    "- An *assignment statement* has the form `variable_name = expression`, and it creates a new variable\n",
    "  and gives it the value of the evaluated expression"
   ]
  },
  {
   "cell_type": "code",
   "execution_count": 1,
   "metadata": {
    "slideshow": {
     "slide_type": "subslide"
    }
   },
   "outputs": [
    {
     "data": {
      "text/plain": [
       "1.2"
      ]
     },
     "execution_count": 1,
     "metadata": {},
     "output_type": "execute_result"
    }
   ],
   "source": [
    "my_number = 1.2            # Assignment"
   ]
  },
  {
   "cell_type": "code",
   "execution_count": 2,
   "metadata": {
    "slideshow": {
     "slide_type": "fragment"
    }
   },
   "outputs": [
    {
     "data": {
      "text/plain": [
       "π = 3.1415926535897..."
      ]
     },
     "execution_count": 2,
     "metadata": {},
     "output_type": "execute_result"
    }
   ],
   "source": [
    "pi                         # Pre-defined variable"
   ]
  },
  {
   "cell_type": "code",
   "execution_count": 3,
   "metadata": {
    "scrolled": true,
    "slideshow": {
     "slide_type": "fragment"
    }
   },
   "outputs": [
    {
     "ename": "LoadError",
     "evalue": "UndefVarError: `My_number` not defined",
     "output_type": "error",
     "traceback": [
      "UndefVarError: `My_number` not defined",
      ""
     ]
    }
   ],
   "source": [
    "My_number                  # Error - was defined without capital M"
   ]
  },
  {
   "cell_type": "code",
   "execution_count": 4,
   "metadata": {
    "slideshow": {
     "slide_type": "fragment"
    }
   },
   "outputs": [
    {
     "data": {
      "text/plain": [
       "0.001"
      ]
     },
     "execution_count": 4,
     "metadata": {},
     "output_type": "execute_result"
    }
   ],
   "source": [
    "δ = 0.001                  # Unicode characters allowed (type \\delta and press tab)"
   ]
  },
  {
   "cell_type": "code",
   "execution_count": 5,
   "metadata": {
    "slideshow": {
     "slide_type": "fragment"
    }
   },
   "outputs": [
    {
     "data": {
      "text/plain": [
       "0.0022"
      ]
     },
     "execution_count": 5,
     "metadata": {},
     "output_type": "execute_result"
    }
   ],
   "source": [
    "my_number_2 = (my_number + 1) * δ     # Use pre-defined variables in expressions"
   ]
  },
  {
   "cell_type": "markdown",
   "metadata": {
    "slideshow": {
     "slide_type": "slide"
    }
   },
   "source": [
    "## Updating operators\n",
    "\n",
    "- The following *updating operators* make it convenient to operate on a variable and assign the result back to the variable:\n",
    "\n",
    "```\n",
    "+=  -=  *=  /=  \\=  ÷=  %=  ^=\n",
    "```"
   ]
  },
  {
   "cell_type": "code",
   "execution_count": 6,
   "metadata": {
    "slideshow": {
     "slide_type": "fragment"
    }
   },
   "outputs": [
    {
     "data": {
      "text/plain": [
       "1"
      ]
     },
     "execution_count": 6,
     "metadata": {},
     "output_type": "execute_result"
    }
   ],
   "source": [
    "counter = 1               # counter = 1"
   ]
  },
  {
   "cell_type": "code",
   "execution_count": 7,
   "metadata": {
    "slideshow": {
     "slide_type": "fragment"
    }
   },
   "outputs": [
    {
     "data": {
      "text/plain": [
       "2"
      ]
     },
     "execution_count": 7,
     "metadata": {},
     "output_type": "execute_result"
    }
   ],
   "source": [
    "counter += 1              # counter = counter + 1"
   ]
  },
  {
   "cell_type": "code",
   "execution_count": 8,
   "metadata": {
    "slideshow": {
     "slide_type": "fragment"
    }
   },
   "outputs": [
    {
     "data": {
      "text/plain": [
       "16"
      ]
     },
     "execution_count": 8,
     "metadata": {},
     "output_type": "execute_result"
    }
   ],
   "source": [
    "counter ^= 4              # counter = counter ^ 4"
   ]
  },
  {
   "cell_type": "code",
   "execution_count": 9,
   "metadata": {
    "slideshow": {
     "slide_type": "fragment"
    }
   },
   "outputs": [
    {
     "data": {
      "text/plain": [
       "60"
      ]
     },
     "execution_count": 9,
     "metadata": {},
     "output_type": "execute_result"
    }
   ],
   "source": [
    "angle = 60                # degrees"
   ]
  },
  {
   "cell_type": "code",
   "execution_count": 10,
   "metadata": {
    "slideshow": {
     "slide_type": "fragment"
    }
   },
   "outputs": [
    {
     "data": {
      "text/plain": [
       "1.0471975511965976"
      ]
     },
     "execution_count": 10,
     "metadata": {},
     "output_type": "execute_result"
    }
   ],
   "source": [
    "angle *= π / 180          # convert to radians"
   ]
  },
  {
   "cell_type": "markdown",
   "metadata": {
    "slideshow": {
     "slide_type": "slide"
    }
   },
   "source": [
    "## Numerical literal coefficients\n",
    "\n",
    "- Julia allows variables to be immediately preceded by a numeric literal, implying multiplication\n",
    "- This can make expressions easier to read, and look more like mathematical notation"
   ]
  },
  {
   "cell_type": "code",
   "execution_count": 11,
   "metadata": {
    "slideshow": {
     "slide_type": "fragment"
    }
   },
   "outputs": [
    {
     "name": "stdout",
     "output_type": "stream",
     "text": [
      "10\n",
      "13.0\n",
      "3\n"
     ]
    }
   ],
   "source": [
    "x = 3\n",
    "println(2x^2 - 3x + 1)\n",
    "println(1.5x^2 - .5x + 1)\n",
    "println(2(x-1)^2 - 3(x-1) + 1)"
   ]
  },
  {
   "cell_type": "markdown",
   "metadata": {
    "slideshow": {
     "slide_type": "fragment"
    }
   },
   "source": [
    "- Numeric literal coefficients have higher precedence than `*` and `/`:"
   ]
  },
  {
   "cell_type": "code",
   "execution_count": 12,
   "metadata": {
    "slideshow": {
     "slide_type": "fragment"
    }
   },
   "outputs": [
    {
     "name": "stdout",
     "output_type": "stream",
     "text": [
      "565.4866776461628\n",
      "57.29577951308232\n"
     ]
    }
   ],
   "source": [
    "println(360 / 2*π)  # Left first - equals 180*π\n",
    "println(360 / 2π)   # Right first - equals 180/π"
   ]
  },
  {
   "cell_type": "markdown",
   "metadata": {},
   "source": [
    "- For exponentiation `^`, numeric literal coefficients behave similarly to unary operators:"
   ]
  },
  {
   "cell_type": "code",
   "execution_count": 13,
   "metadata": {},
   "outputs": [
    {
     "name": "stdout",
     "output_type": "stream",
     "text": [
      "64\n",
      "18\n"
     ]
    }
   ],
   "source": [
    "println(2^2x)       # 2^(2x), not (4)x\n",
    "println(2x^2)       # 2*(x^2), not (2x)^2"
   ]
  },
  {
   "cell_type": "markdown",
   "metadata": {
    "slideshow": {
     "slide_type": "slide"
    }
   },
   "source": [
    "## Comments\n",
    "\n",
    "- Comments start with the `#` symbol, and everything from the `#` to the end of the line is ignored by Julia\n",
    "\n",
    "- Alternatively, you can write multi-line comments by wrapping the text inside `#=` and `=#`\n",
    "\n",
    "- Comments are very important, but should be descriptive. Do not comment on obvious things.\n",
    "\n",
    "- Typical uses of comments:\n",
    "  * Start each program (script) with a concise description of what it does\n",
    "  * Define each important variable/constant\n",
    "  * Top a block of code for a specific task with a concise comment\n"
   ]
  },
  {
   "cell_type": "markdown",
   "metadata": {
    "slideshow": {
     "slide_type": "subslide"
    }
   },
   "source": [
    "## Example of comments\n",
    "\n",
    "The comments in this code make it easy to understand exactly what it does"
   ]
  },
  {
   "cell_type": "code",
   "execution_count": 14,
   "metadata": {
    "slideshow": {
     "slide_type": "fragment"
    }
   },
   "outputs": [
    {
     "data": {
      "text/plain": [
       "3.665191429188092e6"
      ]
     },
     "execution_count": 14,
     "metadata": {},
     "output_type": "execute_result"
    }
   ],
   "source": [
    "#=\n",
    "   Experiments with spheres\n",
    "=#\n",
    "\n",
    "radius1 = 100     # Outer sphere radius\n",
    "radius2 = 50      # Inner sphere radius \n",
    "\n",
    "# Compute the volume of each sphere\n",
    "vol1 = 4π * radius1^3 / 3\n",
    "vol2 = 4π * radius2^3 / 3\n",
    "\n",
    "# Compute the volume of a hollow sphere\n",
    "vol_hollow = vol1 - vol2"
   ]
  }
 ],
 "metadata": {
  "kernelspec": {
   "display_name": "Julia 1.9.2",
   "language": "julia",
   "name": "julia-1.9"
  },
  "language_info": {
   "file_extension": ".jl",
   "mimetype": "application/julia",
   "name": "julia",
   "version": "1.9.2"
  }
 },
 "nbformat": 4,
 "nbformat_minor": 2
}
