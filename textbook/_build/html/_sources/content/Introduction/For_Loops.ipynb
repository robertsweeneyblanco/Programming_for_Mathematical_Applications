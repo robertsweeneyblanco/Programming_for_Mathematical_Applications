{
 "cells": [
  {
   "cell_type": "markdown",
   "metadata": {
    "slideshow": {
     "slide_type": "slide"
    }
   },
   "source": [
    "# Repeated Evaluation: For-Loops\n",
    "\n",
    "A **loop** is a fundamental programming construct that allows you to execute a block of code repeatedly. This is essential for automating repetitive tasks.\n",
    "\n",
    "For example, suppose we want to compute the finite sum $s_n = \\sum_{i=1}^n \\frac{1}{i}$ for some integer $n \\ge 1$. A `for`-loop is the perfect tool for this.\n",
    "\n",
    "The basic syntax for a `for`-loop is:\n",
    "```julia\n",
    "for i = 1:n\n",
    "    # This code will be repeated n times, for i = 1, 2, ..., n\n",
    "end\n",
    "```"
   ]
  },
  {
   "cell_type": "markdown",
   "metadata": {
    "slideshow": {
     "slide_type": "subslide"
    }
   },
   "source": [
    "Using this structure, we can write a function to compute $s_n$:"
   ]
  },
  {
   "cell_type": "code",
   "execution_count": 1,
   "metadata": {
    "slideshow": {
     "slide_type": "fragment"
    }
   },
   "outputs": [
    {
     "data": {
      "text/plain": [
       "compute_s (generic function with 1 method)"
      ]
     },
     "execution_count": 1,
     "metadata": {},
     "output_type": "execute_result"
    }
   ],
   "source": [
    "function compute_s(n)\n",
    "    # Initialize a variable to accumulate the sum.\n",
    "    # We start with 0.0 to ensure it's a float, since the terms are fractions.\n",
    "    s = 0.0\n",
    "    \n",
    "    # Loop from i = 1 up to n.\n",
    "    for i = 1:n\n",
    "        s += 1/i  # Add the next term to the sum.\n",
    "    end\n",
    "    \n",
    "    return s\n",
    "end"
   ]
  },
  {
   "cell_type": "code",
   "execution_count": 2,
   "metadata": {
    "slideshow": {
     "slide_type": "fragment"
    }
   },
   "outputs": [
    {
     "data": {
      "text/plain": [
       "5.187377517639621"
      ]
     },
     "execution_count": 2,
     "metadata": {},
     "output_type": "execute_result"
    }
   ],
   "source": [
    "compute_s(100)"
   ]
  },
  {
   "cell_type": "markdown",
   "metadata": {
    "slideshow": {
     "slide_type": "subslide"
    }
   },
   "source": [
    "The `for`-loop is quite flexible. You can specify a `start`, `step`, and `stop` value for the loop variable:\n",
    "\n",
    "```julia\n",
    "for x = start:step:stop\n",
    "    # Code to be repeated\n",
    "end\n",
    "```\n",
    "\n",
    "The loop will begin with `x` at `start`, increment `x` by `step` in each iteration, and stop when `x` passes `stop`."
   ]
  },
  {
   "cell_type": "code",
   "execution_count": 3,
   "metadata": {
    "slideshow": {
     "slide_type": "subslide"
    }
   },
   "outputs": [
    {
     "name": "stdout",
     "output_type": "stream",
     "text": [
      "1 3 5 7 9 11 13 15 17 19 "
     ]
    }
   ],
   "source": [
    "# Loop over the odd numbers from 1 to 20.\n",
    "for x = 1:2:20\n",
    "    print(x, \" \")\n",
    "end"
   ]
  },
  {
   "cell_type": "code",
   "execution_count": 4,
   "metadata": {
    "slideshow": {
     "slide_type": "fragment"
    }
   },
   "outputs": [
    {
     "name": "stdout",
     "output_type": "stream",
     "text": [
      "1.0 1.2 1.4 1.6 1.8 2.0 2.2 2.4 2.6 2.8 3.0 3.2 3.4 3.6 3.8 4.0 4.2 4.4 4.6 4.8 5.0 "
     ]
    }
   ],
   "source": [
    "# The step value can also be a floating-point number.\n",
    "for x = 1:0.2:5\n",
    "    print(x, \" \")\n",
    "end"
   ]
  },
  {
   "cell_type": "code",
   "execution_count": 5,
   "metadata": {
    "slideshow": {
     "slide_type": "fragment"
    }
   },
   "outputs": [
    {
     "name": "stdout",
     "output_type": "stream",
     "text": [
      "10 9 8 7 6 5 4 3 2 1 0 -1 -2 -3 -4 -5 "
     ]
    }
   ],
   "source": [
    "# Use a negative step to count down.\n",
    "for x = 10:-1:-5\n",
    "    print(x, \" \")\n",
    "end"
   ]
  },
  {
   "cell_type": "code",
   "execution_count": 6,
   "metadata": {
    "slideshow": {
     "slide_type": "fragment"
    }
   },
   "outputs": [],
   "source": [
    "# If start > stop and step is positive, the loop body never executes.\n",
    "for x = 10:2:5\n",
    "    print(x, \" \")\n",
    "end"
   ]
  },
  {
   "cell_type": "markdown",
   "metadata": {},
   "source": [
    "More generally, a `for`-loop can iterate over any **collection** of items. Instead of a range, you can provide a tuple (or other collection types like arrays, which we will see later) of values to loop over."
   ]
  },
  {
   "cell_type": "code",
   "execution_count": 7,
   "metadata": {},
   "outputs": [
    {
     "name": "stdout",
     "output_type": "stream",
     "text": [
      "The current value of i is 3\n",
      "The current value of i is 5\n",
      "The current value of i is 11\n",
      "The current value of i is 20\n"
     ]
    }
   ],
   "source": [
    "# The loop variable `i` will take on each value from the tuple in order.\n",
    "for i in (3, 5, 11, 20)\n",
    "    println(\"The current value of i is \", i)\n",
    "end"
   ]
  },
  {
   "cell_type": "markdown",
   "metadata": {
    "slideshow": {
     "slide_type": "slide"
    }
   },
   "source": [
    "## Example: The Factorial Function\n",
    "\n",
    "The factorial function, $n!$, is defined as the product of all positive integers up to $n$. We can implement this using a `for`-loop."
   ]
  },
  {
   "cell_type": "code",
   "execution_count": 8,
   "metadata": {
    "slideshow": {
     "slide_type": "fragment"
    }
   },
   "outputs": [
    {
     "data": {
      "text/plain": [
       "my_factorial (generic function with 1 method)"
      ]
     },
     "execution_count": 8,
     "metadata": {},
     "output_type": "execute_result"
    }
   ],
   "source": [
    "function my_factorial(n)\n",
    "    # Initialize the result to 1.\n",
    "    product = 1\n",
    "    \n",
    "    # Multiply by each integer from 2 to n.\n",
    "    for i = 2:n\n",
    "        product *= i\n",
    "    end\n",
    "    \n",
    "    return product\n",
    "end"
   ]
  },
  {
   "cell_type": "markdown",
   "metadata": {
    "slideshow": {
     "slide_type": "subslide"
    }
   },
   "source": [
    "The factorial function grows very quickly. Its value can easily exceed the range of the default `Int64` type, leading to an **overflow** error."
   ]
  },
  {
   "cell_type": "code",
   "execution_count": 9,
   "metadata": {
    "slideshow": {
     "slide_type": "fragment"
    }
   },
   "outputs": [
    {
     "data": {
      "text/plain": [
       "2432902008176640000"
      ]
     },
     "execution_count": 9,
     "metadata": {},
     "output_type": "execute_result"
    }
   ],
   "source": [
    "my_factorial(20)     # This is still within the Int64 range."
   ]
  },
  {
   "cell_type": "code",
   "execution_count": 10,
   "metadata": {
    "slideshow": {
     "slide_type": "fragment"
    }
   },
   "outputs": [
    {
     "data": {
      "text/plain": [
       "-8764578968847253504"
      ]
     },
     "execution_count": 10,
     "metadata": {},
     "output_type": "execute_result"
    }
   ],
   "source": [
    "my_factorial(30)     # Overflow! The result wraps around and becomes negative."
   ]
  },
  {
   "cell_type": "markdown",
   "metadata": {
    "slideshow": {
     "slide_type": "fragment"
    }
   },
   "source": [
    "To handle larger numbers, we can explicitly use a larger integer type like `Int128`. Julia's type promotion system will then automatically perform all calculations using the larger type."
   ]
  },
  {
   "cell_type": "code",
   "execution_count": 11,
   "metadata": {
    "slideshow": {
     "slide_type": "fragment"
    }
   },
   "outputs": [
    {
     "data": {
      "text/plain": [
       "265252859812191058636308480000000"
      ]
     },
     "execution_count": 11,
     "metadata": {},
     "output_type": "execute_result"
    }
   ],
   "source": [
    "my_factorial(Int128(30))"
   ]
  },
  {
   "cell_type": "markdown",
   "metadata": {},
   "source": [
    "While this works, resorting to higher-precision types is not always the best solution. Unless you truly need to know the exact value of a large factorial, it's often better to rearrange your calculations to avoid producing such large intermediate numbers in the first place. This leads us to the next example.\n",
    "\n",
    "For completeness, note that Julia has a built-in `factorial()` function. Unlike our version which wraps around on overflow, the built-in function gives an `OverflowError`, which is often more helpful for debugging."
   ]
  },
  {
   "cell_type": "code",
   "execution_count": 12,
   "metadata": {},
   "outputs": [
    {
     "ename": "LoadError",
     "evalue": "OverflowError: 30 is too large to look up in the table; consider using `factorial(big(30))` instead",
     "output_type": "error",
     "traceback": [
      "OverflowError: 30 is too large to look up in the table; consider using `factorial(big(30))` instead",
      "",
      "Stacktrace:",
      " [1] \u001b[0m\u001b[1mfactorial_lookup\u001b[22m",
      "\u001b[90m   @\u001b[39m \u001b[90m./\u001b[39m\u001b[90m\u001b[4mcombinatorics.jl:19\u001b[24m\u001b[39m\u001b[90m [inlined]\u001b[39m",
      " [2] \u001b[0m\u001b[1mfactorial\u001b[22m\u001b[0m\u001b[1m(\u001b[22m\u001b[90mn\u001b[39m::\u001b[0mInt64\u001b[0m\u001b[1m)\u001b[22m",
      "\u001b[90m   @\u001b[39m \u001b[90mBase\u001b[39m \u001b[90m./\u001b[39m\u001b[90m\u001b[4mcombinatorics.jl:27\u001b[24m\u001b[39m",
      " [3] top-level scope",
      "\u001b[90m   @\u001b[39m \u001b[90m\u001b[4mIn[12]:2\u001b[24m\u001b[39m"
     ]
    }
   ],
   "source": [
    "# This will produce an error because 30! is too large for an Int64.\n",
    "factorial(30)"
   ]
  },
  {
   "cell_type": "markdown",
   "metadata": {
    "slideshow": {
     "slide_type": "slide"
    }
   },
   "source": [
    "## Example: Taylor Polynomial for Cosine\n",
    "\n",
    "Consider the Taylor polynomial of degree $2n$ for $\\cos x$:\n",
    "$$\n",
    "\\cos x \\approx \\sum_{k=0}^n \\frac{(-1)^k}{(2k)!}x^{2k}\n",
    "$$\n",
    "A naive implementation might calculate the factorial and power separately in each step."
   ]
  },
  {
   "cell_type": "code",
   "execution_count": 13,
   "metadata": {
    "slideshow": {
     "slide_type": "fragment"
    }
   },
   "outputs": [
    {
     "data": {
      "text/plain": [
       "taylor_cos_bad (generic function with 1 method)"
      ]
     },
     "execution_count": 13,
     "metadata": {},
     "output_type": "execute_result"
    }
   ],
   "source": [
    "function taylor_cos_bad(x, n)\n",
    "    y = 0.0\n",
    "    for k = 0:n\n",
    "        # This is computationally expensive and overflows for large k.\n",
    "        y += (-1)^k / factorial(2k) * x^(2k)\n",
    "    end\n",
    "    return y\n",
    "end"
   ]
  },
  {
   "cell_type": "markdown",
   "metadata": {
    "slideshow": {
     "slide_type": "subslide"
    }
   },
   "source": [
    "This function works well when the arguments `x` and `n` are small."
   ]
  },
  {
   "cell_type": "code",
   "execution_count": 14,
   "metadata": {
    "slideshow": {
     "slide_type": "fragment"
    }
   },
   "outputs": [
    {
     "name": "stdout",
     "output_type": "stream",
     "text": [
      "Taylor (n=2): 0.9689127604166666\n",
      "cos(0.25):    0.9689124217106447\n"
     ]
    }
   ],
   "source": [
    "# For x = 0.25, a low-degree approximation is excellent.\n",
    "println(\"Taylor (n=2): \", taylor_cos_bad(0.25, 2))\n",
    "println(\"cos(0.25):    \", cos(0.25))"
   ]
  },
  {
   "cell_type": "markdown",
   "metadata": {
    "slideshow": {
     "slide_type": "subslide"
    }
   },
   "source": [
    "However, for larger `x`, a higher-degree polynomial (larger `n`) is needed for a good approximation. This is where our `taylor_cos_bad` function fails due to the `factorial()` overflow."
   ]
  },
  {
   "cell_type": "code",
   "execution_count": 15,
   "metadata": {
    "slideshow": {
     "slide_type": "fragment"
    }
   },
   "outputs": [
    {
     "name": "stdout",
     "output_type": "stream",
     "text": [
      "Taylor (n=2): 367.66666666666663\n",
      "cos(10):   -0.8390715290764524\n"
     ]
    }
   ],
   "source": [
    "# For x=10, the n=2 approximation is poor.\n",
    "println(\"Taylor (n=2): \", taylor_cos_bad(10, 2))\n",
    "println(\"cos(10):   \", cos(10))"
   ]
  },
  {
   "cell_type": "code",
   "execution_count": 16,
   "metadata": {
    "slideshow": {
     "slide_type": "fragment"
    }
   },
   "outputs": [
    {
     "ename": "LoadError",
     "evalue": "OverflowError: 22 is too large to look up in the table; consider using `factorial(big(22))` instead",
     "output_type": "error",
     "traceback": [
      "OverflowError: 22 is too large to look up in the table; consider using `factorial(big(22))` instead",
      "",
      "Stacktrace:",
      " [1] \u001b[0m\u001b[1mfactorial_lookup\u001b[22m",
      "\u001b[90m   @\u001b[39m \u001b[90m./\u001b[39m\u001b[90m\u001b[4mcombinatorics.jl:19\u001b[24m\u001b[39m\u001b[90m [inlined]\u001b[39m",
      " [2] \u001b[0m\u001b[1mfactorial\u001b[22m",
      "\u001b[90m   @\u001b[39m \u001b[90m./\u001b[39m\u001b[90m\u001b[4mcombinatorics.jl:27\u001b[24m\u001b[39m\u001b[90m [inlined]\u001b[39m",
      " [3] \u001b[0m\u001b[1mtaylor_cos_bad\u001b[22m\u001b[0m\u001b[1m(\u001b[22m\u001b[90mx\u001b[39m::\u001b[0mInt64, \u001b[90mn\u001b[39m::\u001b[0mInt64\u001b[0m\u001b[1m)\u001b[22m",
      "\u001b[90m   @\u001b[39m \u001b[35mMain\u001b[39m \u001b[90m./\u001b[39m\u001b[90m\u001b[4mIn[13]:5\u001b[24m\u001b[39m",
      " [4] top-level scope",
      "\u001b[90m   @\u001b[39m \u001b[90m\u001b[4mIn[16]:2\u001b[24m\u001b[39m"
     ]
    }
   ],
   "source": [
    "# Trying to increase n to 15 causes an overflow error because 2k = 30.\n",
    "taylor_cos_bad(10, 15)"
   ]
  },
  {
   "cell_type": "markdown",
   "metadata": {
    "slideshow": {
     "slide_type": "subslide"
    }
   },
   "source": [
    "### A Better Approach\n",
    "\n",
    "A much more robust method is to compute each term **incrementally** from the previous one. Notice the relationship between term $k$ and term $k-1$:\n",
    "\n",
    "$$\n",
    "\\text{term}_k = \\text{term}_{k-1} \\cdot \\frac{-x^2}{(2k)(2k-1)}\n",
    "$$\n",
    "\n",
    "This avoids large intermediate calculations involving factorials and powers, preventing overflow and improving efficiency."
   ]
  },
  {
   "cell_type": "code",
   "execution_count": 17,
   "metadata": {
    "slideshow": {
     "slide_type": "fragment"
    }
   },
   "outputs": [
    {
     "data": {
      "text/plain": [
       "taylor_cos (generic function with 1 method)"
      ]
     },
     "execution_count": 17,
     "metadata": {},
     "output_type": "execute_result"
    }
   ],
   "source": [
    "function taylor_cos(x, n)\n",
    "    term = 1.0   # First term (k=0) is (-1)^0 * x^0 / 0! = 1\n",
    "    y = 1.0      # Initialize sum with the first term\n",
    "    \n",
    "    for k = 1:n\n",
    "        # Calculate the next term from the previous one.\n",
    "        term *= -x^2 / ((2k-1) * 2k)\n",
    "        y += term\n",
    "    end\n",
    "    \n",
    "    return y\n",
    "end"
   ]
  },
  {
   "cell_type": "markdown",
   "metadata": {
    "slideshow": {
     "slide_type": "subslide"
    }
   },
   "source": [
    "This improved version can now handle a higher degree approximation for `x=10` without any issues."
   ]
  },
  {
   "cell_type": "code",
   "execution_count": 18,
   "metadata": {
    "slideshow": {
     "slide_type": "fragment"
    }
   },
   "outputs": [
    {
     "name": "stdout",
     "output_type": "stream",
     "text": [
      "Taylor (n=15):-0.839420205180993\n",
      "cos(10):    -0.8390715290764524\n"
     ]
    }
   ],
   "source": [
    "# Let's try the degree 30 (n=15) approximation again.\n",
    "println(\"Taylor (n=15):\", taylor_cos(10, 15))\n",
    "println(\"cos(10):    \", cos(10))"
   ]
  },
  {
   "cell_type": "code",
   "execution_count": 19,
   "metadata": {
    "slideshow": {
     "slide_type": "fragment"
    }
   },
   "outputs": [
    {
     "name": "stdout",
     "output_type": "stream",
     "text": [
      "Taylor (n=50): -0.8390715290766048\n",
      "cos(10):     -0.8390715290764524\n"
     ]
    }
   ],
   "source": [
    "# We can go even higher for better accuracy.\n",
    "println(\"Taylor (n=50): \", taylor_cos(10, 50))\n",
    "println(\"cos(10):     \", cos(10))"
   ]
  },
  {
   "cell_type": "markdown",
   "metadata": {
    "slideshow": {
     "slide_type": "slide"
    }
   },
   "source": [
    "## Scope of Variables\n",
    "\n",
    "The **scope** of a variable is the region of code where it is visible and can be accessed. A new **local scope** is introduced by most code blocks, including `for`-loops and functions.\n",
    "\n",
    "By default, a local scope inherits variables from its parent scope. However, you can use the `local` keyword to declare a new variable that is visible only inside that local scope, even if a variable with the same name exists in the parent scope."
   ]
  },
  {
   "cell_type": "code",
   "execution_count": 20,
   "metadata": {},
   "outputs": [
    {
     "name": "stdout",
     "output_type": "stream",
     "text": [
      "x is now 5\n",
      "y is still 10\n"
     ]
    }
   ],
   "source": [
    "x = 10\n",
    "y = 10\n",
    "\n",
    "for i = 1:5\n",
    "    z = i        # `z` is local to this for-loop.\n",
    "    x = z        # This modifies the `x` from the parent scope.\n",
    "    local y = z  # This creates a new `y` that shadows the parent `y`.\n",
    "end\n",
    "\n",
    "println(\"x is now \", x)  # Prints 5, as the loop modified the parent `x`.\n",
    "println(\"y is still \", y) # Prints 10, as the loop used its own local `y`.\n",
    "\n",
    "# The following line will cause an error because `z` only existed inside the loop.\n",
    "# println(z)"
   ]
  }
 ],
 "metadata": {
  "kernelspec": {
   "display_name": "Julia 1.11.5",
   "language": "julia",
   "name": "julia-1.11"
  },
  "language_info": {
   "file_extension": ".jl",
   "mimetype": "application/julia",
   "name": "julia",
   "version": "1.11.5"
  }
 },
 "nbformat": 4,
 "nbformat_minor": 4
}
