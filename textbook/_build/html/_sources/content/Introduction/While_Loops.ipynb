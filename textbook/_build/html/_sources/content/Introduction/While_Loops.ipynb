{
 "cells": [
  {
   "cell_type": "markdown",
   "metadata": {
    "slideshow": {
     "slide_type": "slide"
    }
   },
   "source": [
    "# Repeated Evaluation: While-Loops\n",
    "\n",
    "`for`-loops are ideal when you know the number of iterations in advance, like when computing a finite sum $s_n = \\sum_{i=1}^n \\frac{1}{i}$.\n",
    "\n",
    "However, sometimes the number of iterations isn't known beforehand. For example, what if we needed to add terms to $s_n$ until the next term becomes smaller than some tolerance $\\delta$? For problems like this, a `while`-loop is the perfect tool.\n",
    "\n",
    "The basic syntax is:\n",
    "```julia\n",
    "while condition\n",
    "    # This code will repeat as long as the condition is true\n",
    "end\n",
    "```"
   ]
  },
  {
   "cell_type": "markdown",
   "metadata": {
    "slideshow": {
     "slide_type": "subslide"
    }
   },
   "source": [
    "### Key Points\n",
    "\n",
    "* If the `condition` is `false` initially, the loop body will never execute.\n",
    "* If the `condition` *never* becomes `false`, you will create an **infinite loop**.\n",
    "* You typically need to **initialize** a variable before the loop that is used in the condition, and then **update** that variable inside the loop."
   ]
  },
  {
   "cell_type": "markdown",
   "metadata": {
    "slideshow": {
     "slide_type": "subslide"
    }
   },
   "source": [
    "Here is how we can solve the problem from above: compute $s_n$, stopping when a term is smaller than $\\delta$."
   ]
  },
  {
   "cell_type": "code",
   "execution_count": 1,
   "metadata": {
    "slideshow": {
     "slide_type": "fragment"
    }
   },
   "outputs": [
    {
     "data": {
      "text/plain": [
       "compute_s_delta (generic function with 1 method)"
      ]
     },
     "execution_count": 1,
     "metadata": {},
     "output_type": "execute_result"
    }
   ],
   "source": [
    "function compute_s_delta(δ)\n",
    "    s = 0.0\n",
    "    term = 1.0\n",
    "    i = 1\n",
    "    \n",
    "    while term ≥ δ\n",
    "        s += term\n",
    "        i += 1\n",
    "        term = 1 / i\n",
    "    end\n",
    "    \n",
    "    return s\n",
    "end"
   ]
  },
  {
   "cell_type": "code",
   "execution_count": 2,
   "metadata": {
    "slideshow": {
     "slide_type": "fragment"
    }
   },
   "outputs": [
    {
     "data": {
      "text/plain": [
       "2.9289682539682538"
      ]
     },
     "execution_count": 2,
     "metadata": {},
     "output_type": "execute_result"
    }
   ],
   "source": [
    "compute_s_delta(0.1)"
   ]
  },
  {
   "cell_type": "code",
   "execution_count": 3,
   "metadata": {
    "slideshow": {
     "slide_type": "fragment"
    }
   },
   "outputs": [
    {
     "data": {
      "text/plain": [
       "18.997896413852555"
      ]
     },
     "execution_count": 3,
     "metadata": {},
     "output_type": "execute_result"
    }
   ],
   "source": [
    "compute_s_delta(1e-8)"
   ]
  },
  {
   "cell_type": "markdown",
   "metadata": {
    "slideshow": {
     "slide_type": "slide"
    }
   },
   "source": [
    "## The `break` Statement\n",
    "\n",
    "Sometimes it is useful to exit a loop from somewhere in the middle of its body. The `break` statement allows you to do this immediately.\n",
    "\n",
    "```julia\n",
    "while condition\n",
    "    # ... some code ...\n",
    "    if termination_condition\n",
    "        break\n",
    "    end\n",
    "    # ... more code ...\n",
    "end\n",
    "```\n",
    "This pattern is very common. A popular technique is to create a deliberate infinite loop with `while true` and then use an `if` condition with `break` to control the exit."
   ]
  },
  {
   "cell_type": "markdown",
   "metadata": {
    "slideshow": {
     "slide_type": "subslide"
    }
   },
   "source": [
    "## The `continue` Statement\n",
    "\n",
    "The `continue` statement is similar to `break`, but instead of exiting the loop entirely, it immediately skips to the **next iteration**, bypassing any remaining code in the current iteration. This is useful for skipping certain steps under specific conditions."
   ]
  },
  {
   "cell_type": "markdown",
   "metadata": {
    "slideshow": {
     "slide_type": "slide"
    }
   },
   "source": [
    "## Example: Square Root Calculation\n",
    "\n",
    "A classic way to compute square roots is with **Newton's method**. To find $\\sqrt{a}$, we can iteratively improve an estimate $x_n$ using the formula:\n",
    "\n",
    "$$\n",
    "x_{n+1} = \\frac{1}{2} \\left( x_n + \\frac{a}{x_n} \\right)\n",
    "$$\n",
    "\n",
    "We start with an initial guess, like $x_0 = 1.0$, and repeat until the change between successive estimates is smaller than some tolerance $\\varepsilon$. This is a perfect task for a `while`-loop, and we will explore two common ways to structure it."
   ]
  },
  {
   "cell_type": "markdown",
   "metadata": {},
   "source": [
    "### Method 1: Using `while true` and an `if` statement\n",
    "\n",
    "One popular and readable pattern is to create an infinite loop with `while true` and then use an `if` statement to exit once the convergence criterion is met. This keeps the termination logic cleanly separated inside the loop body.\n",
    "\n",
    "While `break` is often used to exit a loop, it's even more direct to use `return` when the loop is inside a function. This immediately exits the entire function and sends back the final value, making the code more concise."
   ]
  },
  {
   "cell_type": "code",
   "execution_count": 4,
   "metadata": {
    "slideshow": {
     "slide_type": "subslide"
    }
   },
   "outputs": [
    {
     "data": {
      "text/plain": [
       "my_sqrt_v1 (generic function with 2 methods)"
      ]
     },
     "execution_count": 4,
     "metadata": {},
     "output_type": "execute_result"
    }
   ],
   "source": [
    "function my_sqrt_v1(a, ε = 1e-15) # Use a default value for the tolerance ε\n",
    "    x = 1.0                     # Initial guess\n",
    "    \n",
    "    while true\n",
    "        println(\"Current estimate: x = \", x)\n",
    "        x_new = (x + a/x) / 2\n",
    "        \n",
    "        # Check for convergence and exit the loop if met\n",
    "        if abs(x_new - x) < ε\n",
    "            return x_new # Return the final, converged value\n",
    "        end\n",
    "        \n",
    "        x = x_new\n",
    "    end\n",
    "end"
   ]
  },
  {
   "cell_type": "code",
   "execution_count": 5,
   "metadata": {
    "scrolled": true,
    "slideshow": {
     "slide_type": "fragment"
    }
   },
   "outputs": [
    {
     "name": "stdout",
     "output_type": "stream",
     "text": [
      "Current estimate: x = 1.0\n",
      "Current estimate: x = 128.5\n",
      "Current estimate: x = 65.24610894941634\n",
      "Current estimate: x = 34.58485728656987\n",
      "Current estimate: x = 20.993470372021676\n",
      "Current estimate: x = 16.59386909154118\n",
      "Current estimate: x = 16.010626831390027\n",
      "Current estimate: x = 16.00000352670594\n",
      "Current estimate: x = 16.00000000000039\n",
      "Current estimate: x = 16.0\n"
     ]
    },
    {
     "data": {
      "text/plain": [
       "16.0"
      ]
     },
     "execution_count": 5,
     "metadata": {},
     "output_type": "execute_result"
    }
   ],
   "source": [
    "my_sqrt_v1(256)"
   ]
  },
  {
   "cell_type": "markdown",
   "metadata": {},
   "source": [
    "### Method 2: Condition in the `while` Statement\n",
    "\n",
    "A more traditional approach is to place the termination logic directly in the `while` loop's condition. This requires carefully initializing variables *before* the loop starts to ensure the condition can be evaluated correctly on the first pass."
   ]
  },
  {
   "cell_type": "code",
   "execution_count": 6,
   "metadata": {
    "slideshow": {
     "slide_type": "subslide"
    }
   },
   "outputs": [
    {
     "data": {
      "text/plain": [
       "my_sqrt_v2 (generic function with 2 methods)"
      ]
     },
     "execution_count": 6,
     "metadata": {},
     "output_type": "execute_result"
    }
   ],
   "source": [
    "function my_sqrt_v2(a, ε = 1e-15)\n",
    "    x = 1.0\n",
    "    x_new = (x + a/x) / 2 # Calculate the first step to initialize the change\n",
    "    \n",
    "    # Loop as long as the change is greater than or equal to the tolerance\n",
    "    while abs(x_new - x) ≥ ε\n",
    "        println(\"Current estimate: x = \", x_new)\n",
    "        x = x_new\n",
    "        x_new = (x + a/x) / 2\n",
    "    end\n",
    "    \n",
    "    return x_new\n",
    "end"
   ]
  },
  {
   "cell_type": "code",
   "execution_count": 7,
   "metadata": {
    "scrolled": true,
    "slideshow": {
     "slide_type": "fragment"
    }
   },
   "outputs": [
    {
     "name": "stdout",
     "output_type": "stream",
     "text": [
      "Current estimate: x = 128.5\n",
      "Current estimate: x = 65.24610894941634\n",
      "Current estimate: x = 34.58485728656987\n",
      "Current estimate: x = 20.993470372021676\n",
      "Current estimate: x = 16.59386909154118\n",
      "Current estimate: x = 16.010626831390027\n",
      "Current estimate: x = 16.00000352670594\n",
      "Current estimate: x = 16.00000000000039\n",
      "Current estimate: x = 16.0\n"
     ]
    },
    {
     "data": {
      "text/plain": [
       "16.0"
      ]
     },
     "execution_count": 7,
     "metadata": {},
     "output_type": "execute_result"
    }
   ],
   "source": [
    "my_sqrt_v2(256)"
   ]
  }
 ],
 "metadata": {
  "kernelspec": {
   "display_name": "Julia 1.11.5",
   "language": "julia",
   "name": "julia-1.11"
  },
  "language_info": {
   "file_extension": ".jl",
   "mimetype": "application/julia",
   "name": "julia",
   "version": "1.11.5"
  }
 },
 "nbformat": 4,
 "nbformat_minor": 4
}
