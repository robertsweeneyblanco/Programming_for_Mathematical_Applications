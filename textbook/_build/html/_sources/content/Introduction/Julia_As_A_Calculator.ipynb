{
 "cells": [
  {
   "cell_type": "markdown",
   "metadata": {
    "slideshow": {
     "slide_type": "slide"
    }
   },
   "source": [
    "# Julia as a calculator\n",
    "\n",
    "## Arithmetics\n",
    "\n",
    "- The first thing to try in Julia is the evaluation of arithmetic expressions:\n"
   ]
  },
  {
   "cell_type": "code",
   "execution_count": 1,
   "metadata": {
    "slideshow": {
     "slide_type": "fragment"
    }
   },
   "outputs": [
    {
     "data": {
      "text/plain": [
       "357.9"
      ]
     },
     "execution_count": 1,
     "metadata": {},
     "output_type": "execute_result"
    }
   ],
   "source": [
    "123.4 + 234.5     # This is a comment, ignored by Julia"
   ]
  },
  {
   "cell_type": "code",
   "execution_count": 2,
   "metadata": {
    "slideshow": {
     "slide_type": "fragment"
    }
   },
   "outputs": [
    {
     "data": {
      "text/plain": [
       "2.3333333333333335"
      ]
     },
     "execution_count": 2,
     "metadata": {},
     "output_type": "execute_result"
    }
   ],
   "source": [
    "7 / 3             # Integer division returns floating point"
   ]
  },
  {
   "cell_type": "code",
   "execution_count": 3,
   "metadata": {
    "slideshow": {
     "slide_type": "fragment"
    }
   },
   "outputs": [
    {
     "data": {
      "text/plain": [
       "2"
      ]
     },
     "execution_count": 3,
     "metadata": {},
     "output_type": "execute_result"
    }
   ],
   "source": [
    "7 ÷ 3             # Truncated integer division (type \\div and press tab)"
   ]
  },
  {
   "cell_type": "code",
   "execution_count": 4,
   "metadata": {
    "slideshow": {
     "slide_type": "fragment"
    }
   },
   "outputs": [
    {
     "data": {
      "text/plain": [
       "1"
      ]
     },
     "execution_count": 4,
     "metadata": {},
     "output_type": "execute_result"
    }
   ],
   "source": [
    "7 % 3             # Remainder"
   ]
  },
  {
   "cell_type": "code",
   "execution_count": 5,
   "metadata": {
    "slideshow": {
     "slide_type": "fragment"
    }
   },
   "outputs": [
    {
     "data": {
      "text/plain": [
       "124"
      ]
     },
     "execution_count": 5,
     "metadata": {},
     "output_type": "execute_result"
    }
   ],
   "source": [
    "2^7 - 4           # All integer expression which returns an integer"
   ]
  },
  {
   "cell_type": "code",
   "execution_count": 6,
   "metadata": {
    "slideshow": {
     "slide_type": "subslide"
    }
   },
   "outputs": [
    {
     "data": {
      "text/plain": [
       "-16.499999999999996"
      ]
     },
     "execution_count": 6,
     "metadata": {},
     "output_type": "execute_result"
    }
   ],
   "source": [
    "3 * (4.2 - 9.7)   # Use parentheses to control the order of operations"
   ]
  },
  {
   "cell_type": "code",
   "execution_count": 7,
   "metadata": {
    "slideshow": {
     "slide_type": "fragment"
    }
   },
   "outputs": [],
   "source": [
    "# We will later learn why the previous result is not exact"
   ]
  },
  {
   "cell_type": "code",
   "execution_count": 8,
   "metadata": {
    "slideshow": {
     "slide_type": "fragment"
    }
   },
   "outputs": [
    {
     "data": {
      "text/plain": [
       "5.954136718963118"
      ]
     },
     "execution_count": 8,
     "metadata": {},
     "output_type": "execute_result"
    }
   ],
   "source": [
    "5.6e7 ^ 0.1       # Scientific notation, means 5.6⋅10⁷ (not e⁷)"
   ]
  },
  {
   "cell_type": "markdown",
   "metadata": {
    "slideshow": {
     "slide_type": "subslide"
    }
   },
   "source": [
    "## Multiple lines in a cell\n",
    "\n",
    "- Note that if you have many lines in a cell, the Julia notebook only displays the output of the last:"
   ]
  },
  {
   "cell_type": "code",
   "execution_count": 9,
   "metadata": {
    "slideshow": {
     "slide_type": "fragment"
    }
   },
   "outputs": [
    {
     "data": {
      "text/plain": [
       "11.333333333333334"
      ]
     },
     "execution_count": 9,
     "metadata": {},
     "output_type": "execute_result"
    }
   ],
   "source": [
    "1 + 2\n",
    "34 / 3"
   ]
  },
  {
   "cell_type": "markdown",
   "metadata": {
    "slideshow": {
     "slide_type": "fragment"
    }
   },
   "source": [
    "- You can suppress the output by ending the line with a semi-colon, and you can use the `println` function to get more control over what is shown in the output, including descriptive text:"
   ]
  },
  {
   "cell_type": "code",
   "execution_count": 10,
   "metadata": {
    "slideshow": {
     "slide_type": "fragment"
    }
   },
   "outputs": [
    {
     "name": "stdout",
     "output_type": "stream",
     "text": [
      "3.1\n",
      "The result is -0.000123\n"
     ]
    }
   ],
   "source": [
    "println(1 + 2.1)\n",
    "println(\"The result is \", -123 / 1000000)\n",
    "34 / 3; # The output will not be displayed"
   ]
  },
  {
   "cell_type": "markdown",
   "metadata": {
    "slideshow": {
     "slide_type": "slide"
    }
   },
   "source": [
    "## Primitive numeric data types\n",
    "\n",
    "- The previous examples showed that Julia often automatically chooses the right data type for numbers (e.g. integers or floating point numbers)\n",
    "- However, it is often useful to know what types are used, and to choose them manually\n",
    "- Use the `typeof` function to find the type of a value:"
   ]
  },
  {
   "cell_type": "code",
   "execution_count": 11,
   "metadata": {
    "slideshow": {
     "slide_type": "fragment"
    }
   },
   "outputs": [
    {
     "data": {
      "text/plain": [
       "Float64"
      ]
     },
     "execution_count": 11,
     "metadata": {},
     "output_type": "execute_result"
    }
   ],
   "source": [
    "typeof(1.23)"
   ]
  },
  {
   "cell_type": "code",
   "execution_count": 12,
   "metadata": {
    "slideshow": {
     "slide_type": "fragment"
    }
   },
   "outputs": [
    {
     "data": {
      "text/plain": [
       "Int64"
      ]
     },
     "execution_count": 12,
     "metadata": {},
     "output_type": "execute_result"
    }
   ],
   "source": [
    "typeof(-745)"
   ]
  },
  {
   "cell_type": "code",
   "execution_count": 13,
   "metadata": {
    "slideshow": {
     "slide_type": "fragment"
    }
   },
   "outputs": [
    {
     "data": {
      "text/plain": [
       "Float64"
      ]
     },
     "execution_count": 13,
     "metadata": {},
     "output_type": "execute_result"
    }
   ],
   "source": [
    "typeof(1e20)"
   ]
  },
  {
   "cell_type": "markdown",
   "metadata": {
    "slideshow": {
     "slide_type": "subslide"
    }
   },
   "source": [
    "#### Integer types\n",
    "\n",
    "These are Julia's so-called *primitive* integer types:\n",
    "\n",
    "| Type       | Signed? | Number of bits | Smallest value | Largest value |\n",
    "|:---------- |:------- |:-------------- |:-------------- |:------------- |\n",
    "| `Int8`     | ✓       | 8              | -2^7           | 2^7 - 1       |\n",
    "| `UInt8`    | &nbsp;  | 8              | 0              | 2^8 - 1       |\n",
    "| `Int16`    | ✓       | 16             | -2^15          | 2^15 - 1      |\n",
    "| `UInt16`   | &nbsp;  | 16             | 0              | 2^16 - 1      |\n",
    "| `Int32`    | ✓       | 32             | -2^31          | 2^31 - 1      |\n",
    "| `UInt32`   | &nbsp;  | 32             | 0              | 2^32 - 1      |\n",
    "| `Int64`    | ✓       | 64             | -2^63          | 2^63 - 1      |\n",
    "| `UInt64`   | &nbsp;  | 64             | 0              | 2^64 - 1      |\n",
    "| `Int128`   | ✓       | 128            | -2^127         | 2^127 - 1     |\n",
    "| `UInt128`  | &nbsp;  | 128            | 0              | 2^128 - 1     |\n",
    "| `Bool`     | N/A     | 8              | `false` (0)    | `true` (1)    |"
   ]
  },
  {
   "cell_type": "markdown",
   "metadata": {
    "slideshow": {
     "slide_type": "subslide"
    }
   },
   "source": [
    "You can find the minimum and maximum representable values of primitive numeric types using the `typemin` and `typemax` functions:"
   ]
  },
  {
   "cell_type": "code",
   "execution_count": 14,
   "metadata": {
    "slideshow": {
     "slide_type": "fragment"
    }
   },
   "outputs": [
    {
     "name": "stdout",
     "output_type": "stream",
     "text": [
      "-9223372036854775808\n",
      "9223372036854775807\n",
      "-170141183460469231731687303715884105728\n",
      "170141183460469231731687303715884105727\n"
     ]
    }
   ],
   "source": [
    "println(typemin(Int64))\n",
    "println(typemax(Int64))\n",
    "println(typemin(Int128))\n",
    "println(typemax(Int128))\n"
   ]
  },
  {
   "cell_type": "markdown",
   "metadata": {
    "slideshow": {
     "slide_type": "subslide"
    }
   },
   "source": [
    "By default, Julia on a 64-bit system uses `Int64` for integers. This can result in *overflow* for large numbers. Consider for example the computation of $1000^7$:"
   ]
  },
  {
   "cell_type": "code",
   "execution_count": 15,
   "metadata": {
    "slideshow": {
     "slide_type": "fragment"
    }
   },
   "outputs": [
    {
     "data": {
      "text/plain": [
       "3875820019684212736"
      ]
     },
     "execution_count": 15,
     "metadata": {},
     "output_type": "execute_result"
    }
   ],
   "source": [
    "1000^7"
   ]
  },
  {
   "cell_type": "markdown",
   "metadata": {
    "slideshow": {
     "slide_type": "fragment"
    }
   },
   "source": [
    "which is clearly completely wrong. But this particular number can be represented by an `Int128` (or floating-point types):"
   ]
  },
  {
   "cell_type": "code",
   "execution_count": 16,
   "metadata": {
    "slideshow": {
     "slide_type": "fragment"
    }
   },
   "outputs": [
    {
     "data": {
      "text/plain": [
       "1000000000000000000000"
      ]
     },
     "execution_count": 16,
     "metadata": {},
     "output_type": "execute_result"
    }
   ],
   "source": [
    "Int128(1000)^7"
   ]
  },
  {
   "cell_type": "markdown",
   "metadata": {
    "slideshow": {
     "slide_type": "subslide"
    }
   },
   "source": [
    "#### Floating point types\n",
    "\n",
    "These are Julia's primitive floating-point types:\n",
    "\n",
    "| Type      | Precision  | Number of bits |\n",
    "|:--------- |:---------- |:-------------- |\n",
    "| `Float16` | half       | 16             |\n",
    "| `Float32` | single     | 32             |\n",
    "| `Float64` | double     | 64             |"
   ]
  },
  {
   "cell_type": "markdown",
   "metadata": {
    "slideshow": {
     "slide_type": "fragment"
    }
   },
   "source": [
    "We will learn more about the term *precision* later on, but for now it is enough to know that\n",
    "\n",
    "- The default floating point type is `Float64`, or *double precision*\n",
    "- Double precision represents about 16 decimal digits of a number\n",
    "- The largest and smallest double precision positive numbers are about $10^{308}$ and $10^{-308}$"
   ]
  },
  {
   "cell_type": "markdown",
   "metadata": {
    "slideshow": {
     "slide_type": "slide"
    }
   },
   "source": [
    "## Arithmetic operations and order of operations\n",
    "\n",
    "| Expression | Name           | Description                            |\n",
    "|:---------- |:-------------- |:-------------------------------------- |\n",
    "| `+x`       | unary plus     | the identity operation                 |\n",
    "| `-x`       | unary minus    | maps values to their additive inverses |\n",
    "| `x + y`    | binary plus    | performs addition                      |\n",
    "| `x - y`    | binary minus   | performs subtraction                   |\n",
    "| `x * y`    | times          | performs multiplication                |\n",
    "| `x / y`    | divide         | performs division                      |\n",
    "| `x ÷ y`    | integer divide | x / y, truncated to an integer         |\n",
    "| `x \\ y`    | inverse divide | equivalent to `y / x`                  |\n",
    "| `x ^ y`    | power          | raises `x` to the `y`th power          |\n",
    "| `x % y`    | remainder      | equivalent to `rem(x,y)`               |"
   ]
  },
  {
   "cell_type": "markdown",
   "metadata": {
    "slideshow": {
     "slide_type": "fragment"
    }
   },
   "source": [
    "- Order of operations:\n",
    "  * Parentheses\n",
    "  * Power\n",
    "  * Multiplication / division\n",
    "  * Addition / subtraction\n",
    "- Operators with the same precedence are evaluated from left to right\n",
    "  (except exponentiation)\n",
    "- For example: `360 / 2*pi` evaluates to `180 * pi`\n",
    "- Use parentheses if you want `360 / (2*pi)`"
   ]
  }
 ],
 "metadata": {
  "kernelspec": {
   "display_name": "Julia 1.9.2",
   "language": "julia",
   "name": "julia-1.9"
  },
  "language_info": {
   "file_extension": ".jl",
   "mimetype": "application/julia",
   "name": "julia",
   "version": "1.9.2"
  }
 },
 "nbformat": 4,
 "nbformat_minor": 2
}
