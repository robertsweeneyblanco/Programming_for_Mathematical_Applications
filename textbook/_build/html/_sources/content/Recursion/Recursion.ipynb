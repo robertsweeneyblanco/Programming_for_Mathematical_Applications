{
 "cells": [
  {
   "cell_type": "markdown",
   "metadata": {
    "slideshow": {
     "slide_type": "slide"
    }
   },
   "source": [
    "# Recursion"
   ]
  },
  {
   "cell_type": "markdown",
   "metadata": {
    "slideshow": {
     "slide_type": "slide"
    }
   },
   "source": [
    "One of the most powerful concepts in programming is **recursion**: the idea of a function that calls itself. To avoid an infinite loop, a recursive function must have two key components:\n",
    "\n",
    "- A **base case**: A simple condition where the function returns a value directly without calling itself.\n",
    "- A **recursive step**: Where the function calls itself, but with an input that moves it closer to the base case.\n",
    "\n",
    "A classic example is the factorial function, $n!$, which we can define recursively:\n",
    "\n",
    "$$ \n",
    "n! = \n",
    "\\begin{cases}\n",
    "1 & \\text{if } n = 0 \\quad \\text{(Base Case)} \\\\\n",
    "n \\cdot (n-1)! & \\text{if } n > 0 \\quad \\text{(Recursive Step)}\n",
    "\\end{cases}\n",
    "$$\n",
    "\n",
    "Notice how for $n > 0$, the definition of $n!$ depends on a smaller version of itself, $(n-1)!$. This structure translates beautifully into a Julia function."
   ]
  },
  {
   "cell_type": "code",
   "execution_count": 1,
   "metadata": {
    "slideshow": {
     "slide_type": "subslide"
    }
   },
   "outputs": [
    {
     "data": {
      "text/plain": [
       "recursive_factorial (generic function with 1 method)"
      ]
     },
     "execution_count": 1,
     "metadata": {},
     "output_type": "execute_result"
    }
   ],
   "source": [
    "function recursive_factorial(n)\n",
    "    # Base case: 0! is defined as 1. This is the anchor that stops the recursion.\n",
    "    if n == 0\n",
    "        return 1\n",
    "    # Recursive step: For any other integer n, n! = n * (n-1)!\n",
    "    # The function calls itself with a smaller argument (n-1).\n",
    "    else\n",
    "        return n * recursive_factorial(n - 1)\n",
    "    end\n",
    "end"
   ]
  },
  {
   "cell_type": "code",
   "execution_count": 2,
   "metadata": {
    "slideshow": {
     "slide_type": "fragment"
    }
   },
   "outputs": [
    {
     "data": {
      "text/plain": [
       "5040"
      ]
     },
     "execution_count": 2,
     "metadata": {},
     "output_type": "execute_result"
    }
   ],
   "source": [
    "recursive_factorial(7)"
   ]
  },
  {
   "cell_type": "markdown",
   "metadata": {
    "slideshow": {
     "slide_type": "fragment"
    }
   },
   "source": [
    "How does Julia actually compute this? It's a process of \"diving down\" to the base case and then \"building back up.\"\n",
    "\n",
    "`recursive_factorial(7)` calls `recursive_factorial(6)`, which calls `recursive_factorial(5)`, and so on, until `recursive_factorial(0)` is called. At that point, the base case returns `1`. This value is then passed back up the chain: `1*1`, then `2*1`, then `3*2`, and so on, until the final result is computed.\n",
    "\n",
    "Let's add some print statements to visualize this call stack."
   ]
  },
  {
   "cell_type": "code",
   "execution_count": 3,
   "metadata": {
    "slideshow": {
     "slide_type": "subslide"
    }
   },
   "outputs": [
    {
     "data": {
      "text/plain": [
       "recursive_factorial_info (generic function with 1 method)"
      ]
     },
     "execution_count": 3,
     "metadata": {},
     "output_type": "execute_result"
    }
   ],
   "source": [
    "function recursive_factorial_info(n)\n",
    "    if n == 0\n",
    "        println(\"Base case hit: n = 0, returning 1.\")\n",
    "        return 1\n",
    "    else\n",
    "        # This message appears as we \"dive down\" into the recursion.\n",
    "        println(\"n = \", n, \", diving down to call factorial for n-1 = \", n - 1)\n",
    "        \n",
    "        # The recursive call happens here.\n",
    "        result = n * recursive_factorial_info(n - 1)\n",
    "        \n",
    "        # This message appears as we \"build back up\" with the results.\n",
    "        println(\"n = \", n, \", returning from call. Final value: \", result)\n",
    "        return result\n",
    "    end\n",
    "end"
   ]
  },
  {
   "cell_type": "code",
   "execution_count": 4,
   "metadata": {
    "slideshow": {
     "slide_type": "subslide"
    }
   },
   "outputs": [
    {
     "name": "stdout",
     "output_type": "stream",
     "text": [
      "n = 7, diving down to call factorial for n-1 = 6\n",
      "n = 6, diving down to call factorial for n-1 = 5\n",
      "n = 5, diving down to call factorial for n-1 = 4\n",
      "n = 4, diving down to call factorial for n-1 = 3\n",
      "n = 3, diving down to call factorial for n-1 = 2\n",
      "n = 2, diving down to call factorial for n-1 = 1\n",
      "n = 1, diving down to call factorial for n-1 = 0\n",
      "Base case hit: n = 0, returning 1.\n",
      "n = 1, returning from call. Final value: 1\n",
      "n = 2, returning from call. Final value: 2\n",
      "n = 3, returning from call. Final value: 6\n",
      "n = 4, returning from call. Final value: 24\n",
      "n = 5, returning from call. Final value: 120\n",
      "n = 6, returning from call. Final value: 720\n",
      "n = 7, returning from call. Final value: 5040\n"
     ]
    },
    {
     "data": {
      "text/plain": [
       "5040"
      ]
     },
     "execution_count": 4,
     "metadata": {},
     "output_type": "execute_result"
    }
   ],
   "source": [
    "recursive_factorial_info(7)"
   ]
  },
  {
   "cell_type": "markdown",
   "metadata": {
    "slideshow": {
     "slide_type": "fragment"
    }
   },
   "source": [
    "While this is a great illustration, it's worth noting that a simple `for` loop is often more efficient for calculating factorials. However, for many complex problems, especially those involving branching structures like trees, recursion is an essential and elegant tool."
   ]
  },
  {
   "cell_type": "markdown",
   "metadata": {
    "slideshow": {
     "slide_type": "slide"
    }
   },
   "source": [
    "## Example: The Ackermann Function\n",
    "\n",
    "The Ackermann function is a famous example of a function that is computable but grows extraordinarily fast. It's defined purely recursively and is very difficult to express with simple loops.\n",
    "\n",
    "*(From Think Julia, Exercise 6-5)* The Ackermann function, $A(m, n)$, is defined:\n",
    "\n",
    "$$\n",
    "A(m, n) = \n",
    "\\begin{cases} \n",
    "n+1 & \\text{if } m = 0 \\\\ \n",
    "A(m-1, 1) & \\text{if } m > 0 \\text{ and } n = 0 \\\\ \n",
    "A(m-1, A(m, n-1)) & \\text{if } m > 0 \\text{ and } n > 0 \n",
    "\\end{cases}\n",
    "$$\n",
    "\n",
    "See https://en.wikipedia.org/wiki/Ackermann_function. Write a function named `ack` that evaluates the Ackermann function. Use your function to evaluate `ack(3, 4)`, which should be 125. What happens for larger values of m and n?"
   ]
  },
  {
   "cell_type": "markdown",
   "metadata": {
    "slideshow": {
     "slide_type": "subslide"
    }
   },
   "source": [
    "Unlike the factorial, expressing this with a `for` loop is not at all obvious. However, translating the mathematical definition into a recursive function is surprisingly direct."
   ]
  },
  {
   "cell_type": "code",
   "execution_count": 5,
   "metadata": {
    "slideshow": {
     "slide_type": "fragment"
    }
   },
   "outputs": [
    {
     "data": {
      "text/plain": [
       "ack (generic function with 1 method)"
      ]
     },
     "execution_count": 5,
     "metadata": {},
     "output_type": "execute_result"
    }
   ],
   "source": [
    "function ack(m, n)\n",
    "    # Case 1: m = 0\n",
    "    if m == 0\n",
    "        return n + 1\n",
    "    # Case 2: m > 0 and n = 0\n",
    "    elseif m > 0 && n == 0\n",
    "        return ack(m - 1, 1)\n",
    "    # Case 3: m > 0 and n > 0\n",
    "    # This case is doubly recursive!\n",
    "    else\n",
    "        return ack(m - 1, ack(m, n - 1))\n",
    "    end\n",
    "end"
   ]
  },
  {
   "cell_type": "code",
   "execution_count": 6,
   "metadata": {
    "slideshow": {
     "slide_type": "fragment"
    }
   },
   "outputs": [
    {
     "data": {
      "text/plain": [
       "125"
      ]
     },
     "execution_count": 6,
     "metadata": {},
     "output_type": "execute_result"
    }
   ],
   "source": [
    "ack(3, 4)"
   ]
  },
  {
   "cell_type": "markdown",
   "metadata": {
    "slideshow": {
     "slide_type": "subslide"
    }
   },
   "source": [
    "The explosive growth of this function means that even for small inputs, the number of recursive calls is enormous! Let's peek under the hood again to see the cascade of calls for a smaller input."
   ]
  },
  {
   "cell_type": "code",
   "execution_count": 7,
   "metadata": {
    "slideshow": {
     "slide_type": "fragment"
    }
   },
   "outputs": [
    {
     "data": {
      "text/plain": [
       "ack_info (generic function with 1 method)"
      ]
     },
     "execution_count": 7,
     "metadata": {},
     "output_type": "execute_result"
    }
   ],
   "source": [
    "function ack_info(m,n)\n",
    "    # First, a helper function to avoid repetitive printing code.\n",
    "    function print_status()\n",
    "        print(\"ack(\", m, \",\", n, \"): \")\n",
    "    end\n",
    "\n",
    "    # Main code\n",
    "    if m == 0\n",
    "        output = n + 1\n",
    "        print_status()\n",
    "        println(\"Case 1: returning n + 1 = \", output)\n",
    "        return output\n",
    "    elseif m > 0 && n == 0\n",
    "        print_status()\n",
    "        println(\"Case 2: calling itself with parameters m-1,1 == \", m-1, \",\", 1)\n",
    "        output = ack_info(m-1,1)\n",
    "        print_status()\n",
    "        println(\"Case 2: finished calling itself, returning with output \", output)\n",
    "        return output\n",
    "    else\n",
    "        print_status()\n",
    "        println(\"Case 3: calling itself for new n-value with parameters m,n-1 == \", m, \",\", n-1)\n",
    "        newn = ack_info(m,n-1)\n",
    "        print_status()\n",
    "        println(\"Case 3: finished calling itself for new n-value == \", newn)\n",
    "        print_status()\n",
    "        println(\"Case 3: calling itself with parameters m-1, A(m,n-1) == \", m-1, \",\", newn)\n",
    "        output = ack_info(m-1,newn)\n",
    "        print_status()\n",
    "        println(\"Case 3: finished calling itself, returning \", output)\n",
    "        return output\n",
    "    end\n",
    "end"
   ]
  },
  {
   "cell_type": "code",
   "execution_count": 8,
   "metadata": {
    "slideshow": {
     "slide_type": "subslide"
    }
   },
   "outputs": [
    {
     "name": "stdout",
     "output_type": "stream",
     "text": [
      "ack(2,1): Case 3: calling itself for new n-value with parameters m,n-1 == 2,0\n",
      "ack(2,0): Case 2: calling itself with parameters m-1,1 == 1,1\n",
      "ack(1,1): Case 3: calling itself for new n-value with parameters m,n-1 == 1,0\n",
      "ack(1,0): Case 2: calling itself with parameters m-1,1 == 0,1\n",
      "ack(0,1): Case 1: returning n + 1 = 2\n",
      "ack(1,0): Case 2: finished calling itself, returning with output 2\n",
      "ack(1,1): Case 3: finished calling itself for new n-value == 2\n",
      "ack(1,1): Case 3: calling itself with parameters m-1, A(m,n-1) == 0,2\n",
      "ack(0,2): Case 1: returning n + 1 = 3\n",
      "ack(1,1): Case 3: finished calling itself, returning 3\n",
      "ack(2,0): Case 2: finished calling itself, returning with output 3\n",
      "ack(2,1): Case 3: finished calling itself for new n-value == 3\n",
      "ack(2,1): Case 3: calling itself with parameters m-1, A(m,n-1) == 1,3\n",
      "ack(1,3): Case 3: calling itself for new n-value with parameters m,n-1 == 1,2\n",
      "ack(1,2): Case 3: calling itself for new n-value with parameters m,n-1 == 1,1\n",
      "ack(1,1): Case 3: calling itself for new n-value with parameters m,n-1 == 1,0\n",
      "ack(1,0): Case 2: calling itself with parameters m-1,1 == 0,1\n",
      "ack(0,1): Case 1: returning n + 1 = 2\n",
      "ack(1,0): Case 2: finished calling itself, returning with output 2\n",
      "ack(1,1): Case 3: finished calling itself for new n-value == 2\n",
      "ack(1,1): Case 3: calling itself with parameters m-1, A(m,n-1) == 0,2\n",
      "ack(0,2): Case 1: returning n + 1 = 3\n",
      "ack(1,1): Case 3: finished calling itself, returning 3\n",
      "ack(1,2): Case 3: finished calling itself for new n-value == 3\n",
      "ack(1,2): Case 3: calling itself with parameters m-1, A(m,n-1) == 0,3\n",
      "ack(0,3): Case 1: returning n + 1 = 4\n",
      "ack(1,2): Case 3: finished calling itself, returning 4\n",
      "ack(1,3): Case 3: finished calling itself for new n-value == 4\n",
      "ack(1,3): Case 3: calling itself with parameters m-1, A(m,n-1) == 0,4\n",
      "ack(0,4): Case 1: returning n + 1 = 5\n",
      "ack(1,3): Case 3: finished calling itself, returning 5\n",
      "ack(2,1): Case 3: finished calling itself, returning 5\n"
     ]
    },
    {
     "data": {
      "text/plain": [
       "5"
      ]
     },
     "execution_count": 8,
     "metadata": {},
     "output_type": "execute_result"
    }
   ],
   "source": [
    "ack_info(2, 1)"
   ]
  },
  {
   "cell_type": "markdown",
   "metadata": {
    "slideshow": {
     "slide_type": "subslide"
    }
   },
   "source": [
    "Look at the output! Notice that the function often re-calculates the same values multiple times. This suggests a potential optimization: if we stored the results of previous calls (a technique called **memoization**), we could significantly speed things up."
   ]
  },
  {
   "cell_type": "markdown",
   "metadata": {
    "slideshow": {
     "slide_type": "slide"
    }
   },
   "source": [
    "## The Euclidean Greatest Common Divisor (GCD) algorithm\n",
    "\n",
    "*(From Think Julia, Exercise 6-8)* The **greatest common divisor (GCD)** of two integers $a$ and $b$ is the largest integer that divides both of them without a remainder.\n",
    "\n",
    "A highly efficient, ancient algorithm for this is the **Euclidean algorithm**. It's based on a simple, powerful observation: if $r$ is the remainder when $a$ is divided by $b$, then $\\mathrm{gcd}(a, b) = \\mathrm{gcd}(b, r)$.\n",
    "\n",
    "The base case for this recursion is $\\mathrm{gcd}(a, 0) = a$."
   ]
  },
  {
   "cell_type": "code",
   "execution_count": 9,
   "metadata": {
    "slideshow": {
     "slide_type": "fragment"
    }
   },
   "outputs": [
    {
     "data": {
      "text/plain": [
       "my_gcd (generic function with 1 method)"
      ]
     },
     "execution_count": 9,
     "metadata": {},
     "output_type": "execute_result"
    }
   ],
   "source": [
    "function my_gcd(a, b)\n",
    "    # Base case: If b is 0, the GCD is a.\n",
    "    if b == 0\n",
    "        return a\n",
    "    # Recursive step: Apply the property gcd(a, b) = gcd(b, a % b).\n",
    "    # The remainder (a % b) is always smaller than b, ensuring we approach the base case.\n",
    "    else\n",
    "        return my_gcd(b, a % b)\n",
    "    end\n",
    "end"
   ]
  },
  {
   "cell_type": "code",
   "execution_count": 10,
   "metadata": {
    "slideshow": {
     "slide_type": "fragment"
    }
   },
   "outputs": [
    {
     "data": {
      "text/plain": [
       "123456789"
      ]
     },
     "execution_count": 10,
     "metadata": {},
     "output_type": "execute_result"
    }
   ],
   "source": [
    "# Let's test this with two large numbers that share a known common factor.\n",
    "factor = 123_456_789\n",
    "prime1 = 67_867_979\n",
    "prime2 = 86_028_121\n",
    "\n",
    "# The GCD should be our original 'factor'.\n",
    "my_gcd(prime1 * factor, prime2 * factor)"
   ]
  },
  {
   "cell_type": "markdown",
   "metadata": {
    "slideshow": {
     "slide_type": "slide"
    }
   },
   "source": [
    "## Visualizing Recursion: The Sierpiński Triangle\n",
    "\n",
    "Recursion is fantastic for generating fractals, complex patterns that are self-similar at different scales. Let's create the famous Sierpiński triangle using a recursive drawing algorithm.\n",
    "\n",
    "The basic idea is:\n",
    "```\n",
    "function draw_sierpinski(triangle, depth):\n",
    "    if depth is 0:  // Base Case\n",
    "        color the triangle yellow\n",
    "    else:           // Recursive Step\n",
    "        1. Connect the midpoints of the triangle's sides.\n",
    "        2. Color the new center triangle mauve.\n",
    "        3. Call draw_sierpinski() on the three remaining corner triangles.\n",
    "```\n",
    "We'll use a `level` parameter to keep track of the recursion depth."
   ]
  },
  {
   "cell_type": "code",
   "execution_count": 11,
   "metadata": {
    "slideshow": {
     "slide_type": "subslide"
    }
   },
   "outputs": [
    {
     "data": {
      "text/plain": [
       "drawTriangle! (generic function with 1 method)"
      ]
     },
     "execution_count": 11,
     "metadata": {},
     "output_type": "execute_result"
    }
   ],
   "source": [
    "using Plots\n",
    "\n",
    "function drawTriangle!(p, x, y, level)\n",
    "    # Recursively draws a Sierpiński triangle onto the plot object 'p'.\n",
    "    # x and y are 3-element vectors defining the triangle's vertices.\n",
    "    \n",
    "    # Base case: At the desired depth, stop dividing and draw the final triangle.\n",
    "    if level == 0\n",
    "        plot!(p, Shape(x, y), color=:yellow)\n",
    "    # Recursive step:\n",
    "    else\n",
    "        # Find the midpoints of the current triangle's sides.\n",
    "        mid_x = (x + x[[2, 3, 1]]) / 2\n",
    "        mid_y = (y + y[[2, 3, 1]]) / 2\n",
    "        \n",
    "        # Draw and color the interior triangle magenta.\n",
    "        plot!(p, Shape(mid_x, mid_y), color=:magenta)\n",
    "        \n",
    "        # Create the vertex sets for the three smaller \"corner\" triangles.\n",
    "        new_x = [x mid_x mid_x[[3, 1, 2]]]\n",
    "        new_y = [y mid_y mid_y[[3, 1, 2]]]\n",
    "        \n",
    "        # Recursively call the function on each of the three corner triangles.\n",
    "        for i = 1:3\n",
    "            drawTriangle!(p, new_x[i, :], new_y[i, :], level - 1)\n",
    "        end\n",
    "    end\n",
    "end"
   ]
  },
  {
   "cell_type": "code",
   "execution_count": 12,
   "metadata": {
    "slideshow": {
     "slide_type": "subslide"
    }
   },
   "outputs": [
    {
     "data": {
      "image/png": "[encoded data removed]",
      "image/svg+xml": [
       "<?xml version=\"1.0\" encoding=\"utf-8\"?>\n",
       "<svg xmlns=\"http://www.w3.org/2000/svg\" xmlns:xlink=\"http://www.w3.org/1999/xlink\" width=\"600\" height=\"400\" viewBox=\"0 0 2400 1600\">\n",
       "<defs>\n",
       "  <clipPath id=\"clip530\">\n",
       "    <rect x=\"0\" y=\"0\" width=\"2400\" height=\"1600\"/>\n",
       "  </clipPath>\n",
       "</defs>\n",
       "<path clip-path=\"url(#clip530)\" d=\"M0 1600 L2400 1600 L2400 0 L0 0  Z\" fill=\"#ffffff\" fill-rule=\"evenodd\" fill-opacity=\"1\"/>\n",
       "<defs>\n",
       "  <clipPath id=\"clip531\">\n",
       "    <rect x=\"480\" y=\"0\" width=\"1681\" height=\"1600\"/>\n",
       "  </clipPath>\n",
       "</defs>\n",
       "<path clip-path=\"url(#clip530)\" d=\"M156.598 1486.45 L2352.76 1486.45 L2352.76 47.2441 L156.598 47.2441  Z\" fill=\"#ffffff\" fill-rule=\"evenodd\" fill-opacity=\"1\"/>\n",
       "<defs>\n",
       "  <clipPath id=\"clip532\">\n",
       "    <rect x=\"156\" y=\"47\" width=\"2197\" height=\"1440\"/>\n",
       "  </clipPath>\n",
       "</defs>\n",
       "<polyline clip-path=\"url(#clip532)\" style=\"stroke:#000000; stroke-linecap:round; stroke-linejoin:round; stroke-width:2; stroke-opacity:0.1; fill:none\" points=\"470.786,1486.45 470.786,47.2441 \"/>\n",
       "<polyline clip-path=\"url(#clip532)\" style=\"stroke:#000000; stroke-linecap:round; stroke-linejoin:round; stroke-width:2; stroke-opacity:0.1; fill:none\" points=\"862.731,1486.45 862.731,47.2441 \"/>\n",
       "<polyline clip-path=\"url(#clip532)\" style=\"stroke:#000000; stroke-linecap:round; stroke-linejoin:round; stroke-width:2; stroke-opacity:0.1; fill:none\" points=\"1254.68,1486.45 1254.68,47.2441 \"/>\n",
       "<polyline clip-path=\"url(#clip532)\" style=\"stroke:#000000; stroke-linecap:round; stroke-linejoin:round; stroke-width:2; stroke-opacity:0.1; fill:none\" points=\"1646.62,1486.45 1646.62,47.2441 \"/>\n",
       "<polyline clip-path=\"url(#clip532)\" style=\"stroke:#000000; stroke-linecap:round; stroke-linejoin:round; stroke-width:2; stroke-opacity:0.1; fill:none\" points=\"2038.57,1486.45 2038.57,47.2441 \"/>\n",
       "<polyline clip-path=\"url(#clip532)\" style=\"stroke:#000000; stroke-linecap:round; stroke-linejoin:round; stroke-width:2; stroke-opacity:0.1; fill:none\" points=\"156.598,1445.72 2352.76,1445.72 \"/>\n",
       "<polyline clip-path=\"url(#clip532)\" style=\"stroke:#000000; stroke-linecap:round; stroke-linejoin:round; stroke-width:2; stroke-opacity:0.1; fill:none\" points=\"156.598,1132.16 2352.76,1132.16 \"/>\n",
       "<polyline clip-path=\"url(#clip532)\" style=\"stroke:#000000; stroke-linecap:round; stroke-linejoin:round; stroke-width:2; stroke-opacity:0.1; fill:none\" points=\"156.598,818.603 2352.76,818.603 \"/>\n",
       "<polyline clip-path=\"url(#clip532)\" style=\"stroke:#000000; stroke-linecap:round; stroke-linejoin:round; stroke-width:2; stroke-opacity:0.1; fill:none\" points=\"156.598,505.046 2352.76,505.046 \"/>\n",
       "<polyline clip-path=\"url(#clip532)\" style=\"stroke:#000000; stroke-linecap:round; stroke-linejoin:round; stroke-width:2; stroke-opacity:0.1; fill:none\" points=\"156.598,191.49 2352.76,191.49 \"/>\n",
       "<polyline clip-path=\"url(#clip530)\" style=\"stroke:#000000; stroke-linecap:round; stroke-linejoin:round; stroke-width:4; stroke-opacity:1; fill:none\" points=\"156.598,1486.45 2352.76,1486.45 \"/>\n",
       "<polyline clip-path=\"url(#clip530)\" style=\"stroke:#000000; stroke-linecap:round; stroke-linejoin:round; stroke-width:4; stroke-opacity:1; fill:none\" points=\"470.786,1486.45 470.786,1467.55 \"/>\n",
       "<polyline clip-path=\"url(#clip530)\" style=\"stroke:#000000; stroke-linecap:round; stroke-linejoin:round; stroke-width:4; stroke-opacity:1; fill:none\" points=\"862.731,1486.45 862.731,1467.55 \"/>\n",
       "<polyline clip-path=\"url(#clip530)\" style=\"stroke:#000000; stroke-linecap:round; stroke-linejoin:round; stroke-width:4; stroke-opacity:1; fill:none\" points=\"1254.68,1486.45 1254.68,1467.55 \"/>\n",
       "<polyline clip-path=\"url(#clip530)\" style=\"stroke:#000000; stroke-linecap:round; stroke-linejoin:round; stroke-width:4; stroke-opacity:1; fill:none\" points=\"1646.62,1486.45 1646.62,1467.55 \"/>\n",
       "<polyline clip-path=\"url(#clip530)\" style=\"stroke:#000000; stroke-linecap:round; stroke-linejoin:round; stroke-width:4; stroke-opacity:1; fill:none\" points=\"2038.57,1486.45 2038.57,1467.55 \"/>\n",
       "<path clip-path=\"url(#clip530)\" d=\"M433.089 1517.37 Q429.478 1517.37 427.65 1520.93 Q425.844 1524.47 425.844 1531.6 Q425.844 1538.71 427.65 1542.27 Q429.478 1545.82 433.089 1545.82 Q436.724 1545.82 438.529 1542.27 Q440.358 1538.71 440.358 1531.6 Q440.358 1524.47 438.529 1520.93 Q436.724 1517.37 433.089 1517.37 M433.089 1513.66 Q438.899 1513.66 441.955 1518.27 Q445.034 1522.85 445.034 1531.6 Q445.034 1540.33 441.955 1544.94 Q438.899 1549.52 433.089 1549.52 Q427.279 1549.52 424.2 1544.94 Q421.145 1540.33 421.145 1531.6 Q421.145 1522.85 424.2 1518.27 Q427.279 1513.66 433.089 1513.66 Z\" fill=\"#000000\" fill-rule=\"nonzero\" fill-opacity=\"1\" /><path clip-path=\"url(#clip530)\" d=\"M453.251 1542.97 L458.135 1542.97 L458.135 1548.85 L453.251 1548.85 L453.251 1542.97 Z\" fill=\"#000000\" fill-rule=\"nonzero\" fill-opacity=\"1\" /><path clip-path=\"url(#clip530)\" d=\"M478.321 1517.37 Q474.709 1517.37 472.881 1520.93 Q471.075 1524.47 471.075 1531.6 Q471.075 1538.71 472.881 1542.27 Q474.709 1545.82 478.321 1545.82 Q481.955 1545.82 483.76 1542.27 Q485.589 1538.71 485.589 1531.6 Q485.589 1524.47 483.76 1520.93 Q481.955 1517.37 478.321 1517.37 M478.321 1513.66 Q484.131 1513.66 487.186 1518.27 Q490.265 1522.85 490.265 1531.6 Q490.265 1540.33 487.186 1544.94 Q484.131 1549.52 478.321 1549.52 Q472.51 1549.52 469.432 1544.94 Q466.376 1540.33 466.376 1531.6 Q466.376 1522.85 469.432 1518.27 Q472.51 1513.66 478.321 1513.66 Z\" fill=\"#000000\" fill-rule=\"nonzero\" fill-opacity=\"1\" /><path clip-path=\"url(#clip530)\" d=\"M508.482 1517.37 Q504.871 1517.37 503.043 1520.93 Q501.237 1524.47 501.237 1531.6 Q501.237 1538.71 503.043 1542.27 Q504.871 1545.82 508.482 1545.82 Q512.117 1545.82 513.922 1542.27 Q515.751 1538.71 515.751 1531.6 Q515.751 1524.47 513.922 1520.93 Q512.117 1517.37 508.482 1517.37 M508.482 1513.66 Q514.293 1513.66 517.348 1518.27 Q520.427 1522.85 520.427 1531.6 Q520.427 1540.33 517.348 1544.94 Q514.293 1549.52 508.482 1549.52 Q502.672 1549.52 499.594 1544.94 Q496.538 1540.33 496.538 1531.6 Q496.538 1522.85 499.594 1518.27 Q502.672 1513.66 508.482 1513.66 Z\" fill=\"#000000\" fill-rule=\"nonzero\" fill-opacity=\"1\" /><path clip-path=\"url(#clip530)\" d=\"M825.533 1517.37 Q821.921 1517.37 820.093 1520.93 Q818.287 1524.47 818.287 1531.6 Q818.287 1538.71 820.093 1542.27 Q821.921 1545.82 825.533 1545.82 Q829.167 1545.82 830.972 1542.27 Q832.801 1538.71 832.801 1531.6 Q832.801 1524.47 830.972 1520.93 Q829.167 1517.37 825.533 1517.37 M825.533 1513.66 Q831.343 1513.66 834.398 1518.27 Q837.477 1522.85 837.477 1531.6 Q837.477 1540.33 834.398 1544.94 Q831.343 1549.52 825.533 1549.52 Q819.722 1549.52 816.644 1544.94 Q813.588 1540.33 813.588 1531.6 Q813.588 1522.85 816.644 1518.27 Q819.722 1513.66 825.533 1513.66 Z\" fill=\"#000000\" fill-rule=\"nonzero\" fill-opacity=\"1\" /><path clip-path=\"url(#clip530)\" d=\"M845.695 1542.97 L850.579 1542.97 L850.579 1548.85 L845.695 1548.85 L845.695 1542.97 Z\" fill=\"#000000\" fill-rule=\"nonzero\" fill-opacity=\"1\" /><path clip-path=\"url(#clip530)\" d=\"M864.792 1544.91 L881.111 1544.91 L881.111 1548.85 L859.167 1548.85 L859.167 1544.91 Q861.829 1542.16 866.412 1537.53 Q871.018 1532.88 872.199 1531.53 Q874.444 1529.01 875.324 1527.27 Q876.227 1525.51 876.227 1523.82 Q876.227 1521.07 874.282 1519.33 Q872.361 1517.6 869.259 1517.6 Q867.06 1517.6 864.606 1518.36 Q862.176 1519.13 859.398 1520.68 L859.398 1515.95 Q862.222 1514.82 864.676 1514.24 Q867.13 1513.66 869.167 1513.66 Q874.537 1513.66 877.731 1516.35 Q880.926 1519.03 880.926 1523.52 Q880.926 1525.65 880.116 1527.57 Q879.329 1529.47 877.222 1532.07 Q876.643 1532.74 873.542 1535.95 Q870.44 1539.15 864.792 1544.91 Z\" fill=\"#000000\" fill-rule=\"nonzero\" fill-opacity=\"1\" /><path clip-path=\"url(#clip530)\" d=\"M890.972 1514.29 L909.328 1514.29 L909.328 1518.22 L895.254 1518.22 L895.254 1526.7 Q896.273 1526.35 897.291 1526.19 Q898.31 1526 899.328 1526 Q905.115 1526 908.495 1529.17 Q911.875 1532.34 911.875 1537.76 Q911.875 1543.34 908.403 1546.44 Q904.93 1549.52 898.611 1549.52 Q896.435 1549.52 894.166 1549.15 Q891.921 1548.78 889.514 1548.04 L889.514 1543.34 Q891.597 1544.47 893.819 1545.03 Q896.041 1545.58 898.518 1545.58 Q902.523 1545.58 904.861 1543.48 Q907.199 1541.37 907.199 1537.76 Q907.199 1534.15 904.861 1532.04 Q902.523 1529.94 898.518 1529.94 Q896.643 1529.94 894.768 1530.35 Q892.916 1530.77 890.972 1531.65 L890.972 1514.29 Z\" fill=\"#000000\" fill-rule=\"nonzero\" fill-opacity=\"1\" /><path clip-path=\"url(#clip530)\" d=\"M1216.98 1517.37 Q1213.37 1517.37 1211.54 1520.93 Q1209.74 1524.47 1209.74 1531.6 Q1209.74 1538.71 1211.54 1542.27 Q1213.37 1545.82 1216.98 1545.82 Q1220.61 1545.82 1222.42 1542.27 Q1224.25 1538.71 1224.25 1531.6 Q1224.25 1524.47 1222.42 1520.93 Q1220.61 1517.37 1216.98 1517.37 M1216.98 1513.66 Q1222.79 1513.66 1225.85 1518.27 Q1228.92 1522.85 1228.92 1531.6 Q1228.92 1540.33 1225.85 1544.94 Q1222.79 1549.52 1216.98 1549.52 Q1211.17 1549.52 1208.09 1544.94 Q1205.04 1540.33 1205.04 1531.6 Q1205.04 1522.85 1208.09 1518.27 Q1211.17 1513.66 1216.98 1513.66 Z\" fill=\"#000000\" fill-rule=\"nonzero\" fill-opacity=\"1\" /><path clip-path=\"url(#clip530)\" d=\"M1237.14 1542.97 L1242.03 1542.97 L1242.03 1548.85 L1237.14 1548.85 L1237.14 1542.97 Z\" fill=\"#000000\" fill-rule=\"nonzero\" fill-opacity=\"1\" /><path clip-path=\"url(#clip530)\" d=\"M1252.26 1514.29 L1270.61 1514.29 L1270.61 1518.22 L1256.54 1518.22 L1256.54 1526.7 Q1257.56 1526.35 1258.58 1526.19 Q1259.6 1526 1260.61 1526 Q1266.4 1526 1269.78 1529.17 Q1273.16 1532.34 1273.16 1537.76 Q1273.16 1543.34 1269.69 1546.44 Q1266.22 1549.52 1259.9 1549.52 Q1257.72 1549.52 1255.45 1549.15 Q1253.21 1548.78 1250.8 1548.04 L1250.8 1543.34 Q1252.88 1544.47 1255.11 1545.03 Q1257.33 1545.58 1259.8 1545.58 Q1263.81 1545.58 1266.15 1543.48 Q1268.48 1541.37 1268.48 1537.76 Q1268.48 1534.15 1266.15 1532.04 Q1263.81 1529.94 1259.8 1529.94 Q1257.93 1529.94 1256.05 1530.35 Q1254.2 1530.77 1252.26 1531.65 L1252.26 1514.29 Z\" fill=\"#000000\" fill-rule=\"nonzero\" fill-opacity=\"1\" /><path clip-path=\"url(#clip530)\" d=\"M1292.37 1517.37 Q1288.76 1517.37 1286.93 1520.93 Q1285.13 1524.47 1285.13 1531.6 Q1285.13 1538.71 1286.93 1542.27 Q1288.76 1545.82 1292.37 1545.82 Q1296.01 1545.82 1297.81 1542.27 Q1299.64 1538.71 1299.64 1531.6 Q1299.64 1524.47 1297.81 1520.93 Q1296.01 1517.37 1292.37 1517.37 M1292.37 1513.66 Q1298.18 1513.66 1301.24 1518.27 Q1304.32 1522.85 1304.32 1531.6 Q1304.32 1540.33 1301.24 1544.94 Q1298.18 1549.52 1292.37 1549.52 Q1286.56 1549.52 1283.48 1544.94 Q1280.43 1540.33 1280.43 1531.6 Q1280.43 1522.85 1283.48 1518.27 Q1286.56 1513.66 1292.37 1513.66 Z\" fill=\"#000000\" fill-rule=\"nonzero\" fill-opacity=\"1\" /><path clip-path=\"url(#clip530)\" d=\"M1609.42 1517.37 Q1605.81 1517.37 1603.98 1520.93 Q1602.18 1524.47 1602.18 1531.6 Q1602.18 1538.71 1603.98 1542.27 Q1605.81 1545.82 1609.42 1545.82 Q1613.06 1545.82 1614.86 1542.27 Q1616.69 1538.71 1616.69 1531.6 Q1616.69 1524.47 1614.86 1520.93 Q1613.06 1517.37 1609.42 1517.37 M1609.42 1513.66 Q1615.23 1513.66 1618.29 1518.27 Q1621.37 1522.85 1621.37 1531.6 Q1621.37 1540.33 1618.29 1544.94 Q1615.23 1549.52 1609.42 1549.52 Q1603.61 1549.52 1600.53 1544.94 Q1597.48 1540.33 1597.48 1531.6 Q1597.48 1522.85 1600.53 1518.27 Q1603.61 1513.66 1609.42 1513.66 Z\" fill=\"#000000\" fill-rule=\"nonzero\" fill-opacity=\"1\" /><path clip-path=\"url(#clip530)\" d=\"M1629.59 1542.97 L1634.47 1542.97 L1634.47 1548.85 L1629.59 1548.85 L1629.59 1542.97 Z\" fill=\"#000000\" fill-rule=\"nonzero\" fill-opacity=\"1\" /><path clip-path=\"url(#clip530)\" d=\"M1643.47 1514.29 L1665.7 1514.29 L1665.7 1516.28 L1653.15 1548.85 L1648.27 1548.85 L1660.07 1518.22 L1643.47 1518.22 L1643.47 1514.29 Z\" fill=\"#000000\" fill-rule=\"nonzero\" fill-opacity=\"1\" /><path clip-path=\"url(#clip530)\" d=\"M1674.86 1514.29 L1693.22 1514.29 L1693.22 1518.22 L1679.15 1518.22 L1679.15 1526.7 Q1680.16 1526.35 1681.18 1526.19 Q1682.2 1526 1683.22 1526 Q1689.01 1526 1692.39 1529.17 Q1695.77 1532.34 1695.77 1537.76 Q1695.77 1543.34 1692.29 1546.44 Q1688.82 1549.52 1682.5 1549.52 Q1680.33 1549.52 1678.06 1549.15 Q1675.81 1548.78 1673.4 1548.04 L1673.4 1543.34 Q1675.49 1544.47 1677.71 1545.03 Q1679.93 1545.58 1682.41 1545.58 Q1686.41 1545.58 1688.75 1543.48 Q1691.09 1541.37 1691.09 1537.76 Q1691.09 1534.15 1688.75 1532.04 Q1686.41 1529.94 1682.41 1529.94 Q1680.53 1529.94 1678.66 1530.35 Q1676.81 1530.77 1674.86 1531.65 L1674.86 1514.29 Z\" fill=\"#000000\" fill-rule=\"nonzero\" fill-opacity=\"1\" /><path clip-path=\"url(#clip530)\" d=\"M1990.64 1544.91 L1998.28 1544.91 L1998.28 1518.55 L1989.97 1520.21 L1989.97 1515.95 L1998.23 1514.29 L2002.91 1514.29 L2002.91 1544.91 L2010.55 1544.91 L2010.55 1548.85 L1990.64 1548.85 L1990.64 1544.91 Z\" fill=\"#000000\" fill-rule=\"nonzero\" fill-opacity=\"1\" /><path clip-path=\"url(#clip530)\" d=\"M2019.99 1542.97 L2024.88 1542.97 L2024.88 1548.85 L2019.99 1548.85 L2019.99 1542.97 Z\" fill=\"#000000\" fill-rule=\"nonzero\" fill-opacity=\"1\" /><path clip-path=\"url(#clip530)\" d=\"M2045.06 1517.37 Q2041.45 1517.37 2039.62 1520.93 Q2037.82 1524.47 2037.82 1531.6 Q2037.82 1538.71 2039.62 1542.27 Q2041.45 1545.82 2045.06 1545.82 Q2048.7 1545.82 2050.5 1542.27 Q2052.33 1538.71 2052.33 1531.6 Q2052.33 1524.47 2050.5 1520.93 Q2048.7 1517.37 2045.06 1517.37 M2045.06 1513.66 Q2050.87 1513.66 2053.93 1518.27 Q2057.01 1522.85 2057.01 1531.6 Q2057.01 1540.33 2053.93 1544.94 Q2050.87 1549.52 2045.06 1549.52 Q2039.25 1549.52 2036.17 1544.94 Q2033.12 1540.33 2033.12 1531.6 Q2033.12 1522.85 2036.17 1518.27 Q2039.25 1513.66 2045.06 1513.66 Z\" fill=\"#000000\" fill-rule=\"nonzero\" fill-opacity=\"1\" /><path clip-path=\"url(#clip530)\" d=\"M2075.22 1517.37 Q2071.61 1517.37 2069.78 1520.93 Q2067.98 1524.47 2067.98 1531.6 Q2067.98 1538.71 2069.78 1542.27 Q2071.61 1545.82 2075.22 1545.82 Q2078.86 1545.82 2080.66 1542.27 Q2082.49 1538.71 2082.49 1531.6 Q2082.49 1524.47 2080.66 1520.93 Q2078.86 1517.37 2075.22 1517.37 M2075.22 1513.66 Q2081.03 1513.66 2084.09 1518.27 Q2087.17 1522.85 2087.17 1531.6 Q2087.17 1540.33 2084.09 1544.94 Q2081.03 1549.52 2075.22 1549.52 Q2069.41 1549.52 2066.33 1544.94 Q2063.28 1540.33 2063.28 1531.6 Q2063.28 1522.85 2066.33 1518.27 Q2069.41 1513.66 2075.22 1513.66 Z\" fill=\"#000000\" fill-rule=\"nonzero\" fill-opacity=\"1\" /><polyline clip-path=\"url(#clip530)\" style=\"stroke:#000000; stroke-linecap:round; stroke-linejoin:round; stroke-width:4; stroke-opacity:1; fill:none\" points=\"156.598,1486.45 156.598,47.2441 \"/>\n",
       "<polyline clip-path=\"url(#clip530)\" style=\"stroke:#000000; stroke-linecap:round; stroke-linejoin:round; stroke-width:4; stroke-opacity:1; fill:none\" points=\"156.598,1445.72 175.496,1445.72 \"/>\n",
       "<polyline clip-path=\"url(#clip530)\" style=\"stroke:#000000; stroke-linecap:round; stroke-linejoin:round; stroke-width:4; stroke-opacity:1; fill:none\" points=\"156.598,1132.16 175.496,1132.16 \"/>\n",
       "<polyline clip-path=\"url(#clip530)\" style=\"stroke:#000000; stroke-linecap:round; stroke-linejoin:round; stroke-width:4; stroke-opacity:1; fill:none\" points=\"156.598,818.603 175.496,818.603 \"/>\n",
       "<polyline clip-path=\"url(#clip530)\" style=\"stroke:#000000; stroke-linecap:round; stroke-linejoin:round; stroke-width:4; stroke-opacity:1; fill:none\" points=\"156.598,505.046 175.496,505.046 \"/>\n",
       "<polyline clip-path=\"url(#clip530)\" style=\"stroke:#000000; stroke-linecap:round; stroke-linejoin:round; stroke-width:4; stroke-opacity:1; fill:none\" points=\"156.598,191.49 175.496,191.49 \"/>\n",
       "<path clip-path=\"url(#clip530)\" d=\"M63.4226 1431.51 Q59.8115 1431.51 57.9828 1435.08 Q56.1773 1438.62 56.1773 1445.75 Q56.1773 1452.86 57.9828 1456.42 Q59.8115 1459.96 63.4226 1459.96 Q67.0569 1459.96 68.8624 1456.42 Q70.6911 1452.86 70.6911 1445.75 Q70.6911 1438.62 68.8624 1435.08 Q67.0569 1431.51 63.4226 1431.51 M63.4226 1427.81 Q69.2328 1427.81 72.2883 1432.42 Q75.367 1437 75.367 1445.75 Q75.367 1454.48 72.2883 1459.08 Q69.2328 1463.67 63.4226 1463.67 Q57.6125 1463.67 54.5338 1459.08 Q51.4782 1454.48 51.4782 1445.75 Q51.4782 1437 54.5338 1432.42 Q57.6125 1427.81 63.4226 1427.81 Z\" fill=\"#000000\" fill-rule=\"nonzero\" fill-opacity=\"1\" /><path clip-path=\"url(#clip530)\" d=\"M83.5845 1457.12 L88.4688 1457.12 L88.4688 1463 L83.5845 1463 L83.5845 1457.12 Z\" fill=\"#000000\" fill-rule=\"nonzero\" fill-opacity=\"1\" /><path clip-path=\"url(#clip530)\" d=\"M108.654 1431.51 Q105.043 1431.51 103.214 1435.08 Q101.409 1438.62 101.409 1445.75 Q101.409 1452.86 103.214 1456.42 Q105.043 1459.96 108.654 1459.96 Q112.288 1459.96 114.094 1456.42 Q115.922 1452.86 115.922 1445.75 Q115.922 1438.62 114.094 1435.08 Q112.288 1431.51 108.654 1431.51 M108.654 1427.81 Q114.464 1427.81 117.52 1432.42 Q120.598 1437 120.598 1445.75 Q120.598 1454.48 117.52 1459.08 Q114.464 1463.67 108.654 1463.67 Q102.844 1463.67 99.765 1459.08 Q96.7095 1454.48 96.7095 1445.75 Q96.7095 1437 99.765 1432.42 Q102.844 1427.81 108.654 1427.81 Z\" fill=\"#000000\" fill-rule=\"nonzero\" fill-opacity=\"1\" /><path clip-path=\"url(#clip530)\" d=\"M65.0198 1117.96 Q61.4087 1117.96 59.58 1121.52 Q57.7745 1125.06 57.7745 1132.19 Q57.7745 1139.3 59.58 1142.87 Q61.4087 1146.41 65.0198 1146.41 Q68.6541 1146.41 70.4596 1142.87 Q72.2883 1139.3 72.2883 1132.19 Q72.2883 1125.06 70.4596 1121.52 Q68.6541 1117.96 65.0198 1117.96 M65.0198 1114.25 Q70.83 1114.25 73.8855 1118.86 Q76.9642 1123.44 76.9642 1132.19 Q76.9642 1140.92 73.8855 1145.53 Q70.83 1150.11 65.0198 1150.11 Q59.2097 1150.11 56.131 1145.53 Q53.0754 1140.92 53.0754 1132.19 Q53.0754 1123.44 56.131 1118.86 Q59.2097 1114.25 65.0198 1114.25 Z\" fill=\"#000000\" fill-rule=\"nonzero\" fill-opacity=\"1\" /><path clip-path=\"url(#clip530)\" d=\"M85.1818 1143.56 L90.066 1143.56 L90.066 1149.44 L85.1818 1149.44 L85.1818 1143.56 Z\" fill=\"#000000\" fill-rule=\"nonzero\" fill-opacity=\"1\" /><path clip-path=\"url(#clip530)\" d=\"M104.279 1145.5 L120.598 1145.5 L120.598 1149.44 L98.6539 1149.44 L98.6539 1145.5 Q101.316 1142.75 105.899 1138.12 Q110.506 1133.47 111.686 1132.12 Q113.932 1129.6 114.811 1127.87 Q115.714 1126.11 115.714 1124.42 Q115.714 1121.66 113.77 1119.93 Q111.848 1118.19 108.746 1118.19 Q106.547 1118.19 104.094 1118.95 Q101.663 1119.72 98.8854 1121.27 L98.8854 1116.55 Q101.709 1115.41 104.163 1114.83 Q106.617 1114.25 108.654 1114.25 Q114.024 1114.25 117.219 1116.94 Q120.413 1119.62 120.413 1124.12 Q120.413 1126.24 119.603 1128.17 Q118.816 1130.06 116.709 1132.66 Q116.131 1133.33 113.029 1136.55 Q109.927 1139.74 104.279 1145.5 Z\" fill=\"#000000\" fill-rule=\"nonzero\" fill-opacity=\"1\" /><path clip-path=\"url(#clip530)\" d=\"M62.9365 804.401 Q59.3254 804.401 57.4967 807.966 Q55.6912 811.508 55.6912 818.637 Q55.6912 825.744 57.4967 829.309 Q59.3254 832.85 62.9365 832.85 Q66.5707 832.85 68.3763 829.309 Q70.205 825.744 70.205 818.637 Q70.205 811.508 68.3763 807.966 Q66.5707 804.401 62.9365 804.401 M62.9365 800.698 Q68.7467 800.698 71.8022 805.304 Q74.8809 809.887 74.8809 818.637 Q74.8809 827.364 71.8022 831.971 Q68.7467 836.554 62.9365 836.554 Q57.1264 836.554 54.0477 831.971 Q50.9921 827.364 50.9921 818.637 Q50.9921 809.887 54.0477 805.304 Q57.1264 800.698 62.9365 800.698 Z\" fill=\"#000000\" fill-rule=\"nonzero\" fill-opacity=\"1\" /><path clip-path=\"url(#clip530)\" d=\"M83.0984 830.003 L87.9827 830.003 L87.9827 835.883 L83.0984 835.883 L83.0984 830.003 Z\" fill=\"#000000\" fill-rule=\"nonzero\" fill-opacity=\"1\" /><path clip-path=\"url(#clip530)\" d=\"M111.015 805.397 L99.2095 823.846 L111.015 823.846 L111.015 805.397 M109.788 801.323 L115.668 801.323 L115.668 823.846 L120.598 823.846 L120.598 827.735 L115.668 827.735 L115.668 835.883 L111.015 835.883 L111.015 827.735 L95.4132 827.735 L95.4132 823.221 L109.788 801.323 Z\" fill=\"#000000\" fill-rule=\"nonzero\" fill-opacity=\"1\" /><path clip-path=\"url(#clip530)\" d=\"M63.2606 490.845 Q59.6495 490.845 57.8208 494.41 Q56.0152 497.951 56.0152 505.081 Q56.0152 512.187 57.8208 515.752 Q59.6495 519.294 63.2606 519.294 Q66.8948 519.294 68.7004 515.752 Q70.5291 512.187 70.5291 505.081 Q70.5291 497.951 68.7004 494.41 Q66.8948 490.845 63.2606 490.845 M63.2606 487.141 Q69.0707 487.141 72.1263 491.748 Q75.205 496.331 75.205 505.081 Q75.205 513.808 72.1263 518.414 Q69.0707 522.998 63.2606 522.998 Q57.4504 522.998 54.3717 518.414 Q51.3162 513.808 51.3162 505.081 Q51.3162 496.331 54.3717 491.748 Q57.4504 487.141 63.2606 487.141 Z\" fill=\"#000000\" fill-rule=\"nonzero\" fill-opacity=\"1\" /><path clip-path=\"url(#clip530)\" d=\"M83.4225 516.447 L88.3067 516.447 L88.3067 522.326 L83.4225 522.326 L83.4225 516.447 Z\" fill=\"#000000\" fill-rule=\"nonzero\" fill-opacity=\"1\" /><path clip-path=\"url(#clip530)\" d=\"M109.071 503.183 Q105.922 503.183 104.071 505.336 Q102.242 507.488 102.242 511.238 Q102.242 514.965 104.071 517.141 Q105.922 519.294 109.071 519.294 Q112.219 519.294 114.047 517.141 Q115.899 514.965 115.899 511.238 Q115.899 507.488 114.047 505.336 Q112.219 503.183 109.071 503.183 M118.353 488.53 L118.353 492.789 Q116.594 491.956 114.788 491.516 Q113.006 491.076 111.246 491.076 Q106.617 491.076 104.163 494.201 Q101.733 497.326 101.385 503.646 Q102.751 501.632 104.811 500.567 Q106.871 499.479 109.348 499.479 Q114.557 499.479 117.566 502.65 Q120.598 505.799 120.598 511.238 Q120.598 516.562 117.45 519.78 Q114.302 522.998 109.071 522.998 Q103.075 522.998 99.9039 518.414 Q96.7326 513.808 96.7326 505.081 Q96.7326 496.887 100.621 492.025 Q104.51 487.141 111.061 487.141 Q112.82 487.141 114.603 487.488 Q116.408 487.836 118.353 488.53 Z\" fill=\"#000000\" fill-rule=\"nonzero\" fill-opacity=\"1\" /><path clip-path=\"url(#clip530)\" d=\"M63.5152 177.288 Q59.9041 177.288 58.0754 180.853 Q56.2699 184.395 56.2699 191.524 Q56.2699 198.631 58.0754 202.196 Q59.9041 205.737 63.5152 205.737 Q67.1494 205.737 68.955 202.196 Q70.7837 198.631 70.7837 191.524 Q70.7837 184.395 68.955 180.853 Q67.1494 177.288 63.5152 177.288 M63.5152 173.585 Q69.3254 173.585 72.3809 178.191 Q75.4596 182.775 75.4596 191.524 Q75.4596 200.251 72.3809 204.858 Q69.3254 209.441 63.5152 209.441 Q57.7051 209.441 54.6264 204.858 Q51.5708 200.251 51.5708 191.524 Q51.5708 182.775 54.6264 178.191 Q57.7051 173.585 63.5152 173.585 Z\" fill=\"#000000\" fill-rule=\"nonzero\" fill-opacity=\"1\" /><path clip-path=\"url(#clip530)\" d=\"M83.6771 202.89 L88.5614 202.89 L88.5614 208.77 L83.6771 208.77 L83.6771 202.89 Z\" fill=\"#000000\" fill-rule=\"nonzero\" fill-opacity=\"1\" /><path clip-path=\"url(#clip530)\" d=\"M108.746 192.358 Q105.413 192.358 103.492 194.14 Q101.594 195.923 101.594 199.048 Q101.594 202.173 103.492 203.955 Q105.413 205.737 108.746 205.737 Q112.08 205.737 114.001 203.955 Q115.922 202.149 115.922 199.048 Q115.922 195.923 114.001 194.14 Q112.103 192.358 108.746 192.358 M104.071 190.367 Q101.061 189.626 99.3715 187.566 Q97.7048 185.506 97.7048 182.543 Q97.7048 178.4 100.645 175.992 Q103.608 173.585 108.746 173.585 Q113.908 173.585 116.848 175.992 Q119.788 178.4 119.788 182.543 Q119.788 185.506 118.098 187.566 Q116.432 189.626 113.445 190.367 Q116.825 191.154 118.7 193.446 Q120.598 195.737 120.598 199.048 Q120.598 204.071 117.52 206.756 Q114.464 209.441 108.746 209.441 Q103.029 209.441 99.9502 206.756 Q96.8947 204.071 96.8947 199.048 Q96.8947 195.737 98.7928 193.446 Q100.691 191.154 104.071 190.367 M102.358 182.983 Q102.358 185.668 104.024 187.173 Q105.714 188.677 108.746 188.677 Q111.756 188.677 113.445 187.173 Q115.158 185.668 115.158 182.983 Q115.158 180.298 113.445 178.793 Q111.756 177.288 108.746 177.288 Q105.714 177.288 104.024 178.793 Q102.358 180.298 102.358 182.983 Z\" fill=\"#000000\" fill-rule=\"nonzero\" fill-opacity=\"1\" /><path clip-path=\"url(#clip532)\" d=\"M1254.68 1445.72 L1646.62 766.846 L862.731 766.846 L1254.68 1445.72  Z\" fill=\"#ff00ff\" fill-rule=\"evenodd\" fill-opacity=\"1\"/>\n",
       "<polyline clip-path=\"url(#clip532)\" style=\"stroke:#000000; stroke-linecap:round; stroke-linejoin:round; stroke-width:4; stroke-opacity:1; fill:none\" points=\"1254.68,1445.72 1646.62,766.846 862.731,766.846 1254.68,1445.72 \"/>\n",
       "<path clip-path=\"url(#clip532)\" d=\"M862.731 1445.72 L1058.7 1106.28 L666.759 1106.28 L862.731 1445.72  Z\" fill=\"#ff00ff\" fill-rule=\"evenodd\" fill-opacity=\"1\"/>\n",
       "<polyline clip-path=\"url(#clip532)\" style=\"stroke:#000000; stroke-linecap:round; stroke-linejoin:round; stroke-width:4; stroke-opacity:1; fill:none\" points=\"862.731,1445.72 1058.7,1106.28 666.759,1106.28 862.731,1445.72 \"/>\n",
       "<path clip-path=\"url(#clip532)\" d=\"M666.759 1445.72 L764.745 1276 L568.772 1276 L666.759 1445.72  Z\" fill=\"#ff00ff\" fill-rule=\"evenodd\" fill-opacity=\"1\"/>\n",
       "<polyline clip-path=\"url(#clip532)\" style=\"stroke:#000000; stroke-linecap:round; stroke-linejoin:round; stroke-width:4; stroke-opacity:1; fill:none\" points=\"666.759,1445.72 764.745,1276 568.772,1276 666.759,1445.72 \"/>\n",
       "<path clip-path=\"url(#clip532)\" d=\"M568.772 1445.72 L617.765 1360.86 L519.779 1360.86 L568.772 1445.72  Z\" fill=\"#ff00ff\" fill-rule=\"evenodd\" fill-opacity=\"1\"/>\n",
       "<polyline clip-path=\"url(#clip532)\" style=\"stroke:#000000; stroke-linecap:round; stroke-linejoin:round; stroke-width:4; stroke-opacity:1; fill:none\" points=\"568.772,1445.72 617.765,1360.86 519.779,1360.86 568.772,1445.72 \"/>\n",
       "<path clip-path=\"url(#clip532)\" d=\"M519.779 1445.72 L544.276 1403.29 L495.282 1403.29 L519.779 1445.72  Z\" fill=\"#ff00ff\" fill-rule=\"evenodd\" fill-opacity=\"1\"/>\n",
       "<polyline clip-path=\"url(#clip532)\" style=\"stroke:#000000; stroke-linecap:round; stroke-linejoin:round; stroke-width:4; stroke-opacity:1; fill:none\" points=\"519.779,1445.72 544.276,1403.29 495.282,1403.29 519.779,1445.72 \"/>\n",
       "<path clip-path=\"url(#clip532)\" d=\"M470.786 1445.72 L519.779 1445.72 L495.282 1403.29 L470.786 1445.72  Z\" fill=\"#ffff00\" fill-rule=\"evenodd\" fill-opacity=\"1\"/>\n",
       "<polyline clip-path=\"url(#clip532)\" style=\"stroke:#000000; stroke-linecap:round; stroke-linejoin:round; stroke-width:4; stroke-opacity:1; fill:none\" points=\"470.786,1445.72 519.779,1445.72 495.282,1403.29 470.786,1445.72 \"/>\n",
       "<path clip-path=\"url(#clip532)\" d=\"M568.772 1445.72 L544.276 1403.29 L519.779 1445.72 L568.772 1445.72  Z\" fill=\"#ffff00\" fill-rule=\"evenodd\" fill-opacity=\"1\"/>\n",
       "<polyline clip-path=\"url(#clip532)\" style=\"stroke:#000000; stroke-linecap:round; stroke-linejoin:round; stroke-width:4; stroke-opacity:1; fill:none\" points=\"568.772,1445.72 544.276,1403.29 519.779,1445.72 568.772,1445.72 \"/>\n",
       "<path clip-path=\"url(#clip532)\" d=\"M519.779 1360.86 L495.282 1403.29 L544.276 1403.29 L519.779 1360.86  Z\" fill=\"#ffff00\" fill-rule=\"evenodd\" fill-opacity=\"1\"/>\n",
       "<polyline clip-path=\"url(#clip532)\" style=\"stroke:#000000; stroke-linecap:round; stroke-linejoin:round; stroke-width:4; stroke-opacity:1; fill:none\" points=\"519.779,1360.86 495.282,1403.29 544.276,1403.29 519.779,1360.86 \"/>\n",
       "<path clip-path=\"url(#clip532)\" d=\"M642.262 1403.29 L593.269 1403.29 L617.765 1445.72 L642.262 1403.29  Z\" fill=\"#ff00ff\" fill-rule=\"evenodd\" fill-opacity=\"1\"/>\n",
       "<polyline clip-path=\"url(#clip532)\" style=\"stroke:#000000; stroke-linecap:round; stroke-linejoin:round; stroke-width:4; stroke-opacity:1; fill:none\" points=\"642.262,1403.29 593.269,1403.29 617.765,1445.72 642.262,1403.29 \"/>\n",
       "<path clip-path=\"url(#clip532)\" d=\"M666.759 1445.72 L642.262 1403.29 L617.765 1445.72 L666.759 1445.72  Z\" fill=\"#ffff00\" fill-rule=\"evenodd\" fill-opacity=\"1\"/>\n",
       "<polyline clip-path=\"url(#clip532)\" style=\"stroke:#000000; stroke-linecap:round; stroke-linejoin:round; stroke-width:4; stroke-opacity:1; fill:none\" points=\"666.759,1445.72 642.262,1403.29 617.765,1445.72 666.759,1445.72 \"/>\n",
       "<path clip-path=\"url(#clip532)\" d=\"M617.765 1360.86 L593.269 1403.29 L642.262 1403.29 L617.765 1360.86  Z\" fill=\"#ffff00\" fill-rule=\"evenodd\" fill-opacity=\"1\"/>\n",
       "<polyline clip-path=\"url(#clip532)\" style=\"stroke:#000000; stroke-linecap:round; stroke-linejoin:round; stroke-width:4; stroke-opacity:1; fill:none\" points=\"617.765,1360.86 593.269,1403.29 642.262,1403.29 617.765,1360.86 \"/>\n",
       "<path clip-path=\"url(#clip532)\" d=\"M568.772 1445.72 L617.765 1445.72 L593.269 1403.29 L568.772 1445.72  Z\" fill=\"#ffff00\" fill-rule=\"evenodd\" fill-opacity=\"1\"/>\n",
       "<polyline clip-path=\"url(#clip532)\" style=\"stroke:#000000; stroke-linecap:round; stroke-linejoin:round; stroke-width:4; stroke-opacity:1; fill:none\" points=\"568.772,1445.72 617.765,1445.72 593.269,1403.29 568.772,1445.72 \"/>\n",
       "<path clip-path=\"url(#clip532)\" d=\"M544.276 1318.43 L568.772 1360.86 L593.269 1318.43 L544.276 1318.43  Z\" fill=\"#ff00ff\" fill-rule=\"evenodd\" fill-opacity=\"1\"/>\n",
       "<polyline clip-path=\"url(#clip532)\" style=\"stroke:#000000; stroke-linecap:round; stroke-linejoin:round; stroke-width:4; stroke-opacity:1; fill:none\" points=\"544.276,1318.43 568.772,1360.86 593.269,1318.43 544.276,1318.43 \"/>\n",
       "<path clip-path=\"url(#clip532)\" d=\"M568.772 1276 L544.276 1318.43 L593.269 1318.43 L568.772 1276  Z\" fill=\"#ffff00\" fill-rule=\"evenodd\" fill-opacity=\"1\"/>\n",
       "<polyline clip-path=\"url(#clip532)\" style=\"stroke:#000000; stroke-linecap:round; stroke-linejoin:round; stroke-width:4; stroke-opacity:1; fill:none\" points=\"568.772,1276 544.276,1318.43 593.269,1318.43 568.772,1276 \"/>\n",
       "<path clip-path=\"url(#clip532)\" d=\"M519.779 1360.86 L568.772 1360.86 L544.276 1318.43 L519.779 1360.86  Z\" fill=\"#ffff00\" fill-rule=\"evenodd\" fill-opacity=\"1\"/>\n",
       "<polyline clip-path=\"url(#clip532)\" style=\"stroke:#000000; stroke-linecap:round; stroke-linejoin:round; stroke-width:4; stroke-opacity:1; fill:none\" points=\"519.779,1360.86 568.772,1360.86 544.276,1318.43 519.779,1360.86 \"/>\n",
       "<path clip-path=\"url(#clip532)\" d=\"M617.765 1360.86 L593.269 1318.43 L568.772 1360.86 L617.765 1360.86  Z\" fill=\"#ffff00\" fill-rule=\"evenodd\" fill-opacity=\"1\"/>\n",
       "<polyline clip-path=\"url(#clip532)\" style=\"stroke:#000000; stroke-linecap:round; stroke-linejoin:round; stroke-width:4; stroke-opacity:1; fill:none\" points=\"617.765,1360.86 593.269,1318.43 568.772,1360.86 617.765,1360.86 \"/>\n",
       "<path clip-path=\"url(#clip532)\" d=\"M813.738 1360.86 L715.752 1360.86 L764.745 1445.72 L813.738 1360.86  Z\" fill=\"#ff00ff\" fill-rule=\"evenodd\" fill-opacity=\"1\"/>\n",
       "<polyline clip-path=\"url(#clip532)\" style=\"stroke:#000000; stroke-linecap:round; stroke-linejoin:round; stroke-width:4; stroke-opacity:1; fill:none\" points=\"813.738,1360.86 715.752,1360.86 764.745,1445.72 813.738,1360.86 \"/>\n",
       "<path clip-path=\"url(#clip532)\" d=\"M838.235 1403.29 L789.242 1403.29 L813.738 1445.72 L838.235 1403.29  Z\" fill=\"#ff00ff\" fill-rule=\"evenodd\" fill-opacity=\"1\"/>\n",
       "<polyline clip-path=\"url(#clip532)\" style=\"stroke:#000000; stroke-linecap:round; stroke-linejoin:round; stroke-width:4; stroke-opacity:1; fill:none\" points=\"838.235,1403.29 789.242,1403.29 813.738,1445.72 838.235,1403.29 \"/>\n",
       "<path clip-path=\"url(#clip532)\" d=\"M862.731 1445.72 L838.235 1403.29 L813.738 1445.72 L862.731 1445.72  Z\" fill=\"#ffff00\" fill-rule=\"evenodd\" fill-opacity=\"1\"/>\n",
       "<polyline clip-path=\"url(#clip532)\" style=\"stroke:#000000; stroke-linecap:round; stroke-linejoin:round; stroke-width:4; stroke-opacity:1; fill:none\" points=\"862.731,1445.72 838.235,1403.29 813.738,1445.72 862.731,1445.72 \"/>\n",
       "<path clip-path=\"url(#clip532)\" d=\"M813.738 1360.86 L789.242 1403.29 L838.235 1403.29 L813.738 1360.86  Z\" fill=\"#ffff00\" fill-rule=\"evenodd\" fill-opacity=\"1\"/>\n",
       "<polyline clip-path=\"url(#clip532)\" style=\"stroke:#000000; stroke-linecap:round; stroke-linejoin:round; stroke-width:4; stroke-opacity:1; fill:none\" points=\"813.738,1360.86 789.242,1403.29 838.235,1403.29 813.738,1360.86 \"/>\n",
       "<path clip-path=\"url(#clip532)\" d=\"M764.745 1445.72 L813.738 1445.72 L789.242 1403.29 L764.745 1445.72  Z\" fill=\"#ffff00\" fill-rule=\"evenodd\" fill-opacity=\"1\"/>\n",
       "<polyline clip-path=\"url(#clip532)\" style=\"stroke:#000000; stroke-linecap:round; stroke-linejoin:round; stroke-width:4; stroke-opacity:1; fill:none\" points=\"764.745,1445.72 813.738,1445.72 789.242,1403.29 764.745,1445.72 \"/>\n",
       "<path clip-path=\"url(#clip532)\" d=\"M740.248 1318.43 L764.745 1360.86 L789.242 1318.43 L740.248 1318.43  Z\" fill=\"#ff00ff\" fill-rule=\"evenodd\" fill-opacity=\"1\"/>\n",
       "<polyline clip-path=\"url(#clip532)\" style=\"stroke:#000000; stroke-linecap:round; stroke-linejoin:round; stroke-width:4; stroke-opacity:1; fill:none\" points=\"740.248,1318.43 764.745,1360.86 789.242,1318.43 740.248,1318.43 \"/>\n",
       "<path clip-path=\"url(#clip532)\" d=\"M764.745 1276 L740.248 1318.43 L789.242 1318.43 L764.745 1276  Z\" fill=\"#ffff00\" fill-rule=\"evenodd\" fill-opacity=\"1\"/>\n",
       "<polyline clip-path=\"url(#clip532)\" style=\"stroke:#000000; stroke-linecap:round; stroke-linejoin:round; stroke-width:4; stroke-opacity:1; fill:none\" points=\"764.745,1276 740.248,1318.43 789.242,1318.43 764.745,1276 \"/>\n",
       "<path clip-path=\"url(#clip532)\" d=\"M715.752 1360.86 L764.745 1360.86 L740.248 1318.43 L715.752 1360.86  Z\" fill=\"#ffff00\" fill-rule=\"evenodd\" fill-opacity=\"1\"/>\n",
       "<polyline clip-path=\"url(#clip532)\" style=\"stroke:#000000; stroke-linecap:round; stroke-linejoin:round; stroke-width:4; stroke-opacity:1; fill:none\" points=\"715.752,1360.86 764.745,1360.86 740.248,1318.43 715.752,1360.86 \"/>\n",
       "<path clip-path=\"url(#clip532)\" d=\"M813.738 1360.86 L789.242 1318.43 L764.745 1360.86 L813.738 1360.86  Z\" fill=\"#ffff00\" fill-rule=\"evenodd\" fill-opacity=\"1\"/>\n",
       "<polyline clip-path=\"url(#clip532)\" style=\"stroke:#000000; stroke-linecap:round; stroke-linejoin:round; stroke-width:4; stroke-opacity:1; fill:none\" points=\"813.738,1360.86 789.242,1318.43 764.745,1360.86 813.738,1360.86 \"/>\n",
       "<path clip-path=\"url(#clip532)\" d=\"M715.752 1445.72 L740.248 1403.29 L691.255 1403.29 L715.752 1445.72  Z\" fill=\"#ff00ff\" fill-rule=\"evenodd\" fill-opacity=\"1\"/>\n",
       "<polyline clip-path=\"url(#clip532)\" style=\"stroke:#000000; stroke-linecap:round; stroke-linejoin:round; stroke-width:4; stroke-opacity:1; fill:none\" points=\"715.752,1445.72 740.248,1403.29 691.255,1403.29 715.752,1445.72 \"/>\n",
       "<path clip-path=\"url(#clip532)\" d=\"M666.759 1445.72 L715.752 1445.72 L691.255 1403.29 L666.759 1445.72  Z\" fill=\"#ffff00\" fill-rule=\"evenodd\" fill-opacity=\"1\"/>\n",
       "<polyline clip-path=\"url(#clip532)\" style=\"stroke:#000000; stroke-linecap:round; stroke-linejoin:round; stroke-width:4; stroke-opacity:1; fill:none\" points=\"666.759,1445.72 715.752,1445.72 691.255,1403.29 666.759,1445.72 \"/>\n",
       "<path clip-path=\"url(#clip532)\" d=\"M764.745 1445.72 L740.248 1403.29 L715.752 1445.72 L764.745 1445.72  Z\" fill=\"#ffff00\" fill-rule=\"evenodd\" fill-opacity=\"1\"/>\n",
       "<polyline clip-path=\"url(#clip532)\" style=\"stroke:#000000; stroke-linecap:round; stroke-linejoin:round; stroke-width:4; stroke-opacity:1; fill:none\" points=\"764.745,1445.72 740.248,1403.29 715.752,1445.72 764.745,1445.72 \"/>\n",
       "<path clip-path=\"url(#clip532)\" d=\"M715.752 1360.86 L691.255 1403.29 L740.248 1403.29 L715.752 1360.86  Z\" fill=\"#ffff00\" fill-rule=\"evenodd\" fill-opacity=\"1\"/>\n",
       "<polyline clip-path=\"url(#clip532)\" style=\"stroke:#000000; stroke-linecap:round; stroke-linejoin:round; stroke-width:4; stroke-opacity:1; fill:none\" points=\"715.752,1360.86 691.255,1403.29 740.248,1403.29 715.752,1360.86 \"/>\n",
       "<path clip-path=\"url(#clip532)\" d=\"M617.765 1191.14 L666.759 1276 L715.752 1191.14 L617.765 1191.14  Z\" fill=\"#ff00ff\" fill-rule=\"evenodd\" fill-opacity=\"1\"/>\n",
       "<polyline clip-path=\"url(#clip532)\" style=\"stroke:#000000; stroke-linecap:round; stroke-linejoin:round; stroke-width:4; stroke-opacity:1; fill:none\" points=\"617.765,1191.14 666.759,1276 715.752,1191.14 617.765,1191.14 \"/>\n",
       "<path clip-path=\"url(#clip532)\" d=\"M642.262 1148.71 L666.759 1191.14 L691.255 1148.71 L642.262 1148.71  Z\" fill=\"#ff00ff\" fill-rule=\"evenodd\" fill-opacity=\"1\"/>\n",
       "<polyline clip-path=\"url(#clip532)\" style=\"stroke:#000000; stroke-linecap:round; stroke-linejoin:round; stroke-width:4; stroke-opacity:1; fill:none\" points=\"642.262,1148.71 666.759,1191.14 691.255,1148.71 642.262,1148.71 \"/>\n",
       "<path clip-path=\"url(#clip532)\" d=\"M666.759 1106.28 L642.262 1148.71 L691.255 1148.71 L666.759 1106.28  Z\" fill=\"#ffff00\" fill-rule=\"evenodd\" fill-opacity=\"1\"/>\n",
       "<polyline clip-path=\"url(#clip532)\" style=\"stroke:#000000; stroke-linecap:round; stroke-linejoin:round; stroke-width:4; stroke-opacity:1; fill:none\" points=\"666.759,1106.28 642.262,1148.71 691.255,1148.71 666.759,1106.28 \"/>\n",
       "<path clip-path=\"url(#clip532)\" d=\"M617.765 1191.14 L666.759 1191.14 L642.262 1148.71 L617.765 1191.14  Z\" fill=\"#ffff00\" fill-rule=\"evenodd\" fill-opacity=\"1\"/>\n",
       "<polyline clip-path=\"url(#clip532)\" style=\"stroke:#000000; stroke-linecap:round; stroke-linejoin:round; stroke-width:4; stroke-opacity:1; fill:none\" points=\"617.765,1191.14 666.759,1191.14 642.262,1148.71 617.765,1191.14 \"/>\n",
       "<path clip-path=\"url(#clip532)\" d=\"M715.752 1191.14 L691.255 1148.71 L666.759 1191.14 L715.752 1191.14  Z\" fill=\"#ffff00\" fill-rule=\"evenodd\" fill-opacity=\"1\"/>\n",
       "<polyline clip-path=\"url(#clip532)\" style=\"stroke:#000000; stroke-linecap:round; stroke-linejoin:round; stroke-width:4; stroke-opacity:1; fill:none\" points=\"715.752,1191.14 691.255,1148.71 666.759,1191.14 715.752,1191.14 \"/>\n",
       "<path clip-path=\"url(#clip532)\" d=\"M617.765 1276 L642.262 1233.57 L593.269 1233.57 L617.765 1276  Z\" fill=\"#ff00ff\" fill-rule=\"evenodd\" fill-opacity=\"1\"/>\n",
       "<polyline clip-path=\"url(#clip532)\" style=\"stroke:#000000; stroke-linecap:round; stroke-linejoin:round; stroke-width:4; stroke-opacity:1; fill:none\" points=\"617.765,1276 642.262,1233.57 593.269,1233.57 617.765,1276 \"/>\n",
       "<path clip-path=\"url(#clip532)\" d=\"M568.772 1276 L617.765 1276 L593.269 1233.57 L568.772 1276  Z\" fill=\"#ffff00\" fill-rule=\"evenodd\" fill-opacity=\"1\"/>\n",
       "<polyline clip-path=\"url(#clip532)\" style=\"stroke:#000000; stroke-linecap:round; stroke-linejoin:round; stroke-width:4; stroke-opacity:1; fill:none\" points=\"568.772,1276 617.765,1276 593.269,1233.57 568.772,1276 \"/>\n",
       "<path clip-path=\"url(#clip532)\" d=\"M666.759 1276 L642.262 1233.57 L617.765 1276 L666.759 1276  Z\" fill=\"#ffff00\" fill-rule=\"evenodd\" fill-opacity=\"1\"/>\n",
       "<polyline clip-path=\"url(#clip532)\" style=\"stroke:#000000; stroke-linecap:round; stroke-linejoin:round; stroke-width:4; stroke-opacity:1; fill:none\" points=\"666.759,1276 642.262,1233.57 617.765,1276 666.759,1276 \"/>\n",
       "<path clip-path=\"url(#clip532)\" d=\"M617.765 1191.14 L593.269 1233.57 L642.262 1233.57 L617.765 1191.14  Z\" fill=\"#ffff00\" fill-rule=\"evenodd\" fill-opacity=\"1\"/>\n",
       "<polyline clip-path=\"url(#clip532)\" style=\"stroke:#000000; stroke-linecap:round; stroke-linejoin:round; stroke-width:4; stroke-opacity:1; fill:none\" points=\"617.765,1191.14 593.269,1233.57 642.262,1233.57 617.765,1191.14 \"/>\n",
       "<path clip-path=\"url(#clip532)\" d=\"M740.248 1233.57 L691.255 1233.57 L715.752 1276 L740.248 1233.57  Z\" fill=\"#ff00ff\" fill-rule=\"evenodd\" fill-opacity=\"1\"/>\n",
       "<polyline clip-path=\"url(#clip532)\" style=\"stroke:#000000; stroke-linecap:round; stroke-linejoin:round; stroke-width:4; stroke-opacity:1; fill:none\" points=\"740.248,1233.57 691.255,1233.57 715.752,1276 740.248,1233.57 \"/>\n",
       "<path clip-path=\"url(#clip532)\" d=\"M764.745 1276 L740.248 1233.57 L715.752 1276 L764.745 1276  Z\" fill=\"#ffff00\" fill-rule=\"evenodd\" fill-opacity=\"1\"/>\n",
       "<polyline clip-path=\"url(#clip532)\" style=\"stroke:#000000; stroke-linecap:round; stroke-linejoin:round; stroke-width:4; stroke-opacity:1; fill:none\" points=\"764.745,1276 740.248,1233.57 715.752,1276 764.745,1276 \"/>\n",
       "<path clip-path=\"url(#clip532)\" d=\"M715.752 1191.14 L691.255 1233.57 L740.248 1233.57 L715.752 1191.14  Z\" fill=\"#ffff00\" fill-rule=\"evenodd\" fill-opacity=\"1\"/>\n",
       "<polyline clip-path=\"url(#clip532)\" style=\"stroke:#000000; stroke-linecap:round; stroke-linejoin:round; stroke-width:4; stroke-opacity:1; fill:none\" points=\"715.752,1191.14 691.255,1233.57 740.248,1233.57 715.752,1191.14 \"/>\n",
       "<path clip-path=\"url(#clip532)\" d=\"M666.759 1276 L715.752 1276 L691.255 1233.57 L666.759 1276  Z\" fill=\"#ffff00\" fill-rule=\"evenodd\" fill-opacity=\"1\"/>\n",
       "<polyline clip-path=\"url(#clip532)\" style=\"stroke:#000000; stroke-linecap:round; stroke-linejoin:round; stroke-width:4; stroke-opacity:1; fill:none\" points=\"666.759,1276 715.752,1276 691.255,1233.57 666.759,1276 \"/>\n",
       "<path clip-path=\"url(#clip532)\" d=\"M1156.69 1276 L960.718 1276 L1058.7 1445.72 L1156.69 1276  Z\" fill=\"#ff00ff\" fill-rule=\"evenodd\" fill-opacity=\"1\"/>\n",
       "<polyline clip-path=\"url(#clip532)\" style=\"stroke:#000000; stroke-linecap:round; stroke-linejoin:round; stroke-width:4; stroke-opacity:1; fill:none\" points=\"1156.69,1276 960.718,1276 1058.7,1445.72 1156.69,1276 \"/>\n",
       "<path clip-path=\"url(#clip532)\" d=\"M1205.68 1360.86 L1107.7 1360.86 L1156.69 1445.72 L1205.68 1360.86  Z\" fill=\"#ff00ff\" fill-rule=\"evenodd\" fill-opacity=\"1\"/>\n",
       "<polyline clip-path=\"url(#clip532)\" style=\"stroke:#000000; stroke-linecap:round; stroke-linejoin:round; stroke-width:4; stroke-opacity:1; fill:none\" points=\"1205.68,1360.86 1107.7,1360.86 1156.69,1445.72 1205.68,1360.86 \"/>\n",
       "<path clip-path=\"url(#clip532)\" d=\"M1230.18 1403.29 L1181.19 1403.29 L1205.68 1445.72 L1230.18 1403.29  Z\" fill=\"#ff00ff\" fill-rule=\"evenodd\" fill-opacity=\"1\"/>\n",
       "<polyline clip-path=\"url(#clip532)\" style=\"stroke:#000000; stroke-linecap:round; stroke-linejoin:round; stroke-width:4; stroke-opacity:1; fill:none\" points=\"1230.18,1403.29 1181.19,1403.29 1205.68,1445.72 1230.18,1403.29 \"/>\n",
       "<path clip-path=\"url(#clip532)\" d=\"M1254.68 1445.72 L1230.18 1403.29 L1205.68 1445.72 L1254.68 1445.72  Z\" fill=\"#ffff00\" fill-rule=\"evenodd\" fill-opacity=\"1\"/>\n",
       "<polyline clip-path=\"url(#clip532)\" style=\"stroke:#000000; stroke-linecap:round; stroke-linejoin:round; stroke-width:4; stroke-opacity:1; fill:none\" points=\"1254.68,1445.72 1230.18,1403.29 1205.68,1445.72 1254.68,1445.72 \"/>\n",
       "<path clip-path=\"url(#clip532)\" d=\"M1205.68 1360.86 L1181.19 1403.29 L1230.18 1403.29 L1205.68 1360.86  Z\" fill=\"#ffff00\" fill-rule=\"evenodd\" fill-opacity=\"1\"/>\n",
       "<polyline clip-path=\"url(#clip532)\" style=\"stroke:#000000; stroke-linecap:round; stroke-linejoin:round; stroke-width:4; stroke-opacity:1; fill:none\" points=\"1205.68,1360.86 1181.19,1403.29 1230.18,1403.29 1205.68,1360.86 \"/>\n",
       "<path clip-path=\"url(#clip532)\" d=\"M1156.69 1445.72 L1205.68 1445.72 L1181.19 1403.29 L1156.69 1445.72  Z\" fill=\"#ffff00\" fill-rule=\"evenodd\" fill-opacity=\"1\"/>\n",
       "<polyline clip-path=\"url(#clip532)\" style=\"stroke:#000000; stroke-linecap:round; stroke-linejoin:round; stroke-width:4; stroke-opacity:1; fill:none\" points=\"1156.69,1445.72 1205.68,1445.72 1181.19,1403.29 1156.69,1445.72 \"/>\n",
       "<path clip-path=\"url(#clip532)\" d=\"M1132.19 1318.43 L1156.69 1360.86 L1181.19 1318.43 L1132.19 1318.43  Z\" fill=\"#ff00ff\" fill-rule=\"evenodd\" fill-opacity=\"1\"/>\n",
       "<polyline clip-path=\"url(#clip532)\" style=\"stroke:#000000; stroke-linecap:round; stroke-linejoin:round; stroke-width:4; stroke-opacity:1; fill:none\" points=\"1132.19,1318.43 1156.69,1360.86 1181.19,1318.43 1132.19,1318.43 \"/>\n",
       "<path clip-path=\"url(#clip532)\" d=\"M1156.69 1276 L1132.19 1318.43 L1181.19 1318.43 L1156.69 1276  Z\" fill=\"#ffff00\" fill-rule=\"evenodd\" fill-opacity=\"1\"/>\n",
       "<polyline clip-path=\"url(#clip532)\" style=\"stroke:#000000; stroke-linecap:round; stroke-linejoin:round; stroke-width:4; stroke-opacity:1; fill:none\" points=\"1156.69,1276 1132.19,1318.43 1181.19,1318.43 1156.69,1276 \"/>\n",
       "<path clip-path=\"url(#clip532)\" d=\"M1107.7 1360.86 L1156.69 1360.86 L1132.19 1318.43 L1107.7 1360.86  Z\" fill=\"#ffff00\" fill-rule=\"evenodd\" fill-opacity=\"1\"/>\n",
       "<polyline clip-path=\"url(#clip532)\" style=\"stroke:#000000; stroke-linecap:round; stroke-linejoin:round; stroke-width:4; stroke-opacity:1; fill:none\" points=\"1107.7,1360.86 1156.69,1360.86 1132.19,1318.43 1107.7,1360.86 \"/>\n",
       "<path clip-path=\"url(#clip532)\" d=\"M1205.68 1360.86 L1181.19 1318.43 L1156.69 1360.86 L1205.68 1360.86  Z\" fill=\"#ffff00\" fill-rule=\"evenodd\" fill-opacity=\"1\"/>\n",
       "<polyline clip-path=\"url(#clip532)\" style=\"stroke:#000000; stroke-linecap:round; stroke-linejoin:round; stroke-width:4; stroke-opacity:1; fill:none\" points=\"1205.68,1360.86 1181.19,1318.43 1156.69,1360.86 1205.68,1360.86 \"/>\n",
       "<path clip-path=\"url(#clip532)\" d=\"M1107.7 1445.72 L1132.19 1403.29 L1083.2 1403.29 L1107.7 1445.72  Z\" fill=\"#ff00ff\" fill-rule=\"evenodd\" fill-opacity=\"1\"/>\n",
       "<polyline clip-path=\"url(#clip532)\" style=\"stroke:#000000; stroke-linecap:round; stroke-linejoin:round; stroke-width:4; stroke-opacity:1; fill:none\" points=\"1107.7,1445.72 1132.19,1403.29 1083.2,1403.29 1107.7,1445.72 \"/>\n",
       "<path clip-path=\"url(#clip532)\" d=\"M1058.7 1445.72 L1107.7 1445.72 L1083.2 1403.29 L1058.7 1445.72  Z\" fill=\"#ffff00\" fill-rule=\"evenodd\" fill-opacity=\"1\"/>\n",
       "<polyline clip-path=\"url(#clip532)\" style=\"stroke:#000000; stroke-linecap:round; stroke-linejoin:round; stroke-width:4; stroke-opacity:1; fill:none\" points=\"1058.7,1445.72 1107.7,1445.72 1083.2,1403.29 1058.7,1445.72 \"/>\n",
       "<path clip-path=\"url(#clip532)\" d=\"M1156.69 1445.72 L1132.19 1403.29 L1107.7 1445.72 L1156.69 1445.72  Z\" fill=\"#ffff00\" fill-rule=\"evenodd\" fill-opacity=\"1\"/>\n",
       "<polyline clip-path=\"url(#clip532)\" style=\"stroke:#000000; stroke-linecap:round; stroke-linejoin:round; stroke-width:4; stroke-opacity:1; fill:none\" points=\"1156.69,1445.72 1132.19,1403.29 1107.7,1445.72 1156.69,1445.72 \"/>\n",
       "<path clip-path=\"url(#clip532)\" d=\"M1107.7 1360.86 L1083.2 1403.29 L1132.19 1403.29 L1107.7 1360.86  Z\" fill=\"#ffff00\" fill-rule=\"evenodd\" fill-opacity=\"1\"/>\n",
       "<polyline clip-path=\"url(#clip532)\" style=\"stroke:#000000; stroke-linecap:round; stroke-linejoin:round; stroke-width:4; stroke-opacity:1; fill:none\" points=\"1107.7,1360.86 1083.2,1403.29 1132.19,1403.29 1107.7,1360.86 \"/>\n",
       "<path clip-path=\"url(#clip532)\" d=\"M1009.71 1191.14 L1058.7 1276 L1107.7 1191.14 L1009.71 1191.14  Z\" fill=\"#ff00ff\" fill-rule=\"evenodd\" fill-opacity=\"1\"/>\n",
       "<polyline clip-path=\"url(#clip532)\" style=\"stroke:#000000; stroke-linecap:round; stroke-linejoin:round; stroke-width:4; stroke-opacity:1; fill:none\" points=\"1009.71,1191.14 1058.7,1276 1107.7,1191.14 1009.71,1191.14 \"/>\n",
       "<path clip-path=\"url(#clip532)\" d=\"M1034.21 1148.71 L1058.7 1191.14 L1083.2 1148.71 L1034.21 1148.71  Z\" fill=\"#ff00ff\" fill-rule=\"evenodd\" fill-opacity=\"1\"/>\n",
       "<polyline clip-path=\"url(#clip532)\" style=\"stroke:#000000; stroke-linecap:round; stroke-linejoin:round; stroke-width:4; stroke-opacity:1; fill:none\" points=\"1034.21,1148.71 1058.7,1191.14 1083.2,1148.71 1034.21,1148.71 \"/>\n",
       "<path clip-path=\"url(#clip532)\" d=\"M1058.7 1106.28 L1034.21 1148.71 L1083.2 1148.71 L1058.7 1106.28  Z\" fill=\"#ffff00\" fill-rule=\"evenodd\" fill-opacity=\"1\"/>\n",
       "<polyline clip-path=\"url(#clip532)\" style=\"stroke:#000000; stroke-linecap:round; stroke-linejoin:round; stroke-width:4; stroke-opacity:1; fill:none\" points=\"1058.7,1106.28 1034.21,1148.71 1083.2,1148.71 1058.7,1106.28 \"/>\n",
       "<path clip-path=\"url(#clip532)\" d=\"M1009.71 1191.14 L1058.7 1191.14 L1034.21 1148.71 L1009.71 1191.14  Z\" fill=\"#ffff00\" fill-rule=\"evenodd\" fill-opacity=\"1\"/>\n",
       "<polyline clip-path=\"url(#clip532)\" style=\"stroke:#000000; stroke-linecap:round; stroke-linejoin:round; stroke-width:4; stroke-opacity:1; fill:none\" points=\"1009.71,1191.14 1058.7,1191.14 1034.21,1148.71 1009.71,1191.14 \"/>\n",
       "<path clip-path=\"url(#clip532)\" d=\"M1107.7 1191.14 L1083.2 1148.71 L1058.7 1191.14 L1107.7 1191.14  Z\" fill=\"#ffff00\" fill-rule=\"evenodd\" fill-opacity=\"1\"/>\n",
       "<polyline clip-path=\"url(#clip532)\" style=\"stroke:#000000; stroke-linecap:round; stroke-linejoin:round; stroke-width:4; stroke-opacity:1; fill:none\" points=\"1107.7,1191.14 1083.2,1148.71 1058.7,1191.14 1107.7,1191.14 \"/>\n",
       "<path clip-path=\"url(#clip532)\" d=\"M1009.71 1276 L1034.21 1233.57 L985.214 1233.57 L1009.71 1276  Z\" fill=\"#ff00ff\" fill-rule=\"evenodd\" fill-opacity=\"1\"/>\n",
       "<polyline clip-path=\"url(#clip532)\" style=\"stroke:#000000; stroke-linecap:round; stroke-linejoin:round; stroke-width:4; stroke-opacity:1; fill:none\" points=\"1009.71,1276 1034.21,1233.57 985.214,1233.57 1009.71,1276 \"/>\n",
       "<path clip-path=\"url(#clip532)\" d=\"M960.718 1276 L1009.71 1276 L985.214 1233.57 L960.718 1276  Z\" fill=\"#ffff00\" fill-rule=\"evenodd\" fill-opacity=\"1\"/>\n",
       "<polyline clip-path=\"url(#clip532)\" style=\"stroke:#000000; stroke-linecap:round; stroke-linejoin:round; stroke-width:4; stroke-opacity:1; fill:none\" points=\"960.718,1276 1009.71,1276 985.214,1233.57 960.718,1276 \"/>\n",
       "<path clip-path=\"url(#clip532)\" d=\"M1058.7 1276 L1034.21 1233.57 L1009.71 1276 L1058.7 1276  Z\" fill=\"#ffff00\" fill-rule=\"evenodd\" fill-opacity=\"1\"/>\n",
       "<polyline clip-path=\"url(#clip532)\" style=\"stroke:#000000; stroke-linecap:round; stroke-linejoin:round; stroke-width:4; stroke-opacity:1; fill:none\" points=\"1058.7,1276 1034.21,1233.57 1009.71,1276 1058.7,1276 \"/>\n",
       "<path clip-path=\"url(#clip532)\" d=\"M1009.71 1191.14 L985.214 1233.57 L1034.21 1233.57 L1009.71 1191.14  Z\" fill=\"#ffff00\" fill-rule=\"evenodd\" fill-opacity=\"1\"/>\n",
       "<polyline clip-path=\"url(#clip532)\" style=\"stroke:#000000; stroke-linecap:round; stroke-linejoin:round; stroke-width:4; stroke-opacity:1; fill:none\" points=\"1009.71,1191.14 985.214,1233.57 1034.21,1233.57 1009.71,1191.14 \"/>\n",
       "<path clip-path=\"url(#clip532)\" d=\"M1132.19 1233.57 L1083.2 1233.57 L1107.7 1276 L1132.19 1233.57  Z\" fill=\"#ff00ff\" fill-rule=\"evenodd\" fill-opacity=\"1\"/>\n",
       "<polyline clip-path=\"url(#clip532)\" style=\"stroke:#000000; stroke-linecap:round; stroke-linejoin:round; stroke-width:4; stroke-opacity:1; fill:none\" points=\"1132.19,1233.57 1083.2,1233.57 1107.7,1276 1132.19,1233.57 \"/>\n",
       "<path clip-path=\"url(#clip532)\" d=\"M1156.69 1276 L1132.19 1233.57 L1107.7 1276 L1156.69 1276  Z\" fill=\"#ffff00\" fill-rule=\"evenodd\" fill-opacity=\"1\"/>\n",
       "<polyline clip-path=\"url(#clip532)\" style=\"stroke:#000000; stroke-linecap:round; stroke-linejoin:round; stroke-width:4; stroke-opacity:1; fill:none\" points=\"1156.69,1276 1132.19,1233.57 1107.7,1276 1156.69,1276 \"/>\n",
       "<path clip-path=\"url(#clip532)\" d=\"M1107.7 1191.14 L1083.2 1233.57 L1132.19 1233.57 L1107.7 1191.14  Z\" fill=\"#ffff00\" fill-rule=\"evenodd\" fill-opacity=\"1\"/>\n",
       "<polyline clip-path=\"url(#clip532)\" style=\"stroke:#000000; stroke-linecap:round; stroke-linejoin:round; stroke-width:4; stroke-opacity:1; fill:none\" points=\"1107.7,1191.14 1083.2,1233.57 1132.19,1233.57 1107.7,1191.14 \"/>\n",
       "<path clip-path=\"url(#clip532)\" d=\"M1058.7 1276 L1107.7 1276 L1083.2 1233.57 L1058.7 1276  Z\" fill=\"#ffff00\" fill-rule=\"evenodd\" fill-opacity=\"1\"/>\n",
       "<polyline clip-path=\"url(#clip532)\" style=\"stroke:#000000; stroke-linecap:round; stroke-linejoin:round; stroke-width:4; stroke-opacity:1; fill:none\" points=\"1058.7,1276 1107.7,1276 1083.2,1233.57 1058.7,1276 \"/>\n",
       "<path clip-path=\"url(#clip532)\" d=\"M960.718 1445.72 L1009.71 1360.86 L911.725 1360.86 L960.718 1445.72  Z\" fill=\"#ff00ff\" fill-rule=\"evenodd\" fill-opacity=\"1\"/>\n",
       "<polyline clip-path=\"url(#clip532)\" style=\"stroke:#000000; stroke-linecap:round; stroke-linejoin:round; stroke-width:4; stroke-opacity:1; fill:none\" points=\"960.718,1445.72 1009.71,1360.86 911.725,1360.86 960.718,1445.72 \"/>\n",
       "<path clip-path=\"url(#clip532)\" d=\"M911.725 1445.72 L936.221 1403.29 L887.228 1403.29 L911.725 1445.72  Z\" fill=\"#ff00ff\" fill-rule=\"evenodd\" fill-opacity=\"1\"/>\n",
       "<polyline clip-path=\"url(#clip532)\" style=\"stroke:#000000; stroke-linecap:round; stroke-linejoin:round; stroke-width:4; stroke-opacity:1; fill:none\" points=\"911.725,1445.72 936.221,1403.29 887.228,1403.29 911.725,1445.72 \"/>\n",
       "<path clip-path=\"url(#clip532)\" d=\"M862.731 1445.72 L911.725 1445.72 L887.228 1403.29 L862.731 1445.72  Z\" fill=\"#ffff00\" fill-rule=\"evenodd\" fill-opacity=\"1\"/>\n",
       "<polyline clip-path=\"url(#clip532)\" style=\"stroke:#000000; stroke-linecap:round; stroke-linejoin:round; stroke-width:4; stroke-opacity:1; fill:none\" points=\"862.731,1445.72 911.725,1445.72 887.228,1403.29 862.731,1445.72 \"/>\n",
       "<path clip-path=\"url(#clip532)\" d=\"M960.718 1445.72 L936.221 1403.29 L911.725 1445.72 L960.718 1445.72  Z\" fill=\"#ffff00\" fill-rule=\"evenodd\" fill-opacity=\"1\"/>\n",
       "<polyline clip-path=\"url(#clip532)\" style=\"stroke:#000000; stroke-linecap:round; stroke-linejoin:round; stroke-width:4; stroke-opacity:1; fill:none\" points=\"960.718,1445.72 936.221,1403.29 911.725,1445.72 960.718,1445.72 \"/>\n",
       "<path clip-path=\"url(#clip532)\" d=\"M911.725 1360.86 L887.228 1403.29 L936.221 1403.29 L911.725 1360.86  Z\" fill=\"#ffff00\" fill-rule=\"evenodd\" fill-opacity=\"1\"/>\n",
       "<polyline clip-path=\"url(#clip532)\" style=\"stroke:#000000; stroke-linecap:round; stroke-linejoin:round; stroke-width:4; stroke-opacity:1; fill:none\" points=\"911.725,1360.86 887.228,1403.29 936.221,1403.29 911.725,1360.86 \"/>\n",
       "<path clip-path=\"url(#clip532)\" d=\"M1034.21 1403.29 L985.214 1403.29 L1009.71 1445.72 L1034.21 1403.29  Z\" fill=\"#ff00ff\" fill-rule=\"evenodd\" fill-opacity=\"1\"/>\n",
       "<polyline clip-path=\"url(#clip532)\" style=\"stroke:#000000; stroke-linecap:round; stroke-linejoin:round; stroke-width:4; stroke-opacity:1; fill:none\" points=\"1034.21,1403.29 985.214,1403.29 1009.71,1445.72 1034.21,1403.29 \"/>\n",
       "<path clip-path=\"url(#clip532)\" d=\"M1058.7 1445.72 L1034.21 1403.29 L1009.71 1445.72 L1058.7 1445.72  Z\" fill=\"#ffff00\" fill-rule=\"evenodd\" fill-opacity=\"1\"/>\n",
       "<polyline clip-path=\"url(#clip532)\" style=\"stroke:#000000; stroke-linecap:round; stroke-linejoin:round; stroke-width:4; stroke-opacity:1; fill:none\" points=\"1058.7,1445.72 1034.21,1403.29 1009.71,1445.72 1058.7,1445.72 \"/>\n",
       "<path clip-path=\"url(#clip532)\" d=\"M1009.71 1360.86 L985.214 1403.29 L1034.21 1403.29 L1009.71 1360.86  Z\" fill=\"#ffff00\" fill-rule=\"evenodd\" fill-opacity=\"1\"/>\n",
       "<polyline clip-path=\"url(#clip532)\" style=\"stroke:#000000; stroke-linecap:round; stroke-linejoin:round; stroke-width:4; stroke-opacity:1; fill:none\" points=\"1009.71,1360.86 985.214,1403.29 1034.21,1403.29 1009.71,1360.86 \"/>\n",
       "<path clip-path=\"url(#clip532)\" d=\"M960.718 1445.72 L1009.71 1445.72 L985.214 1403.29 L960.718 1445.72  Z\" fill=\"#ffff00\" fill-rule=\"evenodd\" fill-opacity=\"1\"/>\n",
       "<polyline clip-path=\"url(#clip532)\" style=\"stroke:#000000; stroke-linecap:round; stroke-linejoin:round; stroke-width:4; stroke-opacity:1; fill:none\" points=\"960.718,1445.72 1009.71,1445.72 985.214,1403.29 960.718,1445.72 \"/>\n",
       "<path clip-path=\"url(#clip532)\" d=\"M936.221 1318.43 L960.718 1360.86 L985.214 1318.43 L936.221 1318.43  Z\" fill=\"#ff00ff\" fill-rule=\"evenodd\" fill-opacity=\"1\"/>\n",
       "<polyline clip-path=\"url(#clip532)\" style=\"stroke:#000000; stroke-linecap:round; stroke-linejoin:round; stroke-width:4; stroke-opacity:1; fill:none\" points=\"936.221,1318.43 960.718,1360.86 985.214,1318.43 936.221,1318.43 \"/>\n",
       "<path clip-path=\"url(#clip532)\" d=\"M960.718 1276 L936.221 1318.43 L985.214 1318.43 L960.718 1276  Z\" fill=\"#ffff00\" fill-rule=\"evenodd\" fill-opacity=\"1\"/>\n",
       "<polyline clip-path=\"url(#clip532)\" style=\"stroke:#000000; stroke-linecap:round; stroke-linejoin:round; stroke-width:4; stroke-opacity:1; fill:none\" points=\"960.718,1276 936.221,1318.43 985.214,1318.43 960.718,1276 \"/>\n",
       "<path clip-path=\"url(#clip532)\" d=\"M911.725 1360.86 L960.718 1360.86 L936.221 1318.43 L911.725 1360.86  Z\" fill=\"#ffff00\" fill-rule=\"evenodd\" fill-opacity=\"1\"/>\n",
       "<polyline clip-path=\"url(#clip532)\" style=\"stroke:#000000; stroke-linecap:round; stroke-linejoin:round; stroke-width:4; stroke-opacity:1; fill:none\" points=\"911.725,1360.86 960.718,1360.86 936.221,1318.43 911.725,1360.86 \"/>\n",
       "<path clip-path=\"url(#clip532)\" d=\"M1009.71 1360.86 L985.214 1318.43 L960.718 1360.86 L1009.71 1360.86  Z\" fill=\"#ffff00\" fill-rule=\"evenodd\" fill-opacity=\"1\"/>\n",
       "<polyline clip-path=\"url(#clip532)\" style=\"stroke:#000000; stroke-linecap:round; stroke-linejoin:round; stroke-width:4; stroke-opacity:1; fill:none\" points=\"1009.71,1360.86 985.214,1318.43 960.718,1360.86 1009.71,1360.86 \"/>\n",
       "<path clip-path=\"url(#clip532)\" d=\"M764.745 936.563 L862.731 1106.28 L960.718 936.563 L764.745 936.563  Z\" fill=\"#ff00ff\" fill-rule=\"evenodd\" fill-opacity=\"1\"/>\n",
       "<polyline clip-path=\"url(#clip532)\" style=\"stroke:#000000; stroke-linecap:round; stroke-linejoin:round; stroke-width:4; stroke-opacity:1; fill:none\" points=\"764.745,936.563 862.731,1106.28 960.718,936.563 764.745,936.563 \"/>\n",
       "<path clip-path=\"url(#clip532)\" d=\"M813.738 851.705 L862.731 936.563 L911.725 851.705 L813.738 851.705  Z\" fill=\"#ff00ff\" fill-rule=\"evenodd\" fill-opacity=\"1\"/>\n",
       "<polyline clip-path=\"url(#clip532)\" style=\"stroke:#000000; stroke-linecap:round; stroke-linejoin:round; stroke-width:4; stroke-opacity:1; fill:none\" points=\"813.738,851.705 862.731,936.563 911.725,851.705 813.738,851.705 \"/>\n",
       "<path clip-path=\"url(#clip532)\" d=\"M838.235 809.275 L862.731 851.705 L887.228 809.275 L838.235 809.275  Z\" fill=\"#ff00ff\" fill-rule=\"evenodd\" fill-opacity=\"1\"/>\n",
       "<polyline clip-path=\"url(#clip532)\" style=\"stroke:#000000; stroke-linecap:round; stroke-linejoin:round; stroke-width:4; stroke-opacity:1; fill:none\" points=\"838.235,809.275 862.731,851.705 887.228,809.275 838.235,809.275 \"/>\n",
       "<path clip-path=\"url(#clip532)\" d=\"M862.731 766.846 L838.235 809.275 L887.228 809.275 L862.731 766.846  Z\" fill=\"#ffff00\" fill-rule=\"evenodd\" fill-opacity=\"1\"/>\n",
       "<polyline clip-path=\"url(#clip532)\" style=\"stroke:#000000; stroke-linecap:round; stroke-linejoin:round; stroke-width:4; stroke-opacity:1; fill:none\" points=\"862.731,766.846 838.235,809.275 887.228,809.275 862.731,766.846 \"/>\n",
       "<path clip-path=\"url(#clip532)\" d=\"M813.738 851.705 L862.731 851.705 L838.235 809.275 L813.738 851.705  Z\" fill=\"#ffff00\" fill-rule=\"evenodd\" fill-opacity=\"1\"/>\n",
       "<polyline clip-path=\"url(#clip532)\" style=\"stroke:#000000; stroke-linecap:round; stroke-linejoin:round; stroke-width:4; stroke-opacity:1; fill:none\" points=\"813.738,851.705 862.731,851.705 838.235,809.275 813.738,851.705 \"/>\n",
       "<path clip-path=\"url(#clip532)\" d=\"M911.725 851.705 L887.228 809.275 L862.731 851.705 L911.725 851.705  Z\" fill=\"#ffff00\" fill-rule=\"evenodd\" fill-opacity=\"1\"/>\n",
       "<polyline clip-path=\"url(#clip532)\" style=\"stroke:#000000; stroke-linecap:round; stroke-linejoin:round; stroke-width:4; stroke-opacity:1; fill:none\" points=\"911.725,851.705 887.228,809.275 862.731,851.705 911.725,851.705 \"/>\n",
       "<path clip-path=\"url(#clip532)\" d=\"M813.738 936.563 L838.235 894.134 L789.242 894.134 L813.738 936.563  Z\" fill=\"#ff00ff\" fill-rule=\"evenodd\" fill-opacity=\"1\"/>\n",
       "<polyline clip-path=\"url(#clip532)\" style=\"stroke:#000000; stroke-linecap:round; stroke-linejoin:round; stroke-width:4; stroke-opacity:1; fill:none\" points=\"813.738,936.563 838.235,894.134 789.242,894.134 813.738,936.563 \"/>\n",
       "<path clip-path=\"url(#clip532)\" d=\"M764.745 936.563 L813.738 936.563 L789.242 894.134 L764.745 936.563  Z\" fill=\"#ffff00\" fill-rule=\"evenodd\" fill-opacity=\"1\"/>\n",
       "<polyline clip-path=\"url(#clip532)\" style=\"stroke:#000000; stroke-linecap:round; stroke-linejoin:round; stroke-width:4; stroke-opacity:1; fill:none\" points=\"764.745,936.563 813.738,936.563 789.242,894.134 764.745,936.563 \"/>\n",
       "<path clip-path=\"url(#clip532)\" d=\"M862.731 936.563 L838.235 894.134 L813.738 936.563 L862.731 936.563  Z\" fill=\"#ffff00\" fill-rule=\"evenodd\" fill-opacity=\"1\"/>\n",
       "<polyline clip-path=\"url(#clip532)\" style=\"stroke:#000000; stroke-linecap:round; stroke-linejoin:round; stroke-width:4; stroke-opacity:1; fill:none\" points=\"862.731,936.563 838.235,894.134 813.738,936.563 862.731,936.563 \"/>\n",
       "<path clip-path=\"url(#clip532)\" d=\"M813.738 851.705 L789.242 894.134 L838.235 894.134 L813.738 851.705  Z\" fill=\"#ffff00\" fill-rule=\"evenodd\" fill-opacity=\"1\"/>\n",
       "<polyline clip-path=\"url(#clip532)\" style=\"stroke:#000000; stroke-linecap:round; stroke-linejoin:round; stroke-width:4; stroke-opacity:1; fill:none\" points=\"813.738,851.705 789.242,894.134 838.235,894.134 813.738,851.705 \"/>\n",
       "<path clip-path=\"url(#clip532)\" d=\"M936.221 894.134 L887.228 894.134 L911.725 936.563 L936.221 894.134  Z\" fill=\"#ff00ff\" fill-rule=\"evenodd\" fill-opacity=\"1\"/>\n",
       "<polyline clip-path=\"url(#clip532)\" style=\"stroke:#000000; stroke-linecap:round; stroke-linejoin:round; stroke-width:4; stroke-opacity:1; fill:none\" points=\"936.221,894.134 887.228,894.134 911.725,936.563 936.221,894.134 \"/>\n",
       "<path clip-path=\"url(#clip532)\" d=\"M960.718 936.563 L936.221 894.134 L911.725 936.563 L960.718 936.563  Z\" fill=\"#ffff00\" fill-rule=\"evenodd\" fill-opacity=\"1\"/>\n",
       "<polyline clip-path=\"url(#clip532)\" style=\"stroke:#000000; stroke-linecap:round; stroke-linejoin:round; stroke-width:4; stroke-opacity:1; fill:none\" points=\"960.718,936.563 936.221,894.134 911.725,936.563 960.718,936.563 \"/>\n",
       "<path clip-path=\"url(#clip532)\" d=\"M911.725 851.705 L887.228 894.134 L936.221 894.134 L911.725 851.705  Z\" fill=\"#ffff00\" fill-rule=\"evenodd\" fill-opacity=\"1\"/>\n",
       "<polyline clip-path=\"url(#clip532)\" style=\"stroke:#000000; stroke-linecap:round; stroke-linejoin:round; stroke-width:4; stroke-opacity:1; fill:none\" points=\"911.725,851.705 887.228,894.134 936.221,894.134 911.725,851.705 \"/>\n",
       "<path clip-path=\"url(#clip532)\" d=\"M862.731 936.563 L911.725 936.563 L887.228 894.134 L862.731 936.563  Z\" fill=\"#ffff00\" fill-rule=\"evenodd\" fill-opacity=\"1\"/>\n",
       "<polyline clip-path=\"url(#clip532)\" style=\"stroke:#000000; stroke-linecap:round; stroke-linejoin:round; stroke-width:4; stroke-opacity:1; fill:none\" points=\"862.731,936.563 911.725,936.563 887.228,894.134 862.731,936.563 \"/>\n",
       "<path clip-path=\"url(#clip532)\" d=\"M764.745 1106.28 L813.738 1021.42 L715.752 1021.42 L764.745 1106.28  Z\" fill=\"#ff00ff\" fill-rule=\"evenodd\" fill-opacity=\"1\"/>\n",
       "<polyline clip-path=\"url(#clip532)\" style=\"stroke:#000000; stroke-linecap:round; stroke-linejoin:round; stroke-width:4; stroke-opacity:1; fill:none\" points=\"764.745,1106.28 813.738,1021.42 715.752,1021.42 764.745,1106.28 \"/>\n",
       "<path clip-path=\"url(#clip532)\" d=\"M715.752 1106.28 L740.248 1063.85 L691.255 1063.85 L715.752 1106.28  Z\" fill=\"#ff00ff\" fill-rule=\"evenodd\" fill-opacity=\"1\"/>\n",
       "<polyline clip-path=\"url(#clip532)\" style=\"stroke:#000000; stroke-linecap:round; stroke-linejoin:round; stroke-width:4; stroke-opacity:1; fill:none\" points=\"715.752,1106.28 740.248,1063.85 691.255,1063.85 715.752,1106.28 \"/>\n",
       "<path clip-path=\"url(#clip532)\" d=\"M666.759 1106.28 L715.752 1106.28 L691.255 1063.85 L666.759 1106.28  Z\" fill=\"#ffff00\" fill-rule=\"evenodd\" fill-opacity=\"1\"/>\n",
       "<polyline clip-path=\"url(#clip532)\" style=\"stroke:#000000; stroke-linecap:round; stroke-linejoin:round; stroke-width:4; stroke-opacity:1; fill:none\" points=\"666.759,1106.28 715.752,1106.28 691.255,1063.85 666.759,1106.28 \"/>\n",
       "<path clip-path=\"url(#clip532)\" d=\"M764.745 1106.28 L740.248 1063.85 L715.752 1106.28 L764.745 1106.28  Z\" fill=\"#ffff00\" fill-rule=\"evenodd\" fill-opacity=\"1\"/>\n",
       "<polyline clip-path=\"url(#clip532)\" style=\"stroke:#000000; stroke-linecap:round; stroke-linejoin:round; stroke-width:4; stroke-opacity:1; fill:none\" points=\"764.745,1106.28 740.248,1063.85 715.752,1106.28 764.745,1106.28 \"/>\n",
       "<path clip-path=\"url(#clip532)\" d=\"M715.752 1021.42 L691.255 1063.85 L740.248 1063.85 L715.752 1021.42  Z\" fill=\"#ffff00\" fill-rule=\"evenodd\" fill-opacity=\"1\"/>\n",
       "<polyline clip-path=\"url(#clip532)\" style=\"stroke:#000000; stroke-linecap:round; stroke-linejoin:round; stroke-width:4; stroke-opacity:1; fill:none\" points=\"715.752,1021.42 691.255,1063.85 740.248,1063.85 715.752,1021.42 \"/>\n",
       "<path clip-path=\"url(#clip532)\" d=\"M838.235 1063.85 L789.242 1063.85 L813.738 1106.28 L838.235 1063.85  Z\" fill=\"#ff00ff\" fill-rule=\"evenodd\" fill-opacity=\"1\"/>\n",
       "<polyline clip-path=\"url(#clip532)\" style=\"stroke:#000000; stroke-linecap:round; stroke-linejoin:round; stroke-width:4; stroke-opacity:1; fill:none\" points=\"838.235,1063.85 789.242,1063.85 813.738,1106.28 838.235,1063.85 \"/>\n",
       "<path clip-path=\"url(#clip532)\" d=\"M862.731 1106.28 L838.235 1063.85 L813.738 1106.28 L862.731 1106.28  Z\" fill=\"#ffff00\" fill-rule=\"evenodd\" fill-opacity=\"1\"/>\n",
       "<polyline clip-path=\"url(#clip532)\" style=\"stroke:#000000; stroke-linecap:round; stroke-linejoin:round; stroke-width:4; stroke-opacity:1; fill:none\" points=\"862.731,1106.28 838.235,1063.85 813.738,1106.28 862.731,1106.28 \"/>\n",
       "<path clip-path=\"url(#clip532)\" d=\"M813.738 1021.42 L789.242 1063.85 L838.235 1063.85 L813.738 1021.42  Z\" fill=\"#ffff00\" fill-rule=\"evenodd\" fill-opacity=\"1\"/>\n",
       "<polyline clip-path=\"url(#clip532)\" style=\"stroke:#000000; stroke-linecap:round; stroke-linejoin:round; stroke-width:4; stroke-opacity:1; fill:none\" points=\"813.738,1021.42 789.242,1063.85 838.235,1063.85 813.738,1021.42 \"/>\n",
       "<path clip-path=\"url(#clip532)\" d=\"M764.745 1106.28 L813.738 1106.28 L789.242 1063.85 L764.745 1106.28  Z\" fill=\"#ffff00\" fill-rule=\"evenodd\" fill-opacity=\"1\"/>\n",
       "<polyline clip-path=\"url(#clip532)\" style=\"stroke:#000000; stroke-linecap:round; stroke-linejoin:round; stroke-width:4; stroke-opacity:1; fill:none\" points=\"764.745,1106.28 813.738,1106.28 789.242,1063.85 764.745,1106.28 \"/>\n",
       "<path clip-path=\"url(#clip532)\" d=\"M740.248 978.993 L764.745 1021.42 L789.242 978.993 L740.248 978.993  Z\" fill=\"#ff00ff\" fill-rule=\"evenodd\" fill-opacity=\"1\"/>\n",
       "<polyline clip-path=\"url(#clip532)\" style=\"stroke:#000000; stroke-linecap:round; stroke-linejoin:round; stroke-width:4; stroke-opacity:1; fill:none\" points=\"740.248,978.993 764.745,1021.42 789.242,978.993 740.248,978.993 \"/>\n",
       "<path clip-path=\"url(#clip532)\" d=\"M764.745 936.563 L740.248 978.993 L789.242 978.993 L764.745 936.563  Z\" fill=\"#ffff00\" fill-rule=\"evenodd\" fill-opacity=\"1\"/>\n",
       "<polyline clip-path=\"url(#clip532)\" style=\"stroke:#000000; stroke-linecap:round; stroke-linejoin:round; stroke-width:4; stroke-opacity:1; fill:none\" points=\"764.745,936.563 740.248,978.993 789.242,978.993 764.745,936.563 \"/>\n",
       "<path clip-path=\"url(#clip532)\" d=\"M715.752 1021.42 L764.745 1021.42 L740.248 978.993 L715.752 1021.42  Z\" fill=\"#ffff00\" fill-rule=\"evenodd\" fill-opacity=\"1\"/>\n",
       "<polyline clip-path=\"url(#clip532)\" style=\"stroke:#000000; stroke-linecap:round; stroke-linejoin:round; stroke-width:4; stroke-opacity:1; fill:none\" points=\"715.752,1021.42 764.745,1021.42 740.248,978.993 715.752,1021.42 \"/>\n",
       "<path clip-path=\"url(#clip532)\" d=\"M813.738 1021.42 L789.242 978.993 L764.745 1021.42 L813.738 1021.42  Z\" fill=\"#ffff00\" fill-rule=\"evenodd\" fill-opacity=\"1\"/>\n",
       "<polyline clip-path=\"url(#clip532)\" style=\"stroke:#000000; stroke-linecap:round; stroke-linejoin:round; stroke-width:4; stroke-opacity:1; fill:none\" points=\"813.738,1021.42 789.242,978.993 764.745,1021.42 813.738,1021.42 \"/>\n",
       "<path clip-path=\"url(#clip532)\" d=\"M1009.71 1021.42 L911.725 1021.42 L960.718 1106.28 L1009.71 1021.42  Z\" fill=\"#ff00ff\" fill-rule=\"evenodd\" fill-opacity=\"1\"/>\n",
       "<polyline clip-path=\"url(#clip532)\" style=\"stroke:#000000; stroke-linecap:round; stroke-linejoin:round; stroke-width:4; stroke-opacity:1; fill:none\" points=\"1009.71,1021.42 911.725,1021.42 960.718,1106.28 1009.71,1021.42 \"/>\n",
       "<path clip-path=\"url(#clip532)\" d=\"M1034.21 1063.85 L985.214 1063.85 L1009.71 1106.28 L1034.21 1063.85  Z\" fill=\"#ff00ff\" fill-rule=\"evenodd\" fill-opacity=\"1\"/>\n",
       "<polyline clip-path=\"url(#clip532)\" style=\"stroke:#000000; stroke-linecap:round; stroke-linejoin:round; stroke-width:4; stroke-opacity:1; fill:none\" points=\"1034.21,1063.85 985.214,1063.85 1009.71,1106.28 1034.21,1063.85 \"/>\n",
       "<path clip-path=\"url(#clip532)\" d=\"M1058.7 1106.28 L1034.21 1063.85 L1009.71 1106.28 L1058.7 1106.28  Z\" fill=\"#ffff00\" fill-rule=\"evenodd\" fill-opacity=\"1\"/>\n",
       "<polyline clip-path=\"url(#clip532)\" style=\"stroke:#000000; stroke-linecap:round; stroke-linejoin:round; stroke-width:4; stroke-opacity:1; fill:none\" points=\"1058.7,1106.28 1034.21,1063.85 1009.71,1106.28 1058.7,1106.28 \"/>\n",
       "<path clip-path=\"url(#clip532)\" d=\"M1009.71 1021.42 L985.214 1063.85 L1034.21 1063.85 L1009.71 1021.42  Z\" fill=\"#ffff00\" fill-rule=\"evenodd\" fill-opacity=\"1\"/>\n",
       "<polyline clip-path=\"url(#clip532)\" style=\"stroke:#000000; stroke-linecap:round; stroke-linejoin:round; stroke-width:4; stroke-opacity:1; fill:none\" points=\"1009.71,1021.42 985.214,1063.85 1034.21,1063.85 1009.71,1021.42 \"/>\n",
       "<path clip-path=\"url(#clip532)\" d=\"M960.718 1106.28 L1009.71 1106.28 L985.214 1063.85 L960.718 1106.28  Z\" fill=\"#ffff00\" fill-rule=\"evenodd\" fill-opacity=\"1\"/>\n",
       "<polyline clip-path=\"url(#clip532)\" style=\"stroke:#000000; stroke-linecap:round; stroke-linejoin:round; stroke-width:4; stroke-opacity:1; fill:none\" points=\"960.718,1106.28 1009.71,1106.28 985.214,1063.85 960.718,1106.28 \"/>\n",
       "<path clip-path=\"url(#clip532)\" d=\"M936.221 978.993 L960.718 1021.42 L985.214 978.993 L936.221 978.993  Z\" fill=\"#ff00ff\" fill-rule=\"evenodd\" fill-opacity=\"1\"/>\n",
       "<polyline clip-path=\"url(#clip532)\" style=\"stroke:#000000; stroke-linecap:round; stroke-linejoin:round; stroke-width:4; stroke-opacity:1; fill:none\" points=\"936.221,978.993 960.718,1021.42 985.214,978.993 936.221,978.993 \"/>\n",
       "<path clip-path=\"url(#clip532)\" d=\"M960.718 936.563 L936.221 978.993 L985.214 978.993 L960.718 936.563  Z\" fill=\"#ffff00\" fill-rule=\"evenodd\" fill-opacity=\"1\"/>\n",
       "<polyline clip-path=\"url(#clip532)\" style=\"stroke:#000000; stroke-linecap:round; stroke-linejoin:round; stroke-width:4; stroke-opacity:1; fill:none\" points=\"960.718,936.563 936.221,978.993 985.214,978.993 960.718,936.563 \"/>\n",
       "<path clip-path=\"url(#clip532)\" d=\"M911.725 1021.42 L960.718 1021.42 L936.221 978.993 L911.725 1021.42  Z\" fill=\"#ffff00\" fill-rule=\"evenodd\" fill-opacity=\"1\"/>\n",
       "<polyline clip-path=\"url(#clip532)\" style=\"stroke:#000000; stroke-linecap:round; stroke-linejoin:round; stroke-width:4; stroke-opacity:1; fill:none\" points=\"911.725,1021.42 960.718,1021.42 936.221,978.993 911.725,1021.42 \"/>\n",
       "<path clip-path=\"url(#clip532)\" d=\"M1009.71 1021.42 L985.214 978.993 L960.718 1021.42 L1009.71 1021.42  Z\" fill=\"#ffff00\" fill-rule=\"evenodd\" fill-opacity=\"1\"/>\n",
       "<polyline clip-path=\"url(#clip532)\" style=\"stroke:#000000; stroke-linecap:round; stroke-linejoin:round; stroke-width:4; stroke-opacity:1; fill:none\" points=\"1009.71,1021.42 985.214,978.993 960.718,1021.42 1009.71,1021.42 \"/>\n",
       "<path clip-path=\"url(#clip532)\" d=\"M911.725 1106.28 L936.221 1063.85 L887.228 1063.85 L911.725 1106.28  Z\" fill=\"#ff00ff\" fill-rule=\"evenodd\" fill-opacity=\"1\"/>\n",
       "<polyline clip-path=\"url(#clip532)\" style=\"stroke:#000000; stroke-linecap:round; stroke-linejoin:round; stroke-width:4; stroke-opacity:1; fill:none\" points=\"911.725,1106.28 936.221,1063.85 887.228,1063.85 911.725,1106.28 \"/>\n",
       "<path clip-path=\"url(#clip532)\" d=\"M862.731 1106.28 L911.725 1106.28 L887.228 1063.85 L862.731 1106.28  Z\" fill=\"#ffff00\" fill-rule=\"evenodd\" fill-opacity=\"1\"/>\n",
       "<polyline clip-path=\"url(#clip532)\" style=\"stroke:#000000; stroke-linecap:round; stroke-linejoin:round; stroke-width:4; stroke-opacity:1; fill:none\" points=\"862.731,1106.28 911.725,1106.28 887.228,1063.85 862.731,1106.28 \"/>\n",
       "<path clip-path=\"url(#clip532)\" d=\"M960.718 1106.28 L936.221 1063.85 L911.725 1106.28 L960.718 1106.28  Z\" fill=\"#ffff00\" fill-rule=\"evenodd\" fill-opacity=\"1\"/>\n",
       "<polyline clip-path=\"url(#clip532)\" style=\"stroke:#000000; stroke-linecap:round; stroke-linejoin:round; stroke-width:4; stroke-opacity:1; fill:none\" points=\"960.718,1106.28 936.221,1063.85 911.725,1106.28 960.718,1106.28 \"/>\n",
       "<path clip-path=\"url(#clip532)\" d=\"M911.725 1021.42 L887.228 1063.85 L936.221 1063.85 L911.725 1021.42  Z\" fill=\"#ffff00\" fill-rule=\"evenodd\" fill-opacity=\"1\"/>\n",
       "<polyline clip-path=\"url(#clip532)\" style=\"stroke:#000000; stroke-linecap:round; stroke-linejoin:round; stroke-width:4; stroke-opacity:1; fill:none\" points=\"911.725,1021.42 887.228,1063.85 936.221,1063.85 911.725,1021.42 \"/>\n",
       "<path clip-path=\"url(#clip532)\" d=\"M1842.6 1106.28 L1450.65 1106.28 L1646.62 1445.72 L1842.6 1106.28  Z\" fill=\"#ff00ff\" fill-rule=\"evenodd\" fill-opacity=\"1\"/>\n",
       "<polyline clip-path=\"url(#clip532)\" style=\"stroke:#000000; stroke-linecap:round; stroke-linejoin:round; stroke-width:4; stroke-opacity:1; fill:none\" points=\"1842.6,1106.28 1450.65,1106.28 1646.62,1445.72 1842.6,1106.28 \"/>\n",
       "<path clip-path=\"url(#clip532)\" d=\"M1940.58 1276 L1744.61 1276 L1842.6 1445.72 L1940.58 1276  Z\" fill=\"#ff00ff\" fill-rule=\"evenodd\" fill-opacity=\"1\"/>\n",
       "<polyline clip-path=\"url(#clip532)\" style=\"stroke:#000000; stroke-linecap:round; stroke-linejoin:round; stroke-width:4; stroke-opacity:1; fill:none\" points=\"1940.58,1276 1744.61,1276 1842.6,1445.72 1940.58,1276 \"/>\n",
       "<path clip-path=\"url(#clip532)\" d=\"M1989.58 1360.86 L1891.59 1360.86 L1940.58 1445.72 L1989.58 1360.86  Z\" fill=\"#ff00ff\" fill-rule=\"evenodd\" fill-opacity=\"1\"/>\n",
       "<polyline clip-path=\"url(#clip532)\" style=\"stroke:#000000; stroke-linecap:round; stroke-linejoin:round; stroke-width:4; stroke-opacity:1; fill:none\" points=\"1989.58,1360.86 1891.59,1360.86 1940.58,1445.72 1989.58,1360.86 \"/>\n",
       "<path clip-path=\"url(#clip532)\" d=\"M2014.07 1403.29 L1965.08 1403.29 L1989.58 1445.72 L2014.07 1403.29  Z\" fill=\"#ff00ff\" fill-rule=\"evenodd\" fill-opacity=\"1\"/>\n",
       "<polyline clip-path=\"url(#clip532)\" style=\"stroke:#000000; stroke-linecap:round; stroke-linejoin:round; stroke-width:4; stroke-opacity:1; fill:none\" points=\"2014.07,1403.29 1965.08,1403.29 1989.58,1445.72 2014.07,1403.29 \"/>\n",
       "<path clip-path=\"url(#clip532)\" d=\"M2038.57 1445.72 L2014.07 1403.29 L1989.58 1445.72 L2038.57 1445.72  Z\" fill=\"#ffff00\" fill-rule=\"evenodd\" fill-opacity=\"1\"/>\n",
       "<polyline clip-path=\"url(#clip532)\" style=\"stroke:#000000; stroke-linecap:round; stroke-linejoin:round; stroke-width:4; stroke-opacity:1; fill:none\" points=\"2038.57,1445.72 2014.07,1403.29 1989.58,1445.72 2038.57,1445.72 \"/>\n",
       "<path clip-path=\"url(#clip532)\" d=\"M1989.58 1360.86 L1965.08 1403.29 L2014.07 1403.29 L1989.58 1360.86  Z\" fill=\"#ffff00\" fill-rule=\"evenodd\" fill-opacity=\"1\"/>\n",
       "<polyline clip-path=\"url(#clip532)\" style=\"stroke:#000000; stroke-linecap:round; stroke-linejoin:round; stroke-width:4; stroke-opacity:1; fill:none\" points=\"1989.58,1360.86 1965.08,1403.29 2014.07,1403.29 1989.58,1360.86 \"/>\n",
       "<path clip-path=\"url(#clip532)\" d=\"M1940.58 1445.72 L1989.58 1445.72 L1965.08 1403.29 L1940.58 1445.72  Z\" fill=\"#ffff00\" fill-rule=\"evenodd\" fill-opacity=\"1\"/>\n",
       "<polyline clip-path=\"url(#clip532)\" style=\"stroke:#000000; stroke-linecap:round; stroke-linejoin:round; stroke-width:4; stroke-opacity:1; fill:none\" points=\"1940.58,1445.72 1989.58,1445.72 1965.08,1403.29 1940.58,1445.72 \"/>\n",
       "<path clip-path=\"url(#clip532)\" d=\"M1916.09 1318.43 L1940.58 1360.86 L1965.08 1318.43 L1916.09 1318.43  Z\" fill=\"#ff00ff\" fill-rule=\"evenodd\" fill-opacity=\"1\"/>\n",
       "<polyline clip-path=\"url(#clip532)\" style=\"stroke:#000000; stroke-linecap:round; stroke-linejoin:round; stroke-width:4; stroke-opacity:1; fill:none\" points=\"1916.09,1318.43 1940.58,1360.86 1965.08,1318.43 1916.09,1318.43 \"/>\n",
       "<path clip-path=\"url(#clip532)\" d=\"M1940.58 1276 L1916.09 1318.43 L1965.08 1318.43 L1940.58 1276  Z\" fill=\"#ffff00\" fill-rule=\"evenodd\" fill-opacity=\"1\"/>\n",
       "<polyline clip-path=\"url(#clip532)\" style=\"stroke:#000000; stroke-linecap:round; stroke-linejoin:round; stroke-width:4; stroke-opacity:1; fill:none\" points=\"1940.58,1276 1916.09,1318.43 1965.08,1318.43 1940.58,1276 \"/>\n",
       "<path clip-path=\"url(#clip532)\" d=\"M1891.59 1360.86 L1940.58 1360.86 L1916.09 1318.43 L1891.59 1360.86  Z\" fill=\"#ffff00\" fill-rule=\"evenodd\" fill-opacity=\"1\"/>\n",
       "<polyline clip-path=\"url(#clip532)\" style=\"stroke:#000000; stroke-linecap:round; stroke-linejoin:round; stroke-width:4; stroke-opacity:1; fill:none\" points=\"1891.59,1360.86 1940.58,1360.86 1916.09,1318.43 1891.59,1360.86 \"/>\n",
       "<path clip-path=\"url(#clip532)\" d=\"M1989.58 1360.86 L1965.08 1318.43 L1940.58 1360.86 L1989.58 1360.86  Z\" fill=\"#ffff00\" fill-rule=\"evenodd\" fill-opacity=\"1\"/>\n",
       "<polyline clip-path=\"url(#clip532)\" style=\"stroke:#000000; stroke-linecap:round; stroke-linejoin:round; stroke-width:4; stroke-opacity:1; fill:none\" points=\"1989.58,1360.86 1965.08,1318.43 1940.58,1360.86 1989.58,1360.86 \"/>\n",
       "<path clip-path=\"url(#clip532)\" d=\"M1891.59 1445.72 L1916.09 1403.29 L1867.09 1403.29 L1891.59 1445.72  Z\" fill=\"#ff00ff\" fill-rule=\"evenodd\" fill-opacity=\"1\"/>\n",
       "<polyline clip-path=\"url(#clip532)\" style=\"stroke:#000000; stroke-linecap:round; stroke-linejoin:round; stroke-width:4; stroke-opacity:1; fill:none\" points=\"1891.59,1445.72 1916.09,1403.29 1867.09,1403.29 1891.59,1445.72 \"/>\n",
       "<path clip-path=\"url(#clip532)\" d=\"M1842.6 1445.72 L1891.59 1445.72 L1867.09 1403.29 L1842.6 1445.72  Z\" fill=\"#ffff00\" fill-rule=\"evenodd\" fill-opacity=\"1\"/>\n",
       "<polyline clip-path=\"url(#clip532)\" style=\"stroke:#000000; stroke-linecap:round; stroke-linejoin:round; stroke-width:4; stroke-opacity:1; fill:none\" points=\"1842.6,1445.72 1891.59,1445.72 1867.09,1403.29 1842.6,1445.72 \"/>\n",
       "<path clip-path=\"url(#clip532)\" d=\"M1940.58 1445.72 L1916.09 1403.29 L1891.59 1445.72 L1940.58 1445.72  Z\" fill=\"#ffff00\" fill-rule=\"evenodd\" fill-opacity=\"1\"/>\n",
       "<polyline clip-path=\"url(#clip532)\" style=\"stroke:#000000; stroke-linecap:round; stroke-linejoin:round; stroke-width:4; stroke-opacity:1; fill:none\" points=\"1940.58,1445.72 1916.09,1403.29 1891.59,1445.72 1940.58,1445.72 \"/>\n",
       "<path clip-path=\"url(#clip532)\" d=\"M1891.59 1360.86 L1867.09 1403.29 L1916.09 1403.29 L1891.59 1360.86  Z\" fill=\"#ffff00\" fill-rule=\"evenodd\" fill-opacity=\"1\"/>\n",
       "<polyline clip-path=\"url(#clip532)\" style=\"stroke:#000000; stroke-linecap:round; stroke-linejoin:round; stroke-width:4; stroke-opacity:1; fill:none\" points=\"1891.59,1360.86 1867.09,1403.29 1916.09,1403.29 1891.59,1360.86 \"/>\n",
       "<path clip-path=\"url(#clip532)\" d=\"M1793.6 1191.14 L1842.6 1276 L1891.59 1191.14 L1793.6 1191.14  Z\" fill=\"#ff00ff\" fill-rule=\"evenodd\" fill-opacity=\"1\"/>\n",
       "<polyline clip-path=\"url(#clip532)\" style=\"stroke:#000000; stroke-linecap:round; stroke-linejoin:round; stroke-width:4; stroke-opacity:1; fill:none\" points=\"1793.6,1191.14 1842.6,1276 1891.59,1191.14 1793.6,1191.14 \"/>\n",
       "<path clip-path=\"url(#clip532)\" d=\"M1818.1 1148.71 L1842.6 1191.14 L1867.09 1148.71 L1818.1 1148.71  Z\" fill=\"#ff00ff\" fill-rule=\"evenodd\" fill-opacity=\"1\"/>\n",
       "<polyline clip-path=\"url(#clip532)\" style=\"stroke:#000000; stroke-linecap:round; stroke-linejoin:round; stroke-width:4; stroke-opacity:1; fill:none\" points=\"1818.1,1148.71 1842.6,1191.14 1867.09,1148.71 1818.1,1148.71 \"/>\n",
       "<path clip-path=\"url(#clip532)\" d=\"M1842.6 1106.28 L1818.1 1148.71 L1867.09 1148.71 L1842.6 1106.28  Z\" fill=\"#ffff00\" fill-rule=\"evenodd\" fill-opacity=\"1\"/>\n",
       "<polyline clip-path=\"url(#clip532)\" style=\"stroke:#000000; stroke-linecap:round; stroke-linejoin:round; stroke-width:4; stroke-opacity:1; fill:none\" points=\"1842.6,1106.28 1818.1,1148.71 1867.09,1148.71 1842.6,1106.28 \"/>\n",
       "<path clip-path=\"url(#clip532)\" d=\"M1793.6 1191.14 L1842.6 1191.14 L1818.1 1148.71 L1793.6 1191.14  Z\" fill=\"#ffff00\" fill-rule=\"evenodd\" fill-opacity=\"1\"/>\n",
       "<polyline clip-path=\"url(#clip532)\" style=\"stroke:#000000; stroke-linecap:round; stroke-linejoin:round; stroke-width:4; stroke-opacity:1; fill:none\" points=\"1793.6,1191.14 1842.6,1191.14 1818.1,1148.71 1793.6,1191.14 \"/>\n",
       "<path clip-path=\"url(#clip532)\" d=\"M1891.59 1191.14 L1867.09 1148.71 L1842.6 1191.14 L1891.59 1191.14  Z\" fill=\"#ffff00\" fill-rule=\"evenodd\" fill-opacity=\"1\"/>\n",
       "<polyline clip-path=\"url(#clip532)\" style=\"stroke:#000000; stroke-linecap:round; stroke-linejoin:round; stroke-width:4; stroke-opacity:1; fill:none\" points=\"1891.59,1191.14 1867.09,1148.71 1842.6,1191.14 1891.59,1191.14 \"/>\n",
       "<path clip-path=\"url(#clip532)\" d=\"M1793.6 1276 L1818.1 1233.57 L1769.11 1233.57 L1793.6 1276  Z\" fill=\"#ff00ff\" fill-rule=\"evenodd\" fill-opacity=\"1\"/>\n",
       "<polyline clip-path=\"url(#clip532)\" style=\"stroke:#000000; stroke-linecap:round; stroke-linejoin:round; stroke-width:4; stroke-opacity:1; fill:none\" points=\"1793.6,1276 1818.1,1233.57 1769.11,1233.57 1793.6,1276 \"/>\n",
       "<path clip-path=\"url(#clip532)\" d=\"M1744.61 1276 L1793.6 1276 L1769.11 1233.57 L1744.61 1276  Z\" fill=\"#ffff00\" fill-rule=\"evenodd\" fill-opacity=\"1\"/>\n",
       "<polyline clip-path=\"url(#clip532)\" style=\"stroke:#000000; stroke-linecap:round; stroke-linejoin:round; stroke-width:4; stroke-opacity:1; fill:none\" points=\"1744.61,1276 1793.6,1276 1769.11,1233.57 1744.61,1276 \"/>\n",
       "<path clip-path=\"url(#clip532)\" d=\"M1842.6 1276 L1818.1 1233.57 L1793.6 1276 L1842.6 1276  Z\" fill=\"#ffff00\" fill-rule=\"evenodd\" fill-opacity=\"1\"/>\n",
       "<polyline clip-path=\"url(#clip532)\" style=\"stroke:#000000; stroke-linecap:round; stroke-linejoin:round; stroke-width:4; stroke-opacity:1; fill:none\" points=\"1842.6,1276 1818.1,1233.57 1793.6,1276 1842.6,1276 \"/>\n",
       "<path clip-path=\"url(#clip532)\" d=\"M1793.6 1191.14 L1769.11 1233.57 L1818.1 1233.57 L1793.6 1191.14  Z\" fill=\"#ffff00\" fill-rule=\"evenodd\" fill-opacity=\"1\"/>\n",
       "<polyline clip-path=\"url(#clip532)\" style=\"stroke:#000000; stroke-linecap:round; stroke-linejoin:round; stroke-width:4; stroke-opacity:1; fill:none\" points=\"1793.6,1191.14 1769.11,1233.57 1818.1,1233.57 1793.6,1191.14 \"/>\n",
       "<path clip-path=\"url(#clip532)\" d=\"M1916.09 1233.57 L1867.09 1233.57 L1891.59 1276 L1916.09 1233.57  Z\" fill=\"#ff00ff\" fill-rule=\"evenodd\" fill-opacity=\"1\"/>\n",
       "<polyline clip-path=\"url(#clip532)\" style=\"stroke:#000000; stroke-linecap:round; stroke-linejoin:round; stroke-width:4; stroke-opacity:1; fill:none\" points=\"1916.09,1233.57 1867.09,1233.57 1891.59,1276 1916.09,1233.57 \"/>\n",
       "<path clip-path=\"url(#clip532)\" d=\"M1940.58 1276 L1916.09 1233.57 L1891.59 1276 L1940.58 1276  Z\" fill=\"#ffff00\" fill-rule=\"evenodd\" fill-opacity=\"1\"/>\n",
       "<polyline clip-path=\"url(#clip532)\" style=\"stroke:#000000; stroke-linecap:round; stroke-linejoin:round; stroke-width:4; stroke-opacity:1; fill:none\" points=\"1940.58,1276 1916.09,1233.57 1891.59,1276 1940.58,1276 \"/>\n",
       "<path clip-path=\"url(#clip532)\" d=\"M1891.59 1191.14 L1867.09 1233.57 L1916.09 1233.57 L1891.59 1191.14  Z\" fill=\"#ffff00\" fill-rule=\"evenodd\" fill-opacity=\"1\"/>\n",
       "<polyline clip-path=\"url(#clip532)\" style=\"stroke:#000000; stroke-linecap:round; stroke-linejoin:round; stroke-width:4; stroke-opacity:1; fill:none\" points=\"1891.59,1191.14 1867.09,1233.57 1916.09,1233.57 1891.59,1191.14 \"/>\n",
       "<path clip-path=\"url(#clip532)\" d=\"M1842.6 1276 L1891.59 1276 L1867.09 1233.57 L1842.6 1276  Z\" fill=\"#ffff00\" fill-rule=\"evenodd\" fill-opacity=\"1\"/>\n",
       "<polyline clip-path=\"url(#clip532)\" style=\"stroke:#000000; stroke-linecap:round; stroke-linejoin:round; stroke-width:4; stroke-opacity:1; fill:none\" points=\"1842.6,1276 1891.59,1276 1867.09,1233.57 1842.6,1276 \"/>\n",
       "<path clip-path=\"url(#clip532)\" d=\"M1744.61 1445.72 L1793.6 1360.86 L1695.62 1360.86 L1744.61 1445.72  Z\" fill=\"#ff00ff\" fill-rule=\"evenodd\" fill-opacity=\"1\"/>\n",
       "<polyline clip-path=\"url(#clip532)\" style=\"stroke:#000000; stroke-linecap:round; stroke-linejoin:round; stroke-width:4; stroke-opacity:1; fill:none\" points=\"1744.61,1445.72 1793.6,1360.86 1695.62,1360.86 1744.61,1445.72 \"/>\n",
       "<path clip-path=\"url(#clip532)\" d=\"M1695.62 1445.72 L1720.11 1403.29 L1671.12 1403.29 L1695.62 1445.72  Z\" fill=\"#ff00ff\" fill-rule=\"evenodd\" fill-opacity=\"1\"/>\n",
       "<polyline clip-path=\"url(#clip532)\" style=\"stroke:#000000; stroke-linecap:round; stroke-linejoin:round; stroke-width:4; stroke-opacity:1; fill:none\" points=\"1695.62,1445.72 1720.11,1403.29 1671.12,1403.29 1695.62,1445.72 \"/>\n",
       "<path clip-path=\"url(#clip532)\" d=\"M1646.62 1445.72 L1695.62 1445.72 L1671.12 1403.29 L1646.62 1445.72  Z\" fill=\"#ffff00\" fill-rule=\"evenodd\" fill-opacity=\"1\"/>\n",
       "<polyline clip-path=\"url(#clip532)\" style=\"stroke:#000000; stroke-linecap:round; stroke-linejoin:round; stroke-width:4; stroke-opacity:1; fill:none\" points=\"1646.62,1445.72 1695.62,1445.72 1671.12,1403.29 1646.62,1445.72 \"/>\n",
       "<path clip-path=\"url(#clip532)\" d=\"M1744.61 1445.72 L1720.11 1403.29 L1695.62 1445.72 L1744.61 1445.72  Z\" fill=\"#ffff00\" fill-rule=\"evenodd\" fill-opacity=\"1\"/>\n",
       "<polyline clip-path=\"url(#clip532)\" style=\"stroke:#000000; stroke-linecap:round; stroke-linejoin:round; stroke-width:4; stroke-opacity:1; fill:none\" points=\"1744.61,1445.72 1720.11,1403.29 1695.62,1445.72 1744.61,1445.72 \"/>\n",
       "<path clip-path=\"url(#clip532)\" d=\"M1695.62 1360.86 L1671.12 1403.29 L1720.11 1403.29 L1695.62 1360.86  Z\" fill=\"#ffff00\" fill-rule=\"evenodd\" fill-opacity=\"1\"/>\n",
       "<polyline clip-path=\"url(#clip532)\" style=\"stroke:#000000; stroke-linecap:round; stroke-linejoin:round; stroke-width:4; stroke-opacity:1; fill:none\" points=\"1695.62,1360.86 1671.12,1403.29 1720.11,1403.29 1695.62,1360.86 \"/>\n",
       "<path clip-path=\"url(#clip532)\" d=\"M1818.1 1403.29 L1769.11 1403.29 L1793.6 1445.72 L1818.1 1403.29  Z\" fill=\"#ff00ff\" fill-rule=\"evenodd\" fill-opacity=\"1\"/>\n",
       "<polyline clip-path=\"url(#clip532)\" style=\"stroke:#000000; stroke-linecap:round; stroke-linejoin:round; stroke-width:4; stroke-opacity:1; fill:none\" points=\"1818.1,1403.29 1769.11,1403.29 1793.6,1445.72 1818.1,1403.29 \"/>\n",
       "<path clip-path=\"url(#clip532)\" d=\"M1842.6 1445.72 L1818.1 1403.29 L1793.6 1445.72 L1842.6 1445.72  Z\" fill=\"#ffff00\" fill-rule=\"evenodd\" fill-opacity=\"1\"/>\n",
       "<polyline clip-path=\"url(#clip532)\" style=\"stroke:#000000; stroke-linecap:round; stroke-linejoin:round; stroke-width:4; stroke-opacity:1; fill:none\" points=\"1842.6,1445.72 1818.1,1403.29 1793.6,1445.72 1842.6,1445.72 \"/>\n",
       "<path clip-path=\"url(#clip532)\" d=\"M1793.6 1360.86 L1769.11 1403.29 L1818.1 1403.29 L1793.6 1360.86  Z\" fill=\"#ffff00\" fill-rule=\"evenodd\" fill-opacity=\"1\"/>\n",
       "<polyline clip-path=\"url(#clip532)\" style=\"stroke:#000000; stroke-linecap:round; stroke-linejoin:round; stroke-width:4; stroke-opacity:1; fill:none\" points=\"1793.6,1360.86 1769.11,1403.29 1818.1,1403.29 1793.6,1360.86 \"/>\n",
       "<path clip-path=\"url(#clip532)\" d=\"M1744.61 1445.72 L1793.6 1445.72 L1769.11 1403.29 L1744.61 1445.72  Z\" fill=\"#ffff00\" fill-rule=\"evenodd\" fill-opacity=\"1\"/>\n",
       "<polyline clip-path=\"url(#clip532)\" style=\"stroke:#000000; stroke-linecap:round; stroke-linejoin:round; stroke-width:4; stroke-opacity:1; fill:none\" points=\"1744.61,1445.72 1793.6,1445.72 1769.11,1403.29 1744.61,1445.72 \"/>\n",
       "<path clip-path=\"url(#clip532)\" d=\"M1720.11 1318.43 L1744.61 1360.86 L1769.11 1318.43 L1720.11 1318.43  Z\" fill=\"#ff00ff\" fill-rule=\"evenodd\" fill-opacity=\"1\"/>\n",
       "<polyline clip-path=\"url(#clip532)\" style=\"stroke:#000000; stroke-linecap:round; stroke-linejoin:round; stroke-width:4; stroke-opacity:1; fill:none\" points=\"1720.11,1318.43 1744.61,1360.86 1769.11,1318.43 1720.11,1318.43 \"/>\n",
       "<path clip-path=\"url(#clip532)\" d=\"M1744.61 1276 L1720.11 1318.43 L1769.11 1318.43 L1744.61 1276  Z\" fill=\"#ffff00\" fill-rule=\"evenodd\" fill-opacity=\"1\"/>\n",
       "<polyline clip-path=\"url(#clip532)\" style=\"stroke:#000000; stroke-linecap:round; stroke-linejoin:round; stroke-width:4; stroke-opacity:1; fill:none\" points=\"1744.61,1276 1720.11,1318.43 1769.11,1318.43 1744.61,1276 \"/>\n",
       "<path clip-path=\"url(#clip532)\" d=\"M1695.62 1360.86 L1744.61 1360.86 L1720.11 1318.43 L1695.62 1360.86  Z\" fill=\"#ffff00\" fill-rule=\"evenodd\" fill-opacity=\"1\"/>\n",
       "<polyline clip-path=\"url(#clip532)\" style=\"stroke:#000000; stroke-linecap:round; stroke-linejoin:round; stroke-width:4; stroke-opacity:1; fill:none\" points=\"1695.62,1360.86 1744.61,1360.86 1720.11,1318.43 1695.62,1360.86 \"/>\n",
       "<path clip-path=\"url(#clip532)\" d=\"M1793.6 1360.86 L1769.11 1318.43 L1744.61 1360.86 L1793.6 1360.86  Z\" fill=\"#ffff00\" fill-rule=\"evenodd\" fill-opacity=\"1\"/>\n",
       "<polyline clip-path=\"url(#clip532)\" style=\"stroke:#000000; stroke-linecap:round; stroke-linejoin:round; stroke-width:4; stroke-opacity:1; fill:none\" points=\"1793.6,1360.86 1769.11,1318.43 1744.61,1360.86 1793.6,1360.86 \"/>\n",
       "<path clip-path=\"url(#clip532)\" d=\"M1548.64 936.563 L1646.62 1106.28 L1744.61 936.563 L1548.64 936.563  Z\" fill=\"#ff00ff\" fill-rule=\"evenodd\" fill-opacity=\"1\"/>\n",
       "<polyline clip-path=\"url(#clip532)\" style=\"stroke:#000000; stroke-linecap:round; stroke-linejoin:round; stroke-width:4; stroke-opacity:1; fill:none\" points=\"1548.64,936.563 1646.62,1106.28 1744.61,936.563 1548.64,936.563 \"/>\n",
       "<path clip-path=\"url(#clip532)\" d=\"M1597.63 851.705 L1646.62 936.563 L1695.62 851.705 L1597.63 851.705  Z\" fill=\"#ff00ff\" fill-rule=\"evenodd\" fill-opacity=\"1\"/>\n",
       "<polyline clip-path=\"url(#clip532)\" style=\"stroke:#000000; stroke-linecap:round; stroke-linejoin:round; stroke-width:4; stroke-opacity:1; fill:none\" points=\"1597.63,851.705 1646.62,936.563 1695.62,851.705 1597.63,851.705 \"/>\n",
       "<path clip-path=\"url(#clip532)\" d=\"M1622.13 809.275 L1646.62 851.705 L1671.12 809.275 L1622.13 809.275  Z\" fill=\"#ff00ff\" fill-rule=\"evenodd\" fill-opacity=\"1\"/>\n",
       "<polyline clip-path=\"url(#clip532)\" style=\"stroke:#000000; stroke-linecap:round; stroke-linejoin:round; stroke-width:4; stroke-opacity:1; fill:none\" points=\"1622.13,809.275 1646.62,851.705 1671.12,809.275 1622.13,809.275 \"/>\n",
       "<path clip-path=\"url(#clip532)\" d=\"M1646.62 766.846 L1622.13 809.275 L1671.12 809.275 L1646.62 766.846  Z\" fill=\"#ffff00\" fill-rule=\"evenodd\" fill-opacity=\"1\"/>\n",
       "<polyline clip-path=\"url(#clip532)\" style=\"stroke:#000000; stroke-linecap:round; stroke-linejoin:round; stroke-width:4; stroke-opacity:1; fill:none\" points=\"1646.62,766.846 1622.13,809.275 1671.12,809.275 1646.62,766.846 \"/>\n",
       "<path clip-path=\"url(#clip532)\" d=\"M1597.63 851.705 L1646.62 851.705 L1622.13 809.275 L1597.63 851.705  Z\" fill=\"#ffff00\" fill-rule=\"evenodd\" fill-opacity=\"1\"/>\n",
       "<polyline clip-path=\"url(#clip532)\" style=\"stroke:#000000; stroke-linecap:round; stroke-linejoin:round; stroke-width:4; stroke-opacity:1; fill:none\" points=\"1597.63,851.705 1646.62,851.705 1622.13,809.275 1597.63,851.705 \"/>\n",
       "<path clip-path=\"url(#clip532)\" d=\"M1695.62 851.705 L1671.12 809.275 L1646.62 851.705 L1695.62 851.705  Z\" fill=\"#ffff00\" fill-rule=\"evenodd\" fill-opacity=\"1\"/>\n",
       "<polyline clip-path=\"url(#clip532)\" style=\"stroke:#000000; stroke-linecap:round; stroke-linejoin:round; stroke-width:4; stroke-opacity:1; fill:none\" points=\"1695.62,851.705 1671.12,809.275 1646.62,851.705 1695.62,851.705 \"/>\n",
       "<path clip-path=\"url(#clip532)\" d=\"M1597.63 936.563 L1622.13 894.134 L1573.13 894.134 L1597.63 936.563  Z\" fill=\"#ff00ff\" fill-rule=\"evenodd\" fill-opacity=\"1\"/>\n",
       "<polyline clip-path=\"url(#clip532)\" style=\"stroke:#000000; stroke-linecap:round; stroke-linejoin:round; stroke-width:4; stroke-opacity:1; fill:none\" points=\"1597.63,936.563 1622.13,894.134 1573.13,894.134 1597.63,936.563 \"/>\n",
       "<path clip-path=\"url(#clip532)\" d=\"M1548.64 936.563 L1597.63 936.563 L1573.13 894.134 L1548.64 936.563  Z\" fill=\"#ffff00\" fill-rule=\"evenodd\" fill-opacity=\"1\"/>\n",
       "<polyline clip-path=\"url(#clip532)\" style=\"stroke:#000000; stroke-linecap:round; stroke-linejoin:round; stroke-width:4; stroke-opacity:1; fill:none\" points=\"1548.64,936.563 1597.63,936.563 1573.13,894.134 1548.64,936.563 \"/>\n",
       "<path clip-path=\"url(#clip532)\" d=\"M1646.62 936.563 L1622.13 894.134 L1597.63 936.563 L1646.62 936.563  Z\" fill=\"#ffff00\" fill-rule=\"evenodd\" fill-opacity=\"1\"/>\n",
       "<polyline clip-path=\"url(#clip532)\" style=\"stroke:#000000; stroke-linecap:round; stroke-linejoin:round; stroke-width:4; stroke-opacity:1; fill:none\" points=\"1646.62,936.563 1622.13,894.134 1597.63,936.563 1646.62,936.563 \"/>\n",
       "<path clip-path=\"url(#clip532)\" d=\"M1597.63 851.705 L1573.13 894.134 L1622.13 894.134 L1597.63 851.705  Z\" fill=\"#ffff00\" fill-rule=\"evenodd\" fill-opacity=\"1\"/>\n",
       "<polyline clip-path=\"url(#clip532)\" style=\"stroke:#000000; stroke-linecap:round; stroke-linejoin:round; stroke-width:4; stroke-opacity:1; fill:none\" points=\"1597.63,851.705 1573.13,894.134 1622.13,894.134 1597.63,851.705 \"/>\n",
       "<path clip-path=\"url(#clip532)\" d=\"M1720.11 894.134 L1671.12 894.134 L1695.62 936.563 L1720.11 894.134  Z\" fill=\"#ff00ff\" fill-rule=\"evenodd\" fill-opacity=\"1\"/>\n",
       "<polyline clip-path=\"url(#clip532)\" style=\"stroke:#000000; stroke-linecap:round; stroke-linejoin:round; stroke-width:4; stroke-opacity:1; fill:none\" points=\"1720.11,894.134 1671.12,894.134 1695.62,936.563 1720.11,894.134 \"/>\n",
       "<path clip-path=\"url(#clip532)\" d=\"M1744.61 936.563 L1720.11 894.134 L1695.62 936.563 L1744.61 936.563  Z\" fill=\"#ffff00\" fill-rule=\"evenodd\" fill-opacity=\"1\"/>\n",
       "<polyline clip-path=\"url(#clip532)\" style=\"stroke:#000000; stroke-linecap:round; stroke-linejoin:round; stroke-width:4; stroke-opacity:1; fill:none\" points=\"1744.61,936.563 1720.11,894.134 1695.62,936.563 1744.61,936.563 \"/>\n",
       "<path clip-path=\"url(#clip532)\" d=\"M1695.62 851.705 L1671.12 894.134 L1720.11 894.134 L1695.62 851.705  Z\" fill=\"#ffff00\" fill-rule=\"evenodd\" fill-opacity=\"1\"/>\n",
       "<polyline clip-path=\"url(#clip532)\" style=\"stroke:#000000; stroke-linecap:round; stroke-linejoin:round; stroke-width:4; stroke-opacity:1; fill:none\" points=\"1695.62,851.705 1671.12,894.134 1720.11,894.134 1695.62,851.705 \"/>\n",
       "<path clip-path=\"url(#clip532)\" d=\"M1646.62 936.563 L1695.62 936.563 L1671.12 894.134 L1646.62 936.563  Z\" fill=\"#ffff00\" fill-rule=\"evenodd\" fill-opacity=\"1\"/>\n",
       "<polyline clip-path=\"url(#clip532)\" style=\"stroke:#000000; stroke-linecap:round; stroke-linejoin:round; stroke-width:4; stroke-opacity:1; fill:none\" points=\"1646.62,936.563 1695.62,936.563 1671.12,894.134 1646.62,936.563 \"/>\n",
       "<path clip-path=\"url(#clip532)\" d=\"M1548.64 1106.28 L1597.63 1021.42 L1499.64 1021.42 L1548.64 1106.28  Z\" fill=\"#ff00ff\" fill-rule=\"evenodd\" fill-opacity=\"1\"/>\n",
       "<polyline clip-path=\"url(#clip532)\" style=\"stroke:#000000; stroke-linecap:round; stroke-linejoin:round; stroke-width:4; stroke-opacity:1; fill:none\" points=\"1548.64,1106.28 1597.63,1021.42 1499.64,1021.42 1548.64,1106.28 \"/>\n",
       "<path clip-path=\"url(#clip532)\" d=\"M1499.64 1106.28 L1524.14 1063.85 L1475.15 1063.85 L1499.64 1106.28  Z\" fill=\"#ff00ff\" fill-rule=\"evenodd\" fill-opacity=\"1\"/>\n",
       "<polyline clip-path=\"url(#clip532)\" style=\"stroke:#000000; stroke-linecap:round; stroke-linejoin:round; stroke-width:4; stroke-opacity:1; fill:none\" points=\"1499.64,1106.28 1524.14,1063.85 1475.15,1063.85 1499.64,1106.28 \"/>\n",
       "<path clip-path=\"url(#clip532)\" d=\"M1450.65 1106.28 L1499.64 1106.28 L1475.15 1063.85 L1450.65 1106.28  Z\" fill=\"#ffff00\" fill-rule=\"evenodd\" fill-opacity=\"1\"/>\n",
       "<polyline clip-path=\"url(#clip532)\" style=\"stroke:#000000; stroke-linecap:round; stroke-linejoin:round; stroke-width:4; stroke-opacity:1; fill:none\" points=\"1450.65,1106.28 1499.64,1106.28 1475.15,1063.85 1450.65,1106.28 \"/>\n",
       "<path clip-path=\"url(#clip532)\" d=\"M1548.64 1106.28 L1524.14 1063.85 L1499.64 1106.28 L1548.64 1106.28  Z\" fill=\"#ffff00\" fill-rule=\"evenodd\" fill-opacity=\"1\"/>\n",
       "<polyline clip-path=\"url(#clip532)\" style=\"stroke:#000000; stroke-linecap:round; stroke-linejoin:round; stroke-width:4; stroke-opacity:1; fill:none\" points=\"1548.64,1106.28 1524.14,1063.85 1499.64,1106.28 1548.64,1106.28 \"/>\n",
       "<path clip-path=\"url(#clip532)\" d=\"M1499.64 1021.42 L1475.15 1063.85 L1524.14 1063.85 L1499.64 1021.42  Z\" fill=\"#ffff00\" fill-rule=\"evenodd\" fill-opacity=\"1\"/>\n",
       "<polyline clip-path=\"url(#clip532)\" style=\"stroke:#000000; stroke-linecap:round; stroke-linejoin:round; stroke-width:4; stroke-opacity:1; fill:none\" points=\"1499.64,1021.42 1475.15,1063.85 1524.14,1063.85 1499.64,1021.42 \"/>\n",
       "<path clip-path=\"url(#clip532)\" d=\"M1622.13 1063.85 L1573.13 1063.85 L1597.63 1106.28 L1622.13 1063.85  Z\" fill=\"#ff00ff\" fill-rule=\"evenodd\" fill-opacity=\"1\"/>\n",
       "<polyline clip-path=\"url(#clip532)\" style=\"stroke:#000000; stroke-linecap:round; stroke-linejoin:round; stroke-width:4; stroke-opacity:1; fill:none\" points=\"1622.13,1063.85 1573.13,1063.85 1597.63,1106.28 1622.13,1063.85 \"/>\n",
       "<path clip-path=\"url(#clip532)\" d=\"M1646.62 1106.28 L1622.13 1063.85 L1597.63 1106.28 L1646.62 1106.28  Z\" fill=\"#ffff00\" fill-rule=\"evenodd\" fill-opacity=\"1\"/>\n",
       "<polyline clip-path=\"url(#clip532)\" style=\"stroke:#000000; stroke-linecap:round; stroke-linejoin:round; stroke-width:4; stroke-opacity:1; fill:none\" points=\"1646.62,1106.28 1622.13,1063.85 1597.63,1106.28 1646.62,1106.28 \"/>\n",
       "<path clip-path=\"url(#clip532)\" d=\"M1597.63 1021.42 L1573.13 1063.85 L1622.13 1063.85 L1597.63 1021.42  Z\" fill=\"#ffff00\" fill-rule=\"evenodd\" fill-opacity=\"1\"/>\n",
       "<polyline clip-path=\"url(#clip532)\" style=\"stroke:#000000; stroke-linecap:round; stroke-linejoin:round; stroke-width:4; stroke-opacity:1; fill:none\" points=\"1597.63,1021.42 1573.13,1063.85 1622.13,1063.85 1597.63,1021.42 \"/>\n",
       "<path clip-path=\"url(#clip532)\" d=\"M1548.64 1106.28 L1597.63 1106.28 L1573.13 1063.85 L1548.64 1106.28  Z\" fill=\"#ffff00\" fill-rule=\"evenodd\" fill-opacity=\"1\"/>\n",
       "<polyline clip-path=\"url(#clip532)\" style=\"stroke:#000000; stroke-linecap:round; stroke-linejoin:round; stroke-width:4; stroke-opacity:1; fill:none\" points=\"1548.64,1106.28 1597.63,1106.28 1573.13,1063.85 1548.64,1106.28 \"/>\n",
       "<path clip-path=\"url(#clip532)\" d=\"M1524.14 978.993 L1548.64 1021.42 L1573.13 978.993 L1524.14 978.993  Z\" fill=\"#ff00ff\" fill-rule=\"evenodd\" fill-opacity=\"1\"/>\n",
       "<polyline clip-path=\"url(#clip532)\" style=\"stroke:#000000; stroke-linecap:round; stroke-linejoin:round; stroke-width:4; stroke-opacity:1; fill:none\" points=\"1524.14,978.993 1548.64,1021.42 1573.13,978.993 1524.14,978.993 \"/>\n",
       "<path clip-path=\"url(#clip532)\" d=\"M1548.64 936.563 L1524.14 978.993 L1573.13 978.993 L1548.64 936.563  Z\" fill=\"#ffff00\" fill-rule=\"evenodd\" fill-opacity=\"1\"/>\n",
       "<polyline clip-path=\"url(#clip532)\" style=\"stroke:#000000; stroke-linecap:round; stroke-linejoin:round; stroke-width:4; stroke-opacity:1; fill:none\" points=\"1548.64,936.563 1524.14,978.993 1573.13,978.993 1548.64,936.563 \"/>\n",
       "<path clip-path=\"url(#clip532)\" d=\"M1499.64 1021.42 L1548.64 1021.42 L1524.14 978.993 L1499.64 1021.42  Z\" fill=\"#ffff00\" fill-rule=\"evenodd\" fill-opacity=\"1\"/>\n",
       "<polyline clip-path=\"url(#clip532)\" style=\"stroke:#000000; stroke-linecap:round; stroke-linejoin:round; stroke-width:4; stroke-opacity:1; fill:none\" points=\"1499.64,1021.42 1548.64,1021.42 1524.14,978.993 1499.64,1021.42 \"/>\n",
       "<path clip-path=\"url(#clip532)\" d=\"M1597.63 1021.42 L1573.13 978.993 L1548.64 1021.42 L1597.63 1021.42  Z\" fill=\"#ffff00\" fill-rule=\"evenodd\" fill-opacity=\"1\"/>\n",
       "<polyline clip-path=\"url(#clip532)\" style=\"stroke:#000000; stroke-linecap:round; stroke-linejoin:round; stroke-width:4; stroke-opacity:1; fill:none\" points=\"1597.63,1021.42 1573.13,978.993 1548.64,1021.42 1597.63,1021.42 \"/>\n",
       "<path clip-path=\"url(#clip532)\" d=\"M1793.6 1021.42 L1695.62 1021.42 L1744.61 1106.28 L1793.6 1021.42  Z\" fill=\"#ff00ff\" fill-rule=\"evenodd\" fill-opacity=\"1\"/>\n",
       "<polyline clip-path=\"url(#clip532)\" style=\"stroke:#000000; stroke-linecap:round; stroke-linejoin:round; stroke-width:4; stroke-opacity:1; fill:none\" points=\"1793.6,1021.42 1695.62,1021.42 1744.61,1106.28 1793.6,1021.42 \"/>\n",
       "<path clip-path=\"url(#clip532)\" d=\"M1818.1 1063.85 L1769.11 1063.85 L1793.6 1106.28 L1818.1 1063.85  Z\" fill=\"#ff00ff\" fill-rule=\"evenodd\" fill-opacity=\"1\"/>\n",
       "<polyline clip-path=\"url(#clip532)\" style=\"stroke:#000000; stroke-linecap:round; stroke-linejoin:round; stroke-width:4; stroke-opacity:1; fill:none\" points=\"1818.1,1063.85 1769.11,1063.85 1793.6,1106.28 1818.1,1063.85 \"/>\n",
       "<path clip-path=\"url(#clip532)\" d=\"M1842.6 1106.28 L1818.1 1063.85 L1793.6 1106.28 L1842.6 1106.28  Z\" fill=\"#ffff00\" fill-rule=\"evenodd\" fill-opacity=\"1\"/>\n",
       "<polyline clip-path=\"url(#clip532)\" style=\"stroke:#000000; stroke-linecap:round; stroke-linejoin:round; stroke-width:4; stroke-opacity:1; fill:none\" points=\"1842.6,1106.28 1818.1,1063.85 1793.6,1106.28 1842.6,1106.28 \"/>\n",
       "<path clip-path=\"url(#clip532)\" d=\"M1793.6 1021.42 L1769.11 1063.85 L1818.1 1063.85 L1793.6 1021.42  Z\" fill=\"#ffff00\" fill-rule=\"evenodd\" fill-opacity=\"1\"/>\n",
       "<polyline clip-path=\"url(#clip532)\" style=\"stroke:#000000; stroke-linecap:round; stroke-linejoin:round; stroke-width:4; stroke-opacity:1; fill:none\" points=\"1793.6,1021.42 1769.11,1063.85 1818.1,1063.85 1793.6,1021.42 \"/>\n",
       "<path clip-path=\"url(#clip532)\" d=\"M1744.61 1106.28 L1793.6 1106.28 L1769.11 1063.85 L1744.61 1106.28  Z\" fill=\"#ffff00\" fill-rule=\"evenodd\" fill-opacity=\"1\"/>\n",
       "<polyline clip-path=\"url(#clip532)\" style=\"stroke:#000000; stroke-linecap:round; stroke-linejoin:round; stroke-width:4; stroke-opacity:1; fill:none\" points=\"1744.61,1106.28 1793.6,1106.28 1769.11,1063.85 1744.61,1106.28 \"/>\n",
       "<path clip-path=\"url(#clip532)\" d=\"M1720.11 978.993 L1744.61 1021.42 L1769.11 978.993 L1720.11 978.993  Z\" fill=\"#ff00ff\" fill-rule=\"evenodd\" fill-opacity=\"1\"/>\n",
       "<polyline clip-path=\"url(#clip532)\" style=\"stroke:#000000; stroke-linecap:round; stroke-linejoin:round; stroke-width:4; stroke-opacity:1; fill:none\" points=\"1720.11,978.993 1744.61,1021.42 1769.11,978.993 1720.11,978.993 \"/>\n",
       "<path clip-path=\"url(#clip532)\" d=\"M1744.61 936.563 L1720.11 978.993 L1769.11 978.993 L1744.61 936.563  Z\" fill=\"#ffff00\" fill-rule=\"evenodd\" fill-opacity=\"1\"/>\n",
       "<polyline clip-path=\"url(#clip532)\" style=\"stroke:#000000; stroke-linecap:round; stroke-linejoin:round; stroke-width:4; stroke-opacity:1; fill:none\" points=\"1744.61,936.563 1720.11,978.993 1769.11,978.993 1744.61,936.563 \"/>\n",
       "<path clip-path=\"url(#clip532)\" d=\"M1695.62 1021.42 L1744.61 1021.42 L1720.11 978.993 L1695.62 1021.42  Z\" fill=\"#ffff00\" fill-rule=\"evenodd\" fill-opacity=\"1\"/>\n",
       "<polyline clip-path=\"url(#clip532)\" style=\"stroke:#000000; stroke-linecap:round; stroke-linejoin:round; stroke-width:4; stroke-opacity:1; fill:none\" points=\"1695.62,1021.42 1744.61,1021.42 1720.11,978.993 1695.62,1021.42 \"/>\n",
       "<path clip-path=\"url(#clip532)\" d=\"M1793.6 1021.42 L1769.11 978.993 L1744.61 1021.42 L1793.6 1021.42  Z\" fill=\"#ffff00\" fill-rule=\"evenodd\" fill-opacity=\"1\"/>\n",
       "<polyline clip-path=\"url(#clip532)\" style=\"stroke:#000000; stroke-linecap:round; stroke-linejoin:round; stroke-width:4; stroke-opacity:1; fill:none\" points=\"1793.6,1021.42 1769.11,978.993 1744.61,1021.42 1793.6,1021.42 \"/>\n",
       "<path clip-path=\"url(#clip532)\" d=\"M1695.62 1106.28 L1720.11 1063.85 L1671.12 1063.85 L1695.62 1106.28  Z\" fill=\"#ff00ff\" fill-rule=\"evenodd\" fill-opacity=\"1\"/>\n",
       "<polyline clip-path=\"url(#clip532)\" style=\"stroke:#000000; stroke-linecap:round; stroke-linejoin:round; stroke-width:4; stroke-opacity:1; fill:none\" points=\"1695.62,1106.28 1720.11,1063.85 1671.12,1063.85 1695.62,1106.28 \"/>\n",
       "<path clip-path=\"url(#clip532)\" d=\"M1646.62 1106.28 L1695.62 1106.28 L1671.12 1063.85 L1646.62 1106.28  Z\" fill=\"#ffff00\" fill-rule=\"evenodd\" fill-opacity=\"1\"/>\n",
       "<polyline clip-path=\"url(#clip532)\" style=\"stroke:#000000; stroke-linecap:round; stroke-linejoin:round; stroke-width:4; stroke-opacity:1; fill:none\" points=\"1646.62,1106.28 1695.62,1106.28 1671.12,1063.85 1646.62,1106.28 \"/>\n",
       "<path clip-path=\"url(#clip532)\" d=\"M1744.61 1106.28 L1720.11 1063.85 L1695.62 1106.28 L1744.61 1106.28  Z\" fill=\"#ffff00\" fill-rule=\"evenodd\" fill-opacity=\"1\"/>\n",
       "<polyline clip-path=\"url(#clip532)\" style=\"stroke:#000000; stroke-linecap:round; stroke-linejoin:round; stroke-width:4; stroke-opacity:1; fill:none\" points=\"1744.61,1106.28 1720.11,1063.85 1695.62,1106.28 1744.61,1106.28 \"/>\n",
       "<path clip-path=\"url(#clip532)\" d=\"M1695.62 1021.42 L1671.12 1063.85 L1720.11 1063.85 L1695.62 1021.42  Z\" fill=\"#ffff00\" fill-rule=\"evenodd\" fill-opacity=\"1\"/>\n",
       "<polyline clip-path=\"url(#clip532)\" style=\"stroke:#000000; stroke-linecap:round; stroke-linejoin:round; stroke-width:4; stroke-opacity:1; fill:none\" points=\"1695.62,1021.42 1671.12,1063.85 1720.11,1063.85 1695.62,1021.42 \"/>\n",
       "<path clip-path=\"url(#clip532)\" d=\"M1450.65 1445.72 L1548.64 1276 L1352.66 1276 L1450.65 1445.72  Z\" fill=\"#ff00ff\" fill-rule=\"evenodd\" fill-opacity=\"1\"/>\n",
       "<polyline clip-path=\"url(#clip532)\" style=\"stroke:#000000; stroke-linecap:round; stroke-linejoin:round; stroke-width:4; stroke-opacity:1; fill:none\" points=\"1450.65,1445.72 1548.64,1276 1352.66,1276 1450.65,1445.72 \"/>\n",
       "<path clip-path=\"url(#clip532)\" d=\"M1352.66 1445.72 L1401.66 1360.86 L1303.67 1360.86 L1352.66 1445.72  Z\" fill=\"#ff00ff\" fill-rule=\"evenodd\" fill-opacity=\"1\"/>\n",
       "<polyline clip-path=\"url(#clip532)\" style=\"stroke:#000000; stroke-linecap:round; stroke-linejoin:round; stroke-width:4; stroke-opacity:1; fill:none\" points=\"1352.66,1445.72 1401.66,1360.86 1303.67,1360.86 1352.66,1445.72 \"/>\n",
       "<path clip-path=\"url(#clip532)\" d=\"M1303.67 1445.72 L1328.17 1403.29 L1279.17 1403.29 L1303.67 1445.72  Z\" fill=\"#ff00ff\" fill-rule=\"evenodd\" fill-opacity=\"1\"/>\n",
       "<polyline clip-path=\"url(#clip532)\" style=\"stroke:#000000; stroke-linecap:round; stroke-linejoin:round; stroke-width:4; stroke-opacity:1; fill:none\" points=\"1303.67,1445.72 1328.17,1403.29 1279.17,1403.29 1303.67,1445.72 \"/>\n",
       "<path clip-path=\"url(#clip532)\" d=\"M1254.68 1445.72 L1303.67 1445.72 L1279.17 1403.29 L1254.68 1445.72  Z\" fill=\"#ffff00\" fill-rule=\"evenodd\" fill-opacity=\"1\"/>\n",
       "<polyline clip-path=\"url(#clip532)\" style=\"stroke:#000000; stroke-linecap:round; stroke-linejoin:round; stroke-width:4; stroke-opacity:1; fill:none\" points=\"1254.68,1445.72 1303.67,1445.72 1279.17,1403.29 1254.68,1445.72 \"/>\n",
       "<path clip-path=\"url(#clip532)\" d=\"M1352.66 1445.72 L1328.17 1403.29 L1303.67 1445.72 L1352.66 1445.72  Z\" fill=\"#ffff00\" fill-rule=\"evenodd\" fill-opacity=\"1\"/>\n",
       "<polyline clip-path=\"url(#clip532)\" style=\"stroke:#000000; stroke-linecap:round; stroke-linejoin:round; stroke-width:4; stroke-opacity:1; fill:none\" points=\"1352.66,1445.72 1328.17,1403.29 1303.67,1445.72 1352.66,1445.72 \"/>\n",
       "<path clip-path=\"url(#clip532)\" d=\"M1303.67 1360.86 L1279.17 1403.29 L1328.17 1403.29 L1303.67 1360.86  Z\" fill=\"#ffff00\" fill-rule=\"evenodd\" fill-opacity=\"1\"/>\n",
       "<polyline clip-path=\"url(#clip532)\" style=\"stroke:#000000; stroke-linecap:round; stroke-linejoin:round; stroke-width:4; stroke-opacity:1; fill:none\" points=\"1303.67,1360.86 1279.17,1403.29 1328.17,1403.29 1303.67,1360.86 \"/>\n",
       "<path clip-path=\"url(#clip532)\" d=\"M1426.15 1403.29 L1377.16 1403.29 L1401.66 1445.72 L1426.15 1403.29  Z\" fill=\"#ff00ff\" fill-rule=\"evenodd\" fill-opacity=\"1\"/>\n",
       "<polyline clip-path=\"url(#clip532)\" style=\"stroke:#000000; stroke-linecap:round; stroke-linejoin:round; stroke-width:4; stroke-opacity:1; fill:none\" points=\"1426.15,1403.29 1377.16,1403.29 1401.66,1445.72 1426.15,1403.29 \"/>\n",
       "<path clip-path=\"url(#clip532)\" d=\"M1450.65 1445.72 L1426.15 1403.29 L1401.66 1445.72 L1450.65 1445.72  Z\" fill=\"#ffff00\" fill-rule=\"evenodd\" fill-opacity=\"1\"/>\n",
       "<polyline clip-path=\"url(#clip532)\" style=\"stroke:#000000; stroke-linecap:round; stroke-linejoin:round; stroke-width:4; stroke-opacity:1; fill:none\" points=\"1450.65,1445.72 1426.15,1403.29 1401.66,1445.72 1450.65,1445.72 \"/>\n",
       "<path clip-path=\"url(#clip532)\" d=\"M1401.66 1360.86 L1377.16 1403.29 L1426.15 1403.29 L1401.66 1360.86  Z\" fill=\"#ffff00\" fill-rule=\"evenodd\" fill-opacity=\"1\"/>\n",
       "<polyline clip-path=\"url(#clip532)\" style=\"stroke:#000000; stroke-linecap:round; stroke-linejoin:round; stroke-width:4; stroke-opacity:1; fill:none\" points=\"1401.66,1360.86 1377.16,1403.29 1426.15,1403.29 1401.66,1360.86 \"/>\n",
       "<path clip-path=\"url(#clip532)\" d=\"M1352.66 1445.72 L1401.66 1445.72 L1377.16 1403.29 L1352.66 1445.72  Z\" fill=\"#ffff00\" fill-rule=\"evenodd\" fill-opacity=\"1\"/>\n",
       "<polyline clip-path=\"url(#clip532)\" style=\"stroke:#000000; stroke-linecap:round; stroke-linejoin:round; stroke-width:4; stroke-opacity:1; fill:none\" points=\"1352.66,1445.72 1401.66,1445.72 1377.16,1403.29 1352.66,1445.72 \"/>\n",
       "<path clip-path=\"url(#clip532)\" d=\"M1328.17 1318.43 L1352.66 1360.86 L1377.16 1318.43 L1328.17 1318.43  Z\" fill=\"#ff00ff\" fill-rule=\"evenodd\" fill-opacity=\"1\"/>\n",
       "<polyline clip-path=\"url(#clip532)\" style=\"stroke:#000000; stroke-linecap:round; stroke-linejoin:round; stroke-width:4; stroke-opacity:1; fill:none\" points=\"1328.17,1318.43 1352.66,1360.86 1377.16,1318.43 1328.17,1318.43 \"/>\n",
       "<path clip-path=\"url(#clip532)\" d=\"M1352.66 1276 L1328.17 1318.43 L1377.16 1318.43 L1352.66 1276  Z\" fill=\"#ffff00\" fill-rule=\"evenodd\" fill-opacity=\"1\"/>\n",
       "<polyline clip-path=\"url(#clip532)\" style=\"stroke:#000000; stroke-linecap:round; stroke-linejoin:round; stroke-width:4; stroke-opacity:1; fill:none\" points=\"1352.66,1276 1328.17,1318.43 1377.16,1318.43 1352.66,1276 \"/>\n",
       "<path clip-path=\"url(#clip532)\" d=\"M1303.67 1360.86 L1352.66 1360.86 L1328.17 1318.43 L1303.67 1360.86  Z\" fill=\"#ffff00\" fill-rule=\"evenodd\" fill-opacity=\"1\"/>\n",
       "<polyline clip-path=\"url(#clip532)\" style=\"stroke:#000000; stroke-linecap:round; stroke-linejoin:round; stroke-width:4; stroke-opacity:1; fill:none\" points=\"1303.67,1360.86 1352.66,1360.86 1328.17,1318.43 1303.67,1360.86 \"/>\n",
       "<path clip-path=\"url(#clip532)\" d=\"M1401.66 1360.86 L1377.16 1318.43 L1352.66 1360.86 L1401.66 1360.86  Z\" fill=\"#ffff00\" fill-rule=\"evenodd\" fill-opacity=\"1\"/>\n",
       "<polyline clip-path=\"url(#clip532)\" style=\"stroke:#000000; stroke-linecap:round; stroke-linejoin:round; stroke-width:4; stroke-opacity:1; fill:none\" points=\"1401.66,1360.86 1377.16,1318.43 1352.66,1360.86 1401.66,1360.86 \"/>\n",
       "<path clip-path=\"url(#clip532)\" d=\"M1597.63 1360.86 L1499.64 1360.86 L1548.64 1445.72 L1597.63 1360.86  Z\" fill=\"#ff00ff\" fill-rule=\"evenodd\" fill-opacity=\"1\"/>\n",
       "<polyline clip-path=\"url(#clip532)\" style=\"stroke:#000000; stroke-linecap:round; stroke-linejoin:round; stroke-width:4; stroke-opacity:1; fill:none\" points=\"1597.63,1360.86 1499.64,1360.86 1548.64,1445.72 1597.63,1360.86 \"/>\n",
       "<path clip-path=\"url(#clip532)\" d=\"M1622.13 1403.29 L1573.13 1403.29 L1597.63 1445.72 L1622.13 1403.29  Z\" fill=\"#ff00ff\" fill-rule=\"evenodd\" fill-opacity=\"1\"/>\n",
       "<polyline clip-path=\"url(#clip532)\" style=\"stroke:#000000; stroke-linecap:round; stroke-linejoin:round; stroke-width:4; stroke-opacity:1; fill:none\" points=\"1622.13,1403.29 1573.13,1403.29 1597.63,1445.72 1622.13,1403.29 \"/>\n",
       "<path clip-path=\"url(#clip532)\" d=\"M1646.62 1445.72 L1622.13 1403.29 L1597.63 1445.72 L1646.62 1445.72  Z\" fill=\"#ffff00\" fill-rule=\"evenodd\" fill-opacity=\"1\"/>\n",
       "<polyline clip-path=\"url(#clip532)\" style=\"stroke:#000000; stroke-linecap:round; stroke-linejoin:round; stroke-width:4; stroke-opacity:1; fill:none\" points=\"1646.62,1445.72 1622.13,1403.29 1597.63,1445.72 1646.62,1445.72 \"/>\n",
       "<path clip-path=\"url(#clip532)\" d=\"M1597.63 1360.86 L1573.13 1403.29 L1622.13 1403.29 L1597.63 1360.86  Z\" fill=\"#ffff00\" fill-rule=\"evenodd\" fill-opacity=\"1\"/>\n",
       "<polyline clip-path=\"url(#clip532)\" style=\"stroke:#000000; stroke-linecap:round; stroke-linejoin:round; stroke-width:4; stroke-opacity:1; fill:none\" points=\"1597.63,1360.86 1573.13,1403.29 1622.13,1403.29 1597.63,1360.86 \"/>\n",
       "<path clip-path=\"url(#clip532)\" d=\"M1548.64 1445.72 L1597.63 1445.72 L1573.13 1403.29 L1548.64 1445.72  Z\" fill=\"#ffff00\" fill-rule=\"evenodd\" fill-opacity=\"1\"/>\n",
       "<polyline clip-path=\"url(#clip532)\" style=\"stroke:#000000; stroke-linecap:round; stroke-linejoin:round; stroke-width:4; stroke-opacity:1; fill:none\" points=\"1548.64,1445.72 1597.63,1445.72 1573.13,1403.29 1548.64,1445.72 \"/>\n",
       "<path clip-path=\"url(#clip532)\" d=\"M1524.14 1318.43 L1548.64 1360.86 L1573.13 1318.43 L1524.14 1318.43  Z\" fill=\"#ff00ff\" fill-rule=\"evenodd\" fill-opacity=\"1\"/>\n",
       "<polyline clip-path=\"url(#clip532)\" style=\"stroke:#000000; stroke-linecap:round; stroke-linejoin:round; stroke-width:4; stroke-opacity:1; fill:none\" points=\"1524.14,1318.43 1548.64,1360.86 1573.13,1318.43 1524.14,1318.43 \"/>\n",
       "<path clip-path=\"url(#clip532)\" d=\"M1548.64 1276 L1524.14 1318.43 L1573.13 1318.43 L1548.64 1276  Z\" fill=\"#ffff00\" fill-rule=\"evenodd\" fill-opacity=\"1\"/>\n",
       "<polyline clip-path=\"url(#clip532)\" style=\"stroke:#000000; stroke-linecap:round; stroke-linejoin:round; stroke-width:4; stroke-opacity:1; fill:none\" points=\"1548.64,1276 1524.14,1318.43 1573.13,1318.43 1548.64,1276 \"/>\n",
       "<path clip-path=\"url(#clip532)\" d=\"M1499.64 1360.86 L1548.64 1360.86 L1524.14 1318.43 L1499.64 1360.86  Z\" fill=\"#ffff00\" fill-rule=\"evenodd\" fill-opacity=\"1\"/>\n",
       "<polyline clip-path=\"url(#clip532)\" style=\"stroke:#000000; stroke-linecap:round; stroke-linejoin:round; stroke-width:4; stroke-opacity:1; fill:none\" points=\"1499.64,1360.86 1548.64,1360.86 1524.14,1318.43 1499.64,1360.86 \"/>\n",
       "<path clip-path=\"url(#clip532)\" d=\"M1597.63 1360.86 L1573.13 1318.43 L1548.64 1360.86 L1597.63 1360.86  Z\" fill=\"#ffff00\" fill-rule=\"evenodd\" fill-opacity=\"1\"/>\n",
       "<polyline clip-path=\"url(#clip532)\" style=\"stroke:#000000; stroke-linecap:round; stroke-linejoin:round; stroke-width:4; stroke-opacity:1; fill:none\" points=\"1597.63,1360.86 1573.13,1318.43 1548.64,1360.86 1597.63,1360.86 \"/>\n",
       "<path clip-path=\"url(#clip532)\" d=\"M1499.64 1445.72 L1524.14 1403.29 L1475.15 1403.29 L1499.64 1445.72  Z\" fill=\"#ff00ff\" fill-rule=\"evenodd\" fill-opacity=\"1\"/>\n",
       "<polyline clip-path=\"url(#clip532)\" style=\"stroke:#000000; stroke-linecap:round; stroke-linejoin:round; stroke-width:4; stroke-opacity:1; fill:none\" points=\"1499.64,1445.72 1524.14,1403.29 1475.15,1403.29 1499.64,1445.72 \"/>\n",
       "<path clip-path=\"url(#clip532)\" d=\"M1450.65 1445.72 L1499.64 1445.72 L1475.15 1403.29 L1450.65 1445.72  Z\" fill=\"#ffff00\" fill-rule=\"evenodd\" fill-opacity=\"1\"/>\n",
       "<polyline clip-path=\"url(#clip532)\" style=\"stroke:#000000; stroke-linecap:round; stroke-linejoin:round; stroke-width:4; stroke-opacity:1; fill:none\" points=\"1450.65,1445.72 1499.64,1445.72 1475.15,1403.29 1450.65,1445.72 \"/>\n",
       "<path clip-path=\"url(#clip532)\" d=\"M1548.64 1445.72 L1524.14 1403.29 L1499.64 1445.72 L1548.64 1445.72  Z\" fill=\"#ffff00\" fill-rule=\"evenodd\" fill-opacity=\"1\"/>\n",
       "<polyline clip-path=\"url(#clip532)\" style=\"stroke:#000000; stroke-linecap:round; stroke-linejoin:round; stroke-width:4; stroke-opacity:1; fill:none\" points=\"1548.64,1445.72 1524.14,1403.29 1499.64,1445.72 1548.64,1445.72 \"/>\n",
       "<path clip-path=\"url(#clip532)\" d=\"M1499.64 1360.86 L1475.15 1403.29 L1524.14 1403.29 L1499.64 1360.86  Z\" fill=\"#ffff00\" fill-rule=\"evenodd\" fill-opacity=\"1\"/>\n",
       "<polyline clip-path=\"url(#clip532)\" style=\"stroke:#000000; stroke-linecap:round; stroke-linejoin:round; stroke-width:4; stroke-opacity:1; fill:none\" points=\"1499.64,1360.86 1475.15,1403.29 1524.14,1403.29 1499.64,1360.86 \"/>\n",
       "<path clip-path=\"url(#clip532)\" d=\"M1401.66 1191.14 L1450.65 1276 L1499.64 1191.14 L1401.66 1191.14  Z\" fill=\"#ff00ff\" fill-rule=\"evenodd\" fill-opacity=\"1\"/>\n",
       "<polyline clip-path=\"url(#clip532)\" style=\"stroke:#000000; stroke-linecap:round; stroke-linejoin:round; stroke-width:4; stroke-opacity:1; fill:none\" points=\"1401.66,1191.14 1450.65,1276 1499.64,1191.14 1401.66,1191.14 \"/>\n",
       "<path clip-path=\"url(#clip532)\" d=\"M1426.15 1148.71 L1450.65 1191.14 L1475.15 1148.71 L1426.15 1148.71  Z\" fill=\"#ff00ff\" fill-rule=\"evenodd\" fill-opacity=\"1\"/>\n",
       "<polyline clip-path=\"url(#clip532)\" style=\"stroke:#000000; stroke-linecap:round; stroke-linejoin:round; stroke-width:4; stroke-opacity:1; fill:none\" points=\"1426.15,1148.71 1450.65,1191.14 1475.15,1148.71 1426.15,1148.71 \"/>\n",
       "<path clip-path=\"url(#clip532)\" d=\"M1450.65 1106.28 L1426.15 1148.71 L1475.15 1148.71 L1450.65 1106.28  Z\" fill=\"#ffff00\" fill-rule=\"evenodd\" fill-opacity=\"1\"/>\n",
       "<polyline clip-path=\"url(#clip532)\" style=\"stroke:#000000; stroke-linecap:round; stroke-linejoin:round; stroke-width:4; stroke-opacity:1; fill:none\" points=\"1450.65,1106.28 1426.15,1148.71 1475.15,1148.71 1450.65,1106.28 \"/>\n",
       "<path clip-path=\"url(#clip532)\" d=\"M1401.66 1191.14 L1450.65 1191.14 L1426.15 1148.71 L1401.66 1191.14  Z\" fill=\"#ffff00\" fill-rule=\"evenodd\" fill-opacity=\"1\"/>\n",
       "<polyline clip-path=\"url(#clip532)\" style=\"stroke:#000000; stroke-linecap:round; stroke-linejoin:round; stroke-width:4; stroke-opacity:1; fill:none\" points=\"1401.66,1191.14 1450.65,1191.14 1426.15,1148.71 1401.66,1191.14 \"/>\n",
       "<path clip-path=\"url(#clip532)\" d=\"M1499.64 1191.14 L1475.15 1148.71 L1450.65 1191.14 L1499.64 1191.14  Z\" fill=\"#ffff00\" fill-rule=\"evenodd\" fill-opacity=\"1\"/>\n",
       "<polyline clip-path=\"url(#clip532)\" style=\"stroke:#000000; stroke-linecap:round; stroke-linejoin:round; stroke-width:4; stroke-opacity:1; fill:none\" points=\"1499.64,1191.14 1475.15,1148.71 1450.65,1191.14 1499.64,1191.14 \"/>\n",
       "<path clip-path=\"url(#clip532)\" d=\"M1401.66 1276 L1426.15 1233.57 L1377.16 1233.57 L1401.66 1276  Z\" fill=\"#ff00ff\" fill-rule=\"evenodd\" fill-opacity=\"1\"/>\n",
       "<polyline clip-path=\"url(#clip532)\" style=\"stroke:#000000; stroke-linecap:round; stroke-linejoin:round; stroke-width:4; stroke-opacity:1; fill:none\" points=\"1401.66,1276 1426.15,1233.57 1377.16,1233.57 1401.66,1276 \"/>\n",
       "<path clip-path=\"url(#clip532)\" d=\"M1352.66 1276 L1401.66 1276 L1377.16 1233.57 L1352.66 1276  Z\" fill=\"#ffff00\" fill-rule=\"evenodd\" fill-opacity=\"1\"/>\n",
       "<polyline clip-path=\"url(#clip532)\" style=\"stroke:#000000; stroke-linecap:round; stroke-linejoin:round; stroke-width:4; stroke-opacity:1; fill:none\" points=\"1352.66,1276 1401.66,1276 1377.16,1233.57 1352.66,1276 \"/>\n",
       "<path clip-path=\"url(#clip532)\" d=\"M1450.65 1276 L1426.15 1233.57 L1401.66 1276 L1450.65 1276  Z\" fill=\"#ffff00\" fill-rule=\"evenodd\" fill-opacity=\"1\"/>\n",
       "<polyline clip-path=\"url(#clip532)\" style=\"stroke:#000000; stroke-linecap:round; stroke-linejoin:round; stroke-width:4; stroke-opacity:1; fill:none\" points=\"1450.65,1276 1426.15,1233.57 1401.66,1276 1450.65,1276 \"/>\n",
       "<path clip-path=\"url(#clip532)\" d=\"M1401.66 1191.14 L1377.16 1233.57 L1426.15 1233.57 L1401.66 1191.14  Z\" fill=\"#ffff00\" fill-rule=\"evenodd\" fill-opacity=\"1\"/>\n",
       "<polyline clip-path=\"url(#clip532)\" style=\"stroke:#000000; stroke-linecap:round; stroke-linejoin:round; stroke-width:4; stroke-opacity:1; fill:none\" points=\"1401.66,1191.14 1377.16,1233.57 1426.15,1233.57 1401.66,1191.14 \"/>\n",
       "<path clip-path=\"url(#clip532)\" d=\"M1524.14 1233.57 L1475.15 1233.57 L1499.64 1276 L1524.14 1233.57  Z\" fill=\"#ff00ff\" fill-rule=\"evenodd\" fill-opacity=\"1\"/>\n",
       "<polyline clip-path=\"url(#clip532)\" style=\"stroke:#000000; stroke-linecap:round; stroke-linejoin:round; stroke-width:4; stroke-opacity:1; fill:none\" points=\"1524.14,1233.57 1475.15,1233.57 1499.64,1276 1524.14,1233.57 \"/>\n",
       "<path clip-path=\"url(#clip532)\" d=\"M1548.64 1276 L1524.14 1233.57 L1499.64 1276 L1548.64 1276  Z\" fill=\"#ffff00\" fill-rule=\"evenodd\" fill-opacity=\"1\"/>\n",
       "<polyline clip-path=\"url(#clip532)\" style=\"stroke:#000000; stroke-linecap:round; stroke-linejoin:round; stroke-width:4; stroke-opacity:1; fill:none\" points=\"1548.64,1276 1524.14,1233.57 1499.64,1276 1548.64,1276 \"/>\n",
       "<path clip-path=\"url(#clip532)\" d=\"M1499.64 1191.14 L1475.15 1233.57 L1524.14 1233.57 L1499.64 1191.14  Z\" fill=\"#ffff00\" fill-rule=\"evenodd\" fill-opacity=\"1\"/>\n",
       "<polyline clip-path=\"url(#clip532)\" style=\"stroke:#000000; stroke-linecap:round; stroke-linejoin:round; stroke-width:4; stroke-opacity:1; fill:none\" points=\"1499.64,1191.14 1475.15,1233.57 1524.14,1233.57 1499.64,1191.14 \"/>\n",
       "<path clip-path=\"url(#clip532)\" d=\"M1450.65 1276 L1499.64 1276 L1475.15 1233.57 L1450.65 1276  Z\" fill=\"#ffff00\" fill-rule=\"evenodd\" fill-opacity=\"1\"/>\n",
       "<polyline clip-path=\"url(#clip532)\" style=\"stroke:#000000; stroke-linecap:round; stroke-linejoin:round; stroke-width:4; stroke-opacity:1; fill:none\" points=\"1450.65,1276 1499.64,1276 1475.15,1233.57 1450.65,1276 \"/>\n",
       "<path clip-path=\"url(#clip532)\" d=\"M1058.7 427.411 L1254.68 766.846 L1450.65 427.411 L1058.7 427.411  Z\" fill=\"#ff00ff\" fill-rule=\"evenodd\" fill-opacity=\"1\"/>\n",
       "<polyline clip-path=\"url(#clip532)\" style=\"stroke:#000000; stroke-linecap:round; stroke-linejoin:round; stroke-width:4; stroke-opacity:1; fill:none\" points=\"1058.7,427.411 1254.68,766.846 1450.65,427.411 1058.7,427.411 \"/>\n",
       "<path clip-path=\"url(#clip532)\" d=\"M1156.69 257.694 L1254.68 427.411 L1352.66 257.694 L1156.69 257.694  Z\" fill=\"#ff00ff\" fill-rule=\"evenodd\" fill-opacity=\"1\"/>\n",
       "<polyline clip-path=\"url(#clip532)\" style=\"stroke:#000000; stroke-linecap:round; stroke-linejoin:round; stroke-width:4; stroke-opacity:1; fill:none\" points=\"1156.69,257.694 1254.68,427.411 1352.66,257.694 1156.69,257.694 \"/>\n",
       "<path clip-path=\"url(#clip532)\" d=\"M1205.68 172.835 L1254.68 257.694 L1303.67 172.835 L1205.68 172.835  Z\" fill=\"#ff00ff\" fill-rule=\"evenodd\" fill-opacity=\"1\"/>\n",
       "<polyline clip-path=\"url(#clip532)\" style=\"stroke:#000000; stroke-linecap:round; stroke-linejoin:round; stroke-width:4; stroke-opacity:1; fill:none\" points=\"1205.68,172.835 1254.68,257.694 1303.67,172.835 1205.68,172.835 \"/>\n",
       "<path clip-path=\"url(#clip532)\" d=\"M1230.18 130.406 L1254.68 172.835 L1279.17 130.406 L1230.18 130.406  Z\" fill=\"#ff00ff\" fill-rule=\"evenodd\" fill-opacity=\"1\"/>\n",
       "<polyline clip-path=\"url(#clip532)\" style=\"stroke:#000000; stroke-linecap:round; stroke-linejoin:round; stroke-width:4; stroke-opacity:1; fill:none\" points=\"1230.18,130.406 1254.68,172.835 1279.17,130.406 1230.18,130.406 \"/>\n",
       "<path clip-path=\"url(#clip532)\" d=\"M1254.68 87.9763 L1230.18 130.406 L1279.17 130.406 L1254.68 87.9763  Z\" fill=\"#ffff00\" fill-rule=\"evenodd\" fill-opacity=\"1\"/>\n",
       "<polyline clip-path=\"url(#clip532)\" style=\"stroke:#000000; stroke-linecap:round; stroke-linejoin:round; stroke-width:4; stroke-opacity:1; fill:none\" points=\"1254.68,87.9763 1230.18,130.406 1279.17,130.406 1254.68,87.9763 \"/>\n",
       "<path clip-path=\"url(#clip532)\" d=\"M1205.68 172.835 L1254.68 172.835 L1230.18 130.406 L1205.68 172.835  Z\" fill=\"#ffff00\" fill-rule=\"evenodd\" fill-opacity=\"1\"/>\n",
       "<polyline clip-path=\"url(#clip532)\" style=\"stroke:#000000; stroke-linecap:round; stroke-linejoin:round; stroke-width:4; stroke-opacity:1; fill:none\" points=\"1205.68,172.835 1254.68,172.835 1230.18,130.406 1205.68,172.835 \"/>\n",
       "<path clip-path=\"url(#clip532)\" d=\"M1303.67 172.835 L1279.17 130.406 L1254.68 172.835 L1303.67 172.835  Z\" fill=\"#ffff00\" fill-rule=\"evenodd\" fill-opacity=\"1\"/>\n",
       "<polyline clip-path=\"url(#clip532)\" style=\"stroke:#000000; stroke-linecap:round; stroke-linejoin:round; stroke-width:4; stroke-opacity:1; fill:none\" points=\"1303.67,172.835 1279.17,130.406 1254.68,172.835 1303.67,172.835 \"/>\n",
       "<path clip-path=\"url(#clip532)\" d=\"M1205.68 257.694 L1230.18 215.264 L1181.19 215.264 L1205.68 257.694  Z\" fill=\"#ff00ff\" fill-rule=\"evenodd\" fill-opacity=\"1\"/>\n",
       "<polyline clip-path=\"url(#clip532)\" style=\"stroke:#000000; stroke-linecap:round; stroke-linejoin:round; stroke-width:4; stroke-opacity:1; fill:none\" points=\"1205.68,257.694 1230.18,215.264 1181.19,215.264 1205.68,257.694 \"/>\n",
       "<path clip-path=\"url(#clip532)\" d=\"M1156.69 257.694 L1205.68 257.694 L1181.19 215.264 L1156.69 257.694  Z\" fill=\"#ffff00\" fill-rule=\"evenodd\" fill-opacity=\"1\"/>\n",
       "<polyline clip-path=\"url(#clip532)\" style=\"stroke:#000000; stroke-linecap:round; stroke-linejoin:round; stroke-width:4; stroke-opacity:1; fill:none\" points=\"1156.69,257.694 1205.68,257.694 1181.19,215.264 1156.69,257.694 \"/>\n",
       "<path clip-path=\"url(#clip532)\" d=\"M1254.68 257.694 L1230.18 215.264 L1205.68 257.694 L1254.68 257.694  Z\" fill=\"#ffff00\" fill-rule=\"evenodd\" fill-opacity=\"1\"/>\n",
       "<polyline clip-path=\"url(#clip532)\" style=\"stroke:#000000; stroke-linecap:round; stroke-linejoin:round; stroke-width:4; stroke-opacity:1; fill:none\" points=\"1254.68,257.694 1230.18,215.264 1205.68,257.694 1254.68,257.694 \"/>\n",
       "<path clip-path=\"url(#clip532)\" d=\"M1205.68 172.835 L1181.19 215.264 L1230.18 215.264 L1205.68 172.835  Z\" fill=\"#ffff00\" fill-rule=\"evenodd\" fill-opacity=\"1\"/>\n",
       "<polyline clip-path=\"url(#clip532)\" style=\"stroke:#000000; stroke-linecap:round; stroke-linejoin:round; stroke-width:4; stroke-opacity:1; fill:none\" points=\"1205.68,172.835 1181.19,215.264 1230.18,215.264 1205.68,172.835 \"/>\n",
       "<path clip-path=\"url(#clip532)\" d=\"M1328.17 215.264 L1279.17 215.264 L1303.67 257.694 L1328.17 215.264  Z\" fill=\"#ff00ff\" fill-rule=\"evenodd\" fill-opacity=\"1\"/>\n",
       "<polyline clip-path=\"url(#clip532)\" style=\"stroke:#000000; stroke-linecap:round; stroke-linejoin:round; stroke-width:4; stroke-opacity:1; fill:none\" points=\"1328.17,215.264 1279.17,215.264 1303.67,257.694 1328.17,215.264 \"/>\n",
       "<path clip-path=\"url(#clip532)\" d=\"M1352.66 257.694 L1328.17 215.264 L1303.67 257.694 L1352.66 257.694  Z\" fill=\"#ffff00\" fill-rule=\"evenodd\" fill-opacity=\"1\"/>\n",
       "<polyline clip-path=\"url(#clip532)\" style=\"stroke:#000000; stroke-linecap:round; stroke-linejoin:round; stroke-width:4; stroke-opacity:1; fill:none\" points=\"1352.66,257.694 1328.17,215.264 1303.67,257.694 1352.66,257.694 \"/>\n",
       "<path clip-path=\"url(#clip532)\" d=\"M1303.67 172.835 L1279.17 215.264 L1328.17 215.264 L1303.67 172.835  Z\" fill=\"#ffff00\" fill-rule=\"evenodd\" fill-opacity=\"1\"/>\n",
       "<polyline clip-path=\"url(#clip532)\" style=\"stroke:#000000; stroke-linecap:round; stroke-linejoin:round; stroke-width:4; stroke-opacity:1; fill:none\" points=\"1303.67,172.835 1279.17,215.264 1328.17,215.264 1303.67,172.835 \"/>\n",
       "<path clip-path=\"url(#clip532)\" d=\"M1254.68 257.694 L1303.67 257.694 L1279.17 215.264 L1254.68 257.694  Z\" fill=\"#ffff00\" fill-rule=\"evenodd\" fill-opacity=\"1\"/>\n",
       "<polyline clip-path=\"url(#clip532)\" style=\"stroke:#000000; stroke-linecap:round; stroke-linejoin:round; stroke-width:4; stroke-opacity:1; fill:none\" points=\"1254.68,257.694 1303.67,257.694 1279.17,215.264 1254.68,257.694 \"/>\n",
       "<path clip-path=\"url(#clip532)\" d=\"M1156.69 427.411 L1205.68 342.552 L1107.7 342.552 L1156.69 427.411  Z\" fill=\"#ff00ff\" fill-rule=\"evenodd\" fill-opacity=\"1\"/>\n",
       "<polyline clip-path=\"url(#clip532)\" style=\"stroke:#000000; stroke-linecap:round; stroke-linejoin:round; stroke-width:4; stroke-opacity:1; fill:none\" points=\"1156.69,427.411 1205.68,342.552 1107.7,342.552 1156.69,427.411 \"/>\n",
       "<path clip-path=\"url(#clip532)\" d=\"M1107.7 427.411 L1132.19 384.982 L1083.2 384.982 L1107.7 427.411  Z\" fill=\"#ff00ff\" fill-rule=\"evenodd\" fill-opacity=\"1\"/>\n",
       "<polyline clip-path=\"url(#clip532)\" style=\"stroke:#000000; stroke-linecap:round; stroke-linejoin:round; stroke-width:4; stroke-opacity:1; fill:none\" points=\"1107.7,427.411 1132.19,384.982 1083.2,384.982 1107.7,427.411 \"/>\n",
       "<path clip-path=\"url(#clip532)\" d=\"M1058.7 427.411 L1107.7 427.411 L1083.2 384.982 L1058.7 427.411  Z\" fill=\"#ffff00\" fill-rule=\"evenodd\" fill-opacity=\"1\"/>\n",
       "<polyline clip-path=\"url(#clip532)\" style=\"stroke:#000000; stroke-linecap:round; stroke-linejoin:round; stroke-width:4; stroke-opacity:1; fill:none\" points=\"1058.7,427.411 1107.7,427.411 1083.2,384.982 1058.7,427.411 \"/>\n",
       "<path clip-path=\"url(#clip532)\" d=\"M1156.69 427.411 L1132.19 384.982 L1107.7 427.411 L1156.69 427.411  Z\" fill=\"#ffff00\" fill-rule=\"evenodd\" fill-opacity=\"1\"/>\n",
       "<polyline clip-path=\"url(#clip532)\" style=\"stroke:#000000; stroke-linecap:round; stroke-linejoin:round; stroke-width:4; stroke-opacity:1; fill:none\" points=\"1156.69,427.411 1132.19,384.982 1107.7,427.411 1156.69,427.411 \"/>\n",
       "<path clip-path=\"url(#clip532)\" d=\"M1107.7 342.552 L1083.2 384.982 L1132.19 384.982 L1107.7 342.552  Z\" fill=\"#ffff00\" fill-rule=\"evenodd\" fill-opacity=\"1\"/>\n",
       "<polyline clip-path=\"url(#clip532)\" style=\"stroke:#000000; stroke-linecap:round; stroke-linejoin:round; stroke-width:4; stroke-opacity:1; fill:none\" points=\"1107.7,342.552 1083.2,384.982 1132.19,384.982 1107.7,342.552 \"/>\n",
       "<path clip-path=\"url(#clip532)\" d=\"M1230.18 384.982 L1181.19 384.982 L1205.68 427.411 L1230.18 384.982  Z\" fill=\"#ff00ff\" fill-rule=\"evenodd\" fill-opacity=\"1\"/>\n",
       "<polyline clip-path=\"url(#clip532)\" style=\"stroke:#000000; stroke-linecap:round; stroke-linejoin:round; stroke-width:4; stroke-opacity:1; fill:none\" points=\"1230.18,384.982 1181.19,384.982 1205.68,427.411 1230.18,384.982 \"/>\n",
       "<path clip-path=\"url(#clip532)\" d=\"M1254.68 427.411 L1230.18 384.982 L1205.68 427.411 L1254.68 427.411  Z\" fill=\"#ffff00\" fill-rule=\"evenodd\" fill-opacity=\"1\"/>\n",
       "<polyline clip-path=\"url(#clip532)\" style=\"stroke:#000000; stroke-linecap:round; stroke-linejoin:round; stroke-width:4; stroke-opacity:1; fill:none\" points=\"1254.68,427.411 1230.18,384.982 1205.68,427.411 1254.68,427.411 \"/>\n",
       "<path clip-path=\"url(#clip532)\" d=\"M1205.68 342.552 L1181.19 384.982 L1230.18 384.982 L1205.68 342.552  Z\" fill=\"#ffff00\" fill-rule=\"evenodd\" fill-opacity=\"1\"/>\n",
       "<polyline clip-path=\"url(#clip532)\" style=\"stroke:#000000; stroke-linecap:round; stroke-linejoin:round; stroke-width:4; stroke-opacity:1; fill:none\" points=\"1205.68,342.552 1181.19,384.982 1230.18,384.982 1205.68,342.552 \"/>\n",
       "<path clip-path=\"url(#clip532)\" d=\"M1156.69 427.411 L1205.68 427.411 L1181.19 384.982 L1156.69 427.411  Z\" fill=\"#ffff00\" fill-rule=\"evenodd\" fill-opacity=\"1\"/>\n",
       "<polyline clip-path=\"url(#clip532)\" style=\"stroke:#000000; stroke-linecap:round; stroke-linejoin:round; stroke-width:4; stroke-opacity:1; fill:none\" points=\"1156.69,427.411 1205.68,427.411 1181.19,384.982 1156.69,427.411 \"/>\n",
       "<path clip-path=\"url(#clip532)\" d=\"M1132.19 300.123 L1156.69 342.552 L1181.19 300.123 L1132.19 300.123  Z\" fill=\"#ff00ff\" fill-rule=\"evenodd\" fill-opacity=\"1\"/>\n",
       "<polyline clip-path=\"url(#clip532)\" style=\"stroke:#000000; stroke-linecap:round; stroke-linejoin:round; stroke-width:4; stroke-opacity:1; fill:none\" points=\"1132.19,300.123 1156.69,342.552 1181.19,300.123 1132.19,300.123 \"/>\n",
       "<path clip-path=\"url(#clip532)\" d=\"M1156.69 257.694 L1132.19 300.123 L1181.19 300.123 L1156.69 257.694  Z\" fill=\"#ffff00\" fill-rule=\"evenodd\" fill-opacity=\"1\"/>\n",
       "<polyline clip-path=\"url(#clip532)\" style=\"stroke:#000000; stroke-linecap:round; stroke-linejoin:round; stroke-width:4; stroke-opacity:1; fill:none\" points=\"1156.69,257.694 1132.19,300.123 1181.19,300.123 1156.69,257.694 \"/>\n",
       "<path clip-path=\"url(#clip532)\" d=\"M1107.7 342.552 L1156.69 342.552 L1132.19 300.123 L1107.7 342.552  Z\" fill=\"#ffff00\" fill-rule=\"evenodd\" fill-opacity=\"1\"/>\n",
       "<polyline clip-path=\"url(#clip532)\" style=\"stroke:#000000; stroke-linecap:round; stroke-linejoin:round; stroke-width:4; stroke-opacity:1; fill:none\" points=\"1107.7,342.552 1156.69,342.552 1132.19,300.123 1107.7,342.552 \"/>\n",
       "<path clip-path=\"url(#clip532)\" d=\"M1205.68 342.552 L1181.19 300.123 L1156.69 342.552 L1205.68 342.552  Z\" fill=\"#ffff00\" fill-rule=\"evenodd\" fill-opacity=\"1\"/>\n",
       "<polyline clip-path=\"url(#clip532)\" style=\"stroke:#000000; stroke-linecap:round; stroke-linejoin:round; stroke-width:4; stroke-opacity:1; fill:none\" points=\"1205.68,342.552 1181.19,300.123 1156.69,342.552 1205.68,342.552 \"/>\n",
       "<path clip-path=\"url(#clip532)\" d=\"M1401.66 342.552 L1303.67 342.552 L1352.66 427.411 L1401.66 342.552  Z\" fill=\"#ff00ff\" fill-rule=\"evenodd\" fill-opacity=\"1\"/>\n",
       "<polyline clip-path=\"url(#clip532)\" style=\"stroke:#000000; stroke-linecap:round; stroke-linejoin:round; stroke-width:4; stroke-opacity:1; fill:none\" points=\"1401.66,342.552 1303.67,342.552 1352.66,427.411 1401.66,342.552 \"/>\n",
       "<path clip-path=\"url(#clip532)\" d=\"M1426.15 384.982 L1377.16 384.982 L1401.66 427.411 L1426.15 384.982  Z\" fill=\"#ff00ff\" fill-rule=\"evenodd\" fill-opacity=\"1\"/>\n",
       "<polyline clip-path=\"url(#clip532)\" style=\"stroke:#000000; stroke-linecap:round; stroke-linejoin:round; stroke-width:4; stroke-opacity:1; fill:none\" points=\"1426.15,384.982 1377.16,384.982 1401.66,427.411 1426.15,384.982 \"/>\n",
       "<path clip-path=\"url(#clip532)\" d=\"M1450.65 427.411 L1426.15 384.982 L1401.66 427.411 L1450.65 427.411  Z\" fill=\"#ffff00\" fill-rule=\"evenodd\" fill-opacity=\"1\"/>\n",
       "<polyline clip-path=\"url(#clip532)\" style=\"stroke:#000000; stroke-linecap:round; stroke-linejoin:round; stroke-width:4; stroke-opacity:1; fill:none\" points=\"1450.65,427.411 1426.15,384.982 1401.66,427.411 1450.65,427.411 \"/>\n",
       "<path clip-path=\"url(#clip532)\" d=\"M1401.66 342.552 L1377.16 384.982 L1426.15 384.982 L1401.66 342.552  Z\" fill=\"#ffff00\" fill-rule=\"evenodd\" fill-opacity=\"1\"/>\n",
       "<polyline clip-path=\"url(#clip532)\" style=\"stroke:#000000; stroke-linecap:round; stroke-linejoin:round; stroke-width:4; stroke-opacity:1; fill:none\" points=\"1401.66,342.552 1377.16,384.982 1426.15,384.982 1401.66,342.552 \"/>\n",
       "<path clip-path=\"url(#clip532)\" d=\"M1352.66 427.411 L1401.66 427.411 L1377.16 384.982 L1352.66 427.411  Z\" fill=\"#ffff00\" fill-rule=\"evenodd\" fill-opacity=\"1\"/>\n",
       "<polyline clip-path=\"url(#clip532)\" style=\"stroke:#000000; stroke-linecap:round; stroke-linejoin:round; stroke-width:4; stroke-opacity:1; fill:none\" points=\"1352.66,427.411 1401.66,427.411 1377.16,384.982 1352.66,427.411 \"/>\n",
       "<path clip-path=\"url(#clip532)\" d=\"M1328.17 300.123 L1352.66 342.552 L1377.16 300.123 L1328.17 300.123  Z\" fill=\"#ff00ff\" fill-rule=\"evenodd\" fill-opacity=\"1\"/>\n",
       "<polyline clip-path=\"url(#clip532)\" style=\"stroke:#000000; stroke-linecap:round; stroke-linejoin:round; stroke-width:4; stroke-opacity:1; fill:none\" points=\"1328.17,300.123 1352.66,342.552 1377.16,300.123 1328.17,300.123 \"/>\n",
       "<path clip-path=\"url(#clip532)\" d=\"M1352.66 257.694 L1328.17 300.123 L1377.16 300.123 L1352.66 257.694  Z\" fill=\"#ffff00\" fill-rule=\"evenodd\" fill-opacity=\"1\"/>\n",
       "<polyline clip-path=\"url(#clip532)\" style=\"stroke:#000000; stroke-linecap:round; stroke-linejoin:round; stroke-width:4; stroke-opacity:1; fill:none\" points=\"1352.66,257.694 1328.17,300.123 1377.16,300.123 1352.66,257.694 \"/>\n",
       "<path clip-path=\"url(#clip532)\" d=\"M1303.67 342.552 L1352.66 342.552 L1328.17 300.123 L1303.67 342.552  Z\" fill=\"#ffff00\" fill-rule=\"evenodd\" fill-opacity=\"1\"/>\n",
       "<polyline clip-path=\"url(#clip532)\" style=\"stroke:#000000; stroke-linecap:round; stroke-linejoin:round; stroke-width:4; stroke-opacity:1; fill:none\" points=\"1303.67,342.552 1352.66,342.552 1328.17,300.123 1303.67,342.552 \"/>\n",
       "<path clip-path=\"url(#clip532)\" d=\"M1401.66 342.552 L1377.16 300.123 L1352.66 342.552 L1401.66 342.552  Z\" fill=\"#ffff00\" fill-rule=\"evenodd\" fill-opacity=\"1\"/>\n",
       "<polyline clip-path=\"url(#clip532)\" style=\"stroke:#000000; stroke-linecap:round; stroke-linejoin:round; stroke-width:4; stroke-opacity:1; fill:none\" points=\"1401.66,342.552 1377.16,300.123 1352.66,342.552 1401.66,342.552 \"/>\n",
       "<path clip-path=\"url(#clip532)\" d=\"M1303.67 427.411 L1328.17 384.982 L1279.17 384.982 L1303.67 427.411  Z\" fill=\"#ff00ff\" fill-rule=\"evenodd\" fill-opacity=\"1\"/>\n",
       "<polyline clip-path=\"url(#clip532)\" style=\"stroke:#000000; stroke-linecap:round; stroke-linejoin:round; stroke-width:4; stroke-opacity:1; fill:none\" points=\"1303.67,427.411 1328.17,384.982 1279.17,384.982 1303.67,427.411 \"/>\n",
       "<path clip-path=\"url(#clip532)\" d=\"M1254.68 427.411 L1303.67 427.411 L1279.17 384.982 L1254.68 427.411  Z\" fill=\"#ffff00\" fill-rule=\"evenodd\" fill-opacity=\"1\"/>\n",
       "<polyline clip-path=\"url(#clip532)\" style=\"stroke:#000000; stroke-linecap:round; stroke-linejoin:round; stroke-width:4; stroke-opacity:1; fill:none\" points=\"1254.68,427.411 1303.67,427.411 1279.17,384.982 1254.68,427.411 \"/>\n",
       "<path clip-path=\"url(#clip532)\" d=\"M1352.66 427.411 L1328.17 384.982 L1303.67 427.411 L1352.66 427.411  Z\" fill=\"#ffff00\" fill-rule=\"evenodd\" fill-opacity=\"1\"/>\n",
       "<polyline clip-path=\"url(#clip532)\" style=\"stroke:#000000; stroke-linecap:round; stroke-linejoin:round; stroke-width:4; stroke-opacity:1; fill:none\" points=\"1352.66,427.411 1328.17,384.982 1303.67,427.411 1352.66,427.411 \"/>\n",
       "<path clip-path=\"url(#clip532)\" d=\"M1303.67 342.552 L1279.17 384.982 L1328.17 384.982 L1303.67 342.552  Z\" fill=\"#ffff00\" fill-rule=\"evenodd\" fill-opacity=\"1\"/>\n",
       "<polyline clip-path=\"url(#clip532)\" style=\"stroke:#000000; stroke-linecap:round; stroke-linejoin:round; stroke-width:4; stroke-opacity:1; fill:none\" points=\"1303.67,342.552 1279.17,384.982 1328.17,384.982 1303.67,342.552 \"/>\n",
       "<path clip-path=\"url(#clip532)\" d=\"M1058.7 766.846 L1156.69 597.129 L960.718 597.129 L1058.7 766.846  Z\" fill=\"#ff00ff\" fill-rule=\"evenodd\" fill-opacity=\"1\"/>\n",
       "<polyline clip-path=\"url(#clip532)\" style=\"stroke:#000000; stroke-linecap:round; stroke-linejoin:round; stroke-width:4; stroke-opacity:1; fill:none\" points=\"1058.7,766.846 1156.69,597.129 960.718,597.129 1058.7,766.846 \"/>\n",
       "<path clip-path=\"url(#clip532)\" d=\"M960.718 766.846 L1009.71 681.987 L911.725 681.987 L960.718 766.846  Z\" fill=\"#ff00ff\" fill-rule=\"evenodd\" fill-opacity=\"1\"/>\n",
       "<polyline clip-path=\"url(#clip532)\" style=\"stroke:#000000; stroke-linecap:round; stroke-linejoin:round; stroke-width:4; stroke-opacity:1; fill:none\" points=\"960.718,766.846 1009.71,681.987 911.725,681.987 960.718,766.846 \"/>\n",
       "<path clip-path=\"url(#clip532)\" d=\"M911.725 766.846 L936.221 724.417 L887.228 724.417 L911.725 766.846  Z\" fill=\"#ff00ff\" fill-rule=\"evenodd\" fill-opacity=\"1\"/>\n",
       "<polyline clip-path=\"url(#clip532)\" style=\"stroke:#000000; stroke-linecap:round; stroke-linejoin:round; stroke-width:4; stroke-opacity:1; fill:none\" points=\"911.725,766.846 936.221,724.417 887.228,724.417 911.725,766.846 \"/>\n",
       "<path clip-path=\"url(#clip532)\" d=\"M862.731 766.846 L911.725 766.846 L887.228 724.417 L862.731 766.846  Z\" fill=\"#ffff00\" fill-rule=\"evenodd\" fill-opacity=\"1\"/>\n",
       "<polyline clip-path=\"url(#clip532)\" style=\"stroke:#000000; stroke-linecap:round; stroke-linejoin:round; stroke-width:4; stroke-opacity:1; fill:none\" points=\"862.731,766.846 911.725,766.846 887.228,724.417 862.731,766.846 \"/>\n",
       "<path clip-path=\"url(#clip532)\" d=\"M960.718 766.846 L936.221 724.417 L911.725 766.846 L960.718 766.846  Z\" fill=\"#ffff00\" fill-rule=\"evenodd\" fill-opacity=\"1\"/>\n",
       "<polyline clip-path=\"url(#clip532)\" style=\"stroke:#000000; stroke-linecap:round; stroke-linejoin:round; stroke-width:4; stroke-opacity:1; fill:none\" points=\"960.718,766.846 936.221,724.417 911.725,766.846 960.718,766.846 \"/>\n",
       "<path clip-path=\"url(#clip532)\" d=\"M911.725 681.987 L887.228 724.417 L936.221 724.417 L911.725 681.987  Z\" fill=\"#ffff00\" fill-rule=\"evenodd\" fill-opacity=\"1\"/>\n",
       "<polyline clip-path=\"url(#clip532)\" style=\"stroke:#000000; stroke-linecap:round; stroke-linejoin:round; stroke-width:4; stroke-opacity:1; fill:none\" points=\"911.725,681.987 887.228,724.417 936.221,724.417 911.725,681.987 \"/>\n",
       "<path clip-path=\"url(#clip532)\" d=\"M1034.21 724.417 L985.214 724.417 L1009.71 766.846 L1034.21 724.417  Z\" fill=\"#ff00ff\" fill-rule=\"evenodd\" fill-opacity=\"1\"/>\n",
       "<polyline clip-path=\"url(#clip532)\" style=\"stroke:#000000; stroke-linecap:round; stroke-linejoin:round; stroke-width:4; stroke-opacity:1; fill:none\" points=\"1034.21,724.417 985.214,724.417 1009.71,766.846 1034.21,724.417 \"/>\n",
       "<path clip-path=\"url(#clip532)\" d=\"M1058.7 766.846 L1034.21 724.417 L1009.71 766.846 L1058.7 766.846  Z\" fill=\"#ffff00\" fill-rule=\"evenodd\" fill-opacity=\"1\"/>\n",
       "<polyline clip-path=\"url(#clip532)\" style=\"stroke:#000000; stroke-linecap:round; stroke-linejoin:round; stroke-width:4; stroke-opacity:1; fill:none\" points=\"1058.7,766.846 1034.21,724.417 1009.71,766.846 1058.7,766.846 \"/>\n",
       "<path clip-path=\"url(#clip532)\" d=\"M1009.71 681.987 L985.214 724.417 L1034.21 724.417 L1009.71 681.987  Z\" fill=\"#ffff00\" fill-rule=\"evenodd\" fill-opacity=\"1\"/>\n",
       "<polyline clip-path=\"url(#clip532)\" style=\"stroke:#000000; stroke-linecap:round; stroke-linejoin:round; stroke-width:4; stroke-opacity:1; fill:none\" points=\"1009.71,681.987 985.214,724.417 1034.21,724.417 1009.71,681.987 \"/>\n",
       "<path clip-path=\"url(#clip532)\" d=\"M960.718 766.846 L1009.71 766.846 L985.214 724.417 L960.718 766.846  Z\" fill=\"#ffff00\" fill-rule=\"evenodd\" fill-opacity=\"1\"/>\n",
       "<polyline clip-path=\"url(#clip532)\" style=\"stroke:#000000; stroke-linecap:round; stroke-linejoin:round; stroke-width:4; stroke-opacity:1; fill:none\" points=\"960.718,766.846 1009.71,766.846 985.214,724.417 960.718,766.846 \"/>\n",
       "<path clip-path=\"url(#clip532)\" d=\"M936.221 639.558 L960.718 681.987 L985.214 639.558 L936.221 639.558  Z\" fill=\"#ff00ff\" fill-rule=\"evenodd\" fill-opacity=\"1\"/>\n",
       "<polyline clip-path=\"url(#clip532)\" style=\"stroke:#000000; stroke-linecap:round; stroke-linejoin:round; stroke-width:4; stroke-opacity:1; fill:none\" points=\"936.221,639.558 960.718,681.987 985.214,639.558 936.221,639.558 \"/>\n",
       "<path clip-path=\"url(#clip532)\" d=\"M960.718 597.129 L936.221 639.558 L985.214 639.558 L960.718 597.129  Z\" fill=\"#ffff00\" fill-rule=\"evenodd\" fill-opacity=\"1\"/>\n",
       "<polyline clip-path=\"url(#clip532)\" style=\"stroke:#000000; stroke-linecap:round; stroke-linejoin:round; stroke-width:4; stroke-opacity:1; fill:none\" points=\"960.718,597.129 936.221,639.558 985.214,639.558 960.718,597.129 \"/>\n",
       "<path clip-path=\"url(#clip532)\" d=\"M911.725 681.987 L960.718 681.987 L936.221 639.558 L911.725 681.987  Z\" fill=\"#ffff00\" fill-rule=\"evenodd\" fill-opacity=\"1\"/>\n",
       "<polyline clip-path=\"url(#clip532)\" style=\"stroke:#000000; stroke-linecap:round; stroke-linejoin:round; stroke-width:4; stroke-opacity:1; fill:none\" points=\"911.725,681.987 960.718,681.987 936.221,639.558 911.725,681.987 \"/>\n",
       "<path clip-path=\"url(#clip532)\" d=\"M1009.71 681.987 L985.214 639.558 L960.718 681.987 L1009.71 681.987  Z\" fill=\"#ffff00\" fill-rule=\"evenodd\" fill-opacity=\"1\"/>\n",
       "<polyline clip-path=\"url(#clip532)\" style=\"stroke:#000000; stroke-linecap:round; stroke-linejoin:round; stroke-width:4; stroke-opacity:1; fill:none\" points=\"1009.71,681.987 985.214,639.558 960.718,681.987 1009.71,681.987 \"/>\n",
       "<path clip-path=\"url(#clip532)\" d=\"M1205.68 681.987 L1107.7 681.987 L1156.69 766.846 L1205.68 681.987  Z\" fill=\"#ff00ff\" fill-rule=\"evenodd\" fill-opacity=\"1\"/>\n",
       "<polyline clip-path=\"url(#clip532)\" style=\"stroke:#000000; stroke-linecap:round; stroke-linejoin:round; stroke-width:4; stroke-opacity:1; fill:none\" points=\"1205.68,681.987 1107.7,681.987 1156.69,766.846 1205.68,681.987 \"/>\n",
       "<path clip-path=\"url(#clip532)\" d=\"M1230.18 724.417 L1181.19 724.417 L1205.68 766.846 L1230.18 724.417  Z\" fill=\"#ff00ff\" fill-rule=\"evenodd\" fill-opacity=\"1\"/>\n",
       "<polyline clip-path=\"url(#clip532)\" style=\"stroke:#000000; stroke-linecap:round; stroke-linejoin:round; stroke-width:4; stroke-opacity:1; fill:none\" points=\"1230.18,724.417 1181.19,724.417 1205.68,766.846 1230.18,724.417 \"/>\n",
       "<path clip-path=\"url(#clip532)\" d=\"M1254.68 766.846 L1230.18 724.417 L1205.68 766.846 L1254.68 766.846  Z\" fill=\"#ffff00\" fill-rule=\"evenodd\" fill-opacity=\"1\"/>\n",
       "<polyline clip-path=\"url(#clip532)\" style=\"stroke:#000000; stroke-linecap:round; stroke-linejoin:round; stroke-width:4; stroke-opacity:1; fill:none\" points=\"1254.68,766.846 1230.18,724.417 1205.68,766.846 1254.68,766.846 \"/>\n",
       "<path clip-path=\"url(#clip532)\" d=\"M1205.68 681.987 L1181.19 724.417 L1230.18 724.417 L1205.68 681.987  Z\" fill=\"#ffff00\" fill-rule=\"evenodd\" fill-opacity=\"1\"/>\n",
       "<polyline clip-path=\"url(#clip532)\" style=\"stroke:#000000; stroke-linecap:round; stroke-linejoin:round; stroke-width:4; stroke-opacity:1; fill:none\" points=\"1205.68,681.987 1181.19,724.417 1230.18,724.417 1205.68,681.987 \"/>\n",
       "<path clip-path=\"url(#clip532)\" d=\"M1156.69 766.846 L1205.68 766.846 L1181.19 724.417 L1156.69 766.846  Z\" fill=\"#ffff00\" fill-rule=\"evenodd\" fill-opacity=\"1\"/>\n",
       "<polyline clip-path=\"url(#clip532)\" style=\"stroke:#000000; stroke-linecap:round; stroke-linejoin:round; stroke-width:4; stroke-opacity:1; fill:none\" points=\"1156.69,766.846 1205.68,766.846 1181.19,724.417 1156.69,766.846 \"/>\n",
       "<path clip-path=\"url(#clip532)\" d=\"M1132.19 639.558 L1156.69 681.987 L1181.19 639.558 L1132.19 639.558  Z\" fill=\"#ff00ff\" fill-rule=\"evenodd\" fill-opacity=\"1\"/>\n",
       "<polyline clip-path=\"url(#clip532)\" style=\"stroke:#000000; stroke-linecap:round; stroke-linejoin:round; stroke-width:4; stroke-opacity:1; fill:none\" points=\"1132.19,639.558 1156.69,681.987 1181.19,639.558 1132.19,639.558 \"/>\n",
       "<path clip-path=\"url(#clip532)\" d=\"M1156.69 597.129 L1132.19 639.558 L1181.19 639.558 L1156.69 597.129  Z\" fill=\"#ffff00\" fill-rule=\"evenodd\" fill-opacity=\"1\"/>\n",
       "<polyline clip-path=\"url(#clip532)\" style=\"stroke:#000000; stroke-linecap:round; stroke-linejoin:round; stroke-width:4; stroke-opacity:1; fill:none\" points=\"1156.69,597.129 1132.19,639.558 1181.19,639.558 1156.69,597.129 \"/>\n",
       "<path clip-path=\"url(#clip532)\" d=\"M1107.7 681.987 L1156.69 681.987 L1132.19 639.558 L1107.7 681.987  Z\" fill=\"#ffff00\" fill-rule=\"evenodd\" fill-opacity=\"1\"/>\n",
       "<polyline clip-path=\"url(#clip532)\" style=\"stroke:#000000; stroke-linecap:round; stroke-linejoin:round; stroke-width:4; stroke-opacity:1; fill:none\" points=\"1107.7,681.987 1156.69,681.987 1132.19,639.558 1107.7,681.987 \"/>\n",
       "<path clip-path=\"url(#clip532)\" d=\"M1205.68 681.987 L1181.19 639.558 L1156.69 681.987 L1205.68 681.987  Z\" fill=\"#ffff00\" fill-rule=\"evenodd\" fill-opacity=\"1\"/>\n",
       "<polyline clip-path=\"url(#clip532)\" style=\"stroke:#000000; stroke-linecap:round; stroke-linejoin:round; stroke-width:4; stroke-opacity:1; fill:none\" points=\"1205.68,681.987 1181.19,639.558 1156.69,681.987 1205.68,681.987 \"/>\n",
       "<path clip-path=\"url(#clip532)\" d=\"M1107.7 766.846 L1132.19 724.417 L1083.2 724.417 L1107.7 766.846  Z\" fill=\"#ff00ff\" fill-rule=\"evenodd\" fill-opacity=\"1\"/>\n",
       "<polyline clip-path=\"url(#clip532)\" style=\"stroke:#000000; stroke-linecap:round; stroke-linejoin:round; stroke-width:4; stroke-opacity:1; fill:none\" points=\"1107.7,766.846 1132.19,724.417 1083.2,724.417 1107.7,766.846 \"/>\n",
       "<path clip-path=\"url(#clip532)\" d=\"M1058.7 766.846 L1107.7 766.846 L1083.2 724.417 L1058.7 766.846  Z\" fill=\"#ffff00\" fill-rule=\"evenodd\" fill-opacity=\"1\"/>\n",
       "<polyline clip-path=\"url(#clip532)\" style=\"stroke:#000000; stroke-linecap:round; stroke-linejoin:round; stroke-width:4; stroke-opacity:1; fill:none\" points=\"1058.7,766.846 1107.7,766.846 1083.2,724.417 1058.7,766.846 \"/>\n",
       "<path clip-path=\"url(#clip532)\" d=\"M1156.69 766.846 L1132.19 724.417 L1107.7 766.846 L1156.69 766.846  Z\" fill=\"#ffff00\" fill-rule=\"evenodd\" fill-opacity=\"1\"/>\n",
       "<polyline clip-path=\"url(#clip532)\" style=\"stroke:#000000; stroke-linecap:round; stroke-linejoin:round; stroke-width:4; stroke-opacity:1; fill:none\" points=\"1156.69,766.846 1132.19,724.417 1107.7,766.846 1156.69,766.846 \"/>\n",
       "<path clip-path=\"url(#clip532)\" d=\"M1107.7 681.987 L1083.2 724.417 L1132.19 724.417 L1107.7 681.987  Z\" fill=\"#ffff00\" fill-rule=\"evenodd\" fill-opacity=\"1\"/>\n",
       "<polyline clip-path=\"url(#clip532)\" style=\"stroke:#000000; stroke-linecap:round; stroke-linejoin:round; stroke-width:4; stroke-opacity:1; fill:none\" points=\"1107.7,681.987 1083.2,724.417 1132.19,724.417 1107.7,681.987 \"/>\n",
       "<path clip-path=\"url(#clip532)\" d=\"M1009.71 512.27 L1058.7 597.129 L1107.7 512.27 L1009.71 512.27  Z\" fill=\"#ff00ff\" fill-rule=\"evenodd\" fill-opacity=\"1\"/>\n",
       "<polyline clip-path=\"url(#clip532)\" style=\"stroke:#000000; stroke-linecap:round; stroke-linejoin:round; stroke-width:4; stroke-opacity:1; fill:none\" points=\"1009.71,512.27 1058.7,597.129 1107.7,512.27 1009.71,512.27 \"/>\n",
       "<path clip-path=\"url(#clip532)\" d=\"M1034.21 469.84 L1058.7 512.27 L1083.2 469.84 L1034.21 469.84  Z\" fill=\"#ff00ff\" fill-rule=\"evenodd\" fill-opacity=\"1\"/>\n",
       "<polyline clip-path=\"url(#clip532)\" style=\"stroke:#000000; stroke-linecap:round; stroke-linejoin:round; stroke-width:4; stroke-opacity:1; fill:none\" points=\"1034.21,469.84 1058.7,512.27 1083.2,469.84 1034.21,469.84 \"/>\n",
       "<path clip-path=\"url(#clip532)\" d=\"M1058.7 427.411 L1034.21 469.84 L1083.2 469.84 L1058.7 427.411  Z\" fill=\"#ffff00\" fill-rule=\"evenodd\" fill-opacity=\"1\"/>\n",
       "<polyline clip-path=\"url(#clip532)\" style=\"stroke:#000000; stroke-linecap:round; stroke-linejoin:round; stroke-width:4; stroke-opacity:1; fill:none\" points=\"1058.7,427.411 1034.21,469.84 1083.2,469.84 1058.7,427.411 \"/>\n",
       "<path clip-path=\"url(#clip532)\" d=\"M1009.71 512.27 L1058.7 512.27 L1034.21 469.84 L1009.71 512.27  Z\" fill=\"#ffff00\" fill-rule=\"evenodd\" fill-opacity=\"1\"/>\n",
       "<polyline clip-path=\"url(#clip532)\" style=\"stroke:#000000; stroke-linecap:round; stroke-linejoin:round; stroke-width:4; stroke-opacity:1; fill:none\" points=\"1009.71,512.27 1058.7,512.27 1034.21,469.84 1009.71,512.27 \"/>\n",
       "<path clip-path=\"url(#clip532)\" d=\"M1107.7 512.27 L1083.2 469.84 L1058.7 512.27 L1107.7 512.27  Z\" fill=\"#ffff00\" fill-rule=\"evenodd\" fill-opacity=\"1\"/>\n",
       "<polyline clip-path=\"url(#clip532)\" style=\"stroke:#000000; stroke-linecap:round; stroke-linejoin:round; stroke-width:4; stroke-opacity:1; fill:none\" points=\"1107.7,512.27 1083.2,469.84 1058.7,512.27 1107.7,512.27 \"/>\n",
       "<path clip-path=\"url(#clip532)\" d=\"M1009.71 597.129 L1034.21 554.699 L985.214 554.699 L1009.71 597.129  Z\" fill=\"#ff00ff\" fill-rule=\"evenodd\" fill-opacity=\"1\"/>\n",
       "<polyline clip-path=\"url(#clip532)\" style=\"stroke:#000000; stroke-linecap:round; stroke-linejoin:round; stroke-width:4; stroke-opacity:1; fill:none\" points=\"1009.71,597.129 1034.21,554.699 985.214,554.699 1009.71,597.129 \"/>\n",
       "<path clip-path=\"url(#clip532)\" d=\"M960.718 597.129 L1009.71 597.129 L985.214 554.699 L960.718 597.129  Z\" fill=\"#ffff00\" fill-rule=\"evenodd\" fill-opacity=\"1\"/>\n",
       "<polyline clip-path=\"url(#clip532)\" style=\"stroke:#000000; stroke-linecap:round; stroke-linejoin:round; stroke-width:4; stroke-opacity:1; fill:none\" points=\"960.718,597.129 1009.71,597.129 985.214,554.699 960.718,597.129 \"/>\n",
       "<path clip-path=\"url(#clip532)\" d=\"M1058.7 597.129 L1034.21 554.699 L1009.71 597.129 L1058.7 597.129  Z\" fill=\"#ffff00\" fill-rule=\"evenodd\" fill-opacity=\"1\"/>\n",
       "<polyline clip-path=\"url(#clip532)\" style=\"stroke:#000000; stroke-linecap:round; stroke-linejoin:round; stroke-width:4; stroke-opacity:1; fill:none\" points=\"1058.7,597.129 1034.21,554.699 1009.71,597.129 1058.7,597.129 \"/>\n",
       "<path clip-path=\"url(#clip532)\" d=\"M1009.71 512.27 L985.214 554.699 L1034.21 554.699 L1009.71 512.27  Z\" fill=\"#ffff00\" fill-rule=\"evenodd\" fill-opacity=\"1\"/>\n",
       "<polyline clip-path=\"url(#clip532)\" style=\"stroke:#000000; stroke-linecap:round; stroke-linejoin:round; stroke-width:4; stroke-opacity:1; fill:none\" points=\"1009.71,512.27 985.214,554.699 1034.21,554.699 1009.71,512.27 \"/>\n",
       "<path clip-path=\"url(#clip532)\" d=\"M1132.19 554.699 L1083.2 554.699 L1107.7 597.129 L1132.19 554.699  Z\" fill=\"#ff00ff\" fill-rule=\"evenodd\" fill-opacity=\"1\"/>\n",
       "<polyline clip-path=\"url(#clip532)\" style=\"stroke:#000000; stroke-linecap:round; stroke-linejoin:round; stroke-width:4; stroke-opacity:1; fill:none\" points=\"1132.19,554.699 1083.2,554.699 1107.7,597.129 1132.19,554.699 \"/>\n",
       "<path clip-path=\"url(#clip532)\" d=\"M1156.69 597.129 L1132.19 554.699 L1107.7 597.129 L1156.69 597.129  Z\" fill=\"#ffff00\" fill-rule=\"evenodd\" fill-opacity=\"1\"/>\n",
       "<polyline clip-path=\"url(#clip532)\" style=\"stroke:#000000; stroke-linecap:round; stroke-linejoin:round; stroke-width:4; stroke-opacity:1; fill:none\" points=\"1156.69,597.129 1132.19,554.699 1107.7,597.129 1156.69,597.129 \"/>\n",
       "<path clip-path=\"url(#clip532)\" d=\"M1107.7 512.27 L1083.2 554.699 L1132.19 554.699 L1107.7 512.27  Z\" fill=\"#ffff00\" fill-rule=\"evenodd\" fill-opacity=\"1\"/>\n",
       "<polyline clip-path=\"url(#clip532)\" style=\"stroke:#000000; stroke-linecap:round; stroke-linejoin:round; stroke-width:4; stroke-opacity:1; fill:none\" points=\"1107.7,512.27 1083.2,554.699 1132.19,554.699 1107.7,512.27 \"/>\n",
       "<path clip-path=\"url(#clip532)\" d=\"M1058.7 597.129 L1107.7 597.129 L1083.2 554.699 L1058.7 597.129  Z\" fill=\"#ffff00\" fill-rule=\"evenodd\" fill-opacity=\"1\"/>\n",
       "<polyline clip-path=\"url(#clip532)\" style=\"stroke:#000000; stroke-linecap:round; stroke-linejoin:round; stroke-width:4; stroke-opacity:1; fill:none\" points=\"1058.7,597.129 1107.7,597.129 1083.2,554.699 1058.7,597.129 \"/>\n",
       "<path clip-path=\"url(#clip532)\" d=\"M1548.64 597.129 L1352.66 597.129 L1450.65 766.846 L1548.64 597.129  Z\" fill=\"#ff00ff\" fill-rule=\"evenodd\" fill-opacity=\"1\"/>\n",
       "<polyline clip-path=\"url(#clip532)\" style=\"stroke:#000000; stroke-linecap:round; stroke-linejoin:round; stroke-width:4; stroke-opacity:1; fill:none\" points=\"1548.64,597.129 1352.66,597.129 1450.65,766.846 1548.64,597.129 \"/>\n",
       "<path clip-path=\"url(#clip532)\" d=\"M1597.63 681.987 L1499.64 681.987 L1548.64 766.846 L1597.63 681.987  Z\" fill=\"#ff00ff\" fill-rule=\"evenodd\" fill-opacity=\"1\"/>\n",
       "<polyline clip-path=\"url(#clip532)\" style=\"stroke:#000000; stroke-linecap:round; stroke-linejoin:round; stroke-width:4; stroke-opacity:1; fill:none\" points=\"1597.63,681.987 1499.64,681.987 1548.64,766.846 1597.63,681.987 \"/>\n",
       "<path clip-path=\"url(#clip532)\" d=\"M1622.13 724.417 L1573.13 724.417 L1597.63 766.846 L1622.13 724.417  Z\" fill=\"#ff00ff\" fill-rule=\"evenodd\" fill-opacity=\"1\"/>\n",
       "<polyline clip-path=\"url(#clip532)\" style=\"stroke:#000000; stroke-linecap:round; stroke-linejoin:round; stroke-width:4; stroke-opacity:1; fill:none\" points=\"1622.13,724.417 1573.13,724.417 1597.63,766.846 1622.13,724.417 \"/>\n",
       "<path clip-path=\"url(#clip532)\" d=\"M1646.62 766.846 L1622.13 724.417 L1597.63 766.846 L1646.62 766.846  Z\" fill=\"#ffff00\" fill-rule=\"evenodd\" fill-opacity=\"1\"/>\n",
       "<polyline clip-path=\"url(#clip532)\" style=\"stroke:#000000; stroke-linecap:round; stroke-linejoin:round; stroke-width:4; stroke-opacity:1; fill:none\" points=\"1646.62,766.846 1622.13,724.417 1597.63,766.846 1646.62,766.846 \"/>\n",
       "<path clip-path=\"url(#clip532)\" d=\"M1597.63 681.987 L1573.13 724.417 L1622.13 724.417 L1597.63 681.987  Z\" fill=\"#ffff00\" fill-rule=\"evenodd\" fill-opacity=\"1\"/>\n",
       "<polyline clip-path=\"url(#clip532)\" style=\"stroke:#000000; stroke-linecap:round; stroke-linejoin:round; stroke-width:4; stroke-opacity:1; fill:none\" points=\"1597.63,681.987 1573.13,724.417 1622.13,724.417 1597.63,681.987 \"/>\n",
       "<path clip-path=\"url(#clip532)\" d=\"M1548.64 766.846 L1597.63 766.846 L1573.13 724.417 L1548.64 766.846  Z\" fill=\"#ffff00\" fill-rule=\"evenodd\" fill-opacity=\"1\"/>\n",
       "<polyline clip-path=\"url(#clip532)\" style=\"stroke:#000000; stroke-linecap:round; stroke-linejoin:round; stroke-width:4; stroke-opacity:1; fill:none\" points=\"1548.64,766.846 1597.63,766.846 1573.13,724.417 1548.64,766.846 \"/>\n",
       "<path clip-path=\"url(#clip532)\" d=\"M1524.14 639.558 L1548.64 681.987 L1573.13 639.558 L1524.14 639.558  Z\" fill=\"#ff00ff\" fill-rule=\"evenodd\" fill-opacity=\"1\"/>\n",
       "<polyline clip-path=\"url(#clip532)\" style=\"stroke:#000000; stroke-linecap:round; stroke-linejoin:round; stroke-width:4; stroke-opacity:1; fill:none\" points=\"1524.14,639.558 1548.64,681.987 1573.13,639.558 1524.14,639.558 \"/>\n",
       "<path clip-path=\"url(#clip532)\" d=\"M1548.64 597.129 L1524.14 639.558 L1573.13 639.558 L1548.64 597.129  Z\" fill=\"#ffff00\" fill-rule=\"evenodd\" fill-opacity=\"1\"/>\n",
       "<polyline clip-path=\"url(#clip532)\" style=\"stroke:#000000; stroke-linecap:round; stroke-linejoin:round; stroke-width:4; stroke-opacity:1; fill:none\" points=\"1548.64,597.129 1524.14,639.558 1573.13,639.558 1548.64,597.129 \"/>\n",
       "<path clip-path=\"url(#clip532)\" d=\"M1499.64 681.987 L1548.64 681.987 L1524.14 639.558 L1499.64 681.987  Z\" fill=\"#ffff00\" fill-rule=\"evenodd\" fill-opacity=\"1\"/>\n",
       "<polyline clip-path=\"url(#clip532)\" style=\"stroke:#000000; stroke-linecap:round; stroke-linejoin:round; stroke-width:4; stroke-opacity:1; fill:none\" points=\"1499.64,681.987 1548.64,681.987 1524.14,639.558 1499.64,681.987 \"/>\n",
       "<path clip-path=\"url(#clip532)\" d=\"M1597.63 681.987 L1573.13 639.558 L1548.64 681.987 L1597.63 681.987  Z\" fill=\"#ffff00\" fill-rule=\"evenodd\" fill-opacity=\"1\"/>\n",
       "<polyline clip-path=\"url(#clip532)\" style=\"stroke:#000000; stroke-linecap:round; stroke-linejoin:round; stroke-width:4; stroke-opacity:1; fill:none\" points=\"1597.63,681.987 1573.13,639.558 1548.64,681.987 1597.63,681.987 \"/>\n",
       "<path clip-path=\"url(#clip532)\" d=\"M1499.64 766.846 L1524.14 724.417 L1475.15 724.417 L1499.64 766.846  Z\" fill=\"#ff00ff\" fill-rule=\"evenodd\" fill-opacity=\"1\"/>\n",
       "<polyline clip-path=\"url(#clip532)\" style=\"stroke:#000000; stroke-linecap:round; stroke-linejoin:round; stroke-width:4; stroke-opacity:1; fill:none\" points=\"1499.64,766.846 1524.14,724.417 1475.15,724.417 1499.64,766.846 \"/>\n",
       "<path clip-path=\"url(#clip532)\" d=\"M1450.65 766.846 L1499.64 766.846 L1475.15 724.417 L1450.65 766.846  Z\" fill=\"#ffff00\" fill-rule=\"evenodd\" fill-opacity=\"1\"/>\n",
       "<polyline clip-path=\"url(#clip532)\" style=\"stroke:#000000; stroke-linecap:round; stroke-linejoin:round; stroke-width:4; stroke-opacity:1; fill:none\" points=\"1450.65,766.846 1499.64,766.846 1475.15,724.417 1450.65,766.846 \"/>\n",
       "<path clip-path=\"url(#clip532)\" d=\"M1548.64 766.846 L1524.14 724.417 L1499.64 766.846 L1548.64 766.846  Z\" fill=\"#ffff00\" fill-rule=\"evenodd\" fill-opacity=\"1\"/>\n",
       "<polyline clip-path=\"url(#clip532)\" style=\"stroke:#000000; stroke-linecap:round; stroke-linejoin:round; stroke-width:4; stroke-opacity:1; fill:none\" points=\"1548.64,766.846 1524.14,724.417 1499.64,766.846 1548.64,766.846 \"/>\n",
       "<path clip-path=\"url(#clip532)\" d=\"M1499.64 681.987 L1475.15 724.417 L1524.14 724.417 L1499.64 681.987  Z\" fill=\"#ffff00\" fill-rule=\"evenodd\" fill-opacity=\"1\"/>\n",
       "<polyline clip-path=\"url(#clip532)\" style=\"stroke:#000000; stroke-linecap:round; stroke-linejoin:round; stroke-width:4; stroke-opacity:1; fill:none\" points=\"1499.64,681.987 1475.15,724.417 1524.14,724.417 1499.64,681.987 \"/>\n",
       "<path clip-path=\"url(#clip532)\" d=\"M1401.66 512.27 L1450.65 597.129 L1499.64 512.27 L1401.66 512.27  Z\" fill=\"#ff00ff\" fill-rule=\"evenodd\" fill-opacity=\"1\"/>\n",
       "<polyline clip-path=\"url(#clip532)\" style=\"stroke:#000000; stroke-linecap:round; stroke-linejoin:round; stroke-width:4; stroke-opacity:1; fill:none\" points=\"1401.66,512.27 1450.65,597.129 1499.64,512.27 1401.66,512.27 \"/>\n",
       "<path clip-path=\"url(#clip532)\" d=\"M1426.15 469.84 L1450.65 512.27 L1475.15 469.84 L1426.15 469.84  Z\" fill=\"#ff00ff\" fill-rule=\"evenodd\" fill-opacity=\"1\"/>\n",
       "<polyline clip-path=\"url(#clip532)\" style=\"stroke:#000000; stroke-linecap:round; stroke-linejoin:round; stroke-width:4; stroke-opacity:1; fill:none\" points=\"1426.15,469.84 1450.65,512.27 1475.15,469.84 1426.15,469.84 \"/>\n",
       "<path clip-path=\"url(#clip532)\" d=\"M1450.65 427.411 L1426.15 469.84 L1475.15 469.84 L1450.65 427.411  Z\" fill=\"#ffff00\" fill-rule=\"evenodd\" fill-opacity=\"1\"/>\n",
       "<polyline clip-path=\"url(#clip532)\" style=\"stroke:#000000; stroke-linecap:round; stroke-linejoin:round; stroke-width:4; stroke-opacity:1; fill:none\" points=\"1450.65,427.411 1426.15,469.84 1475.15,469.84 1450.65,427.411 \"/>\n",
       "<path clip-path=\"url(#clip532)\" d=\"M1401.66 512.27 L1450.65 512.27 L1426.15 469.84 L1401.66 512.27  Z\" fill=\"#ffff00\" fill-rule=\"evenodd\" fill-opacity=\"1\"/>\n",
       "<polyline clip-path=\"url(#clip532)\" style=\"stroke:#000000; stroke-linecap:round; stroke-linejoin:round; stroke-width:4; stroke-opacity:1; fill:none\" points=\"1401.66,512.27 1450.65,512.27 1426.15,469.84 1401.66,512.27 \"/>\n",
       "<path clip-path=\"url(#clip532)\" d=\"M1499.64 512.27 L1475.15 469.84 L1450.65 512.27 L1499.64 512.27  Z\" fill=\"#ffff00\" fill-rule=\"evenodd\" fill-opacity=\"1\"/>\n",
       "<polyline clip-path=\"url(#clip532)\" style=\"stroke:#000000; stroke-linecap:round; stroke-linejoin:round; stroke-width:4; stroke-opacity:1; fill:none\" points=\"1499.64,512.27 1475.15,469.84 1450.65,512.27 1499.64,512.27 \"/>\n",
       "<path clip-path=\"url(#clip532)\" d=\"M1401.66 597.129 L1426.15 554.699 L1377.16 554.699 L1401.66 597.129  Z\" fill=\"#ff00ff\" fill-rule=\"evenodd\" fill-opacity=\"1\"/>\n",
       "<polyline clip-path=\"url(#clip532)\" style=\"stroke:#000000; stroke-linecap:round; stroke-linejoin:round; stroke-width:4; stroke-opacity:1; fill:none\" points=\"1401.66,597.129 1426.15,554.699 1377.16,554.699 1401.66,597.129 \"/>\n",
       "<path clip-path=\"url(#clip532)\" d=\"M1352.66 597.129 L1401.66 597.129 L1377.16 554.699 L1352.66 597.129  Z\" fill=\"#ffff00\" fill-rule=\"evenodd\" fill-opacity=\"1\"/>\n",
       "<polyline clip-path=\"url(#clip532)\" style=\"stroke:#000000; stroke-linecap:round; stroke-linejoin:round; stroke-width:4; stroke-opacity:1; fill:none\" points=\"1352.66,597.129 1401.66,597.129 1377.16,554.699 1352.66,597.129 \"/>\n",
       "<path clip-path=\"url(#clip532)\" d=\"M1450.65 597.129 L1426.15 554.699 L1401.66 597.129 L1450.65 597.129  Z\" fill=\"#ffff00\" fill-rule=\"evenodd\" fill-opacity=\"1\"/>\n",
       "<polyline clip-path=\"url(#clip532)\" style=\"stroke:#000000; stroke-linecap:round; stroke-linejoin:round; stroke-width:4; stroke-opacity:1; fill:none\" points=\"1450.65,597.129 1426.15,554.699 1401.66,597.129 1450.65,597.129 \"/>\n",
       "<path clip-path=\"url(#clip532)\" d=\"M1401.66 512.27 L1377.16 554.699 L1426.15 554.699 L1401.66 512.27  Z\" fill=\"#ffff00\" fill-rule=\"evenodd\" fill-opacity=\"1\"/>\n",
       "<polyline clip-path=\"url(#clip532)\" style=\"stroke:#000000; stroke-linecap:round; stroke-linejoin:round; stroke-width:4; stroke-opacity:1; fill:none\" points=\"1401.66,512.27 1377.16,554.699 1426.15,554.699 1401.66,512.27 \"/>\n",
       "<path clip-path=\"url(#clip532)\" d=\"M1524.14 554.699 L1475.15 554.699 L1499.64 597.129 L1524.14 554.699  Z\" fill=\"#ff00ff\" fill-rule=\"evenodd\" fill-opacity=\"1\"/>\n",
       "<polyline clip-path=\"url(#clip532)\" style=\"stroke:#000000; stroke-linecap:round; stroke-linejoin:round; stroke-width:4; stroke-opacity:1; fill:none\" points=\"1524.14,554.699 1475.15,554.699 1499.64,597.129 1524.14,554.699 \"/>\n",
       "<path clip-path=\"url(#clip532)\" d=\"M1548.64 597.129 L1524.14 554.699 L1499.64 597.129 L1548.64 597.129  Z\" fill=\"#ffff00\" fill-rule=\"evenodd\" fill-opacity=\"1\"/>\n",
       "<polyline clip-path=\"url(#clip532)\" style=\"stroke:#000000; stroke-linecap:round; stroke-linejoin:round; stroke-width:4; stroke-opacity:1; fill:none\" points=\"1548.64,597.129 1524.14,554.699 1499.64,597.129 1548.64,597.129 \"/>\n",
       "<path clip-path=\"url(#clip532)\" d=\"M1499.64 512.27 L1475.15 554.699 L1524.14 554.699 L1499.64 512.27  Z\" fill=\"#ffff00\" fill-rule=\"evenodd\" fill-opacity=\"1\"/>\n",
       "<polyline clip-path=\"url(#clip532)\" style=\"stroke:#000000; stroke-linecap:round; stroke-linejoin:round; stroke-width:4; stroke-opacity:1; fill:none\" points=\"1499.64,512.27 1475.15,554.699 1524.14,554.699 1499.64,512.27 \"/>\n",
       "<path clip-path=\"url(#clip532)\" d=\"M1450.65 597.129 L1499.64 597.129 L1475.15 554.699 L1450.65 597.129  Z\" fill=\"#ffff00\" fill-rule=\"evenodd\" fill-opacity=\"1\"/>\n",
       "<polyline clip-path=\"url(#clip532)\" style=\"stroke:#000000; stroke-linecap:round; stroke-linejoin:round; stroke-width:4; stroke-opacity:1; fill:none\" points=\"1450.65,597.129 1499.64,597.129 1475.15,554.699 1450.65,597.129 \"/>\n",
       "<path clip-path=\"url(#clip532)\" d=\"M1352.66 766.846 L1401.66 681.987 L1303.67 681.987 L1352.66 766.846  Z\" fill=\"#ff00ff\" fill-rule=\"evenodd\" fill-opacity=\"1\"/>\n",
       "<polyline clip-path=\"url(#clip532)\" style=\"stroke:#000000; stroke-linecap:round; stroke-linejoin:round; stroke-width:4; stroke-opacity:1; fill:none\" points=\"1352.66,766.846 1401.66,681.987 1303.67,681.987 1352.66,766.846 \"/>\n",
       "<path clip-path=\"url(#clip532)\" d=\"M1303.67 766.846 L1328.17 724.417 L1279.17 724.417 L1303.67 766.846  Z\" fill=\"#ff00ff\" fill-rule=\"evenodd\" fill-opacity=\"1\"/>\n",
       "<polyline clip-path=\"url(#clip532)\" style=\"stroke:#000000; stroke-linecap:round; stroke-linejoin:round; stroke-width:4; stroke-opacity:1; fill:none\" points=\"1303.67,766.846 1328.17,724.417 1279.17,724.417 1303.67,766.846 \"/>\n",
       "<path clip-path=\"url(#clip532)\" d=\"M1254.68 766.846 L1303.67 766.846 L1279.17 724.417 L1254.68 766.846  Z\" fill=\"#ffff00\" fill-rule=\"evenodd\" fill-opacity=\"1\"/>\n",
       "<polyline clip-path=\"url(#clip532)\" style=\"stroke:#000000; stroke-linecap:round; stroke-linejoin:round; stroke-width:4; stroke-opacity:1; fill:none\" points=\"1254.68,766.846 1303.67,766.846 1279.17,724.417 1254.68,766.846 \"/>\n",
       "<path clip-path=\"url(#clip532)\" d=\"M1352.66 766.846 L1328.17 724.417 L1303.67 766.846 L1352.66 766.846  Z\" fill=\"#ffff00\" fill-rule=\"evenodd\" fill-opacity=\"1\"/>\n",
       "<polyline clip-path=\"url(#clip532)\" style=\"stroke:#000000; stroke-linecap:round; stroke-linejoin:round; stroke-width:4; stroke-opacity:1; fill:none\" points=\"1352.66,766.846 1328.17,724.417 1303.67,766.846 1352.66,766.846 \"/>\n",
       "<path clip-path=\"url(#clip532)\" d=\"M1303.67 681.987 L1279.17 724.417 L1328.17 724.417 L1303.67 681.987  Z\" fill=\"#ffff00\" fill-rule=\"evenodd\" fill-opacity=\"1\"/>\n",
       "<polyline clip-path=\"url(#clip532)\" style=\"stroke:#000000; stroke-linecap:round; stroke-linejoin:round; stroke-width:4; stroke-opacity:1; fill:none\" points=\"1303.67,681.987 1279.17,724.417 1328.17,724.417 1303.67,681.987 \"/>\n",
       "<path clip-path=\"url(#clip532)\" d=\"M1426.15 724.417 L1377.16 724.417 L1401.66 766.846 L1426.15 724.417  Z\" fill=\"#ff00ff\" fill-rule=\"evenodd\" fill-opacity=\"1\"/>\n",
       "<polyline clip-path=\"url(#clip532)\" style=\"stroke:#000000; stroke-linecap:round; stroke-linejoin:round; stroke-width:4; stroke-opacity:1; fill:none\" points=\"1426.15,724.417 1377.16,724.417 1401.66,766.846 1426.15,724.417 \"/>\n",
       "<path clip-path=\"url(#clip532)\" d=\"M1450.65 766.846 L1426.15 724.417 L1401.66 766.846 L1450.65 766.846  Z\" fill=\"#ffff00\" fill-rule=\"evenodd\" fill-opacity=\"1\"/>\n",
       "<polyline clip-path=\"url(#clip532)\" style=\"stroke:#000000; stroke-linecap:round; stroke-linejoin:round; stroke-width:4; stroke-opacity:1; fill:none\" points=\"1450.65,766.846 1426.15,724.417 1401.66,766.846 1450.65,766.846 \"/>\n",
       "<path clip-path=\"url(#clip532)\" d=\"M1401.66 681.987 L1377.16 724.417 L1426.15 724.417 L1401.66 681.987  Z\" fill=\"#ffff00\" fill-rule=\"evenodd\" fill-opacity=\"1\"/>\n",
       "<polyline clip-path=\"url(#clip532)\" style=\"stroke:#000000; stroke-linecap:round; stroke-linejoin:round; stroke-width:4; stroke-opacity:1; fill:none\" points=\"1401.66,681.987 1377.16,724.417 1426.15,724.417 1401.66,681.987 \"/>\n",
       "<path clip-path=\"url(#clip532)\" d=\"M1352.66 766.846 L1401.66 766.846 L1377.16 724.417 L1352.66 766.846  Z\" fill=\"#ffff00\" fill-rule=\"evenodd\" fill-opacity=\"1\"/>\n",
       "<polyline clip-path=\"url(#clip532)\" style=\"stroke:#000000; stroke-linecap:round; stroke-linejoin:round; stroke-width:4; stroke-opacity:1; fill:none\" points=\"1352.66,766.846 1401.66,766.846 1377.16,724.417 1352.66,766.846 \"/>\n",
       "<path clip-path=\"url(#clip532)\" d=\"M1328.17 639.558 L1352.66 681.987 L1377.16 639.558 L1328.17 639.558  Z\" fill=\"#ff00ff\" fill-rule=\"evenodd\" fill-opacity=\"1\"/>\n",
       "<polyline clip-path=\"url(#clip532)\" style=\"stroke:#000000; stroke-linecap:round; stroke-linejoin:round; stroke-width:4; stroke-opacity:1; fill:none\" points=\"1328.17,639.558 1352.66,681.987 1377.16,639.558 1328.17,639.558 \"/>\n",
       "<path clip-path=\"url(#clip532)\" d=\"M1352.66 597.129 L1328.17 639.558 L1377.16 639.558 L1352.66 597.129  Z\" fill=\"#ffff00\" fill-rule=\"evenodd\" fill-opacity=\"1\"/>\n",
       "<polyline clip-path=\"url(#clip532)\" style=\"stroke:#000000; stroke-linecap:round; stroke-linejoin:round; stroke-width:4; stroke-opacity:1; fill:none\" points=\"1352.66,597.129 1328.17,639.558 1377.16,639.558 1352.66,597.129 \"/>\n",
       "<path clip-path=\"url(#clip532)\" d=\"M1303.67 681.987 L1352.66 681.987 L1328.17 639.558 L1303.67 681.987  Z\" fill=\"#ffff00\" fill-rule=\"evenodd\" fill-opacity=\"1\"/>\n",
       "<polyline clip-path=\"url(#clip532)\" style=\"stroke:#000000; stroke-linecap:round; stroke-linejoin:round; stroke-width:4; stroke-opacity:1; fill:none\" points=\"1303.67,681.987 1352.66,681.987 1328.17,639.558 1303.67,681.987 \"/>\n",
       "<path clip-path=\"url(#clip532)\" d=\"M1401.66 681.987 L1377.16 639.558 L1352.66 681.987 L1401.66 681.987  Z\" fill=\"#ffff00\" fill-rule=\"evenodd\" fill-opacity=\"1\"/>\n",
       "<polyline clip-path=\"url(#clip532)\" style=\"stroke:#000000; stroke-linecap:round; stroke-linejoin:round; stroke-width:4; stroke-opacity:1; fill:none\" points=\"1401.66,681.987 1377.16,639.558 1352.66,681.987 1401.66,681.987 \"/>\n",
       "</svg>\n"
      ],
      "text/html": [
       "<img src=\"data:image/png;base64,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\" />"
      ]
     },
     "execution_count": 12,
     "metadata": {},
     "output_type": "execute_result"
    }
   ],
   "source": [
    "\n",
    "# Define the vertices of the initial equilateral triangle.\n",
    "x_coords = [0.0, 1.0, 0.5]\n",
    "y_coords = [0.0, 0.0, sqrt(3)/2]\n",
    "\n",
    "# Initialize a blank plot with settings for a clean look.\n",
    "my_plot = plot(aspect_ratio=:equal, legend=false)\n",
    "\n",
    "# Start the recursion to populate the plot object.\n",
    "# You can change the recursion level here!\n",
    "drawTriangle!(my_plot, x_coords, y_coords, 5)\n",
    "\n",
    "# Display the final plot.\n",
    "my_plot"
   ]
  },
  {
   "attachments": {},
   "cell_type": "markdown",
   "metadata": {
    "slideshow": {
     "slide_type": "slide"
    }
   },
   "source": [
    "## A Classic Recursive Algorithm: Merge Sort\n",
    "\n",
    "Merge sort is a highly efficient sorting algorithm and a perfect example of a **Divide and Conquer** strategy. It works in three steps:\n",
    "1.  **Divide**: Break the unsorted array into two halves.\n",
    "2.  **Conquer**: Recursively call merge sort on each half until you have arrays of size 1 (which are inherently sorted).\n",
    "3.  **Combine**: Merge the two sorted halves back into one sorted array.\n",
    "\n",
    "The method is illustrated below, for a simple test case with 7 elements:\n",
    "\n",
    "<img src=\"merge_sort.png\" width=\"50%\">\n",
    "\n",
    "*(Image from Wikipedia: https://en.wikipedia.org/wiki/Merge_sort)*"
   ]
  },
  {
   "cell_type": "markdown",
   "metadata": {
    "slideshow": {
     "slide_type": "subslide"
    }
   },
   "source": [
    "The core of the algorithm is the \"Combine\" step. We'll implement this in a helper function, `mergeLR!`, which takes two *already sorted* arrays (`L` and `R`) and merges them into a single sorted array `x`."
   ]
  },
  {
   "cell_type": "code",
   "execution_count": 13,
   "metadata": {
    "slideshow": {
     "slide_type": "fragment"
    }
   },
   "outputs": [
    {
     "data": {
      "text/plain": [
       "mergeLR! (generic function with 1 method)"
      ]
     },
     "execution_count": 13,
     "metadata": {},
     "output_type": "execute_result"
    }
   ],
   "source": [
    "function mergeLR!(L, R, x)\n",
    "    # i, j, and k are pointers for the left array, right array, and main array, respectively.\n",
    "    i = j = k = 1\n",
    "        \n",
    "    # Walk through both halves, picking the smaller element to place into x.\n",
    "    while i <= length(L) && j <= length(R)\n",
    "        if L[i] < R[j]\n",
    "            x[k] = L[i]\n",
    "            i += 1\n",
    "        else\n",
    "            x[k] = R[j]\n",
    "            j += 1\n",
    "        end\n",
    "        k += 1\n",
    "    end\n",
    "\n",
    "    # If one half runs out of elements first, copy the rest of the other half over.\n",
    "    while i <= length(L)\n",
    "        x[k] = L[i]\n",
    "        i += 1\n",
    "        k += 1\n",
    "    end\n",
    "    while j <= length(R)\n",
    "        x[k] = R[j]\n",
    "        j += 1\n",
    "        k += 1\n",
    "    end\n",
    "end"
   ]
  },
  {
   "cell_type": "markdown",
   "metadata": {
    "slideshow": {
     "slide_type": "subslide"
    }
   },
   "source": [
    "Now we can write the main `mergesort!` function. It will recursively split the array until the sub-arrays have only one element, then use `mergeLR!` to combine them on the way back up the call stack."
   ]
  },
  {
   "cell_type": "code",
   "execution_count": 14,
   "metadata": {
    "slideshow": {
     "slide_type": "fragment"
    }
   },
   "outputs": [
    {
     "data": {
      "text/plain": [
       "mergesort! (generic function with 1 method)"
      ]
     },
     "execution_count": 14,
     "metadata": {},
     "output_type": "execute_result"
    }
   ],
   "source": [
    "function mergesort!(x)\n",
    "    # Base case: An array with 0 or 1 elements is already sorted.\n",
    "    if length(x) <= 1\n",
    "        return x\n",
    "    else\n",
    "        # DIVIDE: Find the middle of the array.\n",
    "        mid = length(x) ÷ 2\n",
    "        L = x[1:mid]\n",
    "        R = x[mid+1:end]\n",
    "\n",
    "        # CONQUER: Recursively sort both halves.\n",
    "        mergesort!(L)\n",
    "        mergesort!(R)\n",
    "        \n",
    "        # COMBINE: Merge the two sorted halves back into the original array reference.\n",
    "        mergeLR!(L, R, x)\n",
    "    end\n",
    "end"
   ]
  },
  {
   "cell_type": "code",
   "execution_count": 15,
   "metadata": {
    "slideshow": {
     "slide_type": "subslide"
    }
   },
   "outputs": [
    {
     "name": "stdout",
     "output_type": "stream",
     "text": [
      "Unsorted: [9, 89, 66, 82, 96, 45, 29, 69, 62, 80]\n",
      "Sorted:   [9, 29, 45, 62, 66, 69, 80, 82, 89, 96]\n"
     ]
    }
   ],
   "source": [
    "# Example: Sort an array of 10 random integers.\n",
    "x = rand(1:100, 10)\n",
    "println(\"Unsorted: \", x)\n",
    "mergesort!(x)\n",
    "println(\"Sorted:   \", x)"
   ]
  },
  {
   "cell_type": "markdown",
   "metadata": {
    "slideshow": {
     "slide_type": "subslide"
    }
   },
   "source": [
    "Merge sort has a time complexity of $O(n \\log n)$, which is very efficient for large datasets. This means that if you double the number of items, the time taken doesn't double, but grows slightly faster. Let's verify this behavior roughly with the `@time` macro."
   ]
  },
  {
   "cell_type": "code",
   "execution_count": 16,
   "metadata": {
    "slideshow": {
     "slide_type": "fragment"
    }
   },
   "outputs": [
    {
     "name": "stdout",
     "output_type": "stream",
     "text": [
      "n = 1000: \t  0.000081 seconds (4.00 k allocations: 194.953 KiB)\n",
      "n = 10000: \t  0.000801 seconds (40.06 k allocations: 2.140 MiB)\n",
      "n = 100000: \t  0.016266 seconds (400.51 k allocations: 23.986 MiB, 36.10% gc time)\n",
      "n = 1000000: \t  0.222138 seconds (4.00 M allocations: 266.106 MiB, 46.72% gc time)\n",
      "n = 10000000: \t  1.865873 seconds (40.07 M allocations: 2.830 GiB, 26.83% gc time)\n"
     ]
    }
   ],
   "source": [
    "# Run once on a small array to force JIT (Just-In-Time) compilation.\n",
    "mergesort!(randn(1))\n",
    "\n",
    "for n in Int64[1e3, 1e4, 1e5, 1e6, 1e7]\n",
    "    x = rand(n) # Random floating point numbers\n",
    "    print(\"n = \", n, \": \\t\")\n",
    "    @time mergesort!(x)\n",
    "end"
   ]
  },
  {
   "cell_type": "markdown",
   "metadata": {
    "slideshow": {
     "slide_type": "fragment"
    }
   },
   "source": [
    "As $n$ increases by a factor of 10, notice how the execution time increases by a factor slightly more than 10. This is consistent with the predicted $n \\log n$ behavior, where the $\\log n$ term adds that slightly-more-than-linear growth."
   ]
  },
  {
   "cell_type": "markdown",
   "metadata": {},
   "source": [
    "## Tracing Recursion by Capturing Intermediate Values\n",
    "\n",
    "Sometimes, it's useful to track the sequence of return values from a recursive function. A great way to do this is with a *wrapper function* that manages a storage container, like an array.\n",
    "\n",
    "Let's explore this with the quirky **McCarthy 91 function**:\n",
    "\n",
    "$$\n",
    "M(n) = \n",
    "\\begin{cases}\n",
    "n-10, & \\text{if } n > 100 \\\\\n",
    "M(M(n+11)), & \\text{if } n \\le 100\n",
    "\\end{cases}\n",
    "$$\n",
    "\n",
    "We'll define an outer function `Mvalues(n)` that initializes an empty array. Inside it, we'll define the recursive function `M(n)`. This inner function will be able to see and modify the array from the outer function's scope (this is called a *closure*). Each time `M(n)` returns, we'll save its result."
   ]
  },
  {
   "cell_type": "code",
   "execution_count": 17,
   "metadata": {},
   "outputs": [
    {
     "data": {
      "text/plain": [
       "Mvalues (generic function with 1 method)"
      ]
     },
     "execution_count": 17,
     "metadata": {},
     "output_type": "execute_result"
    }
   ],
   "source": [
    "function Mvalues(n)\n",
    "    # 1. Initialize an array in the outer function's scope.\n",
    "    returned_values = Int64[]\n",
    "\n",
    "    # 2. Define the recursive function internally.\n",
    "    # It automatically has access to 'returned_values'.\n",
    "    function M(n)\n",
    "        if n > 100\n",
    "            retval = n - 10\n",
    "        else\n",
    "            retval = M(M(n + 11))\n",
    "        end\n",
    "        \n",
    "        # 3. Before returning, push the result to the captured array.\n",
    "        push!(returned_values, retval)\n",
    "        return retval\n",
    "    end\n",
    "\n",
    "    # 4. Kick off the recursion.\n",
    "    M(n)\n",
    "    \n",
    "    # 5. Return the populated list of values.\n",
    "    return returned_values\n",
    "end"
   ]
  },
  {
   "cell_type": "code",
   "execution_count": 18,
   "metadata": {},
   "outputs": [
    {
     "data": {
      "text/plain": [
       "1-element Vector{Int64}:\n",
       " 95"
      ]
     },
     "execution_count": 18,
     "metadata": {},
     "output_type": "execute_result"
    }
   ],
   "source": [
    "# The base case is hit immediately: M(105) = 95.\n",
    "Mvalues(105)"
   ]
  },
  {
   "cell_type": "code",
   "execution_count": 19,
   "metadata": {},
   "outputs": [
    {
     "data": {
      "text/plain": [
       "9-element Vector{Int64}:\n",
       "  98\n",
       "  99\n",
       " 100\n",
       " 101\n",
       "  91\n",
       "  91\n",
       "  91\n",
       "  91\n",
       "  91"
      ]
     },
     "execution_count": 19,
     "metadata": {},
     "output_type": "execute_result"
    }
   ],
   "source": [
    "# A more complex case. The final result is 91, but what was the path to get there?\n",
    "# The output shows the sequence of returned values, from the innermost call outwards.\n",
    "Mvalues(97)"
   ]
  }
 ],
 "metadata": {
  "kernelspec": {
   "display_name": "Julia 1.11.5",
   "language": "julia",
   "name": "julia-1.11"
  },
  "language_info": {
   "file_extension": ".jl",
   "mimetype": "application/julia",
   "name": "julia",
   "version": "1.11.5"
  }
 },
 "nbformat": 4,
 "nbformat_minor": 4
}
